{
 "cells": [
  {
   "cell_type": "code",
   "execution_count": 1,
   "metadata": {},
   "outputs": [],
   "source": [
    "import csv\n",
    "import sys\n",
    "from pytorch_transformers import BertTokenizer\n",
    "from multiprocessing import Pool\n",
    "from tqdm import tqdm_notebook as tqdm\n",
    "\n",
    "UNK = \"[UNK]\"\n",
    "BOS = \"[CLS]\"\n",
    "EOS = \"[SEP]\"\n",
    "PAD = \"[PAD]\"\n",
    "\n",
    "_tokenizer = BertTokenizer.from_pretrained('bert-base-uncased', do_lower_case=True)\n",
    "def subtask(s):\n",
    "    ts = [BOS] + _tokenizer.tokenize(s) + [EOS]\n",
    "    idxs = _tokenizer.convert_tokens_to_ids(ts)\n",
    "    return idxs\n",
    "\n",
    "class Processor:\n",
    "    def __init__(self, name, threads):\n",
    "        lines = self.readcsv(name)\n",
    "        # 0, 6, 8, 9\n",
    "        #self.id = [] \n",
    "        self.score = []\n",
    "        self.summary = []\n",
    "        self.text = []\n",
    "        #self.data = []\n",
    "        self.n_worker = threads\n",
    "        \n",
    "        for d in lines[1:]:\n",
    "            self.score.append(int(d[6]) > 3) # convert to 0/1\n",
    "            self.summary.append(d[8])\n",
    "            self.text.append(d[9].strip(\"\\\"\"))\n",
    "        self.size = len(self.text)   \n",
    "    \n",
    "    def convert_all_to_ids(self):\n",
    "        if self.n_worker > 1:\n",
    "            with Pool(self.n_worker) as p:\n",
    "                chunksize = 100\n",
    "                sumseqs = list(tqdm(p.imap(subtask, self.summary, chunksize=chunksize), total=self.size))\n",
    "        else:\n",
    "            sumseqs = [subtask(s) for s in tqdm(self.summary)]\n",
    "        if self.n_worker > 1:\n",
    "            with Pool(self.n_worker) as p:\n",
    "                chunksize = 100\n",
    "                tseqs = list(tqdm(p.imap(subtask, self.text, chunksize=chunksize), total=self.size))\n",
    "        else:\n",
    "            tseqs = [subtask(s) for s in tqdm(self.text)]\n",
    "        self.textseqs = tseqs\n",
    "        self.sumseqs = sumseqs\n",
    "        \n",
    "    def __len__(self):\n",
    "        return self.size\n",
    "    \n",
    "    @staticmethod\n",
    "    def readcsv(input_file, quotechar=\"\\\"\"):\n",
    "        \"\"\"Reads a comma separated value file.\"\"\"\n",
    "        with open(input_file, \"r\", encoding=\"utf-8\") as f:\n",
    "            reader = csv.reader(f, delimiter=\",\", quotechar=quotechar)\n",
    "            lines = []\n",
    "            for line in reader:\n",
    "                if sys.version_info[0] == 2:\n",
    "                    line = list(unicode(cell, 'utf-8') for cell in line)\n",
    "                lines.append(line)\n",
    "            return lines"
   ]
  },
  {
   "cell_type": "code",
   "execution_count": 2,
   "metadata": {},
   "outputs": [],
   "source": [
    "p = Processor(\"data/Reviews.csv\", threads=12)"
   ]
  },
  {
   "cell_type": "code",
   "execution_count": null,
   "metadata": {},
   "outputs": [],
   "source": [
    "p.convert_all_to_ids()"
   ]
  },
  {
   "cell_type": "code",
   "execution_count": 6,
   "metadata": {},
   "outputs": [
    {
     "data": {
      "image/png": "[encoded data removed]",
      "text/plain": [
       "<Figure size 432x288 with 1 Axes>"
      ]
     },
     "metadata": {
      "needs_background": "light"
     },
     "output_type": "display_data"
    }
   ],
   "source": [
    "from matplotlib import pyplot as plt\n",
    "lplot = [len(s) for s in p.textseqs]\n",
    "plt.hist(lplot, bins=50)\n",
    "plt.show()"
   ]
  },
  {
   "cell_type": "code",
   "execution_count": 8,
   "metadata": {
    "scrolled": true
   },
   "outputs": [
    {
     "name": "stdout",
     "output_type": "stream",
     "text": [
      "108.63102027604697 112.60247091866304\n"
     ]
    }
   ],
   "source": [
    "import numpy as np\n",
    "mean = np.mean(lplot)\n",
    "std = np.std(lplot)\n",
    "print(mean,std) "
   ]
  },
  {
   "cell_type": "code",
   "execution_count": 10,
   "metadata": {},
   "outputs": [],
   "source": [
    "import json\n",
    "seqdata = {\"text\":p.textseqs, \"summary\":p.sumseqs, \"score\":p.score}\n",
    "json.dump(seqdata, open(\"data.json\", 'w'))"
   ]
  },
  {
   "cell_type": "code",
   "execution_count": 11,
   "metadata": {},
   "outputs": [],
   "source": [
    "json.dump(_tokenizer.vocab, open(\"vocab.json\", \"w\"))"
   ]
  },
  {
   "cell_type": "code",
   "execution_count": 12,
   "metadata": {},
   "outputs": [
    {
     "data": {
      "text/plain": [
       "30522"
      ]
     },
     "execution_count": 12,
     "metadata": {},
     "output_type": "execute_result"
    }
   ],
   "source": [
    "len(_tokenizer.vocab)"
   ]
  },
  {
   "cell_type": "code",
   "execution_count": null,
   "metadata": {},
   "outputs": [],
   "source": []
  }
 ],
 "metadata": {
  "kernelspec": {
   "display_name": "Python 3",
   "language": "python",
   "name": "python3"
  },
  "language_info": {
   "codemirror_mode": {
    "name": "ipython",
    "version": 3
   },
   "file_extension": ".py",
   "mimetype": "text/x-python",
   "name": "python",
   "nbconvert_exporter": "python",
   "pygments_lexer": "ipython3",
   "version": "3.7.2"
  }
 },
 "nbformat": 4,
 "nbformat_minor": 2
}
