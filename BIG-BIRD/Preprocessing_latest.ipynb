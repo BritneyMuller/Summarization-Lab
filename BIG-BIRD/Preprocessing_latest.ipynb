{
 "cells": [
  {
   "cell_type": "markdown",
   "metadata": {},
   "source": [
    "## Preprocessing version 3\n",
    "### Details\n",
    "this version \n",
    "- uses all data\n",
    "- has validation split\n",
    "- uses pretrained embedding"
   ]
  },
  {
   "cell_type": "code",
   "execution_count": 1,
   "metadata": {},
   "outputs": [],
   "source": [
    "import csv\n",
    "import sys\n",
    "from multiprocessing import Pool\n",
    "from tqdm import tqdm_notebook as tqdm\n",
    "import json\n",
    "import os\n",
    "import blingfire\n",
    "from joblib import Parallel, delayed\n",
    "\n",
    "UNK = \"[UNK]\"\n",
    "BOS = \"[CLS]\"\n",
    "EOS = \"[SEP]\"\n",
    "PAD = \"[PAD]\"\n",
    "\n",
    "def tokenize(s, omit=[]):\n",
    "    s = s.lower()\n",
    "    for t in omit:\n",
    "        s = s.replace(t, '')\n",
    "    ts = [BOS] + blingfire.text_to_words(s).split() + [EOS]\n",
    "    return ts\n",
    "def tokenize_add_vocab(sents, vocab, omit=[]):\n",
    "    sent_toks = []\n",
    "    for s in tqdm(sents):\n",
    "        toks = tokenize(s, omit)\n",
    "        for t in toks:\n",
    "            vocab[t] = vocab.get(t, 0) + 1\n",
    "        sent_toks.append(toks)\n",
    "    return sent_toks\n",
    "def tokens_to_ids(tokens, vocab):    \n",
    "    return [vocab.get(t, vocab[UNK]) for t in tokens]\n",
    "\n",
    "class Processor:\n",
    "    def __init__(self, threads):\n",
    "        self.score = []\n",
    "        self.summary = []\n",
    "        self.text = []\n",
    "        self.omit = [\"<br />\"]\n",
    "        self.n_worker = threads        \n",
    "        self.size = 0\n",
    "\n",
    "    def make_vocab_and_ids(self, cutoff, verbose=True):\n",
    "        vocab = {UNK:99999, PAD:99999}\n",
    "        summary_tok = tokenize_add_vocab(self.summary, vocab, self.omit)\n",
    "        if verbose:\n",
    "            print(\"sum tok done\")\n",
    "        text_tok = tokenize_add_vocab(self.text, vocab, self.omit)\n",
    "        if verbose:\n",
    "            print(\"text tok done\")\n",
    "            print(\"original vocab\", len(vocab))\n",
    "        vocab = sorted(vocab.items(), key=lambda x: -x[1])[:cutoff]\n",
    "        vocab = {a:i for i,(a,b) in enumerate(vocab)}\n",
    "        self.vocab = vocab\n",
    "        \n",
    "        summary_gen = tqdm(summary_tok)\n",
    "        text_gen = tqdm(text_tok)\n",
    "        \n",
    "        if self.n_worker < 2:\n",
    "            self.summary_ids = [tokens_to_ids(t, vocab) for t in summary_gen]\n",
    "            self.text_ids = [tokens_to_ids(t, vocab) for t in text_gen]\n",
    "        else:\n",
    "            #with Pool(self.n_worker) as p:\n",
    "            #    chunksize = 100                \n",
    "                #self.summary_ids = list(p.imap(tokens_to_ids, summary_gen))\n",
    "                #self.text_ids = list(p.imap(tokens_to_ids, text_gen))\n",
    "            self.summary_ids = Parallel(n_jobs=self.n_worker, backend='multiprocessing')(delayed(tokens_to_ids)(tokens, vocab) for tokens in summary_gen)\n",
    "            self.text_ids = Parallel(n_jobs=self.n_worker, backend='multiprocessing')(delayed(tokens_to_ids)(tokens, vocab) for tokens in text_gen)\n",
    "            \n",
    "        if verbose:\n",
    "            print(\"vocab and id done\")\n",
    "        \n",
    "    def __len__(self):\n",
    "        return self.size\n",
    "    \n",
    "    def dump(self, name, vocabname):\n",
    "        seqdata = {\"text\":self.text_ids, \"summary\":self.summary_ids, \"score\":self.score}\n",
    "        json.dump(seqdata, open(name, 'w'))\n",
    "        if vocabname is not None:\n",
    "            json.dump(self.vocab, open(vocabname, 'w'))\n",
    "    \n",
    "    @staticmethod\n",
    "    def readcsv(input_file, quotechar=\"\\\"\"):\n",
    "        \"\"\"Reads a comma separated value file.\"\"\"\n",
    "        with open(input_file, \"r\", encoding=\"utf-8\") as f:\n",
    "            reader = csv.reader(f, delimiter=\",\", quotechar=quotechar)\n",
    "            lines = []\n",
    "            for line in reader:\n",
    "                if sys.version_info[0] == 2:\n",
    "                    line = list(unicode(cell, 'utf-8') for cell in line)\n",
    "                lines.append(line)\n",
    "            return lines\n",
    "        \n",
    "class FoodProcessor(Processor):\n",
    "     def __init__(self, name, threads):\n",
    "        super(FoodProcessor, self).__init__(threads)\n",
    "        lines = self.readcsv(name)\n",
    "\n",
    "        for d in lines[1:]:\n",
    "            #self.score.append(int(d[6]) > 3) # convert to 0/1\n",
    "            self.score.append(int(d[6])-1)\n",
    "            self.summary.append(d[9].strip(\"\\\"\"))\n",
    "            self.text.append(d[9].strip(\"\\\"\"))\n",
    "        self.size = len(self.text)   \n",
    "            \n",
    "class IMDBProcessor(Processor):\n",
    "    def __init__(self, dirname, threads):\n",
    "        super(IMDBProcessor, self).__init__(threads)\n",
    "        \n",
    "        posdir = os.path.join(dirname, 'pos')\n",
    "        negdir = os.path.join(dirname, 'neg')\n",
    "        \n",
    "        self.score = []\n",
    "        self.text = []\n",
    "        self.summary = []\n",
    "        self.omit = [\"<br />\"]\n",
    "        \n",
    "        for lb,subdir in enumerate(['neg','pos']):\n",
    "            subdir = os.path.join(dirname, subdir)\n",
    "            for entry in os.listdir(subdir):\n",
    "                fname = os.path.join(subdir, entry)\n",
    "                with open(fname, 'r') as f:\n",
    "                    t = f.read().strip()\n",
    "                self.score.append(lb)\n",
    "                self.text.append(t)\n",
    "                self.summary.append(t)\n",
    "        \n",
    "        self.size = len(self.text)\n",
    "            \n",
    "class BBCProcessor(Processor):\n",
    "     def __init__(self, name, threads):\n",
    "        super().__init__(threads)\n",
    "        lines = self.readcsv(name)\n",
    "        labeldict = {}\n",
    "        for lb, txt in lines[1:]:\n",
    "            labeldict[lb] = labeldict.get(lb, len(labeldict))\n",
    "            self.score.append(labeldict[lb]) # convert to 0/1\n",
    "            self.summary.append(txt)\n",
    "            self.text.append(txt)\n",
    "        self.size = len(self.text)   "
   ]
  },
  {
   "cell_type": "code",
   "execution_count": 2,
   "metadata": {},
   "outputs": [],
   "source": [
    "# take a break"
   ]
  },
  {
   "cell_type": "code",
   "execution_count": 3,
   "metadata": {},
   "outputs": [],
   "source": [
    "#p = IMDBProcessor(\"data/aclImdb/train\", 1)\n",
    "p = FoodProcessor(\"/tmp2/Food/Reviews.csv\", 1)"
   ]
  },
  {
   "cell_type": "code",
   "execution_count": 4,
   "metadata": {},
   "outputs": [
    {
     "data": {
      "application/vnd.jupyter.widget-view+json": {
       "model_id": "b806b4be2b3a497d87342a40dafc364f",
       "version_major": 2,
       "version_minor": 0
      },
      "text/plain": [
       "HBox(children=(IntProgress(value=0, max=568454), HTML(value='')))"
      ]
     },
     "metadata": {},
     "output_type": "display_data"
    },
    {
     "name": "stdout",
     "output_type": "stream",
     "text": [
      "\n",
      "sum tok done\n"
     ]
    },
    {
     "data": {
      "application/vnd.jupyter.widget-view+json": {
       "model_id": "a8cbadf9d2a04a13a7b8e4e1046b3de1",
       "version_major": 2,
       "version_minor": 0
      },
      "text/plain": [
       "HBox(children=(IntProgress(value=0, max=568454), HTML(value='')))"
      ]
     },
     "metadata": {},
     "output_type": "display_data"
    },
    {
     "name": "stdout",
     "output_type": "stream",
     "text": [
      "\n",
      "text tok done\n",
      "original vocab 149373\n"
     ]
    },
    {
     "data": {
      "application/vnd.jupyter.widget-view+json": {
       "model_id": "6b858c0b4243468d88c50d92787e03e4",
       "version_major": 2,
       "version_minor": 0
      },
      "text/plain": [
       "HBox(children=(IntProgress(value=0, max=568454), HTML(value='')))"
      ]
     },
     "metadata": {},
     "output_type": "display_data"
    },
    {
     "data": {
      "application/vnd.jupyter.widget-view+json": {
       "model_id": "883b736309f44b4fbd40dc40adf1092e",
       "version_major": 2,
       "version_minor": 0
      },
      "text/plain": [
       "HBox(children=(IntProgress(value=0, max=568454), HTML(value='')))"
      ]
     },
     "metadata": {},
     "output_type": "display_data"
    },
    {
     "name": "stdout",
     "output_type": "stream",
     "text": [
      "vocab and id done\n"
     ]
    }
   ],
   "source": [
    "p.make_vocab_and_ids(cutoff=100000)"
   ]
  },
  {
   "cell_type": "code",
   "execution_count": 5,
   "metadata": {},
   "outputs": [],
   "source": [
    "#p.dump(\"data/IMDB/data.json\", \"data/IMDB/vocab.json\")\n",
    "p.dump(\"/tmp2/Food/data.json\", \"/tmp2/Food/vocab.json\")"
   ]
  },
  {
   "cell_type": "code",
   "execution_count": 6,
   "metadata": {},
   "outputs": [
    {
     "name": "stdout",
     "output_type": "stream",
     "text": [
      "['[CLS]', 'i', 'have', 'to', 'admit', ',', 'i', 'was', 'a', 'sucker', 'for', 'the', 'large', 'quantity', ',', '12', 'oz', ',', 'when', 'shopping', 'for', 'hot', 'sauces', '.', '.', '.but', 'now', 'seeing', 'the', 'size', 'of', 'the', 'bottle', ',', 'it', 'reminds', 'of', 'wing', '-', 'sauce', 'bottle', 'sizes', '.', 'plastic', 'bottle', '.', 'it', 'does', 'have', 'a', 'convenient', 'squirt', 'top', '.', 'but', 'overall', ',', 'not', 'very', 'hot', 'or', 'tasty', ',', 'and', 'made', 'mostly', 'from', 'jalape&ntilde', ';', 'os', '.', 'if', 'i', 'had', 'seen', 'the', 'ingredients', 'list', 'i', 'would', 'not', 'have', 'bought', 'it', ':', 'jalapenoswatervinegarbrown', 'sugarlime', 'juicefish', 'saucecilantrohabanerogarlicspice', 'blendsaltpotassium', 'sorbatexanthan', 'gum', '[SEP]']\n"
     ]
    }
   ],
   "source": [
    "index = 999\n",
    "vocab_inv = {a:b for b,a in p.vocab.items()}\n",
    "\n",
    "print([vocab_inv[i] for i in p.text_ids[index]])"
   ]
  },
  {
   "cell_type": "code",
   "execution_count": 7,
   "metadata": {},
   "outputs": [
    {
     "data": {
      "text/plain": [
       "(array([3.49468e+05, 1.42566e+05, 4.42840e+04, 1.64700e+04, 7.25800e+03,\n",
       "        3.50400e+03, 1.92500e+03, 1.08300e+03, 5.57000e+02, 3.51000e+02,\n",
       "        2.14000e+02, 1.77000e+02, 2.82000e+02, 7.40000e+01, 4.40000e+01,\n",
       "        3.00000e+01, 3.80000e+01, 2.90000e+01, 2.30000e+01, 1.50000e+01,\n",
       "        1.10000e+01, 1.20000e+01, 1.10000e+01, 9.00000e+00, 2.00000e+00,\n",
       "        5.00000e+00, 3.00000e+00, 1.00000e+00, 0.00000e+00, 0.00000e+00,\n",
       "        4.00000e+00, 0.00000e+00, 0.00000e+00, 0.00000e+00, 0.00000e+00,\n",
       "        0.00000e+00, 0.00000e+00, 0.00000e+00, 0.00000e+00, 0.00000e+00,\n",
       "        0.00000e+00, 0.00000e+00, 0.00000e+00, 0.00000e+00, 0.00000e+00,\n",
       "        0.00000e+00, 1.00000e+00, 0.00000e+00, 0.00000e+00, 3.00000e+00]),\n",
       " array([   5. ,   85.4,  165.8,  246.2,  326.6,  407. ,  487.4,  567.8,\n",
       "         648.2,  728.6,  809. ,  889.4,  969.8, 1050.2, 1130.6, 1211. ,\n",
       "        1291.4, 1371.8, 1452.2, 1532.6, 1613. , 1693.4, 1773.8, 1854.2,\n",
       "        1934.6, 2015. , 2095.4, 2175.8, 2256.2, 2336.6, 2417. , 2497.4,\n",
       "        2577.8, 2658.2, 2738.6, 2819. , 2899.4, 2979.8, 3060.2, 3140.6,\n",
       "        3221. , 3301.4, 3381.8, 3462.2, 3542.6, 3623. , 3703.4, 3783.8,\n",
       "        3864.2, 3944.6, 4025. ]),\n",
       " <a list of 50 Patch objects>)"
      ]
     },
     "execution_count": 7,
     "metadata": {},
     "output_type": "execute_result"
    }
   ],
   "source": [
    "lens = [len(x) for x in p.text_ids]\n",
    "import matplotlib.pyplot as plt\n",
    "plt.hist(lens, bins=50)"
   ]
  },
  {
   "cell_type": "code",
   "execution_count": 8,
   "metadata": {},
   "outputs": [
    {
     "name": "stdout",
     "output_type": "stream",
     "text": [
      "96.33421701668033 94.46542534643673\n"
     ]
    }
   ],
   "source": [
    "import numpy as np\n",
    "print(np.mean(lens), np.std(lens))"
   ]
  },
  {
   "cell_type": "code",
   "execution_count": null,
   "metadata": {},
   "outputs": [],
   "source": []
  }
 ],
 "metadata": {
  "kernelspec": {
   "display_name": "Python 3",
   "language": "python",
   "name": "python3"
  },
  "language_info": {
   "codemirror_mode": {
    "name": "ipython",
    "version": 3
   },
   "file_extension": ".py",
   "mimetype": "text/x-python",
   "name": "python",
   "nbconvert_exporter": "python",
   "pygments_lexer": "ipython3",
   "version": "3.7.4"
  }
 },
 "nbformat": 4,
 "nbformat_minor": 2
}
