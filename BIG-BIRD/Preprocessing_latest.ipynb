{
 "cells": [
  {
   "cell_type": "markdown",
   "metadata": {},
   "source": [
    "## Preprocessing version 3\n",
    "### Details\n",
    "this version \n",
    "- uses all data\n",
    "- has validation split\n",
    "- uses pretrained embedding"
   ]
  },
  {
   "cell_type": "code",
   "execution_count": 1,
   "metadata": {},
   "outputs": [],
   "source": [
    "import csv\n",
    "import sys\n",
    "from multiprocessing import Pool\n",
    "from tqdm import tqdm_notebook as tqdm\n",
    "import json\n",
    "import os\n",
    "import blingfire\n",
    "from joblib import Parallel, delayed\n",
    "\n",
    "UNK = \"[UNK]\"\n",
    "BOS = \"[CLS]\"\n",
    "EOS = \"[SEP]\"\n",
    "PAD = \"[PAD]\"\n",
    "\n",
    "def tokenize(s, omit=[]):\n",
    "    s = s.lower()\n",
    "    for t in omit:\n",
    "        s = s.replace(t, '')\n",
    "    ts = [BOS] + blingfire.text_to_words(s).split() + [EOS]\n",
    "    return ts\n",
    "def tokenize_add_vocab(sents, vocab, omit=[]):\n",
    "    sent_toks = []\n",
    "    for s in sents:\n",
    "        toks = tokenize(s, omit)\n",
    "        for t in toks:\n",
    "            vocab[t] = vocab.get(t, 0) + 1\n",
    "        sent_toks.append(toks)\n",
    "    return sent_toks\n",
    "def tokens_to_ids(tokens, vocab):    \n",
    "    return [vocab.get(t, vocab[UNK]) for t in tokens]\n",
    "\n",
    "class Processor:\n",
    "    def __init__(self, threads):\n",
    "        self.score = []\n",
    "        self.summary = []\n",
    "        self.text = []\n",
    "        self.n_worker = threads        \n",
    "        self.size = 0\n",
    "\n",
    "    def make_vocab_and_ids(self, cutoff, verbose=True):\n",
    "        vocab = {UNK:99999, PAD:99999}\n",
    "        summary_tok = tokenize_add_vocab(self.summary, vocab, self.omit)\n",
    "        if verbose:\n",
    "            print(\"sum tok done\")\n",
    "        text_tok = tokenize_add_vocab(self.text, vocab, self.omit)\n",
    "        if verbose:\n",
    "            print(\"text tok done\")\n",
    "        vocab = sorted(vocab.items(), key=lambda x: -x[1])[:cutoff]\n",
    "        vocab = {a:i for i,(a,b) in enumerate(vocab)}\n",
    "        self.vocab = vocab\n",
    "        \n",
    "        summary_gen = tqdm(summary_tok)\n",
    "        text_gen = tqdm(text_tok)\n",
    "        \n",
    "        if self.n_worker < 2:\n",
    "            self.summary_ids = [tokens_to_ids(t, vocab) for t in summary_gen]\n",
    "            self.text_ids = [tokens_to_ids(t, vocab) for t in text_gen]\n",
    "        else:\n",
    "            #with Pool(self.n_worker) as p:\n",
    "            #    chunksize = 100                \n",
    "                #self.summary_ids = list(p.imap(tokens_to_ids, summary_gen))\n",
    "                #self.text_ids = list(p.imap(tokens_to_ids, text_gen))\n",
    "            self.summary_ids = Parallel(n_jobs=self.n_worker, backend='multiprocessing')(delayed(tokens_to_ids)(tokens, vocab) for tokens in summary_gen)\n",
    "            self.text_ids = Parallel(n_jobs=self.n_worker, backend='multiprocessing')(delayed(tokens_to_ids)(tokens, vocab) for tokens in text_gen)\n",
    "            \n",
    "        if verbose:\n",
    "            print(\"vocab and id done\")\n",
    "        \n",
    "    def __len__(self):\n",
    "        return self.size\n",
    "    \n",
    "    def dump(self, name, vocabname):\n",
    "        seqdata = {\"text\":self.text_ids, \"summary\":self.summary_ids, \"score\":self.score}\n",
    "        json.dump(seqdata, open(name, 'w'))\n",
    "        if vocabname is not None:\n",
    "            json.dump(self.vocab, open(vocabname, 'w'))\n",
    "    \n",
    "    @staticmethod\n",
    "    def readcsv(input_file, quotechar=\"\\\"\"):\n",
    "        \"\"\"Reads a comma separated value file.\"\"\"\n",
    "        with open(input_file, \"r\", encoding=\"utf-8\") as f:\n",
    "            reader = csv.reader(f, delimiter=\",\", quotechar=quotechar)\n",
    "            lines = []\n",
    "            for line in reader:\n",
    "                if sys.version_info[0] == 2:\n",
    "                    line = list(unicode(cell, 'utf-8') for cell in line)\n",
    "                lines.append(line)\n",
    "            return lines\n",
    "        \n",
    "class FoodProcessor(Processor):\n",
    "     def __init__(self, name, threads):\n",
    "        super(FoodProcessor, self).__init__(threads)\n",
    "        lines = self.readcsv(name)\n",
    "\n",
    "        for d in lines[1:]:\n",
    "            #self.score.append(int(d[6]) > 3) # convert to 0/1\n",
    "            self.score.append(int(d[6])-1)\n",
    "            self.summary.append(d[8])\n",
    "            self.text.append(d[9].strip(\"\\\"\"))\n",
    "        self.size = len(self.text)   \n",
    "            \n",
    "class IMDBProcessor(Processor):\n",
    "    def __init__(self, dirname, threads):\n",
    "        super(IMDBProcessor, self).__init__(threads)\n",
    "        \n",
    "        posdir = os.path.join(dirname, 'pos')\n",
    "        negdir = os.path.join(dirname, 'neg')\n",
    "        \n",
    "        self.score = []\n",
    "        self.text = []\n",
    "        self.summary = []\n",
    "        self.omit = [\"<br />\"]\n",
    "        \n",
    "        for lb,subdir in enumerate(['neg','pos']):\n",
    "            subdir = os.path.join(dirname, subdir)\n",
    "            for entry in os.listdir(subdir):\n",
    "                fname = os.path.join(subdir, entry)\n",
    "                with open(fname, 'r') as f:\n",
    "                    t = f.read().strip()\n",
    "                self.score.append(lb)\n",
    "                self.text.append(t)\n",
    "                self.summary.append(t)\n",
    "        \n",
    "        self.size = len(self.text)\n",
    "            \n",
    "class BBCProcessor(Processor):\n",
    "     def __init__(self, name, threads):\n",
    "        super().__init__(threads)\n",
    "        lines = self.readcsv(name)\n",
    "        labeldict = {}\n",
    "        for lb, txt in lines[1:]:\n",
    "            labeldict[lb] = labeldict.get(lb, len(labeldict))\n",
    "            self.score.append(labeldict[lb]) # convert to 0/1\n",
    "            self.summary.append(txt)\n",
    "            self.text.append(txt)\n",
    "        self.size = len(self.text)   "
   ]
  },
  {
   "cell_type": "code",
   "execution_count": 2,
   "metadata": {},
   "outputs": [],
   "source": [
    "# take a break"
   ]
  },
  {
   "cell_type": "code",
   "execution_count": 3,
   "metadata": {},
   "outputs": [],
   "source": [
    "p = IMDBProcessor(\"data/aclImdb/train\", 1)"
   ]
  },
  {
   "cell_type": "code",
   "execution_count": 4,
   "metadata": {},
   "outputs": [
    {
     "name": "stdout",
     "output_type": "stream",
     "text": [
      "sum tok done\n",
      "text tok done\n"
     ]
    },
    {
     "data": {
      "application/vnd.jupyter.widget-view+json": {
       "model_id": "63536c5b8fec4e51bcd6164f16b0c22a",
       "version_major": 2,
       "version_minor": 0
      },
      "text/plain": [
       "HBox(children=(IntProgress(value=0, max=25000), HTML(value='')))"
      ]
     },
     "metadata": {},
     "output_type": "display_data"
    },
    {
     "data": {
      "application/vnd.jupyter.widget-view+json": {
       "model_id": "1aadde1fee2b44d98fb48f796ef011a8",
       "version_major": 2,
       "version_minor": 0
      },
      "text/plain": [
       "HBox(children=(IntProgress(value=0, max=25000), HTML(value='')))"
      ]
     },
     "metadata": {},
     "output_type": "display_data"
    },
    {
     "name": "stdout",
     "output_type": "stream",
     "text": [
      "vocab and id done\n"
     ]
    }
   ],
   "source": [
    "p.make_vocab_and_ids(cutoff=100000)"
   ]
  },
  {
   "cell_type": "code",
   "execution_count": 5,
   "metadata": {},
   "outputs": [],
   "source": [
    "p.dump(\"data/IMDB/data.json\", \"data/IMDB/vocab.json\")"
   ]
  },
  {
   "cell_type": "code",
   "execution_count": 6,
   "metadata": {},
   "outputs": [
    {
     "name": "stdout",
     "output_type": "stream",
     "text": [
      "['[CLS]', 'i', 'remember', 'this', 'show', 'being', 'on', 'the', 'television', 'when', 'i', 'was', 'a', 'kid', 'back', 'in', 'the', 'early', '1990s', ',', 'and', 'there', 'was', 'this', 'rage', 'about', 'kids', 'with', 'goofy', 'leotards', 'doing', 'kung', 'fu', 'on', 'one', 'another', 'and', 'riding', 'around', 'in', 'plastic', 'dinosaurs', '.', 'it', 'was', 'called', 'power', 'rangers', '.', 'i', 'remember', 'that', 'little', 'kids', 'would', 'go', 'around', 'hitting', 'each', 'other', 'and', 'then', 'the', 'shirts', 'and', 'the', 'stuff', 'from', 'the', 'show', 'was', 'banned', 'in', 'many', 'school', 'districts', 'all', 'over', 'the', 'country', 'because', 'this', 'show', 'taught', 'kids', 'how', 'to', 'fight', 'each', 'other', 'in', 'solving', 'their', 'differences', '.', 'i', 'never', 'really', 'thought', 'of', 'this', 'as', 'a', 'show', ',', 'especially', 'when', 'better', 'shows', 'like', 'the', 'tick', 'were', 'playing', 'on', 'fox', 'kids', '.', 'most', 'older', 'teens', 'always', 'looked', 'at', 'power', 'rangers', 'in', 'a', 'ridiculous', 'and', 'scornful', 'manner', ',', 'and', 'it', \"'s\", 'not', 'hard', 'to', 'wonder', 'why', '.', 'the', 'footage', 'is', 'ridiculous', 'at', 'best', '.', 'the', 'colored', 'rangers', 'costumes', 'look', 'like', 'stuff', 'you', 'would', 'work', 'out', 'in', 'and', 'the', 'dinosaurs', 'look', 'like', 'plastic', 'nonsense', '.', 'then', 'you', 'get', 'into', 'the', 'acting', ',', 'and', 'of', 'course', 'those', 'really', 'laughable', 'haircuts', '.', 'all', 'the', 'guys', 'run', 'around', 'with', 'earrings', 'on', ',', 'half', 'of', 'them', 'are', 'wearing', '90', \"'s\", 'mullets', ',', 'and', 'they', 'always', 'wear', 'the', 'same', 'clothes', 'everyday', ',', 'and', 'then', 'change', 'into', 'leotard', 'wearing', 'power', 'rangers', '.', 'the', 'toys', 'are', 'especially', 'ridiculous', 'as', 'well', ',', 'and', 'was', 'the', 'joke', 'of', 'many', 'late', 'night', 'talk', 'show', 'hosts', '.', 'and', 'of', 'course', 'two', 'of', 'the', 'worst', 'movies', 'ever', 'made', ',', 'and', 'i', 'do', 'mean', 'two', 'of', 'the', 'worst', 'movies', 'ever', 'made', 'were', 'based', 'on', 'this', 'show', 'with', 'nearly', 'every', 'critic', 'trashing', 'both', 'the', 'films', ',', 'and', 'the', 'shows', 'it', 'was', 'based', 'on', '.', 'power', 'rangers', 'is', 'nothing', 'more', 'than', 'a', 'bad', 'television', 'commericial', 'for', 'especially', 'bad', 'toy', 'merchandising', '.', 'as', 'an', 'adult', ',', 'i', 'do', \"n't\", 'look', 'at', 'it', 'fondly', ',', 'but', 'rather', 'as', 'another', 'embarrassment', 'of', '1990s', 'kids', 'shows', ',', 'fashion', 'and', 'guys', \"'\", 'earrings', '.', '[SEP]']\n"
     ]
    }
   ],
   "source": [
    "index = 999\n",
    "vocab_inv = {a:b for b,a in p.vocab.items()}\n",
    "\n",
    "print([vocab_inv[i] for i in p.text_ids[index]])"
   ]
  },
  {
   "cell_type": "code",
   "execution_count": 8,
   "metadata": {},
   "outputs": [
    {
     "data": {
      "text/plain": [
       "(array([8.590e+02, 2.367e+03, 6.637e+03, 4.545e+03, 2.724e+03, 1.881e+03,\n",
       "        1.373e+03, 1.001e+03, 7.740e+02, 5.950e+02, 4.740e+02, 3.660e+02,\n",
       "        2.800e+02, 2.140e+02, 1.830e+02, 1.670e+02, 1.240e+02, 9.500e+01,\n",
       "        8.700e+01, 8.300e+01, 7.300e+01, 5.800e+01, 1.100e+01, 9.000e+00,\n",
       "        2.000e+00, 3.000e+00, 3.000e+00, 1.000e+00, 1.000e+00, 2.000e+00,\n",
       "        1.000e+00, 1.000e+00, 1.000e+00, 0.000e+00, 0.000e+00, 1.000e+00,\n",
       "        2.000e+00, 0.000e+00, 1.000e+00, 0.000e+00, 0.000e+00, 0.000e+00,\n",
       "        0.000e+00, 0.000e+00, 0.000e+00, 0.000e+00, 0.000e+00, 0.000e+00,\n",
       "        0.000e+00, 1.000e+00]),\n",
       " array([  13.  ,   68.06,  123.12,  178.18,  233.24,  288.3 ,  343.36,\n",
       "         398.42,  453.48,  508.54,  563.6 ,  618.66,  673.72,  728.78,\n",
       "         783.84,  838.9 ,  893.96,  949.02, 1004.08, 1059.14, 1114.2 ,\n",
       "        1169.26, 1224.32, 1279.38, 1334.44, 1389.5 , 1444.56, 1499.62,\n",
       "        1554.68, 1609.74, 1664.8 , 1719.86, 1774.92, 1829.98, 1885.04,\n",
       "        1940.1 , 1995.16, 2050.22, 2105.28, 2160.34, 2215.4 , 2270.46,\n",
       "        2325.52, 2380.58, 2435.64, 2490.7 , 2545.76, 2600.82, 2655.88,\n",
       "        2710.94, 2766.  ]),\n",
       " <a list of 50 Patch objects>)"
      ]
     },
     "execution_count": 8,
     "metadata": {},
     "output_type": "execute_result"
    },
    {
     "data": {
      "image/png": "[encoded data removed]",
      "text/plain": [
       "<Figure size 432x288 with 1 Axes>"
      ]
     },
     "metadata": {
      "needs_background": "light"
     },
     "output_type": "display_data"
    }
   ],
   "source": [
    "lens = [len(x) for x in p.text_ids]\n",
    "import matplotlib.pyplot as plt\n",
    "plt.hist(lens, bins=50)"
   ]
  },
  {
   "cell_type": "code",
   "execution_count": 9,
   "metadata": {},
   "outputs": [
    {
     "name": "stdout",
     "output_type": "stream",
     "text": [
      "276.00016 203.18075617531892\n"
     ]
    }
   ],
   "source": [
    "import numpy as np\n",
    "print(np.mean(lens), np.std(lens))"
   ]
  },
  {
   "cell_type": "code",
   "execution_count": null,
   "metadata": {},
   "outputs": [],
   "source": []
  }
 ],
 "metadata": {
  "kernelspec": {
   "display_name": "Python 3",
   "language": "python",
   "name": "python3"
  },
  "language_info": {
   "codemirror_mode": {
    "name": "ipython",
    "version": 3
   },
   "file_extension": ".py",
   "mimetype": "text/x-python",
   "name": "python",
   "nbconvert_exporter": "python",
   "pygments_lexer": "ipython3",
   "version": "3.7.2"
  }
 },
 "nbformat": 4,
 "nbformat_minor": 2
}
