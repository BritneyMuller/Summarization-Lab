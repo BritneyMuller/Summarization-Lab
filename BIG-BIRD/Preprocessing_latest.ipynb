{
 "cells": [
  {
   "cell_type": "markdown",
   "metadata": {},
   "source": [
    "## Preprocessing version 3\n",
    "### Details\n",
    "this version \n",
    "- uses all data\n",
    "- has validation split\n",
    "- uses pretrained embedding"
   ]
  },
  {
   "cell_type": "code",
   "execution_count": 1,
   "metadata": {},
   "outputs": [],
   "source": [
    "import csv\n",
    "import sys\n",
    "from multiprocessing import Pool\n",
    "from tqdm import tqdm_notebook as tqdm\n",
    "import json\n",
    "import os\n",
    "import blingfire\n",
    "from joblib import Parallel, delayed\n",
    "\n",
    "UNK = \"[UNK]\"\n",
    "BOS = \"[CLS]\"\n",
    "EOS = \"[SEP]\"\n",
    "PAD = \"[PAD]\"\n",
    "\n",
    "def tokenize(s, omit=[]):\n",
    "    s = s.lower()\n",
    "    for t in omit:\n",
    "        s = s.replace(t, '')\n",
    "    ts = [BOS] + blingfire.text_to_words(s).split() + [EOS]\n",
    "    return ts\n",
    "def tokenize_add_vocab(sents, vocab, omit=[]):\n",
    "    sent_toks = []\n",
    "    for s in tqdm(sents):\n",
    "        toks = tokenize(s, omit)\n",
    "        for t in toks:\n",
    "            vocab[t] = vocab.get(t, 0) + 1\n",
    "        sent_toks.append(toks)\n",
    "    return sent_toks\n",
    "def tokens_to_ids(tokens, vocab):    \n",
    "    return [vocab.get(t, vocab[UNK]) for t in tokens]\n",
    "\n",
    "class Processor:\n",
    "    def __init__(self, threads):\n",
    "        self.score = []\n",
    "        self.summary = []\n",
    "        self.text = []\n",
    "        self.omit = [\"<br />\"]\n",
    "        self.n_worker = threads        \n",
    "        self.size = 0\n",
    "\n",
    "    def make_vocab_and_ids(self, cutoff, verbose=True):\n",
    "        vocab = {UNK:99999, PAD:99999}\n",
    "        summary_tok = tokenize_add_vocab(self.summary, vocab, self.omit)\n",
    "        if verbose:\n",
    "            print(\"sum tok done\")\n",
    "        text_tok = tokenize_add_vocab(self.text, vocab, self.omit)\n",
    "        if verbose:\n",
    "            print(\"text tok done\")\n",
    "            print(\"original vocab\", len(vocab))\n",
    "        vocab = sorted(vocab.items(), key=lambda x: -x[1])[:cutoff]\n",
    "        vocab = {a:i for i,(a,b) in enumerate(vocab)}\n",
    "        self.vocab = vocab\n",
    "        \n",
    "        summary_gen = tqdm(summary_tok)\n",
    "        text_gen = tqdm(text_tok)\n",
    "        \n",
    "        if self.n_worker < 2:\n",
    "            self.summary_ids = [tokens_to_ids(t, vocab) for t in summary_gen]\n",
    "            self.text_ids = [tokens_to_ids(t, vocab) for t in text_gen]\n",
    "        else:\n",
    "            #with Pool(self.n_worker) as p:\n",
    "            #    chunksize = 100                \n",
    "                #self.summary_ids = list(p.imap(tokens_to_ids, summary_gen))\n",
    "                #self.text_ids = list(p.imap(tokens_to_ids, text_gen))\n",
    "            self.summary_ids = Parallel(n_jobs=self.n_worker, backend='multiprocessing')(delayed(tokens_to_ids)(tokens, vocab) for tokens in summary_gen)\n",
    "            self.text_ids = Parallel(n_jobs=self.n_worker, backend='multiprocessing')(delayed(tokens_to_ids)(tokens, vocab) for tokens in text_gen)\n",
    "            \n",
    "        if verbose:\n",
    "            print(\"vocab and id done\")\n",
    "        \n",
    "    def __len__(self):\n",
    "        return self.size\n",
    "    \n",
    "    def dump(self, name, vocabname):\n",
    "        seqdata = {\"text\":self.text_ids, \"summary\":self.summary_ids, \"score\":self.score}\n",
    "        json.dump(seqdata, open(name, 'w'))\n",
    "        if vocabname is not None:\n",
    "            json.dump(self.vocab, open(vocabname, 'w'))\n",
    "    \n",
    "    @staticmethod\n",
    "    def readcsv(input_file, quotechar=\"\\\"\"):\n",
    "        \"\"\"Reads a comma separated value file.\"\"\"\n",
    "        with open(input_file, \"r\", encoding=\"utf-8\") as f:\n",
    "            reader = csv.reader(f, delimiter=\",\", quotechar=quotechar)\n",
    "            lines = []\n",
    "            for line in reader:\n",
    "                if sys.version_info[0] == 2:\n",
    "                    line = list(unicode(cell, 'utf-8') for cell in line)\n",
    "                lines.append(line)\n",
    "            return lines\n",
    "        \n",
    "class FoodProcessor(Processor):\n",
    "     def __init__(self, name, threads):\n",
    "        super(FoodProcessor, self).__init__(threads)\n",
    "        lines = self.readcsv(name)\n",
    "\n",
    "        for d in lines[1:]:\n",
    "            #self.score.append(int(d[6]) > 3) # convert to 0/1\n",
    "            self.score.append(int(d[6])-1)\n",
    "            self.summary.append(d[9].strip(\"\\\"\"))\n",
    "            self.text.append(d[9].strip(\"\\\"\"))\n",
    "        self.size = len(self.text)   \n",
    "            \n",
    "class IMDBProcessor(Processor):\n",
    "    def __init__(self, dirname, threads):\n",
    "        super(IMDBProcessor, self).__init__(threads)\n",
    "        \n",
    "        posdir = os.path.join(dirname, 'pos')\n",
    "        negdir = os.path.join(dirname, 'neg')\n",
    "        \n",
    "        self.score = []\n",
    "        self.text = []\n",
    "        self.summary = []\n",
    "        self.omit = [\"<br />\"]\n",
    "        \n",
    "        for lb,subdir in enumerate(['neg','pos']):\n",
    "            subdir = os.path.join(dirname, subdir)\n",
    "            for entry in os.listdir(subdir):\n",
    "                fname = os.path.join(subdir, entry)\n",
    "                with open(fname, 'r') as f:\n",
    "                    t = f.read().strip()\n",
    "                self.score.append(lb)\n",
    "                self.text.append(t)\n",
    "                self.summary.append(t)\n",
    "        \n",
    "        self.size = len(self.text)\n",
    "            \n",
    "class BBCProcessor(Processor):\n",
    "     def __init__(self, name, threads):\n",
    "        super().__init__(threads)\n",
    "        lines = self.readcsv(name)\n",
    "        labeldict = {}\n",
    "        for lb, txt in lines[1:]:\n",
    "            labeldict[lb] = labeldict.get(lb, len(labeldict))\n",
    "            self.score.append(labeldict[lb]) # convert to 0/1\n",
    "            self.summary.append(txt)\n",
    "            self.text.append(txt)\n",
    "        self.size = len(self.text)   \n",
    "        \n",
    "class EmotionProcessor(Processor):\n",
    "     def __init__(self, name, threads):\n",
    "        super().__init__(threads)\n",
    "        lines = self.readcsv(name)\n",
    "        emo = {}\n",
    "        for d in lines[1:]:\n",
    "            self.summary.append(d[1])\n",
    "            self.text.append(d[1])\n",
    "            emo[d[2]] = emo.get(d[2], len(emo))\n",
    "            self.score.append(emo[d[2]])\n",
    "        print(emo)\n",
    "        self.size = len(self.text)   "
   ]
  },
  {
   "cell_type": "code",
   "execution_count": 2,
   "metadata": {},
   "outputs": [],
   "source": [
    "# take a break"
   ]
  },
  {
   "cell_type": "code",
   "execution_count": 3,
   "metadata": {},
   "outputs": [
    {
     "name": "stdout",
     "output_type": "stream",
     "text": [
      "{'sadness': 0, 'joy': 1, 'love': 2, 'anger': 3, 'fear': 4, 'surprise': 5}\n"
     ]
    }
   ],
   "source": [
    "p = EmotionProcessor(\"data/emotion.csv\", 1)"
   ]
  },
  {
   "cell_type": "code",
   "execution_count": 4,
   "metadata": {},
   "outputs": [
    {
     "data": {
      "application/vnd.jupyter.widget-view+json": {
       "model_id": "c031c5cd425347d28223c572be392072",
       "version_major": 2,
       "version_minor": 0
      },
      "text/plain": [
       "HBox(children=(IntProgress(value=0, max=416809), HTML(value='')))"
      ]
     },
     "metadata": {},
     "output_type": "display_data"
    },
    {
     "name": "stdout",
     "output_type": "stream",
     "text": [
      "\n",
      "sum tok done\n"
     ]
    },
    {
     "data": {
      "application/vnd.jupyter.widget-view+json": {
       "model_id": "00071ac409cf4b7a9ae0893c027c4281",
       "version_major": 2,
       "version_minor": 0
      },
      "text/plain": [
       "HBox(children=(IntProgress(value=0, max=416809), HTML(value='')))"
      ]
     },
     "metadata": {},
     "output_type": "display_data"
    },
    {
     "name": "stdout",
     "output_type": "stream",
     "text": [
      "\n",
      "text tok done\n",
      "original vocab 75305\n"
     ]
    },
    {
     "data": {
      "application/vnd.jupyter.widget-view+json": {
       "model_id": "252746dd56ca45dba3c672c3c4aca430",
       "version_major": 2,
       "version_minor": 0
      },
      "text/plain": [
       "HBox(children=(IntProgress(value=0, max=416809), HTML(value='')))"
      ]
     },
     "metadata": {},
     "output_type": "display_data"
    },
    {
     "data": {
      "application/vnd.jupyter.widget-view+json": {
       "model_id": "0899945742ef47609258ab633440db29",
       "version_major": 2,
       "version_minor": 0
      },
      "text/plain": [
       "HBox(children=(IntProgress(value=0, max=416809), HTML(value='')))"
      ]
     },
     "metadata": {},
     "output_type": "display_data"
    },
    {
     "name": "stdout",
     "output_type": "stream",
     "text": [
      "vocab and id done\n"
     ]
    }
   ],
   "source": [
    "p.make_vocab_and_ids(cutoff=30000)"
   ]
  },
  {
   "cell_type": "code",
   "execution_count": 5,
   "metadata": {},
   "outputs": [],
   "source": [
    "!mkdir -p data/Emotion/\n",
    "p.dump(\"data/Emotion/data.json\", \"data/Emotion/vocab.json\")"
   ]
  },
  {
   "cell_type": "code",
   "execution_count": 6,
   "metadata": {},
   "outputs": [
    {
     "name": "stdout",
     "output_type": "stream",
     "text": [
      "['[CLS]', 'i', 'am', 'feeling', 'broke', 'emotionally', 'physically', 'and', 'mentally', '[SEP]']\n"
     ]
    }
   ],
   "source": [
    "index = 999\n",
    "vocab_inv = {a:b for b,a in p.vocab.items()}\n",
    "\n",
    "print([vocab_inv[i] for i in p.text_ids[index]])"
   ]
  },
  {
   "cell_type": "code",
   "execution_count": 10,
   "metadata": {},
   "outputs": [
    {
     "data": {
      "image/png": "[encoded data removed]",
      "text/plain": [
       "<Figure size 432x288 with 1 Axes>"
      ]
     },
     "metadata": {
      "needs_background": "light"
     },
     "output_type": "display_data"
    }
   ],
   "source": [
    "lens = [len(x) for x in p.text_ids]\n",
    "import matplotlib.pyplot as plt\n",
    "plt.hist(lens, bins=50)\n",
    "plt.show()"
   ]
  },
  {
   "cell_type": "code",
   "execution_count": 11,
   "metadata": {},
   "outputs": [
    {
     "name": "stdout",
     "output_type": "stream",
     "text": [
      "21.21547759285428 11.053684938007098\n"
     ]
    }
   ],
   "source": [
    "import numpy as np\n",
    "print(np.mean(lens), np.std(lens))"
   ]
  },
  {
   "cell_type": "code",
   "execution_count": 9,
   "metadata": {},
   "outputs": [],
   "source": [
    "plt.show()"
   ]
  },
  {
   "cell_type": "code",
   "execution_count": null,
   "metadata": {},
   "outputs": [],
   "source": []
  }
 ],
 "metadata": {
  "kernelspec": {
   "display_name": "Python [conda env:pytorch]",
   "language": "python",
   "name": "conda-env-pytorch-py"
  },
  "language_info": {
   "codemirror_mode": {
    "name": "ipython",
    "version": 3
   },
   "file_extension": ".py",
   "mimetype": "text/x-python",
   "name": "python",
   "nbconvert_exporter": "python",
   "pygments_lexer": "ipython3",
   "version": "3.6.8"
  }
 },
 "nbformat": 4,
 "nbformat_minor": 2
}
