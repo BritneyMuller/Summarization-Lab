{
 "cells": [
  {
   "cell_type": "code",
   "execution_count": 1,
   "metadata": {},
   "outputs": [],
   "source": [
    "from LSTM_GumbelSoftmax import *\n",
    "from dataset import make_data_generator\n",
    "import json\n",
    "from tqdm import tqdm_notebook as tqdm\n",
    "#from torchsummary import summary"
   ]
  },
  {
   "cell_type": "code",
   "execution_count": 2,
   "metadata": {},
   "outputs": [],
   "source": [
    "folder = 'data/IMDB/'\n",
    "data_name = folder+'data.json'\n",
    "# validation_name = folder+'valid_seq.json'\n",
    "# testdata_name = folder+'testdata_seq.json'\n",
    "vocab_name = folder+'vocab.json'"
   ]
  },
  {
   "cell_type": "code",
   "execution_count": 3,
   "metadata": {},
   "outputs": [],
   "source": [
    "num_epochs = 1\n",
    "save_rate = 1 #how many epochs per modelsave\n",
    "#continue_from = \"trained/Model1\" # if none, put None\n",
    "continue_from = None\n",
    "epsilon = 1e-8\n",
    "validation_size = 10000\n",
    "device = torch.device('cuda')\n",
    "!mkdir -p trained"
   ]
  },
  {
   "cell_type": "code",
   "execution_count": 4,
   "metadata": {},
   "outputs": [],
   "source": [
    "vocab = json.load(open(vocab_name, 'r'))\n",
    "VOC_SIZE = len(vocab)\n",
    "INPUT_MAX = 300\n",
    "SUMM_MAX = 50\n",
    "UNK = \"[UNK]\"\n",
    "BOS = \"[CLS]\"\n",
    "EOS = \"[SEP]\"\n",
    "PAD = \"[PAD]\""
   ]
  },
  {
   "cell_type": "code",
   "execution_count": 5,
   "metadata": {},
   "outputs": [
    {
     "name": "stdout",
     "output_type": "stream",
     "text": [
      "loading json\n",
      "load json done.\n"
     ]
    },
    {
     "data": {
      "application/vnd.jupyter.widget-view+json": {
       "model_id": "4e91638e6e174d619a56719731fe78ac",
       "version_major": 2,
       "version_minor": 0
      },
      "text/plain": [
       "HBox(children=(IntProgress(value=0, max=25000), HTML(value='')))"
      ]
     },
     "metadata": {},
     "output_type": "display_data"
    },
    {
     "name": "stdout",
     "output_type": "stream",
     "text": [
      "\n"
     ]
    }
   ],
   "source": [
    "batch_size = 6\n",
    "\n",
    "training_set, training_generator = make_data_generator(\\\n",
    "data_name, INPUT_MAX, SUMM_MAX, vocab[PAD], batch_size, cutoff=None, shuffle=True, num_workers=4)\n",
    "\n",
    "# validation_set, validation_generator = make_data_generator(\\\n",
    "# validation_name, INPUT_MAX, OUTPUT_MAX, vocab[PAD], batch_size, cutoff=validation_size, shuffle=False, num_workers=4)\n",
    "\n",
    "def data_gen_train():\n",
    "    for src, label, tgt in training_generator:\n",
    "        src = src.to(device)\n",
    "        label = (label).long().to(device)\n",
    "        tgt = tgt.to(device)\n",
    "        b = Batch(src, tgt, vocab[PAD])\n",
    "        b.label = label\n",
    "        yield b"
   ]
  },
  {
   "cell_type": "code",
   "execution_count": 6,
   "metadata": {},
   "outputs": [],
   "source": [
    "import math\n",
    "total_train = int(math.ceil(training_set.size / batch_size))\n",
    "# total_valid = int(math.ceil(validation_set.size / batch_size))\n",
    "# print(total_train, total_valid)"
   ]
  },
  {
   "cell_type": "code",
   "execution_count": 7,
   "metadata": {},
   "outputs": [],
   "source": [
    "def init_param(model):\n",
    "    for p in model.parameters():\n",
    "        if p.dim() > 1:\n",
    "            nn.init.xavier_uniform_(p)\n",
    "\n",
    "def make_big_bird(vocab, N=6, \n",
    "               d_model=512, d_ff=2048, h=8, dropout=0.1, emb_share=False, bert_share=False):\n",
    "    \"Helper: Construct a model from hyperparameters.\"\n",
    "    \n",
    "    vocab_sz = len(vocab)\n",
    "    \n",
    "    c = copy.deepcopy\n",
    "    attn = MultiHeadedAttention(h, d_model)\n",
    "    ff = PositionwiseFeedForward(d_model, d_ff, dropout)\n",
    "    position = PositionalEncoding(d_model, dropout)\n",
    "    \n",
    "    src_emb = nn.Sequential(Embeddings(d_model, vocab_sz), c(position))\n",
    "    if emb_share:        \n",
    "        tgt_emb = src_emb\n",
    "        bert_class_emb = src_emb\n",
    "        bert_discr_emb = src_emb\n",
    "    else:\n",
    "        tgt_emb = nn.Sequential(Embeddings(d_model, vocab_sz), c(position))\n",
    "        bert_class_emb = nn.Sequential(Embeddings(d_model, vocab_sz), c(position))\n",
    "        bert_discr_emb = nn.Sequential(Embeddings(d_model, vocab_sz), c(position))\n",
    "    \n",
    "    \n",
    "    bert_class = BERT(\n",
    "        Encoder(EncoderLayer(d_model, c(attn), c(ff), dropout), N),\n",
    "        bert_class_emb,\n",
    "        vocab[PAD]\n",
    "    )\n",
    "    \n",
    "    if bert_share:\n",
    "        bert_discr = bert_class\n",
    "    else:\n",
    "        bert_discr = BERT(\n",
    "            Encoder(EncoderLayer(d_model, c(attn), c(ff), dropout), N),\n",
    "            bert_discr_emb,\n",
    "            vocab[PAD]\n",
    "        )\n",
    "        \n",
    "    translator = LSTM_Gumbel_Encoder_Decoder(\n",
    "        hidden_dim=d_model, \n",
    "        emb_dim=d_model, \n",
    "        input_len=INPUT_MAX, \n",
    "        output_len=SUMM_MAX, \n",
    "        voc_size=vocab_sz, \n",
    "        critic_net=CriticNet(2*d_model),\n",
    "        device=device,\n",
    "        eps=1e-8\n",
    "    )\n",
    "    \n",
    "    reconstructor = LSTM_Normal_Encoder_Decoder(\n",
    "        hidden_dim=d_model, \n",
    "        emb_dim=d_model, \n",
    "        input_len=SUMM_MAX, \n",
    "        output_len=INPUT_MAX, \n",
    "        voc_size=vocab_sz, \n",
    "        pad_index=vocab[PAD],\n",
    "        device = device,\n",
    "        eps=1e-8\n",
    "    )\n",
    "#     translator = Translator(\n",
    "#         Encoder(EncoderLayer(d_model, c(attn), c(ff), dropout), N),\n",
    "#         Decoder(DecoderLayer(d_model, c(attn), c(attn), \n",
    "#                              c(ff), dropout), N),\n",
    "#         src_emb,\n",
    "#         tgt_emb,\n",
    "#         Generator(d_model, vocab_sz, device),\n",
    "#         CriticNet(d_model)\n",
    "#         )\n",
    "    \n",
    "#     classifier = Classifier(\n",
    "#         bert_class,\n",
    "#         out_class = 5\n",
    "#         # criterion = BCE\n",
    "#     )\n",
    "#     reconstructor = Reconstructor(\n",
    "#         Encoder(EncoderLayer(d_model, c(attn), c(ff), dropout), N),\n",
    "#         Decoder(DecoderLayer(d_model, c(attn), c(attn), \n",
    "#                              c(ff), dropout), N),\n",
    "#         src_emb,\n",
    "#         tgt_emb,\n",
    "#         Generator(d_model, vocab_sz, device),\n",
    "#         vocab[PAD]\n",
    "#     )   \n",
    "    discriminator = Discriminator(\n",
    "        Encoder(EncoderLayer(d_model, c(attn), c(ff), dropout), N),\n",
    "        d_model,\n",
    "        len(vocab),\n",
    "        vocab[PAD]\n",
    "    )\n",
    "\n",
    "\n",
    "    # This was important from their code. \n",
    "    # Initialize parameters with Glorot / fan_avg.\n",
    "    for m in [translator, reconstructor, discriminator]:\n",
    "        init_param(m)\n",
    "        \n",
    "#     if(str(device) == 'cpu'):\n",
    "#         savedmodel = torch.load(\"pretrained/Translator4\", map_location=lambda storage, location: storage)\n",
    "#     else:\n",
    "#         savedmodel = torch.load(\"pretrained/Translator4\")\n",
    "#     translator.load_state_dict(savedmodel['model'], strict=False)\n",
    "#     if(str(device) == 'cpu'):\n",
    "#         savedmodel = torch.load(\"pretrained/Translator4\", map_location=lambda storage, location: storage)\n",
    "#     else:\n",
    "#         savedmodel = torch.load(\"pretrained/Translator4\")\n",
    "#     reconstructor.load_state_dict(savedmodel['model'])#, strict=False)\n",
    "            \n",
    "    # creation of big bird\n",
    "    model = BigBird(\n",
    "        translator, discriminator, reconstructor , \n",
    "        vocab, gamma=0.99, clip_value=0.5, #for WGAN, useless if WGAN-GP is used \n",
    "        lr_G = 5e-5,\n",
    "        lr_D = 1e-4,\n",
    "        lr_R = 1e-5,\n",
    "        LAMBDA = 10, # Gradient penalty lambda hyperparameter\n",
    "        RL_scale = 10,\n",
    "        device = device\n",
    "    )\n",
    "\n",
    "    return model\n"
   ]
  },
  {
   "cell_type": "code",
   "execution_count": 8,
   "metadata": {},
   "outputs": [],
   "source": [
    "model = make_big_bird(vocab, N=4, d_model=256, d_ff=256, h=4, dropout=0.1, emb_share=True, bert_share=True)\n",
    "#model.load(\"Nest/NewbornBird_LSTM_GumbelSoftmax\")"
   ]
  },
  {
   "cell_type": "code",
   "execution_count": 9,
   "metadata": {},
   "outputs": [],
   "source": [
    "vocab_inv = {a:b for b, a in vocab.items()}\n",
    "def convert_ids_to_tokens(ids):\n",
    "    return [vocab_inv[i] for i in ids]"
   ]
  },
  {
   "cell_type": "code",
   "execution_count": 10,
   "metadata": {
    "scrolled": true
   },
   "outputs": [
    {
     "name": "stdout",
     "output_type": "stream",
     "text": [
      "Epoch 0\n"
     ]
    },
    {
     "data": {
      "application/vnd.jupyter.widget-view+json": {
       "model_id": "63e82ff1d3f449259ee205b72ebd2293",
       "version_major": 2,
       "version_minor": 0
      },
      "text/plain": [
       "HBox(children=(IntProgress(value=0, max=4167), HTML(value='')))"
      ]
     },
     "metadata": {},
     "output_type": "display_data"
    },
    {
     "name": "stdout",
     "output_type": "stream",
     "text": [
      "origin:\n",
      "['[CLS]', 'an', 'overblown', 'melodrama', 'typical', 'of', 'its', 'period', '(', 'mid', '-', '1950s', ')', 'and', 'appropriate', 'matinée', 'food', '.', 'rock', 'hudson', ',', 'the', 'hulk', 'everyone', 'always', 'falls', 'in', 'love', 'with', ',', 'plays', 'his', 'usual', 'stereotype', 'role', ',', 'but', 'whereas', 'in', 'giant', ',', 'made', 'the', 'same', 'year', ',', 'when', 'his', 'material', 'and', 'co', '-', 'stars', '(', 'taylor', '&', 'dean', ')', 'were', 'above', 'average', ',', 'in', 'this', 'movie', 'he', 'is', 'just', 'not', 'good', 'enough', 'to', 'raise', 'the', 'calibre', 'beyond', 'a', 'mushy', 'tale', 'of', 'how', 'difficult', 'it', 'is', 'to', 'be', 'both', 'rich', 'and', 'happy', '.', 'the', 'self', '-', 'destructive', 'brother', 'and', 'sister', '(', 'robert', 'stack', ',', 'reeling', 'his', 'way', 'through', 'the', 'film', 'in', 'a', 'drunken', 'stupor', ',', 'and', 'dorothy', 'malone', ',', 'playing', 'a', 'vampish', 'poor', 'little', 'rich', 'girl', 'totally', 'over', 'the', 'top', ')', 'end', 'up', 'the', 'losers', 'and', 'hudson', 'gets', 'bacall', '-', 'who', 'is', 'rather', 'wooden', 'in', 'this', 'part', 'which', 'does', 'not', 'have', 'enough', 'character', 'or', 'wit', 'to', 'get', 'her', 'going', '.', 'to', 'paraphrase', 'oscar', 'wilde', ',', 'the', 'good', 'end', 'happily', 'and', 'the', 'bad', 'unhappily', ',', 'that', 'is', 'the', 'meaning', 'of', 'fiction', '.', 'however', ',', 'i', 'was', 'interested', 'to', 'read', 'that', 'the', 'film', 'is', 'based', 'on', 'a', 'true', 'story', 'which', 'vindicated', 'the', 'plot', '.', 'like', 'other', 'films', 'of', 'the', 'period', ',', 'homosexuality', 'is', 'disguised', 'in', 'heterosexual', 'terms', '.', 'maybe', 'the', 'film', 'could', 'be', 'remade', ':', 'stack', \"'s\", 'character', 'would', 'ring', 'truer', 'if', 'he', 'was', 'hiding', 'homosexual', 'feelings', 'for', 'mitch', 'by', 'marrying', '.', 'todd', 'haynes', \"'s\", 'far', 'from', 'heaven', 'greatly', 'improved', 'on', 'all', 'that', 'heaven', 'allows', ',', 'also', 'directed', 'by', 'sirk', '.', 'perhaps', 'haynes', 'could', 'remake', 'written', 'on', 'the', 'wind', 'and', 'give', 'us', 'a', 'truly', 'memorable', 'film', '.', '[SEP]', '[PAD]', '[PAD]', '[PAD]', '[PAD]', '[PAD]', '[PAD]', '[PAD]', '[PAD]', '[PAD]', '[PAD]', '[PAD]', '[PAD]', '[PAD]', '[PAD]', '[PAD]', '[PAD]', '[PAD]', '[PAD]', '[PAD]', '[PAD]', '[PAD]', '[PAD]', '[PAD]', '[PAD]', '[PAD]', '[PAD]']\n",
      "summary:\n",
      "['[CLS]', 'all', 'all', 'all', 'see', 'see', 'see', 'see', 'see', 'see', 'see', 'see', 'see', 'see', 'see', 'see', 'see', 'see', 'see', 'see', 'see', 'see', 'see', 'see', 'see', 'see', 'see', 'see', 'see', 'see', 'see', 'see', 'see', 'see', 'see', 'see', 'see', 'see', 'see', 'see', 'see', 'see', 'see', 'see', 'see', 'see', 'see', 'see', 'see', 'see']\n",
      "real summary:\n",
      "['[CLS]', 'an', 'overblown', 'melodrama', 'typical', 'of', 'its', 'period', '(', 'mid', '-', '1950s', ')', 'and', 'appropriate', 'matinée', 'food', '.', 'rock', 'hudson', ',', 'the', 'hulk', 'everyone', 'always', 'falls', 'in', 'love', 'with', ',', 'plays', 'his', 'usual', 'stereotype', 'role', ',', 'but', 'whereas', 'in', 'giant', ',', 'made', 'the', 'same', 'year', ',', 'when', 'his', 'material']\n",
      "reconsturct out:\n",
      "[',', 'on', 'on', 'on', 'on', 'on', 'on', 'on', 'on', 'on', 'on', 'on', 'on', 'on', 'on', 'on', 'on', 'on', 'on', 'on', 'on', 'on', 'on', 'on', 'on', 'on', 'on', 'on', 'on', 'on', 'on', 'on', 'on', 'on', 'on', 'on', 'on', 'on', 'on', 'on', 'on', 'on', 'on', 'on', 'on', 'on', 'on', 'on', 'on', 'on', 'on', 'on', 'on', 'on', 'on', 'on', 'on', 'on', 'on', 'on', 'on', 'on', 'on', 'on', 'on', 'on', 'on', 'on', 'on', 'on', 'on', 'on', 'on', 'on', 'on', 'on', 'on', 'on', 'on', 'on', 'on', 'on', 'on', 'on', 'on', 'on', 'on', 'on', 'on', 'on', 'on', 'on', 'on', 'on', 'on', 'on', 'on', 'on', 'on', 'on', 'on', 'on', 'on', 'on', 'on', 'on', 'on', 'on', 'on', 'on', 'on', 'on', 'on', 'on', 'on', 'on', 'on', 'on', 'on', 'on', 'on', 'on', 'on', 'on', 'on', 'on', 'on', 'on', 'on', 'on', 'on', 'on', 'on', 'on', 'on', 'on', 'on', 'on', 'on', 'on', 'on', 'on', 'on', 'on', 'on', 'on', 'on', 'on', 'on', 'on', 'on', 'on', 'on', 'on', 'on', 'on', 'on', 'on', 'on', 'on', 'on', 'on', 'on', 'on', 'on', 'on', 'on', 'on', 'on', 'on', 'on', 'on', 'on', 'on', 'on', 'on', 'on', 'on', 'on', 'on', 'on', 'on', 'on', 'on', 'on', 'on', 'on', 'on', 'on', 'on', 'on', 'on', 'on', 'on', 'on', 'on', 'on', 'on', 'on', 'on', 'on', 'on', 'on', 'on', 'on', 'on', 'on', 'on', 'on', 'on', 'on', 'on', 'on', 'on', 'on', 'on', 'on', 'on', 'on', 'on', 'on', 'on', 'on', 'on', 'on', 'on', 'on', 'on', 'on', 'on', 'on', 'on', 'on', 'on', 'on', 'on', 'on', 'on', 'on', 'on', 'on', 'on', 'on', 'on', 'on', 'on', 'on', 'on', 'on', 'on', 'on', 'on', 'on', 'on', 'on', 'on', 'on', 'on', 'on', 'on', 'on', 'on', 'on', 'on', 'on', 'on', 'on', 'on', 'on', 'on', 'on', 'on', 'on', 'on', 'on', 'on', 'on', 'on', 'on', 'on', 'on', 'on', 'on', 'on', 'on', 'on', 'on', 'on', 'on', 'on', 'on', 'on', 'on', 'on', 'on', 'on', 'on', 'on', 'on']\n",
      "\n",
      "origin:\n",
      "['[CLS]', 'i', 'am', '17', ',', 'and', 'i', 'still', 'like', 'most', 'of', 'the', 'scooby', 'doo', 'movies', 'and', 'the', 'old', 'episodes', '.', 'i', 'love', 'the', '1990s', 'movies', ',', 'and', 'recently', 'we', 'were', 'treated', 'to', 'one', 'of', 'the', 'better', 'direct', 'to', 'dvd', 'scooby', 'doo', 'outings', 'of', 'this', 'decade', ',', 'scooby', 'doo', 'and', 'the', 'goblin', 'king', ',', 'which', 'i', 'was', \"n't\", 'expecting', 'to', 'be', 'as', 'good', 'as', 'it', 'was', '.', 'anyway', ',', 'back', 'to', 'get', 'a', 'clue', '!', 'i', 'watched', 'some', 'episodes', ',', 'expecting', 'something', 'very', 'good', ',', 'but', 'from', 'what', 'i', 'saw', 'of', 'it', ',', 'i', 'was', \"n't\", 'impressed', 'at', 'all', '.', 'first', 'of', 'all', ',', 'i', 'hated', 'the', 'animation', '.', 'it', 'was', 'flat', ',', 'deflated', 'and', 'very', 'saturday', '-', 'morning', '-', 'cartoon', '-', 'standard', ',', 'easily', 'the', 'worst', 'aspect', 'of', 'the', 'series', '.', 'even', 'some', 'shows', 'i', 'really', 'hate', 'had', 'slightly', 'better', 'animation', '.', 'even', 'worse', ',', 'shaggy', 'and', 'scooby', 'looked', 'like', 'aliens', ',', 'and', 'i', 'really', 'missed', 'fred', ',', 'velma', 'and', 'daphne', ',', 'as', 'they', 'added', 'a', 'lot', 'to', 'the', 'old', 'episodes', ',', 'when', 'scooby', 'doo', 'was', 'positively', 'good', '.', 'i', 'also', 'hated', 'the', 'character', 'changes', ',', 'because', 'it', 'seemed', 'like', 'instead', 'of', 'solving', 'mysteries', ',', 'shaggy', 'and', 'scooby', 'were', 'now', 'playing', 'superhero', ',', 'something', 'they', 'would', \"'ve\", 'never', 'had', 'done', 'in', 'the', 'movies', 'or', 'in', 'the', 'scooby', '-', 'doo', 'where', 'are', 'you', '?', 'show', '.', 'the', 'theme', 'tune', 'was', \"n't\", 'very', 'good', 'either', ',', 'i', 'ca', \"n't\", 'even', 'remember', 'it', ',', 'and', 'the', 'jokes', 'were', 'lame', 'and', 'contrived', '.', 'though', ',', 'i', 'do', 'acknowledge', 'that', 'there', 'is', 'a', 'very', 'talented', 'voice', 'cast', ',', 'had', 'they', 'had', 'better', 'material', ',', 'and', 'had', \"n't\", 'been', 'told', 'to', 'sound', 'as', 'different', 'to', 'the', 'original', 'voices', 'as', 'humanly', 'possible', ',', 'which', 'they', 'did', ',', 'might', 'i', 'add', '.', 'in', 'conclusion', ',', 'i', 'personally', 'thought']\n",
      "summary:\n",
      "['[CLS]', 'the', 'all', 'you', 'you', 'you', 'you', 'you', 'you', 'you', 'you', 'was', 'was', 'was', 'was', 'you', 'you', 'was', 'was', 'was', 'was', 'was', 'you', 'you', 'was', 'was', 'was', 'was', 'was', 'you', 'you', 'was', 'was', 'was', 'was', 'was', 'you', 'you', 'was', 'was', 'was', 'was', 'was', 'you', 'you', 'was', 'was', 'was', 'was', 'was']\n",
      "real summary:\n",
      "['[CLS]', 'i', 'am', '17', ',', 'and', 'i', 'still', 'like', 'most', 'of', 'the', 'scooby', 'doo', 'movies', 'and', 'the', 'old', 'episodes', '.', 'i', 'love', 'the', '1990s', 'movies', ',', 'and', 'recently', 'we', 'were', 'treated', 'to', 'one', 'of', 'the', 'better', 'direct', 'to', 'dvd', 'scooby', 'doo', 'outings', 'of', 'this', 'decade', ',', 'scooby', 'doo', 'and']\n",
      "reconsturct out:\n",
      "[',', 'on', 'on', 'on', 'on', 'on', 'on', 'on', 'on', 'on', 'on', 'on', 'on', 'on', 'on', 'on', 'on', 'on', 'on', 'on', 'on', 'on', 'on', 'on', 'on', 'on', 'on', 'on', 'on', 'on', 'on', 'on', 'on', 'on', 'on', 'on', 'on', 'on', 'on', 'on', 'on', 'on', 'on', 'on', 'on', 'on', 'on', 'on', 'on', 'on', 'on', 'on', 'on', 'on', 'on', 'on', 'on', 'on', 'on', 'on', 'on', 'on', 'on', 'on', 'on', 'on', 'on', 'on', 'on', 'on', 'on', 'on', 'on', 'on', 'on', 'on', 'on', 'on', 'on', 'on', 'on', 'on', 'on', 'on', 'on', 'on', 'on', 'on', 'on', 'on', 'on', 'on', 'on', 'on', 'on', 'on', 'on', 'on', 'on', 'on', 'on', 'on', 'on', 'on', 'on', 'on', 'on', 'on', 'on', 'on', 'on', 'on', 'on', 'on', 'on', 'on', 'on', 'on', 'on', 'on', 'on', 'on', 'on', 'on', 'on', 'on', 'on', 'on', 'on', 'on', 'on', 'on', 'on', 'on', 'on', 'on', 'on', 'on', 'on', 'on', 'on', 'on', 'on', 'on', 'on', 'on', 'on', 'on', 'on', 'on', 'on', 'on', 'on', 'on', 'on', 'on', 'on', 'on', 'on', 'on', 'on', 'on', 'on', 'on', 'on', 'on', 'on', 'on', 'on', 'on', 'on', 'on', 'on', 'on', 'on', 'on', 'on', 'on', 'on', 'on', 'on', 'on', 'on', 'on', 'on', 'on', 'on', 'on', 'on', 'on', 'on', 'on', 'on', 'on', 'on', 'on', 'on', 'on', 'on', 'on', 'on', 'on', 'on', 'on', 'on', 'on', 'on', 'on', 'on', 'on', 'on', 'on', 'on', 'on', 'on', 'on', 'on', 'on', 'on', 'on', 'on', 'on', 'on', 'on', 'on', 'on', 'on', 'on', 'on', 'on', 'on', 'on', 'on', 'on', 'on', 'on', 'on', 'on', 'on', 'on', 'on', 'on', 'on', 'on', 'on', 'on', 'on', 'on', 'on', 'on', 'on', 'on', 'on', 'on', 'on', 'on', 'on', 'on', 'on', 'on', 'on', 'on', 'on', 'on', 'on', 'on', 'on', 'on', 'on', 'on', 'on', 'on', 'on', 'on', 'on', 'on', 'on', 'on', 'on', 'on', 'on', 'on', 'on', 'on', 'on', 'on', 'on', 'on', 'on', 'on', 'on', 'on', 'on', 'on', 'on', 'on', 'on', 'on', 'on']\n",
      "\n"
     ]
    },
    {
     "name": "stdout",
     "output_type": "stream",
     "text": [
      "origin:\n",
      "['[CLS]', 'i', 'first', 'heard', 'about', 'this', 'film', 'about', '20', 'years', 'ago', 'when', 'i', 'was', 'a', 'kid', 'in', 'grade', 'school', '(', '!', ')', ',', 'it', 'just', 'so', 'happened', 'that', 'i', 'was', 'thumbing', 'through', 'the', 'encyclopedias', 'in', 'the', 'classroom', 'one', 'day', ',', 'and', 'under', 'the', 'entry', 'for', 'movies', '(', 'or', 'cinema', ',', 'i', 'do', \"n't\", 'remember', ')', ',', 'were', 'several', 'stills', 'for', 'different', 'movies', 'from', 'mainstream', 'to', 'experimental', ',', 'and', 'one', 'of', 'them', 'shown', 'on', 'the', 'page', 'was', 'a', 'still', 'for', 'offon', '.', 'it', 'really', 'intrigued', 'me', ',', 'since', 'it', 'stood', 'out', 'the', 'most', 'on', 'the', 'page', '(', 'it', 'was', 'a', 'still', 'from', 'the', 'film', 'of', 'the', 'scene', 'with', 'the', 'eye', 'with', 'other', 'elements', 'superimposed', 'over', 'it', ')', '.about', '18', 'or', 'so', 'years', 'later', ',', 'the', 'public', 'library', 'here', 'where', 'i', 'live', 'had', 'available', 'for', 'checkout', 'the', 'whole', '4', '-', 'dvd', 'set', 'of', '\"', 'treasures', 'of', 'american', 'film', 'archives', '\"', 'released', 'by', 'the', 'national', 'film', 'preservation', 'foundation', '.', 'so', 'when', 'i', 'was', 'reading', 'the', 'notes', 'on', 'the', 'dvd', 'cases', 'for', 'the', 'set', ',', 'i', 'was', 'quite', 'pleasantly', 'surprised', 'to', 'see', 'that', 'offon', 'was', 'on', 'one', 'of', 'the', 'discs', '.', 'after', 'all', 'these', 'years', ',', 'i', 'could', 'finally', 'see', 'the', 'film', '!', 'after', 'viewing', 'it', ',', 'it', 'slightly', 'was', \"n't\", 'was', 'i', 'was', 'expecting', 'it', 'to', 'be', '(', 'it', 'tended', 'to', 'be', 'a', 'more', 'organic', '-', 'looking', 'film', ',', 'not', 'that', 'that', \"'s\", 'a', 'bad', 'thing', ',', 'but', 'i', 'was', 'expecting', 'it', 'to', 'have', 'a', 'more', 'electronic', 'aesthetic', ')', ',', 'but', 'it', 'was', 'still', 'an', 'impressive', 'film', ',', 'imho', ',', 'considering', 'the', 'techniques', 'scott', 'bartlett', 'used', 'to', 'make', 'the', 'film', ',', 'including', 'hand', '-', 'tinting', 'the', 'film', 'itself', ',', 'and', 'using', 'video', 'equipment', 'for', 'some', 'of', 'the', 'film', \"'s\", 'scenes', '(', 'filmed', 'off', 'of', 'a', 'video', 'monitor', ')', ',', 'giving', 'it', 'a', 'more']\n",
      "summary:\n",
      "['[CLS]', 'the', 'the', 'would', 'you', 'you', 'you', 'you', 'you', 'i', 'i', 'i', 'i', 'i', 'i', 'i', 'i', 'i', 'i', 'i', 'i', 'i', 'i', 'i', 'i', 'i', 'i', 'i', 'i', 'i', 'i', 'i', 'i', 'i', 'i', 'i', 'i', 'i', 'i', 'i', 'i', 'i', 'i', 'i', 'i', 'i', 'i', 'i', 'i', 'i']\n",
      "real summary:\n",
      "['[CLS]', 'i', 'first', 'heard', 'about', 'this', 'film', 'about', '20', 'years', 'ago', 'when', 'i', 'was', 'a', 'kid', 'in', 'grade', 'school', '(', '!', ')', ',', 'it', 'just', 'so', 'happened', 'that', 'i', 'was', 'thumbing', 'through', 'the', 'encyclopedias', 'in', 'the', 'classroom', 'one', 'day', ',', 'and', 'under', 'the', 'entry', 'for', 'movies', '(', 'or', 'cinema']\n",
      "reconsturct out:\n",
      "[',', 'on', 'on', 'on', 'on', 'on', 'on', 'on', 'on', 'on', 'on', 'on', 'on', 'on', 'on', 'on', 'on', 'on', 'on', 'on', 'on', 'on', 'on', 'on', 'on', 'on', 'on', 'on', 'on', 'on', 'on', 'on', 'on', 'on', 'on', 'on', 'on', 'on', 'on', 'on', 'on', 'on', 'on', 'on', 'on', 'on', 'on', 'on', 'on', 'on', 'on', 'on', 'on', 'on', 'on', 'on', 'on', 'on', 'on', 'on', 'on', 'on', 'on', 'on', 'on', 'on', 'on', 'on', 'on', 'on', 'on', 'on', 'on', 'on', 'on', 'on', 'on', 'on', 'on', 'on', 'on', 'on', 'on', 'on', 'on', 'on', 'on', 'on', 'on', 'on', 'on', 'on', 'on', 'on', 'on', 'on', 'on', 'on', 'on', 'on', 'on', 'on', 'on', 'on', 'on', 'on', 'on', 'on', 'on', 'on', 'on', 'on', 'on', 'on', 'on', 'on', 'on', 'on', 'on', 'on', 'on', 'on', 'on', 'on', 'on', 'on', 'on', 'on', 'on', 'on', 'on', 'on', 'on', 'on', 'on', 'on', 'on', 'on', 'on', 'on', 'on', 'on', 'on', 'on', 'on', 'on', 'on', 'on', 'on', 'on', 'on', 'on', 'on', 'on', 'on', 'on', 'on', 'on', 'on', 'on', 'on', 'on', 'on', 'on', 'on', 'on', 'on', 'on', 'on', 'on', 'on', 'on', 'on', 'on', 'on', 'on', 'on', 'on', 'on', 'on', 'on', 'on', 'on', 'on', 'on', 'on', 'on', 'on', 'on', 'on', 'on', 'on', 'on', 'on', 'on', 'on', 'on', 'on', 'on', 'on', 'on', 'on', 'on', 'on', 'on', 'on', 'on', 'on', 'on', 'on', 'on', 'on', 'on', 'on', 'on', 'on', 'on', 'on', 'on', 'on', 'on', 'on', 'on', 'on', 'on', 'on', 'on', 'on', 'on', 'on', 'on', 'on', 'on', 'on', 'on', 'on', 'on', 'on', 'on', 'on', 'on', 'on', 'on', 'on', 'on', 'on', 'on', 'on', 'on', 'on', 'on', 'on', 'on', 'on', 'on', 'on', 'on', 'on', 'on', 'on', 'on', 'on', 'on', 'on', 'on', 'on', 'on', 'on', 'on', 'on', 'on', 'on', 'on', 'on', 'on', 'on', 'on', 'on', 'on', 'on', 'on', 'on', 'on', 'on', 'on', 'on', 'on', 'on', 'on', 'on', 'on', 'on', 'on', 'on', 'on', 'on', 'on', 'on', 'on']\n",
      "\n",
      "origin:\n",
      "['[CLS]', 'everyone', 'in', 'the', 'cast', ',', 'from', 'sugiyama', 'to', 'aoki', 'and', 'toyoko', 'is', 'someone', 'we', 'know', 'in', 'everyday', 'life', '.', 'they', 'were', 'so', 'natural', ',', 'and', 'sugiyama', \"'s\", 'transformation', 'is', 'incredibly', 'believable', '.', 'the', 'score', 'is', 'so', 'moving', ',', 'it', 'brought', 'me', 'to', 'tears', '.', 'the', 'choreography', 'was', 'beautiful', 'without', 'seeming', 'athletic', '.', 'mai', \"'s\", 'graceful', 'dancing', 'and', 'charm', 'gave', 'me', 'goosebumps', '.', 'tamako', 'is', 'such', 'a', 'wonderfully', 'delightful', 'character', '.', 'you', 'can', 'almost', 'see', 'the', 'charmed', 'schoolgirl', 'in', 'her', 'face', 'as', 'she', 'reminisces', 'about', 'seeing', '\"', 'the', 'king', 'and', 'i', '\"', '.', 'aoki', \"'s\", 'character', 'is', 'both', 'hilarious', 'and', 'pitiful', '.', 'masako', 'is', 'so', 'overwhelmingly', 'natural', 'as', 'the', 'bewildered', 'wife', ',', 'you', 'almost', 'want', 'to', 'hug', 'her', 'to', 'reassure', 'her', 'that', 'everything', 'will', 'be', 'all', 'right', '.', 'this', 'film', 'is', 'truly', 'a', 'keeper', '.', '[SEP]', '[PAD]', '[PAD]', '[PAD]', '[PAD]', '[PAD]', '[PAD]', '[PAD]', '[PAD]', '[PAD]', '[PAD]', '[PAD]', '[PAD]', '[PAD]', '[PAD]', '[PAD]', '[PAD]', '[PAD]', '[PAD]', '[PAD]', '[PAD]', '[PAD]', '[PAD]', '[PAD]', '[PAD]', '[PAD]', '[PAD]', '[PAD]', '[PAD]', '[PAD]', '[PAD]', '[PAD]', '[PAD]', '[PAD]', '[PAD]', '[PAD]', '[PAD]', '[PAD]', '[PAD]', '[PAD]', '[PAD]', '[PAD]', '[PAD]', '[PAD]', '[PAD]', '[PAD]', '[PAD]', '[PAD]', '[PAD]', '[PAD]', '[PAD]', '[PAD]', '[PAD]', '[PAD]', '[PAD]', '[PAD]', '[PAD]', '[PAD]', '[PAD]', '[PAD]', '[PAD]', '[PAD]', '[PAD]', '[PAD]', '[PAD]', '[PAD]', '[PAD]', '[PAD]', '[PAD]', '[PAD]', '[PAD]', '[PAD]', '[PAD]', '[PAD]', '[PAD]', '[PAD]', '[PAD]', '[PAD]', '[PAD]', '[PAD]', '[PAD]', '[PAD]', '[PAD]', '[PAD]', '[PAD]', '[PAD]', '[PAD]', '[PAD]', '[PAD]', '[PAD]', '[PAD]', '[PAD]', '[PAD]', '[PAD]', '[PAD]', '[PAD]', '[PAD]', '[PAD]', '[PAD]', '[PAD]', '[PAD]', '[PAD]', '[PAD]', '[PAD]', '[PAD]', '[PAD]', '[PAD]', '[PAD]', '[PAD]', '[PAD]', '[PAD]', '[PAD]', '[PAD]', '[PAD]', '[PAD]', '[PAD]', '[PAD]', '[PAD]', '[PAD]', '[PAD]', '[PAD]', '[PAD]', '[PAD]', '[PAD]', '[PAD]', '[PAD]', '[PAD]', '[PAD]', '[PAD]', '[PAD]', '[PAD]', '[PAD]', '[PAD]', '[PAD]', '[PAD]', '[PAD]', '[PAD]', '[PAD]', '[PAD]', '[PAD]', '[PAD]', '[PAD]', '[PAD]', '[PAD]', '[PAD]', '[PAD]', '[PAD]', '[PAD]', '[PAD]', '[PAD]', '[PAD]', '[PAD]', '[PAD]', '[PAD]', '[PAD]', '[PAD]', '[PAD]', '[PAD]', '[PAD]', '[PAD]', '[PAD]', '[PAD]', '[PAD]', '[PAD]', '[PAD]']\n",
      "summary:\n",
      "['[CLS]', 'the', 'the', 'the', 'a', 'to', 'to', 'to', 'one', 'to', 'one', 'to', 'one', 'to', 'one', 'to', 'one', 'to', 'one', 'to', 'one', 'to', 'one', 'to', 'one', 'to', 'one', 'to', 'one', 'to', 'one', 'to', 'one', 'to', 'one', 'to', 'one', 'to', 'one', 'to', 'one', 'to', 'one', 'to', 'one', 'to', 'one', 'to', 'one', 'to']\n",
      "real summary:\n",
      "['[CLS]', 'everyone', 'in', 'the', 'cast', ',', 'from', 'sugiyama', 'to', 'aoki', 'and', 'toyoko', 'is', 'someone', 'we', 'know', 'in', 'everyday', 'life', '.', 'they', 'were', 'so', 'natural', ',', 'and', 'sugiyama', \"'s\", 'transformation', 'is', 'incredibly', 'believable', '.', 'the', 'score', 'is', 'so', 'moving', ',', 'it', 'brought', 'me', 'to', 'tears', '.', 'the', 'choreography', 'was', 'beautiful']\n",
      "reconsturct out:\n",
      "[',', ',', 'on', 'on', 'on', 'on', 'on', 'on', 'on', 'on', 'on', 'on', 'on', 'on', 'on', 'on', 'on', 'on', 'on', 'on', 'on', 'on', 'on', 'on', 'on', 'on', 'on', 'on', 'on', 'on', 'on', 'on', 'on', 'on', 'on', 'on', 'on', 'on', 'on', 'on', 'on', 'on', 'on', 'on', 'on', 'on', 'on', 'on', 'on', 'on', 'on', 'on', 'on', 'on', 'on', 'on', 'on', 'on', 'on', 'on', 'on', 'on', 'on', 'on', 'on', 'on', 'on', 'on', 'on', 'on', 'on', 'on', 'on', 'on', 'on', 'on', 'on', 'on', 'on', 'on', 'on', 'on', 'on', 'on', 'on', 'on', 'on', 'on', 'on', 'on', 'on', 'on', 'on', 'on', 'on', 'on', 'on', 'on', 'on', 'on', 'on', 'on', 'on', 'on', 'on', 'on', 'on', 'on', 'on', 'on', 'on', 'on', 'on', 'on', 'on', 'on', 'on', 'on', 'on', 'on', 'on', 'on', 'on', 'on', 'on', 'on', 'on', 'on', 'on', 'on', 'on', 'on', 'on', 'on', 'on', 'on', 'on', 'on', 'on', 'on', 'on', 'on', 'on', 'on', 'on', 'on', 'on', 'on', 'on', 'on', 'on', 'on', 'on', 'on', 'on', 'on', 'on', 'on', 'on', 'on', 'on', 'on', 'on', 'on', 'on', 'on', 'on', 'on', 'on', 'on', 'on', 'on', 'on', 'on', 'on', 'on', 'on', 'on', 'on', 'on', 'on', 'on', 'on', 'on', 'on', 'on', 'on', 'on', 'on', 'on', 'on', 'on', 'on', 'on', 'on', 'on', 'on', 'on', 'on', 'on', 'on', 'on', 'on', 'on', 'on', 'on', 'on', 'on', 'on', 'on', 'on', 'on', 'on', 'on', 'on', 'on', 'on', 'on', 'on', 'on', 'on', 'on', 'on', 'on', 'on', 'on', 'on', 'on', 'on', 'on', 'on', 'on', 'on', 'on', 'on', 'on', 'on', 'on', 'on', 'on', 'on', 'on', 'on', 'on', 'on', 'on', 'on', 'on', 'on', 'on', 'on', 'on', 'on', 'on', 'on', 'on', 'on', 'on', 'on', 'on', 'on', 'on', 'on', 'on', 'on', 'on', 'on', 'on', 'on', 'on', 'on', 'on', 'on', 'on', 'on', 'on', 'on', 'on', 'on', 'on', 'on', 'on', 'on', 'on', 'on', 'on', 'on', 'on', 'on', 'on', 'on', 'on', 'on', 'on', 'on', 'on', 'on', 'on', 'on']\n",
      "\n"
     ]
    },
    {
     "name": "stdout",
     "output_type": "stream",
     "text": [
      "origin:\n",
      "['[CLS]', 'this', 'movie', 'should', 'not', 'be', 'watched', 'as', 'it', 'was', 'meant', 'to', 'be', 'a', 'flop', '.', 'ram', 'gopal', 'verma', 'first', 'wanted', 'to', 'make', 'this', 'a', 'remake', 'of', 'classic', 'bollywood', 'movie', '\"', 'sholay', '\"', ',', 'but', 'after', 'having', 'problems', 'with', 'the', 'original', 'makers', 'decided', 'to', 'go', 'ahead', 'with', 'the', 'project', 'and', '.', '.', '.', 'i', 'guess', 'leave', 'all', 'the', 'good', 'parts', 'of', 'the', 'movie', '(', 'acting', ',', 'script', ',', 'songs', ',', 'music', ',', 'comedy', ',', 'action', 'etc', ')', 'out', 'and', 'shoot', 'the', 'movie', 'just', 'because', 'he', 'already', 'happen', 'to', 'hire', 'the', 'crew', '.', 'waste', 'of', 'money', ',', 'waste', 'of', 'time', '.', 'after', 'making', 'movies', 'like', 'rangeela', ',', 'satya', ',', 'and', 'company', 'he', 'pulled', 'a', 'coppola', '(', 'godfather', ')', 'on', 'us', ';', 'what', 'were', 'you', 'thinking', 'rgv', '?', 'anyways', ',', 'the', 'story', 'is', ',', 'though', 'hard', 'to', 'follow', ',', 'is', 'almost', 'like', 'the', 'old', 'sholay', '.', 'ajay', 'devgan', 'playing', 'heero', '(', 'beeru', ',', 'sholay', ')', 'and', 'ajay', ',', 'new', 'kid', 'on', 'the', 'block', 'playing', 'ajay', '(', 'jay', ',', 'sholay', ')', '.', 'both', '\"', 'bad', 'yet', 'funny', '\"', 'friends', 'help', 'a', 'cop', 'capture', 'a', 'bad', 'guy', 'first', '.', 'later', 'in', 'the', 'movie', ',', 'now', 'retired', 'cop', 'hires', 'them', 'as', 'personal', 'security', 'and', 'safeguarding', 'from', 'the', 'hands', 'of', 'a', 'very', 'most', 'wanted', 'bubban', 'played', 'by', 'amitabh', 'bachan', '.', 'in', 'case', 'you', 'have', \"n't\", 'been', 'watching', 'bollywood', 'movies', ',', 'the', 'good', 'guys', 'win', 'in', 'the', 'end', '.', 'there', 'i', 'just', 'saved', 'you', '3', 'precious', 'hours', 'of', 'your', 'life', '!', '[SEP]', '[PAD]', '[PAD]', '[PAD]', '[PAD]', '[PAD]', '[PAD]', '[PAD]', '[PAD]', '[PAD]', '[PAD]', '[PAD]', '[PAD]', '[PAD]', '[PAD]', '[PAD]', '[PAD]', '[PAD]', '[PAD]', '[PAD]', '[PAD]', '[PAD]', '[PAD]', '[PAD]', '[PAD]', '[PAD]', '[PAD]', '[PAD]', '[PAD]', '[PAD]', '[PAD]', '[PAD]', '[PAD]', '[PAD]', '[PAD]', '[PAD]', '[PAD]', '[PAD]', '[PAD]', '[PAD]', '[PAD]', '[PAD]', '[PAD]', '[PAD]', '[PAD]', '[PAD]', '[PAD]', '[PAD]', '[PAD]', '[PAD]', '[PAD]', '[PAD]', '[PAD]', '[PAD]', '[PAD]', '[PAD]']\n",
      "summary:\n",
      "['[CLS]', 'the', 'the', 'the', 'on', 'on', 'on', 'on', 'on', 'on', 'on', 'on', 'on', 'on', 'on', 'on', 'on', 'on', 'on', 'on', 'on', 'on', 'on', 'on', 'on', 'on', 'on', 'on', 'on', 'on', 'on', 'on', 'on', 'on', 'on', 'on', 'on', 'on', 'on', 'on', 'on', 'on', 'on', 'on', 'on', 'on', 'on', 'on', 'on', 'on']\n",
      "real summary:\n",
      "['[CLS]', 'this', 'movie', 'should', 'not', 'be', 'watched', 'as', 'it', 'was', 'meant', 'to', 'be', 'a', 'flop', '.', 'ram', 'gopal', 'verma', 'first', 'wanted', 'to', 'make', 'this', 'a', 'remake', 'of', 'classic', 'bollywood', 'movie', '\"', 'sholay', '\"', ',', 'but', 'after', 'having', 'problems', 'with', 'the', 'original', 'makers', 'decided', 'to', 'go', 'ahead', 'with', 'the', 'project']\n",
      "reconsturct out:\n",
      "[',', ',', 'on', 'on', 'on', 'on', 'on', 'on', 'on', 'on', 'on', 'on', 'on', 'on', 'on', 'on', 'on', 'on', 'on', 'on', 'on', 'on', 'on', 'on', 'on', 'on', 'on', 'on', 'on', 'on', 'on', 'on', 'on', 'on', 'on', 'on', 'on', 'on', 'on', 'on', 'on', 'on', 'on', 'on', 'on', 'on', 'on', 'on', 'on', 'on', 'on', 'on', 'on', 'on', 'on', 'on', 'on', 'on', 'on', 'on', 'on', 'on', 'on', 'on', 'on', 'on', 'on', 'on', 'on', 'on', 'on', 'on', 'on', 'on', 'on', 'on', 'on', 'on', 'on', 'on', 'on', 'on', 'on', 'on', 'on', 'on', 'on', 'on', 'on', 'on', 'on', 'on', 'on', 'on', 'on', 'on', 'on', 'on', 'on', 'on', 'on', 'on', 'on', 'on', 'on', 'on', 'on', 'on', 'on', 'on', 'on', 'on', 'on', 'on', 'on', 'on', 'on', 'on', 'on', 'on', 'on', 'on', 'on', 'on', 'on', 'on', 'on', 'on', 'on', 'on', 'on', 'on', 'on', 'on', 'on', 'on', 'on', 'on', 'on', 'on', 'on', 'on', 'on', 'on', 'on', 'on', 'on', 'on', 'on', 'on', 'on', 'on', 'on', 'on', 'on', 'on', 'on', 'on', 'on', 'on', 'on', 'on', 'on', 'on', 'on', 'on', 'on', 'on', 'on', 'on', 'on', 'on', 'on', 'on', 'on', 'on', 'on', 'on', 'on', 'on', 'on', 'on', 'on', 'on', 'on', 'on', 'on', 'on', 'on', 'on', 'on', 'on', 'on', 'on', 'on', 'on', 'on', 'on', 'on', 'on', 'on', 'on', 'on', 'on', 'on', 'on', 'on', 'on', 'on', 'on', 'on', 'on', 'on', 'on', 'on', 'on', 'on', 'on', 'on', 'on', 'on', 'on', 'on', 'on', 'on', 'on', 'on', 'on', 'on', 'on', 'on', 'on', 'on', 'on', 'on', 'on', 'on', 'on', 'on', 'on', 'on', 'on', 'on', 'on', 'on', 'on', 'on', 'on', 'on', 'on', 'on', 'on', 'on', 'on', 'on', 'on', 'on', 'on', 'on', 'on', 'on', 'on', 'on', 'on', 'on', 'on', 'on', 'on', 'on', 'on', 'on', 'on', 'on', 'on', 'on', 'on', 'on', 'on', 'on', 'on', 'on', 'on', 'on', 'on', 'on', 'on', 'on', 'on', 'on', 'on', 'on', 'on', 'on', 'on', 'on', 'on', 'on', 'on', 'on']\n",
      "\n",
      "origin:\n",
      "['[CLS]', 'upon', 'the', 'straight', 'story', 'release', 'in', '1999', ',', 'it', 'was', 'praised', 'for', 'being', 'david', 'lynch', \"'s\", 'first', 'film', 'that', 'ignored', 'his', 'regular', 'themes', 'of', 'the', 'macabre', 'and', 'the', 'surreal', '.', 'based', 'on', 'a', 'true', 'story', 'of', 'one', 'man', 'and', 'his', 'journey', 'to', 'visit', 'his', 'estranged', 'brother', 'on', 'a', 'john', 'deere', \"'\", '66', 'mower', ',', 'at', 'first', 'glance', 'its', 'an', 'odd', 'story', 'for', 'lynch', 'to', 'direct', '.', 'yet', 'as', 'the', 'story', 'develops', 'you', 'can', 'see', 'some', 'of', 'lynch', \"'s\", 'trademark', 'motifs', 'coming', 'through', '.', 'lynch', \"'\", 's', 'focus', 'on', 'small', 'town', 'america', 'and', 'its', 'inhabitants', 'is', 'still', 'as', 'prevalent', 'as', 'in', 'his', 'previous', 'efforts', 'such', 'as', 'blue', 'velvet', 'or', 'twin', 'peaks', ',', 'but', 'the', 'most', 'notable', 'difference', 'is', 'that', 'the', 'weirdness', 'is', 'curbed', 'down', '.', 'the', 'restrictions', 'imposed', 'means', 'that', 'the', 'film', 'has', 'the', 'notable', 'accolade', 'of', 'being', 'one', 'of', 'the', 'few', 'live', 'action', 'films', 'that', 'i', 'can', 'think', 'of', 'that', 'features', 'a', 'g', 'rating', '.', 'incredibly', 'significant', ',', 'this', 'films', 'stands', 'as', 'evidence', 'that', 'beautiful', 'and', 'significant', 'family', 'films', 'can', 'be', 'produced', '.', 'the', 'straight', 'story', 'was', 'the', 'first', 'feature', 'which', 'lynch', 'directed', 'where', 'he', 'had', 'no', 'hand', 'at', 'writing', '.', 'for', 'many', 'lynch', 'devotees', 'this', 'was', 'a', 'huge', 'negative', 'point', '.', 'almost', 'universally', 'acclaimed', ',', 'the', 'only', 'overly', 'negative', 'review', 'by', 'james', 'brundage', 'of', 'filmcritic', '.', 'com', 'focused', 'on', 'this', 'very', 'criticism', ',', 'that', 'it', 'was', \"n't\", 'a', 'typical', 'lynch', 'film', '.', '\"', 'lynch', 'is', 'struggling', 'within', 'the', 'mold', 'of', 'a', 'g', '-', 'rated', 'story', 'that', 'is', \"n't\", 'his', 'own', '.', '\"', 'brundage', 'claims', ',', 'with', 'his', 'protagonist', 'alvin', 'straight', '\"', 'quoting', 'lines', 'directly', 'from', 'confucious', '.', '\"', 'he', 'argues', 'that', 'the', 'story', 'is', 'weak', 'and', 'the', 'dialogue', 'even', 'worse', '.', 'yet', 'this', 'is', 'about', 'the', 'only', 'criticism', 'that', 'many', 'will', 'read', 'for', 'the', 'film', '.', 'whilst', 'it']\n",
      "summary:\n",
      "['[CLS]', 'the', 'the', 'the', 'on', 'on', 'on', 'on', 'on', 'on', 'i', 'i', 'i', 'i', 'i', 'i', 'i', 'i', 'i', 'i', 'i', 'i', 'i', 'i', 'i', 'i', 'i', 'i', 'i', 'i', 'i', 'i', 'i', 'i', 'i', 'i', 'i', 'i', 'i', 'i', 'i', 'i', 'i', 'i', 'i', 'i', 'i', 'i', 'i', 'i']\n",
      "real summary:\n",
      "['[CLS]', 'upon', 'the', 'straight', 'story', 'release', 'in', '1999', ',', 'it', 'was', 'praised', 'for', 'being', 'david', 'lynch', \"'s\", 'first', 'film', 'that', 'ignored', 'his', 'regular', 'themes', 'of', 'the', 'macabre', 'and', 'the', 'surreal', '.', 'based', 'on', 'a', 'true', 'story', 'of', 'one', 'man', 'and', 'his', 'journey', 'to', 'visit', 'his', 'estranged', 'brother', 'on', 'a']\n",
      "reconsturct out:\n",
      "[',', ',', 'on', 'on', 'on', 'on', 'on', 'on', 'on', 'on', 'on', 'on', 'on', 'on', 'on', 'on', 'on', 'on', 'on', 'on', 'on', 'on', 'on', 'on', 'on', 'on', 'on', 'on', 'on', 'on', 'on', 'on', 'on', 'on', 'on', 'on', 'on', 'on', 'on', 'on', 'on', 'on', 'on', 'on', 'on', 'on', 'on', 'on', 'on', 'on', 'on', 'on', 'on', 'on', 'on', 'on', 'on', 'on', 'on', 'on', 'on', 'on', 'on', 'on', 'on', 'on', 'on', 'on', 'on', 'on', 'on', 'on', 'on', 'on', 'on', 'on', 'on', 'on', 'on', 'on', 'on', 'on', 'on', 'on', 'on', 'on', 'on', 'on', 'on', 'on', 'on', 'on', 'on', 'on', 'on', 'on', 'on', 'on', 'on', 'on', 'on', 'on', 'on', 'on', 'on', 'on', 'on', 'on', 'on', 'on', 'on', 'on', 'on', 'on', 'on', 'on', 'on', 'on', 'on', 'on', 'on', 'on', 'on', 'on', 'on', 'on', 'on', 'on', 'on', 'on', 'on', 'on', 'on', 'on', 'on', 'on', 'on', 'on', 'on', 'on', 'on', 'on', 'on', 'on', 'on', 'on', 'on', 'on', 'on', 'on', 'on', 'on', 'on', 'on', 'on', 'on', 'on', 'on', 'on', 'on', 'on', 'on', 'on', 'on', 'on', 'on', 'on', 'on', 'on', 'on', 'on', 'on', 'on', 'on', 'on', 'on', 'on', 'on', 'on', 'on', 'on', 'on', 'on', 'on', 'on', 'on', 'on', 'on', 'on', 'on', 'on', 'on', 'on', 'on', 'on', 'on', 'on', 'on', 'on', 'on', 'on', 'on', 'on', 'on', 'on', 'on', 'on', 'on', 'on', 'on', 'on', 'on', 'on', 'on', 'on', 'on', 'on', 'on', 'on', 'on', 'on', 'on', 'on', 'on', 'on', 'on', 'on', 'on', 'on', 'on', 'on', 'on', 'on', 'on', 'on', 'on', 'on', 'on', 'on', 'on', 'on', 'on', 'on', 'on', 'on', 'on', 'on', 'on', 'on', 'on', 'on', 'on', 'on', 'on', 'on', 'on', 'on', 'on', 'on', 'on', 'on', 'on', 'on', 'on', 'on', 'on', 'on', 'on', 'on', 'on', 'on', 'on', 'on', 'on', 'on', 'on', 'on', 'on', 'on', 'on', 'on', 'on', 'on', 'on', 'on', 'on', 'on', 'on', 'on', 'on', 'on', 'on', 'on', 'on', 'on', 'on', 'on', 'on', 'on']\n",
      "\n"
     ]
    },
    {
     "name": "stdout",
     "output_type": "stream",
     "text": [
      "origin:\n",
      "['[CLS]', 'bill', 'paxton', 'stars', 'in', 'and', 'directs', 'this', 'highly', 'original', 'film', '.', 'having', 'watched', 'the', 'first', 'time', 'i', 'was', 'by', 'how', 'good', 'it', 'was', '.', 'the', 'reviews', 'i', 'had', 'heard', 'were', 'ok', '.', 'as', 'a', 'result', 'i', 'was', 'expecting', 'an', 'average', 'thriller', 'at', 'most', '.however', 'because', 'of', 'paxtons', 'excellent', 'directing', 'and', 'acting', 'the', 'film', 'is', 'well', 'worth', 'watching', ',', 'especially', 'if', 'you', 'are', 'a', 'horror', 'film', 'fanatic', '.', 'the', 'film', 'is', 'also', 'helped', 'by', 'the', 'plot', 'twists', 'which', 'keep', 'coming', 'until', 'the', 'closing', 'credits', '.', 'the', 'films', 'strongest', 'point', 'is', 'the', 'storyline', 'which', 'i', 'have', 'to', 'say', 'is', 'highly', 'original', 'and', 'is', 'like', 'i', 'have', 'ever', 'seen', 'before', '.', 'well', 'done', 'also', 'to', 'the', '2', 'young', 'leads', 'which', 'perfectly', 'convey', 'the', 'emotions', 'if', 'these', 'confused', 'boys', '.', 'i', 'give', 'this', 'film', '9', '/', '10', 'and', 'i', 'highly', 'recommend', 'that', 'everyone', 'catches', 'it', '.', '[SEP]', '[PAD]', '[PAD]', '[PAD]', '[PAD]', '[PAD]', '[PAD]', '[PAD]', '[PAD]', '[PAD]', '[PAD]', '[PAD]', '[PAD]', '[PAD]', '[PAD]', '[PAD]', '[PAD]', '[PAD]', '[PAD]', '[PAD]', '[PAD]', '[PAD]', '[PAD]', '[PAD]', '[PAD]', '[PAD]', '[PAD]', '[PAD]', '[PAD]', '[PAD]', '[PAD]', '[PAD]', '[PAD]', '[PAD]', '[PAD]', '[PAD]', '[PAD]', '[PAD]', '[PAD]', '[PAD]', '[PAD]', '[PAD]', '[PAD]', '[PAD]', '[PAD]', '[PAD]', '[PAD]', '[PAD]', '[PAD]', '[PAD]', '[PAD]', '[PAD]', '[PAD]', '[PAD]', '[PAD]', '[PAD]', '[PAD]', '[PAD]', '[PAD]', '[PAD]', '[PAD]', '[PAD]', '[PAD]', '[PAD]', '[PAD]', '[PAD]', '[PAD]', '[PAD]', '[PAD]', '[PAD]', '[PAD]', '[PAD]', '[PAD]', '[PAD]', '[PAD]', '[PAD]', '[PAD]', '[PAD]', '[PAD]', '[PAD]', '[PAD]', '[PAD]', '[PAD]', '[PAD]', '[PAD]', '[PAD]', '[PAD]', '[PAD]', '[PAD]', '[PAD]', '[PAD]', '[PAD]', '[PAD]', '[PAD]', '[PAD]', '[PAD]', '[PAD]', '[PAD]', '[PAD]', '[PAD]', '[PAD]', '[PAD]', '[PAD]', '[PAD]', '[PAD]', '[PAD]', '[PAD]', '[PAD]', '[PAD]', '[PAD]', '[PAD]', '[PAD]', '[PAD]', '[PAD]', '[PAD]', '[PAD]', '[PAD]', '[PAD]', '[PAD]', '[PAD]', '[PAD]', '[PAD]', '[PAD]', '[PAD]', '[PAD]', '[PAD]', '[PAD]', '[PAD]', '[PAD]', '[PAD]', '[PAD]', '[PAD]', '[PAD]', '[PAD]', '[PAD]', '[PAD]', '[PAD]', '[PAD]', '[PAD]', '[PAD]', '[PAD]', '[PAD]', '[PAD]', '[PAD]', '[PAD]', '[PAD]', '[PAD]', '[PAD]', '[PAD]', '[PAD]', '[PAD]', '[PAD]', '[PAD]', '[PAD]', '[PAD]', '[PAD]', '[PAD]']\n",
      "summary:\n",
      "['[CLS]', 'the', 'the', 'the', 'on', '\"', '\"', '\"', '\"', '\"', '\"', '\"', '\"', '\"', '\"', '\"', '\"', '\"', '\"', '\"', '\"', '\"', '\"', '\"', '\"', '\"', '\"', '\"', '\"', '\"', '\"', '\"', '\"', '\"', '\"', '\"', '\"', '\"', '\"', '\"', '\"', '\"', '\"', '\"', '\"', '\"', '\"', '\"', '\"', '\"']\n",
      "real summary:\n",
      "['[CLS]', 'bill', 'paxton', 'stars', 'in', 'and', 'directs', 'this', 'highly', 'original', 'film', '.', 'having', 'watched', 'the', 'first', 'time', 'i', 'was', 'by', 'how', 'good', 'it', 'was', '.', 'the', 'reviews', 'i', 'had', 'heard', 'were', 'ok', '.', 'as', 'a', 'result', 'i', 'was', 'expecting', 'an', 'average', 'thriller', 'at', 'most', '.however', 'because', 'of', 'paxtons', 'excellent']\n",
      "reconsturct out:\n",
      "[',', ',', 'on', 'on', 'on', 'on', 'on', 'on', 'on', 'on', 'on', 'on', 'on', 'on', 'on', 'on', 'on', 'on', 'on', 'on', 'on', 'on', 'on', 'on', 'on', 'on', 'on', 'on', 'on', 'on', 'on', 'on', 'on', 'on', 'on', 'on', 'on', 'on', 'on', 'on', 'on', 'on', 'on', 'on', 'on', 'on', 'on', 'on', 'on', 'on', 'on', 'on', 'on', 'on', 'on', 'on', 'on', 'on', 'on', 'on', 'on', 'on', 'on', 'on', 'on', 'on', 'on', 'on', 'on', 'on', 'on', 'on', 'on', 'on', 'on', 'on', 'on', 'on', 'on', 'on', 'on', 'on', 'on', 'on', 'on', 'on', 'on', 'on', 'on', 'on', 'on', 'on', 'on', 'on', 'on', 'on', 'on', 'on', 'on', 'on', 'on', 'on', 'on', 'on', 'on', 'on', 'on', 'on', 'on', 'on', 'on', 'on', 'on', 'on', 'on', 'on', 'on', 'on', 'on', 'on', 'on', 'on', 'on', 'on', 'on', 'on', 'on', 'on', 'on', 'on', 'on', 'on', 'on', 'on', 'on', 'on', 'on', 'on', 'on', 'on', 'on', 'on', 'on', 'on', 'on', 'on', 'on', 'on', 'on', 'on', 'on', 'on', 'on', 'on', 'on', 'on', 'on', 'on', 'on', 'on', 'on', 'on', 'on', 'on', 'on', 'on', 'on', 'on', 'on', 'on', 'on', 'on', 'on', 'on', 'on', 'on', 'on', 'on', 'on', 'on', 'on', 'on', 'on', 'on', 'on', 'on', 'on', 'on', 'on', 'on', 'on', 'on', 'on', 'on', 'on', 'on', 'on', 'on', 'on', 'on', 'on', 'on', 'on', 'on', 'on', 'on', 'on', 'on', 'on', 'on', 'on', 'on', 'on', 'on', 'on', 'on', 'on', 'on', 'on', 'on', 'on', 'on', 'on', 'on', 'on', 'on', 'on', 'on', 'on', 'on', 'on', 'on', 'on', 'on', 'on', 'on', 'on', 'on', 'on', 'on', 'on', 'on', 'on', 'on', 'on', 'on', 'on', 'on', 'on', 'on', 'on', 'on', 'on', 'on', 'on', 'on', 'on', 'on', 'on', 'on', 'on', 'on', 'on', 'on', 'on', 'on', 'on', 'on', 'on', 'on', 'on', 'on', 'on', 'on', 'on', 'on', 'on', 'on', 'on', 'on', 'on', 'on', 'on', 'on', 'on', 'on', 'on', 'on', 'on', 'on', 'on', 'on', 'on', 'on', 'on', 'on', 'on', 'on', 'on']\n",
      "\n",
      "origin:\n",
      "['[CLS]', 'so', 'what', \"'s\", 'the', 'big', 'fuss', 'out', 'of', 'making', 'an', 'indiana', 'jones', 'wannabe', 'when', 'you', 'have', 'an', 'actor', 'who', \"'s\", 'cast', 'as', 'a', 'fictional', 'dude', 'from', 'adventure', 'storybooks', 'who', 'does', \"n't\", 'want', 'to', 'go', 'out', 'on', 'an', 'adventure', '?', '?', '?', 'whoever', 'wrote', 'the', 'script', 'for', 'jake', 'speed', 'was', 'probably', 'fired', ',', 'but', 'for', 'whatever', 'reasons', 'possible', ',', 'this', 'movie', 'greatly', 'lacks', 'in', 'excitement', '!', 'that', 'does', \"n't\", 'mean', 'it', 'has', 'no', 'action', ',', 'but', 'look', 'on', 'the', 'dark', 'side', 'of', 'the', 'picture', '.', 'this', 'has', 'got', 'to', 'bare', 'no', 'resemblance', 'to', 'indiana', 'jones', 'or', 'other', 'action', '-', 'adventure', 'thrills', 'containing', 'cliffhangers', 'and', 'narrow', 'escapes', ',', 'and', 'jake', 'speed', 'was', 'promoted', 'that', 'way', 'using', 'clever', 'propaganda', 'to', 'make', 'me', 'and', 'several', 'others', 'interested', 'in', 'it', '!', 'besides', ',', 'i', \"'ve\", 'never', 'heard', 'of', 'the', 'guy', ',', 'so', 'who', 'needs', 'his', 'attention', '?', '[SEP]', '[PAD]', '[PAD]', '[PAD]', '[PAD]', '[PAD]', '[PAD]', '[PAD]', '[PAD]', '[PAD]', '[PAD]', '[PAD]', '[PAD]', '[PAD]', '[PAD]', '[PAD]', '[PAD]', '[PAD]', '[PAD]', '[PAD]', '[PAD]', '[PAD]', '[PAD]', '[PAD]', '[PAD]', '[PAD]', '[PAD]', '[PAD]', '[PAD]', '[PAD]', '[PAD]', '[PAD]', '[PAD]', '[PAD]', '[PAD]', '[PAD]', '[PAD]', '[PAD]', '[PAD]', '[PAD]', '[PAD]', '[PAD]', '[PAD]', '[PAD]', '[PAD]', '[PAD]', '[PAD]', '[PAD]', '[PAD]', '[PAD]', '[PAD]', '[PAD]', '[PAD]', '[PAD]', '[PAD]', '[PAD]', '[PAD]', '[PAD]', '[PAD]', '[PAD]', '[PAD]', '[PAD]', '[PAD]', '[PAD]', '[PAD]', '[PAD]', '[PAD]', '[PAD]', '[PAD]', '[PAD]', '[PAD]', '[PAD]', '[PAD]', '[PAD]', '[PAD]', '[PAD]', '[PAD]', '[PAD]', '[PAD]', '[PAD]', '[PAD]', '[PAD]', '[PAD]', '[PAD]', '[PAD]', '[PAD]', '[PAD]', '[PAD]', '[PAD]', '[PAD]', '[PAD]', '[PAD]', '[PAD]', '[PAD]', '[PAD]', '[PAD]', '[PAD]', '[PAD]', '[PAD]', '[PAD]', '[PAD]', '[PAD]', '[PAD]', '[PAD]', '[PAD]', '[PAD]', '[PAD]', '[PAD]', '[PAD]', '[PAD]', '[PAD]', '[PAD]', '[PAD]', '[PAD]', '[PAD]', '[PAD]', '[PAD]', '[PAD]', '[PAD]', '[PAD]', '[PAD]', '[PAD]', '[PAD]', '[PAD]', '[PAD]', '[PAD]', '[PAD]', '[PAD]', '[PAD]', '[PAD]', '[PAD]', '[PAD]', '[PAD]', '[PAD]', '[PAD]', '[PAD]', '[PAD]', '[PAD]', '[PAD]', '[PAD]', '[PAD]', '[PAD]', '[PAD]', '[PAD]', '[PAD]', '[PAD]', '[PAD]', '[PAD]', '[PAD]', '[PAD]', '[PAD]', '[PAD]', '[PAD]', '[PAD]', '[PAD]', '[PAD]', '[PAD]']\n",
      "summary:\n",
      "['[CLS]', 'the', 'the', 'the', 'on', 'on', 'on', '\"', '\"', '\"', '\"', '\"', '\"', '\"', '\"', '\"', '\"', '\"', '\"', '\"', '\"', '\"', '\"', '\"', '\"', '\"', '\"', '\"', '\"', '\"', '\"', '\"', '\"', '\"', '\"', '\"', '\"', '\"', '\"', '\"', '\"', '\"', '\"', '\"', '\"', '\"', '\"', '\"', '\"', '\"']\n",
      "real summary:\n",
      "['[CLS]', 'so', 'what', \"'s\", 'the', 'big', 'fuss', 'out', 'of', 'making', 'an', 'indiana', 'jones', 'wannabe', 'when', 'you', 'have', 'an', 'actor', 'who', \"'s\", 'cast', 'as', 'a', 'fictional', 'dude', 'from', 'adventure', 'storybooks', 'who', 'does', \"n't\", 'want', 'to', 'go', 'out', 'on', 'an', 'adventure', '?', '?', '?', 'whoever', 'wrote', 'the', 'script', 'for', 'jake', 'speed']\n",
      "reconsturct out:\n",
      "[',', ',', 'on', 'on', 'on', 'on', 'on', 'on', 'on', 'on', 'on', 'on', 'on', 'on', 'on', 'on', 'on', 'on', 'on', 'on', 'on', 'on', 'on', 'on', 'on', 'on', 'on', 'on', 'on', 'on', 'on', 'on', 'on', 'on', 'on', 'on', 'on', 'on', 'on', 'on', 'on', 'on', 'on', 'on', 'on', 'on', 'on', 'on', 'on', 'on', 'on', 'on', 'on', 'on', 'on', 'on', 'on', 'on', 'on', 'on', 'on', 'on', 'on', 'on', 'on', 'on', 'on', 'on', 'on', 'on', 'on', 'on', 'on', 'on', 'on', 'on', 'on', 'on', 'on', 'on', 'on', 'on', 'on', 'on', 'on', 'on', 'on', 'on', 'on', 'on', 'on', 'on', 'on', 'on', 'on', 'on', 'on', 'on', 'on', 'on', 'on', 'on', 'on', 'on', 'on', 'on', 'on', 'on', 'on', 'on', 'on', 'on', 'on', 'on', 'on', 'on', 'on', 'on', 'on', 'on', 'on', 'on', 'on', 'on', 'on', 'on', 'on', 'on', 'on', 'on', 'on', 'on', 'on', 'on', 'on', 'on', 'on', 'on', 'on', 'on', 'on', 'on', 'on', 'on', 'on', 'on', 'on', 'on', 'on', 'on', 'on', 'on', 'on', 'on', 'on', 'on', 'on', 'on', 'on', 'on', 'on', 'on', 'on', 'on', 'on', 'on', 'on', 'on', 'on', 'on', 'on', 'on', 'on', 'on', 'on', 'on', 'on', 'on', 'on', 'on', 'on', 'on', 'on', 'on', 'on', 'on', 'on', 'on', 'on', 'on', 'on', 'on', 'on', 'on', 'on', 'on', 'on', 'on', 'on', 'on', 'on', 'on', 'on', 'on', 'on', 'on', 'on', 'on', 'on', 'on', 'on', 'on', 'on', 'on', 'on', 'on', 'on', 'on', 'on', 'on', 'on', 'on', 'on', 'on', 'on', 'on', 'on', 'on', 'on', 'on', 'on', 'on', 'on', 'on', 'on', 'on', 'on', 'on', 'on', 'on', 'on', 'on', 'on', 'on', 'on', 'on', 'on', 'on', 'on', 'on', 'on', 'on', 'on', 'on', 'on', 'on', 'on', 'on', 'on', 'on', 'on', 'on', 'on', 'on', 'on', 'on', 'on', 'on', 'on', 'on', 'on', 'on', 'on', 'on', 'on', 'on', 'on', 'on', 'on', 'on', 'on', 'on', 'on', 'on', 'on', 'on', 'on', 'on', 'on', 'on', 'on', 'on', 'on', 'on', 'on', 'on', 'on', 'on', 'on']\n",
      "\n"
     ]
    },
    {
     "name": "stdout",
     "output_type": "stream",
     "text": [
      "origin:\n",
      "['[CLS]', 'though', 'i', 'never', 'like', 'to', 'be', 'the', 'sort', 'of', 'person', 'who', 'negates', 'another', \"'s\", 'personal', 'taste', ';', 'if', 'you', 'like', 'something', ',', 'that', \"'s\", 'fine', '.', 'but', ',', 'this', 'movie', 'was', 'horrible', 'and', 'there', 'is', 'no', 'way', 'around', 'it', '.', 'i', 'do', \"n't\", 'like', 'ani', 'difranco', 'too', 'much', ',', 'but', 'she', \"'s\", 'a', 'great', 'guitarist', 'and', 'songwriter', ',', 'that', 'i', 'can', 'admit', '.', 'but', 'i', 'ca', \"n't\", 'admit', 'to', 'there', 'being', 'any', 'redeeming', 'qualities', 'to', 'this', 'film', '.', 'many', 'people', 'way', 'that', 'it', 'is', 'an', 'accurate', 'portrayal', 'of', 'issues', 'that', 'high', 'school', 'students', 'face', '.', 'maybe', ',', 'but', 'everything', 'is', 'portrayed', 'too', 'far', '-', 'fetched', '.', 'there', 'seems', 'to', 'be', 'an', 'attempt', 'at', 'a', '\"', 'naked', 'gun', '\"', '-', 'esque', 'kind', 'of', 'comedy', ',', 'but', 'the', 'timing', 'is', 'off', ';', 'there', 'is', 'too', 'much', 'space', 'between', 'each', 'actors', 'line', ',', 'as', 'if', 'they', \"'re\", 'holding', 'for', 'laughter', '(', 'there', 'was', \"n't\", 'any', ')', '.', 'whoever', 'wrote', 'the', 'script', 'was', 'all', 'over', 'the', 'place', '.', 'they', 'tried', 'to', 'cram', 'as', 'many', 'controversial', 'issues', 'together', 'in', 'one', 'film', ',', 'almost', 'never', 'fully', 'developing', 'any', 'of', 'them', '(', 'especially', 'the', 'girl', 'getting', 'impregnated', 'by', 'a', 'teacher', ')', '.', 'i', 'did', 'not', 'laugh', 'once', 'throughout', 'this', 'entire', 'movie', '.', 'i', 'was', 'too', 'insulted', 'by', 'this', 'attempt', 'at', 'humor', 'and', 'satire', 'to', 'do', 'anything', 'but', 'roll', 'my', 'eyes', 'at', 'the', 'screen', '.', '[SEP]', '[PAD]', '[PAD]', '[PAD]', '[PAD]', '[PAD]', '[PAD]', '[PAD]', '[PAD]', '[PAD]', '[PAD]', '[PAD]', '[PAD]', '[PAD]', '[PAD]', '[PAD]', '[PAD]', '[PAD]', '[PAD]', '[PAD]', '[PAD]', '[PAD]', '[PAD]', '[PAD]', '[PAD]', '[PAD]', '[PAD]', '[PAD]', '[PAD]', '[PAD]', '[PAD]', '[PAD]', '[PAD]', '[PAD]', '[PAD]', '[PAD]', '[PAD]', '[PAD]', '[PAD]', '[PAD]', '[PAD]', '[PAD]', '[PAD]', '[PAD]', '[PAD]', '[PAD]', '[PAD]', '[PAD]', '[PAD]', '[PAD]', '[PAD]', '[PAD]', '[PAD]', '[PAD]', '[PAD]', '[PAD]', '[PAD]', '[PAD]', '[PAD]', '[PAD]', '[PAD]', '[PAD]', '[PAD]', '[PAD]', '[PAD]', '[PAD]', '[PAD]', '[PAD]', '[PAD]', '[PAD]', '[PAD]', '[PAD]']\n",
      "summary:\n",
      "['[CLS]', 'the', 'the', 'the', 'on', 'on', 'on', 'on', 'on', '\"', '\"', '\"', '\"', '\"', '\"', '\"', '\"', '\"', '\"', '\"', '\"', '\"', '\"', '\"', '\"', '\"', '\"', '\"', '\"', '\"', '\"', '\"', '\"', '\"', '\"', '\"', '\"', '\"', '\"', '\"', '\"', '\"', '\"', '\"', '\"', '\"', '\"', '\"', '\"', '\"']\n",
      "real summary:\n",
      "['[CLS]', 'though', 'i', 'never', 'like', 'to', 'be', 'the', 'sort', 'of', 'person', 'who', 'negates', 'another', \"'s\", 'personal', 'taste', ';', 'if', 'you', 'like', 'something', ',', 'that', \"'s\", 'fine', '.', 'but', ',', 'this', 'movie', 'was', 'horrible', 'and', 'there', 'is', 'no', 'way', 'around', 'it', '.', 'i', 'do', \"n't\", 'like', 'ani', 'difranco', 'too', 'much']\n",
      "reconsturct out:\n",
      "[',', ',', 'on', 'on', 'on', 'on', 'on', 'on', 'on', 'on', 'on', 'on', 'on', 'on', 'on', 'on', 'on', 'on', 'on', 'on', 'on', 'on', 'on', 'on', 'on', 'on', 'on', 'on', 'on', 'on', 'on', 'on', 'on', 'on', 'on', 'on', 'on', 'on', 'on', 'on', 'on', 'on', 'on', 'on', 'on', 'on', 'on', 'on', 'on', 'on', 'on', 'on', 'on', 'on', 'on', 'on', 'on', 'on', 'on', 'on', 'on', 'on', 'on', 'on', 'on', 'on', 'on', 'on', 'on', 'on', 'on', 'on', 'on', 'on', 'on', 'on', 'on', 'on', 'on', 'on', 'on', 'on', 'on', 'on', 'on', 'on', 'on', 'on', 'on', 'on', 'on', 'on', 'on', 'on', 'on', 'on', 'on', 'on', 'on', 'on', 'on', 'on', 'on', 'on', 'on', 'on', 'on', 'on', 'on', 'on', 'on', 'on', 'on', 'on', 'on', 'on', 'on', 'on', 'on', 'on', 'on', 'on', 'on', 'on', 'on', 'on', 'on', 'on', 'on', 'on', 'on', 'on', 'on', 'on', 'on', 'on', 'on', 'on', 'on', 'on', 'on', 'on', 'on', 'on', 'on', 'on', 'on', 'on', 'on', 'on', 'on', 'on', 'on', 'on', 'on', 'on', 'on', 'on', 'on', 'on', 'on', 'on', 'on', 'on', 'on', 'on', 'on', 'on', 'on', 'on', 'on', 'on', 'on', 'on', 'on', 'on', 'on', 'on', 'on', 'on', 'on', 'on', 'on', 'on', 'on', 'on', 'on', 'on', 'on', 'on', 'on', 'on', 'on', 'on', 'on', 'on', 'on', 'on', 'on', 'on', 'on', 'on', 'on', 'on', 'on', 'on', 'on', 'on', 'on', 'on', 'on', 'on', 'on', 'on', 'on', 'on', 'on', 'on', 'on', 'on', 'on', 'on', 'on', 'on', 'on', 'on', 'on', 'on', 'on', 'on', 'on', 'on', 'on', 'on', 'on', 'on', 'on', 'on', 'on', 'on', 'on', 'on', 'on', 'on', 'on', 'on', 'on', 'on', 'on', 'on', 'on', 'on', 'on', 'on', 'on', 'on', 'on', 'on', 'on', 'on', 'on', 'on', 'on', 'on', 'on', 'on', 'on', 'on', 'on', 'on', 'on', 'on', 'on', 'on', 'on', 'on', 'on', 'on', 'on', 'on', 'on', 'on', 'on', 'on', 'on', 'on', 'on', 'on', 'on', 'on', 'on', 'on', 'on', 'on', 'on', 'on', 'on', 'on', 'on']\n",
      "\n",
      "origin:\n",
      "['[CLS]', 'the', 'bill', 'was', 'essentially', 'a', 'cultural', 'fountain', 'from', 'which', 'a', 'beautiful', 'rainbow', '-', 'haze', 'of', 'socio', '-', 'introspection', 'emerged', ',', 'inspiring', 'such', 'famed', 'derivatives', 'as', 'cop', 'land', ',', 'the', 'departed', ',', 'the', 'godfather', '3', ',', 'and', 'most', 'recently', 'of', 'course', ',', 'the', 'wire', '.', 'with', 'multi', '-', 'faceted', 'characters', 'and', 'story', 'lines', 'that', 'have', 'been', 'described', 'as', \"'\", '4', '-', 'dimensional', 'shakespeare', \"'\", ',', 'the', 'bill', 'grabbed', 'you', 'by', 'the', 'collars', 'from', 'episode', 'one', 'and', 'just', 'would', 'not', 'let', 'you', 'go', '.', 'the', 'show', 'covered', ',', 'anticipated', ',', 'and', 'even', 'occasionally', 'caused', 'all', 'the', 'major', 'global', 'events', 'between', '1984', 'and', '2010', '.', 'the', 'most', 'famously', 'prescient', 'moment', 'being', 'episode', '19', 'of', 'series', '5', ',', 'which', 'aired', 'on', 'the', 'eve', 'of', 'the', 'second', 'gulf', 'war', '.', 'detective', 'jim', 'carver', \"'s\", 'misguided', '-', 'and', 'ultimately', 'career', 'ending', '-', 'drugs', 'raid', 'on', 'craig', \"'\", 'fun', 'boy', \"'\", 'richardson', \"'s\", 'flat', 'in', 'the', 'jasmine', 'allen', 'estate', 'in', 'early', '2003', ',', 'was', 'widely', 'viewed', 'as', 'a', 'predictive', 'allegory', 'for', 'the', 'coalition', \"'s\", 'failure', 'to', 'find', 'weapons', 'of', 'mass', 'destruction', 'following', 'the', 'invasion', 'of', 'iraq', 'several', 'months', 'later', '.', 'however', ',', 'it', 'was', 'the', 'work', 'the', 'bill', 'did', 'to', 'try', 'and', 'highlight', 'some', 'of', 'the', 'lesser', '-', 'known', 'problems', 'experienced', 'by', 'police', 'officers', 'that', 'won', 'it', 'the', 'most', 'praise', '.', 'this', 'was', 'sympathetic', 'drama', 'covering', 'such', 'sensitive', 'areas', 'as', 'helmet', '-', 'phobia', ',', 'under', '-', 'uniform', 'cross', '-', 'dressing', ',', 'in', '-', 'van', 'homosexuality', ',', 'lost', 'truncheons', ',', 'casual', 'drunken', 'bestiality', '(', 'regretted', ')', ',', 'siren', 'aversion', 'syndrome', '(', 'sas', ')', ',', 'groin', 'chaffing', 'caused', 'by', 'chasing', 'suspects', 'while', 'wearing', 'an', 'overly', 'starched', 'uniform', 'and', 'many', ',', 'many', 'more', 'issues', 'that', 'still', 'trouble', ',', 'disturb', ',', 'haunt', 'and', 'excite', 'officers', 'to', 'this', 'day', '.', 'the', 'last', 'word', 'should', 'go', 'to', 'one', 'of', 'the', 'bill', \"'s\"]\n",
      "summary:\n",
      "['[CLS]', 'the', 'the', 'the', 'on', 'on', 'on', 'on', 'on', '\"', '\"', '\"', '\"', '\"', '\"', '\"', '\"', '\"', '\"', '\"', '\"', '\"', '\"', '\"', '\"', '\"', '\"', '\"', '\"', '\"', '\"', '\"', '\"', '\"', '\"', '\"', '\"', '\"', '\"', '\"', '\"', '\"', '\"', '\"', '\"', '\"', '\"', '\"', '\"', '\"']\n",
      "real summary:\n",
      "['[CLS]', 'the', 'bill', 'was', 'essentially', 'a', 'cultural', 'fountain', 'from', 'which', 'a', 'beautiful', 'rainbow', '-', 'haze', 'of', 'socio', '-', 'introspection', 'emerged', ',', 'inspiring', 'such', 'famed', 'derivatives', 'as', 'cop', 'land', ',', 'the', 'departed', ',', 'the', 'godfather', '3', ',', 'and', 'most', 'recently', 'of', 'course', ',', 'the', 'wire', '.', 'with', 'multi', '-', 'faceted']\n",
      "reconsturct out:\n",
      "[',', ',', 'on', 'on', 'on', 'on', 'on', 'on', 'on', 'on', 'on', 'on', 'on', 'on', 'on', 'on', 'on', 'on', 'on', 'on', 'on', 'on', 'on', 'on', 'on', 'on', 'on', 'on', 'on', 'on', 'on', 'on', 'on', 'on', 'on', 'on', 'on', 'on', 'on', 'on', 'on', 'on', 'on', 'on', 'on', 'on', 'on', 'on', 'on', 'on', 'on', 'on', 'on', 'on', 'on', 'on', 'on', 'on', 'on', 'on', 'on', 'on', 'on', 'on', 'on', 'on', 'on', 'on', 'on', 'on', 'on', 'on', 'on', 'on', 'on', 'on', 'on', 'on', 'on', 'on', 'on', 'on', 'on', 'on', 'on', 'on', 'on', 'on', 'on', 'on', 'on', 'on', 'on', 'on', 'on', 'on', 'on', 'on', 'on', 'on', 'on', 'on', 'on', 'on', 'on', 'on', 'on', 'on', 'on', 'on', 'on', 'on', 'on', 'on', 'on', 'on', 'on', 'on', 'on', 'on', 'on', 'on', 'on', 'on', 'on', 'on', 'on', 'on', 'on', 'on', 'on', 'on', 'on', 'on', 'on', 'on', 'on', 'on', 'on', 'on', 'on', 'on', 'on', 'on', 'on', 'on', 'on', 'on', 'on', 'on', 'on', 'on', 'on', 'on', 'on', 'on', 'on', 'on', 'on', 'on', 'on', 'on', 'on', 'on', 'on', 'on', 'on', 'on', 'on', 'on', 'on', 'on', 'on', 'on', 'on', 'on', 'on', 'on', 'on', 'on', 'on', 'on', 'on', 'on', 'on', 'on', 'on', 'on', 'on', 'on', 'on', 'on', 'on', 'on', 'on', 'on', 'on', 'on', 'on', 'on', 'on', 'on', 'on', 'on', 'on', 'on', 'on', 'on', 'on', 'on', 'on', 'on', 'on', 'on', 'on', 'on', 'on', 'on', 'on', 'on', 'on', 'on', 'on', 'on', 'on', 'on', 'on', 'on', 'on', 'on', 'on', 'on', 'on', 'on', 'on', 'on', 'on', 'on', 'on', 'on', 'on', 'on', 'on', 'on', 'on', 'on', 'on', 'on', 'on', 'on', 'on', 'on', 'on', 'on', 'on', 'on', 'on', 'on', 'on', 'on', 'on', 'on', 'on', 'on', 'on', 'on', 'on', 'on', 'on', 'on', 'on', 'on', 'on', 'on', 'on', 'on', 'on', 'on', 'on', 'on', 'on', 'on', 'on', 'on', 'on', 'on', 'on', 'on', 'on', 'on', 'on', 'on', 'on', 'on', 'on', 'on', 'on', 'on', 'on']\n",
      "\n"
     ]
    },
    {
     "name": "stdout",
     "output_type": "stream",
     "text": [
      "origin:\n",
      "['[CLS]', 'you', \"'d\", 'think', 'you', \"'re\", 'in', 'for', 'some', 'serious', 'sightseeing', 'when', 'the', 'premise', 'of', 'the', 'movie', 'takes', 'place', 'primarily', 'between', 'two', 'characters', 'as', 'they', 'travel', '3000', 'miles', 'or', 'so', 'from', 'france', 'to', 'saudi', 'arabia', ',', 'going', 'through', 'most', 'of', 'europe', '-', 'italy', ',', 'bulgaria', ',', 'croatia', ',', 'slovenia', ',', 'turkey', ',', 'before', 'arriving', 'in', 'the', 'middle', 'east', '.', 'but', 'this', 'is', 'not', 'a', 'tour', ',', 'and', 'there', 'are', 'no', 'stopovers', 'for', 'soaking', 'in', 'the', 'sights', '.', 'reda', \"'\", 's', 'father', 'is', 'in', 'his', 'twilight', 'years', ',', 'and', 'wishes', 'to', 'do', 'the', 'haj', '.', 'however', ',', 'since', 'walking', 'and', 'taking', 'the', 'mule', 'is', 'out', 'of', 'the', 'question', ',', 'he', 'chooses', 'to', 'travel', 'to', 'mecca', 'by', 'car', '.', 'he', 'ca', \"n't\", 'drive', ',', 'and', 'therefore', 'enlists', 'the', 'help', 'of', 'reda', ',', 'to', 'his', 'son', \"'s\", 'protest', ',', 'to', 'get', 'him', 'there', 'in', 'their', 'broken', 'down', 'vehicle', '.', 'but', 'reda', 'does', \"n't\", 'see', 'the', 'point', 'of', 'having', 'him', 'go', 'along', ',', 'when', 'his', 'dad', 'could', 'opt', 'for', 'the', 'plane', '.', 'he', 'resents', 'the', 'idea', 'of', 'having', 'put', 'his', 'personal', 'life', 'on', 'hold', 'for', 'this', 'pilgrimage', 'he', 'could', \"n't\", 'understand', '.', 'and', 'hence', ',', 'we', 'set', 'off', 'in', 'this', 'arduous', 'journey', 'with', 'father', 'and', 'son', ',', 'being', 'not', 'the', 'best', 'of', 'pals', '.', 'the', 'beauty', 'of', 'this', 'movie', 'is', 'to', 'witness', 'the', 'development', 'of', 'the', 'father', 'and', 'son', 'pair', ',', 'the', 'challenges', 'they', 'face', ',', 'the', 'weird', 'people', 'they', 'meet', ',', 'having', 'to', 'duke', 'it', 'out', 'in', 'varied', 'weather', 'conditions', ',', 'and', 'alternating', 'rest', 'stops', 'between', 'motels', 'and', 'sleeping', 'in', 'the', 'car', '.', 'we', 'see', 'an', 'obvious', 'generation', 'gap', 'in', 'them', 'trying', 'to', 'communicate', 'to', 'each', 'other', ',', 'the', 'father', 'trying', 'to', 'impose', 'on', 'his', 'son', ',', 'and', 'the', 'son', 'trying', 'to', 'assert', 'himself', 'as', 'an', 'adult', ',', 'but', 'circumstances', 'we', 'see', ',']\n",
      "summary:\n",
      "['[CLS]', 'the', 'the', 'the', 'on', 'on', 'on', 'on', 'on', '\"', '\"', '\"', '\"', '\"', '\"', '\"', '\"', '\"', '\"', '\"', '\"', '\"', '\"', '\"', '\"', '\"', '\"', '\"', '\"', '\"', '\"', '\"', '\"', '\"', '\"', '\"', '\"', '\"', '\"', '\"', '\"', '\"', '\"', '\"', '\"', '\"', '\"', '\"', '\"', '\"']\n",
      "real summary:\n",
      "['[CLS]', 'you', \"'d\", 'think', 'you', \"'re\", 'in', 'for', 'some', 'serious', 'sightseeing', 'when', 'the', 'premise', 'of', 'the', 'movie', 'takes', 'place', 'primarily', 'between', 'two', 'characters', 'as', 'they', 'travel', '3000', 'miles', 'or', 'so', 'from', 'france', 'to', 'saudi', 'arabia', ',', 'going', 'through', 'most', 'of', 'europe', '-', 'italy', ',', 'bulgaria', ',', 'croatia', ',', 'slovenia']\n",
      "reconsturct out:\n",
      "[',', ',', 'on', 'on', 'on', 'on', 'on', 'on', 'on', 'on', 'on', 'on', 'on', 'on', 'on', 'on', 'on', 'on', 'on', 'on', 'on', 'on', 'on', 'on', 'on', 'on', 'on', 'on', 'on', 'on', 'on', 'on', 'on', 'on', 'on', 'on', 'on', 'on', 'on', 'on', 'on', 'on', 'on', 'on', 'on', 'on', 'on', 'on', 'on', 'on', 'on', 'on', 'on', 'on', 'on', 'on', 'on', 'on', 'on', 'on', 'on', 'on', 'on', 'on', 'on', 'on', 'on', 'on', 'on', 'on', 'on', 'on', 'on', 'on', 'on', 'on', 'on', 'on', 'on', 'on', 'on', 'on', 'on', 'on', 'on', 'on', 'on', 'on', 'on', 'on', 'on', 'on', 'on', 'on', 'on', 'on', 'on', 'on', 'on', 'on', 'on', 'on', 'on', 'on', 'on', 'on', 'on', 'on', 'on', 'on', 'on', 'on', 'on', 'on', 'on', 'on', 'on', 'on', 'on', 'on', 'on', 'on', 'on', 'on', 'on', 'on', 'on', 'on', 'on', 'on', 'on', 'on', 'on', 'on', 'on', 'on', 'on', 'on', 'on', 'on', 'on', 'on', 'on', 'on', 'on', 'on', 'on', 'on', 'on', 'on', 'on', 'on', 'on', 'on', 'on', 'on', 'on', 'on', 'on', 'on', 'on', 'on', 'on', 'on', 'on', 'on', 'on', 'on', 'on', 'on', 'on', 'on', 'on', 'on', 'on', 'on', 'on', 'on', 'on', 'on', 'on', 'on', 'on', 'on', 'on', 'on', 'on', 'on', 'on', 'on', 'on', 'on', 'on', 'on', 'on', 'on', 'on', 'on', 'on', 'on', 'on', 'on', 'on', 'on', 'on', 'on', 'on', 'on', 'on', 'on', 'on', 'on', 'on', 'on', 'on', 'on', 'on', 'on', 'on', 'on', 'on', 'on', 'on', 'on', 'on', 'on', 'on', 'on', 'on', 'on', 'on', 'on', 'on', 'on', 'on', 'on', 'on', 'on', 'on', 'on', 'on', 'on', 'on', 'on', 'on', 'on', 'on', 'on', 'on', 'on', 'on', 'on', 'on', 'on', 'on', 'on', 'on', 'on', 'on', 'on', 'on', 'on', 'on', 'on', 'on', 'on', 'on', 'on', 'on', 'on', 'on', 'on', 'on', 'on', 'on', 'on', 'on', 'on', 'on', 'on', 'on', 'on', 'on', 'on', 'on', 'on', 'on', 'on', 'on', 'on', 'on', 'on', 'on', 'on', 'on', 'on', 'on', 'on', 'on']\n",
      "\n",
      "origin:\n",
      "['[CLS]', 'i', 'had', 'initially', 'heard', 'of', 'tears', 'of', 'kali', 'a', 'while', 'back', 'and', 'it', 'sounded', 'like', 'something', 'i', \"'d\", 'be', 'into', ',', 'but', 'with', 'all', 'the', 'films', 'i', 'have', 'coming', 'in', 'on', 'a', 'regular', 'basis', ',', 'it', 'kinda', 'fell', 'off', 'my', 'radar', '.', 'while', 'roaming', 'around', 'the', 'local', 'wonderbook', '.', '.', '.i', 'spotted', 'the', 'box', 'for', 'this', 'one', 'and', 'grabbed', 'it', 'up', '.', 'i', 'have', 'to', 'say', 'i', \"'\", 'm', 'pretty', 'glad', 'i', 'did', '.', 'tears', 'of', 'kali', 'is', 'a', 'strange', ',', 'gory', ',', 'sometimes', 'downright', 'creepy', 'film', 'which', 'is', 'somewhat', 'constrained', 'by', 'it', \"'s\", 'obviously', 'low', 'budget', '-', 'but', 'is', 'still', 'an', 'entertaining', 'and', 'worthwhile', 'watch', '.', 'tears', 'of', 'kali', 'centers', 'around', 'the', 'fictional', 'india', '-', 'based', 'taylor', '-', 'erikkson', 'cult', 'group', ',', 'that', 'practices', 'meditation', 'and', 'other', 'rituals', 'in', 'the', 'pursuit', 'of', 'facing', 'and', 'banishing', 'the', 'individual', \"'s\", '\"', 'inner', 'demons', '\"', '-', 'but', 'apparently', 'these', 'techniques', 'work', 'either', 'all', 'too', 'well', 'or', 'not', 'well', 'enough', '(', 'depending', 'on', 'your', 'viewpoint', '.', '.', '.', ')', 'as', 'dark', 'forces', 'are', 'not', 'only', 'exorcised', ',', 'but', 'also', 'unleashed', 'upon', 'hapless', 'victims', '.', 'the', 'film', 'is', 'told', '\"', 'anthology', '-', 'style', '\"', ',', 'with', 'a', 'short', 'but', 'memorable', 'and', '\"', 'eye', '-', 'opening', '\"', 'intro', 'sequence', ',', 'and', 'then', 'proceeding', 'into', 'the', 'three', 'stories', 'that', 'make', 'up', 'the', 'bulk', 'of', 'the', 'film', '.', 'the', 'first', '(', 'shakti', ')', 'is', 'about', 'a', 'journalist', 'who', 'visits', 'one', 'of', 'the', 'cult', '-', 'members', 'who', 'is', 'being', 'held', 'at', 'a', 'mental', 'hospital', '.', 'the', 'journalist', 'goes', 'in', 'under', 'cover', 'of', 'wanting', 'to', 'research', 'the', 'taylor', '-', 'erikkson', 'cult', ',', 'but', 'we', 'find', 'that', 'her', 'true', 'motives', 'may', 'hit', 'a', 'little', 'closer', 'to', 'home', '.', 'when', 'the', 'interview', 'takes', 'a', 'violent', 'turn', ',', 'the', 'journalist', 'finds', 'that', 'she', 'may', 'have', 'gotten', 'in', 'over', 'her', 'head', '.']\n",
      "summary:\n",
      "['[CLS]', 'the', 'the', 'the', 'on', 'on', 'on', 'on', 'on', '\"', '\"', '\"', '\"', '\"', '\"', '\"', '\"', '\"', '\"', '\"', '\"', '\"', '\"', '\"', '\"', '\"', '\"', '\"', '\"', '\"', '\"', '\"', '\"', '\"', '\"', '\"', '\"', '\"', '\"', '\"', '\"', '\"', '\"', '\"', '\"', '\"', '\"', '\"', '\"', '\"']\n",
      "real summary:\n",
      "['[CLS]', 'i', 'had', 'initially', 'heard', 'of', 'tears', 'of', 'kali', 'a', 'while', 'back', 'and', 'it', 'sounded', 'like', 'something', 'i', \"'d\", 'be', 'into', ',', 'but', 'with', 'all', 'the', 'films', 'i', 'have', 'coming', 'in', 'on', 'a', 'regular', 'basis', ',', 'it', 'kinda', 'fell', 'off', 'my', 'radar', '.', 'while', 'roaming', 'around', 'the', 'local', 'wonderbook']\n",
      "reconsturct out:\n",
      "[',', ',', 'on', 'on', 'on', 'on', 'on', 'on', 'on', 'on', 'on', 'on', 'on', 'on', 'on', 'on', 'on', 'on', 'on', 'on', 'on', 'on', 'on', 'on', 'on', 'on', 'on', 'on', 'on', 'on', 'on', 'on', 'on', 'on', 'on', 'on', 'on', 'on', 'on', 'on', 'on', 'on', 'on', 'on', 'on', 'on', 'on', 'on', 'on', 'on', 'on', 'on', 'on', 'on', 'on', 'on', 'on', 'on', 'on', 'on', 'on', 'on', 'on', 'on', 'on', 'on', 'on', 'on', 'on', 'on', 'on', 'on', 'on', 'on', 'on', 'on', 'on', 'on', 'on', 'on', 'on', 'on', 'on', 'on', 'on', 'on', 'on', 'on', 'on', 'on', 'on', 'on', 'on', 'on', 'on', 'on', 'on', 'on', 'on', 'on', 'on', 'on', 'on', 'on', 'on', 'on', 'on', 'on', 'on', 'on', 'on', 'on', 'on', 'on', 'on', 'on', 'on', 'on', 'on', 'on', 'on', 'on', 'on', 'on', 'on', 'on', 'on', 'on', 'on', 'on', 'on', 'on', 'on', 'on', 'on', 'on', 'on', 'on', 'on', 'on', 'on', 'on', 'on', 'on', 'on', 'on', 'on', 'on', 'on', 'on', 'on', 'on', 'on', 'on', 'on', 'on', 'on', 'on', 'on', 'on', 'on', 'on', 'on', 'on', 'on', 'on', 'on', 'on', 'on', 'on', 'on', 'on', 'on', 'on', 'on', 'on', 'on', 'on', 'on', 'on', 'on', 'on', 'on', 'on', 'on', 'on', 'on', 'on', 'on', 'on', 'on', 'on', 'on', 'on', 'on', 'on', 'on', 'on', 'on', 'on', 'on', 'on', 'on', 'on', 'on', 'on', 'on', 'on', 'on', 'on', 'on', 'on', 'on', 'on', 'on', 'on', 'on', 'on', 'on', 'on', 'on', 'on', 'on', 'on', 'on', 'on', 'on', 'on', 'on', 'on', 'on', 'on', 'on', 'on', 'on', 'on', 'on', 'on', 'on', 'on', 'on', 'on', 'on', 'on', 'on', 'on', 'on', 'on', 'on', 'on', 'on', 'on', 'on', 'on', 'on', 'on', 'on', 'on', 'on', 'on', 'on', 'on', 'on', 'on', 'on', 'on', 'on', 'on', 'on', 'on', 'on', 'on', 'on', 'on', 'on', 'on', 'on', 'on', 'on', 'on', 'on', 'on', 'on', 'on', 'on', 'on', 'on', 'on', 'on', 'on', 'on', 'on', 'on', 'on', 'on', 'on', 'on', 'on', 'on']\n",
      "\n"
     ]
    },
    {
     "name": "stdout",
     "output_type": "stream",
     "text": [
      "origin:\n",
      "['[CLS]', 'i', \"'\", 'm', 'fan', 'of', 'art', ',', 'i', 'like', 'anything', 'about', 'art', ',', 'i', 'like', 'paintings', ',', 'sculptures', ',', 'etc', '.', 'this', 'movie', 'shows', 'it', ',', 'so', 'i', 'like', 'it', 'a', 'lot', ',', 'it', 'shows', 'how', 'a', 'woman', 'wants', 'to', 'paint', 'anything', 'about', 'art', ',', 'especially', 'naked', 'bodies', ',', 'but', 'she', 'ca', \"n't\", 'do', 'it', 'because', 'of', 'her', 'strict', 'family', '(', 'father', ')', ',', 'at', 'the', 'beginning', 'of', 'the', 'movie', 'she', 'painted', 'herself', 'naked', ',', 'but', 'she', 'wanted', 'a', 'man', 'for', 'her', 'paintings', ',', 'but', 'her', 'family', 'did', \"n't\", 'let', 'her', 'paint', 'naked', 'men', 'because', 'it', \"'s\", 'against', 'the', 'moral', '.', 'even', 'so', 'artemisia', 'could', 'paint', 'her', 'boyfriend', 'and', 'her', 'art', 'teacher', 'completely', 'naked', '.', 'she', 'falls', 'in', 'love', 'with', 'her', 'art', 'teacher', ',', 'and', 'it', 'seems', 'the', 'art', 'teacher', 'is', 'absolutely', 'in', 'love', 'with', 'her', 'too', ',', 'so', 'at', 'the', 'ending', 'he', 'sacrifices', 'his', 'freedom', 'for', 'hers', 'by', 'lying', '.', 'he', 'said', 'that', 'he', 'raped', 'her', ',', 'but', 'it', 'was', \"n't\", 'true', '.', 'artemisia', 'fell', 'in', 'love', 'with', 'him', ',', 'but', 'if', 'she', 'says', 'that', 'she', 'will', 'suffer', 'a', 'lot', ',', 'because', 'in', 'the', 'trial', 'in', 'which', 'artemisia', ',', 'her', 'father', 'and', 'the', 'art', 'teacher', 'were', ',', 'somebody', 'was', 'hurting', 'her', 'artistic', 'hands', 'to', 'say', 'the', 'truth', '.', 'i', 'think', 'this', 'a', 'great', 'movie', 'about', 'art', ',', 'and', 'an', 'artistic', 'love', ',', 'it', \"'s\", 'worth', 'watching', '.', 'valentina', 'cervi', 'is', 'great', 'as', 'artemisia', ',', 'she', 'acts', 'very', 'well', ',', 'i', 'also', 'like', 'her', 'performance', 'in', '\"', 'the', 'portrait', 'of', 'a', 'lady', '\"', 'as', 'pansy', 'osmond', '.', '8.5', '/', '10', '[SEP]', '[PAD]', '[PAD]', '[PAD]', '[PAD]', '[PAD]', '[PAD]', '[PAD]', '[PAD]', '[PAD]', '[PAD]', '[PAD]', '[PAD]', '[PAD]', '[PAD]', '[PAD]', '[PAD]', '[PAD]', '[PAD]', '[PAD]', '[PAD]', '[PAD]', '[PAD]', '[PAD]', '[PAD]', '[PAD]', '[PAD]', '[PAD]', '[PAD]', '[PAD]', '[PAD]', '[PAD]', '[PAD]', '[PAD]', '[PAD]', '[PAD]', '[PAD]', '[PAD]', '[PAD]']\n",
      "summary:\n",
      "['[CLS]', 'the', 'the', 'the', 'on', 'on', 'on', 'on', 'on', 'on', '\"', '\"', '\"', '\"', '\"', '\"', '\"', '\"', '\"', '\"', '\"', '\"', '\"', '\"', '\"', '\"', '\"', '\"', '\"', '\"', '\"', '\"', '\"', '\"', '\"', '\"', '\"', '\"', '\"', '\"', '\"', '\"', '\"', '\"', '\"', '\"', '\"', '\"', '\"', '\"']\n",
      "real summary:\n",
      "['[CLS]', 'i', \"'\", 'm', 'fan', 'of', 'art', ',', 'i', 'like', 'anything', 'about', 'art', ',', 'i', 'like', 'paintings', ',', 'sculptures', ',', 'etc', '.', 'this', 'movie', 'shows', 'it', ',', 'so', 'i', 'like', 'it', 'a', 'lot', ',', 'it', 'shows', 'how', 'a', 'woman', 'wants', 'to', 'paint', 'anything', 'about', 'art', ',', 'especially', 'naked', 'bodies']\n",
      "reconsturct out:\n",
      "[',', ',', 'on', 'on', 'on', 'on', 'on', 'on', 'on', 'on', 'on', 'on', 'on', 'on', 'on', 'on', 'on', 'on', 'on', 'on', 'on', 'on', 'on', 'on', 'on', 'on', 'on', 'on', 'on', 'on', 'on', 'on', 'on', 'on', 'on', 'on', 'on', 'on', 'on', 'on', 'on', 'on', 'on', 'on', 'on', 'on', 'on', 'on', 'on', 'on', 'on', 'on', 'on', 'on', 'on', 'on', 'on', 'on', 'on', 'on', 'on', 'on', 'on', 'on', 'on', 'on', 'on', 'on', 'on', 'on', 'on', 'on', 'on', 'on', 'on', 'on', 'on', 'on', 'on', 'on', 'on', 'on', 'on', 'on', 'on', 'on', 'on', 'on', 'on', 'on', 'on', 'on', 'on', 'on', 'on', 'on', 'on', 'on', 'on', 'on', 'on', 'on', 'on', 'on', 'on', 'on', 'on', 'on', 'on', 'on', 'on', 'on', 'on', 'on', 'on', 'on', 'on', 'on', 'on', 'on', 'on', 'on', 'on', 'on', 'on', 'on', 'on', 'on', 'on', 'on', 'on', 'on', 'on', 'on', 'on', 'on', 'on', 'on', 'on', 'on', 'on', 'on', 'on', 'on', 'on', 'on', 'on', 'on', 'on', 'on', 'on', 'on', 'on', 'on', 'on', 'on', 'on', 'on', 'on', 'on', 'on', 'on', 'on', 'on', 'on', 'on', 'on', 'on', 'on', 'on', 'on', 'on', 'on', 'on', 'on', 'on', 'on', 'on', 'on', 'on', 'on', 'on', 'on', 'on', 'on', 'on', 'on', 'on', 'on', 'on', 'on', 'on', 'on', 'on', 'on', 'on', 'on', 'on', 'on', 'on', 'on', 'on', 'on', 'on', 'on', 'on', 'on', 'on', 'on', 'on', 'on', 'on', 'on', 'on', 'on', 'on', 'on', 'on', 'on', 'on', 'on', 'on', 'on', 'on', 'on', 'on', 'on', 'on', 'on', 'on', 'on', 'on', 'on', 'on', 'on', 'on', 'on', 'on', 'on', 'on', 'on', 'on', 'on', 'on', 'on', 'on', 'on', 'on', 'on', 'on', 'on', 'on', 'on', 'on', 'on', 'on', 'on', 'on', 'on', 'on', 'on', 'on', 'on', 'on', 'on', 'on', 'on', 'on', 'on', 'on', 'on', 'on', 'on', 'on', 'on', 'on', 'on', 'on', 'on', 'on', 'on', 'on', 'on', 'on', 'on', 'on', 'on', 'on', 'on', 'on', 'on', 'on', 'on', 'on', 'on', 'on', 'on', 'on', 'on']\n",
      "\n",
      "origin:\n",
      "['[CLS]', 'this', 'is', 'a', 'slow', 'moving', 'story', '.', 'no', 'action', '.', 'no', 'crazy', 'suspense', '.', 'no', 'abrupt', 'surprises', '.', 'if', 'you', 'can', 'not', 'stand', 'to', 'see', 'a', 'movie', 'about', 'two', 'people', 'just', 'talking', 'and', 'walking', ',', 'about', 'a', 'story', 'that', 'develops', 'slowly', 'till', 'the', 'very', 'end', 'and', 'about', 'lovey', '-', 'dovey', 'romance', ',', 'do', \"n't\", 'waste', 'your', 'time', 'and', 'money', '.', 'on', 'the', 'other', 'hand', ',', 'if', 'you', \"'re\", 'into', 'dialog', ',', 'masterful', 'story', 'telling', ',', 'thought', 'provoking', 'ideas', 'and', 'finding', 'true', 'love', 'in', 'the', 'fabric', 'of', 'life', 'then', 'this', 'is', 'your', 'movie', '.', 'i', 'recommend', 'you', 'watch', 'this', 'movie', 'when', 'you', 'are', 'most', 'alert', ',', 'though', ',', 'because', 'the', 'pace', ',', 'the', 'music', 'and', 'the', 'overall', 'tone', 'of', 'the', 'movie', 'can', 'put', 'you', 'in', 'a', 'woolgathering', 'mood', '.', 'it', \"'s\", 'truly', 'fantastic', '.', 'i', 'really', 'mean', 'that', '.', 'ethan', 'hawke', 'and', 'julie', 'delpy', 'are', 'annoying', 'with', 'their', 'mannerisms', 'at', 'times', 'but', ',', 'thankfully', ',', 'the', 'chemistry', 'between', 'the', 'two', 'makes', 'the', 'acting', 'very', 'natural', ',', 'warm', 'and', 'tender', '.', 'they', 'act', 'and', 'feel', 'each', 'other', 'out', 'from', 'the', 'very', 'beginning', ',', 'making', 'you', 'feel', 'as', 'an', 'intruder', '.', 'in', 'their', 'conversations', 'there', 'are', 'excellent', 'commentaries', 'on', 'many', 'subjects', 'that', 'will', 'provoke', 'thought', 'and', 'conversation', 'between', 'you', 'and', 'your', 'partner', '.', 'i', 'thought', 'it', 'was', 'too', 'deep', 'and', 'too', 'diverse', 'for', 'such', 'young', 'characters', 'but', 'i', 'may', 'be', 'underestimating', 'their', 'intelligence', '.', 'still', 'it', 'did', 'not', 'ruin', 'the', 'movie', '.', 'the', 'overall', 'story', 'is', 'very', 'simple', 'which', 'i', 'think', 'gives', 'the', 'movie', 'it', \"'s\", 'charm', 'and', 'ultimately', 'it', \"'s\", 'power', '.', 'bottom', 'line', ':', 'the', 'movie', \"'s\", 'flow', 'is', 'slow', '.', 'the', 'dialog', 'is', 'fascinating', '.', 'the', 'story', 'builds', 'gently', ',', 'systematically', 'and', 'substantive', '.', 'the', 'build', 'up', 'to', 'the', 'finale', 'is', 'satisfying', 'and', 'in', 'the', 'end', 'rewarding', '.', '[SEP]']\n",
      "summary:\n",
      "['[CLS]', 'the', 'the', 'the', 'on', 'on', 'on', 'on', 'on', 'on', '\"', '\"', '\"', '\"', '\"', '\"', '\"', '\"', '\"', '\"', '\"', '\"', '\"', '\"', '\"', '\"', '\"', '\"', '\"', '\"', '\"', 'i', 'i', 'i', 'i', 'i', 'i', 'i', 'i', 'i', 'i', 'i', 'i', 'i', 'i', 'i', 'i', 'i', 'i', 'i']\n",
      "real summary:\n",
      "['[CLS]', 'this', 'is', 'a', 'slow', 'moving', 'story', '.', 'no', 'action', '.', 'no', 'crazy', 'suspense', '.', 'no', 'abrupt', 'surprises', '.', 'if', 'you', 'can', 'not', 'stand', 'to', 'see', 'a', 'movie', 'about', 'two', 'people', 'just', 'talking', 'and', 'walking', ',', 'about', 'a', 'story', 'that', 'develops', 'slowly', 'till', 'the', 'very', 'end', 'and', 'about', 'lovey']\n",
      "reconsturct out:\n",
      "[',', ',', 'on', 'on', 'on', 'on', 'on', 'on', 'on', 'on', 'on', 'on', 'on', 'on', 'on', 'on', 'on', 'on', 'on', 'on', 'on', 'on', 'on', 'on', 'on', 'on', 'on', 'on', 'on', 'on', 'on', 'on', 'on', 'on', 'on', 'on', 'on', 'on', 'on', 'on', 'on', 'on', 'on', 'on', 'on', 'on', 'on', 'on', 'on', 'on', 'on', 'on', 'on', 'on', 'on', 'on', 'on', 'on', 'on', 'on', 'on', 'on', 'on', 'on', 'on', 'on', 'on', 'on', 'on', 'on', 'on', 'on', 'on', 'on', 'on', 'on', 'on', 'on', 'on', 'on', 'on', 'on', 'on', 'on', 'on', 'on', 'on', 'on', 'on', 'on', 'on', 'on', 'on', 'on', 'on', 'on', 'on', 'on', 'on', 'on', 'on', 'on', 'on', 'on', 'on', 'on', 'on', 'on', 'on', 'on', 'on', 'on', 'on', 'on', 'on', 'on', 'on', 'on', 'on', 'on', 'on', 'on', 'on', 'on', 'on', 'on', 'on', 'on', 'on', 'on', 'on', 'on', 'on', 'on', 'on', 'on', 'on', 'on', 'on', 'on', 'on', 'on', 'on', 'on', 'on', 'on', 'on', 'on', 'on', 'on', 'on', 'on', 'on', 'on', 'on', 'on', 'on', 'on', 'on', 'on', 'on', 'on', 'on', 'on', 'on', 'on', 'on', 'on', 'on', 'on', 'on', 'on', 'on', 'on', 'on', 'on', 'on', 'on', 'on', 'on', 'on', 'on', 'on', 'on', 'on', 'on', 'on', 'on', 'on', 'on', 'on', 'on', 'on', 'on', 'on', 'on', 'on', 'on', 'on', 'on', 'on', 'on', 'on', 'on', 'on', 'on', 'on', 'on', 'on', 'on', 'on', 'on', 'on', 'on', 'on', 'on', 'on', 'on', 'on', 'on', 'on', 'on', 'on', 'on', 'on', 'on', 'on', 'on', 'on', 'on', 'on', 'on', 'on', 'on', 'on', 'on', 'on', 'on', 'on', 'on', 'on', 'on', 'on', 'on', 'on', 'on', 'on', 'on', 'on', 'on', 'on', 'on', 'on', 'on', 'on', 'on', 'on', 'on', 'on', 'on', 'on', 'on', 'on', 'on', 'on', 'on', 'on', 'on', 'on', 'on', 'on', 'on', 'on', 'on', 'on', 'on', 'on', 'on', 'on', 'on', 'on', 'on', 'on', 'on', 'on', 'on', 'on', 'on', 'on', 'on', 'on', 'on', 'on', 'on', 'on', 'on', 'on', 'on', 'on']\n",
      "\n"
     ]
    },
    {
     "name": "stdout",
     "output_type": "stream",
     "text": [
      "origin:\n",
      "['[CLS]', 'let', 'this', 'serve', 'as', 'a', 'warning', 'to', 'anyone', 'wishing', 'to', 'draw', 'attention', 'to', 'themselves', 'in', 'the', 'media', 'by', 'linking', 'their', 'name', 'to', 'that', 'of', 'a', 'well', '-', 'loved', 'and', 'well', '-', 'respected', ',', 'not', 'to', 'say', 'revered', 'author', ',', 'in', 'order', 'to', 'draw', 'attention', 'to', 'their', 'home', '-', 'movies', 'out', 'on', 'dvd', '.', 'hyped', 'to', 'the', 'skies', 'by', 'its', 'obviously', 'talentless', 'makers', ',', 'in', 'fact', 'lied', 'about', 'only', 'to', 'be', 'revealed', ',', 'finally', ',', 'as', 'ludicrously', 'inept', 'in', 'every', 'department', ',', 'the', 'fans', 'of', 'wells', 'and', 'of', 'his', 'book', 'have', 'been', 'after', 'the', 'blood', 'of', 'its', 'writer', '-', 'producer', '-', 'director', 'since', 'it', 'appeared', 'on', 'dvd', '.', 'many', 'good', 'points', 'have', 'been', 'made', 'by', 'the', 'other', 'comments', 'users', 'on', 'this', 'page', '.', 'particularly', 'the', 'one', 'about', 'using', 'this', 'as', 'a', 'teaching', 'aid', 'for', 'film', 'school', 'students', ',', 'since', 'this', '\"', 'film', '\"', 'does', 'not', 'even', 'use', 'the', 'basic', 'grammar', 'of', 'scripting', ',', 'editing', ',', 'continuity', ',', 'direction', 'throughout', 'its', 'entire', '3', 'hours', 'running', 'time', '.', 'it', 'is', 'possible', 'the', 'director', 'did', 'show', 'up', 'for', 'the', 'shoot', '.', 'certainly', 'there', 'was', 'no', '-', 'one', 'present', 'who', 'knew', 'even', 'remotely', 'what', 'they', 'were', 'doing', '.', 'an', 'ongoing', 'thread', 'continues', 'to', 'evolve', 'on', 'this', 'imdb', 'page', 'which', 'should', 'at', 'least', 'furnish', 'the', 'watchers', 'of', 'this', 'witless', 'drivel', 'with', 'a', 'few', 'laughs', 'for', 'their', '$', '9.00', 'outlay', '.', 'much', 'was', 'promised', '.', 'absolutely', 'nothing', 'was', 'delivered', '.', 'except', '\"', 'monty', 'python', 'meets', '\"', 'war', 'of', 'the', 'worlds', '\"', 'with', 'all', 'the', 'humour', 'taken', 'out', '.', 'indefensible', 'trash', '.', 'just', 'unbelievable', '.', 'there', 'are', 'real', 'independent', 'film', '-', 'makers', 'out', 'there', 'to', 'be', 'checked', 'out', '.', 'people', 'who', 'actually', 'try', 'to', 'work', 'to', 'a', 'high', 'standard', 'instead', 'of', 'flapping', 'their', 'gums', 'about', 'how', 'great', 'their', 'movie', 'is', 'going', 'to', 'be', '.', 'people', 'could', 'do']\n",
      "summary:\n",
      "['[CLS]', 'the', 'the', 'the', 'on', 'on', 'on', 'on', 'on', 'on', 'on', 'on', '\"', '\"', '\"', '\"', '\"', '\"', '\"', 'i', 'i', 'i', 'i', 'i', 'i', 'i', 'i', 'i', 'i', 'i', 'i', 'i', 'i', 'i', 'i', 'i', 'i', 'i', 'i', 'i', 'i', 'i', 'i', 'i', 'i', 'i', 'i', 'i', 'i', 'i']\n",
      "real summary:\n",
      "['[CLS]', 'let', 'this', 'serve', 'as', 'a', 'warning', 'to', 'anyone', 'wishing', 'to', 'draw', 'attention', 'to', 'themselves', 'in', 'the', 'media', 'by', 'linking', 'their', 'name', 'to', 'that', 'of', 'a', 'well', '-', 'loved', 'and', 'well', '-', 'respected', ',', 'not', 'to', 'say', 'revered', 'author', ',', 'in', 'order', 'to', 'draw', 'attention', 'to', 'their', 'home', '-']\n",
      "reconsturct out:\n",
      "[',', ',', 'on', 'on', 'on', 'on', 'on', 'on', 'on', 'on', 'on', 'on', 'on', 'on', 'on', 'on', 'on', 'on', 'on', 'on', 'on', 'on', 'on', 'on', 'on', 'on', 'on', 'on', 'on', 'on', 'on', 'on', 'on', 'on', 'on', 'on', 'on', 'on', 'on', 'on', 'on', 'on', 'on', 'on', 'on', 'on', 'on', 'on', 'on', 'on', 'on', 'on', 'on', 'on', 'on', 'on', 'on', 'on', 'on', 'on', 'on', 'on', 'on', 'on', 'on', 'on', 'on', 'on', 'on', 'on', 'on', 'on', 'on', 'on', 'on', 'on', 'on', 'on', 'on', 'on', 'on', 'on', 'on', 'on', 'on', 'on', 'on', 'on', 'on', 'on', 'on', 'on', 'on', 'on', 'on', 'on', 'on', 'on', 'on', 'on', 'on', 'on', 'on', 'on', 'on', 'on', 'on', 'on', 'on', 'on', 'on', 'on', 'on', 'on', 'on', 'on', 'on', 'on', 'on', 'on', 'on', 'on', 'on', 'on', 'on', 'on', 'on', 'on', 'on', 'on', 'on', 'on', 'on', 'on', 'on', 'on', 'on', 'on', 'on', 'on', 'on', 'on', 'on', 'on', 'on', 'on', 'on', 'on', 'on', 'on', 'on', 'on', 'on', 'on', 'on', 'on', 'on', 'on', 'on', 'on', 'on', 'on', 'on', 'on', 'on', 'on', 'on', 'on', 'on', 'on', 'on', 'on', 'on', 'on', 'on', 'on', 'on', 'on', 'on', 'on', 'on', 'on', 'on', 'on', 'on', 'on', 'on', 'on', 'on', 'on', 'on', 'on', 'on', 'on', 'on', 'on', 'on', 'on', 'on', 'on', 'on', 'on', 'on', 'on', 'on', 'on', 'on', 'on', 'on', 'on', 'on', 'on', 'on', 'on', 'on', 'on', 'on', 'on', 'on', 'on', 'on', 'on', 'on', 'on', 'on', 'on', 'on', 'on', 'on', 'on', 'on', 'on', 'on', 'on', 'on', 'on', 'on', 'on', 'on', 'on', 'on', 'on', 'on', 'on', 'on', 'on', 'on', 'on', 'on', 'on', 'on', 'on', 'on', 'on', 'on', 'on', 'on', 'on', 'on', 'on', 'on', 'on', 'on', 'on', 'on', 'on', 'on', 'on', 'on', 'on', 'on', 'on', 'on', 'on', 'on', 'on', 'on', 'on', 'on', 'on', 'on', 'on', 'on', 'on', 'on', 'on', 'on', 'on', 'on', 'on', 'on', 'on', 'on', 'on', 'on', 'on', 'on', 'on', 'on']\n",
      "\n",
      "origin:\n",
      "['[CLS]', 'this', 'film', 'is', 'really', 'bad', ',', 'so', 'bad', 'that', 'even', 'christopher', 'lee', 'can', 'not', 'save', 'it', '.', 'a', 'poor', 'story', 'an', 'even', 'poorer', 'script', 'and', 'just', 'plain', 'bad', 'direction', 'makes', 'this', 'a', 'truly', 'outstanding', 'horror', 'film', ',', 'the', 'outstanding', 'part', 'being', 'that', 'it', 'is', 'the', 'only', 'horror', 'film', 'that', 'i', 'can', 'honestly', 'say', 'i', 'would', 'never', 'ever', 'watch', 'again', '.', 'this', 'garbage', 'make', 'plan', 'nine', 'from', 'outerspace', 'look', 'like', 'oscar', 'material', '.', '[SEP]', '[PAD]', '[PAD]', '[PAD]', '[PAD]', '[PAD]', '[PAD]', '[PAD]', '[PAD]', '[PAD]', '[PAD]', '[PAD]', '[PAD]', '[PAD]', '[PAD]', '[PAD]', '[PAD]', '[PAD]', '[PAD]', '[PAD]', '[PAD]', '[PAD]', '[PAD]', '[PAD]', '[PAD]', '[PAD]', '[PAD]', '[PAD]', '[PAD]', '[PAD]', '[PAD]', '[PAD]', '[PAD]', '[PAD]', '[PAD]', '[PAD]', '[PAD]', '[PAD]', '[PAD]', '[PAD]', '[PAD]', '[PAD]', '[PAD]', '[PAD]', '[PAD]', '[PAD]', '[PAD]', '[PAD]', '[PAD]', '[PAD]', '[PAD]', '[PAD]', '[PAD]', '[PAD]', '[PAD]', '[PAD]', '[PAD]', '[PAD]', '[PAD]', '[PAD]', '[PAD]', '[PAD]', '[PAD]', '[PAD]', '[PAD]', '[PAD]', '[PAD]', '[PAD]', '[PAD]', '[PAD]', '[PAD]', '[PAD]', '[PAD]', '[PAD]', '[PAD]', '[PAD]', '[PAD]', '[PAD]', '[PAD]', '[PAD]', '[PAD]', '[PAD]', '[PAD]', '[PAD]', '[PAD]', '[PAD]', '[PAD]', '[PAD]', '[PAD]', '[PAD]', '[PAD]', '[PAD]', '[PAD]', '[PAD]', '[PAD]', '[PAD]', '[PAD]', '[PAD]', '[PAD]', '[PAD]', '[PAD]', '[PAD]', '[PAD]', '[PAD]', '[PAD]', '[PAD]', '[PAD]', '[PAD]', '[PAD]', '[PAD]', '[PAD]', '[PAD]', '[PAD]', '[PAD]', '[PAD]', '[PAD]', '[PAD]', '[PAD]', '[PAD]', '[PAD]', '[PAD]', '[PAD]', '[PAD]', '[PAD]', '[PAD]', '[PAD]', '[PAD]', '[PAD]', '[PAD]', '[PAD]', '[PAD]', '[PAD]', '[PAD]', '[PAD]', '[PAD]', '[PAD]', '[PAD]', '[PAD]', '[PAD]', '[PAD]', '[PAD]', '[PAD]', '[PAD]', '[PAD]', '[PAD]', '[PAD]', '[PAD]', '[PAD]', '[PAD]', '[PAD]', '[PAD]', '[PAD]', '[PAD]', '[PAD]', '[PAD]', '[PAD]', '[PAD]', '[PAD]', '[PAD]', '[PAD]', '[PAD]', '[PAD]', '[PAD]', '[PAD]', '[PAD]', '[PAD]', '[PAD]', '[PAD]', '[PAD]', '[PAD]', '[PAD]', '[PAD]', '[PAD]', '[PAD]', '[PAD]', '[PAD]', '[PAD]', '[PAD]', '[PAD]', '[PAD]', '[PAD]', '[PAD]', '[PAD]', '[PAD]', '[PAD]', '[PAD]', '[PAD]', '[PAD]', '[PAD]', '[PAD]', '[PAD]', '[PAD]', '[PAD]', '[PAD]', '[PAD]', '[PAD]', '[PAD]', '[PAD]', '[PAD]', '[PAD]', '[PAD]', '[PAD]', '[PAD]', '[PAD]', '[PAD]', '[PAD]', '[PAD]', '[PAD]', '[PAD]', '[PAD]', '[PAD]', '[PAD]', '[PAD]', '[PAD]', '[PAD]', '[PAD]', '[PAD]', '[PAD]', '[PAD]', '[PAD]', '[PAD]', '[PAD]', '[PAD]', '[PAD]', '[PAD]', '[PAD]', '[PAD]']\n",
      "summary:\n",
      "['[CLS]', 'the', 'the', 'the', 'on', 'on', 'on', 'on', 'on', 'on', 'on', 'on', '\"', '\"', '\"', '\"', '\"', '\"', '\"', '\"', '\"', '\"', '\"', '\"', '\"', '\"', '\"', 'i', 'i', 'i', 'i', 'i', 'i', 'i', 'i', 'i', 'i', 'i', 'i', 'i', 'i', 'i', 'i', 'i', 'i', 'i', 'i', 'i', 'i', 'i']\n",
      "real summary:\n",
      "['[CLS]', 'this', 'film', 'is', 'really', 'bad', ',', 'so', 'bad', 'that', 'even', 'christopher', 'lee', 'can', 'not', 'save', 'it', '.', 'a', 'poor', 'story', 'an', 'even', 'poorer', 'script', 'and', 'just', 'plain', 'bad', 'direction', 'makes', 'this', 'a', 'truly', 'outstanding', 'horror', 'film', ',', 'the', 'outstanding', 'part', 'being', 'that', 'it', 'is', 'the', 'only', 'horror', 'film']\n",
      "reconsturct out:\n",
      "[',', ',', 'on', 'on', 'on', 'on', 'on', 'on', 'on', 'on', 'on', 'on', 'on', 'on', 'on', 'on', 'on', 'on', 'on', 'on', 'on', 'on', 'on', 'on', 'on', 'on', 'on', 'on', 'on', 'on', 'on', 'on', 'on', 'on', 'on', 'on', 'on', 'on', 'on', 'on', 'on', 'on', 'on', 'on', 'on', 'on', 'on', 'on', 'on', 'on', 'on', 'on', 'on', 'on', 'on', 'on', 'on', 'on', 'on', 'on', 'on', 'on', 'on', 'on', 'on', 'on', 'on', 'on', 'on', 'on', 'on', 'on', 'on', 'on', 'on', 'on', 'on', 'on', 'on', 'on', 'on', 'on', 'on', 'on', 'on', 'on', 'on', 'on', 'on', 'on', 'on', 'on', 'on', 'on', 'on', 'on', 'on', 'on', 'on', 'on', 'on', 'on', 'on', 'on', 'on', 'on', 'on', 'on', 'on', 'on', 'on', 'on', 'on', 'on', 'on', 'on', 'on', 'on', 'on', 'on', 'on', 'on', 'on', 'on', 'on', 'on', 'on', 'on', 'on', 'on', 'on', 'on', 'on', 'on', 'on', 'on', 'on', 'on', 'on', 'on', 'on', 'on', 'on', 'on', 'on', 'on', 'on', 'on', 'on', 'on', 'on', 'on', 'on', 'on', 'on', 'on', 'on', 'on', 'on', 'on', 'on', 'on', 'on', 'on', 'on', 'on', 'on', 'on', 'on', 'on', 'on', 'on', 'on', 'on', 'on', 'on', 'on', 'on', 'on', 'on', 'on', 'on', 'on', 'on', 'on', 'on', 'on', 'on', 'on', 'on', 'on', 'on', 'on', 'on', 'on', 'on', 'on', 'on', 'on', 'on', 'on', 'on', 'on', 'on', 'on', 'on', 'on', 'on', 'on', 'on', 'on', 'on', 'on', 'on', 'on', 'on', 'on', 'on', 'on', 'on', 'on', 'on', 'on', 'on', 'on', 'on', 'on', 'on', 'on', 'on', 'on', 'on', 'on', 'on', 'on', 'on', 'on', 'on', 'on', 'on', 'on', 'on', 'on', 'on', 'on', 'on', 'on', 'on', 'on', 'on', 'on', 'on', 'on', 'on', 'on', 'on', 'on', 'on', 'on', 'on', 'on', 'on', 'on', 'on', 'on', 'on', 'on', 'on', 'on', 'on', 'on', 'on', 'on', 'on', 'on', 'on', 'on', 'on', 'on', 'on', 'on', 'on', 'on', 'on', 'on', 'on', 'on', 'on', 'on', 'on', 'on', 'on', 'on', 'on', 'on', 'on', 'on', 'on', 'on']\n",
      "\n"
     ]
    },
    {
     "name": "stdout",
     "output_type": "stream",
     "text": [
      "origin:\n",
      "['[CLS]', 'if', 'you', 'were', 'brought', 'up', 'on', 'a', 'diet', 'of', 'gameshows', 'you', \"'ll\", 'understand', 'that', 'you', 'gradually', 'need', 'a', 'bigger', 'and', 'better', 'fix', '.', 'well', ',', 'in', 'the', 'world', 'of', 'the', 'running', 'man', ',', 'your', 'needs', 'will', 'be', 'sated', '.', 'for', 'in', 'this', 'game', 'show', ',', 'prisoners', 'compete', 'for', 'freedom', ',', 'and', 'the', 'ultimate', 'prize', '-', 'their', 'very', 'lives', '.', 'i', 'loved', 'this', 'film', '.', 'it', 'was', 'such', 'a', 'parody', 'on', 'the', 'mind', '-', 'numbing', 'tripe', 'that', 'we', 'watch', 'on', 'a', 'daily', 'basis', '.', 'it', 'is', \"n't\", 'one', 'of', 'schwarzenegger', \"'s\", 'best', 'performances', ',', 'but', 'on', 'the', 'whole', 'it', 'is', 'a', 'very', 'good', 'film', '.', 'the', 'underlying', 'idea', 'that', 'television', 'corporations', 'will', 'one', 'day', 'be', 'the', '\"', 'real', '\"', 'rulers', 'of', 'the', 'planet', 'is', 'very', 'believable', ',', 'and', 'is', 'very', 'well', 'portrayed', 'in', 'this', 'film', '.', 'of', 'course', 'there', 'are', 'the', 'usual', 'arnie', 'one', '-', 'liners', ',', 'my', 'favourite', 'is', 'when', 'he', 'is', 'about', 'to', 'be', 'catapulted', 'into', 'the', 'gamezone', ',', 'the', 'gameshow', 'host', 'asks', '\"', 'any', 'last', 'words', '?', '\"', 'arnie', 'says', ':', '\"', 'yeah', ',', 'i', \"'ll\", 'be', 'back', '\"', 'but', 'the', 'host', 'quips', '\"', 'only', 'in', 'a', 're', '-', 'run', '\"', 'and', 'presses', 'the', 'eject', 'button', '.', 'i', 'give', 'this', 'film', 'a', '10', 'for', 'sheer', 'originality', '.', 'i', 'must', 'have', 'watched', 'it', '30', 'or', 'more', 'times', '.', 'the', 'only', 'film', 'apart', 'from', 'the', 'die', 'hard', 'series', 'that', 'i', 'watched', 'this', 'often', '!', '!', 'in', 'short', ',', 'do', 'not', 'for', 'a', 'minute', 'think', 'that', 'you', 'own', 'the', 't.v.', '-', 'it', 'owns', 'you', '.', '.', '.', '.', '.', '[SEP]', '[PAD]', '[PAD]', '[PAD]', '[PAD]', '[PAD]', '[PAD]', '[PAD]', '[PAD]', '[PAD]', '[PAD]', '[PAD]', '[PAD]', '[PAD]', '[PAD]', '[PAD]', '[PAD]', '[PAD]', '[PAD]', '[PAD]', '[PAD]', '[PAD]', '[PAD]', '[PAD]', '[PAD]', '[PAD]', '[PAD]', '[PAD]', '[PAD]', '[PAD]', '[PAD]', '[PAD]', '[PAD]', '[PAD]', '[PAD]', '[PAD]', '[PAD]', '[PAD]', '[PAD]', '[PAD]', '[PAD]']\n",
      "summary:\n",
      "['[CLS]', 'the', 'the', 'the', 'on', 'on', 'on', 'on', 'on', 'on', 'on', 'on', 'on', 'on', '\"', '\"', '\"', '\"', 'i', 'i', 'i', 'i', 'i', 'i', 'i', 'i', 'i', 'i', 'i', 'i', 'i', 'i', 'i', 'i', 'i', 'i', 'i', 'i', 'i', 'i', 'i', 'i', 'i', 'i', 'i', 'i', 'i', 'i', 'i', 'i']\n",
      "real summary:\n",
      "['[CLS]', 'if', 'you', 'were', 'brought', 'up', 'on', 'a', 'diet', 'of', 'gameshows', 'you', \"'ll\", 'understand', 'that', 'you', 'gradually', 'need', 'a', 'bigger', 'and', 'better', 'fix', '.', 'well', ',', 'in', 'the', 'world', 'of', 'the', 'running', 'man', ',', 'your', 'needs', 'will', 'be', 'sated', '.', 'for', 'in', 'this', 'game', 'show', ',', 'prisoners', 'compete', 'for']\n",
      "reconsturct out:\n",
      "[',', ',', 'on', 'on', 'on', 'on', 'on', 'on', 'on', 'on', 'on', 'on', 'on', 'on', 'on', 'on', 'on', 'on', 'on', 'on', 'on', 'on', 'on', 'on', 'on', 'on', 'on', 'on', 'on', 'on', 'on', 'on', 'on', 'on', 'on', 'on', 'on', 'on', 'on', 'on', 'on', 'on', 'on', 'on', 'on', 'on', 'on', 'on', 'on', 'on', 'on', 'on', 'on', 'on', 'on', 'on', 'on', 'on', 'on', 'on', 'on', 'on', 'on', 'on', 'on', 'on', 'on', 'on', 'on', 'on', 'on', 'on', 'on', 'on', 'on', 'on', 'on', 'on', 'on', 'on', 'on', 'on', 'on', 'on', 'on', 'on', 'on', 'on', 'on', 'on', 'on', 'on', 'on', 'on', 'on', 'on', 'on', 'on', 'on', 'on', 'on', 'on', 'on', 'on', 'on', 'on', 'on', 'on', 'on', 'on', 'on', 'on', 'on', 'on', 'on', 'on', 'on', 'on', 'on', 'on', 'on', 'on', 'on', 'on', 'on', 'on', 'on', 'on', 'on', 'on', 'on', 'on', 'on', 'on', 'on', 'on', 'on', 'on', 'on', 'on', 'on', 'on', 'on', 'on', 'on', 'on', 'on', 'on', 'on', 'on', 'on', 'on', 'on', 'on', 'on', 'on', 'on', 'on', 'on', 'on', 'on', 'on', 'on', 'on', 'on', 'on', 'on', 'on', 'on', 'on', 'on', 'on', 'on', 'on', 'on', 'on', 'on', 'on', 'on', 'on', 'on', 'on', 'on', 'on', 'on', 'on', 'on', 'on', 'on', 'on', 'on', 'on', 'on', 'on', 'on', 'on', 'on', 'on', 'on', 'on', 'on', 'on', 'on', 'on', 'on', 'on', 'on', 'on', 'on', 'on', 'on', 'on', 'on', 'on', 'on', 'on', 'on', 'on', 'on', 'on', 'on', 'on', 'on', 'on', 'on', 'on', 'on', 'on', 'on', 'on', 'on', 'on', 'on', 'on', 'on', 'on', 'on', 'on', 'on', 'on', 'on', 'on', 'on', 'on', 'on', 'on', 'on', 'on', 'on', 'on', 'on', 'on', 'on', 'on', 'on', 'on', 'on', 'on', 'on', 'on', 'on', 'on', 'on', 'on', 'on', 'on', 'on', 'on', 'on', 'on', 'on', 'on', 'on', 'on', 'on', 'on', 'on', 'on', 'on', 'on', 'on', 'on', 'on', 'on', 'on', 'on', 'on', 'on', 'on', 'on', 'on', 'on', 'on', 'on', 'on', 'on', 'on', 'on', 'on']\n",
      "\n",
      "origin:\n",
      "['[CLS]', 'the', 'episodic', 'version', 'of', 'robert', 'heinlein', \"'s\", 'starship', 'troopers', 'plays', 'out', 'at', 'a', 'deathly', 'slow', 'pace', ',', 'following', 'johnny', 'rico', 'leaving', 'his', 'parents', ',', 'the', '(', 'not', 'very', 'attractive', ')', 'girl', 'he', 'lusts', 'for', ',', 'and', 'joining', 'the', 'mobile', 'infantry', '.', 'the', 'aliens', 'in', 'the', 'show', 'are', 'nothing', 'like', 'the', 'barbaric', 'bugs', 'from', 'the', 'film', ',', 'instead', 'being', 'squid', '-', 'like', 'monsters', 'that', 'shoot', 'lasers', 'out', 'of', 'their', 'mouths', '.', 'throughout', 'watching', 'this', 'version', ',', 'i', 'was', 'continually', 'amazed', 'at', 'just', 'how', 'fruity', 'they', \"'ve\", 'managed', 'to', 'make', 'the', 'whole', 'thing', '.', 'the', 'show', 'is', 'concerned', 'mostly', 'with', 'the', 'relationships', 'between', 'the', 'recruits', ',', 'and', 'the', 'aching', ',', 'prolonged', 'gazes', 'they', 'give', 'each', 'other', 'through', 'their', 'battle', 'armour', 'visors', ',', 'with', '80s', 'synth', 'pop', 'sometimes', 'arriving', '*', 'during', '*', 'the', 'sparse', 'battle', 'sequences', 'which', 'at', 'last', 'turning', 'up', 'in', 'the', 'final', 'few', 'episodes', '.', 'in', 'terms', 'of', 'construction', ',', 'it', 'owes', 'a', 'debt', 'to', 'top', 'gun', ',', 'sharing', 'much', 'in', 'terms', 'of', 'pacing', 'and', 'content', '(', 'and', 'all', 'that', 'implies', ')', '.', '[SEP]', '[PAD]', '[PAD]', '[PAD]', '[PAD]', '[PAD]', '[PAD]', '[PAD]', '[PAD]', '[PAD]', '[PAD]', '[PAD]', '[PAD]', '[PAD]', '[PAD]', '[PAD]', '[PAD]', '[PAD]', '[PAD]', '[PAD]', '[PAD]', '[PAD]', '[PAD]', '[PAD]', '[PAD]', '[PAD]', '[PAD]', '[PAD]', '[PAD]', '[PAD]', '[PAD]', '[PAD]', '[PAD]', '[PAD]', '[PAD]', '[PAD]', '[PAD]', '[PAD]', '[PAD]', '[PAD]', '[PAD]', '[PAD]', '[PAD]', '[PAD]', '[PAD]', '[PAD]', '[PAD]', '[PAD]', '[PAD]', '[PAD]', '[PAD]', '[PAD]', '[PAD]', '[PAD]', '[PAD]', '[PAD]', '[PAD]', '[PAD]', '[PAD]', '[PAD]', '[PAD]', '[PAD]', '[PAD]', '[PAD]', '[PAD]', '[PAD]', '[PAD]', '[PAD]', '[PAD]', '[PAD]', '[PAD]', '[PAD]', '[PAD]', '[PAD]', '[PAD]', '[PAD]', '[PAD]', '[PAD]', '[PAD]', '[PAD]', '[PAD]', '[PAD]', '[PAD]', '[PAD]', '[PAD]', '[PAD]', '[PAD]', '[PAD]', '[PAD]', '[PAD]', '[PAD]', '[PAD]', '[PAD]', '[PAD]', '[PAD]', '[PAD]', '[PAD]', '[PAD]', '[PAD]', '[PAD]', '[PAD]', '[PAD]', '[PAD]', '[PAD]', '[PAD]', '[PAD]', '[PAD]', '[PAD]', '[PAD]', '[PAD]', '[PAD]', '[PAD]', '[PAD]', '[PAD]', '[PAD]', '[PAD]', '[PAD]', '[PAD]', '[PAD]', '[PAD]', '[PAD]', '[PAD]', '[PAD]', '[PAD]', '[PAD]', '[PAD]', '[PAD]']\n",
      "summary:\n",
      "['[CLS]', 'the', 'the', 'the', 'on', 'on', 'on', 'on', 'on', 'on', 'on', 'on', 'on', 'on', 'on', 'on', '\"', '\"', 'i', 'i', 'i', 'i', 'i', 'i', 'i', 'i', 'i', 'i', 'i', 'i', 'i', 'i', 'i', 'i', 'i', 'i', 'i', 'i', 'i', 'i', 'i', 'i', 'i', 'i', 'i', 'i', 'i', 'i', 'i', 'i']\n",
      "real summary:\n",
      "['[CLS]', 'the', 'episodic', 'version', 'of', 'robert', 'heinlein', \"'s\", 'starship', 'troopers', 'plays', 'out', 'at', 'a', 'deathly', 'slow', 'pace', ',', 'following', 'johnny', 'rico', 'leaving', 'his', 'parents', ',', 'the', '(', 'not', 'very', 'attractive', ')', 'girl', 'he', 'lusts', 'for', ',', 'and', 'joining', 'the', 'mobile', 'infantry', '.', 'the', 'aliens', 'in', 'the', 'show', 'are', 'nothing']\n",
      "reconsturct out:\n",
      "[',', ',', 'on', 'on', 'on', 'on', 'on', 'on', 'on', 'on', 'on', 'on', 'on', 'on', 'on', 'on', 'on', 'on', 'on', 'on', 'on', 'on', 'on', 'on', 'on', 'on', 'on', 'on', 'on', 'on', 'on', 'on', 'on', 'on', 'on', 'on', 'on', 'on', 'on', 'on', 'on', 'on', 'on', 'on', 'on', 'on', 'on', 'on', 'on', 'on', 'on', 'on', 'on', 'on', 'on', 'on', 'on', 'on', 'on', 'on', 'on', 'on', 'on', 'on', 'on', 'on', 'on', 'on', 'on', 'on', 'on', 'on', 'on', 'on', 'on', 'on', 'on', 'on', 'on', 'on', 'on', 'on', 'on', 'on', 'on', 'on', 'on', 'on', 'on', 'on', 'on', 'on', 'on', 'on', 'on', 'on', 'on', 'on', 'on', 'on', 'on', 'on', 'on', 'on', 'on', 'on', 'on', 'on', 'on', 'on', 'on', 'on', 'on', 'on', 'on', 'on', 'on', 'on', 'on', 'on', 'on', 'on', 'on', 'on', 'on', 'on', 'on', 'on', 'on', 'on', 'on', 'on', 'on', 'on', 'on', 'on', 'on', 'on', 'on', 'on', 'on', 'on', 'on', 'on', 'on', 'on', 'on', 'on', 'on', 'on', 'on', 'on', 'on', 'on', 'on', 'on', 'on', 'on', 'on', 'on', 'on', 'on', 'on', 'on', 'on', 'on', 'on', 'on', 'on', 'on', 'on', 'on', 'on', 'on', 'on', 'on', 'on', 'on', 'on', 'on', 'on', 'on', 'on', 'on', 'on', 'on', 'on', 'on', 'on', 'on', 'on', 'on', 'on', 'on', 'on', 'on', 'on', 'on', 'on', 'on', 'on', 'on', 'on', 'on', 'on', 'on', 'on', 'on', 'on', 'on', 'on', 'on', 'on', 'on', 'on', 'on', 'on', 'on', 'on', 'on', 'on', 'on', 'on', 'on', 'on', 'on', 'on', 'on', 'on', 'on', 'on', 'on', 'on', 'on', 'on', 'on', 'on', 'on', 'on', 'on', 'on', 'on', 'on', 'on', 'on', 'on', 'on', 'on', 'on', 'on', 'on', 'on', 'on', 'on', 'on', 'on', 'on', 'on', 'on', 'on', 'on', 'on', 'on', 'on', 'on', 'on', 'on', 'on', 'on', 'on', 'on', 'on', 'on', 'on', 'on', 'on', 'on', 'on', 'on', 'on', 'on', 'on', 'on', 'on', 'on', 'on', 'on', 'on', 'on', 'on', 'on', 'on', 'on', 'on', 'on', 'on', 'on', 'on', 'on']\n",
      "\n"
     ]
    },
    {
     "name": "stdout",
     "output_type": "stream",
     "text": [
      "origin:\n",
      "['[CLS]', 'i', \"'\", 'm', 'overwhelmed', 'by', 'the', 'work', 'of', 'jim', 'carrey', '.', 'i', 'keep', 'on', 'getting', 'this', 'movie', 'stuck', 'in', 'my', 'head', '.', 'the', 'grinch', 'liking', 'martha', 'may', ',', 'cindy', 'lou', '(', 'who', \"'s\", 'very', 'annoying', ';', 'her', 'sweet', 'innocence', ')', 'who', 'tries', 'to', 'get', 'the', 'grinch', 'in', 'the', 'christmas', 'spirit', ',', 'the', 'childhood', 'of', 'the', 'grinch', '(', 'very', 'funny', '!', ')', ',', 'and', 'moreover', 'the', 'weak', 'obvious', 'ending', 'with', '-', 'christmas', 'is', \"n't\", 'all', 'about', 'presents', '.', 'i', 'have', 'to', 'say', ',', 'i', 'felt', 'stupid', 'walking', 'out', 'of', 'the', 'theater', 'with', 'a', 'bunch', 'of', 'babies', 'and', 'toddlers', 'laughing', 'and', 'so', 'forth', ',', 'but', 'this', 'movie', 'was', 'a', 'good', 'full', '-', 'lengthed', 'adaption', 'of', 'dr', '.', 'seuss', \"'\", 's', 'short', 'film', 'and', 'is', 'for', 'all', 'ages', '.', '[SEP]', '[PAD]', '[PAD]', '[PAD]', '[PAD]', '[PAD]', '[PAD]', '[PAD]', '[PAD]', '[PAD]', '[PAD]', '[PAD]', '[PAD]', '[PAD]', '[PAD]', '[PAD]', '[PAD]', '[PAD]', '[PAD]', '[PAD]', '[PAD]', '[PAD]', '[PAD]', '[PAD]', '[PAD]', '[PAD]', '[PAD]', '[PAD]', '[PAD]', '[PAD]', '[PAD]', '[PAD]', '[PAD]', '[PAD]', '[PAD]', '[PAD]', '[PAD]', '[PAD]', '[PAD]', '[PAD]', '[PAD]', '[PAD]', '[PAD]', '[PAD]', '[PAD]', '[PAD]', '[PAD]', '[PAD]', '[PAD]', '[PAD]', '[PAD]', '[PAD]', '[PAD]', '[PAD]', '[PAD]', '[PAD]', '[PAD]', '[PAD]', '[PAD]', '[PAD]', '[PAD]', '[PAD]', '[PAD]', '[PAD]', '[PAD]', '[PAD]', '[PAD]', '[PAD]', '[PAD]', '[PAD]', '[PAD]', '[PAD]', '[PAD]', '[PAD]', '[PAD]', '[PAD]', '[PAD]', '[PAD]', '[PAD]', '[PAD]', '[PAD]', '[PAD]', '[PAD]', '[PAD]', '[PAD]', '[PAD]', '[PAD]', '[PAD]', '[PAD]', '[PAD]', '[PAD]', '[PAD]', '[PAD]', '[PAD]', '[PAD]', '[PAD]', '[PAD]', '[PAD]', '[PAD]', '[PAD]', '[PAD]', '[PAD]', '[PAD]', '[PAD]', '[PAD]', '[PAD]', '[PAD]', '[PAD]', '[PAD]', '[PAD]', '[PAD]', '[PAD]', '[PAD]', '[PAD]', '[PAD]', '[PAD]', '[PAD]', '[PAD]', '[PAD]', '[PAD]', '[PAD]', '[PAD]', '[PAD]', '[PAD]', '[PAD]', '[PAD]', '[PAD]', '[PAD]', '[PAD]', '[PAD]', '[PAD]', '[PAD]', '[PAD]', '[PAD]', '[PAD]', '[PAD]', '[PAD]', '[PAD]', '[PAD]', '[PAD]', '[PAD]', '[PAD]', '[PAD]', '[PAD]', '[PAD]', '[PAD]', '[PAD]', '[PAD]', '[PAD]', '[PAD]', '[PAD]', '[PAD]', '[PAD]', '[PAD]', '[PAD]', '[PAD]', '[PAD]', '[PAD]', '[PAD]', '[PAD]', '[PAD]', '[PAD]', '[PAD]', '[PAD]', '[PAD]', '[PAD]', '[PAD]', '[PAD]', '[PAD]', '[PAD]', '[PAD]', '[PAD]', '[PAD]']\n",
      "summary:\n",
      "['[CLS]', 'the', 'the', 'the', 'on', 'on', 'on', 'on', 'on', 'on', 'on', 'on', 'on', 'on', 'on', 'on', 'on', 'on', 'i', 'i', 'i', 'i', 'i', 'i', 'i', 'i', 'i', 'i', 'i', 'i', 'i', 'i', 'i', 'i', 'i', 'i', 'i', 'i', 'i', 'i', 'i', 'i', 'i', 'i', 'i', 'i', 'i', 'i', 'i', 'i']\n",
      "real summary:\n",
      "['[CLS]', 'i', \"'\", 'm', 'overwhelmed', 'by', 'the', 'work', 'of', 'jim', 'carrey', '.', 'i', 'keep', 'on', 'getting', 'this', 'movie', 'stuck', 'in', 'my', 'head', '.', 'the', 'grinch', 'liking', 'martha', 'may', ',', 'cindy', 'lou', '(', 'who', \"'s\", 'very', 'annoying', ';', 'her', 'sweet', 'innocence', ')', 'who', 'tries', 'to', 'get', 'the', 'grinch', 'in', 'the']\n",
      "reconsturct out:\n",
      "[',', ',', 'on', 'on', 'on', 'on', 'on', 'on', 'on', 'on', 'on', 'on', 'on', 'on', 'on', 'on', 'on', 'on', 'on', 'on', 'on', 'on', 'on', 'on', 'on', 'on', 'on', 'on', 'on', 'on', 'on', 'on', 'on', 'on', 'on', 'on', 'on', 'on', 'on', 'on', 'on', 'on', 'on', 'on', 'on', 'on', 'on', 'on', 'on', 'on', 'on', 'on', 'on', 'on', 'on', 'on', 'on', 'on', 'on', 'on', 'on', 'on', 'on', 'on', 'on', 'on', 'on', 'on', 'on', 'on', 'on', 'on', 'on', 'on', 'on', 'on', 'on', 'on', 'on', 'on', 'on', 'on', 'on', 'on', 'on', 'on', 'on', 'on', 'on', 'on', 'on', 'on', 'on', 'on', 'on', 'on', 'on', 'on', 'on', 'on', 'on', 'on', 'on', 'on', 'on', 'on', 'on', 'on', 'on', 'on', 'on', 'on', 'on', 'on', 'on', 'on', 'on', 'on', 'on', 'on', 'on', 'on', 'on', 'on', 'on', 'on', 'on', 'on', 'on', 'on', 'on', 'on', 'on', 'on', 'on', 'on', 'on', 'on', 'on', 'on', 'on', 'on', 'on', 'on', 'on', 'on', 'on', 'on', 'on', 'on', 'on', 'on', 'on', 'on', 'on', 'on', 'on', 'on', 'on', 'on', 'on', 'on', 'on', 'on', 'on', 'on', 'on', 'on', 'on', 'on', 'on', 'on', 'on', 'on', 'on', 'on', 'on', 'on', 'on', 'on', 'on', 'on', 'on', 'on', 'on', 'on', 'on', 'on', 'on', 'on', 'on', 'on', 'on', 'on', 'on', 'on', 'on', 'on', 'on', 'on', 'on', 'on', 'on', 'on', 'on', 'on', 'on', 'on', 'on', 'on', 'on', 'on', 'on', 'on', 'on', 'on', 'on', 'on', 'on', 'on', 'on', 'on', 'on', 'on', 'on', 'on', 'on', 'on', 'on', 'on', 'on', 'on', 'on', 'on', 'on', 'on', 'on', 'on', 'on', 'on', 'on', 'on', 'on', 'on', 'on', 'on', 'on', 'on', 'on', 'on', 'on', 'on', 'on', 'on', 'on', 'on', 'on', 'on', 'on', 'on', 'on', 'on', 'on', 'on', 'on', 'on', 'on', 'on', 'on', 'on', 'on', 'on', 'on', 'on', 'on', 'on', 'on', 'on', 'on', 'on', 'on', 'on', 'on', 'on', 'on', 'on', 'on', 'on', 'on', 'on', 'on', 'on', 'on', 'on', 'on', 'on', 'on', 'on', 'on']\n",
      "\n",
      "origin:\n",
      "['[CLS]', 'valentine', 'is', 'a', 'horrible', 'movie', '.', 'this', 'is', 'what', 'i', 'thought', 'of', 'it', ':', 'acting', ':', 'very', 'bad', '.', 'katherine', 'heigl', 'can', 'not', 'act', '.', 'the', 'other', \"'s\", 'were', \"n't\", 'much', 'better', '.', 'story', ':', 'the', 'story', 'was', 'okay', ',', 'but', 'it', 'could', 'have', 'been', 'more', 'developed', '.', 'this', 'movie', 'had', 'the', 'potential', 'to', 'be', 'a', 'great', 'movie', ',', 'but', 'it', 'failed', '.', 'music', ':', 'yes', ',', 'some', 'of', 'the', 'music', 'was', 'pretty', 'cool', '.', 'originality', ':', 'not', 'very', 'original', '.', 'the', 'name', 'paige', 'prescott', \"'\", 'recognize', 'prescott', '?', 'bottom', 'line', ':', 'do', \"n't\", 'see', 'valentine', '.', 'it', \"'s\", 'a', 'really', 'stupid', 'movie', '.', '1', '/', '10', '[SEP]', '[PAD]', '[PAD]', '[PAD]', '[PAD]', '[PAD]', '[PAD]', '[PAD]', '[PAD]', '[PAD]', '[PAD]', '[PAD]', '[PAD]', '[PAD]', '[PAD]', '[PAD]', '[PAD]', '[PAD]', '[PAD]', '[PAD]', '[PAD]', '[PAD]', '[PAD]', '[PAD]', '[PAD]', '[PAD]', '[PAD]', '[PAD]', '[PAD]', '[PAD]', '[PAD]', '[PAD]', '[PAD]', '[PAD]', '[PAD]', '[PAD]', '[PAD]', '[PAD]', '[PAD]', '[PAD]', '[PAD]', '[PAD]', '[PAD]', '[PAD]', '[PAD]', '[PAD]', '[PAD]', '[PAD]', '[PAD]', '[PAD]', '[PAD]', '[PAD]', '[PAD]', '[PAD]', '[PAD]', '[PAD]', '[PAD]', '[PAD]', '[PAD]', '[PAD]', '[PAD]', '[PAD]', '[PAD]', '[PAD]', '[PAD]', '[PAD]', '[PAD]', '[PAD]', '[PAD]', '[PAD]', '[PAD]', '[PAD]', '[PAD]', '[PAD]', '[PAD]', '[PAD]', '[PAD]', '[PAD]', '[PAD]', '[PAD]', '[PAD]', '[PAD]', '[PAD]', '[PAD]', '[PAD]', '[PAD]', '[PAD]', '[PAD]', '[PAD]', '[PAD]', '[PAD]', '[PAD]', '[PAD]', '[PAD]', '[PAD]', '[PAD]', '[PAD]', '[PAD]', '[PAD]', '[PAD]', '[PAD]', '[PAD]', '[PAD]', '[PAD]', '[PAD]', '[PAD]', '[PAD]', '[PAD]', '[PAD]', '[PAD]', '[PAD]', '[PAD]', '[PAD]', '[PAD]', '[PAD]', '[PAD]', '[PAD]', '[PAD]', '[PAD]', '[PAD]', '[PAD]', '[PAD]', '[PAD]', '[PAD]', '[PAD]', '[PAD]', '[PAD]', '[PAD]', '[PAD]', '[PAD]', '[PAD]', '[PAD]', '[PAD]', '[PAD]', '[PAD]', '[PAD]', '[PAD]', '[PAD]', '[PAD]', '[PAD]', '[PAD]', '[PAD]', '[PAD]', '[PAD]', '[PAD]', '[PAD]', '[PAD]', '[PAD]', '[PAD]', '[PAD]', '[PAD]', '[PAD]', '[PAD]', '[PAD]', '[PAD]', '[PAD]', '[PAD]', '[PAD]', '[PAD]', '[PAD]', '[PAD]', '[PAD]', '[PAD]', '[PAD]', '[PAD]', '[PAD]', '[PAD]', '[PAD]', '[PAD]', '[PAD]', '[PAD]', '[PAD]', '[PAD]', '[PAD]', '[PAD]', '[PAD]', '[PAD]', '[PAD]', '[PAD]', '[PAD]', '[PAD]', '[PAD]', '[PAD]', '[PAD]', '[PAD]', '[PAD]', '[PAD]', '[PAD]', '[PAD]', '[PAD]', '[PAD]', '[PAD]']\n",
      "summary:\n",
      "['[CLS]', 'the', 'the', 'the', 'on', 'on', 'on', 'on', 'on', 'on', 'on', 'on', 'on', 'on', 'on', 'on', 'on', 'on', 'i', 'i', 'i', 'i', 'i', 'i', 'i', 'i', 'i', 'i', 'i', 'i', 'i', 'i', 'i', 'i', 'i', 'i', 'i', 'i', 'i', 'i', 'i', 'i', 'i', 'i', 'i', 'i', 'i', 'i', 'i', 'i']\n",
      "real summary:\n",
      "['[CLS]', 'valentine', 'is', 'a', 'horrible', 'movie', '.', 'this', 'is', 'what', 'i', 'thought', 'of', 'it', ':', 'acting', ':', 'very', 'bad', '.', 'katherine', 'heigl', 'can', 'not', 'act', '.', 'the', 'other', \"'s\", 'were', \"n't\", 'much', 'better', '.', 'story', ':', 'the', 'story', 'was', 'okay', ',', 'but', 'it', 'could', 'have', 'been', 'more', 'developed', '.']\n",
      "reconsturct out:\n",
      "[',', ',', 'on', 'on', 'on', 'on', 'on', 'on', 'on', 'on', 'on', 'on', 'on', 'on', 'on', 'on', 'on', 'on', 'on', 'on', 'on', 'on', 'on', 'on', 'on', 'on', 'on', 'on', 'on', 'on', 'on', 'on', 'on', 'on', 'on', 'on', 'on', 'on', 'on', 'on', 'on', 'on', 'on', 'on', 'on', 'on', 'on', 'on', 'on', 'on', 'on', 'on', 'on', 'on', 'on', 'on', 'on', 'on', 'on', 'on', 'on', 'on', 'on', 'on', 'on', 'on', 'on', 'on', 'on', 'on', 'on', 'on', 'on', 'on', 'on', 'on', 'on', 'on', 'on', 'on', 'on', 'on', 'on', 'on', 'on', 'on', 'on', 'on', 'on', 'on', 'on', 'on', 'on', 'on', 'on', 'on', 'on', 'on', 'on', 'on', 'on', 'on', 'on', 'on', 'on', 'on', 'on', 'on', 'on', 'on', 'on', 'on', 'on', 'on', 'on', 'on', 'on', 'on', 'on', 'on', 'on', 'on', 'on', 'on', 'on', 'on', 'on', 'on', 'on', 'on', 'on', 'on', 'on', 'on', 'on', 'on', 'on', 'on', 'on', 'on', 'on', 'on', 'on', 'on', 'on', 'on', 'on', 'on', 'on', 'on', 'on', 'on', 'on', 'on', 'on', 'on', 'on', 'on', 'on', 'on', 'on', 'on', 'on', 'on', 'on', 'on', 'on', 'on', 'on', 'on', 'on', 'on', 'on', 'on', 'on', 'on', 'on', 'on', 'on', 'on', 'on', 'on', 'on', 'on', 'on', 'on', 'on', 'on', 'on', 'on', 'on', 'on', 'on', 'on', 'on', 'on', 'on', 'on', 'on', 'on', 'on', 'on', 'on', 'on', 'on', 'on', 'on', 'on', 'on', 'on', 'on', 'on', 'on', 'on', 'on', 'on', 'on', 'on', 'on', 'on', 'on', 'on', 'on', 'on', 'on', 'on', 'on', 'on', 'on', 'on', 'on', 'on', 'on', 'on', 'on', 'on', 'on', 'on', 'on', 'on', 'on', 'on', 'on', 'on', 'on', 'on', 'on', 'on', 'on', 'on', 'on', 'on', 'on', 'on', 'on', 'on', 'on', 'on', 'on', 'on', 'on', 'on', 'on', 'on', 'on', 'on', 'on', 'on', 'on', 'on', 'on', 'on', 'on', 'on', 'on', 'on', 'on', 'on', 'on', 'on', 'on', 'on', 'on', 'on', 'on', 'on', 'on', 'on', 'on', 'on', 'on', 'on', 'on', 'on', 'on', 'on', 'on', 'on', 'on']\n",
      "\n"
     ]
    },
    {
     "ename": "KeyboardInterrupt",
     "evalue": "",
     "output_type": "error",
     "traceback": [
      "\u001b[0;31m---------------------------------------------------------------------------\u001b[0m",
      "\u001b[0;31mKeyboardInterrupt\u001b[0m                         Traceback (most recent call last)",
      "\u001b[0;32m<ipython-input-10-84a903f8101d>\u001b[0m in \u001b[0;36m<module>\u001b[0;34m\u001b[0m\n\u001b[1;32m     22\u001b[0m     \u001b[0;32mfor\u001b[0m \u001b[0mi\u001b[0m\u001b[0;34m,\u001b[0m \u001b[0mbatch\u001b[0m \u001b[0;32min\u001b[0m \u001b[0mtrange\u001b[0m\u001b[0;34m:\u001b[0m\u001b[0;34m\u001b[0m\u001b[0;34m\u001b[0m\u001b[0m\n\u001b[1;32m     23\u001b[0m         \u001b[0;31m#expect src has [CLS] and [SEP]\u001b[0m\u001b[0;34m\u001b[0m\u001b[0;34m\u001b[0m\u001b[0;34m\u001b[0m\u001b[0m\n\u001b[0;32m---> 24\u001b[0;31m         \u001b[0mloss\u001b[0m\u001b[0;34m,\u001b[0m \u001b[0mscore\u001b[0m  \u001b[0;34m=\u001b[0m \u001b[0mmodel\u001b[0m\u001b[0;34m.\u001b[0m\u001b[0mrun_iter\u001b[0m\u001b[0;34m(\u001b[0m\u001b[0mbatch\u001b[0m\u001b[0;34m.\u001b[0m\u001b[0msrc\u001b[0m\u001b[0;34m,\u001b[0m \u001b[0mbatch\u001b[0m\u001b[0;34m.\u001b[0m\u001b[0msrc_mask\u001b[0m\u001b[0;34m,\u001b[0m \u001b[0mSUMM_MAX\u001b[0m\u001b[0;34m,\u001b[0m \u001b[0mbatch\u001b[0m\u001b[0;34m.\u001b[0m\u001b[0mtrg\u001b[0m\u001b[0;34m,\u001b[0m \u001b[0mwriter\u001b[0m\u001b[0;34m,\u001b[0m \u001b[0mD_iters\u001b[0m\u001b[0;34m=\u001b[0m\u001b[0;36m5\u001b[0m\u001b[0;34m,\u001b[0m \u001b[0mverbose\u001b[0m \u001b[0;34m=\u001b[0m \u001b[0;36m1\u001b[0m\u001b[0;34m)\u001b[0m\u001b[0;34m\u001b[0m\u001b[0;34m\u001b[0m\u001b[0m\n\u001b[0m\u001b[1;32m     25\u001b[0m         trange.set_postfix(\n\u001b[1;32m     26\u001b[0m             \u001b[0;34m**\u001b[0m\u001b[0;34m{\u001b[0m\u001b[0;34m'Rec_loss'\u001b[0m\u001b[0;34m:\u001b[0m \u001b[0;34m'{:.3f}'\u001b[0m\u001b[0;34m.\u001b[0m\u001b[0mformat\u001b[0m\u001b[0;34m(\u001b[0m\u001b[0mloss\u001b[0m\u001b[0;34m[\u001b[0m\u001b[0;36m0\u001b[0m\u001b[0;34m]\u001b[0m\u001b[0;34m)\u001b[0m\u001b[0;34m}\u001b[0m\u001b[0;34m,\u001b[0m\u001b[0;34m\u001b[0m\u001b[0;34m\u001b[0m\u001b[0m\n",
      "\u001b[0;32m~/Github/Summarization-Lab/BIG-BIRD/LSTM_GumbelSoftmax.py\u001b[0m in \u001b[0;36mrun_iter\u001b[0;34m(self, src, src_mask, max_len, real_data, writer, D_iters, D_toggle, verbose)\u001b[0m\n\u001b[1;32m   1006\u001b[0m                 \u001b[0mself\u001b[0m\u001b[0;34m.\u001b[0m\u001b[0moptimizer_D\u001b[0m\u001b[0;34m.\u001b[0m\u001b[0mzero_grad\u001b[0m\u001b[0;34m(\u001b[0m\u001b[0;34m)\u001b[0m\u001b[0;34m\u001b[0m\u001b[0;34m\u001b[0m\u001b[0m\n\u001b[1;32m   1007\u001b[0m \u001b[0;34m\u001b[0m\u001b[0m\n\u001b[0;32m-> 1008\u001b[0;31m                 \u001b[0mbatch_d_loss\u001b[0m\u001b[0;34m,\u001b[0m \u001b[0mreal_score\u001b[0m\u001b[0;34m,\u001b[0m \u001b[0mfake_score\u001b[0m \u001b[0;34m=\u001b[0m \u001b[0mself\u001b[0m\u001b[0;34m.\u001b[0m\u001b[0mtrain_D\u001b[0m\u001b[0;34m(\u001b[0m\u001b[0mgumbel_one_hot\u001b[0m\u001b[0;34m,\u001b[0m \u001b[0mself\u001b[0m\u001b[0;34m.\u001b[0m\u001b[0m_to_one_hot\u001b[0m\u001b[0;34m(\u001b[0m\u001b[0mreal_data\u001b[0m\u001b[0;34m,\u001b[0m \u001b[0mlen\u001b[0m\u001b[0;34m(\u001b[0m\u001b[0mself\u001b[0m\u001b[0;34m.\u001b[0m\u001b[0mdictionary\u001b[0m\u001b[0;34m)\u001b[0m\u001b[0;34m)\u001b[0m\u001b[0;34m)\u001b[0m\u001b[0;34m\u001b[0m\u001b[0;34m\u001b[0m\u001b[0m\n\u001b[0m\u001b[1;32m   1009\u001b[0m                 \u001b[0mbatch_D_loss\u001b[0m \u001b[0;34m+=\u001b[0m \u001b[0mbatch_d_loss\u001b[0m\u001b[0;34m\u001b[0m\u001b[0;34m\u001b[0m\u001b[0m\n\u001b[1;32m   1010\u001b[0m                 \u001b[0mbatch_d_loss\u001b[0m\u001b[0;34m.\u001b[0m\u001b[0mbackward\u001b[0m\u001b[0;34m(\u001b[0m\u001b[0mretain_graph\u001b[0m\u001b[0;34m=\u001b[0m\u001b[0;32mTrue\u001b[0m\u001b[0;34m)\u001b[0m\u001b[0;34m;\u001b[0m\u001b[0;34m\u001b[0m\u001b[0;34m\u001b[0m\u001b[0m\n",
      "\u001b[0;32m~/Github/Summarization-Lab/BIG-BIRD/LSTM_GumbelSoftmax.py\u001b[0m in \u001b[0;36m_to_one_hot\u001b[0;34m(self, y, n_dims)\u001b[0m\n\u001b[1;32m    876\u001b[0m \u001b[0;34m\u001b[0m\u001b[0m\n\u001b[1;32m    877\u001b[0m         \u001b[0my_tensor\u001b[0m \u001b[0;34m=\u001b[0m \u001b[0my\u001b[0m\u001b[0;34m.\u001b[0m\u001b[0mto\u001b[0m\u001b[0;34m(\u001b[0m\u001b[0mself\u001b[0m\u001b[0;34m.\u001b[0m\u001b[0mdevice\u001b[0m\u001b[0;34m)\u001b[0m\u001b[0;34m.\u001b[0m\u001b[0mlong\u001b[0m\u001b[0;34m(\u001b[0m\u001b[0;34m)\u001b[0m\u001b[0;34m.\u001b[0m\u001b[0mview\u001b[0m\u001b[0;34m(\u001b[0m\u001b[0;34m*\u001b[0m\u001b[0my\u001b[0m\u001b[0;34m.\u001b[0m\u001b[0msize\u001b[0m\u001b[0;34m(\u001b[0m\u001b[0;34m)\u001b[0m\u001b[0;34m,\u001b[0m \u001b[0;34m-\u001b[0m\u001b[0;36m1\u001b[0m\u001b[0;34m)\u001b[0m\u001b[0;34m\u001b[0m\u001b[0;34m\u001b[0m\u001b[0m\n\u001b[0;32m--> 878\u001b[0;31m         \u001b[0mzeros\u001b[0m \u001b[0;34m=\u001b[0m \u001b[0mtorch\u001b[0m\u001b[0;34m.\u001b[0m\u001b[0mzeros\u001b[0m\u001b[0;34m(\u001b[0m\u001b[0;34m*\u001b[0m\u001b[0my\u001b[0m\u001b[0;34m.\u001b[0m\u001b[0msize\u001b[0m\u001b[0;34m(\u001b[0m\u001b[0;34m)\u001b[0m\u001b[0;34m,\u001b[0m \u001b[0mn_dims\u001b[0m\u001b[0;34m)\u001b[0m\u001b[0;34m.\u001b[0m\u001b[0mto\u001b[0m\u001b[0;34m(\u001b[0m\u001b[0mself\u001b[0m\u001b[0;34m.\u001b[0m\u001b[0mdevice\u001b[0m\u001b[0;34m)\u001b[0m\u001b[0;34m\u001b[0m\u001b[0;34m\u001b[0m\u001b[0m\n\u001b[0m\u001b[1;32m    879\u001b[0m \u001b[0;34m\u001b[0m\u001b[0m\n\u001b[1;32m    880\u001b[0m         \u001b[0;32mreturn\u001b[0m \u001b[0mzeros\u001b[0m\u001b[0;34m.\u001b[0m\u001b[0mscatter\u001b[0m\u001b[0;34m(\u001b[0m\u001b[0mscatter_dim\u001b[0m\u001b[0;34m,\u001b[0m \u001b[0my_tensor\u001b[0m\u001b[0;34m,\u001b[0m \u001b[0;36m1\u001b[0m\u001b[0;34m)\u001b[0m\u001b[0;34m\u001b[0m\u001b[0;34m\u001b[0m\u001b[0m\n",
      "\u001b[0;31mKeyboardInterrupt\u001b[0m: "
     ]
    }
   ],
   "source": [
    "#start = 1 if continue_from == None else (int(continue_from.split(\"Model\")[-1])+1)\n",
    "history = []\n",
    "\n",
    "start = model.epoch\n",
    "\n",
    "#from tensorboardX import SummaryWriter\n",
    "#writer = SummaryWriter('mygraph')\n",
    "writer = None\n",
    "all_loss = []\n",
    "all_reward = []\n",
    "\n",
    "for epoch in range(start, num_epochs+1):\n",
    "    print(\"Epoch\", epoch)\n",
    "    \n",
    "    # training\n",
    "    stats = Stats()\n",
    "    model.train()\n",
    "    \n",
    "    rewards = []\n",
    "    \n",
    "    trange = tqdm(enumerate(data_gen_train()), total=total_train)\n",
    "    for i, batch in trange:\n",
    "        #expect src has [CLS] and [SEP]\n",
    "        loss, score  = model.run_iter(batch.src, batch.src_mask, SUMM_MAX, batch.trg, writer, D_iters=5, verbose = 1)\n",
    "        trange.set_postfix(\n",
    "            **{'Rec_loss': '{:.3f}'.format(loss[0])},\n",
    "            **{'G_loss': '{:.3f}'.format(loss[1])},\n",
    "            **{'D_loss': '{:.3f}'.format(loss[2])},\n",
    "            **{'real_score': '{:.3f}'.format(score[0])},\n",
    "            **{'fake_score': '{:.3f}'.format(score[1])},\n",
    "            **{'acc': '{:.3f}'.format(score[2])},\n",
    "        )\n",
    "        stats.update(sum(loss), 1, log=0)\n",
    "        all_loss.append(loss)\n",
    "    model.epoch += 1\n",
    "    t_h = stats.history\n",
    "    history.append(t_h)\n",
    "    #writer.add_scalar('reward', np.mean(t_h), epoch)\n",
    "    print(\"[info] epoch train loss:\", np.mean(t_h))\n",
    "#writer.close()  \n",
    "#     try:\n",
    "#         torch.save({'model':model.state_dict(), 'training_history':t_h, 'validation_loss':np.mean(v_h)}, \n",
    "#                    \"trained/Model\"+str(epoch))\n",
    "#     except:\n",
    "#         continue"
   ]
  },
  {
   "cell_type": "code",
   "execution_count": null,
   "metadata": {},
   "outputs": [],
   "source": [
    "import matplotlib.pyplot as plt"
   ]
  },
  {
   "cell_type": "code",
   "execution_count": null,
   "metadata": {},
   "outputs": [],
   "source": [
    "print(all_loss)"
   ]
  },
  {
   "cell_type": "code",
   "execution_count": null,
   "metadata": {},
   "outputs": [],
   "source": [
    "plt.plot(range(len(all_loss)), all_loss)\n",
    "plt.show()"
   ]
  },
  {
   "cell_type": "code",
   "execution_count": null,
   "metadata": {},
   "outputs": [],
   "source": [
    "#print(model.all_rewards)\n",
    "#plt.plot(range(len(model.all_rewards)), model.all_rewards)"
   ]
  },
  {
   "cell_type": "code",
   "execution_count": null,
   "metadata": {},
   "outputs": [],
   "source": [
    "#plt.plot(range(len(model.all_rewards)-1), [sum(model.all_rewards[:i])/i for i in range(1,len(model.all_rewards))])"
   ]
  },
  {
   "cell_type": "code",
   "execution_count": null,
   "metadata": {},
   "outputs": [],
   "source": [
    "\n",
    "\n",
    "\n"
   ]
  }
 ],
 "metadata": {
  "kernelspec": {
   "display_name": "Python 3",
   "language": "python",
   "name": "python3"
  },
  "language_info": {
   "codemirror_mode": {
    "name": "ipython",
    "version": 3
   },
   "file_extension": ".py",
   "mimetype": "text/x-python",
   "name": "python",
   "nbconvert_exporter": "python",
   "pygments_lexer": "ipython3",
   "version": "3.7.2"
  }
 },
 "nbformat": 4,
 "nbformat_minor": 2
}
