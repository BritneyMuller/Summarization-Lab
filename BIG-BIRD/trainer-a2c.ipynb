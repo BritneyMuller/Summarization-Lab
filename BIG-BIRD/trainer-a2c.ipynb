{
 "cells": [
  {
   "cell_type": "code",
   "execution_count": 1,
   "metadata": {},
   "outputs": [],
   "source": [
    "from transformer_BigBirdA2C import *\n",
    "from dataset import make_data_generator\n",
    "import json\n",
    "from tqdm import tqdm_notebook as tqdm\n",
    "#from torchsummary import summary"
   ]
  },
  {
   "cell_type": "code",
   "execution_count": 2,
   "metadata": {},
   "outputs": [],
   "source": [
    "folder = 'data/food/'\n",
    "data_name = folder+'data.json'\n",
    "# validation_name = folder+'valid_seq.json'\n",
    "# testdata_name = folder+'testdata_seq.json'\n",
    "vocab_name = folder+'vocab.json'"
   ]
  },
  {
   "cell_type": "code",
   "execution_count": 3,
   "metadata": {},
   "outputs": [],
   "source": [
    "num_epochs = 10\n",
    "save_rate = 1 #how many epochs per modelsave\n",
    "#continue_from = \"trained/Model1\" # if none, put None\n",
    "continue_from = None\n",
    "epsilon = 1e-8\n",
    "validation_size = 10000\n",
    "device = torch.device('cuda')\n",
    "!mkdir -p trained"
   ]
  },
  {
   "cell_type": "code",
   "execution_count": 4,
   "metadata": {},
   "outputs": [],
   "source": [
    "vocab = json.load(open(vocab_name, 'r'))\n",
    "VOC_SIZE = len(vocab)\n",
    "INPUT_MAX = 100\n",
    "SUMM_MAX = 20\n",
    "UNK = \"[UNK]\"\n",
    "BOS = \"[CLS]\"\n",
    "EOS = \"[SEP]\"\n",
    "PAD = \"[PAD]\""
   ]
  },
  {
   "cell_type": "code",
   "execution_count": 5,
   "metadata": {},
   "outputs": [
    {
     "name": "stdout",
     "output_type": "stream",
     "text": [
      "loading json\n",
      "load json done.\n"
     ]
    },
    {
     "data": {
      "application/vnd.jupyter.widget-view+json": {
       "model_id": "9bc9ddb38c2c432a860b4261a2c01661",
       "version_major": 2,
       "version_minor": 0
      },
      "text/plain": [
       "HBox(children=(IntProgress(value=0, max=568454), HTML(value='')))"
      ]
     },
     "metadata": {},
     "output_type": "display_data"
    },
    {
     "name": "stdout",
     "output_type": "stream",
     "text": [
      "\n"
     ]
    }
   ],
   "source": [
    "batch_size = 10\n",
    "\n",
    "training_set, training_generator = make_data_generator(\\\n",
    "data_name, INPUT_MAX, SUMM_MAX, vocab[PAD], batch_size, cutoff=None, shuffle=True, num_workers=4)\n",
    "\n",
    "# validation_set, validation_generator = make_data_generator(\\\n",
    "# validation_name, INPUT_MAX, OUTPUT_MAX, vocab[PAD], batch_size, cutoff=validation_size, shuffle=False, num_workers=4)\n",
    "\n",
    "def data_gen_train():\n",
    "    for src, label, tgt in training_generator:\n",
    "        src = src.to(device)\n",
    "        label = (label).long().to(device)\n",
    "        tgt = tgt.to(device)\n",
    "        b = Batch(src, tgt, vocab[PAD])\n",
    "        b.label = label\n",
    "        yield b"
   ]
  },
  {
   "cell_type": "code",
   "execution_count": 6,
   "metadata": {},
   "outputs": [],
   "source": [
    "import math\n",
    "total_train = int(math.ceil(training_set.size / batch_size))\n",
    "# total_valid = int(math.ceil(validation_set.size / batch_size))\n",
    "# print(total_train, total_valid)"
   ]
  },
  {
   "cell_type": "code",
   "execution_count": 7,
   "metadata": {},
   "outputs": [],
   "source": [
    "def init_param(model):\n",
    "    for p in model.parameters():\n",
    "        if p.dim() > 1:\n",
    "            nn.init.xavier_uniform_(p)\n",
    "\n",
    "def make_big_bird(vocab, N=6, \n",
    "               d_model=512, d_ff=2048, h=8, dropout=0.1, emb_share=False, bert_share=False):\n",
    "    \"Helper: Construct a model from hyperparameters.\"\n",
    "    \n",
    "    vocab_sz = len(vocab)\n",
    "    \n",
    "    c = copy.deepcopy\n",
    "    attn = MultiHeadedAttention(h, d_model)\n",
    "    ff = PositionwiseFeedForward(d_model, d_ff, dropout)\n",
    "    position = PositionalEncoding(d_model, dropout)\n",
    "    \n",
    "    src_emb = nn.Sequential(Embeddings(d_model, vocab_sz), c(position))\n",
    "    if emb_share:        \n",
    "        tgt_emb = src_emb\n",
    "        bert_class_emb = src_emb\n",
    "        bert_discr_emb = src_emb\n",
    "    else:\n",
    "        tgt_emb = nn.Sequential(Embeddings(d_model, vocab_sz), c(position))\n",
    "        bert_class_emb = nn.Sequential(Embeddings(d_model, vocab_sz), c(position))\n",
    "        bert_discr_emb = nn.Sequential(Embeddings(d_model, vocab_sz), c(position))\n",
    "    \n",
    "    \n",
    "    bert_class = BERT(\n",
    "        Encoder(EncoderLayer(d_model, c(attn), c(ff), dropout), N),\n",
    "        bert_class_emb,\n",
    "        vocab[PAD]\n",
    "    )\n",
    "    \n",
    "    if bert_share:\n",
    "        bert_discr = bert_class\n",
    "    else:\n",
    "        bert_discr = BERT(\n",
    "            Encoder(EncoderLayer(d_model, c(attn), c(ff), dropout), N),\n",
    "            bert_discr_emb,\n",
    "            vocab[PAD]\n",
    "        )\n",
    "    \n",
    "    translator = Translator(\n",
    "        Encoder(EncoderLayer(d_model, c(attn), c(ff), dropout), N),\n",
    "        Decoder(DecoderLayer(d_model, c(attn), c(attn), \n",
    "                             c(ff), dropout), N),\n",
    "        src_emb,\n",
    "        tgt_emb,\n",
    "        Generator(d_model, vocab_sz),\n",
    "        CriticNet(d_model)\n",
    "        )\n",
    "    \n",
    "#     classifier = Classifier(\n",
    "#         bert_class,\n",
    "#         out_class = 5\n",
    "#         # criterion = BCE\n",
    "#     )\n",
    "        \n",
    "    discriminator = Discriminator(\n",
    "        Encoder(EncoderLayer(d_model, c(attn), c(ff), dropout), N),\n",
    "        d_model,\n",
    "        len(vocab),\n",
    "        vocab[PAD]\n",
    "    )\n",
    "\n",
    "    reconstructor = Reconstructor(\n",
    "        Encoder(EncoderLayer(d_model, c(attn), c(ff), dropout), N),\n",
    "        Decoder(DecoderLayer(d_model, c(attn), c(attn), \n",
    "                             c(ff), dropout), N),\n",
    "        src_emb,\n",
    "        tgt_emb,\n",
    "        Generator(d_model, vocab_sz),\n",
    "        vocab[PAD]\n",
    "    )\n",
    "    # This was important from their code. \n",
    "    # Initialize parameters with Glorot / fan_avg.\n",
    "    for m in [translator, reconstructor, discriminator]:\n",
    "        init_param(m)\n",
    "            \n",
    "    # creation of big bird\n",
    "    model = BigBird(\n",
    "        translator, discriminator, reconstructor , \n",
    "        vocab, gamma=0.99, clip_value=0.1, #for WGAN, useless if WGAN-GP is used \n",
    "        lr_G = 2e-4,\n",
    "        lr_D = 5e-5,\n",
    "        lr_R = 2e-5,\n",
    "        LAMBDA = 10, # Gradient penalty lambda hyperparameter\n",
    "        RL_scale = 1,\n",
    "        device = device\n",
    "    )\n",
    "\n",
    "    return model\n"
   ]
  },
  {
   "cell_type": "code",
   "execution_count": 8,
   "metadata": {},
   "outputs": [],
   "source": [
    "model = make_big_bird(vocab, N=4, d_model=64, d_ff=1024, h=8, dropout=0.1, emb_share=True, bert_share=True)\n",
    "model.load(\"Nest/NewbornBirdA2C\")"
   ]
  },
  {
   "cell_type": "code",
   "execution_count": null,
   "metadata": {},
   "outputs": [],
   "source": [
    "vocab_inv = {a:b for b, a in vocab.items()}\n",
    "def convert_ids_to_tokens(ids):\n",
    "    return [vocab_inv[i] for i in ids]"
   ]
  },
  {
   "cell_type": "code",
   "execution_count": null,
   "metadata": {
    "scrolled": true
   },
   "outputs": [
    {
     "name": "stdout",
     "output_type": "stream",
     "text": [
      "Epoch 1\n"
     ]
    },
    {
     "data": {
      "application/vnd.jupyter.widget-view+json": {
       "model_id": "0291021c14864e64a24215aef6c73fc7",
       "version_major": 2,
       "version_minor": 0
      },
      "text/plain": [
       "HBox(children=(IntProgress(value=0, max=56846), HTML(value='')))"
      ]
     },
     "metadata": {},
     "output_type": "display_data"
    },
    {
     "name": "stdout",
     "output_type": "stream",
     "text": [
      "lay egg to ./Nest ... save as ./Nest/NewbornBirdA2C\n",
      "lay egg to ./Nest ... save as ./Nest/NewbornBirdA2C\n",
      "lay egg to ./Nest ... save as ./Nest/NewbornBirdA2C\n",
      "origin:\n",
      "['[CLS]', 'although', 'i', 'have', 'never', 'gotten', 'it', 'through', 'amazon', '.', 'com', ',', 'ba', '##kla', '##va', 'made', 'by', 'sha', '##tila', 'food', 'products', 'in', 'michigan', '(', 'www', '.', 'sha', '##tila', '.', 'com', ')', 'is', 'the', 'best', 'there', 'is', '!', 'forget', 'the', 'stuff', 'you', 'find', 'at', 'the', 'local', 'bakery', 'or', 'harry', '&', 'david', '-', '-', 'this', 'stuff', 'is', 'in', 'a', 'different', 'league', 'altogether', '.', '[SEP]', '[PAD]', '[PAD]', '[PAD]', '[PAD]', '[PAD]', '[PAD]', '[PAD]', '[PAD]', '[PAD]', '[PAD]', '[PAD]', '[PAD]', '[PAD]', '[PAD]', '[PAD]', '[PAD]', '[PAD]', '[PAD]', '[PAD]', '[PAD]', '[PAD]', '[PAD]', '[PAD]', '[PAD]', '[PAD]', '[PAD]', '[PAD]', '[PAD]', '[PAD]', '[PAD]', '[PAD]', '[PAD]', '[PAD]', '[PAD]', '[PAD]', '[PAD]', '[PAD]', '[PAD]']\n",
      "summary:\n",
      "['[CLS]', 'milne', '##ս', 'manifest', 'armistice', 'remade', 'ת', 'bungalow', 'khan', '##gor', 'canadian', 'influencing', '##з', 'somber', 'brooks', 'conjecture', 'curtiss', 'singular', '521', 'arteries', 'fires']\n",
      "real summary:\n",
      "['[CLS]', 'the', 'best', 'ba', '##kla', '##va', '[SEP]', '[PAD]', '[PAD]', '[PAD]', '[PAD]', '[PAD]', '[PAD]', '[PAD]', '[PAD]', '[PAD]', '[PAD]', '[PAD]', '[PAD]']\n",
      "\n",
      "lay egg to ./Nest ... save as ./Nest/NewbornBirdA2C\n",
      "lay egg to ./Nest ... save as ./Nest/NewbornBirdA2C\n",
      "lay egg to ./Nest ... save as ./Nest/NewbornBirdA2C\n",
      "origin:\n",
      "['[CLS]', 'i', \"'\", 'm', 'not', 'usually', 'a', 'green', 'tea', 'fan', ',', 'but', 'i', 'ad', '##ore', 'lemon', 'ginger', ',', 'so', 'when', 'st', '##ash', 'came', 'up', 'with', 'this', 'tea', ',', 'i', 'sampled', 'it', '&', 'decided', 'to', 'order', 'in', 'quantity', '!', 'good', 'stuff', ',', '&', 'thanks', 'to', 'amazon', 'for', 'making', 'it', 'available', 'this', 'way', '.', '[SEP]', '[PAD]', '[PAD]', '[PAD]', '[PAD]', '[PAD]', '[PAD]', '[PAD]', '[PAD]', '[PAD]', '[PAD]', '[PAD]', '[PAD]', '[PAD]', '[PAD]', '[PAD]', '[PAD]', '[PAD]', '[PAD]', '[PAD]', '[PAD]', '[PAD]', '[PAD]', '[PAD]', '[PAD]', '[PAD]', '[PAD]', '[PAD]', '[PAD]', '[PAD]', '[PAD]', '[PAD]', '[PAD]', '[PAD]', '[PAD]', '[PAD]', '[PAD]', '[PAD]', '[PAD]', '[PAD]', '[PAD]', '[PAD]', '[PAD]', '[PAD]', '[PAD]', '[PAD]', '[PAD]', '[PAD]']\n",
      "summary:\n",
      "['[CLS]', 'pains', 'minas', 'uncertainty', '30', 'ana', 'pont', 'seriously', 'lived', 'tha', 'avant', 'nominations', 'linking', '1956', 'dazed', 'style', '##vies', 'sims', 'peculiar', '[unused498]', 'intel']\n",
      "real summary:\n",
      "['[CLS]', 'most', 'excellent', 'tea', '!', '[SEP]', '[PAD]', '[PAD]', '[PAD]', '[PAD]', '[PAD]', '[PAD]', '[PAD]', '[PAD]', '[PAD]', '[PAD]', '[PAD]', '[PAD]', '[PAD]']\n",
      "\n",
      "lay egg to ./Nest ... save as ./Nest/NewbornBirdA2C\n",
      "lay egg to ./Nest ... save as ./Nest/NewbornBirdA2C\n",
      "lay egg to ./Nest ... save as ./Nest/NewbornBirdA2C\n",
      "origin:\n",
      "['[CLS]', 'i', 'bought', 'these', 'for', 'my', '2', 'y', '##r', 'old', 'and', '11', 'month', 'old', '.', 'while', 'i', 'love', 'e', '##b', 'products', ',', 'i', 'bit', 'into', 'these', 'and', 'said', 'om', '##g', 'these', 'are', 'salty', '!', '!', '!', 'salty', 'like', 'you', 'can', 'taste', 'the', 'gran', '##ules', 'of', 'salt', 'on', 'your', 'tongue', '!', 'come', 'on', ',', 'you', 'expect', 'e', '##b', 'to', 'be', 'a', 'healthy', 'alternative', '-', 'yeah', 'right', '.', 'won', '##t', 'be', 'buying', 'these', 'anymore', 'and', 'mad', 'i', 'spent', 'my', 'money', 'on', 'them', '.', 'like', 'the', 'other', 'reviewer', 'said', \"'\", 'save', 'our', 'children', \"'\", 's', 'kidney', '##s', 'and', 'skip', 'these', \"'\", '.', '[SEP]']\n",
      "summary:\n",
      "['[CLS]', '[unused698]', 'searing', 'interpreted', 'boasted', 'delivered', '##gold', 'torre', 'barn', 'brisk', 'bounds', 'lecturer', 'playoff', '##bit', 'warn', 'islam', 'aunt', 'iq', 'lara', 'blooded', 'subsistence']\n",
      "real summary:\n",
      "['[CLS]', 'not', 'healthy', 'for', 'children', '!', '!', '!', '[SEP]', '[PAD]', '[PAD]', '[PAD]', '[PAD]', '[PAD]', '[PAD]', '[PAD]', '[PAD]', '[PAD]', '[PAD]']\n",
      "\n",
      "lay egg to ./Nest ... save as ./Nest/NewbornBirdA2C\n",
      "lay egg to ./Nest ... save as ./Nest/NewbornBirdA2C\n",
      "lay egg to ./Nest ... save as ./Nest/NewbornBirdA2C\n",
      "origin:\n",
      "['[CLS]', 'first', 'of', 'all', ',', 'this', 'is', 'not', 'health', 'food', '.', 'it', \"'\", 's', 'mostly', 'sugar', 'with', 'only', 'a', 'gram', 'of', 'protein', 'and', 'fiber', '.', 'that', 'said', ',', 'consider', 'it', 'a', 'fairly', 'low', '-', 'cal', '##ori', '##e', 'way', 'to', 'satisfy', 'a', 'sweet', 'tooth', 'and', 'a', 'need', 'to', 'eat', 'something', 'crunch', '##y', '-', '-', 'during', 'a', 'movie', ',', 'for', 'instance', 'or', 'as', 'a', 'treat', 'in', 'a', 'child', \"'\", 's', 'lunch', 'box', '.', '<', 'br', '/', '>', '<', 'br', '/', '>', 'the', 'product', 'tastes', 'a', 'lot', 'like', 'crack', '##er', 'jack', '##s', 'covered', 'in', 'chocolate', '.', 'it', 'has', 'a', 'nice', 'crunch', 'and', 'a']\n",
      "summary:\n",
      "['[CLS]', '##sling', 'consular', 'gui', 'コ', '##xton', 'unicode', 'cracking', '##rek', '##je', 'trails', 'dollar', 'graphical', 'santiago', 'orientation', 'lesions', 'tons', 'order', 'chichester', '##inates', 'cloudy']\n",
      "real summary:\n",
      "['[CLS]', 'sat', '##is', '##fies', 'a', 'sweet', 'tooth', 'with', 'some', 'crunch', '[SEP]', '[PAD]', '[PAD]', '[PAD]', '[PAD]', '[PAD]', '[PAD]', '[PAD]', '[PAD]']\n",
      "\n",
      "lay egg to ./Nest ... save as ./Nest/NewbornBirdA2C\n",
      "lay egg to ./Nest ... save as ./Nest/NewbornBirdA2C\n",
      "lay egg to ./Nest ... save as ./Nest/NewbornBirdA2C\n",
      "origin:\n",
      "['[CLS]', 'i', 'picked', 'this', 'brand', 'up', 'at', 'a', 'local', 'discount', 'store', 'and', 'what', 'a', 'wonderful', 'product', '!', '<', 'br', '/', '>', 'first', 'it', 'cooks', 'fast', '.', '.', '.', '15', 'minutes', 'and', 'you', \"'\", 're', 'done', '.', 'i', 'boil', 'mine', 'in', 'a', 'covered', 'pan', '.', '<', 'br', '/', '>', 'second', ',', 'the', 'grains', 'don', \"'\", 't', '\"', 'explode', '\"', 'like', 'regular', 'rice', ',', 'it', 'keeps', 'its', 'rice', '##y', 'shape', ',', 'even', 'when', 're', '-', 'heated', '.', '<', 'br', '/', '>', 'third', ',', 'the', 'grains', 'don', \"'\", 't', 'stick', 'together', '.', '(', 'i', \"'\", 've', 'always', 'had', 'trouble', 'with', 'the', 'sticking', 'grains']\n",
      "summary:\n",
      "['[CLS]', 'juris', 'battles', 'ম', 'suppliers', 'relation', 'stimuli', 'dwyer', 'salaries', '##平', 'florida', 'dana', 'widened', 'uncovered', 'cones', '[unused322]', '##recht', 'linger', 'blanket', 'forgive', 'massif']\n",
      "real summary:\n",
      "['[CLS]', 'even', 'a', 'novice', 'can', 'cook', 'the', 'nice', '##st', 'rice', '!', '[SEP]', '[PAD]', '[PAD]', '[PAD]', '[PAD]', '[PAD]', '[PAD]', '[PAD]']\n",
      "\n",
      "lay egg to ./Nest ... save as ./Nest/NewbornBirdA2C\n",
      "lay egg to ./Nest ... save as ./Nest/NewbornBirdA2C\n",
      "lay egg to ./Nest ... save as ./Nest/NewbornBirdA2C\n",
      "origin:\n",
      "['[CLS]', 'i', 'have', 'been', 'on', 'weight', 'watch', '##ers', 'for', 'the', 'last', 'couple', 'of', 'years', ',', 'and', 'this', 'is', 'my', 'morning', 'drink', 'of', 'choice', '.', 'i', 'love', 'it', 'because', 'i', 'can', 'have', 'my', 'cup', 'of', 'cha', '##i', 'for', 'only', 'one', 'point', '.', 'plus', ',', 'i', 'don', \"'\", 't', 'like', 'to', 'drink', 'a', 'lot', 'of', 'caf', '##fe', '##ine', 'because', 'it', 'de', '##ple', '##tes', 'my', 'water', 'supply', 'for', 'the', 'day', '.', 'the', 'regular', 'cha', '##i', 'is', 'really', 'good', 'also', '-', 'i', 'highly', 'recommend', 'this', 'brand', '.', '[SEP]', '[PAD]', '[PAD]', '[PAD]', '[PAD]', '[PAD]', '[PAD]', '[PAD]', '[PAD]', '[PAD]', '[PAD]', '[PAD]', '[PAD]', '[PAD]', '[PAD]', '[PAD]', '[PAD]']\n",
      "summary:\n",
      "['[CLS]', 'dudley', 'dubious', '[unused537]', 'nehru', 'deposit', '##movable', 'federer', 'committees', '[unused660]', 'andrei', 'chronology', 'racecourse', 'harvard', 'blaine', '[unused161]', 'hands', 'xinjiang', '[unused678]', '##ז', 'pub']\n",
      "real summary:\n",
      "['[CLS]', 'best', 'low', '-', 'cal', '##ori', '##e', 'cha', '##i', 'i', 'have', 'ever', 'tasted', '!', '[SEP]', '[PAD]', '[PAD]', '[PAD]', '[PAD]']\n",
      "\n",
      "lay egg to ./Nest ... save as ./Nest/NewbornBirdA2C\n",
      "lay egg to ./Nest ... save as ./Nest/NewbornBirdA2C\n",
      "lay egg to ./Nest ... save as ./Nest/NewbornBirdA2C\n",
      "origin:\n",
      "['[CLS]', 'i', 'love', 'this', 'maple', 'syrup', 'because', 'it', 'has', 'a', 'deep', ',', 'rich', 'flavor', 'very', 'whole', '##some', 'tasting', '.', 'how', 'can', 'people', 'eat', 'the', 'artificial', 'maple', 'stuff', 'from', 'supermarkets', '?', 'there', 'is', 'no', 'comparison', 'between', '100', '%', 'maple', 'syrup', 'and', 'the', 'junk', 'sold', 'in', 'supermarkets', 'full', 'of', 'high', 'fr', '##uc', '##tose', 'corn', 'syrup', 'and', 'artificial', 'flavors', ',', 'additive', '##s', '.', '<', 'br', '/', '>', '<', 'br', '/', '>', 'i', 'have', 'purchased', 'it', 'at', 'natural', 'food', 'stores', 'in', 'the', 'smaller', '8', 'oz', 'glass', 'bottle', ',', 'didn', \"'\", 't', 'note', 'any', 'difference', 'in', 'taste', 'from', 'the', 'plastic', 'jug', '-', 'this', 'is', 'a']\n",
      "summary:\n",
      "['[CLS]', 'compensate', '##twined', 'invitation', 'thru', 'prospective', 'dominion', 'incomplete', 'soprano', 'play', 'hanged', 'prose', 'aims', 'filtering', 'harm', 'whip', 'terrorism', 'pigeons', 'nero', 'verge', 'elemental']\n",
      "real summary:\n",
      "['[CLS]', 'deep', ',', 'rich', 'flavor', 'and', 'family', 'owned', 'maple', 'farm', '[SEP]', '[PAD]', '[PAD]', '[PAD]', '[PAD]', '[PAD]', '[PAD]', '[PAD]', '[PAD]']\n",
      "\n"
     ]
    },
    {
     "name": "stdout",
     "output_type": "stream",
     "text": [
      "lay egg to ./Nest ... save as ./Nest/NewbornBirdA2C\n",
      "lay egg to ./Nest ... save as ./Nest/NewbornBirdA2C\n",
      "lay egg to ./Nest ... save as ./Nest/NewbornBirdA2C\n",
      "origin:\n",
      "['[CLS]', 'i', 'am', 'still', 'kind', 'of', 'new', 'to', 'buying', 'organic', 'and', 'have', 'bought', 'a', 'few', 'things', 'that', 'have', 'been', 'less', 'than', 'ta', '##sty', 'to', 'say', 'the', 'least', '.', 'not', 'these', '.', 'they', 'are', 'absolutely', 'delicious', '!', '!', 'they', 'seem', 'to', 'be', 'a', 'little', 'heavier', 'than', 'regular', 'toast', '##er', 'past', '##ries', 'therefore', 'more', 'filling', 'too', '.', 'to', 'sum', 'them', 'up', 'in', 'one', 'word', '?', '?', '?', 'yu', '##mmy', '!', '!', '[SEP]', '[PAD]', '[PAD]', '[PAD]', '[PAD]', '[PAD]', '[PAD]', '[PAD]', '[PAD]', '[PAD]', '[PAD]', '[PAD]', '[PAD]', '[PAD]', '[PAD]', '[PAD]', '[PAD]', '[PAD]', '[PAD]', '[PAD]', '[PAD]', '[PAD]', '[PAD]', '[PAD]', '[PAD]', '[PAD]', '[PAD]', '[PAD]', '[PAD]', '[PAD]', '[PAD]']\n",
      "summary:\n",
      "['[CLS]', 'exported', '##wt', 'synagogue', 'legitimate', 'shove', 'accessibility', '##rook', 'babu', 'diver', 'immigration', 'mecca', 'due', 'engages', 'mal', 'pyramid', 'multiplayer', 'arctic', 'hang', 'deprived', '[unused416]']\n",
      "real summary:\n",
      "['[CLS]', 'who', 'knew', 'organic', 'tasted', 'so', 'good', '?', '[SEP]', '[PAD]', '[PAD]', '[PAD]', '[PAD]', '[PAD]', '[PAD]', '[PAD]', '[PAD]', '[PAD]', '[PAD]']\n",
      "\n",
      "lay egg to ./Nest ... save as ./Nest/NewbornBirdA2C\n",
      "lay egg to ./Nest ... save as ./Nest/NewbornBirdA2C\n",
      "lay egg to ./Nest ... save as ./Nest/NewbornBirdA2C\n",
      "origin:\n",
      "['[CLS]', 'very', 'satisfied', 'with', 'product', '.', 'shipping', 'was', 'fast', '.', 'product', 'arrived', 'sooner', 'than', 'expected', '.', 'will', 'purchase', 'from', 'barry', \"'\", 's', 'farm', 'again', '.', '[SEP]', '[PAD]', '[PAD]', '[PAD]', '[PAD]', '[PAD]', '[PAD]', '[PAD]', '[PAD]', '[PAD]', '[PAD]', '[PAD]', '[PAD]', '[PAD]', '[PAD]', '[PAD]', '[PAD]', '[PAD]', '[PAD]', '[PAD]', '[PAD]', '[PAD]', '[PAD]', '[PAD]', '[PAD]', '[PAD]', '[PAD]', '[PAD]', '[PAD]', '[PAD]', '[PAD]', '[PAD]', '[PAD]', '[PAD]', '[PAD]', '[PAD]', '[PAD]', '[PAD]', '[PAD]', '[PAD]', '[PAD]', '[PAD]', '[PAD]', '[PAD]', '[PAD]', '[PAD]', '[PAD]', '[PAD]', '[PAD]', '[PAD]', '[PAD]', '[PAD]', '[PAD]', '[PAD]', '[PAD]', '[PAD]', '[PAD]', '[PAD]', '[PAD]', '[PAD]', '[PAD]', '[PAD]', '[PAD]', '[PAD]', '[PAD]', '[PAD]', '[PAD]', '[PAD]', '[PAD]', '[PAD]', '[PAD]', '[PAD]', '[PAD]', '[PAD]', '[PAD]']\n",
      "summary:\n",
      "['[CLS]', 'theme', 'diameter', 'everett', 'una', '##ʻi', 'abduction', '本', 'stature', '##nius', 'slovene', 'extensive', 'racist', 'cavendish', 'ruth', 'sicily', 'ulrich', 'alpha', 'rufus', 'accumulation', '##ays']\n",
      "real summary:\n",
      "['[CLS]', 'sp', '##elt', 'berries', ',', '1', 'lb', '.', '[SEP]', '[PAD]', '[PAD]', '[PAD]', '[PAD]', '[PAD]', '[PAD]', '[PAD]', '[PAD]', '[PAD]', '[PAD]']\n",
      "\n",
      "lay egg to ./Nest ... save as ./Nest/NewbornBirdA2C\n",
      "lay egg to ./Nest ... save as ./Nest/NewbornBirdA2C\n",
      "lay egg to ./Nest ... save as ./Nest/NewbornBirdA2C\n",
      "origin:\n",
      "['[CLS]', 'a', 'flavor', '##ed', ',', 'light', 'ground', 'coffee', 'which', 'is', 'still', 'full', 'of', 'flavor', 'with', 'a', 'nice', 'after', '##tas', '##te', '.', 'it', \"'\", 's', 'probably', 'my', 'second', 'favorite', 'flavor', '##ed', 'coffee', 'with', 'their', 'madagascar', 'vanilla', 'nut', 'my', 'favorite', '.', '[SEP]', '[PAD]', '[PAD]', '[PAD]', '[PAD]', '[PAD]', '[PAD]', '[PAD]', '[PAD]', '[PAD]', '[PAD]', '[PAD]', '[PAD]', '[PAD]', '[PAD]', '[PAD]', '[PAD]', '[PAD]', '[PAD]', '[PAD]', '[PAD]', '[PAD]', '[PAD]', '[PAD]', '[PAD]', '[PAD]', '[PAD]', '[PAD]', '[PAD]', '[PAD]', '[PAD]', '[PAD]', '[PAD]', '[PAD]', '[PAD]', '[PAD]', '[PAD]', '[PAD]', '[PAD]', '[PAD]', '[PAD]', '[PAD]', '[PAD]', '[PAD]', '[PAD]', '[PAD]', '[PAD]', '[PAD]', '[PAD]', '[PAD]', '[PAD]', '[PAD]', '[PAD]', '[PAD]', '[PAD]', '[PAD]', '[PAD]', '[PAD]', '[PAD]', '[PAD]', '[PAD]']\n",
      "summary:\n",
      "['[CLS]', 'intermediate', '##大', 'hector', 'inorganic', 'editors', 'give', 'amy', 'overwhelmingly', '社', 'crop', 'refuge', '##cus', 'stamp', '##ground', 'д', 'breaks', 'correlation', 'cliffs', 'regular', 'უ']\n",
      "real summary:\n",
      "['[CLS]', 'van', 'ho', '##ut', '##te', 'cr', '##eme', 'br', '##ule', '##e', 'coffee', 'k', 'cup', '[SEP]', '[PAD]', '[PAD]', '[PAD]', '[PAD]', '[PAD]']\n",
      "\n",
      "lay egg to ./Nest ... save as ./Nest/NewbornBirdA2C\n",
      "lay egg to ./Nest ... save as ./Nest/NewbornBirdA2C\n",
      "lay egg to ./Nest ... save as ./Nest/NewbornBirdA2C\n",
      "origin:\n",
      "['[CLS]', 'i', 'was', 'so', 'pleased', 'with', 'the', 'texture', ',', 'flavor', ',', 'and', 'large', ',', 'mushroom', 'size', 'of', 'the', 'popped', 'corn', '.', 'even', 'better', ',', 'the', 'small', 'amount', 'of', 'oil', 'and', 'popcorn', 'salt', 'i', 'normally', 'use', 'adhere', '##d', 'to', 'this', 'popcorn', 'much', 'better', 'than', 'to', 'normal', 'popcorn', '.', '.', '.', 'gives', 'me', 'better', 'flavor', 'with', 'lower', 'cal', '##ories', 'and', 'fat', '.', '[SEP]', '[PAD]', '[PAD]', '[PAD]', '[PAD]', '[PAD]', '[PAD]', '[PAD]', '[PAD]', '[PAD]', '[PAD]', '[PAD]', '[PAD]', '[PAD]', '[PAD]', '[PAD]', '[PAD]', '[PAD]', '[PAD]', '[PAD]', '[PAD]', '[PAD]', '[PAD]', '[PAD]', '[PAD]', '[PAD]', '[PAD]', '[PAD]', '[PAD]', '[PAD]', '[PAD]', '[PAD]', '[PAD]', '[PAD]', '[PAD]', '[PAD]', '[PAD]', '[PAD]', '[PAD]', '[PAD]']\n",
      "summary:\n",
      "['[CLS]', 'negotiated', 'enclosed', 'emanuel', 'smashwords', 'platoon', '##class', 'ineligible', 'jungle', 'impoverished', '##neo', 'bankers', 'microphone', 'socio', '##mere', '##oid', 'syria', 'cameroon', '##lland', 'knoxville', '##ᵃ']\n",
      "real summary:\n",
      "['[CLS]', 'excellent', 'large', ',', 'full', 'popcorn', '!', '[SEP]', '[PAD]', '[PAD]', '[PAD]', '[PAD]', '[PAD]', '[PAD]', '[PAD]', '[PAD]', '[PAD]', '[PAD]', '[PAD]']\n",
      "\n",
      "lay egg to ./Nest ... save as ./Nest/NewbornBirdA2C\n",
      "lay egg to ./Nest ... save as ./Nest/NewbornBirdA2C\n",
      "lay egg to ./Nest ... save as ./Nest/NewbornBirdA2C\n",
      "origin:\n",
      "['[CLS]', 'best', 'canned', 'tomatoes', 'ever', '!', 'since', 'i', 'was', 'able', 'to', 'buy', 'in', 'bulk', '(', '12', 'cans', 'or', 'a', 'half', '-', 'case', ')', ',', 'i', 'realized', 'significant', 'savings', 'over', 'the', 'price', 'of', 'the', 'same', 'item', 'in', 'local', 'supermarkets', '.', 'i', 'live', 'in', 'the', 'northwest', 'where', 'tomato', 'season', 'is', 'very', 'short', 'and', 'having', 'good', 'quality', 'canned', 'tomatoes', 'bright', '##ens', 'up', 'the', 'bleak', '##est', 'winter', 'day', '.', 'the', 'fire', '-', 'roasted', 'version', 'adds', 'an', 'additional', 'layer', 'of', 'flavor', '.', '[SEP]', '[PAD]', '[PAD]', '[PAD]', '[PAD]', '[PAD]', '[PAD]', '[PAD]', '[PAD]', '[PAD]', '[PAD]', '[PAD]', '[PAD]', '[PAD]', '[PAD]', '[PAD]', '[PAD]', '[PAD]', '[PAD]', '[PAD]', '[PAD]', '[PAD]', '[PAD]']\n",
      "summary:\n",
      "['[CLS]', 'kindness', '[unused556]', 'coloured', '##《', 'graded', '##garh', '##cu', '##x', '##hart', 'cloak', '501', '...', 'weave', 'beasts', 'affecting', 'bugs', 'trickle', 'terminology', 'scandinavia', 'თ']\n",
      "real summary:\n",
      "['[CLS]', 'muir', 'glen', 'organic', 'tomato', '##s', '[SEP]', '[PAD]', '[PAD]', '[PAD]', '[PAD]', '[PAD]', '[PAD]', '[PAD]', '[PAD]', '[PAD]', '[PAD]', '[PAD]', '[PAD]']\n",
      "\n",
      "lay egg to ./Nest ... save as ./Nest/NewbornBirdA2C\n",
      "lay egg to ./Nest ... save as ./Nest/NewbornBirdA2C\n",
      "lay egg to ./Nest ... save as ./Nest/NewbornBirdA2C\n",
      "origin:\n",
      "['[CLS]', 'this', 'product', 'comes', 'in', 'tiny', 'bags', 'that', 'contain', '4', '-', '5', 'little', 'cube', '##s', 'of', 'grounded', 'cash', '##ew', '##s', 'and', 'chocolate', '.', 'the', 'taste', 'is', 'med', '##io', '##cre', ',', 'i', 'won', \"'\", 't', 'be', 'back', '!', '[SEP]', '[PAD]', '[PAD]', '[PAD]', '[PAD]', '[PAD]', '[PAD]', '[PAD]', '[PAD]', '[PAD]', '[PAD]', '[PAD]', '[PAD]', '[PAD]', '[PAD]', '[PAD]', '[PAD]', '[PAD]', '[PAD]', '[PAD]', '[PAD]', '[PAD]', '[PAD]', '[PAD]', '[PAD]', '[PAD]', '[PAD]', '[PAD]', '[PAD]', '[PAD]', '[PAD]', '[PAD]', '[PAD]', '[PAD]', '[PAD]', '[PAD]', '[PAD]', '[PAD]', '[PAD]', '[PAD]', '[PAD]', '[PAD]', '[PAD]', '[PAD]', '[PAD]', '[PAD]', '[PAD]', '[PAD]', '[PAD]', '[PAD]', '[PAD]', '[PAD]', '[PAD]', '[PAD]', '[PAD]', '[PAD]', '[PAD]', '[PAD]', '[PAD]', '[PAD]', '[PAD]', '[PAD]', '[PAD]']\n",
      "summary:\n",
      "['[CLS]', 'preferences', 'preferences', 'preferences', 'preferences', 'preferences', 'gwen', 'า', 'adapted', 'preferences', 'preferences', 'preferences', 'preferences', 'preferences', 'preferences', 'preferences', 'referring', 'questioning', 'impairment', '##nington', '[unused414]']\n",
      "real summary:\n",
      "['[CLS]', 'med', '##io', '##cre', '[SEP]', '[PAD]', '[PAD]', '[PAD]', '[PAD]', '[PAD]', '[PAD]', '[PAD]', '[PAD]', '[PAD]', '[PAD]', '[PAD]', '[PAD]', '[PAD]', '[PAD]']\n",
      "\n"
     ]
    },
    {
     "name": "stdout",
     "output_type": "stream",
     "text": [
      "lay egg to ./Nest ... save as ./Nest/NewbornBirdA2C\n",
      "lay egg to ./Nest ... save as ./Nest/NewbornBirdA2C\n",
      "lay egg to ./Nest ... save as ./Nest/NewbornBirdA2C\n",
      "origin:\n",
      "['[CLS]', 'these', 'bones', 'are', 'made', 'in', 'china', 'so', 'we', 'have', 'no', 'idea', 'how', 'they', 'are', 'manufactured', ',', 'but', 'regardless', 'they', 'made', 'our', 'dog', 'very', 'sick', '.', 'lots', 'of', 'dia', '##rh', '##ea', 'and', 'gas', 'from', 'these', 'bones', '-', 'i', 'sent', 'the', 'entire', 'box', 'back', 'for', 'a', 'ref', '##und', '.', 'purchase', 'at', 'your', 'own', 'risk', '.', '[SEP]', '[PAD]', '[PAD]', '[PAD]', '[PAD]', '[PAD]', '[PAD]', '[PAD]', '[PAD]', '[PAD]', '[PAD]', '[PAD]', '[PAD]', '[PAD]', '[PAD]', '[PAD]', '[PAD]', '[PAD]', '[PAD]', '[PAD]', '[PAD]', '[PAD]', '[PAD]', '[PAD]', '[PAD]', '[PAD]', '[PAD]', '[PAD]', '[PAD]', '[PAD]', '[PAD]', '[PAD]', '[PAD]', '[PAD]', '[PAD]', '[PAD]', '[PAD]', '[PAD]', '[PAD]', '[PAD]', '[PAD]', '[PAD]', '[PAD]', '[PAD]', '[PAD]', '[PAD]']\n",
      "summary:\n",
      "['[CLS]', '[unused678]', 'straits', '##ʼ', 'sp', '##uming', 'pointer', '1902', '##ksha', '1834', 'diane', 'malaria', 'oslo', 'sophomore', 'fungal', 'trail', '##oese', 'breaths', 'braden', '[unused216]', 'conquest']\n",
      "real summary:\n",
      "['[CLS]', 'made', 'in', 'china', '.', '.', '.', 'and', 'made', 'my', 'dog', 'sick', '!', '[SEP]', '[PAD]', '[PAD]', '[PAD]', '[PAD]', '[PAD]']\n",
      "\n",
      "lay egg to ./Nest ... save as ./Nest/NewbornBirdA2C\n",
      "lay egg to ./Nest ... save as ./Nest/NewbornBirdA2C\n",
      "lay egg to ./Nest ... save as ./Nest/NewbornBirdA2C\n",
      "origin:\n",
      "['[CLS]', 'i', 'can', \"'\", 't', 'seem', 'to', 'find', 'these', 'lady', 'fingers', 'in', 'my', 'area', 'so', 'i', 'ordered', 'a', 'box', 'from', 'amazon', '.', 'if', 'your', 'going', 'to', 'make', 'ti', '##ram', '##is', '##u', ',', 'these', 'are', 'the', 'best', 'cookies', 'to', 'use', '.', 'they', 'don', \"'\", 't', 'get', 'so', '##ggy', 'and', 'they', 'have', 'a', 'wonderful', 'sweet', ',', 'mild', 'taste', '.', '[SEP]', '[PAD]', '[PAD]', '[PAD]', '[PAD]', '[PAD]', '[PAD]', '[PAD]', '[PAD]', '[PAD]', '[PAD]', '[PAD]', '[PAD]', '[PAD]', '[PAD]', '[PAD]', '[PAD]', '[PAD]', '[PAD]', '[PAD]', '[PAD]', '[PAD]', '[PAD]', '[PAD]', '[PAD]', '[PAD]', '[PAD]', '[PAD]', '[PAD]', '[PAD]', '[PAD]', '[PAD]', '[PAD]', '[PAD]', '[PAD]', '[PAD]', '[PAD]', '[PAD]', '[PAD]', '[PAD]', '[PAD]', '[PAD]', '[PAD]']\n",
      "summary:\n",
      "['[CLS]', 'acquisitions', 'spectacular', 'finals', 'longest', 'ட', 'squat', 'gladstone', 'auditory', '##oof', '##oise', 'tentative', 'proudly', '1796', 'material', '##բ', '##二', 'stages', 'condemnation', 'ramon', '##sei']\n",
      "real summary:\n",
      "['[CLS]', 'ti', '##ram', '##is', '##u', '[SEP]', '[PAD]', '[PAD]', '[PAD]', '[PAD]', '[PAD]', '[PAD]', '[PAD]', '[PAD]', '[PAD]', '[PAD]', '[PAD]', '[PAD]', '[PAD]']\n",
      "\n",
      "lay egg to ./Nest ... save as ./Nest/NewbornBirdA2C\n",
      "lay egg to ./Nest ... save as ./Nest/NewbornBirdA2C\n",
      "lay egg to ./Nest ... save as ./Nest/NewbornBirdA2C\n",
      "origin:\n",
      "['[CLS]', 'hal', '##vah', 'is', 'an', 'acquired', 'taste', ',', 'but', 'once', 'you', \"'\", 've', 'acquired', 'it', ',', 'there', 'is', 'nothing', 'better', 'than', 'joy', '##vah', 'hal', '##vah', '.', '[SEP]', '[PAD]', '[PAD]', '[PAD]', '[PAD]', '[PAD]', '[PAD]', '[PAD]', '[PAD]', '[PAD]', '[PAD]', '[PAD]', '[PAD]', '[PAD]', '[PAD]', '[PAD]', '[PAD]', '[PAD]', '[PAD]', '[PAD]', '[PAD]', '[PAD]', '[PAD]', '[PAD]', '[PAD]', '[PAD]', '[PAD]', '[PAD]', '[PAD]', '[PAD]', '[PAD]', '[PAD]', '[PAD]', '[PAD]', '[PAD]', '[PAD]', '[PAD]', '[PAD]', '[PAD]', '[PAD]', '[PAD]', '[PAD]', '[PAD]', '[PAD]', '[PAD]', '[PAD]', '[PAD]', '[PAD]', '[PAD]', '[PAD]', '[PAD]', '[PAD]', '[PAD]', '[PAD]', '[PAD]', '[PAD]', '[PAD]', '[PAD]', '[PAD]', '[PAD]', '[PAD]', '[PAD]', '[PAD]', '[PAD]', '[PAD]', '[PAD]', '[PAD]', '[PAD]', '[PAD]', '[PAD]', '[PAD]', '[PAD]', '[PAD]', '[PAD]']\n",
      "summary:\n",
      "['[CLS]', '[CLS]', 'good', '[CLS]', '[CLS]', '[CLS]', 'good', '[CLS]', '[CLS]', '[CLS]', '[CLS]', '[SEP]', '[CLS]', '[CLS]', '[CLS]', '[CLS]', '[CLS]', '[CLS]', '[SEP]', '[CLS]', '[CLS]']\n",
      "real summary:\n",
      "['[CLS]', 'hal', '##vah', '.', 'great', 'stuff', '.', '[SEP]', '[PAD]', '[PAD]', '[PAD]', '[PAD]', '[PAD]', '[PAD]', '[PAD]', '[PAD]', '[PAD]', '[PAD]', '[PAD]']\n",
      "\n",
      "lay egg to ./Nest ... save as ./Nest/NewbornBirdA2C\n"
     ]
    }
   ],
   "source": [
    "start = 1 if continue_from == None else (int(continue_from.split(\"Model\")[-1])+1)\n",
    "history = []\n",
    "\n",
    "\n",
    "from tensorboardX import SummaryWriter\n",
    "writer = SummaryWriter('mygraph')\n",
    "\n",
    "all_loss = []\n",
    "all_reward = []\n",
    "\n",
    "for epoch in range(start, num_epochs+1):\n",
    "    print(\"Epoch\", epoch)\n",
    "    \n",
    "    # training\n",
    "    stats = Stats()\n",
    "    model.train()\n",
    "    \n",
    "    rewards = []\n",
    "    \n",
    "    trange = tqdm(enumerate(data_gen_train()), total=total_train)\n",
    "    for i, batch in trange:\n",
    "        loss, score  = model.run_iter(batch.src, batch.src_mask, SUMM_MAX, batch.trg, writer, D_iters=5, verbose = 1)\n",
    "        trange.set_postfix(\n",
    "            **{'RL_loss': '{:.3f}'.format(loss[0])},\n",
    "            **{'G_loss': '{:.3f}'.format(loss[1])},\n",
    "            **{'D_loss': '{:.3f}'.format(loss[2])},\n",
    "            **{'real_score': '{:.3f}'.format(score[0])},\n",
    "            **{'fake_score': '{:.3f}'.format(score[1])},\n",
    "            **{'acc': '{:.3f}'.format(score[2])},\n",
    "            **{'reward':'{:.3f}'.format(score[3])}\n",
    "        )\n",
    "        stats.update(sum(loss), 1, log=0)\n",
    "        rewards.append(score[3])\n",
    "        \n",
    "    t_h = stats.history\n",
    "    history.append(t_h)\n",
    "    writer.add_scalar('reward', np.mean(t_h), epoch)\n",
    "    print(\"[info] epoch train loss:\", np.mean(t_h))\n",
    "    print(\"[info] epoch train reward:\", sum(rewards)/len(rewards))\n",
    "    all_loss.append(np.mean(t_h))\n",
    "    all_reward.append(sum(rewards)/len(rewards))\n",
    "writer.close()  \n",
    "#     try:\n",
    "#         torch.save({'model':model.state_dict(), 'training_history':t_h, 'validation_loss':np.mean(v_h)}, \n",
    "#                    \"trained/Model\"+str(epoch))\n",
    "#     except:\n",
    "#         continue"
   ]
  },
  {
   "cell_type": "code",
   "execution_count": null,
   "metadata": {},
   "outputs": [],
   "source": [
    "import matplotlib.pyplot as plt"
   ]
  },
  {
   "cell_type": "code",
   "execution_count": null,
   "metadata": {},
   "outputs": [],
   "source": [
    "plt.plot(range(len(all_reward)), all_reward)\n",
    "plt.plot(range(len(all_loss)), all_loss)\n",
    "plt.show()"
   ]
  },
  {
   "cell_type": "code",
   "execution_count": null,
   "metadata": {},
   "outputs": [],
   "source": [
    "#print(model.all_rewards)\n",
    "#plt.plot(range(len(model.all_rewards)), model.all_rewards)"
   ]
  },
  {
   "cell_type": "code",
   "execution_count": null,
   "metadata": {},
   "outputs": [],
   "source": [
    "#plt.plot(range(len(model.all_rewards)-1), [sum(model.all_rewards[:i])/i for i in range(1,len(model.all_rewards))])"
   ]
  },
  {
   "cell_type": "code",
   "execution_count": null,
   "metadata": {},
   "outputs": [],
   "source": []
  }
 ],
 "metadata": {
  "kernelspec": {
   "display_name": "Python 3",
   "language": "python",
   "name": "python3"
  },
  "language_info": {
   "codemirror_mode": {
    "name": "ipython",
    "version": 3
   },
   "file_extension": ".py",
   "mimetype": "text/x-python",
   "name": "python",
   "nbconvert_exporter": "python",
   "pygments_lexer": "ipython3",
   "version": "3.7.2"
  }
 },
 "nbformat": 4,
 "nbformat_minor": 2
}
