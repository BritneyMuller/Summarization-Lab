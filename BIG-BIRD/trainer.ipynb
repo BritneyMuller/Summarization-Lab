{
 "cells": [
  {
   "cell_type": "code",
   "execution_count": 1,
   "metadata": {},
   "outputs": [],
   "source": [
    "from transformer_nb2 import *\n",
    "from dataset import make_data_generator\n",
    "import json\n",
    "from tqdm import tqdm_notebook as tqdm\n",
    "#from torchsummary import summary"
   ]
  },
  {
   "cell_type": "code",
   "execution_count": 2,
   "metadata": {},
   "outputs": [],
   "source": [
    "folder = 'data/BBC/'\n",
    "data_name = folder+'data.json'\n",
    "# validation_name = folder+'valid_seq.json'\n",
    "# testdata_name = folder+'testdata_seq.json'\n",
    "vocab_name = folder+'vocab.json'"
   ]
  },
  {
   "cell_type": "code",
   "execution_count": 3,
   "metadata": {},
   "outputs": [],
   "source": [
    "num_epochs = 500\n",
    "save_rate = 1 #how many epochs per modelsave\n",
    "#continue_from = \"trained/Model1\" # if none, put None\n",
    "continue_from = None\n",
    "epsilon = 1e-8\n",
    "validation_size = 10000\n",
    "device = torch.device('cuda')\n",
    "!mkdir -p trained"
   ]
  },
  {
   "cell_type": "code",
   "execution_count": 4,
   "metadata": {},
   "outputs": [],
   "source": [
    "vocab = json.load(open(vocab_name, 'r'))\n",
    "VOC_SIZE = len(vocab)\n",
    "INPUT_MAX = 400\n",
    "SUMM_MAX = 20\n",
    "UNK = \"[UNK]\"\n",
    "BOS = \"[CLS]\"\n",
    "EOS = \"[SEP]\"\n",
    "PAD = \"[PAD]\""
   ]
  },
  {
   "cell_type": "code",
   "execution_count": 5,
   "metadata": {},
   "outputs": [
    {
     "name": "stdout",
     "output_type": "stream",
     "text": [
      "loading json\n",
      "load json done.\n"
     ]
    },
    {
     "data": {
      "application/vnd.jupyter.widget-view+json": {
       "model_id": "b70ba1023f6f456eabf5a153b0d2a059",
       "version_major": 2,
       "version_minor": 0
      },
      "text/plain": [
       "HBox(children=(IntProgress(value=0, max=2225), HTML(value='')))"
      ]
     },
     "metadata": {},
     "output_type": "display_data"
    },
    {
     "name": "stdout",
     "output_type": "stream",
     "text": [
      "\n"
     ]
    }
   ],
   "source": [
    "batch_size = 16\n",
    "\n",
    "training_set, training_generator = make_data_generator(\\\n",
    "data_name, INPUT_MAX, SUMM_MAX, vocab[PAD], batch_size, cutoff=None, shuffle=True, num_workers=4)\n",
    "\n",
    "# validation_set, validation_generator = make_data_generator(\\\n",
    "# validation_name, INPUT_MAX, OUTPUT_MAX, vocab[PAD], batch_size, cutoff=validation_size, shuffle=False, num_workers=4)\n",
    "\n",
    "def data_gen_train():\n",
    "    for src, label, tgt in training_generator:\n",
    "        src = src.to(device)\n",
    "        label = (label).long().to(device)\n",
    "        tgt = tgt.to(device)\n",
    "        b = Batch(src, tgt, vocab[PAD])\n",
    "        b.label = label\n",
    "        yield b"
   ]
  },
  {
   "cell_type": "code",
   "execution_count": 6,
   "metadata": {},
   "outputs": [],
   "source": [
    "import math\n",
    "total_train = int(math.ceil(training_set.size / batch_size))\n",
    "# total_valid = int(math.ceil(validation_set.size / batch_size))\n",
    "# print(total_train, total_valid)"
   ]
  },
  {
   "cell_type": "code",
   "execution_count": 7,
   "metadata": {},
   "outputs": [],
   "source": [
    "def make_translator(src_vocab, tgt_vocab, N=6, \n",
    "               d_model=512, d_ff=2048, h=8, dropout=0.1, emb_share=False):\n",
    "    \"Helper: Construct a model from hyperparameters.\"\n",
    "    c = copy.deepcopy\n",
    "    attn = MultiHeadedAttention(h, d_model)\n",
    "    ff = PositionwiseFeedForward(d_model, d_ff, dropout)\n",
    "    position = PositionalEncoding(d_model, dropout)\n",
    "    \n",
    "    src_emb = nn.Sequential(Embeddings(d_model, src_vocab), c(position))\n",
    "    tgt_emb = src_emb if emb_share else nn.Sequential(Embeddings(d_model, tgt_vocab), c(position))\n",
    "    \n",
    "    model = Translator(\n",
    "        Encoder(EncoderLayer(d_model, c(attn), c(ff), dropout), N),\n",
    "        Decoder(DecoderLayer(d_model, c(attn), c(attn), \n",
    "                             c(ff), dropout), N),\n",
    "        src_emb,\n",
    "        tgt_emb,\n",
    "        Generator(d_model, tgt_vocab))\n",
    "    \n",
    "    return model"
   ]
  },
  {
   "cell_type": "code",
   "execution_count": null,
   "metadata": {},
   "outputs": [],
   "source": [
    "def make_classifier(src_vocab, N=6, \n",
    "               d_model=512, d_ff=2048, h=8, dropout=0.1):\n",
    "    \"Helper: Construct a model from hyperparameters.\"\n",
    "    c = copy.deepcopy\n",
    "    attn = MultiHeadedAttention(h, d_model)\n",
    "    ff = PositionwiseFeedForward(d_model, d_ff, dropout)\n",
    "    position = PositionalEncoding(d_model, dropout)\n",
    "    \n",
    "    bert = BERT(\n",
    "        Encoder(EncoderLayer(d_model, c(attn), c(ff), dropout), N),\n",
    "        nn.Sequential(Embeddings(d_model, src_vocab), c(position)),\n",
    "        vocab[PAD]\n",
    "    )\n",
    "    \n",
    "    model = Classifier(\n",
    "        bert\n",
    "        # criterion = CE\n",
    "    )\n",
    "\n",
    "    return model"
   ]
  },
  {
   "cell_type": "code",
   "execution_count": null,
   "metadata": {},
   "outputs": [],
   "source": [
    "def make_discriminator(src_vocab, N=6, \n",
    "               d_model=512, d_ff=2048, h=8, dropout=0.1):\n",
    "    \"Helper: Construct a model from hyperparameters.\"\n",
    "    c = copy.deepcopy\n",
    "    attn = MultiHeadedAttention(h, d_model)\n",
    "    ff = PositionwiseFeedForward(d_model, d_ff, dropout)\n",
    "    position = PositionalEncoding(d_model, dropout)\n",
    "    \n",
    "    bert = BERT(\n",
    "        Encoder(EncoderLayer(d_model, c(attn), c(ff), dropout), N),\n",
    "        nn.Sequential(Embeddings(d_model, src_vocab), c(position)),\n",
    "        vocab[PAD]\n",
    "    )\n",
    "    \n",
    "    model = Discriminator(\n",
    "        bert\n",
    "    )\n",
    "    \n",
    "    return model"
   ]
  },
  {
   "cell_type": "code",
   "execution_count": null,
   "metadata": {},
   "outputs": [],
   "source": [
    "def init_param(model):\n",
    "    for p in model.parameters():\n",
    "        if p.dim() > 1:\n",
    "            nn.init.xavier_uniform_(p)\n",
    "\n",
    "def make_big_bird(vocab, N=6, \n",
    "               d_model=512, d_ff=2048, h=8, dropout=0.1, emb_share=False, bert_share=False):\n",
    "    \"Helper: Construct a model from hyperparameters.\"\n",
    "    \n",
    "    vocab_sz = len(vocab)\n",
    "    \n",
    "    c = copy.deepcopy\n",
    "    attn = MultiHeadedAttention(h, d_model)\n",
    "    ff = PositionwiseFeedForward(d_model, d_ff, dropout)\n",
    "    position = PositionalEncoding(d_model, dropout)\n",
    "    \n",
    "    src_emb = nn.Sequential(Embeddings(d_model, vocab_sz), c(position))\n",
    "    if emb_share:        \n",
    "        tgt_emb = src_emb\n",
    "        bert_class_emb = src_emb\n",
    "        bert_discr_emb = src_emb\n",
    "    else:\n",
    "        tgt_emb = nn.Sequential(Embeddings(d_model, vocab_sz), c(position))\n",
    "        bert_class_emb = nn.Sequential(Embeddings(d_model, vocab_sz), c(position))\n",
    "        bert_discr_emb = nn.Sequential(Embeddings(d_model, vocab_sz), c(position))\n",
    "    \n",
    "    \n",
    "#     bert_class = BERT(\n",
    "#         Encoder(EncoderLayer(d_model, c(attn), c(ff), dropout), N),\n",
    "#         bert_class_emb,\n",
    "#         vocab[PAD]\n",
    "#     )\n",
    "    \n",
    "#     if bert_share:\n",
    "#         bert_discr = bert_class\n",
    "#     else:\n",
    "#         bert_discr = BERT(\n",
    "#             Encoder(EncoderLayer(d_model, c(attn), c(ff), dropout), N),\n",
    "#             bert_discr_emb,\n",
    "#             vocab[PAD]\n",
    "#         )\n",
    "        \n",
    "    bert_class = LSTMEncoder(\n",
    "        vocab_sz, \n",
    "        d_model,\n",
    "        vocab[PAD]\n",
    "    )\n",
    "    \n",
    "    if bert_share:\n",
    "        bert_discr = bert_class\n",
    "    else:\n",
    "        bert_discr = LSTMEncoder(\n",
    "            vocab_sz, \n",
    "            d_model,\n",
    "            vocab[PAD]\n",
    "        )\n",
    "    \n",
    "    translator = Translator(\n",
    "        Encoder(EncoderLayer(d_model, c(attn), c(ff), dropout), N),\n",
    "        Decoder(DecoderLayer(d_model, c(attn), c(attn), \n",
    "                             c(ff), dropout), N),\n",
    "        src_emb,\n",
    "        tgt_emb,\n",
    "        Generator(d_model, vocab_sz))\n",
    "    \n",
    "    classifier = Classifier(\n",
    "        bert_class\n",
    "        # criterion = BCE\n",
    "    )\n",
    "        \n",
    "    discriminator = Discriminator(\n",
    "        bert_discr\n",
    "    )\n",
    "        \n",
    "    # This was important from their code. \n",
    "    # Initialize parameters with Glorot / fan_avg.\n",
    "    for m in [translator, classifier, discriminator]:\n",
    "        init_param(m)\n",
    "            \n",
    "    # creation of big bird\n",
    "    model = BigBird(\n",
    "        translator, discriminator, classifier, \n",
    "        vocab, gamma=0.99, clip_value=0.1, #for WGAN, if WGAN-GP is used this is useless \n",
    "        lr_G = 0.,\n",
    "        lr_D = 0.,\n",
    "        lr_C = 1e-4,\n",
    "        LAMBDA = 10, # Gradient penalty lambda hyperparameter\n",
    "        RL_scale = 1000,\n",
    "        device = device\n",
    "    )\n",
    "\n",
    "    return model\n"
   ]
  },
  {
   "cell_type": "code",
   "execution_count": null,
   "metadata": {},
   "outputs": [],
   "source": [
    "model = make_big_bird(vocab, N=4, d_model=256, d_ff=512, h=8, dropout=0.1, emb_share=True, bert_share=True)\n",
    "#model.load(\"Nest/NewbornBird\")"
   ]
  },
  {
   "cell_type": "code",
   "execution_count": null,
   "metadata": {},
   "outputs": [],
   "source": [
    "vocab_inv = {a:b for b, a in vocab.items()}\n",
    "def convert_ids_to_tokens(ids):\n",
    "    return [vocab_inv[i] for i in ids]"
   ]
  },
  {
   "cell_type": "code",
   "execution_count": null,
   "metadata": {
    "scrolled": true
   },
   "outputs": [
    {
     "name": "stdout",
     "output_type": "stream",
     "text": [
      "Epoch 1\n"
     ]
    },
    {
     "data": {
      "application/vnd.jupyter.widget-view+json": {
       "model_id": "4bbd852babbe4a778ed6ca65dcd2f641",
       "version_major": 2,
       "version_minor": 0
      },
      "text/plain": [
       "HBox(children=(IntProgress(value=0, max=140), HTML(value='')))"
      ]
     },
     "metadata": {},
     "output_type": "display_data"
    },
    {
     "name": "stdout",
     "output_type": "stream",
     "text": [
      "\n",
      "[info] epoch train loss: 0.9883736379211768\n",
      "Epoch 2\n"
     ]
    },
    {
     "data": {
      "application/vnd.jupyter.widget-view+json": {
       "model_id": "37d4094128ee412fb498e0c2a642d00e",
       "version_major": 2,
       "version_minor": 0
      },
      "text/plain": [
       "HBox(children=(IntProgress(value=0, max=140), HTML(value='')))"
      ]
     },
     "metadata": {},
     "output_type": "display_data"
    },
    {
     "name": "stdout",
     "output_type": "stream",
     "text": [
      "\n",
      "[info] epoch train loss: 0.89097191062548\n",
      "Epoch 3\n"
     ]
    },
    {
     "data": {
      "application/vnd.jupyter.widget-view+json": {
       "model_id": "e94ede632bdc4af5abc35ecd6b807eec",
       "version_major": 2,
       "version_minor": 0
      },
      "text/plain": [
       "HBox(children=(IntProgress(value=0, max=140), HTML(value='')))"
      ]
     },
     "metadata": {},
     "output_type": "display_data"
    },
    {
     "name": "stdout",
     "output_type": "stream",
     "text": [
      "\n",
      "[info] epoch train loss: 0.7722771819547883\n",
      "Epoch 4\n"
     ]
    },
    {
     "data": {
      "application/vnd.jupyter.widget-view+json": {
       "model_id": "48691b17f6374d3db3685c9d851220bf",
       "version_major": 2,
       "version_minor": 0
      },
      "text/plain": [
       "HBox(children=(IntProgress(value=0, max=140), HTML(value='')))"
      ]
     },
     "metadata": {},
     "output_type": "display_data"
    },
    {
     "name": "stdout",
     "output_type": "stream",
     "text": [
      "\n",
      "[info] epoch train loss: 0.8200897198469778\n",
      "Epoch 5\n"
     ]
    },
    {
     "data": {
      "application/vnd.jupyter.widget-view+json": {
       "model_id": "b93420cc8d94435cb4fd86990952ccb0",
       "version_major": 2,
       "version_minor": 0
      },
      "text/plain": [
       "HBox(children=(IntProgress(value=0, max=140), HTML(value='')))"
      ]
     },
     "metadata": {},
     "output_type": "display_data"
    },
    {
     "name": "stdout",
     "output_type": "stream",
     "text": [
      "\n",
      "[info] epoch train loss: 0.47852791998801486\n",
      "Epoch 6\n"
     ]
    },
    {
     "data": {
      "application/vnd.jupyter.widget-view+json": {
       "model_id": "446867b2b308485baad3078828f8bdd3",
       "version_major": 2,
       "version_minor": 0
      },
      "text/plain": [
       "HBox(children=(IntProgress(value=0, max=140), HTML(value='')))"
      ]
     },
     "metadata": {},
     "output_type": "display_data"
    },
    {
     "name": "stdout",
     "output_type": "stream",
     "text": [
      "\n",
      "[info] epoch train loss: 0.5239164763824582\n",
      "Epoch 7\n"
     ]
    },
    {
     "data": {
      "application/vnd.jupyter.widget-view+json": {
       "model_id": "eb916cd0b9be47899f102e66aa579a29",
       "version_major": 2,
       "version_minor": 0
      },
      "text/plain": [
       "HBox(children=(IntProgress(value=0, max=140), HTML(value='')))"
      ]
     },
     "metadata": {},
     "output_type": "display_data"
    },
    {
     "name": "stdout",
     "output_type": "stream",
     "text": [
      "\n",
      "[info] epoch train loss: 0.43511700211425447\n",
      "Epoch 8\n"
     ]
    },
    {
     "data": {
      "application/vnd.jupyter.widget-view+json": {
       "model_id": "13b39e1f190c4717a183cb258f7f2a82",
       "version_major": 2,
       "version_minor": 0
      },
      "text/plain": [
       "HBox(children=(IntProgress(value=0, max=140), HTML(value='')))"
      ]
     },
     "metadata": {},
     "output_type": "display_data"
    },
    {
     "name": "stdout",
     "output_type": "stream",
     "text": [
      "lay egg to ./Nest ... save as ./Nest/NewbornBird\n",
      "origin:\n",
      "['[CLS]', 'russia', 'w', '##to', 'talks', 'make', 'progress', 'talks', 'on', 'russia', 's', 'proposed', 'membership', 'of', 'the', 'world', 'trade', 'organisation', '(', 'w', '##to', ')', 'have', 'been', 'making', 'good', 'progress', 'say', 'those', 'behind', 'the', 'negotiations', '.', 'but', 'the', 'chairman', 'of', 'the', 'working', 'party', 'ambassador', 'stefan', 'johannes', '##son', 'of', 'iceland', 'warned', 'that', 'there', 'was', 'still', 'a', 'lot', 'of', 'work', 'has', 'to', 'be', 'done', '.', 'his', 'comments', 'came', 'as', 'president', 'george', 'w', 'bush', 'said', 'the', 'us', 'backed', 'russian', 'entry', '.', 'but', 'he', 'said', 'for', 'russia', 'to', 'make', 'progress', 'the', 'government', 'must', 'renew', 'a', 'commitment', 'to', 'democracy', 'and', 'the', 'rule', 'of', 'law', '.', 'his', 'comments', 'come', 'three', 'days', 'before', 'he', 'is', 'due', 'to', 'meet', 'president', 'vladimir', 'putin', '.', 'russia', 'has', 'been', 'waiting', 'for', 'a', 'decade', 'to', 'join', 'the', 'w', '##to', 'and', 'hopes', 'to', 'finally', 'become', 'a', 'member', 'by', 'early', '2006', '.', 'a', 'decision', 'could', 'be', 'reached', 'in', 'december', 'when', 'the', 'w', '##to', 's', '148', 'current', 'members', 'gather', 'for', 'a', 'summit', 'in', 'hong', 'kong', '.', 'that', 'would', 'allow', 'an', 'earliest', 'date', 'for', 'membership', 'of', 'january', '2006', 'if', 'the', 'hong', 'kong', 'summit', 'gave', 'its', 'approval', '.', 'while', 'pin', '##point', '##ing', 'several', 'areas', 'in', 'which', 'there', 'are', 'difficulties', 'in', 'the', 'bilateral', 'and', 'multi', '##lateral', 'work', 'with', 'russia', 'the', 'us', 'said', 'the', 'meeting', 'was', 'much', 'more', 'efficient', 'than', 'we', 've', 'seen', 'for', 'some', 'time', '.', 'and', 'australia', 'said', 'it', 'was', 'one', 'of', 'the', 'best', '(', 'meetings', ')', 'we', 'can', 'recall', 'in', 'terms', 'of', 'substance', '.', 'mr', 'johannes', '##son', 'also', 'said', 'progress', 'on', 'the', 'bilateral', 'market', 'access', 'side', 'is', 'accelerating', '.', 'sticking', 'points', 'to', 'membership', 'have', 'included', 'limits', 'on', 'foreign', 'ownership', 'in', 'the', 'telecommunications', 'and', 'life', 'insurance', 'businesses', 'as', 'well', 'as', 'issues', 'surrounding', 'counter', '##feit', '##ing', 'piracy', 'and', 'data', 'protection', '.', 'some', 'w', '##to', 'members', 'also', 'dislike', 'russia', 's', 'energy', 'price', 'subsidies', 'which', 'competitors', 'say', 'give', 'russian', 'businesses', 'an', 'unfair', 'advantage', '.', '[SEP]', '[PAD]', '[PAD]', '[PAD]', '[PAD]', '[PAD]', '[PAD]', '[PAD]', '[PAD]', '[PAD]', '[PAD]', '[PAD]', '[PAD]', '[PAD]', '[PAD]', '[PAD]', '[PAD]', '[PAD]', '[PAD]', '[PAD]', '[PAD]', '[PAD]', '[PAD]', '[PAD]', '[PAD]', '[PAD]', '[PAD]', '[PAD]', '[PAD]', '[PAD]', '[PAD]', '[PAD]', '[PAD]', '[PAD]', '[PAD]', '[PAD]', '[PAD]', '[PAD]', '[PAD]', '[PAD]', '[PAD]', '[PAD]', '[PAD]', '[PAD]', '[PAD]', '[PAD]', '[PAD]', '[PAD]', '[PAD]', '[PAD]', '[PAD]', '[PAD]', '[PAD]', '[PAD]', '[PAD]', '[PAD]', '[PAD]', '[PAD]', '[PAD]', '[PAD]', '[PAD]', '[PAD]', '[PAD]', '[PAD]', '[PAD]', '[PAD]', '[PAD]', '[PAD]', '[PAD]', '[PAD]', '[PAD]', '[PAD]', '[PAD]', '[PAD]', '[PAD]', '[PAD]', '[PAD]', '[PAD]', '[PAD]', '[PAD]', '[PAD]', '[PAD]', '[PAD]', '[PAD]', '[PAD]', '[PAD]', '[PAD]', '[PAD]', '[PAD]', '[PAD]', '[PAD]', '[PAD]', '[PAD]', '[PAD]', '[PAD]', '[PAD]', '[PAD]', '[PAD]', '[PAD]']\n",
      "summary:\n",
      "['[CLS]', 'ᄇ', 'ᄇ', 'ᄇ', 'ᄇ', 'ᄇ', 'ᄇ', 'ᄇ', 'ᄇ', 'ᄇ', 'ᄇ', 'ᄇ', 'ᄇ', 'ᄇ', 'ᄇ', 'ᄇ', 'ᄇ', 'ᄇ', 'ᄇ', 'ᄇ']\n",
      "real summary:\n",
      "['[CLS]', 'russia', 'w', '##to', 'talks', 'make', 'progress', 'talks', 'on', 'russia', 's', 'proposed', 'membership', 'of', 'the', 'world', 'trade', 'organisation', '(']\n",
      "sentiment: 0\n",
      "y: 1\n",
      "\n",
      "\n",
      "[info] epoch train loss: 0.3374557454787594\n",
      "Epoch 9\n"
     ]
    },
    {
     "data": {
      "application/vnd.jupyter.widget-view+json": {
       "model_id": "3a54b62e66f84be7a9abd427dfd8a757",
       "version_major": 2,
       "version_minor": 0
      },
      "text/plain": [
       "HBox(children=(IntProgress(value=0, max=140), HTML(value='')))"
      ]
     },
     "metadata": {},
     "output_type": "display_data"
    },
    {
     "name": "stdout",
     "output_type": "stream",
     "text": [
      "\n",
      "[info] epoch train loss: 0.44479747750530285\n",
      "Epoch 10\n"
     ]
    },
    {
     "data": {
      "application/vnd.jupyter.widget-view+json": {
       "model_id": "45aa3c52fb4745d49f8f90eb8fc1a637",
       "version_major": 2,
       "version_minor": 0
      },
      "text/plain": [
       "HBox(children=(IntProgress(value=0, max=140), HTML(value='')))"
      ]
     },
     "metadata": {},
     "output_type": "display_data"
    },
    {
     "name": "stdout",
     "output_type": "stream",
     "text": [
      "\n",
      "[info] epoch train loss: 0.40922129466323115\n",
      "Epoch 11\n"
     ]
    },
    {
     "data": {
      "application/vnd.jupyter.widget-view+json": {
       "model_id": "1adfeb7bd36a4cdba8a03613c47938c9",
       "version_major": 2,
       "version_minor": 0
      },
      "text/plain": [
       "HBox(children=(IntProgress(value=0, max=140), HTML(value='')))"
      ]
     },
     "metadata": {},
     "output_type": "display_data"
    },
    {
     "name": "stdout",
     "output_type": "stream",
     "text": [
      "\n",
      "[info] epoch train loss: 0.31284679506040575\n",
      "Epoch 12\n"
     ]
    },
    {
     "data": {
      "application/vnd.jupyter.widget-view+json": {
       "model_id": "883adcdca9f24c4da5504600f1b47bcd",
       "version_major": 2,
       "version_minor": 0
      },
      "text/plain": [
       "HBox(children=(IntProgress(value=0, max=140), HTML(value='')))"
      ]
     },
     "metadata": {},
     "output_type": "display_data"
    },
    {
     "name": "stdout",
     "output_type": "stream",
     "text": [
      "\n",
      "[info] epoch train loss: 0.4485895508659139\n",
      "Epoch 13\n"
     ]
    },
    {
     "data": {
      "application/vnd.jupyter.widget-view+json": {
       "model_id": "a47b2ba8ae61485e8812f59b4795adcd",
       "version_major": 2,
       "version_minor": 0
      },
      "text/plain": [
       "HBox(children=(IntProgress(value=0, max=140), HTML(value='')))"
      ]
     },
     "metadata": {},
     "output_type": "display_data"
    },
    {
     "name": "stdout",
     "output_type": "stream",
     "text": [
      "\n",
      "[info] epoch train loss: 0.6773063407678689\n",
      "Epoch 14\n"
     ]
    },
    {
     "data": {
      "application/vnd.jupyter.widget-view+json": {
       "model_id": "2e8ee32de241405bbf04cc59cf8aedb0",
       "version_major": 2,
       "version_minor": 0
      },
      "text/plain": [
       "HBox(children=(IntProgress(value=0, max=140), HTML(value='')))"
      ]
     },
     "metadata": {},
     "output_type": "display_data"
    },
    {
     "name": "stdout",
     "output_type": "stream",
     "text": [
      "\n",
      "[info] epoch train loss: 0.640531074235748\n",
      "Epoch 15\n"
     ]
    },
    {
     "data": {
      "application/vnd.jupyter.widget-view+json": {
       "model_id": "be1011b617bc408abb004f5910d402e0",
       "version_major": 2,
       "version_minor": 0
      },
      "text/plain": [
       "HBox(children=(IntProgress(value=0, max=140), HTML(value='')))"
      ]
     },
     "metadata": {},
     "output_type": "display_data"
    },
    {
     "name": "stdout",
     "output_type": "stream",
     "text": [
      "lay egg to ./Nest ... save as ./Nest/NewbornBird\n",
      "origin:\n",
      "['[CLS]', 'blair', 'and', 'brown', 'criticised', 'by', 'mps', 'labour', 'mps', 'have', 'angrily', 'criticised', 'tony', 'blair', 'and', 'gordon', 'brown', 'amid', 'renewed', 'reports', 'of', 'a', 'rift', 'between', 'the', 'two', 'men', '.', 'a', 'meeting', 'of', 'the', 'parliamentary', 'labour', 'party', 'saw', 'a', 'succession', 'of', 'normally', 'loyal', 'members', 'warn', 'that', 'feud', '##ing', 'could', 'je', '##opa', '##rdi', '##se', 'labour', 's', 'election', 'hopes', '.', 'the', 'pm', 'insisted', 'nothing', 'would', 'der', '##ail', 'labour', 's', 'campaign', 'despite', 'a', 'new', 'book', 'saying', 'he', 'has', 'upset', 'his', 'chancellor', 'by', 'backing', 'out', 'of', 'a', 'pledge', 'to', 'stand', 'aside', '.', 'mr', 'brown', 'will', 'again', 'be', 'in', 'the', 'public', 'eye', 'at', 'the', 'party', 's', 'new', 'poster', 'launch', '.', 'in', 'what', 'the', 'party', 'had', 'hoped', 'would', 'be', 'perceived', 'as', 'a', 'show', 'of', 'unity', 'he', 'is', 'due', 'to', 'line', 'up', 'alongside', 'alan', 'mil', '##burn', '-', 'the', 'man', 'controversial', '##ly', 'appointed', 'as', 'the', 'party', 's', 'election', 'su', '##pre', '##mo', '-', 'and', 'deputy', 'leader', 'john', 'prescott', 'for', 'the', 'event', 'in', 'london', 'on', 'tuesday', '.', 'relations', 'between', 'mr', 'brown', 'and', 'mr', 'mil', '##burn', 'are', 'widely', 'reported', 'to', 'be', 'cool', 'ever', 'since', 'mr', 'blair', 'brought', 'the', 'latter', 'back', 'into', 'the', 'cabinet', 'to', 'run', 'labour', 's', 'election', 'campaign', 'a', 'role', 'successfully', 'carried', 'out', 'by', 'mr', 'brown', 'in', 'both', '1997', 'and', '2001', '.', 'mr', 'blair', 'told', 'the', 'parliamentary', 'labour', 'party', 'on', 'monday', ':', 'i', 'know', 'from', 'everyone', 'here', 'in', 'cabinet', 'and', 'government', 'nothing', 'is', 'going', 'to', 'get', 'in', 'the', 'way', 'of', 'a', 'unified', 'labour', 'party', 'with', 'a', 'unified', 'position', 'and', 'winning', 'the', 'third', 'term', 'people', 'desperately', 'need', '.', 'the', 'prime', 'minister', 'and', 'his', 'chancellor', 'arrived', 'within', 'seconds', 'of', 'each', 'other', 'for', 'the', 'meeting', 'of', 'the', 'pl', '##p', 'and', 'were', 'seemingly', 'in', 'good', 'spirits', 'as', 'it', 'started', '.', 'new', 'speculation', 'about', 'the', 'state', 'of', 'their', 'relationship', 'was', 'sparked', 'by', 'claims', 'in', 'brown', 's', 'britain', 'by', 'sunday', 'telegraph', 'journalist', 'robert', 'pest', '##on', 'which', 'suggested', 'mr', 'blair', 'went', 'back', 'on', 'a', 'pledge', 'to', 'make', 'way', 'for', 'mr', 'brown', '.', 'labour', 's', 'paul', 'flynn', 'said', 'mr', 'blair', 'and', 'mr', 'brown', 'had', 'a', 'sc', '##or', '##ching', 'from', 'mps', 'adding', ':', 'it', 'was', 'a', 'parliamentary', 'labour', 'party', 'meeting', 'like', 'no', 'other', '.', 'back', '##ben', '##cher', 'stephen', 'pound', 'said', 'some', 'mps', 'had', 'threaten', '##d', 'to', 'expose', 'those', 'fuel', '##ling', 'the', 'reports', 'if', 'mr', 'blair', 'and', 'mr', 'brown', 'did', 'not', 'stop', 'this', 'nonsense', 'this', 'poisonous', 'briefing', '.', 'lord', 'campbell', '-', 'sa', '##vo', '##urs', 'a', 'former', 'mp', 'challenged', 'mr', 'brown', 'to', 'deny', 'reports', 'that', 'he', 'had', 'told', 'the', 'prime', 'minister', 'he', 'did']\n",
      "summary:\n",
      "['[CLS]', 'therapeutic', 'therapeutic', 'therapeutic', 'therapeutic', 'therapeutic', 'therapeutic', 'therapeutic', 'therapeutic', 'therapeutic', 'therapeutic', 'therapeutic', 'therapeutic', 'therapeutic', 'therapeutic', 'therapeutic', 'therapeutic', 'therapeutic', 'therapeutic', 'therapeutic']\n",
      "real summary:\n",
      "['[CLS]', 'blair', 'and', 'brown', 'criticised', 'by', 'mps', 'labour', 'mps', 'have', 'angrily', 'criticised', 'tony', 'blair', 'and', 'gordon', 'brown', 'amid', 'renewed']\n",
      "sentiment: 0\n",
      "y: 4\n",
      "\n",
      "\n",
      "[info] epoch train loss: 0.42019609746805925\n",
      "Epoch 16\n"
     ]
    },
    {
     "data": {
      "application/vnd.jupyter.widget-view+json": {
       "model_id": "9cc1a942d0f64b28876a58d7c6f635db",
       "version_major": 2,
       "version_minor": 0
      },
      "text/plain": [
       "HBox(children=(IntProgress(value=0, max=140), HTML(value='')))"
      ]
     },
     "metadata": {},
     "output_type": "display_data"
    },
    {
     "name": "stdout",
     "output_type": "stream",
     "text": [
      "\n",
      "[info] epoch train loss: 0.7608524268742518\n",
      "Epoch 17\n"
     ]
    },
    {
     "data": {
      "application/vnd.jupyter.widget-view+json": {
       "model_id": "e619e4135732423292229c3d76728080",
       "version_major": 2,
       "version_minor": 0
      },
      "text/plain": [
       "HBox(children=(IntProgress(value=0, max=140), HTML(value='')))"
      ]
     },
     "metadata": {},
     "output_type": "display_data"
    },
    {
     "name": "stdout",
     "output_type": "stream",
     "text": [
      "\n",
      "[info] epoch train loss: 0.7133681554812938\n",
      "Epoch 18\n"
     ]
    },
    {
     "data": {
      "application/vnd.jupyter.widget-view+json": {
       "model_id": "ff691b9643d5433da88d9577b8f27719",
       "version_major": 2,
       "version_minor": 0
      },
      "text/plain": [
       "HBox(children=(IntProgress(value=0, max=140), HTML(value='')))"
      ]
     },
     "metadata": {},
     "output_type": "display_data"
    },
    {
     "name": "stdout",
     "output_type": "stream",
     "text": [
      "\n",
      "[info] epoch train loss: 0.6947987538163684\n",
      "Epoch 19\n"
     ]
    },
    {
     "data": {
      "application/vnd.jupyter.widget-view+json": {
       "model_id": "0360a7dfce5f47638b091ae587f7b0dd",
       "version_major": 2,
       "version_minor": 0
      },
      "text/plain": [
       "HBox(children=(IntProgress(value=0, max=140), HTML(value='')))"
      ]
     },
     "metadata": {},
     "output_type": "display_data"
    },
    {
     "name": "stdout",
     "output_type": "stream",
     "text": [
      "\n",
      "[info] epoch train loss: 0.7663106510083058\n",
      "Epoch 20\n"
     ]
    },
    {
     "data": {
      "application/vnd.jupyter.widget-view+json": {
       "model_id": "ed13641283954dc78537872591442a2c",
       "version_major": 2,
       "version_minor": 0
      },
      "text/plain": [
       "HBox(children=(IntProgress(value=0, max=140), HTML(value='')))"
      ]
     },
     "metadata": {},
     "output_type": "display_data"
    },
    {
     "name": "stdout",
     "output_type": "stream",
     "text": [
      "\n",
      "[info] epoch train loss: 0.5952939310200496\n",
      "Epoch 21\n"
     ]
    },
    {
     "data": {
      "application/vnd.jupyter.widget-view+json": {
       "model_id": "0792b09100ed497dbd130910f632ddc8",
       "version_major": 2,
       "version_minor": 0
      },
      "text/plain": [
       "HBox(children=(IntProgress(value=0, max=140), HTML(value='')))"
      ]
     },
     "metadata": {},
     "output_type": "display_data"
    },
    {
     "name": "stdout",
     "output_type": "stream",
     "text": [
      "\n",
      "[info] epoch train loss: 0.807897162962971\n",
      "Epoch 22\n"
     ]
    },
    {
     "data": {
      "application/vnd.jupyter.widget-view+json": {
       "model_id": "013a9bcab94c43ae92f20f09497f1283",
       "version_major": 2,
       "version_minor": 0
      },
      "text/plain": [
       "HBox(children=(IntProgress(value=0, max=140), HTML(value='')))"
      ]
     },
     "metadata": {},
     "output_type": "display_data"
    },
    {
     "name": "stdout",
     "output_type": "stream",
     "text": [
      "lay egg to ./Nest ... save as ./Nest/NewbornBird\n",
      "origin:\n",
      "['[CLS]', 'radcliffe', 'eyes', 'hard', 'line', 'on', 'drugs', 'paula', 'radcliffe', 'has', 'called', 'for', 'all', 'athletes', 'found', 'guilty', 'on', 'drugs', 'charges', 'to', 'be', 'treated', 'as', 'criminals', '.', 'the', 'marathon', 'world', 'record', 'holder', 'believes', 'more', 'needs', 'to', 'be', 'done', 'to', 'rid', 'athletics', 'of', 'the', 'suspicions', 'and', 'inn', '##uen', '##do', '##es', 'which', 'greet', 'any', 'fast', 'time', '.', 'doping', 'in', 'sport', 'is', 'a', 'criminal', 'offence', 'and', 'should', 'be', 'treated', 'as', 'such', 'the', '30', '-', 'year', '-', 'old', 'told', 'the', 'sunday', 'times', '.', 'it', 'not', 'only', 'cheat', '##s', 'other', 'athletes', 'but', 'also', 'cheat', '##s', 'promoters', 'sponsors', 'and', 'the', 'general', 'public', '.', 'radcliffe', 's', 'comments', 'come', 'at', 'a', 'time', 'when', 'several', 'american', 'sports', 'stars', 'are', 'under', 'suspicion', 'of', 'ste', '##roid', 'use', '.', 'being', 'caught', 'in', 'possession', 'of', 'a', 'performance', '-', 'enhancing', 'drugs', 'should', 'carry', 'a', 'penalty', 'she', 'added', '.', 'the', 'current', 'system', 'does', 'not', 'detect', 'many', 'of', 'the', 'substances', 'being', 'abused', 'by', 'athletes', '.', 'this', 'means', 'that', 'often', 'athletes', 'do', 'not', 'know', 'if', 'they', 'are', 'competing', 'on', 'a', 'level', 'playing', 'field', 'if', 'their', 'hard', 'work', 'and', 'sacrifice', 'is', 'being', 'trump', '##ed', 'by', 'an', 'easier', 'scientific', 'route', '.', 'often', 'when', 'an', 'athlete', 'puts', 'in', 'a', 'good', 'performance', 'they', 'are', 'subjected', 'to', 'suspicions', 'and', 'inn', '##uen', '##do', '##es', 'instead', 'of', 'praise', '.', 'having', 'been', 'on', 'the', 'receiving', 'end', 'of', 'accusations', 'like', 'this', 'i', 'can', 'testify', 'as', 'to', 'how', 'much', 'this', 'hurts', '.', '[SEP]', '[PAD]', '[PAD]', '[PAD]', '[PAD]', '[PAD]', '[PAD]', '[PAD]', '[PAD]', '[PAD]', '[PAD]', '[PAD]', '[PAD]', '[PAD]', '[PAD]', '[PAD]', '[PAD]', '[PAD]', '[PAD]', '[PAD]', '[PAD]', '[PAD]', '[PAD]', '[PAD]', '[PAD]', '[PAD]', '[PAD]', '[PAD]', '[PAD]', '[PAD]', '[PAD]', '[PAD]', '[PAD]', '[PAD]', '[PAD]', '[PAD]', '[PAD]', '[PAD]', '[PAD]', '[PAD]', '[PAD]', '[PAD]', '[PAD]', '[PAD]', '[PAD]', '[PAD]', '[PAD]', '[PAD]', '[PAD]', '[PAD]', '[PAD]', '[PAD]', '[PAD]', '[PAD]', '[PAD]', '[PAD]', '[PAD]', '[PAD]', '[PAD]', '[PAD]', '[PAD]', '[PAD]', '[PAD]', '[PAD]', '[PAD]', '[PAD]', '[PAD]', '[PAD]', '[PAD]', '[PAD]', '[PAD]', '[PAD]', '[PAD]', '[PAD]', '[PAD]', '[PAD]', '[PAD]', '[PAD]', '[PAD]', '[PAD]', '[PAD]', '[PAD]', '[PAD]', '[PAD]', '[PAD]', '[PAD]', '[PAD]', '[PAD]', '[PAD]', '[PAD]', '[PAD]', '[PAD]', '[PAD]', '[PAD]', '[PAD]', '[PAD]', '[PAD]', '[PAD]', '[PAD]', '[PAD]', '[PAD]', '[PAD]', '[PAD]', '[PAD]', '[PAD]', '[PAD]', '[PAD]', '[PAD]', '[PAD]', '[PAD]', '[PAD]', '[PAD]', '[PAD]', '[PAD]', '[PAD]', '[PAD]', '[PAD]', '[PAD]', '[PAD]', '[PAD]', '[PAD]', '[PAD]', '[PAD]', '[PAD]', '[PAD]', '[PAD]', '[PAD]', '[PAD]', '[PAD]', '[PAD]', '[PAD]', '[PAD]', '[PAD]', '[PAD]', '[PAD]', '[PAD]', '[PAD]', '[PAD]', '[PAD]', '[PAD]', '[PAD]', '[PAD]', '[PAD]', '[PAD]', '[PAD]', '[PAD]', '[PAD]', '[PAD]', '[PAD]', '[PAD]', '[PAD]', '[PAD]', '[PAD]', '[PAD]', '[PAD]', '[PAD]', '[PAD]', '[PAD]', '[PAD]', '[PAD]', '[PAD]', '[PAD]', '[PAD]', '[PAD]', '[PAD]', '[PAD]', '[PAD]', '[PAD]', '[PAD]', '[PAD]', '[PAD]', '[PAD]', '[PAD]', '[PAD]', '[PAD]', '[PAD]', '[PAD]']\n",
      "summary:\n",
      "['[CLS]', 'emmett', 'emmett', 'emmett', 'emmett', 'emmett', 'emmett', 'emmett', 'emmett', 'emmett', 'emmett', 'emmett', 'emmett', 'emmett', 'emmett', 'emmett', 'emmett', 'emmett', 'emmett', 'emmett']\n",
      "real summary:\n",
      "['[CLS]', 'radcliffe', 'eyes', 'hard', 'line', 'on', 'drugs', 'paula', 'radcliffe', 'has', 'called', 'for', 'all', 'athletes', 'found', 'guilty', 'on', 'drugs', 'charges']\n",
      "sentiment: 0\n",
      "y: 2\n",
      "\n",
      "\n",
      "[info] epoch train loss: 0.7617104257955881\n",
      "Epoch 23\n"
     ]
    },
    {
     "data": {
      "application/vnd.jupyter.widget-view+json": {
       "model_id": "470d5cff854e4028b07a19587a544d57",
       "version_major": 2,
       "version_minor": 0
      },
      "text/plain": [
       "HBox(children=(IntProgress(value=0, max=140), HTML(value='')))"
      ]
     },
     "metadata": {},
     "output_type": "display_data"
    },
    {
     "name": "stdout",
     "output_type": "stream",
     "text": [
      "\n",
      "[info] epoch train loss: 0.5606743120165057\n",
      "Epoch 24\n"
     ]
    },
    {
     "data": {
      "application/vnd.jupyter.widget-view+json": {
       "model_id": "80b5a55eb5a1464ea023c8a74903ca27",
       "version_major": 2,
       "version_minor": 0
      },
      "text/plain": [
       "HBox(children=(IntProgress(value=0, max=140), HTML(value='')))"
      ]
     },
     "metadata": {},
     "output_type": "display_data"
    },
    {
     "name": "stdout",
     "output_type": "stream",
     "text": [
      "\n",
      "[info] epoch train loss: 0.684172047906603\n",
      "Epoch 25\n"
     ]
    },
    {
     "data": {
      "application/vnd.jupyter.widget-view+json": {
       "model_id": "4a02459d6ccf45ae9c18dbd322ae0fb6",
       "version_major": 2,
       "version_minor": 0
      },
      "text/plain": [
       "HBox(children=(IntProgress(value=0, max=140), HTML(value='')))"
      ]
     },
     "metadata": {},
     "output_type": "display_data"
    },
    {
     "name": "stdout",
     "output_type": "stream",
     "text": [
      "\n",
      "[info] epoch train loss: 0.38467955098687007\n",
      "Epoch 26\n"
     ]
    },
    {
     "data": {
      "application/vnd.jupyter.widget-view+json": {
       "model_id": "bae4b53a540841dd9f44a333208c62af",
       "version_major": 2,
       "version_minor": 0
      },
      "text/plain": [
       "HBox(children=(IntProgress(value=0, max=140), HTML(value='')))"
      ]
     },
     "metadata": {},
     "output_type": "display_data"
    },
    {
     "name": "stdout",
     "output_type": "stream",
     "text": [
      "\n",
      "[info] epoch train loss: 0.29863179895681763\n",
      "Epoch 27\n"
     ]
    },
    {
     "data": {
      "application/vnd.jupyter.widget-view+json": {
       "model_id": "f7186987c4324c769dfa75853de81590",
       "version_major": 2,
       "version_minor": 0
      },
      "text/plain": [
       "HBox(children=(IntProgress(value=0, max=140), HTML(value='')))"
      ]
     },
     "metadata": {},
     "output_type": "display_data"
    },
    {
     "name": "stdout",
     "output_type": "stream",
     "text": [
      "\n",
      "[info] epoch train loss: 0.4237308389806588\n",
      "Epoch 28\n"
     ]
    },
    {
     "data": {
      "application/vnd.jupyter.widget-view+json": {
       "model_id": "c944d1d3518c4d68b51b58818d65317c",
       "version_major": 2,
       "version_minor": 0
      },
      "text/plain": [
       "HBox(children=(IntProgress(value=0, max=140), HTML(value='')))"
      ]
     },
     "metadata": {},
     "output_type": "display_data"
    },
    {
     "name": "stdout",
     "output_type": "stream",
     "text": [
      "\n",
      "[info] epoch train loss: 0.387594613103842\n",
      "Epoch 29\n"
     ]
    },
    {
     "data": {
      "application/vnd.jupyter.widget-view+json": {
       "model_id": "61982e54863a477997919a507085a316",
       "version_major": 2,
       "version_minor": 0
      },
      "text/plain": [
       "HBox(children=(IntProgress(value=0, max=140), HTML(value='')))"
      ]
     },
     "metadata": {},
     "output_type": "display_data"
    },
    {
     "name": "stdout",
     "output_type": "stream",
     "text": [
      "lay egg to ./Nest ... save as ./Nest/NewbornBird\n",
      "origin:\n",
      "['[CLS]', 'aviator', 'wins', 'top', 'globe', '##s', 'accolades', 'the', 'aviator', 'has', 'been', 'named', 'best', 'film', 'at', 'the', 'golden', 'globe', 'awards', 'with', 'its', 'star', 'leonardo', 'di', '##cap', '##rio', 'named', 'best', 'actor', '.', 'hollywood', 'veteran', 'clint', 'eastwood', 'took', 'the', 'best', 'director', 'prize', 'for', 'million', 'dollar', 'baby', 'while', 'its', 'star', 'hilary', 'swan', '##k', 'was', 'best', 'actress', '.', 'qui', '##rky', 'comedy', 'sideways', 'was', 'named', 'best', 'screenplay', 'and', 'best', 'comedy', '.', 'ray', 'star', 'jamie', 'fox', '##x', 'was', 'best', 'actor', 'in', 'a', 'musical', '/', 'comedy', 'while', 'brit', '##on', 'clive', 'owen', 'and', 'natalie', 'port', '##man', 'won', 'prizes', 'for', 'best', 'supporting', 'roles', 'in', 'closer', '.', 'the', 'aviator', 'in', 'which', 'di', '##cap', '##rio', 'plays', 'millionaire', 'howard', 'hughes', 'edged', 'ahead', 'of', 'its', 'rivals', 'at', 'the', 'beverly', 'hills', 'ceremony', 'by', 'winning', 'the', 'best', 'original', 'score', 'prize', '.', 'this', 'give', 'it', 'a', 'total', 'of', 'three', 'awards', 'while', 'million', 'dollar', 'baby', 'sideways', 'and', 'closer', 'took', 'two', 'golden', 'globe', '##s', 'each', '.', 'accepting', 'his', 'best', 'dramatic', 'actor', 'prize', 'di', '##cap', '##rio', 'described', 'director', 'martin', 'sc', '##ors', '##ese', 'as', 'one', 'of', 'the', 'greatest', 'contributors', 'to', 'the', 'world', 'of', 'cinema', 'of', 'all', 'time', '.', 'annette', 'benin', '##g', 'won', 'best', 'actress', 'in', 'a', 'musical', '/', 'comedy', 'for', 'being', 'julia', 'while', 'spanish', 'movie', 'the', 'sea', 'inside', 'was', 'named', 'best', 'foreign', 'language', 'film', '.', 'swan', '##k', 'who', 'previously', 'won', 'the', 'golden', 'globe', 'and', 'oscar', 'for', 'boys', 'don', 't', 'cry', 'paid', 'tribute', 'to', 'million', 'dollar', 'baby', 'director', 'and', 'co', '-', 'star', 'clint', 'eastwood', '.', 'you', 'guided', 'us', 'so', 'brilliant', '##ly', 'while', 'you', 'also', 'in', 'my', 'humble', 'opinion', 'gave', 'the', 'performance', 'of', 'your', 'career', 'she', 'said', '.', 'fox', '##x', 'was', 'nominated', 'for', 'three', 'awards', 'but', 'was', 'beaten', 'to', 'the', 'best', 'supporting', 'actor', 'title', 'by', 'owen', 'and', 'the', 'best', 'actor', 'in', 'a', 'tv', 'movie', 'prize', 'by', 'geoffrey', 'rush', 'in', 'the', 'life', 'and', 'death', 'of', 'peter', 'sellers', '.', 'a', 'bbc', 'co', '-', 'production', 'the', 'life', 'and', 'death', 'of', 'peter', 'sellers', 'was', 'also', 'named', 'best', 'tv', 'movie', '.', 'mick', 'jagger', 'and', 'dave', 'stewart', 'won', 'the', 'best', 'original', 'song', 'award', 'for', 'old', 'habits', 'die', 'hard', 'from', 'movie', 're', '-', 'make', 'alf', '##ie', 'while', 'ian', 'mc', '##shan', '##e', 'was', 'named', 'best', 'actor', 'in', 'a', 'tv', 'drama', 'for', 'his', 'lead', 'role', 'in', 'dead', '##wood', '.', 'other', 'uk', 'hopes', 'kate', 'wins', '##let', 'and', 'im', '##eld', '##a', 'st', '##au', '##nton', 'went', 'home', 'empty', '-', 'handed', 'despite', 'lead', 'actress', 'nominations', 'for', 'eternal', 'sunshine', 'of', 'the', 'spot', '##less', 'mind', 'and', 'vera', 'drake', 'respectively', '.', 'winning', 'a', 'golden', 'globe', 'is', 'said', 'to', 'improve']\n",
      "summary:\n",
      "['[CLS]', 'buzzing', 'buzzing', 'buzzing', 'buzzing', 'buzzing', 'buzzing', 'buzzing', 'buzzing', 'buzzing', 'buzzing', 'buzzing', 'buzzing', 'buzzing', 'buzzing', 'buzzing', 'buzzing', 'buzzing', 'buzzing', 'buzzing']\n",
      "real summary:\n",
      "['[CLS]', 'aviator', 'wins', 'top', 'globe', '##s', 'accolades', 'the', 'aviator', 'has', 'been', 'named', 'best', 'film', 'at', 'the', 'golden', 'globe', 'awards']\n",
      "sentiment: 0\n",
      "y: 3\n",
      "\n",
      "\n",
      "[info] epoch train loss: 0.37658459924290844\n",
      "Epoch 30\n"
     ]
    },
    {
     "data": {
      "application/vnd.jupyter.widget-view+json": {
       "model_id": "1db4395d031f42dea3bab16865860920",
       "version_major": 2,
       "version_minor": 0
      },
      "text/plain": [
       "HBox(children=(IntProgress(value=0, max=140), HTML(value='')))"
      ]
     },
     "metadata": {},
     "output_type": "display_data"
    },
    {
     "name": "stdout",
     "output_type": "stream",
     "text": [
      "\n",
      "[info] epoch train loss: 0.48924458612217936\n",
      "Epoch 31\n"
     ]
    },
    {
     "data": {
      "application/vnd.jupyter.widget-view+json": {
       "model_id": "465112a6482a4a92a9b290b1052326ec",
       "version_major": 2,
       "version_minor": 0
      },
      "text/plain": [
       "HBox(children=(IntProgress(value=0, max=140), HTML(value='')))"
      ]
     },
     "metadata": {},
     "output_type": "display_data"
    },
    {
     "name": "stdout",
     "output_type": "stream",
     "text": [
      "\n",
      "[info] epoch train loss: 0.41866667142788044\n",
      "Epoch 32\n"
     ]
    },
    {
     "data": {
      "application/vnd.jupyter.widget-view+json": {
       "model_id": "f2b82b8b48ea43d28659603a23ccc147",
       "version_major": 2,
       "version_minor": 0
      },
      "text/plain": [
       "HBox(children=(IntProgress(value=0, max=140), HTML(value='')))"
      ]
     },
     "metadata": {},
     "output_type": "display_data"
    },
    {
     "name": "stdout",
     "output_type": "stream",
     "text": [
      "\n",
      "[info] epoch train loss: 0.5342530919995625\n",
      "Epoch 33\n"
     ]
    },
    {
     "data": {
      "application/vnd.jupyter.widget-view+json": {
       "model_id": "63ce251f0a304c4d8a06763740e88484",
       "version_major": 2,
       "version_minor": 0
      },
      "text/plain": [
       "HBox(children=(IntProgress(value=0, max=140), HTML(value='')))"
      ]
     },
     "metadata": {},
     "output_type": "display_data"
    },
    {
     "name": "stdout",
     "output_type": "stream",
     "text": [
      "\n",
      "[info] epoch train loss: 0.6013748055955928\n",
      "Epoch 34\n"
     ]
    },
    {
     "data": {
      "application/vnd.jupyter.widget-view+json": {
       "model_id": "50882363ccee4e02b22a91dc5f5a21df",
       "version_major": 2,
       "version_minor": 0
      },
      "text/plain": [
       "HBox(children=(IntProgress(value=0, max=140), HTML(value='')))"
      ]
     },
     "metadata": {},
     "output_type": "display_data"
    },
    {
     "name": "stdout",
     "output_type": "stream",
     "text": [
      "\n",
      "[info] epoch train loss: 0.5553597445100812\n",
      "Epoch 35\n"
     ]
    },
    {
     "data": {
      "application/vnd.jupyter.widget-view+json": {
       "model_id": "cf780a8ea4cb4c0db31b57a6fd1a62e9",
       "version_major": 2,
       "version_minor": 0
      },
      "text/plain": [
       "HBox(children=(IntProgress(value=0, max=140), HTML(value='')))"
      ]
     },
     "metadata": {},
     "output_type": "display_data"
    },
    {
     "name": "stdout",
     "output_type": "stream",
     "text": [
      "\n",
      "[info] epoch train loss: 0.5163336638760354\n",
      "Epoch 36\n"
     ]
    },
    {
     "data": {
      "application/vnd.jupyter.widget-view+json": {
       "model_id": "c01bf129fa8646c18be7055d04c31716",
       "version_major": 2,
       "version_minor": 0
      },
      "text/plain": [
       "HBox(children=(IntProgress(value=0, max=140), HTML(value='')))"
      ]
     },
     "metadata": {},
     "output_type": "display_data"
    },
    {
     "name": "stdout",
     "output_type": "stream",
     "text": [
      "lay egg to ./Nest ... save as ./Nest/NewbornBird\n",
      "origin:\n",
      "['[CLS]', 'south', 'africa', 'sweep', 'top', 'awards', 'south', 'africa', 's', 'sc', '##hal', '##k', 'burger', 'was', 'named', 'player', 'of', 'the', 'year', 'as', 'the', 'tri', '-', 'nations', 'champions', 'swept', 'the', 'top', 'honours', 'at', 'the', 'international', 'rugby', 'board', 's', 'awards', '.', 'the', 'flank', '##er', 'topped', 'a', 'list', 'which', 'included', 'ireland', 'star', 'gordon', 'd', 'arc', '##y', 'and', 'australian', 'sensation', 'matt', 'gi', '##tea', '##u', '.', 'jake', 'white', 'claimed', 'the', 'coaching', 'award', 'while', 'his', 'side', 'held', 'off', 'grand', 'slam', 'winners', 'france', 'to', 'take', 'the', 'team', 'award', '.', 'england', 'player', 'simon', 'amor', 'beat', 'team', '-', 'mate', 'ben', 'go', '##lling', '##s', 'and', 'argentine', 'luc', '##io', 'lopez', 'fleming', 'to', 'win', 'the', 'sevens', 'award', '.', 'burger', 's', 'award', 'came', 'just', 'a', 'week', 'after', 'he', 'won', 'the', 'equivalent', 'prize', 'from', 'his', 'fellow', 'international', 'players', 'and', 'white', 'who', 'also', 'coached', 'burger', 'at', 'under', '-', '21', 'level', 'paid', 'tribute', 'to', 'him', '.', 'sc', '##hal', '##k', 's', 'emergence', 'as', 'a', 'major', 'force', 'has', 'meant', 'a', 'lot', 'to', 'south', 'african', 'rugby', 'but', 'has', 'also', 'influenced', 'world', 'rugby', 'said', 'white', '.', 'he', 's', 'become', 'to', 'south', 'african', 'rugby', 'what', 'jon', '##ty', 'rhodes', 'was', 'to', 'south', 'african', 'cricket', '.', 'it', 's', 'amazing', 'what', 'he', 'has', 'achieved', 'in', 'such', 'a', 'short', 'time', 'so', 'far', 'in', 'his', 'international', 'career', '.', 'amor', 'who', 'will', 'captain', 'england', 'in', 'this', 'season', 's', 'opening', 'ir', '##b', 'sevens', 'tournament', 'the', 'dubai', 'sevens', 'which', 'start', 'on', 'thursday', 'was', 'delighted', 'with', 'his', 'award', '.', 'there', 'are', 'so', 'many', 'great', 'sevens', 'players', 'on', 'the', 'circuit', 'at', 'the', 'moment', 'that', 'this', 'is', 'a', 'genuine', 'honour', 'said', 'the', 'gloucester', 'fly', '-', 'half', '.', '[SEP]', '[PAD]', '[PAD]', '[PAD]', '[PAD]', '[PAD]', '[PAD]', '[PAD]', '[PAD]', '[PAD]', '[PAD]', '[PAD]', '[PAD]', '[PAD]', '[PAD]', '[PAD]', '[PAD]', '[PAD]', '[PAD]', '[PAD]', '[PAD]', '[PAD]', '[PAD]', '[PAD]', '[PAD]', '[PAD]', '[PAD]', '[PAD]', '[PAD]', '[PAD]', '[PAD]', '[PAD]', '[PAD]', '[PAD]', '[PAD]', '[PAD]', '[PAD]', '[PAD]', '[PAD]', '[PAD]', '[PAD]', '[PAD]', '[PAD]', '[PAD]', '[PAD]', '[PAD]', '[PAD]', '[PAD]', '[PAD]', '[PAD]', '[PAD]', '[PAD]', '[PAD]', '[PAD]', '[PAD]', '[PAD]', '[PAD]', '[PAD]', '[PAD]', '[PAD]', '[PAD]', '[PAD]', '[PAD]', '[PAD]', '[PAD]', '[PAD]', '[PAD]', '[PAD]', '[PAD]', '[PAD]', '[PAD]', '[PAD]', '[PAD]', '[PAD]', '[PAD]', '[PAD]', '[PAD]', '[PAD]', '[PAD]', '[PAD]', '[PAD]', '[PAD]', '[PAD]', '[PAD]', '[PAD]', '[PAD]', '[PAD]', '[PAD]', '[PAD]', '[PAD]', '[PAD]', '[PAD]', '[PAD]', '[PAD]', '[PAD]', '[PAD]', '[PAD]', '[PAD]', '[PAD]', '[PAD]', '[PAD]', '[PAD]', '[PAD]', '[PAD]', '[PAD]', '[PAD]', '[PAD]', '[PAD]', '[PAD]', '[PAD]', '[PAD]', '[PAD]', '[PAD]', '[PAD]', '[PAD]', '[PAD]', '[PAD]', '[PAD]', '[PAD]', '[PAD]', '[PAD]', '[PAD]', '[PAD]', '[PAD]', '[PAD]', '[PAD]', '[PAD]', '[PAD]', '[PAD]', '[PAD]', '[PAD]', '[PAD]', '[PAD]', '[PAD]', '[PAD]', '[PAD]', '[PAD]', '[PAD]', '[PAD]', '[PAD]', '[PAD]', '[PAD]', '[PAD]', '[PAD]', '[PAD]', '[PAD]', '[PAD]']\n",
      "summary:\n",
      "['[CLS]', 'buzzing', 'buzzing', 'buzzing', 'buzzing', 'buzzing', 'buzzing', 'buzzing', 'buzzing', 'buzzing', 'buzzing', 'buzzing', 'buzzing', 'buzzing', 'buzzing', 'buzzing', 'buzzing', 'buzzing', 'buzzing', 'buzzing']\n",
      "real summary:\n",
      "['[CLS]', 'south', 'africa', 'sweep', 'top', 'awards', 'south', 'africa', 's', 'sc', '##hal', '##k', 'burger', 'was', 'named', 'player', 'of', 'the', 'year']\n",
      "sentiment: 0\n",
      "y: 2\n",
      "\n",
      "\n",
      "[info] epoch train loss: 0.7137898380369214\n",
      "Epoch 37\n"
     ]
    },
    {
     "data": {
      "application/vnd.jupyter.widget-view+json": {
       "model_id": "d187fe797b1b41a1987fd2b985a727b5",
       "version_major": 2,
       "version_minor": 0
      },
      "text/plain": [
       "HBox(children=(IntProgress(value=0, max=140), HTML(value='')))"
      ]
     },
     "metadata": {},
     "output_type": "display_data"
    },
    {
     "name": "stdout",
     "output_type": "stream",
     "text": [
      "\n",
      "[info] epoch train loss: 0.7395722578470928\n",
      "Epoch 38\n"
     ]
    },
    {
     "data": {
      "application/vnd.jupyter.widget-view+json": {
       "model_id": "da2ca697c690458fb90942a634c5d9ec",
       "version_major": 2,
       "version_minor": 0
      },
      "text/plain": [
       "HBox(children=(IntProgress(value=0, max=140), HTML(value='')))"
      ]
     },
     "metadata": {},
     "output_type": "display_data"
    },
    {
     "name": "stdout",
     "output_type": "stream",
     "text": [
      "\n",
      "[info] epoch train loss: 0.6411216468749834\n",
      "Epoch 39\n"
     ]
    },
    {
     "data": {
      "application/vnd.jupyter.widget-view+json": {
       "model_id": "204810f1b0e1489fb0e3a4d77f21191a",
       "version_major": 2,
       "version_minor": 0
      },
      "text/plain": [
       "HBox(children=(IntProgress(value=0, max=140), HTML(value='')))"
      ]
     },
     "metadata": {},
     "output_type": "display_data"
    },
    {
     "name": "stdout",
     "output_type": "stream",
     "text": [
      "\n",
      "[info] epoch train loss: 0.49394358060588794\n",
      "Epoch 40\n"
     ]
    },
    {
     "data": {
      "application/vnd.jupyter.widget-view+json": {
       "model_id": "30efcbd6bec54be98c869f9caf73cdee",
       "version_major": 2,
       "version_minor": 0
      },
      "text/plain": [
       "HBox(children=(IntProgress(value=0, max=140), HTML(value='')))"
      ]
     },
     "metadata": {},
     "output_type": "display_data"
    },
    {
     "name": "stdout",
     "output_type": "stream",
     "text": [
      "\n",
      "[info] epoch train loss: 0.5180931232175291\n",
      "Epoch 41\n"
     ]
    },
    {
     "data": {
      "application/vnd.jupyter.widget-view+json": {
       "model_id": "87eb3453f9fd44a686dd239cdeb261e9",
       "version_major": 2,
       "version_minor": 0
      },
      "text/plain": [
       "HBox(children=(IntProgress(value=0, max=140), HTML(value='')))"
      ]
     },
     "metadata": {},
     "output_type": "display_data"
    },
    {
     "name": "stdout",
     "output_type": "stream",
     "text": [
      "\n",
      "[info] epoch train loss: 0.6427383688710896\n",
      "Epoch 42\n"
     ]
    },
    {
     "data": {
      "application/vnd.jupyter.widget-view+json": {
       "model_id": "872e316d3edb4c2eabb6e95690cb12cd",
       "version_major": 2,
       "version_minor": 0
      },
      "text/plain": [
       "HBox(children=(IntProgress(value=0, max=140), HTML(value='')))"
      ]
     },
     "metadata": {},
     "output_type": "display_data"
    },
    {
     "name": "stdout",
     "output_type": "stream",
     "text": [
      "\n",
      "[info] epoch train loss: 0.6935137434430154\n",
      "Epoch 43\n"
     ]
    },
    {
     "data": {
      "application/vnd.jupyter.widget-view+json": {
       "model_id": "bbe405a712484f32b264fcb9cf09efae",
       "version_major": 2,
       "version_minor": 0
      },
      "text/plain": [
       "HBox(children=(IntProgress(value=0, max=140), HTML(value='')))"
      ]
     },
     "metadata": {},
     "output_type": "display_data"
    },
    {
     "name": "stdout",
     "output_type": "stream",
     "text": [
      "lay egg to ./Nest ... save as ./Nest/NewbornBird\n",
      "origin:\n",
      "['[CLS]', 'wine', 'comedy', 'up', 'for', 'six', 'film', 'gong', '##s', 'sideways', 'a', 'wine', '-', 'tasting', 'comedy', 'starring', 'paul', 'gia', '##mat', '##ti', 'is', 'up', 'for', 'six', 'independent', 'spirit', 'awards', 'the', 'art', '-', 'house', 'version', 'of', 'the', 'oscar', '##s', '.', 'the', 'awards', 'are', 'held', 'on', '26', 'february', 'the', 'day', 'before', 'the', 'oscar', '##s', '.', 'spanish', 'drama', 'maria', 'full', 'of', 'grace', 'about', 'a', 'colombian', 'woman', 'who', 'becomes', 'a', 'drug', 'courier', 'got', 'five', 'nominations', '.', 'controversial', 'bio', '##pic', 'kin', '##sey', 'starring', 'liam', 'nee', '##son', 'as', 'sex', 'researcher', 'alfred', 'kin', '##sey', 'was', 'one', 'of', 'four', 'films', 'to', 'get', 'four', 'nominations', '.', 'the', 'awards', 'now', 'in', 'their', '20th', 'year', 'honour', 'qui', '##rky', 'low', '-', 'budget', 'films', 'all', 'of', 'which', 'must', 'have', 'a', 'degree', 'of', 'independent', 'financing', '.', 'sideways', 'is', 'written', 'and', 'directed', 'by', 'alexander', 'payne', 'who', 'directed', 'the', '2002', 'hit', 'about', 'schmidt', 'winning', 'jack', 'nicholson', 'his', '12th', 'academy', 'award', 'nomination', '.', 'these', 'awards', 'for', 'better', 'or', 'worse', 'mean', 'everything', 'said', 'sideways', 'producer', 'michael', 'london', 'adding', 'they', 'were', 'a', 'huge', 'first', 'step', 'toward', 'getting', 'recognition', 'from', 'other', 'awards', '.', 'among', 'the', 'other', 'films', 'receiving', 'four', 'nominations', 'api', '##ece', 'were', 'brother', 'to', 'brother', 'a', 'drama', 'about', 'a', 'young', 'gay', 'black', 'man', 'forced', 'to', 'live', 'on', 'the', 'streets', 'robb', '##ing', 'peter', 'and', 'prime', '##r', '.', 'prime', '##r', 'a', '$', '7', '000', '(', '£3', '650', ')', 'tale', 'of', 'discovery', 'won', 'top', 'prize', 'at', 'the', 'sundance', 'film', 'festival', 'earlier', 'this', 'year', '.', 'walter', 'salle', '##s', 'critically', 'acclaimed', 'the', 'motorcycle', 'diaries', 'and', 'the', 'forthcoming', 'thriller', 'the', 'woods', '##man', 'starring', 'kevin', 'bacon', 'received', 'three', 'nominations', 'each', '.', 'also', 'in', 'the', 'running', 'with', 'two', 'nominations', 'are', 'high', 'school', 'comedy', 'napoleon', 'dynamite', 'the', 'door', 'in', 'the', 'floor', 'and', 'garden', 'state', '-', 'written', 'directed', 'and', 'starring', 'scrub', '##s', 'star', 'zach', 'bra', '##ff', 'alongside', 'natalie', 'port', '##man', '.', 'the', 'awards', 'were', 'announced', 'by', 'actors', 'selma', 'blair', 'and', 'dennis', 'qu', '##aid', 'in', 'los', 'angeles', 'on', 'tuesday', '.', '[SEP]', '[PAD]', '[PAD]', '[PAD]', '[PAD]', '[PAD]', '[PAD]', '[PAD]', '[PAD]', '[PAD]', '[PAD]', '[PAD]', '[PAD]', '[PAD]', '[PAD]', '[PAD]', '[PAD]', '[PAD]', '[PAD]', '[PAD]', '[PAD]', '[PAD]', '[PAD]', '[PAD]', '[PAD]', '[PAD]', '[PAD]', '[PAD]', '[PAD]', '[PAD]', '[PAD]', '[PAD]', '[PAD]', '[PAD]', '[PAD]', '[PAD]', '[PAD]', '[PAD]', '[PAD]', '[PAD]', '[PAD]', '[PAD]', '[PAD]', '[PAD]', '[PAD]', '[PAD]', '[PAD]', '[PAD]', '[PAD]', '[PAD]', '[PAD]', '[PAD]', '[PAD]', '[PAD]', '[PAD]', '[PAD]', '[PAD]', '[PAD]', '[PAD]', '[PAD]', '[PAD]', '[PAD]', '[PAD]', '[PAD]', '[PAD]', '[PAD]', '[PAD]', '[PAD]', '[PAD]', '[PAD]', '[PAD]', '[PAD]', '[PAD]', '[PAD]', '[PAD]', '[PAD]', '[PAD]', '[PAD]', '[PAD]', '[PAD]', '[PAD]', '[PAD]', '[PAD]', '[PAD]', '[PAD]', '[PAD]', '[PAD]', '[PAD]', '[PAD]', '[PAD]', '[PAD]', '[PAD]']\n",
      "summary:\n",
      "['[CLS]', 'buzzing', 'buzzing', 'buzzing', 'buzzing', 'buzzing', 'buzzing', 'buzzing', 'buzzing', 'buzzing', 'buzzing', 'buzzing', 'buzzing', 'buzzing', 'buzzing', 'buzzing', 'buzzing', 'buzzing', 'buzzing', 'buzzing']\n",
      "real summary:\n",
      "['[CLS]', 'wine', 'comedy', 'up', 'for', 'six', 'film', 'gong', '##s', 'sideways', 'a', 'wine', '-', 'tasting', 'comedy', 'starring', 'paul', 'gia', '##mat']\n",
      "sentiment: 1\n",
      "y: 3\n",
      "\n",
      "\n",
      "[info] epoch train loss: 0.6456946181100128\n",
      "Epoch 44\n"
     ]
    },
    {
     "data": {
      "application/vnd.jupyter.widget-view+json": {
       "model_id": "f30e635cb1e04a4780e2eaa038b1a0c6",
       "version_major": 2,
       "version_minor": 0
      },
      "text/plain": [
       "HBox(children=(IntProgress(value=0, max=140), HTML(value='')))"
      ]
     },
     "metadata": {},
     "output_type": "display_data"
    },
    {
     "name": "stdout",
     "output_type": "stream",
     "text": [
      "\n",
      "[info] epoch train loss: 0.5770496840501437\n",
      "Epoch 45\n"
     ]
    },
    {
     "data": {
      "application/vnd.jupyter.widget-view+json": {
       "model_id": "fd9545a8919f42d0a5dc13e68be199b8",
       "version_major": 2,
       "version_minor": 0
      },
      "text/plain": [
       "HBox(children=(IntProgress(value=0, max=140), HTML(value='')))"
      ]
     },
     "metadata": {},
     "output_type": "display_data"
    },
    {
     "name": "stdout",
     "output_type": "stream",
     "text": [
      "\n",
      "[info] epoch train loss: 0.547917638371499\n",
      "Epoch 46\n"
     ]
    },
    {
     "data": {
      "application/vnd.jupyter.widget-view+json": {
       "model_id": "12e77db983bd4952a5b493de90378713",
       "version_major": 2,
       "version_minor": 0
      },
      "text/plain": [
       "HBox(children=(IntProgress(value=0, max=140), HTML(value='')))"
      ]
     },
     "metadata": {},
     "output_type": "display_data"
    },
    {
     "name": "stdout",
     "output_type": "stream",
     "text": [
      "\n",
      "[info] epoch train loss: 0.5120374041310113\n",
      "Epoch 47\n"
     ]
    },
    {
     "data": {
      "application/vnd.jupyter.widget-view+json": {
       "model_id": "2be424d3452845199663dab6f073af81",
       "version_major": 2,
       "version_minor": 0
      },
      "text/plain": [
       "HBox(children=(IntProgress(value=0, max=140), HTML(value='')))"
      ]
     },
     "metadata": {},
     "output_type": "display_data"
    }
   ],
   "source": [
    "start = 1 if continue_from == None else (int(continue_from.split(\"Model\")[-1])+1)\n",
    "history = []\n",
    "for epoch in range(start, num_epochs+1):\n",
    "    print(\"Epoch\", epoch)\n",
    "    \n",
    "    # training\n",
    "    stats = Stats()\n",
    "    model.train()\n",
    "    trange = tqdm(enumerate(data_gen_train()), total=total_train)\n",
    "    for i, batch in trange:\n",
    "        loss, score  = model.run_iter(batch.src, batch.src_mask, SUMM_MAX, batch.trg, batch.label, D_iters=1)\n",
    "        trange.set_postfix(\n",
    "            **{'RL_sample_loss': '{:.3f}'.format(loss[0])},\n",
    "            **{'RL_argmax_loss': '{:.3f}'.format(loss[1])},\n",
    "            **{'G_loss': '{:.3f}'.format(loss[2])},\n",
    "            **{'D_loss': '{:.3f}'.format(loss[3])},\n",
    "            **{'real_score': '{:.3f}'.format(score[0])},\n",
    "            **{'fake_score': '{:.3f}'.format(score[1])},\n",
    "            **{'sample_acc': '{:.3f}'.format(score[2])},\n",
    "            **{'argmax_acc': '{:.3f}'.format(score[3])}\n",
    "        )\n",
    "        stats.update(sum(loss), 1, log=0)\n",
    "        \n",
    "    t_h = stats.history\n",
    "    history.append(t_h)\n",
    "    \n",
    "    print(\"[info] epoch train loss:\", np.mean(t_h))\n",
    "    \n",
    "#     try:\n",
    "#         torch.save({'model':model.state_dict(), 'training_history':t_h, 'validation_loss':np.mean(v_h)}, \n",
    "#                    \"trained/Model\"+str(epoch))\n",
    "#     except:\n",
    "#         continue"
   ]
  }
 ],
 "metadata": {
  "kernelspec": {
   "display_name": "Python 3",
   "language": "python",
   "name": "python3"
  },
  "language_info": {
   "codemirror_mode": {
    "name": "ipython",
    "version": 3
   },
   "file_extension": ".py",
   "mimetype": "text/x-python",
   "name": "python",
   "nbconvert_exporter": "python",
   "pygments_lexer": "ipython3",
   "version": "3.7.2"
  }
 },
 "nbformat": 4,
 "nbformat_minor": 2
}
