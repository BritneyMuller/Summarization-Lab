{
 "cells": [
  {
   "cell_type": "code",
   "execution_count": 1,
   "metadata": {},
   "outputs": [],
   "source": [
    "from transformer_nb2 import *\n",
    "from dataset import make_data_generator\n",
    "import json\n",
    "from tqdm import tqdm_notebook as tqdm\n",
    "#from torchsummary import summary"
   ]
  },
  {
   "cell_type": "code",
   "execution_count": 2,
   "metadata": {},
   "outputs": [],
   "source": [
    "folder = 'data/BBC/'\n",
    "data_name = folder+'data.json'\n",
    "# validation_name = folder+'valid_seq.json'\n",
    "# testdata_name = folder+'testdata_seq.json'\n",
    "vocab_name = folder+'vocab.json'"
   ]
  },
  {
   "cell_type": "code",
   "execution_count": 3,
   "metadata": {},
   "outputs": [],
   "source": [
    "num_epochs = 500\n",
    "save_rate = 1 #how many epochs per modelsave\n",
    "#continue_from = \"trained/Model1\" # if none, put None\n",
    "continue_from = None\n",
    "epsilon = 1e-8\n",
    "validation_size = 10000\n",
    "device = torch.device('cuda')\n",
    "!mkdir -p trained"
   ]
  },
  {
   "cell_type": "code",
   "execution_count": 4,
   "metadata": {},
   "outputs": [],
   "source": [
    "vocab = json.load(open(vocab_name, 'r'))\n",
    "VOC_SIZE = len(vocab)\n",
    "INPUT_MAX = 400\n",
    "SUMM_MAX = 20\n",
    "UNK = \"[UNK]\"\n",
    "BOS = \"[CLS]\"\n",
    "EOS = \"[SEP]\"\n",
    "PAD = \"[PAD]\""
   ]
  },
  {
   "cell_type": "code",
   "execution_count": 5,
   "metadata": {},
   "outputs": [
    {
     "name": "stdout",
     "output_type": "stream",
     "text": [
      "loading json\n",
      "load json done.\n"
     ]
    },
    {
     "data": {
      "application/vnd.jupyter.widget-view+json": {
       "model_id": "c5cb4c64f81947bcbab172927de82c1c",
       "version_major": 2,
       "version_minor": 0
      },
      "text/plain": [
       "HBox(children=(IntProgress(value=0, max=2225), HTML(value='')))"
      ]
     },
     "metadata": {},
     "output_type": "display_data"
    },
    {
     "name": "stdout",
     "output_type": "stream",
     "text": [
      "\n"
     ]
    }
   ],
   "source": [
    "batch_size = 16\n",
    "\n",
    "training_set, training_generator = make_data_generator(\\\n",
    "data_name, INPUT_MAX, SUMM_MAX, vocab[PAD], batch_size, cutoff=None, shuffle=True, num_workers=4)\n",
    "\n",
    "# validation_set, validation_generator = make_data_generator(\\\n",
    "# validation_name, INPUT_MAX, OUTPUT_MAX, vocab[PAD], batch_size, cutoff=validation_size, shuffle=False, num_workers=4)\n",
    "\n",
    "def data_gen_train():\n",
    "    for src, label, tgt in training_generator:\n",
    "        src = src.to(device)\n",
    "        label = (label).long().to(device)\n",
    "        tgt = tgt.to(device)\n",
    "        b = Batch(src, tgt, vocab[PAD])\n",
    "        b.label = label\n",
    "        yield b"
   ]
  },
  {
   "cell_type": "code",
   "execution_count": 6,
   "metadata": {},
   "outputs": [],
   "source": [
    "import math\n",
    "total_train = int(math.ceil(training_set.size / batch_size))\n",
    "# total_valid = int(math.ceil(validation_set.size / batch_size))\n",
    "# print(total_train, total_valid)"
   ]
  },
  {
   "cell_type": "code",
   "execution_count": 7,
   "metadata": {},
   "outputs": [],
   "source": [
    "def make_translator(src_vocab, tgt_vocab, N=6, \n",
    "               d_model=512, d_ff=2048, h=8, dropout=0.1, emb_share=False):\n",
    "    \"Helper: Construct a model from hyperparameters.\"\n",
    "    c = copy.deepcopy\n",
    "    attn = MultiHeadedAttention(h, d_model)\n",
    "    ff = PositionwiseFeedForward(d_model, d_ff, dropout)\n",
    "    position = PositionalEncoding(d_model, dropout)\n",
    "    \n",
    "    src_emb = nn.Sequential(Embeddings(d_model, src_vocab), c(position))\n",
    "    tgt_emb = src_emb if emb_share else nn.Sequential(Embeddings(d_model, tgt_vocab), c(position))\n",
    "    \n",
    "    model = Translator(\n",
    "        Encoder(EncoderLayer(d_model, c(attn), c(ff), dropout), N),\n",
    "        Decoder(DecoderLayer(d_model, c(attn), c(attn), \n",
    "                             c(ff), dropout), N),\n",
    "        src_emb,\n",
    "        tgt_emb,\n",
    "        Generator(d_model, tgt_vocab))\n",
    "    \n",
    "    return model"
   ]
  },
  {
   "cell_type": "code",
   "execution_count": null,
   "metadata": {},
   "outputs": [],
   "source": [
    "def make_classifier(src_vocab, N=6, \n",
    "               d_model=512, d_ff=2048, h=8, dropout=0.1):\n",
    "    \"Helper: Construct a model from hyperparameters.\"\n",
    "    c = copy.deepcopy\n",
    "    attn = MultiHeadedAttention(h, d_model)\n",
    "    ff = PositionwiseFeedForward(d_model, d_ff, dropout)\n",
    "    position = PositionalEncoding(d_model, dropout)\n",
    "    \n",
    "    bert = BERT(\n",
    "        Encoder(EncoderLayer(d_model, c(attn), c(ff), dropout), N),\n",
    "        nn.Sequential(Embeddings(d_model, src_vocab), c(position)),\n",
    "        vocab[PAD]\n",
    "    )\n",
    "    \n",
    "    model = Classifier(\n",
    "        bert\n",
    "        # criterion = CE\n",
    "    )\n",
    "\n",
    "    return model"
   ]
  },
  {
   "cell_type": "code",
   "execution_count": null,
   "metadata": {},
   "outputs": [],
   "source": [
    "def make_discriminator(src_vocab, N=6, \n",
    "               d_model=512, d_ff=2048, h=8, dropout=0.1):\n",
    "    \"Helper: Construct a model from hyperparameters.\"\n",
    "    c = copy.deepcopy\n",
    "    attn = MultiHeadedAttention(h, d_model)\n",
    "    ff = PositionwiseFeedForward(d_model, d_ff, dropout)\n",
    "    position = PositionalEncoding(d_model, dropout)\n",
    "    \n",
    "    bert = BERT(\n",
    "        Encoder(EncoderLayer(d_model, c(attn), c(ff), dropout), N),\n",
    "        nn.Sequential(Embeddings(d_model, src_vocab), c(position)),\n",
    "        vocab[PAD]\n",
    "    )\n",
    "    \n",
    "    model = Discriminator(\n",
    "        bert\n",
    "    )\n",
    "    \n",
    "    return model"
   ]
  },
  {
   "cell_type": "code",
   "execution_count": null,
   "metadata": {},
   "outputs": [],
   "source": [
    "def init_param(model):\n",
    "    for p in model.parameters():\n",
    "        if p.dim() > 1:\n",
    "            nn.init.xavier_uniform_(p)\n",
    "\n",
    "def make_big_bird(vocab, N=6, \n",
    "               d_model=512, d_ff=2048, h=8, dropout=0.1, emb_share=False, bert_share=False):\n",
    "    \"Helper: Construct a model from hyperparameters.\"\n",
    "    \n",
    "    vocab_sz = len(vocab)\n",
    "    \n",
    "    c = copy.deepcopy\n",
    "    attn = MultiHeadedAttention(h, d_model)\n",
    "    ff = PositionwiseFeedForward(d_model, d_ff, dropout)\n",
    "    position = PositionalEncoding(d_model, dropout)\n",
    "    \n",
    "    src_emb = nn.Sequential(Embeddings(d_model, vocab_sz), c(position))\n",
    "    if emb_share:        \n",
    "        tgt_emb = src_emb\n",
    "        bert_class_emb = src_emb\n",
    "        bert_discr_emb = src_emb\n",
    "    else:\n",
    "        tgt_emb = nn.Sequential(Embeddings(d_model, vocab_sz), c(position))\n",
    "        bert_class_emb = nn.Sequential(Embeddings(d_model, vocab_sz), c(position))\n",
    "        bert_discr_emb = nn.Sequential(Embeddings(d_model, vocab_sz), c(position))\n",
    "    \n",
    "    \n",
    "#     bert_class = BERT(\n",
    "#         Encoder(EncoderLayer(d_model, c(attn), c(ff), dropout), N),\n",
    "#         bert_class_emb,\n",
    "#         vocab[PAD]\n",
    "#     )\n",
    "    \n",
    "#     if bert_share:\n",
    "#         bert_discr = bert_class\n",
    "#     else:\n",
    "#         bert_discr = BERT(\n",
    "#             Encoder(EncoderLayer(d_model, c(attn), c(ff), dropout), N),\n",
    "#             bert_discr_emb,\n",
    "#             vocab[PAD]\n",
    "#         )\n",
    "        \n",
    "    bert_class = LSTMEncoder(\n",
    "        vocab_sz, \n",
    "        d_model,\n",
    "        vocab[PAD]\n",
    "    )\n",
    "    \n",
    "    if bert_share:\n",
    "        bert_discr = bert_class\n",
    "    else:\n",
    "        bert_discr = LSTMEncoder(\n",
    "            vocab_sz, \n",
    "            d_model,\n",
    "            vocab[PAD]\n",
    "        )\n",
    "    \n",
    "    translator = Translator(\n",
    "        Encoder(EncoderLayer(d_model, c(attn), c(ff), dropout), N),\n",
    "        Decoder(DecoderLayer(d_model, c(attn), c(attn), \n",
    "                             c(ff), dropout), N),\n",
    "        src_emb,\n",
    "        tgt_emb,\n",
    "        Generator(d_model, vocab_sz))\n",
    "    \n",
    "    classifier = Classifier(\n",
    "        bert_class\n",
    "        # criterion = BCE\n",
    "    )\n",
    "        \n",
    "    discriminator = Discriminator(\n",
    "        bert_discr\n",
    "    )\n",
    "        \n",
    "    # This was important from their code. \n",
    "    # Initialize parameters with Glorot / fan_avg.\n",
    "    for m in [translator, classifier, discriminator]:\n",
    "        init_param(m)\n",
    "            \n",
    "    # creation of big bird\n",
    "    model = BigBird(\n",
    "        translator, discriminator, classifier, \n",
    "        vocab, gamma=0.99, clip_value=0.1, #for WGAN, if WGAN-GP is used this is useless \n",
    "        lr_G = 0.,\n",
    "        lr_D = 0.,\n",
    "        lr_C = 1e-4,\n",
    "        LAMBDA = 10, # Gradient penalty lambda hyperparameter\n",
    "        RL_scale = 1000,\n",
    "        device = device\n",
    "    )\n",
    "\n",
    "    return model\n"
   ]
  },
  {
   "cell_type": "code",
   "execution_count": null,
   "metadata": {},
   "outputs": [],
   "source": [
    "model = make_big_bird(vocab, N=4, d_model=256, d_ff=512, h=8, dropout=0.1, emb_share=True, bert_share=True)\n",
    "#model.load(\"Nest/NewbornBird\")"
   ]
  },
  {
   "cell_type": "code",
   "execution_count": null,
   "metadata": {},
   "outputs": [],
   "source": [
    "vocab_inv = {a:b for b, a in vocab.items()}\n",
    "def convert_ids_to_tokens(ids):\n",
    "    return [vocab_inv[i] for i in ids]"
   ]
  },
  {
   "cell_type": "code",
   "execution_count": null,
   "metadata": {
    "scrolled": false
   },
   "outputs": [
    {
     "name": "stdout",
     "output_type": "stream",
     "text": [
      "Epoch 1\n"
     ]
    },
    {
     "data": {
      "application/vnd.jupyter.widget-view+json": {
       "model_id": "1a5dc7a2e7a64338ab21b0977e396dc3",
       "version_major": 2,
       "version_minor": 0
      },
      "text/plain": [
       "HBox(children=(IntProgress(value=0, max=140), HTML(value='')))"
      ]
     },
     "metadata": {},
     "output_type": "display_data"
    },
    {
     "name": "stdout",
     "output_type": "stream",
     "text": [
      "\n",
      "[info] epoch train loss: 0.9109868340790334\n",
      "Epoch 2\n"
     ]
    },
    {
     "data": {
      "application/vnd.jupyter.widget-view+json": {
       "model_id": "330798bc7cb44afe8dbde695ad6563bd",
       "version_major": 2,
       "version_minor": 0
      },
      "text/plain": [
       "HBox(children=(IntProgress(value=0, max=140), HTML(value='')))"
      ]
     },
     "metadata": {},
     "output_type": "display_data"
    },
    {
     "name": "stdout",
     "output_type": "stream",
     "text": [
      "\n",
      "[info] epoch train loss: 0.14871304679607938\n",
      "Epoch 4\n"
     ]
    },
    {
     "data": {
      "application/vnd.jupyter.widget-view+json": {
       "model_id": "374fa5a8cfa84310a89a8721ed5dc8bd",
       "version_major": 2,
       "version_minor": 0
      },
      "text/plain": [
       "HBox(children=(IntProgress(value=0, max=140), HTML(value='')))"
      ]
     },
     "metadata": {},
     "output_type": "display_data"
    },
    {
     "name": "stdout",
     "output_type": "stream",
     "text": [
      "\n",
      "[info] epoch train loss: 0.028729097121868108\n",
      "Epoch 5\n"
     ]
    },
    {
     "data": {
      "application/vnd.jupyter.widget-view+json": {
       "model_id": "b79f83d8808846a882fc37f63897663b",
       "version_major": 2,
       "version_minor": 0
      },
      "text/plain": [
       "HBox(children=(IntProgress(value=0, max=140), HTML(value='')))"
      ]
     },
     "metadata": {},
     "output_type": "display_data"
    },
    {
     "name": "stdout",
     "output_type": "stream",
     "text": [
      "\n",
      "[info] epoch train loss: 0.0075271243540295735\n",
      "Epoch 6\n"
     ]
    },
    {
     "data": {
      "application/vnd.jupyter.widget-view+json": {
       "model_id": "62cad0ab086241538e0725b91d986884",
       "version_major": 2,
       "version_minor": 0
      },
      "text/plain": [
       "HBox(children=(IntProgress(value=0, max=140), HTML(value='')))"
      ]
     },
     "metadata": {},
     "output_type": "display_data"
    },
    {
     "name": "stdout",
     "output_type": "stream",
     "text": [
      "\n",
      "[info] epoch train loss: 0.0025879218138600535\n",
      "Epoch 7\n"
     ]
    },
    {
     "data": {
      "application/vnd.jupyter.widget-view+json": {
       "model_id": "129042e6887e48c1ba69b9015c76001f",
       "version_major": 2,
       "version_minor": 0
      },
      "text/plain": [
       "HBox(children=(IntProgress(value=0, max=140), HTML(value='')))"
      ]
     },
     "metadata": {},
     "output_type": "display_data"
    },
    {
     "name": "stdout",
     "output_type": "stream",
     "text": [
      "\n",
      "[info] epoch train loss: 0.0006741357579780274\n",
      "Epoch 8\n"
     ]
    },
    {
     "data": {
      "application/vnd.jupyter.widget-view+json": {
       "model_id": "dbb4073497434ddb9fe1fd26bef91af3",
       "version_major": 2,
       "version_minor": 0
      },
      "text/plain": [
       "HBox(children=(IntProgress(value=0, max=140), HTML(value='')))"
      ]
     },
     "metadata": {},
     "output_type": "display_data"
    },
    {
     "name": "stdout",
     "output_type": "stream",
     "text": [
      "lay egg to ./Nest ... save as ./Nest/NewbornBird\n",
      "origin:\n",
      "['[CLS]', 'tobacco', 'giants', 'hail', 'court', 'ruling', 'us', 'tobacco', 'companies', 'have', 'welcomed', 'an', 'appeal', 'court', 's', 'decision', 'to', 'reject', 'the', 'government', 's', '$', '280', '##bn', '(', '£1', '##55', '##bn', ')', 'claim', 'for', 'alleged', 'dec', '##eit', 'about', 'smoking', 'dangers', '.', 'tobacco', 'stocks', 'rose', 'sharply', 'on', 'wall', 'street', 'after', 'the', '2', '-', '1', 'decision', '.', 'the', 'court', 'in', 'washington', 'found', 'the', 'case', '-', 'filed', 'by', 'the', 'clinton', 'administration', 'in', '1999', '-', 'could', 'not', 'be', 'brought', 'under', 'federal', 'anti', '-', 'rack', '##ete', '##ering', 'laws', '.', 'anti', '-', 'smoking', 'groups', 'urge', 'the', 'government', 'to', 'fight', 'on', 'but', 'the', 'justice', 'department', 'has', 'not', 'said', 'if', 'it', 'will', 'appeal', '.', 'among', 'the', 'accused', 'were', 'alt', '##ria', 'group', 'r', '##j', 'reynolds', 'tobacco', 'lori', '##llar', '##d', 'tobacco', 'li', '##gg', '##ett', 'group', 'and', 'brown', 'and', 'williamson', '.', 'they', 'were', 'delighted', 'by', 'the', 'decision', 'which', 'sent', 'reynolds', 'shares', 'up', '4', '.', '5', '%', 'and', 'alt', '##ria', 'shares', 'up', '5', '.', '11', '%', '.', 'charles', 'a', 'b', '##li', '##xt', 'executive', 'vice', '-', 'president', 'of', 'r', '##j', 'reynolds', 'tobacco', 'said', 'the', 'ruling', 'dramatically', 'transforms', 'the', 'government', 's', 'lawsuit', '.', 'alt', '##ria', 'group', 'said', 'in', 'a', 'statement', 'the', 'government', 'now', 'must', 'not', 'only', 'prove', 'that', 'the', 'companies', 'have', 'engaged', 'in', 'fraudulent', 'behaviour', 'in', 'the', 'past', 'but', 'that', 'they', 'are', 'likely', 'to', 'do', 'so', 'in', 'the', 'future', '.', 'the', 'government', 'had', 'claimed', 'tobacco', 'firms', '-', 'manipulated', 'nico', '##tine', 'levels', 'to', 'increase', 'addiction', '-', 'targeted', 'teenagers', 'with', 'multi', '-', 'billion', 'dollar', 'advertising', 'campaigns', '-', 'lied', 'about', 'the', 'dangers', 'of', 'smoking', 'and', 'ignored', 'research', 'to', 'the', 'contrary', '.', 'prosecutors', 'wanted', 'the', 'cigarette', 'firms', 'to', 'di', '##sg', '##org', '##e', '$', '280', '##bn', 'in', 'profits', 'accumulated', 'over', 'the', 'past', '50', 'years', 'and', 'impose', 'tough', '##er', 'rules', 'on', 'marketing', 'their', 'products', '.', 'they', 'brought', 'the', 'case', 'under', 'rack', '##ete', '##ering', 'laws', 'which', 'were', 'passed', 'to', 'deny', 'mafia', 'gangs', 'the', 'profits', 'of', 'their', 'crimes', '.', 'but', 'the', 'tobacco', 'companies', 'denied', 'that', 'they', 'illegally', 'con', '##sp', '##ired', 'to', 'promote', 'smoking', 'and', 'def', '##ra', '##ud', 'the', 'public', '.', 'they', 'also', 'said', 'they', 'had', 'already', 'met', 'many', 'of', 'the', 'government', 's', 'demands', 'in', 'a', 'landmark', '$', '206', '##bn', 'settlement', 'reached', 'with', '46', 'states', 'in', '1998', '.', 'the', 'three', '-', 'judge', 'panel', 'in', 'the', 'district', 'of', 'columbia', 's', 'court', 'of', 'appeals', 'ruled', 'on', 'friday', 'that', 'the', 'us', 'government', 'could', 'not', 'sue', 'the', 'firms', 'under', 'the', 'anti', '-', 'rack', '##ete', '##ering', 'laws', '.', 'judge', 'david', 'sent', '##elle', 'in', 'his', 'ruling', 'said', 'such', 'laws', 'were', 'aimed', 'at']\n",
      "summary:\n",
      "['[CLS]', '[unused782]', '[unused782]', '[unused782]', '[unused782]', '[unused782]', '[unused782]', '[unused782]', '[unused782]', '[unused782]', '[unused782]', '[unused782]', '[unused782]', '[unused782]', '[unused782]', '[unused782]', '[unused782]', '[unused782]', '[unused782]', '[unused782]']\n",
      "real summary:\n",
      "['[CLS]', 'tobacco', 'giants', 'hail', 'court', 'ruling', 'us', 'tobacco', 'companies', 'have', 'welcomed', 'an', 'appeal', 'court', 's', 'decision', 'to', 'reject', 'the']\n",
      "sentiment: 0\n",
      "y: 1\n",
      "\n",
      "\n",
      "[info] epoch train loss: -0.0008430498053440617\n",
      "Epoch 9\n"
     ]
    },
    {
     "data": {
      "application/vnd.jupyter.widget-view+json": {
       "model_id": "8752173490a2496fa6f1d0b019ec65ce",
       "version_major": 2,
       "version_minor": 0
      },
      "text/plain": [
       "HBox(children=(IntProgress(value=0, max=140), HTML(value='')))"
      ]
     },
     "metadata": {},
     "output_type": "display_data"
    },
    {
     "name": "stdout",
     "output_type": "stream",
     "text": [
      "\n",
      "[info] epoch train loss: -0.0015309364013067546\n",
      "Epoch 10\n"
     ]
    },
    {
     "data": {
      "application/vnd.jupyter.widget-view+json": {
       "model_id": "0fd823b5681b4d9294f5520c018d7b5f",
       "version_major": 2,
       "version_minor": 0
      },
      "text/plain": [
       "HBox(children=(IntProgress(value=0, max=140), HTML(value='')))"
      ]
     },
     "metadata": {},
     "output_type": "display_data"
    },
    {
     "name": "stderr",
     "output_type": "stream",
     "text": [
      "IOPub message rate exceeded.\n",
      "The notebook server will temporarily stop sending output\n",
      "to the client in order to avoid crashing it.\n",
      "To change this limit, set the config variable\n",
      "`--NotebookApp.iopub_msg_rate_limit`.\n",
      "\n",
      "Current values:\n",
      "NotebookApp.iopub_msg_rate_limit=1000.0 (msgs/sec)\n",
      "NotebookApp.rate_limit_window=3.0 (secs)\n",
      "\n"
     ]
    },
    {
     "name": "stdout",
     "output_type": "stream",
     "text": [
      "\n",
      "[info] epoch train loss: -0.0028305175369723657\n",
      "Epoch 38\n"
     ]
    },
    {
     "data": {
      "application/vnd.jupyter.widget-view+json": {
       "model_id": "9af88e68b6bd4c05b6d725cef9c1d9d4",
       "version_major": 2,
       "version_minor": 0
      },
      "text/plain": [
       "HBox(children=(IntProgress(value=0, max=140), HTML(value='')))"
      ]
     },
     "metadata": {},
     "output_type": "display_data"
    },
    {
     "name": "stdout",
     "output_type": "stream",
     "text": [
      "\n",
      "[info] epoch train loss: -0.002853799505397449\n",
      "Epoch 39\n"
     ]
    },
    {
     "data": {
      "application/vnd.jupyter.widget-view+json": {
       "model_id": "1723335ad05a45369a033b30dde9cc16",
       "version_major": 2,
       "version_minor": 0
      },
      "text/plain": [
       "HBox(children=(IntProgress(value=0, max=140), HTML(value='')))"
      ]
     },
     "metadata": {},
     "output_type": "display_data"
    },
    {
     "name": "stdout",
     "output_type": "stream",
     "text": [
      "\n",
      "[info] epoch train loss: -0.0028365763888471307\n",
      "Epoch 40\n"
     ]
    },
    {
     "data": {
      "application/vnd.jupyter.widget-view+json": {
       "model_id": "bd625b59b3af4e299d53f99b5437e936",
       "version_major": 2,
       "version_minor": 0
      },
      "text/plain": [
       "HBox(children=(IntProgress(value=0, max=140), HTML(value='')))"
      ]
     },
     "metadata": {},
     "output_type": "display_data"
    },
    {
     "name": "stdout",
     "output_type": "stream",
     "text": [
      "\n",
      "[info] epoch train loss: -0.002874168706648561\n",
      "Epoch 41\n"
     ]
    },
    {
     "data": {
      "application/vnd.jupyter.widget-view+json": {
       "model_id": "aa2ac815536642868a4401cc6983a269",
       "version_major": 2,
       "version_minor": 0
      },
      "text/plain": [
       "HBox(children=(IntProgress(value=0, max=140), HTML(value='')))"
      ]
     },
     "metadata": {},
     "output_type": "display_data"
    },
    {
     "name": "stdout",
     "output_type": "stream",
     "text": [
      "\n",
      "[info] epoch train loss: -0.0028752710511285376\n",
      "Epoch 42\n"
     ]
    },
    {
     "data": {
      "application/vnd.jupyter.widget-view+json": {
       "model_id": "0033fe9173014ebab38720efc8910642",
       "version_major": 2,
       "version_minor": 0
      },
      "text/plain": [
       "HBox(children=(IntProgress(value=0, max=140), HTML(value='')))"
      ]
     },
     "metadata": {},
     "output_type": "display_data"
    },
    {
     "name": "stdout",
     "output_type": "stream",
     "text": [
      "\n",
      "[info] epoch train loss: -0.002866205563897292\n",
      "Epoch 43\n"
     ]
    },
    {
     "data": {
      "application/vnd.jupyter.widget-view+json": {
       "model_id": "e477743a2d574d8dbcef1d39cde42729",
       "version_major": 2,
       "version_minor": 0
      },
      "text/plain": [
       "HBox(children=(IntProgress(value=0, max=140), HTML(value='')))"
      ]
     },
     "metadata": {},
     "output_type": "display_data"
    },
    {
     "name": "stdout",
     "output_type": "stream",
     "text": [
      "lay egg to ./Nest ... save as ./Nest/NewbornBird\n",
      "origin:\n",
      "['[CLS]', 'ibm', 'puts', 'cash', 'behind', 'linux', 'push', 'ibm', 'is', 'spending', '$', '100', '##m', '(', '£5', '##2', '##m', ')', 'over', 'the', 'next', 'three', 'years', 'beef', '##ing', 'up', 'its', 'commitment', 'to', 'linux', 'software', '.', 'the', 'cash', 'injection', 'will', 'be', 'used', 'to', 'help', 'its', 'customers', 'use', 'linux', 'on', 'every', 'type', 'of', 'device', 'from', 'handheld', 'computers', 'and', 'phones', 'right', 'up', 'to', 'powerful', 'servers', '.', 'ibm', 'said', 'the', 'money', 'will', 'fund', 'a', 'variety', 'of', 'technical', 'research', 'and', 'marketing', 'initiatives', 'to', 'boost', 'linux', 'use', '.', 'ibm', 'said', 'it', 'had', 'taken', 'the', 'step', 'in', 'response', 'to', 'greater', 'customer', 'demand', 'for', 'the', 'open', 'source', 'software', '.', 'in', '2004', 'ibm', 'said', 'it', 'had', 'seen', 'double', 'digit', 'growth', 'in', 'the', 'number', 'of', 'customers', 'using', 'linux', 'to', 'help', 'staff', 'work', 'together', 'more', 'closely', '.', 'the', 'money', 'will', 'be', 'used', 'to', 'help', 'this', 'push', 'towards', 'greater', 'collaboration', 'and', 'will', 'add', 'linux', '-', 'based', 'elements', 'to', 'ibm', 's', 'workplace', 'software', '.', 'workplace', 'is', 'a', 'suite', 'of', 'programs', 'and', 'tools', 'that', 'allow', 'workers', 'to', 'get', 'at', 'core', 'business', 'applications', 'no', 'matter', 'what', 'device', 'they', 'use', 'to', 'connect', 'to', 'corporate', 'networks', '.', 'one', 'of', 'the', 'main', 'focuses', 'of', 'the', 'initiative', 'will', 'be', 'to', 'make', 'it', 'easier', 'to', 'use', 'linux', '-', 'based', 'desktop', 'computers', 'and', 'mobile', 'devices', 'with', 'workplace', '.', 'even', 'before', 'ibm', 'announced', 'this', 'latest', 'spending', 'boost', 'it', 'was', 'one', 'of', 'the', 'biggest', 'advocates', 'of', 'the', 'open', 'source', 'way', 'of', 'working', '.', 'in', '2001', 'it', 'put', '$', '300', '##m', 'into', 'a', 'three', '-', 'year', 'linux', 'program', 'and', 'has', 'produced', 'linux', 'versions', 'of', 'many', 'of', 'its', 'programs', '.', 'linux', 'and', 'the', 'open', 'source', 'software', 'movement', 'are', 'based', 'on', 'the', 'premise', 'that', 'developers', 'should', 'be', 'free', 'to', 'tin', '##ker', 'with', 'the', 'core', 'components', 'of', 'software', 'programs', '.', 'they', 'reason', 'that', 'more', 'open', 'scrutiny', 'of', 'software', 'produces', 'better', 'programs', 'and', 'fuels', 'innovation', '.', '[SEP]', '[PAD]', '[PAD]', '[PAD]', '[PAD]', '[PAD]', '[PAD]', '[PAD]', '[PAD]', '[PAD]', '[PAD]', '[PAD]', '[PAD]', '[PAD]', '[PAD]', '[PAD]', '[PAD]', '[PAD]', '[PAD]', '[PAD]', '[PAD]', '[PAD]', '[PAD]', '[PAD]', '[PAD]', '[PAD]', '[PAD]', '[PAD]', '[PAD]', '[PAD]', '[PAD]', '[PAD]', '[PAD]', '[PAD]', '[PAD]', '[PAD]', '[PAD]', '[PAD]', '[PAD]', '[PAD]', '[PAD]', '[PAD]', '[PAD]', '[PAD]', '[PAD]', '[PAD]', '[PAD]', '[PAD]', '[PAD]', '[PAD]', '[PAD]', '[PAD]', '[PAD]', '[PAD]', '[PAD]', '[PAD]', '[PAD]', '[PAD]', '[PAD]', '[PAD]', '[PAD]', '[PAD]', '[PAD]', '[PAD]', '[PAD]', '[PAD]', '[PAD]', '[PAD]', '[PAD]', '[PAD]', '[PAD]', '[PAD]', '[PAD]', '[PAD]', '[PAD]', '[PAD]', '[PAD]', '[PAD]', '[PAD]', '[PAD]', '[PAD]', '[PAD]', '[PAD]', '[PAD]', '[PAD]', '[PAD]', '[PAD]', '[PAD]', '[PAD]', '[PAD]', '[PAD]', '[PAD]', '[PAD]', '[PAD]', '[PAD]', '[PAD]', '[PAD]', '[PAD]', '[PAD]', '[PAD]', '[PAD]', '[PAD]', '[PAD]', '[PAD]', '[PAD]']\n",
      "summary:\n",
      "['[CLS]', '[unused782]', '[unused782]', '[unused782]', '[unused782]', '[unused782]', '[unused782]', '[unused782]', '[unused782]', '[unused782]', '[unused782]', '[unused782]', '[unused782]', '[unused782]', '[unused782]', '[unused782]', '[unused782]', '[unused782]', '[unused782]', '[unused782]']\n",
      "real summary:\n",
      "['[CLS]', 'ibm', 'puts', 'cash', 'behind', 'linux', 'push', 'ibm', 'is', 'spending', '$', '100', '##m', '(', '£5', '##2', '##m', ')', 'over']\n",
      "sentiment: 0\n",
      "y: 0\n",
      "\n",
      "\n",
      "[info] epoch train loss: -0.0028422436197235103\n",
      "Epoch 44\n"
     ]
    },
    {
     "data": {
      "application/vnd.jupyter.widget-view+json": {
       "model_id": "68579d24f91742b2927671f6a7c34d4d",
       "version_major": 2,
       "version_minor": 0
      },
      "text/plain": [
       "HBox(children=(IntProgress(value=0, max=140), HTML(value='')))"
      ]
     },
     "metadata": {},
     "output_type": "display_data"
    },
    {
     "name": "stderr",
     "output_type": "stream",
     "text": [
      "IOPub message rate exceeded.\n",
      "The notebook server will temporarily stop sending output\n",
      "to the client in order to avoid crashing it.\n",
      "To change this limit, set the config variable\n",
      "`--NotebookApp.iopub_msg_rate_limit`.\n",
      "\n",
      "Current values:\n",
      "NotebookApp.iopub_msg_rate_limit=1000.0 (msgs/sec)\n",
      "NotebookApp.rate_limit_window=3.0 (secs)\n",
      "\n"
     ]
    },
    {
     "name": "stdout",
     "output_type": "stream",
     "text": [
      "lay egg to ./Nest ... save as ./Nest/NewbornBird\n",
      "origin:\n",
      "['[CLS]', 'digital', 'uk', 'driven', 'by', 'net', 'and', 'tv', 'the', 'uk', 's', 'adoption', 'of', 'digital', 'tv', 'and', 'broadband', 'has', 'helped', 'make', 'it', 'the', 'fourth', 'most', 'digitally', '-', 'sa', '##v', '##vy', 'nation', 'in', 'europe', 'according', 'a', 'report', 'by', 'jupiter', 'research', '.', 'but', 'the', 'uk', 'still', 'la', '##gs', 'in', 'terms', 'of', 'broadband', 'speeds', 'compared', 'to', 'others', '.', 'the', 'most', 'digitally', 'sophisticated', 'europeans', 'in', 'terms', 'of', 'use', 'of', 'digital', 'goods', 'such', 'as', 'mobile', '##s', 'tv', 'net', 'and', 'cameras', 'are', 'the', 'scandinavian', '##s', '.', 'about', '14', 'million', 'households', 'in', 'the', 'uk', '60', '%', 'have', 'digital', 'tv', 'according', 'to', 'the', 'communications', 'regulator', 'of', '##com', '.', 'the', 'least', 'digital', 'of', 'the', 'european', 'nations', 'was', 'greece', 'in', '17th', 'position', 'according', 'to', 'the', 'digital', 'life', 'index', '.', 'scandinavian', 'countries', 'sweden', 'denmark', 'and', 'norway', 'came', 'out', 'top', 'in', 'the', 'report', 'but', 'there', 'were', 'some', 'differences', 'in', 'technology', 'trends', '.', 'the', 'european', 'digital', 'life', 'index', 'demonstrates', 'that', 'digital', 'lifestyle', '##s', 'are', 'common', 'today', 'but', 'across', 'europe', 'there', 'is', 'no', 'single', 'digital', 'lifestyle', 'said', 'nate', 'elliott', 'jupiter', 'analyst', '.', 'consumers', 'adopt', 'different', 'digital', 'products', 'and', 'services', 'in', 'different', 'countries', '.', 'although', 'there', 'are', 'differences', 'between', 'different', 'european', 'nations', 'the', 'gap', 'between', 'them', 'is', 'closing', 'the', 'report', 'concluded', '.', 'the', 'trend', 'for', 'ga', '##dgets', 'and', 'technologies', 'such', 'as', 'digital', 'video', 'recorder', '##s', '(', 'd', '##vr', ')', 'broadband', 'and', 'video', '-', 'on', '-', 'demand', 'will', 'continue', 'across', 'europe', 'he', 'added', '.', 'more', 'than', 'six', 'million', 'uk', 'households', 'now', 'have', 'broadband', 'net', '.', 'by', 'the', 'middle', 'of', '2005', 'it', 'is', 'estimated', 'that', '50', '%', 'of', 'all', 'uk', 'net', 'users', 'will', 'be', 'on', 'broadband', '.', 'cable', 'company', 'nt', '##l', 'is', 'trial', '##ling', 'faster', 'ads', '##l', '(', 'as', '##ym', '##metric', 'digital', 'sub', '##scribe', '##r', 'line', ')', 'broadband', 'technology', 'using', 'ads', '##l', '##2', '+', 'which', 'can', 'give', 'speeds', 'of', '18', '##mb', '##ps', 'compared', 'to', 'current', 'speeds', 'which', 'are', 'usually', 'around', '1', '##mb', '##ps', 'or', '2', '##mb', '##ps', '.', 'bt', 'is', 'set', 'to', 'trial', 'the', 'technology', 'later', 'in', 'the', 'year', '.', 'super', '-', 'fast', 'broadband', 'will', 'be', 'necessary', 'to', 'the', 'delivery', 'of', 'services', 'such', 'as', 'high', '-', 'definition', 'tv', '(', 'hd', '##tv', ')', 'and', 'video', '-', 'on', '-', 'demand', 'already', 'very', 'popular', 'in', 'france', 'and', 'other', 'european', 'countries', '.', 'a', 'separate', 'survey', 'by', 'gm', '##ip', '##oll', 'last', 'week', 'found', 'that', 'globally', 'people', 's', 'appetite', 'for', 'technology', 'and', 'ga', '##dgets', 'continues', 'una', '##bate', '##d', '.', 'the', 'poll', 'of', '20', '000', 'people', 'in', '20', 'countries', 'found', 'that', '59', '%', 'wanted', 'more']\n",
      "summary:\n",
      "['[CLS]', '[unused782]', '[unused782]', '[unused782]', '[unused782]', '[unused782]', '[unused782]', '[unused782]', '[unused782]', '[unused782]', '[unused782]', '[unused782]', '[unused782]', '[unused782]', '[unused782]', '[unused782]', '[unused782]', '[unused782]', '[unused782]', '[unused782]']\n",
      "real summary:\n",
      "['[CLS]', 'digital', 'uk', 'driven', 'by', 'net', 'and', 'tv', 'the', 'uk', 's', 'adoption', 'of', 'digital', 'tv', 'and', 'broadband', 'has', 'helped']\n",
      "sentiment: 0\n",
      "y: 0\n",
      "\n",
      "\n",
      "[info] epoch train loss: -0.0029248816723614775\n",
      "Epoch 73\n"
     ]
    },
    {
     "data": {
      "application/vnd.jupyter.widget-view+json": {
       "model_id": "8b3c998d668c4ba7ba6bd1d7396f032c",
       "version_major": 2,
       "version_minor": 0
      },
      "text/plain": [
       "HBox(children=(IntProgress(value=0, max=140), HTML(value='')))"
      ]
     },
     "metadata": {},
     "output_type": "display_data"
    },
    {
     "name": "stdout",
     "output_type": "stream",
     "text": [
      "\n",
      "[info] epoch train loss: -0.0029199044395056715\n",
      "Epoch 74\n"
     ]
    },
    {
     "data": {
      "application/vnd.jupyter.widget-view+json": {
       "model_id": "3e95b192028f4a9d953adba08978476f",
       "version_major": 2,
       "version_minor": 0
      },
      "text/plain": [
       "HBox(children=(IntProgress(value=0, max=140), HTML(value='')))"
      ]
     },
     "metadata": {},
     "output_type": "display_data"
    },
    {
     "name": "stdout",
     "output_type": "stream",
     "text": [
      "\n",
      "[info] epoch train loss: -0.002921597426140262\n",
      "Epoch 75\n"
     ]
    },
    {
     "data": {
      "application/vnd.jupyter.widget-view+json": {
       "model_id": "b297ebddc83a4eed8b3d94a59f66cb75",
       "version_major": 2,
       "version_minor": 0
      },
      "text/plain": [
       "HBox(children=(IntProgress(value=0, max=140), HTML(value='')))"
      ]
     },
     "metadata": {},
     "output_type": "display_data"
    },
    {
     "name": "stdout",
     "output_type": "stream",
     "text": [
      "\n",
      "[info] epoch train loss: -0.002928083070878326\n",
      "Epoch 76\n"
     ]
    },
    {
     "data": {
      "application/vnd.jupyter.widget-view+json": {
       "model_id": "c26255e8901a4075b188850a9c33a372",
       "version_major": 2,
       "version_minor": 0
      },
      "text/plain": [
       "HBox(children=(IntProgress(value=0, max=140), HTML(value='')))"
      ]
     },
     "metadata": {},
     "output_type": "display_data"
    },
    {
     "name": "stdout",
     "output_type": "stream",
     "text": [
      "\n",
      "[info] epoch train loss: -0.002924435092770799\n",
      "Epoch 77\n"
     ]
    },
    {
     "data": {
      "application/vnd.jupyter.widget-view+json": {
       "model_id": "442aeff3c54442849a3ca40bdc088bfa",
       "version_major": 2,
       "version_minor": 0
      },
      "text/plain": [
       "HBox(children=(IntProgress(value=0, max=140), HTML(value='')))"
      ]
     },
     "metadata": {},
     "output_type": "display_data"
    },
    {
     "name": "stdout",
     "output_type": "stream",
     "text": [
      "\n",
      "[info] epoch train loss: -0.0029269103601092996\n",
      "Epoch 78\n"
     ]
    },
    {
     "data": {
      "application/vnd.jupyter.widget-view+json": {
       "model_id": "5c52ee608b9e4a8193e3e0269ec4602e",
       "version_major": 2,
       "version_minor": 0
      },
      "text/plain": [
       "HBox(children=(IntProgress(value=0, max=140), HTML(value='')))"
      ]
     },
     "metadata": {},
     "output_type": "display_data"
    },
    {
     "name": "stdout",
     "output_type": "stream",
     "text": [
      "\n",
      "[info] epoch train loss: -0.0029312780965229123\n",
      "Epoch 79\n"
     ]
    },
    {
     "data": {
      "application/vnd.jupyter.widget-view+json": {
       "model_id": "29c35e56c01d49108815aa596e04ef67",
       "version_major": 2,
       "version_minor": 0
      },
      "text/plain": [
       "HBox(children=(IntProgress(value=0, max=140), HTML(value='')))"
      ]
     },
     "metadata": {},
     "output_type": "display_data"
    },
    {
     "name": "stderr",
     "output_type": "stream",
     "text": [
      "IOPub message rate exceeded.\n",
      "The notebook server will temporarily stop sending output\n",
      "to the client in order to avoid crashing it.\n",
      "To change this limit, set the config variable\n",
      "`--NotebookApp.iopub_msg_rate_limit`.\n",
      "\n",
      "Current values:\n",
      "NotebookApp.iopub_msg_rate_limit=1000.0 (msgs/sec)\n",
      "NotebookApp.rate_limit_window=3.0 (secs)\n",
      "\n"
     ]
    },
    {
     "name": "stdout",
     "output_type": "stream",
     "text": [
      "\n",
      "[info] epoch train loss: -0.002946260932839882\n",
      "Epoch 108\n"
     ]
    },
    {
     "data": {
      "application/vnd.jupyter.widget-view+json": {
       "model_id": "2ef7c0b1744f4b1fa1746ddb1a14f752",
       "version_major": 2,
       "version_minor": 0
      },
      "text/plain": [
       "HBox(children=(IntProgress(value=0, max=140), HTML(value='')))"
      ]
     },
     "metadata": {},
     "output_type": "display_data"
    },
    {
     "name": "stdout",
     "output_type": "stream",
     "text": [
      "lay egg to ./Nest ... save as ./Nest/NewbornBird\n",
      "origin:\n",
      "['[CLS]', 'turkey', 'turns', 'on', 'the', 'economic', 'charm', 'three', 'years', 'after', 'a', 'gr', '##uel', '##ling', 'economic', 'crisis', 'turkey', 'has', 'dressed', 'its', 'economy', 'to', 'impress', '.', 'as', 'part', 'of', 'a', 'charm', 'offensive', '-', 'ahead', 'of', '17', 'december', 'when', 'the', 'european', 'union', 'will', 'decide', 'whether', 'to', 'start', 'entry', 'talks', '-', 'turkey', 's', 'economic', 'leaders', 'have', 'been', 'banging', 'the', 'drum', 'to', 'draw', 'attention', 'to', 'recent', 'achievements', '.', 'the', 'economy', 'is', 'growing', 'fast', 'they', 'insist', '.', 'education', 'levels', 'among', 'its', 'young', 'and', 'large', 'population', 'are', 'rising', '.', 'unemployment', 'levels', 'in', 'percentage', 'terms', 'are', 'heading', 'fast', 'towards', 'single', 'digits', '.', 'inflation', 'is', 'under', 'control', '.', 'a', 'new', 'law', 'to', 'govern', 'its', 'turbulent', 'banking', 'system', 'is', 'on', 'the', 'cards', '.', 'the', 'tourism', 'industry', 'is', 'booming', 'and', 'revenues', 'from', 'visitors', 'should', 'more', 'than', 'double', 'to', '$', '21', '##bn', '(', '£10', '.', '8', '##bn', ')', 'in', 'three', 'years', '.', 'moreover', 'government', 'spending', 'is', 'set', 'to', 'be', 'frozen', 'and', 'a', 'burden', '##some', 'social', 'security', 'deficit', 'is', 'being', 'tackled', '.', 'income', 'and', 'corporate', 'taxes', 'will', 'be', 'cut', 'next', 'year', 'in', 'order', 'to', 'attract', '$', '15', '##bn', 'of', 'foreign', 'investment', 'over', 'the', 'next', 'three', 'years', '.', 'a', 'loan', 'restructuring', 'deal', 'with', 'the', 'international', 'monetary', 'fund', '(', 'im', '##f', ')', 'is', 'pretty', 'much', 'in', 'the', 'can', '.', 'and', 'following', 'recent', 'macro', '##economic', 'restructuring', 'efforts', 'its', 'currency', 'is', 'floating', 'freely', 'and', 'its', 'central', 'bank', 'is', 'independent', '.', 'the', 'point', 'of', 'all', 'this', 'has', 'been', 'to', 'convince', 'europe', 's', 'decision', 'makers', 'that', 'rather', 'than', 'being', 'a', 'phenomena', '##lly', 'costly', 'exercise', 'for', 'the', 'eu', 'allowing', 'turkey', 'in', 'would', 'in', 'fact', 'bring', 'masses', 'of', 'economic', 'benefits', '.', 'the', 'cake', 'will', 'be', 'bigger', 'for', 'everybody', 'said', 'deputy', 'prime', 'minister', 'abdul', '##lat', '##if', 'sen', '##er', 'earlier', 'this', 'month', '.', 'turkey', 'will', 'not', 'be', 'a', 'burden', 'for', 'the', 'eu', 'budget', '.', 'if', 'admitted', 'into', 'the', 'eu', 'turkey', 'would', 'contribute', 'almost', '6', '##bn', 'euros', '(', '$', '8', '##bn', ';', '£', '##6', '##bn', ')', 'to', 'its', 'budget', 'by', '2014', 'according', 'to', 'a', 'recent', 'impact', 'study', 'by', 'the', 'country', 's', 'state', 'planning', 'organisation', '.', 'as', 'turkey', 's', 'gross', 'domestic', 'output', '(', 'gdp', ')', 'is', 'set', 'to', 'grow', 'by', '6', '%', 'per', 'year', 'on', 'average', 'its', 'contribution', 'would', 'rise', 'from', 'less', 'than', '5', '##bn', 'euros', 'in', '2014', 'to', 'almost', '9', '##bn', 'euros', 'by', '2020', '.', 'turkey', 'could', 'also', 'help', 'alleviate', 'a', 'labour', 'shortage', 'in', 'old', 'europe', 'once', 'its', 'population', 'comes', 'of', 'age', '.', 'by', '2014', 'one', 'in', 'four', 'turks', '-', 'or', 'about', '18', 'million']\n",
      "summary:\n",
      "['[CLS]', '[unused782]', '[unused782]', '[unused782]', '[unused782]', '[unused782]', '[unused782]', '[unused782]', '[unused782]', '[unused782]', '[unused782]', '[unused782]', '[unused782]', '[unused782]', '[unused782]', '[unused782]', '[unused782]', '[unused782]', '[unused782]', '[unused782]']\n",
      "real summary:\n",
      "['[CLS]', 'turkey', 'turns', 'on', 'the', 'economic', 'charm', 'three', 'years', 'after', 'a', 'gr', '##uel', '##ling', 'economic', 'crisis', 'turkey', 'has', 'dressed']\n",
      "sentiment: 0\n",
      "y: 1\n",
      "\n",
      "\n",
      "[info] epoch train loss: -0.0029452320677780873\n",
      "Epoch 109\n"
     ]
    },
    {
     "data": {
      "application/vnd.jupyter.widget-view+json": {
       "model_id": "656a5175f74c4c20a59af372117cb48a",
       "version_major": 2,
       "version_minor": 0
      },
      "text/plain": [
       "HBox(children=(IntProgress(value=0, max=140), HTML(value='')))"
      ]
     },
     "metadata": {},
     "output_type": "display_data"
    },
    {
     "name": "stdout",
     "output_type": "stream",
     "text": [
      "\n",
      "[info] epoch train loss: -0.0029425520016154393\n",
      "Epoch 110\n"
     ]
    },
    {
     "data": {
      "application/vnd.jupyter.widget-view+json": {
       "model_id": "0ba4b36174b64d97bc3ba7f807f6ae9a",
       "version_major": 2,
       "version_minor": 0
      },
      "text/plain": [
       "HBox(children=(IntProgress(value=0, max=140), HTML(value='')))"
      ]
     },
     "metadata": {},
     "output_type": "display_data"
    },
    {
     "name": "stdout",
     "output_type": "stream",
     "text": [
      "\n",
      "[info] epoch train loss: -0.0029471735286494194\n",
      "Epoch 111\n"
     ]
    },
    {
     "data": {
      "application/vnd.jupyter.widget-view+json": {
       "model_id": "c465325507284405b241786694b16cb7",
       "version_major": 2,
       "version_minor": 0
      },
      "text/plain": [
       "HBox(children=(IntProgress(value=0, max=140), HTML(value='')))"
      ]
     },
     "metadata": {},
     "output_type": "display_data"
    },
    {
     "name": "stdout",
     "output_type": "stream",
     "text": [
      "\n",
      "[info] epoch train loss: -0.0029489707253958384\n",
      "Epoch 112\n"
     ]
    },
    {
     "data": {
      "application/vnd.jupyter.widget-view+json": {
       "model_id": "cb91a47d10b44da691258ae4869d4531",
       "version_major": 2,
       "version_minor": 0
      },
      "text/plain": [
       "HBox(children=(IntProgress(value=0, max=140), HTML(value='')))"
      ]
     },
     "metadata": {},
     "output_type": "display_data"
    },
    {
     "name": "stdout",
     "output_type": "stream",
     "text": [
      "\n",
      "[info] epoch train loss: -0.002944173411655017\n",
      "Epoch 113\n"
     ]
    },
    {
     "data": {
      "application/vnd.jupyter.widget-view+json": {
       "model_id": "2d8664e6dce54be9aff648fd0071fbe6",
       "version_major": 2,
       "version_minor": 0
      },
      "text/plain": [
       "HBox(children=(IntProgress(value=0, max=140), HTML(value='')))"
      ]
     },
     "metadata": {},
     "output_type": "display_data"
    },
    {
     "name": "stdout",
     "output_type": "stream",
     "text": [
      "\n",
      "[info] epoch train loss: -0.0029461824797441037\n",
      "Epoch 114\n"
     ]
    },
    {
     "data": {
      "application/vnd.jupyter.widget-view+json": {
       "model_id": "66e152d47c3942bca0611c47237522dc",
       "version_major": 2,
       "version_minor": 0
      },
      "text/plain": [
       "HBox(children=(IntProgress(value=0, max=140), HTML(value='')))"
      ]
     },
     "metadata": {},
     "output_type": "display_data"
    },
    {
     "name": "stderr",
     "output_type": "stream",
     "text": [
      "IOPub message rate exceeded.\n",
      "The notebook server will temporarily stop sending output\n",
      "to the client in order to avoid crashing it.\n",
      "To change this limit, set the config variable\n",
      "`--NotebookApp.iopub_msg_rate_limit`.\n",
      "\n",
      "Current values:\n",
      "NotebookApp.iopub_msg_rate_limit=1000.0 (msgs/sec)\n",
      "NotebookApp.rate_limit_window=3.0 (secs)\n",
      "\n"
     ]
    },
    {
     "name": "stdout",
     "output_type": "stream",
     "text": [
      "lay egg to ./Nest ... save as ./Nest/NewbornBird\n",
      "origin:\n",
      "['[CLS]', 'ibm', 'free', '##s', '500', 'software', 'patents', 'computer', 'giant', 'ibm', 'says', '500', 'of', 'its', 'software', 'patents', 'will', 'be', 'released', 'into', 'the', 'open', 'development', 'community', '.', 'the', 'move', 'means', 'developers', 'will', 'be', 'able', 'to', 'use', 'the', 'technologies', 'without', 'paying', 'for', 'a', 'licence', 'from', 'the', 'company', '.', 'ibm', 'described', 'the', 'step', 'as', 'a', 'new', 'era', 'in', 'how', 'it', 'dealt', 'with', 'intellectual', 'property', 'and', 'promised', 'further', 'patents', 'would', 'be', 'made', 'freely', 'available', '.', 'the', 'patents', 'include', 'software', 'for', 'a', 'range', 'of', 'practices', 'including', 'text', 'recognition', 'and', 'database', 'management', '.', 'traditional', 'technology', 'business', 'policy', 'is', 'to', 'ama', '##ss', 'patents', 'and', 'despite', 'ibm', 's', 'announcement', 'the', 'company', 'continues', 'to', 'follow', 'this', 'route', '.', 'ibm', 'was', 'granted', '3', '248', 'patents', 'in', '2004', 'more', 'than', 'any', 'other', 'firm', 'in', 'the', 'us', 'the', 'new', 'york', 'times', 'reports', '.', 'for', 'each', 'of', 'the', 'past', '12', 'years', 'ibm', 'has', 'been', 'granted', 'more', 'us', 'patents', 'than', 'any', 'other', 'company', '.', 'ibm', 'has', 'received', '25', '77', '##2', 'us', 'patents', 'in', 'that', 'period', 'and', 'reportedly', 'has', 'more', 'than', '40', '000', 'current', 'patents', '.', 'in', 'a', 'statement', 'dr', 'john', 'e', '.', 'kelly', 'ibm', 'senior', 'vice', 'president', 'technology', 'and', 'intellectual', 'property', 'said', ':', 'true', 'innovation', 'leadership', 'is', 'about', 'more', 'than', 'just', 'the', 'numbers', 'of', 'patents', 'granted', '.', 'it', 's', 'about', 'inn', '##ova', '##ting', 'to', 'benefit', 'customers', 'partners', 'and', 'society', '.', 'our', 'pledge', 'today', 'is', 'the', 'beginning', 'of', 'a', 'new', 'era', 'in', 'how', 'ibm', 'will', 'manage', 'intellectual', 'property', '.', 'in', 'the', 'past', 'ibm', 'has', 'supported', 'the', 'non', '-', 'commercial', 'operating', 'system', 'linux', 'although', 'critics', 'have', 'said', 'this', 'was', 'done', 'only', 'as', 'an', 'attempt', 'to', 'undermine', 'microsoft', '.', 'the', 'company', 'said', 'it', 'wanted', 'to', 'encourage', 'other', 'firms', 'to', 'release', 'patents', 'into', 'what', 'it', 'called', 'a', 'patent', 'commons', '.', 'adam', 'jo', '##llan', '##s', 'ibm', 's', 'world', '-', 'wide', 'linux', 'strategy', 'manager', 'said', 'the', 'move', 'was', 'a', 'genuine', 'attempt', 'to', 'encourage', 'innovation', '.', 'we', 'believe', 'that', 'releasing', 'these', 'patents', 'will', 'result', 'in', 'innovation', 'moving', 'more', 'quickly', '.', 'this', 'is', 'about', 'encouraging', 'collaboration', 'and', 'following', 'a', 'model', 'much', 'like', 'academia', '.', 'mr', 'jo', '##llan', '##s', 'likened', 'the', 'plan', 'for', 'a', 'patent', 'commons', 'to', 'the', 'way', 'the', 'internet', 'was', 'developed', 'and', 'said', 'everyone', 'could', 'take', 'advantage', 'of', 'the', 'result', 'of', 'collaboration', '.', 'the', 'internet', 's', 'impact', 'has', 'been', 'on', 'everyone', '.', 'the', 'benefits', 'are', 'there', 'for', 'everyone', 'to', 'take', 'advantage', 'of', '.', 'stuart', 'cohen', 'chief', 'executive', 'of', 'us', 'firm', 'open', 'source', 'development', 'labs', 'said', 'the', 'move', 'could', 'mean', 'a', 'change', 'in']\n",
      "summary:\n",
      "['[CLS]', '[unused782]', '[unused782]', '[unused782]', '[unused782]', '[unused782]', '[unused782]', '[unused782]', '[unused782]', '[unused782]', '[unused782]', '[unused782]', '[unused782]', '[unused782]', '[unused782]', '[unused782]', '[unused782]', '[unused782]', '[unused782]', '[unused782]']\n",
      "real summary:\n",
      "['[CLS]', 'ibm', 'free', '##s', '500', 'software', 'patents', 'computer', 'giant', 'ibm', 'says', '500', 'of', 'its', 'software', 'patents', 'will', 'be', 'released']\n",
      "sentiment: 0\n",
      "y: 0\n",
      "\n",
      "\n",
      "[info] epoch train loss: -0.0029535604511955124\n",
      "Epoch 144\n"
     ]
    },
    {
     "data": {
      "application/vnd.jupyter.widget-view+json": {
       "model_id": "60efa5646d754a54813ac569805a1599",
       "version_major": 2,
       "version_minor": 0
      },
      "text/plain": [
       "HBox(children=(IntProgress(value=0, max=140), HTML(value='')))"
      ]
     },
     "metadata": {},
     "output_type": "display_data"
    },
    {
     "name": "stdout",
     "output_type": "stream",
     "text": [
      "\n",
      "[info] epoch train loss: -0.0029573773953160804\n",
      "Epoch 145\n"
     ]
    },
    {
     "data": {
      "application/vnd.jupyter.widget-view+json": {
       "model_id": "9f5081c3dcc742108893e64a7e714764",
       "version_major": 2,
       "version_minor": 0
      },
      "text/plain": [
       "HBox(children=(IntProgress(value=0, max=140), HTML(value='')))"
      ]
     },
     "metadata": {},
     "output_type": "display_data"
    },
    {
     "name": "stdout",
     "output_type": "stream",
     "text": [
      "\n",
      "[info] epoch train loss: -0.002959407264070725\n",
      "Epoch 146\n"
     ]
    },
    {
     "data": {
      "application/vnd.jupyter.widget-view+json": {
       "model_id": "b6e69480c53345f38756573ed44281fe",
       "version_major": 2,
       "version_minor": 0
      },
      "text/plain": [
       "HBox(children=(IntProgress(value=0, max=140), HTML(value='')))"
      ]
     },
     "metadata": {},
     "output_type": "display_data"
    },
    {
     "name": "stdout",
     "output_type": "stream",
     "text": [
      "\n",
      "[info] epoch train loss: -0.0029577766459123974\n",
      "Epoch 147\n"
     ]
    },
    {
     "data": {
      "application/vnd.jupyter.widget-view+json": {
       "model_id": "6b6c8a50fa8747aeb1a86579461ca9d8",
       "version_major": 2,
       "version_minor": 0
      },
      "text/plain": [
       "HBox(children=(IntProgress(value=0, max=140), HTML(value='')))"
      ]
     },
     "metadata": {},
     "output_type": "display_data"
    },
    {
     "name": "stdout",
     "output_type": "stream",
     "text": [
      "\n",
      "[info] epoch train loss: -0.0029552825180124793\n",
      "Epoch 148\n"
     ]
    },
    {
     "data": {
      "application/vnd.jupyter.widget-view+json": {
       "model_id": "d9fc87790d4b42b48b309050c0f180e2",
       "version_major": 2,
       "version_minor": 0
      },
      "text/plain": [
       "HBox(children=(IntProgress(value=0, max=140), HTML(value='')))"
      ]
     },
     "metadata": {},
     "output_type": "display_data"
    },
    {
     "name": "stdout",
     "output_type": "stream",
     "text": [
      "\n",
      "[info] epoch train loss: -0.002958604122554379\n",
      "Epoch 149\n"
     ]
    },
    {
     "data": {
      "application/vnd.jupyter.widget-view+json": {
       "model_id": "0d63c34864ed43c49dd9ee260db11472",
       "version_major": 2,
       "version_minor": 0
      },
      "text/plain": [
       "HBox(children=(IntProgress(value=0, max=140), HTML(value='')))"
      ]
     },
     "metadata": {},
     "output_type": "display_data"
    },
    {
     "name": "stdout",
     "output_type": "stream",
     "text": [
      "\n",
      "[info] epoch train loss: -0.0029474824424240305\n",
      "Epoch 150\n"
     ]
    },
    {
     "data": {
      "application/vnd.jupyter.widget-view+json": {
       "model_id": "0960af8f95354487a3d03300f46378ff",
       "version_major": 2,
       "version_minor": 0
      },
      "text/plain": [
       "HBox(children=(IntProgress(value=0, max=140), HTML(value='')))"
      ]
     },
     "metadata": {},
     "output_type": "display_data"
    },
    {
     "name": "stderr",
     "output_type": "stream",
     "text": [
      "IOPub message rate exceeded.\n",
      "The notebook server will temporarily stop sending output\n",
      "to the client in order to avoid crashing it.\n",
      "To change this limit, set the config variable\n",
      "`--NotebookApp.iopub_msg_rate_limit`.\n",
      "\n",
      "Current values:\n",
      "NotebookApp.iopub_msg_rate_limit=1000.0 (msgs/sec)\n",
      "NotebookApp.rate_limit_window=3.0 (secs)\n",
      "\n"
     ]
    },
    {
     "name": "stdout",
     "output_type": "stream",
     "text": [
      "\n",
      "[info] epoch train loss: -0.0029552394948898337\n",
      "Epoch 178\n"
     ]
    },
    {
     "data": {
      "application/vnd.jupyter.widget-view+json": {
       "model_id": "f0e64f94e87f4eb5a8151c06c85b6256",
       "version_major": 2,
       "version_minor": 0
      },
      "text/plain": [
       "HBox(children=(IntProgress(value=0, max=140), HTML(value='')))"
      ]
     },
     "metadata": {},
     "output_type": "display_data"
    },
    {
     "name": "stdout",
     "output_type": "stream",
     "text": [
      "\n",
      "[info] epoch train loss: -0.0029522504795003114\n",
      "Epoch 179\n"
     ]
    },
    {
     "data": {
      "application/vnd.jupyter.widget-view+json": {
       "model_id": "a267cede43c24f96b12b5d4c9af6ea34",
       "version_major": 2,
       "version_minor": 0
      },
      "text/plain": [
       "HBox(children=(IntProgress(value=0, max=140), HTML(value='')))"
      ]
     },
     "metadata": {},
     "output_type": "display_data"
    },
    {
     "name": "stdout",
     "output_type": "stream",
     "text": [
      "lay egg to ./Nest ... save as ./Nest/NewbornBird\n",
      "origin:\n",
      "['[CLS]', 'labour', 's', 'cunningham', 'to', 'stand', 'down', 'veteran', 'labour', 'mp', 'and', 'former', 'cabinet', 'minister', 'jack', 'cunningham', 'has', 'said', 'he', 'will', 'stand', 'down', 'at', 'the', 'next', 'election', '.', 'one', 'of', 'the', 'few', 'blair', '-', 'era', 'ministers', 'to', 'serve', 'under', 'jim', 'call', '##aghan', 'he', 'was', 'given', 'the', 'agriculture', 'portfolio', 'when', 'labour', 'regained', 'power', 'in', '1997', '.', 'mr', 'cunningham', 'went', 'on', 'to', 'become', 'tony', 'blair', 's', 'cabinet', 'enforce', '##r', '.', 'he', 'has', 'represented', 'the', 'constituency', 'now', 'known', 'as', 'copeland', 'since', '1970', '.', 'mr', 'blair', 'said', 'he', 'was', 'a', 'huge', 'figure', 'in', 'labour', 'and', 'a', 'valued', 'personal', 'friend', '.', 'during', 'labour', 's', 'long', 'period', 'in', 'opposition', 'mr', 'cunningham', 'held', 'a', 'number', 'of', 'shadow', 'roles', 'including', 'foreign', 'affairs', 'the', 'environment', 'and', 'as', 'trade', 'spokesman', '.', 'as', 'agriculture', 'minister', 'he', 'caused', 'controversy', 'when', 'he', 'decided', 'to', 'ban', 'beef', 'on', 'the', 'bone', 'in', 'the', 'wake', 'of', 'fears', 'over', 'bs', '##e', '.', 'he', 'quit', 'the', 'government', 'in', '1999', 'and', 'in', 'recent', 'years', 'has', 'served', 'as', 'the', 'chairman', 'of', 'the', 'all', '-', 'party', 'committee', 'on', 'lords', 'reform', 'and', 'has', 'been', 'a', 'loyal', 'supporter', 'of', 'the', 'government', 'from', 'the', 'back', '##ben', '##ches', '.', '[SEP]', '[PAD]', '[PAD]', '[PAD]', '[PAD]', '[PAD]', '[PAD]', '[PAD]', '[PAD]', '[PAD]', '[PAD]', '[PAD]', '[PAD]', '[PAD]', '[PAD]', '[PAD]', '[PAD]', '[PAD]', '[PAD]', '[PAD]', '[PAD]', '[PAD]', '[PAD]', '[PAD]', '[PAD]', '[PAD]', '[PAD]', '[PAD]', '[PAD]', '[PAD]', '[PAD]', '[PAD]', '[PAD]', '[PAD]', '[PAD]', '[PAD]', '[PAD]', '[PAD]', '[PAD]', '[PAD]', '[PAD]', '[PAD]', '[PAD]', '[PAD]', '[PAD]', '[PAD]', '[PAD]', '[PAD]', '[PAD]', '[PAD]', '[PAD]', '[PAD]', '[PAD]', '[PAD]', '[PAD]', '[PAD]', '[PAD]', '[PAD]', '[PAD]', '[PAD]', '[PAD]', '[PAD]', '[PAD]', '[PAD]', '[PAD]', '[PAD]', '[PAD]', '[PAD]', '[PAD]', '[PAD]', '[PAD]', '[PAD]', '[PAD]', '[PAD]', '[PAD]', '[PAD]', '[PAD]', '[PAD]', '[PAD]', '[PAD]', '[PAD]', '[PAD]', '[PAD]', '[PAD]', '[PAD]', '[PAD]', '[PAD]', '[PAD]', '[PAD]', '[PAD]', '[PAD]', '[PAD]', '[PAD]', '[PAD]', '[PAD]', '[PAD]', '[PAD]', '[PAD]', '[PAD]', '[PAD]', '[PAD]', '[PAD]', '[PAD]', '[PAD]', '[PAD]', '[PAD]', '[PAD]', '[PAD]', '[PAD]', '[PAD]', '[PAD]', '[PAD]', '[PAD]', '[PAD]', '[PAD]', '[PAD]', '[PAD]', '[PAD]', '[PAD]', '[PAD]', '[PAD]', '[PAD]', '[PAD]', '[PAD]', '[PAD]', '[PAD]', '[PAD]', '[PAD]', '[PAD]', '[PAD]', '[PAD]', '[PAD]', '[PAD]', '[PAD]', '[PAD]', '[PAD]', '[PAD]', '[PAD]', '[PAD]', '[PAD]', '[PAD]', '[PAD]', '[PAD]', '[PAD]', '[PAD]', '[PAD]', '[PAD]', '[PAD]', '[PAD]', '[PAD]', '[PAD]', '[PAD]', '[PAD]', '[PAD]', '[PAD]', '[PAD]', '[PAD]', '[PAD]', '[PAD]', '[PAD]', '[PAD]', '[PAD]', '[PAD]', '[PAD]', '[PAD]', '[PAD]', '[PAD]', '[PAD]', '[PAD]', '[PAD]', '[PAD]', '[PAD]', '[PAD]', '[PAD]', '[PAD]', '[PAD]', '[PAD]', '[PAD]', '[PAD]', '[PAD]', '[PAD]', '[PAD]', '[PAD]', '[PAD]', '[PAD]', '[PAD]', '[PAD]', '[PAD]', '[PAD]', '[PAD]', '[PAD]', '[PAD]', '[PAD]', '[PAD]', '[PAD]', '[PAD]', '[PAD]', '[PAD]', '[PAD]', '[PAD]', '[PAD]', '[PAD]', '[PAD]', '[PAD]', '[PAD]', '[PAD]', '[PAD]', '[PAD]', '[PAD]', '[PAD]', '[PAD]', '[PAD]', '[PAD]', '[PAD]', '[PAD]', '[PAD]', '[PAD]']\n",
      "summary:\n",
      "['[CLS]', '[unused782]', '[unused782]', '[unused782]', '[unused782]', '[unused782]', '[unused782]', '[unused782]', '[unused782]', '[unused782]', '[unused782]', '[unused782]', '[unused782]', '[unused782]', '[unused782]', '[unused782]', '[unused782]', '[unused782]', '[unused782]', '[unused782]']\n",
      "real summary:\n",
      "['[CLS]', 'labour', 's', 'cunningham', 'to', 'stand', 'down', 'veteran', 'labour', 'mp', 'and', 'former', 'cabinet', 'minister', 'jack', 'cunningham', 'has', 'said', 'he']\n",
      "sentiment: 0\n",
      "y: 4\n",
      "\n",
      "\n",
      "[info] epoch train loss: -0.002953739991952377\n",
      "Epoch 180\n"
     ]
    },
    {
     "data": {
      "application/vnd.jupyter.widget-view+json": {
       "model_id": "145bda5dfaa148ab8228cc00da108864",
       "version_major": 2,
       "version_minor": 0
      },
      "text/plain": [
       "HBox(children=(IntProgress(value=0, max=140), HTML(value='')))"
      ]
     },
     "metadata": {},
     "output_type": "display_data"
    },
    {
     "name": "stdout",
     "output_type": "stream",
     "text": [
      "\n",
      "[info] epoch train loss: -0.002953924272037778\n",
      "Epoch 181\n"
     ]
    },
    {
     "data": {
      "application/vnd.jupyter.widget-view+json": {
       "model_id": "468983c967504ecfa449dcab4eed6635",
       "version_major": 2,
       "version_minor": 0
      },
      "text/plain": [
       "HBox(children=(IntProgress(value=0, max=140), HTML(value='')))"
      ]
     },
     "metadata": {},
     "output_type": "display_data"
    },
    {
     "name": "stdout",
     "output_type": "stream",
     "text": [
      "\n",
      "[info] epoch train loss: -0.002952865860198577\n",
      "Epoch 182\n"
     ]
    },
    {
     "data": {
      "application/vnd.jupyter.widget-view+json": {
       "model_id": "caa69337dfca488388742cb0c5a80dfe",
       "version_major": 2,
       "version_minor": 0
      },
      "text/plain": [
       "HBox(children=(IntProgress(value=0, max=140), HTML(value='')))"
      ]
     },
     "metadata": {},
     "output_type": "display_data"
    },
    {
     "name": "stdout",
     "output_type": "stream",
     "text": [
      "\n",
      "[info] epoch train loss: -0.0029642182233892843\n",
      "Epoch 183\n"
     ]
    },
    {
     "data": {
      "application/vnd.jupyter.widget-view+json": {
       "model_id": "6ddf0c2f2bf64d1ea910717bb5d9291d",
       "version_major": 2,
       "version_minor": 0
      },
      "text/plain": [
       "HBox(children=(IntProgress(value=0, max=140), HTML(value='')))"
      ]
     },
     "metadata": {},
     "output_type": "display_data"
    },
    {
     "name": "stdout",
     "output_type": "stream",
     "text": [
      "\n",
      "[info] epoch train loss: -0.002943687866177079\n",
      "Epoch 184\n"
     ]
    },
    {
     "data": {
      "application/vnd.jupyter.widget-view+json": {
       "model_id": "4f835bcabeca49afa5bfd9e73f14e466",
       "version_major": 2,
       "version_minor": 0
      },
      "text/plain": [
       "HBox(children=(IntProgress(value=0, max=140), HTML(value='')))"
      ]
     },
     "metadata": {},
     "output_type": "display_data"
    },
    {
     "name": "stdout",
     "output_type": "stream",
     "text": [
      "\n",
      "[info] epoch train loss: -0.0029681084148139004\n",
      "Epoch 185\n"
     ]
    },
    {
     "data": {
      "application/vnd.jupyter.widget-view+json": {
       "model_id": "9e551a3d86584169afc1133c6e331e27",
       "version_major": 2,
       "version_minor": 0
      },
      "text/plain": [
       "HBox(children=(IntProgress(value=0, max=140), HTML(value='')))"
      ]
     },
     "metadata": {},
     "output_type": "display_data"
    },
    {
     "name": "stderr",
     "output_type": "stream",
     "text": [
      "IOPub message rate exceeded.\n",
      "The notebook server will temporarily stop sending output\n",
      "to the client in order to avoid crashing it.\n",
      "To change this limit, set the config variable\n",
      "`--NotebookApp.iopub_msg_rate_limit`.\n",
      "\n",
      "Current values:\n",
      "NotebookApp.iopub_msg_rate_limit=1000.0 (msgs/sec)\n",
      "NotebookApp.rate_limit_window=3.0 (secs)\n",
      "\n"
     ]
    },
    {
     "name": "stdout",
     "output_type": "stream",
     "text": [
      "\n",
      "[info] epoch train loss: -0.0029577343359798356\n",
      "Epoch 212\n"
     ]
    },
    {
     "data": {
      "application/vnd.jupyter.widget-view+json": {
       "model_id": "27d2aab004f343048f8c4a20ccfdfce4",
       "version_major": 2,
       "version_minor": 0
      },
      "text/plain": [
       "HBox(children=(IntProgress(value=0, max=140), HTML(value='')))"
      ]
     },
     "metadata": {},
     "output_type": "display_data"
    },
    {
     "name": "stdout",
     "output_type": "stream",
     "text": [
      "\n",
      "[info] epoch train loss: -0.002958131307477282\n",
      "Epoch 213\n"
     ]
    },
    {
     "data": {
      "application/vnd.jupyter.widget-view+json": {
       "model_id": "791d0fdcd3b14ec087cc09483148d310",
       "version_major": 2,
       "version_minor": 0
      },
      "text/plain": [
       "HBox(children=(IntProgress(value=0, max=140), HTML(value='')))"
      ]
     },
     "metadata": {},
     "output_type": "display_data"
    },
    {
     "name": "stdout",
     "output_type": "stream",
     "text": [
      "\n",
      "[info] epoch train loss: -0.00295878821549383\n",
      "Epoch 214\n"
     ]
    },
    {
     "data": {
      "application/vnd.jupyter.widget-view+json": {
       "model_id": "b26f6e7d8cd049e98ff1d3b8fa471d4d",
       "version_major": 2,
       "version_minor": 0
      },
      "text/plain": [
       "HBox(children=(IntProgress(value=0, max=140), HTML(value='')))"
      ]
     },
     "metadata": {},
     "output_type": "display_data"
    },
    {
     "name": "stdout",
     "output_type": "stream",
     "text": [
      "\n",
      "[info] epoch train loss: -0.002949370094124713\n",
      "Epoch 215\n"
     ]
    },
    {
     "data": {
      "application/vnd.jupyter.widget-view+json": {
       "model_id": "eedc71bb8d344ce38e7373bcf300b89f",
       "version_major": 2,
       "version_minor": 0
      },
      "text/plain": [
       "HBox(children=(IntProgress(value=0, max=140), HTML(value='')))"
      ]
     },
     "metadata": {},
     "output_type": "display_data"
    },
    {
     "name": "stdout",
     "output_type": "stream",
     "text": [
      "lay egg to ./Nest ... save as ./Nest/NewbornBird\n",
      "origin:\n",
      "['[CLS]', 'radcliffe', 'yet', 'to', 'answer', 'gb', 'call', 'paula', 'radcliffe', 'has', 'been', 'granted', 'extra', 'time', 'to', 'decide', 'whether', 'to', 'compete', 'in', 'the', 'world', 'cross', '-', 'country', 'championships', '.', 'the', '31', '-', 'year', '-', 'old', 'is', 'concerned', 'the', 'event', 'which', 'starts', 'on', '19', 'march', 'in', 'france', 'could', 'upset', 'her', 'preparations', 'for', 'the', 'london', 'marathon', 'on', '17', 'april', '.', 'there', 'is', 'no', 'question', 'that', 'paula', 'would', 'be', 'a', 'huge', 'asset', 'to', 'the', 'gb', 'team', 'said', 'za', '##ra', 'hyde', 'peters', 'of', 'uk', 'athletics', '.', 'but', 'she', 'is', 'working', 'out', 'whether', 'she', 'can', 'accommodate', 'the', 'worlds', 'without', 'too', 'much', 'compromise', 'in', 'her', 'marathon', 'training', '.', 'radcliffe', 'must', 'make', 'a', 'decision', 'by', 'tuesday', '-', 'the', 'deadline', 'for', 'team', 'nominations', '.', 'british', 'team', 'member', 'hay', '##ley', 'yelling', 'said', 'the', 'team', 'would', 'understand', 'if', 'radcliffe', 'opted', 'out', 'of', 'the', 'event', '.', 'it', 'would', 'be', 'fantastic', 'to', 'have', 'paula', 'in', 'the', 'team', 'said', 'the', 'european', 'cross', '-', 'country', 'champion', '.', 'but', 'you', 'have', 'to', 'remember', 'that', 'athletics', 'is', 'basically', 'an', 'individual', 'sport', 'and', 'anything', 'achieved', 'for', 'the', 'team', 'is', 'a', 'bonus', '.', 'she', 'is', 'not', 'messing', 'us', 'around', '.', 'we', 'all', 'understand', 'the', 'problem', '.', 'radcliffe', 'was', 'world', 'cross', '-', 'country', 'champion', 'in', '2001', 'and', '2002', 'but', 'missed', 'last', 'year', 's', 'event', 'because', 'of', 'injury', '.', 'in', 'her', 'absence', 'the', 'gb', 'team', 'won', 'bronze', 'in', 'brussels', '.', '[SEP]', '[PAD]', '[PAD]', '[PAD]', '[PAD]', '[PAD]', '[PAD]', '[PAD]', '[PAD]', '[PAD]', '[PAD]', '[PAD]', '[PAD]', '[PAD]', '[PAD]', '[PAD]', '[PAD]', '[PAD]', '[PAD]', '[PAD]', '[PAD]', '[PAD]', '[PAD]', '[PAD]', '[PAD]', '[PAD]', '[PAD]', '[PAD]', '[PAD]', '[PAD]', '[PAD]', '[PAD]', '[PAD]', '[PAD]', '[PAD]', '[PAD]', '[PAD]', '[PAD]', '[PAD]', '[PAD]', '[PAD]', '[PAD]', '[PAD]', '[PAD]', '[PAD]', '[PAD]', '[PAD]', '[PAD]', '[PAD]', '[PAD]', '[PAD]', '[PAD]', '[PAD]', '[PAD]', '[PAD]', '[PAD]', '[PAD]', '[PAD]', '[PAD]', '[PAD]', '[PAD]', '[PAD]', '[PAD]', '[PAD]', '[PAD]', '[PAD]', '[PAD]', '[PAD]', '[PAD]', '[PAD]', '[PAD]', '[PAD]', '[PAD]', '[PAD]', '[PAD]', '[PAD]', '[PAD]', '[PAD]', '[PAD]', '[PAD]', '[PAD]', '[PAD]', '[PAD]', '[PAD]', '[PAD]', '[PAD]', '[PAD]', '[PAD]', '[PAD]', '[PAD]', '[PAD]', '[PAD]', '[PAD]', '[PAD]', '[PAD]', '[PAD]', '[PAD]', '[PAD]', '[PAD]', '[PAD]', '[PAD]', '[PAD]', '[PAD]', '[PAD]', '[PAD]', '[PAD]', '[PAD]', '[PAD]', '[PAD]', '[PAD]', '[PAD]', '[PAD]', '[PAD]', '[PAD]', '[PAD]', '[PAD]', '[PAD]', '[PAD]', '[PAD]', '[PAD]', '[PAD]', '[PAD]', '[PAD]', '[PAD]', '[PAD]', '[PAD]', '[PAD]', '[PAD]', '[PAD]', '[PAD]', '[PAD]', '[PAD]', '[PAD]', '[PAD]', '[PAD]', '[PAD]', '[PAD]', '[PAD]', '[PAD]', '[PAD]', '[PAD]', '[PAD]', '[PAD]', '[PAD]', '[PAD]', '[PAD]', '[PAD]', '[PAD]', '[PAD]', '[PAD]', '[PAD]', '[PAD]', '[PAD]', '[PAD]', '[PAD]', '[PAD]', '[PAD]', '[PAD]', '[PAD]', '[PAD]', '[PAD]', '[PAD]', '[PAD]', '[PAD]', '[PAD]', '[PAD]', '[PAD]', '[PAD]', '[PAD]', '[PAD]', '[PAD]', '[PAD]', '[PAD]', '[PAD]', '[PAD]', '[PAD]', '[PAD]', '[PAD]', '[PAD]', '[PAD]', '[PAD]', '[PAD]']\n",
      "summary:\n",
      "['[CLS]', '[unused782]', '[unused782]', '[unused782]', '[unused782]', '[unused782]', '[unused782]', '[unused782]', '[unused782]', '[unused782]', '[unused782]', '[unused782]', '[unused782]', '[unused782]', '[unused782]', '[unused782]', '[unused782]', '[unused782]', '[unused782]', '[unused782]']\n",
      "real summary:\n",
      "['[CLS]', 'radcliffe', 'yet', 'to', 'answer', 'gb', 'call', 'paula', 'radcliffe', 'has', 'been', 'granted', 'extra', 'time', 'to', 'decide', 'whether', 'to', 'compete']\n",
      "sentiment: 0\n",
      "y: 2\n",
      "\n",
      "\n",
      "[info] epoch train loss: -0.002947190108873367\n",
      "Epoch 216\n"
     ]
    },
    {
     "data": {
      "application/vnd.jupyter.widget-view+json": {
       "model_id": "10ebf0c1580f400fb515d2fc27b6adf3",
       "version_major": 2,
       "version_minor": 0
      },
      "text/plain": [
       "HBox(children=(IntProgress(value=0, max=140), HTML(value='')))"
      ]
     },
     "metadata": {},
     "output_type": "display_data"
    },
    {
     "name": "stdout",
     "output_type": "stream",
     "text": [
      "\n",
      "[info] epoch train loss: -0.002955731868032542\n",
      "Epoch 217\n"
     ]
    },
    {
     "data": {
      "application/vnd.jupyter.widget-view+json": {
       "model_id": "0350a1aa216742208f9b96d604b4ffee",
       "version_major": 2,
       "version_minor": 0
      },
      "text/plain": [
       "HBox(children=(IntProgress(value=0, max=140), HTML(value='')))"
      ]
     },
     "metadata": {},
     "output_type": "display_data"
    },
    {
     "name": "stdout",
     "output_type": "stream",
     "text": [
      "\n",
      "[info] epoch train loss: -0.002951590814716717\n",
      "Epoch 218\n"
     ]
    },
    {
     "data": {
      "application/vnd.jupyter.widget-view+json": {
       "model_id": "0ed92d89a28041fe8b52c2a93de542eb",
       "version_major": 2,
       "version_minor": 0
      },
      "text/plain": [
       "HBox(children=(IntProgress(value=0, max=140), HTML(value='')))"
      ]
     },
     "metadata": {},
     "output_type": "display_data"
    },
    {
     "name": "stderr",
     "output_type": "stream",
     "text": [
      "IOPub message rate exceeded.\n",
      "The notebook server will temporarily stop sending output\n",
      "to the client in order to avoid crashing it.\n",
      "To change this limit, set the config variable\n",
      "`--NotebookApp.iopub_msg_rate_limit`.\n",
      "\n",
      "Current values:\n",
      "NotebookApp.iopub_msg_rate_limit=1000.0 (msgs/sec)\n",
      "NotebookApp.rate_limit_window=3.0 (secs)\n",
      "\n"
     ]
    },
    {
     "name": "stdout",
     "output_type": "stream",
     "text": [
      "\n",
      "[info] epoch train loss: -0.002952785489832177\n",
      "Epoch 247\n"
     ]
    },
    {
     "data": {
      "application/vnd.jupyter.widget-view+json": {
       "model_id": "1ed2311b2cb04f6d84d08bfacabaf9b8",
       "version_major": 2,
       "version_minor": 0
      },
      "text/plain": [
       "HBox(children=(IntProgress(value=0, max=140), HTML(value='')))"
      ]
     },
     "metadata": {},
     "output_type": "display_data"
    },
    {
     "name": "stdout",
     "output_type": "stream",
     "text": [
      "\n",
      "[info] epoch train loss: -0.0029516228906317585\n",
      "Epoch 248\n"
     ]
    },
    {
     "data": {
      "application/vnd.jupyter.widget-view+json": {
       "model_id": "9ad5b23a4bd842b6a006b6d1d4fccf05",
       "version_major": 2,
       "version_minor": 0
      },
      "text/plain": [
       "HBox(children=(IntProgress(value=0, max=140), HTML(value='')))"
      ]
     },
     "metadata": {},
     "output_type": "display_data"
    },
    {
     "name": "stdout",
     "output_type": "stream",
     "text": [
      "\n",
      "[info] epoch train loss: -0.0029521522437203373\n",
      "Epoch 249\n"
     ]
    },
    {
     "data": {
      "application/vnd.jupyter.widget-view+json": {
       "model_id": "8563e41e51e04acbaecf0bf44cb9008a",
       "version_major": 2,
       "version_minor": 0
      },
      "text/plain": [
       "HBox(children=(IntProgress(value=0, max=140), HTML(value='')))"
      ]
     },
     "metadata": {},
     "output_type": "display_data"
    },
    {
     "name": "stdout",
     "output_type": "stream",
     "text": [
      "\n",
      "[info] epoch train loss: -0.002953495421253186\n",
      "Epoch 250\n"
     ]
    },
    {
     "data": {
      "application/vnd.jupyter.widget-view+json": {
       "model_id": "260d4e068c96498ba1f2899482164b50",
       "version_major": 2,
       "version_minor": 0
      },
      "text/plain": [
       "HBox(children=(IntProgress(value=0, max=140), HTML(value='')))"
      ]
     },
     "metadata": {},
     "output_type": "display_data"
    },
    {
     "name": "stdout",
     "output_type": "stream",
     "text": [
      "lay egg to ./Nest ... save as ./Nest/NewbornBird\n",
      "origin:\n",
      "['[CLS]', 'my', 'memories', 'of', 'marley', '.', '.', '.', 'to', 'mark', 'the', '60th', 'anniversary', 'of', 'the', 'birth', 'of', 'reggae', 'star', 'bob', 'marley', 'rob', 'partridge', '-', 'marley', 's', 'former', 'head', 'of', 'press', 'at', 'island', 'records', '-', 'remembers', 'the', 'man', 'behind', 'the', 'legend', '.', 'partridge', 'worked', 'with', 'marley', 'from', '1977', 'until', 'the', 'jamaican', 'musician', 's', 'death', 'in', '1981', '.', ':', 'i', 'joined', 'island', 'records', 'in', '1977', 'and', 'the', 'first', 'week', 'i', 'was', 'there', 'i', 'worked', 'on', 'his', 'show', 'at', 'the', 'rainbow', 'theatre', '.', 'it', 'was', 'one', 'of', 'the', 'last', 'dates', 'he', 'did', 'in', 'london', '.', ':', 'the', 'album', 'exodus', 'came', 'out', 'in', '1977', 'and', 'that', 'provided', 'five', 'hits', 'and', 'confirmed', 'his', 'global', 'superstar', 'status', '.', 'by', '1979', 'he', 'was', 'the', 'biggest', 'touring', 'attraction', 'in', 'the', 'world', '.', 'i', 'remember', 'going', 'to', 'see', 'dates', 'in', 'milan', 'and', 'turin', 'and', 'they', 'were', 'enormous', 'concerts', '.', ':', 'bob', 'was', 'one', 'of', 'the', 'most', 'me', '##sm', '##eric', 'people', 'i', 've', 'ever', 'had', 'the', 'privilege', 'to', 'work', 'with', '.', 'he', 'must', 'have', 'had', 'an', 'iron', 'will', 'to', 'succeed', '.', 'bob', 'was', 'a', 'very', 'driven', 'individual', '.', 'you', 'realised', 'from', 'the', 'start', 'there', 'was', 'a', 'manifest', 'destiny', 'within', 'him', 'that', 'he', 'believed', 'in', '.', 'he', 'didn', 't', 'suffer', 'fools', 'gladly', '.', 'at', 'the', 'risk', 'of', 'stating', 'the', 'obvious', 'he', 'was', 'an', 'extraordinary', 'song', 'writer', 'and', 'his', 'stage', 'act', 'was', 'perhaps', 'the', 'greatest', 'i', 've', 'ever', 'seen', '.', 'i', 'saw', 'him', 'many', 'times', '.', ':', 'i', 'recall', 'in', '1978', 'he', 'came', 'to', 'the', 'uk', 'for', 'top', 'of', 'the', 'pops', 'and', 'a', 'daily', 'mirror', 'journalist', 'did', 'a', 'half', '-', 'hour', 'interview', '.', 'it', 'was', 'interrupted', 'to', 'do', 'a', 'rehearsal', '.', 'he', 'came', 'back', 'into', 'the', 'dressing', 'room', 'to', 'resume', 'the', 'interview', 'but', 'saw', 'a', 'world', 'cup', 'match', 'on', 'tv', '.', 'he', 'sat', 'down', 'in', 'front', 'of', 'the', 'tv', 'and', 'after', '10', 'minutes', 'it', 'was', 'obvious', 'he', 'wasn', 't', 'going', 'to', 'move', '.', 'that', 'was', 'the', 'end', 'of', 'it', '.', 'the', 'mirror', 'had', 'a', 'very', 'truncated', 'interview', '.', 'the', 'last', 'time', 'i', 'saw', 'him', 'was', 'in', 'london', 'in', '1980', '.', 'i', 'arranged', 'for', 'him', 'to', 'play', 'four', 'days', 'of', 'football', 'indoors', 'in', 'fulham', '.', 'bob', 'was', 'a', 'good', 'player', '.', 'we', 'are', 'talking', 'about', 'jamaican', '-', 'style', 'football', '.', 'he', 'was', 'an', 'attacking', 'midfield', 'player', '.', 'his', 'team', 'assembled', 'wherever', 'his', 'gigs', 'were', '.', 'we', 'played', 'in', 'brazil', 'against', 'some', 'world', 'cup', '-', 'winning', 'players', '.', ':', 'it', 'was', 'always', 'a', 'struggle']\n",
      "summary:\n",
      "['[CLS]', '[unused782]', '[unused782]', '[unused782]', '[unused782]', '[unused782]', '[unused782]', '[unused782]', '[unused782]', '[unused782]', '[unused782]', '[unused782]', '[unused782]', '[unused782]', '[unused782]', '[unused782]', '[unused782]', '[unused782]', '[unused782]', '[unused782]']\n",
      "real summary:\n",
      "['[CLS]', 'my', 'memories', 'of', 'marley', '.', '.', '.', 'to', 'mark', 'the', '60th', 'anniversary', 'of', 'the', 'birth', 'of', 'reggae', 'star']\n",
      "sentiment: 0\n",
      "y: 3\n",
      "\n",
      "\n",
      "[info] epoch train loss: -0.0029591529890068808\n",
      "Epoch 251\n"
     ]
    },
    {
     "data": {
      "application/vnd.jupyter.widget-view+json": {
       "model_id": "22e5f10447134282a1207e9eae12f1d7",
       "version_major": 2,
       "version_minor": 0
      },
      "text/plain": [
       "HBox(children=(IntProgress(value=0, max=140), HTML(value='')))"
      ]
     },
     "metadata": {},
     "output_type": "display_data"
    },
    {
     "name": "stdout",
     "output_type": "stream",
     "text": [
      "\n",
      "[info] epoch train loss: -0.002951737461834839\n",
      "Epoch 252\n"
     ]
    },
    {
     "data": {
      "application/vnd.jupyter.widget-view+json": {
       "model_id": "0ea738a0b3db4c3093571ab6085d974f",
       "version_major": 2,
       "version_minor": 0
      },
      "text/plain": [
       "HBox(children=(IntProgress(value=0, max=140), HTML(value='')))"
      ]
     },
     "metadata": {},
     "output_type": "display_data"
    },
    {
     "name": "stdout",
     "output_type": "stream",
     "text": [
      "\n",
      "[info] epoch train loss: -0.0029632769973097035\n",
      "Epoch 253\n"
     ]
    },
    {
     "data": {
      "application/vnd.jupyter.widget-view+json": {
       "model_id": "791d206eacee406d895c8c5efa57cadf",
       "version_major": 2,
       "version_minor": 0
      },
      "text/plain": [
       "HBox(children=(IntProgress(value=0, max=140), HTML(value='')))"
      ]
     },
     "metadata": {},
     "output_type": "display_data"
    },
    {
     "name": "stderr",
     "output_type": "stream",
     "text": [
      "IOPub message rate exceeded.\n",
      "The notebook server will temporarily stop sending output\n",
      "to the client in order to avoid crashing it.\n",
      "To change this limit, set the config variable\n",
      "`--NotebookApp.iopub_msg_rate_limit`.\n",
      "\n",
      "Current values:\n",
      "NotebookApp.iopub_msg_rate_limit=1000.0 (msgs/sec)\n",
      "NotebookApp.rate_limit_window=3.0 (secs)\n",
      "\n"
     ]
    },
    {
     "name": "stdout",
     "output_type": "stream",
     "text": [
      "\n",
      "[info] epoch train loss: -0.002958837398123482\n",
      "Epoch 282\n"
     ]
    },
    {
     "data": {
      "application/vnd.jupyter.widget-view+json": {
       "model_id": "fc2ed5db03fc4ee3bb265bc8b7cb35ff",
       "version_major": 2,
       "version_minor": 0
      },
      "text/plain": [
       "HBox(children=(IntProgress(value=0, max=140), HTML(value='')))"
      ]
     },
     "metadata": {},
     "output_type": "display_data"
    },
    {
     "name": "stdout",
     "output_type": "stream",
     "text": [
      "\n",
      "[info] epoch train loss: -0.0029629544041531474\n",
      "Epoch 283\n"
     ]
    },
    {
     "data": {
      "application/vnd.jupyter.widget-view+json": {
       "model_id": "92d71b7e8b8d4105a1beb966136e6d7c",
       "version_major": 2,
       "version_minor": 0
      },
      "text/plain": [
       "HBox(children=(IntProgress(value=0, max=140), HTML(value='')))"
      ]
     },
     "metadata": {},
     "output_type": "display_data"
    },
    {
     "name": "stdout",
     "output_type": "stream",
     "text": [
      "\n",
      "[info] epoch train loss: -0.002959746496127209\n",
      "Epoch 284\n"
     ]
    },
    {
     "data": {
      "application/vnd.jupyter.widget-view+json": {
       "model_id": "d3bb0f80338446edb8f62e31bd0e0ad3",
       "version_major": 2,
       "version_minor": 0
      },
      "text/plain": [
       "HBox(children=(IntProgress(value=0, max=140), HTML(value='')))"
      ]
     },
     "metadata": {},
     "output_type": "display_data"
    },
    {
     "name": "stdout",
     "output_type": "stream",
     "text": [
      "\n",
      "[info] epoch train loss: -0.002959099332029171\n",
      "Epoch 285\n"
     ]
    },
    {
     "data": {
      "application/vnd.jupyter.widget-view+json": {
       "model_id": "df27b15e9a59469d87238ba61135004f",
       "version_major": 2,
       "version_minor": 0
      },
      "text/plain": [
       "HBox(children=(IntProgress(value=0, max=140), HTML(value='')))"
      ]
     },
     "metadata": {},
     "output_type": "display_data"
    },
    {
     "name": "stdout",
     "output_type": "stream",
     "text": [
      "\n",
      "[info] epoch train loss: -0.0029663561219579215\n",
      "Epoch 286\n"
     ]
    },
    {
     "data": {
      "application/vnd.jupyter.widget-view+json": {
       "model_id": "d1ebf480708d48a1a9234f1612828769",
       "version_major": 2,
       "version_minor": 0
      },
      "text/plain": [
       "HBox(children=(IntProgress(value=0, max=140), HTML(value='')))"
      ]
     },
     "metadata": {},
     "output_type": "display_data"
    },
    {
     "name": "stdout",
     "output_type": "stream",
     "text": [
      "lay egg to ./Nest ... save as ./Nest/NewbornBird\n",
      "origin:\n",
      "['[CLS]', 'three', 'djs', 'replace', 'peel', 'radio', 'show', 'the', 'late', 'john', 'peel', 's', 'bbc', 'radio', '1', 'show', 'is', 'to', 'be', 'succeeded', 'in', 'february', 'by', 'three', 'shows', 'hosted', 'by', 'three', 'djs', 'focusing', 'on', 'diverse', 'non', '-', 'commercial', 'music', '.', 'hu', '##w', 'stephens', 'ras', 'kw', '##ame', 'and', 'rob', 'da', 'bank', 'will', 'each', 'host', 'the', 'mid', '-', 'week', 'late', '-', 'night', 'times', '##lot', 'showcasing', 'uk', 'talent', '.', 'radio', '1', 'said', 'the', 'show', 'would', 'not', 'try', 'to', 'replace', 'peel', 'but', 'would', 'rise', 'to', 'the', 'challenge', 'of', 'keeping', 'his', 'legacy', 'alive', 'with', 'unpredictable', 'music', '.', 'peel', 'died', 'after', 'suffering', 'a', 'heart', 'attack', 'in', 'peru', 'in', 'october', '.', 'radio', '1', 'said', 'the', 'three', 'djs', 'had', 'been', 'chosen', 'for', 'their', 'in', '-', 'depth', 'musical', 'knowledge', 'across', 'a', 'variety', 'of', 'musical', 'genres', '.', 'rob', 'da', 'bank', 'has', 'been', 'hosting', 'the', 'john', 'peel', 'show', 'since', 'the', 'dj', 's', 'death', '.', 'he', 'is', 'also', 'one', 'of', 'the', 'hosts', 'of', 'the', 'blue', 'room', 'an', 'early', 'morning', 'weekend', 'show', 'that', 'plays', 'a', 'mix', 'of', 'old', 'and', 'new', 'electronic', 'and', 'dance', 'music', '.', 'hu', '##w', 'stephens', 'is', 'currently', 'one', 'half', 'of', 'the', 'radio', '1', 'thursday', 'night', 'show', 'beth', '##an', 'and', 'hu', '##w', 'in', 'wales', 'which', 'explores', 'new', 'music', 'especially', 'up', 'and', 'coming', 'acts', 'breaking', 'through', 'in', 'wales', '.', 'and', 'ras', 'kw', '##ame', 'is', 'the', 'host', 'of', '100', '%', 'home', '##gr', '##own', 'on', 'radio', '1', 's', 'digital', 'station', '1', '##xt', '##ra', '.', 'his', 'show', 'is', 'dedicated', 'to', 'showcasing', 'the', 'best', 'of', 'uk', 'black', 'music', 'and', 'broadcasts', 'live', 'sessions', 'often', 'giving', 'new', 'artists', 'their', 'first', 'chance', 'to', 'perform', 'on', 'live', 'national', 'radio', '.', 'all', 'of', 'the', 'three', 'djs', 'will', 'continue', 'to', 'host', 'their', 'current', 'shows', 'on', 'radio', '1', '.', 'it', 'is', 'widely', 'accepted', 'that', 'john', 'peel', 'can', 'never', 'be', 'replaced', 'said', 'the', 'radio', 'station', '.', 'it', 'added', 'that', 'one', 'music', 'would', 'support', 'both', 'signed', 'and', 'unsigned', 'talent', 'and', 'said', ':', 'it', 'will', 'seek', 'out', 'those', 'making', 'music', 'for', 'music', 's', 'sake', 'rather', 'than', 'for', 'commercial', 'success', '.', 'above', 'all', 'it', 'will', 'provide', 'support', 'to', 'emerging', 'genres', 'of', 'music', 'and', 'styles', 'that', 'have', 'not', 'yet', 'and', 'may', 'never', 'reach', 'the', 'mainstream', '.', 'one', 'music', 'is', 'not', 'new', 'to', 'radio', '1', 'as', 'it', 'already', 'exists', 'as', 'a', 'website', 'offering', 'advice', 'on', 'aspects', 'of', 'the', 'music', 'industry', 'such', 'as', 'recording', 'a', 'demo', 'and', 'signing', 'a', 'record', 'contract', '.', 'radio', '1', 's', 'controller', 'andy', 'par', '##fi', '##tt', 'said', ':', 'we', 'believe', 'that', 'by', 'having', 'a', 'series', 'of', 'djs', 'hosting', 'a']\n",
      "summary:\n",
      "['[CLS]', '[unused782]', '[unused782]', '[unused782]', '[unused782]', '[unused782]', '[unused782]', '[unused782]', '[unused782]', '[unused782]', '[unused782]', '[unused782]', '[unused782]', '[unused782]', '[unused782]', '[unused782]', '[unused782]', '[unused782]', '[unused782]', '[unused782]']\n",
      "real summary:\n",
      "['[CLS]', 'three', 'djs', 'replace', 'peel', 'radio', 'show', 'the', 'late', 'john', 'peel', 's', 'bbc', 'radio', '1', 'show', 'is', 'to', 'be']\n",
      "sentiment: 0\n",
      "y: 3\n",
      "\n",
      "\n",
      "[info] epoch train loss: -0.002951830192906638\n",
      "Epoch 287\n"
     ]
    },
    {
     "data": {
      "application/vnd.jupyter.widget-view+json": {
       "model_id": "c26d630da93f41299dac16ee7e31f43c",
       "version_major": 2,
       "version_minor": 0
      },
      "text/plain": [
       "HBox(children=(IntProgress(value=0, max=140), HTML(value='')))"
      ]
     },
     "metadata": {},
     "output_type": "display_data"
    },
    {
     "name": "stdout",
     "output_type": "stream",
     "text": [
      "\n",
      "[info] epoch train loss: -0.002963030316656891\n",
      "Epoch 288\n"
     ]
    },
    {
     "data": {
      "application/vnd.jupyter.widget-view+json": {
       "model_id": "1c9d1b8c14b245d5a7f02ff44a85f404",
       "version_major": 2,
       "version_minor": 0
      },
      "text/plain": [
       "HBox(children=(IntProgress(value=0, max=140), HTML(value='')))"
      ]
     },
     "metadata": {},
     "output_type": "display_data"
    },
    {
     "name": "stderr",
     "output_type": "stream",
     "text": [
      "IOPub message rate exceeded.\n",
      "The notebook server will temporarily stop sending output\n",
      "to the client in order to avoid crashing it.\n",
      "To change this limit, set the config variable\n",
      "`--NotebookApp.iopub_msg_rate_limit`.\n",
      "\n",
      "Current values:\n",
      "NotebookApp.iopub_msg_rate_limit=1000.0 (msgs/sec)\n",
      "NotebookApp.rate_limit_window=3.0 (secs)\n",
      "\n"
     ]
    },
    {
     "name": "stdout",
     "output_type": "stream",
     "text": [
      "\n",
      "[info] epoch train loss: -0.0029520435138173135\n",
      "Epoch 316\n"
     ]
    },
    {
     "data": {
      "application/vnd.jupyter.widget-view+json": {
       "model_id": "28f9d2d6ac954dacb37aade8048fc8d7",
       "version_major": 2,
       "version_minor": 0
      },
      "text/plain": [
       "HBox(children=(IntProgress(value=0, max=140), HTML(value='')))"
      ]
     },
     "metadata": {},
     "output_type": "display_data"
    },
    {
     "name": "stdout",
     "output_type": "stream",
     "text": [
      "\n",
      "[info] epoch train loss: -0.0029355574465755904\n",
      "Epoch 317\n"
     ]
    },
    {
     "data": {
      "application/vnd.jupyter.widget-view+json": {
       "model_id": "efd0c9573e4d467ab1a193f80d23939c",
       "version_major": 2,
       "version_minor": 0
      },
      "text/plain": [
       "HBox(children=(IntProgress(value=0, max=140), HTML(value='')))"
      ]
     },
     "metadata": {},
     "output_type": "display_data"
    },
    {
     "name": "stdout",
     "output_type": "stream",
     "text": [
      "\n",
      "[info] epoch train loss: -0.0029538123132494677\n",
      "Epoch 318\n"
     ]
    },
    {
     "data": {
      "application/vnd.jupyter.widget-view+json": {
       "model_id": "edb3605c8ecf4e19a650f000f6fac5b7",
       "version_major": 2,
       "version_minor": 0
      },
      "text/plain": [
       "HBox(children=(IntProgress(value=0, max=140), HTML(value='')))"
      ]
     },
     "metadata": {},
     "output_type": "display_data"
    },
    {
     "name": "stdout",
     "output_type": "stream",
     "text": [
      "\n",
      "[info] epoch train loss: -0.002952217118997526\n",
      "Epoch 319\n"
     ]
    },
    {
     "data": {
      "application/vnd.jupyter.widget-view+json": {
       "model_id": "af2b98b231e94ed4833546b5f30766d8",
       "version_major": 2,
       "version_minor": 0
      },
      "text/plain": [
       "HBox(children=(IntProgress(value=0, max=140), HTML(value='')))"
      ]
     },
     "metadata": {},
     "output_type": "display_data"
    },
    {
     "name": "stdout",
     "output_type": "stream",
     "text": [
      "\n",
      "[info] epoch train loss: -0.0029632768755878456\n",
      "Epoch 320\n"
     ]
    },
    {
     "data": {
      "application/vnd.jupyter.widget-view+json": {
       "model_id": "9bc56fbb705c4fa39b599d8f7695973b",
       "version_major": 2,
       "version_minor": 0
      },
      "text/plain": [
       "HBox(children=(IntProgress(value=0, max=140), HTML(value='')))"
      ]
     },
     "metadata": {},
     "output_type": "display_data"
    },
    {
     "name": "stdout",
     "output_type": "stream",
     "text": [
      "\n",
      "[info] epoch train loss: -0.0029579750447218042\n",
      "Epoch 321\n"
     ]
    },
    {
     "data": {
      "application/vnd.jupyter.widget-view+json": {
       "model_id": "a7022973a46d49ef9bc3bc30f3301bc1",
       "version_major": 2,
       "version_minor": 0
      },
      "text/plain": [
       "HBox(children=(IntProgress(value=0, max=140), HTML(value='')))"
      ]
     },
     "metadata": {},
     "output_type": "display_data"
    },
    {
     "name": "stdout",
     "output_type": "stream",
     "text": [
      "\n",
      "[info] epoch train loss: -0.0029456137991344025\n",
      "Epoch 322\n"
     ]
    },
    {
     "data": {
      "application/vnd.jupyter.widget-view+json": {
       "model_id": "460d724a526e4640927a7b0f6bee692d",
       "version_major": 2,
       "version_minor": 0
      },
      "text/plain": [
       "HBox(children=(IntProgress(value=0, max=140), HTML(value='')))"
      ]
     },
     "metadata": {},
     "output_type": "display_data"
    },
    {
     "name": "stdout",
     "output_type": "stream",
     "text": [
      "lay egg to ./Nest ... save as ./Nest/NewbornBird\n",
      "origin:\n",
      "['[CLS]', 'brown', 'targets', 'o', '##ap', '##s', 'and', 'home', '##bu', '##yer', '##s', 'gordon', 'brown', 'has', 'doubled', 'the', 'level', 'at', 'which', 'house', 'buyers', 'pay', 'stamp', 'duty', 'to', '£1', '##20', '000', 'as', 'he', 'put', 'the', 'economy', 'at', 'the', 'heart', 'of', 'labour', 's', 'election', 'campaign', '.', 'the', 'chancellor', 'also', 'unveiled', 'a', 'one', '-', 'off', '£2', '##00', 'council', 'tax', 'ref', '##und', 'for', 'pension', '##ers', 'and', 'a', 'rise', 'in', 'child', 'tax', 'credit', '.', 'mr', 'brown', 'put', '1', '##p', 'a', 'pin', '##t', 'on', 'beer', '4', '##p', 'on', 'a', 'bottle', 'of', 'wine', 'and', '7', '##p', 'on', '20', 'cigarettes', 'but', 'froze', 'petrol', 'duty', 'until', 'september', '.', 'the', 'tori', '##es', 'called', 'it', 'a', 'vote', 'now', 'pay', 'later', 'budget', '.', 'the', 'li', '##b', 'dem', '##s', 'branded', 'it', 'a', 'sticking', 'plaster', 'for', 'the', 'election', '.', 'tory', 'leader', 'michael', 'howard', 'predicted', 'the', 'budget', 'would', 'do', 'nothing', 'to', 'help', 'labour', 's', 'fa', '##lter', '##ing', 'election', 'campaign', '.', 'this', 'government', 'and', 'this', 'chancellor', 'have', 'run', 'out', 'of', 'solutions', 'to', 'the', 'problems', 'britain', 'faces', 'mr', 'howard', 'told', 'mps', '.', 'their', 'only', 'answer', 'is', 'to', 'tax', 'to', 'spend', 'and', 'to', 'waste', '-', 'to', 'get', 'people', 'to', 'vote', 'now', 'and', 'pay', 'later', '.', 'he', 'ended', 'his', 'response', 'with', 'an', 'election', 'challenge', 'to', 'labour', 'saying', 'bring', 'it', 'on', '.', 'liberal', 'democrat', 'leader', 'charles', 'kennedy', 'attacked', 'mr', 'brown', 'for', 'failing', 'to', 'mention', 'the', 'environment', 'and', 'for', 'his', 'record', 'on', 'social', 'justice', '.', 'how', 'can', 'it', 'be', 'right', 'in', 'britain', 'today', 'that', 'the', 'poor', '##est', '20', '%', 'pay', 'more', 'in', 'tax', 'as', 'a', 'proportion', 'of', 'their', 'income', 'than', 'the', 'richest', '20', '%', 'he', 'asked', '.', 'mr', 'kennedy', 'criticised', 'mr', 'brown', 'for', 'failing', 'to', 'mention', 'the', 'ticking', 'bomb', 'of', 'council', 'tax', 'rev', '##al', '##uation', 'saying', 'it', 'was', 'high', 'time', 'the', 'system', 'was', 'replaced', 'by', 'a', 'local', 'tax', 'based', 'on', 'the', 'ability', 'to', 'pay', '.', 'during', 'his', '49', 'minute', 'speech', 'mr', 'brown', 'told', 'mps', 'he', 'had', 'def', '##ied', 'the', 'pun', '##dit', '##s', 'by', 'hitting', 'his', 'growth', 'target', 'of', '3', '.', '1', '%', 'for', '2004', '.', 'he', 'said', 'his', 'budget', 'struck', 'a', 'balance', 'between', 'tax', 'cuts', 'that', 'are', 'affordable', 'investments', 'that', 'are', 'essential', 'and', 'stability', 'that', 'is', 'paramount', '.', 'he', 'rejected', 'across', '-', 'the', '-', 'board', 'tax', 'cuts', 'in', 'favour', 'of', 'targeted', 'help', 'for', 'families', '.', 'the', 'child', 'tax', 'credit', 'will', 'rise', 'in', 'line', 'with', 'earnings', 'giving', 'families', 'an', 'extra', '£5', 'a', 'week', '.', 'in', 'contrast', 'the', 'personal', 'income', 'tax', 'allowance', 'will', 'rise', 'only', 'in', 'line', 'with', 'inflation', 'from', '£', '##4', '74', '##5', 'to']\n",
      "summary:\n",
      "['[CLS]', '[unused782]', '[unused782]', '[unused782]', '[unused782]', '[unused782]', '[unused782]', '[unused782]', '[unused782]', '[unused782]', '[unused782]', '[unused782]', '[unused782]', '[unused782]', '[unused782]', '[unused782]', '[unused782]', '[unused782]', '[unused782]', '[unused782]']\n",
      "real summary:\n",
      "['[CLS]', 'brown', 'targets', 'o', '##ap', '##s', 'and', 'home', '##bu', '##yer', '##s', 'gordon', 'brown', 'has', 'doubled', 'the', 'level', 'at', 'which']\n",
      "sentiment: 0\n",
      "y: 4\n",
      "\n"
     ]
    },
    {
     "name": "stderr",
     "output_type": "stream",
     "text": [
      "IOPub message rate exceeded.\n",
      "The notebook server will temporarily stop sending output\n",
      "to the client in order to avoid crashing it.\n",
      "To change this limit, set the config variable\n",
      "`--NotebookApp.iopub_msg_rate_limit`.\n",
      "\n",
      "Current values:\n",
      "NotebookApp.iopub_msg_rate_limit=1000.0 (msgs/sec)\n",
      "NotebookApp.rate_limit_window=3.0 (secs)\n",
      "\n"
     ]
    },
    {
     "name": "stdout",
     "output_type": "stream",
     "text": [
      "lay egg to ./Nest ... save as ./Nest/NewbornBird\n",
      "origin:\n",
      "['[CLS]', 'kris', '##py', 'k', '##rem', '##e', 'shares', 'hit', 'shares', 'in', 'kris', '##py', 'k', '##rem', '##e', 'dough', '##nut', '##s', 'have', 'taken', 'a', 'dun', '##king', 'on', 'wall', 'street', 'after', 'the', 'firm', 'revealed', 'it', 'would', 'have', 'to', 'rest', '##ate', 'its', '2004', 'financial', 'reports', '.', 'the', 'company', 'warned', 'the', 'move', 'would', 'cut', 'its', 'profits', 'by', '$', '3', '.', '8', '##m', 'to', '$', '4', '.', '9', '##m', '(', '£2', '##m', 'to', '£2', '.', '6', '##m', ')', '-', 'or', 'between', '6', '.', '6', '%', 'and', '8', '.', '6', '%', '.', 'kris', '##py', 'k', '##rem', '##e', 'said', 'accounting', 'errors', 'had', 'forced', 'the', 'move', 'adding', 'that', 'its', 'board', 'of', 'directors', 'made', 'the', 'decision', 'to', 'rest', '##ate', 'its', 'accounts', 'on', '28', 'december', '.', 'however', 'the', 'company', 'was', 'unavailable', 'to', 'comment', 'on', 'why', 'it', 'had', 'delayed', 'the', 'news', '.', 'it', 'also', 'warned', 'it', 'might', 'have', 'to', 'further', 'rest', '##ate', 'results', 'for', '2004', 'and', '2005', '.', 'shares', 'in', 'kris', '##py', 'k', '##rem', '##e', 'sank', '14', '.', '87', '%', '-', 'or', '$', '1', '.', '83', '-', 'to', 'close', 'at', '$', '10', '.', '48', 'on', 'the', 'news', '.', 'the', 'revelation', 'comes', 'just', 'a', 'month', 'after', 'the', 'firm', 'warned', 'earnings', 'would', 'be', 'cut', 'by', 'as', 'much', 'as', '7', '.', '6', '%', 'as', 'a', 'result', 'of', 'accounting', 'errors', '.', 'kris', '##py', 'k', '##rem', '##e', 'said', 'the', 'latest', 'adjustments', 'involved', 'the', 'way', 'it', 'accounted', 'for', 'the', 'rep', '##ur', '##chase', 'of', 'three', 'franchise', 'restaurants', '.', 'it', 'added', 'it', 'would', 'now', 'be', 'reviewing', 'how', 'it', 'accounts', 'for', 'its', 'leases', '.', 'in', 'a', 'further', 'blow', 'the', 'firm', 'said', 'it', 'had', 'been', 'advised', 'that', 'some', 'of', 'its', 'franchise', 'owners', 'were', 'not', 'in', 'compliance', 'with', 'their', 'loan', 'agreements', 'and', 'warned', 'it', 'might', 'need', 'to', 'borrow', 'extra', 'money', 'if', 'it', 'was', 'required', 'to', 'honour', 'agreements', 'on', 'franchise', '##e', 'debts', 'or', 'operating', 'leases', '.', 'kris', '##py', 'k', '##rem', '##e', 'added', 'that', 'it', 'had', 'enough', 'cash', 'to', 'fund', 'its', 'current', 'operations', 'but', 'it', 'could', 'not', 'borrow', 'any', 'more', 'under', 'its', 'existing', 'agreements', '.', 'there', 'are', 'many', 'more', 'questions', 'than', 'answers', 'especially', 'given', 'increased', 'concerns', 'regarding', 'company', 'liquid', '##ity', 'jp', 'morgan', 'securities', 'analyst', 'john', 'ivan', '##ko', '##e', 'said', 'in', 'a', 'research', 'note', 'on', 'the', 'firm', '.', 'the', 'announcement', 'is', 'the', 'latest', 'blow', 'for', 'the', 'one', '-', 'time', 'darling', 'of', 'wall', 'street', 'which', 'has', 'lost', '80', '%', 'of', 'its', 'stock', 'value', 'in', 'just', 'over', 'a', 'year', '.', 'the', 'firm', 'is', 'currently', 'facing', 'securities', 'and', 'exchange', 'commission', 'investigation', 'of', 'its', 'accounts', '.', 'shareholders', 'have', 'also', 'launched', 'lawsuits']\n",
      "summary:\n",
      "['[CLS]', '[unused782]', '[unused782]', '[unused782]', '[unused782]', '[unused782]', '[unused782]', '[unused782]', '[unused782]', '[unused782]', '[unused782]', '[unused782]', '[unused782]', '[unused782]', '[unused782]', '[unused782]', '[unused782]', '[unused782]', '[unused782]', '[unused782]']\n",
      "real summary:\n",
      "['[CLS]', 'kris', '##py', 'k', '##rem', '##e', 'shares', 'hit', 'shares', 'in', 'kris', '##py', 'k', '##rem', '##e', 'dough', '##nut', '##s', 'have']\n",
      "sentiment: 0\n",
      "y: 1\n",
      "\n",
      "\n",
      "[info] epoch train loss: -0.002956971815729048\n",
      "Epoch 351\n"
     ]
    },
    {
     "data": {
      "application/vnd.jupyter.widget-view+json": {
       "model_id": "95c753963c194459b54fece7afca6e6f",
       "version_major": 2,
       "version_minor": 0
      },
      "text/plain": [
       "HBox(children=(IntProgress(value=0, max=140), HTML(value='')))"
      ]
     },
     "metadata": {},
     "output_type": "display_data"
    },
    {
     "name": "stdout",
     "output_type": "stream",
     "text": [
      "\n",
      "[info] epoch train loss: -0.00295154693823341\n",
      "Epoch 352\n"
     ]
    },
    {
     "data": {
      "application/vnd.jupyter.widget-view+json": {
       "model_id": "4dde4bf096a947e68651713bb5d78db3",
       "version_major": 2,
       "version_minor": 0
      },
      "text/plain": [
       "HBox(children=(IntProgress(value=0, max=140), HTML(value='')))"
      ]
     },
     "metadata": {},
     "output_type": "display_data"
    },
    {
     "name": "stdout",
     "output_type": "stream",
     "text": [
      "\n",
      "[info] epoch train loss: -0.0029560602288776342\n",
      "Epoch 353\n"
     ]
    },
    {
     "data": {
      "application/vnd.jupyter.widget-view+json": {
       "model_id": "5852710e057c473fb22b2e050380e5f5",
       "version_major": 2,
       "version_minor": 0
      },
      "text/plain": [
       "HBox(children=(IntProgress(value=0, max=140), HTML(value='')))"
      ]
     },
     "metadata": {},
     "output_type": "display_data"
    },
    {
     "name": "stdout",
     "output_type": "stream",
     "text": [
      "\n",
      "[info] epoch train loss: -0.002951593427860644\n",
      "Epoch 354\n"
     ]
    },
    {
     "data": {
      "application/vnd.jupyter.widget-view+json": {
       "model_id": "0a719e3b93b345a1b8194c15296e0fd3",
       "version_major": 2,
       "version_minor": 0
      },
      "text/plain": [
       "HBox(children=(IntProgress(value=0, max=140), HTML(value='')))"
      ]
     },
     "metadata": {},
     "output_type": "display_data"
    },
    {
     "name": "stdout",
     "output_type": "stream",
     "text": [
      "\n",
      "[info] epoch train loss: -0.002940342305269691\n",
      "Epoch 355\n"
     ]
    },
    {
     "data": {
      "application/vnd.jupyter.widget-view+json": {
       "model_id": "5d256544958b47cbae5a64976c71bbfe",
       "version_major": 2,
       "version_minor": 0
      },
      "text/plain": [
       "HBox(children=(IntProgress(value=0, max=140), HTML(value='')))"
      ]
     },
     "metadata": {},
     "output_type": "display_data"
    },
    {
     "name": "stdout",
     "output_type": "stream",
     "text": [
      "\n",
      "[info] epoch train loss: -0.0029606614463513585\n",
      "Epoch 356\n"
     ]
    },
    {
     "data": {
      "application/vnd.jupyter.widget-view+json": {
       "model_id": "4aa854e22d1341118ba3f6e41b983e2e",
       "version_major": 2,
       "version_minor": 0
      },
      "text/plain": [
       "HBox(children=(IntProgress(value=0, max=140), HTML(value='')))"
      ]
     },
     "metadata": {},
     "output_type": "display_data"
    },
    {
     "name": "stdout",
     "output_type": "stream",
     "text": [
      "\n",
      "[info] epoch train loss: -0.0029584482513850424\n",
      "Epoch 357\n"
     ]
    },
    {
     "data": {
      "application/vnd.jupyter.widget-view+json": {
       "model_id": "7ebd6914036749c69a98da0213f45d8b",
       "version_major": 2,
       "version_minor": 0
      },
      "text/plain": [
       "HBox(children=(IntProgress(value=0, max=140), HTML(value='')))"
      ]
     },
     "metadata": {},
     "output_type": "display_data"
    },
    {
     "name": "stderr",
     "output_type": "stream",
     "text": [
      "IOPub message rate exceeded.\n",
      "The notebook server will temporarily stop sending output\n",
      "to the client in order to avoid crashing it.\n",
      "To change this limit, set the config variable\n",
      "`--NotebookApp.iopub_msg_rate_limit`.\n",
      "\n",
      "Current values:\n",
      "NotebookApp.iopub_msg_rate_limit=1000.0 (msgs/sec)\n",
      "NotebookApp.rate_limit_window=3.0 (secs)\n",
      "\n"
     ]
    },
    {
     "name": "stdout",
     "output_type": "stream",
     "text": [
      "\n",
      "[info] epoch train loss: -0.0029495875170271447\n",
      "Epoch 369\n"
     ]
    },
    {
     "data": {
      "application/vnd.jupyter.widget-view+json": {
       "model_id": "71e1ce4530294c49bc63b385709319e0",
       "version_major": 2,
       "version_minor": 0
      },
      "text/plain": [
       "HBox(children=(IntProgress(value=0, max=140), HTML(value='')))"
      ]
     },
     "metadata": {},
     "output_type": "display_data"
    },
    {
     "name": "stdout",
     "output_type": "stream",
     "text": [
      "\n",
      "[info] epoch train loss: -0.0029640930507282195\n",
      "Epoch 370\n"
     ]
    },
    {
     "data": {
      "application/vnd.jupyter.widget-view+json": {
       "model_id": "02ea444136e6498bb0c8b7a9998cbbcd",
       "version_major": 2,
       "version_minor": 0
      },
      "text/plain": [
       "HBox(children=(IntProgress(value=0, max=140), HTML(value='')))"
      ]
     },
     "metadata": {},
     "output_type": "display_data"
    },
    {
     "name": "stdout",
     "output_type": "stream",
     "text": [
      "\n",
      "[info] epoch train loss: -0.0029561802946513386\n",
      "Epoch 371\n"
     ]
    },
    {
     "data": {
      "application/vnd.jupyter.widget-view+json": {
       "model_id": "1bdb553a7a1f48d3a8e77bf938ce3a43",
       "version_major": 2,
       "version_minor": 0
      },
      "text/plain": [
       "HBox(children=(IntProgress(value=0, max=140), HTML(value='')))"
      ]
     },
     "metadata": {},
     "output_type": "display_data"
    },
    {
     "name": "stdout",
     "output_type": "stream",
     "text": [
      "\n",
      "[info] epoch train loss: -0.0029601496945750633\n",
      "Epoch 372\n"
     ]
    },
    {
     "data": {
      "application/vnd.jupyter.widget-view+json": {
       "model_id": "d51cab7284104324b6283562e0718d07",
       "version_major": 2,
       "version_minor": 0
      },
      "text/plain": [
       "HBox(children=(IntProgress(value=0, max=140), HTML(value='')))"
      ]
     },
     "metadata": {},
     "output_type": "display_data"
    },
    {
     "name": "stdout",
     "output_type": "stream",
     "text": [
      "lay egg to ./Nest ... save as ./Nest/NewbornBird\n",
      "origin:\n",
      "['[CLS]', 'norte', '##l', 'in', '$', '300', '##m', 'profit', 'revision', 'telecom', '##s', 'equipment', 'maker', 'norte', '##l', 'networks', 'has', 'sharply', 'revised', 'downwards', 'its', 'profits', 'for', 'the', '2003', 'fiscal', 'year', '.', 'in', 'a', 'long', '-', 'awaited', 'filing', 'norte', '##l', 'said', 'it', 'had', 'made', '$', '43', '##4', '##m', '(', '£2', '##31', '##m', ')', 'compared', 'to', 'the', 'previously', 'reported', '$', '73', '##2', '##m', '.', 'but', 'the', 'figures', '-', 'revised', 'after', 'an', 'audit', 'which', 'led', 'to', 'the', 'sack', '##ing', 'of', 'the', 'canadian', 'firm', 's', 'chief', '-', 'showed', 'revenue', 'was', 'about', '4', '%', 'higher', 'than', 'first', 'thought', '.', 'norte', '##l', 'shares', 'which', 'have', 'lost', 'nearly', '50', '%', 'of', 'their', 'value', 'since', 'last', 'year', 'climbed', '1', '.', '46', '%', 'in', 'toronto', 'on', 'tuesday', '.', 'norte', '##l', 's', 'head', 'frank', 'dunn', 'and', 'two', 'other', 'executives', 'were', 'fired', 'in', 'january', 'last', 'year', 'after', 'the', 'company', 'announced', 'it', 'had', 'conducted', 'the', 'internal', 'audit', '.', 'securities', 'and', 'police', 'authorities', 'in', 'both', 'the', 'us', 'and', 'canada', 'are', 'still', 'conducting', 'inquiries', 'into', 'the', 'accounts', '.', 'norte', '##l', 'also', 'issued', 'new', 'figures', 'for', 'the', '2001', '-', '2002', 'period', 'which', 'they', 'had', 'previously', 'indicated', 'had', 'under', '##sta', '##ted', 'losses', '.', 'with', 'the', 'completion', 'of', 'our', 'rest', '##ate', '##ments', 'we', 'have', 'a', 'solid', 'foundation', 'on', 'which', 'to', 'move', 'forward', 'with', 'our', 'business', 'said', 'norte', '##l', 'president', 'and', 'chief', 'executive', 'bill', 'owens', '.', 'the', 'rest', '##ate', '##ment', 'has', 'been', 'a', 'monumental', 'task', 'both', 'complex', 'and', 'demanding', '.', 'the', 'company', 'also', 'said', '12', 'senior', 'executives', '-', 'none', 'of', 'whom', 'were', 'involved', 'directly', 'in', 'the', 'accounting', 'of', 'the', 'revised', 'figures', '-', 'have', 'voluntarily', 'agreed', 'to', 'repay', 'to', 'bonuses', 'awarded', 'in', '2003', 'total', '##ling', '$', '8', '.', '6', '##m', '.', 'norte', '##l', 'added', ':', 'these', 'members', 'of', 'the', 'core', 'executive', 'team', 'share', 'the', 'board', 's', 'deep', 'disappointment', 'over', 'the', 'circumstances', 'that', 'led', 'to', 'the', 'rest', '##ate', '##ment', '.', '[SEP]', '[PAD]', '[PAD]', '[PAD]', '[PAD]', '[PAD]', '[PAD]', '[PAD]', '[PAD]', '[PAD]', '[PAD]', '[PAD]', '[PAD]', '[PAD]', '[PAD]', '[PAD]', '[PAD]', '[PAD]', '[PAD]', '[PAD]', '[PAD]', '[PAD]', '[PAD]', '[PAD]', '[PAD]', '[PAD]', '[PAD]', '[PAD]', '[PAD]', '[PAD]', '[PAD]', '[PAD]', '[PAD]', '[PAD]', '[PAD]', '[PAD]', '[PAD]', '[PAD]', '[PAD]', '[PAD]', '[PAD]', '[PAD]', '[PAD]', '[PAD]', '[PAD]', '[PAD]', '[PAD]', '[PAD]', '[PAD]', '[PAD]', '[PAD]', '[PAD]', '[PAD]', '[PAD]', '[PAD]', '[PAD]', '[PAD]', '[PAD]', '[PAD]', '[PAD]', '[PAD]', '[PAD]', '[PAD]', '[PAD]', '[PAD]', '[PAD]', '[PAD]', '[PAD]', '[PAD]', '[PAD]', '[PAD]', '[PAD]', '[PAD]', '[PAD]', '[PAD]', '[PAD]', '[PAD]', '[PAD]', '[PAD]', '[PAD]', '[PAD]', '[PAD]', '[PAD]', '[PAD]', '[PAD]', '[PAD]', '[PAD]', '[PAD]', '[PAD]', '[PAD]', '[PAD]', '[PAD]', '[PAD]', '[PAD]', '[PAD]', '[PAD]', '[PAD]', '[PAD]', '[PAD]', '[PAD]', '[PAD]', '[PAD]', '[PAD]']\n",
      "summary:\n",
      "['[CLS]', '[unused782]', '[unused782]', '[unused782]', '[unused782]', '[unused782]', '[unused782]', '[unused782]', '[unused782]', '[unused782]', '[unused782]', '[unused782]', '[unused782]', '[unused782]', '[unused782]', '[unused782]', '[unused782]', '[unused782]', '[unused782]', '[unused782]']\n",
      "real summary:\n",
      "['[CLS]', 'norte', '##l', 'in', '$', '300', '##m', 'profit', 'revision', 'telecom', '##s', 'equipment', 'maker', 'norte', '##l', 'networks', 'has', 'sharply', 'revised']\n",
      "sentiment: 0\n",
      "y: 1\n",
      "\n",
      "\n",
      "[info] epoch train loss: -0.0029529540469021803\n",
      "Epoch 373\n"
     ]
    },
    {
     "data": {
      "application/vnd.jupyter.widget-view+json": {
       "model_id": "6efcd4479f33457092525ed9030a09c4",
       "version_major": 2,
       "version_minor": 0
      },
      "text/plain": [
       "HBox(children=(IntProgress(value=0, max=140), HTML(value='')))"
      ]
     },
     "metadata": {},
     "output_type": "display_data"
    },
    {
     "name": "stdout",
     "output_type": "stream",
     "text": [
      "\n",
      "[info] epoch train loss: -0.0029481817471345754\n",
      "Epoch 374\n"
     ]
    },
    {
     "data": {
      "application/vnd.jupyter.widget-view+json": {
       "model_id": "6e3b1fdf8bce4f8b9593d9a8103cd4a4",
       "version_major": 2,
       "version_minor": 0
      },
      "text/plain": [
       "HBox(children=(IntProgress(value=0, max=140), HTML(value='')))"
      ]
     },
     "metadata": {},
     "output_type": "display_data"
    },
    {
     "name": "stdout",
     "output_type": "stream",
     "text": [
      "\n",
      "[info] epoch train loss: -0.0029526087428946215\n",
      "Epoch 375\n"
     ]
    },
    {
     "data": {
      "application/vnd.jupyter.widget-view+json": {
       "model_id": "e7f4f5a7497a48e0941eff14bb0d7a47",
       "version_major": 2,
       "version_minor": 0
      },
      "text/plain": [
       "HBox(children=(IntProgress(value=0, max=140), HTML(value='')))"
      ]
     },
     "metadata": {},
     "output_type": "display_data"
    },
    {
     "name": "stdout",
     "output_type": "stream",
     "text": [
      "\n",
      "[info] epoch train loss: -0.0029484686310752295\n",
      "Epoch 376\n"
     ]
    },
    {
     "data": {
      "application/vnd.jupyter.widget-view+json": {
       "model_id": "10f35d55fe40457fb1d04e4a6df82e5b",
       "version_major": 2,
       "version_minor": 0
      },
      "text/plain": [
       "HBox(children=(IntProgress(value=0, max=140), HTML(value='')))"
      ]
     },
     "metadata": {},
     "output_type": "display_data"
    },
    {
     "name": "stdout",
     "output_type": "stream",
     "text": [
      "\n",
      "[info] epoch train loss: -0.00296041113677867\n",
      "Epoch 377\n"
     ]
    },
    {
     "data": {
      "application/vnd.jupyter.widget-view+json": {
       "model_id": "234a4e899eca47ab924e57e32b28e626",
       "version_major": 2,
       "version_minor": 0
      },
      "text/plain": [
       "HBox(children=(IntProgress(value=0, max=140), HTML(value='')))"
      ]
     },
     "metadata": {},
     "output_type": "display_data"
    },
    {
     "name": "stdout",
     "output_type": "stream",
     "text": [
      "\n",
      "[info] epoch train loss: -0.002963619291300087\n",
      "Epoch 378\n"
     ]
    },
    {
     "data": {
      "application/vnd.jupyter.widget-view+json": {
       "model_id": "edfea8f18e364928a09c3439e10a5535",
       "version_major": 2,
       "version_minor": 0
      },
      "text/plain": [
       "HBox(children=(IntProgress(value=0, max=140), HTML(value='')))"
      ]
     },
     "metadata": {},
     "output_type": "display_data"
    },
    {
     "name": "stdout",
     "output_type": "stream",
     "text": [
      "\n",
      "[info] epoch train loss: -0.002966356900287792\n",
      "Epoch 379\n"
     ]
    },
    {
     "data": {
      "application/vnd.jupyter.widget-view+json": {
       "model_id": "abb4e883f1f843d29f75ae870e0f91d7",
       "version_major": 2,
       "version_minor": 0
      },
      "text/plain": [
       "HBox(children=(IntProgress(value=0, max=140), HTML(value='')))"
      ]
     },
     "metadata": {},
     "output_type": "display_data"
    },
    {
     "name": "stdout",
     "output_type": "stream",
     "text": [
      "lay egg to ./Nest ... save as ./Nest/NewbornBird\n",
      "origin:\n",
      "['[CLS]', 'consumers', 'drive', 'french', 'economy', 'france', 's', 'economic', 'growth', 'accelerated', 'in', 'the', 'last', 'three', 'months', 'of', '2004', 'driven', 'by', 'consumer', 'spending', 'a', 'report', 'shows', '.', 'gross', 'domestic', 'product', '(', 'gdp', ')', 'rose', 'by', '0', '.', '8', '%', 'in', 'the', 'fourth', 'quarter', 'compared', 'with', 'the', 'previous', 'three', 'month', 'period', 'the', 'statistical', 'office', 'ins', '##ee', 'said', '.', 'that', 'expansion', 'pushed', 'annual', 'growth', 'to', '2', '.', '3', '%', 'the', 'fastest', 'rate', 'in', 'two', 'years', '.', 'consumer', 'spending', 'was', 'up', 'by', '1', '.', '2', '%', 'in', 'the', 'fourth', 'quarter', 'and', 'there', 'also', 'was', 'a', 'rebound', 'in', 'business', 'investment', 'that', 'gave', 'the', 'recovery', 'an', 'extra', 'shove', '.', 'analysts', 'warned', 'that', 'france', 'still', 'was', 'facing', 'challenges', 'and', 'was', 'unlikely', 'to', 'keep', 'expanding', 'at', 'its', 'current', 'pace', '.', 'france', 'still', 'has', 'a', 'strong', 'economic', 'growth', 'said', 'marc', 'to', '##uta', '##i', 'an', 'economist', 'at', 'nate', '##xi', '##s', 'ban', '##ques', 'pop', '##ula', '##ire', '##s', '.', 'but', 'if', 'we', 'check', 'the', 'figures', 'in', 'detail', 'there', 's', 'a', 'problem', '.', 'consumer', 'spending', 'is', 'still', 'high', '.', 'but', 'french', 'households', 'have', 'spent', 'their', 'savings', 'to', 'consume', '.', 'france', 'can', 't', 'sustain', 'a', 'high', 'growth', 'rate', 'without', 'an', 'improvement', 'in', 'the', 'job', 'market', '.', 'there', 's', 'too', 'much', 'of', 'a', 'gap', 'between', 'growth', 'and', 'employment', '.', 'unemployment', 'levels', 'are', 'currently', 'stuck', 'at', 'about', '10', '%', 'and', 'is', 'proving', 'difficult', 'to', 'bring', 'down', 'despite', 'government', 'efforts', '.', 'another', 'worry', 'is', 'that', 'demand', 'in', 'germany', 'and', 'italy', 'two', 'of', 'france', 's', 'main', 'trading', 'partners', 'is', 'slug', '##gis', '##h', '.', 'despite', 'the', 'concerns', 'analysts', 'pointed', 'out', 'that', 'france', 'was', 'out', '##per', '##form', '##ing', 'the', 'majority', 'of', 'its', 'european', 'counterparts', 'and', 'that', 'its', 'economy', 'was', 'looking', 'more', 'robust', 'than', 'in', 'previous', 'years', '.', 'as', 'well', 'as', 'strong', 'domestic', 'demand', 'exports', 'climbed', 'by', '1', '.', '3', '%', 'in', 'the', 'fourth', 'quarter', '-', 'the', 'biggest', 'increase', 'in', 'foreign', 'sales', 'for', 'a', 'year', '.', 'it', 's', 'an', 'economic', 'growth', 'that', 'seems', 'well', 'balanced', 'said', 'nicolas', 'cl', '##aq', '##uin', 'an', 'analyst', 'at', 'cc', '##f', '.', 'in', 'the', 'beginning', 'of', '2004', 'growth', 'was', 'mainly', 'driven', 'by', 'consumer', 'spending', '.', 'here', 'it', 'gets', 'contributions', 'from', 'investment', 'and', 'exports', 'though', 'household', 'consumption', 'is', 'still', 'strong', '.', 'but', 'we', 'expect', 'overall', 'economic', 'growth', 'to', 'fall', 'to', '2', '.', '0', 'percent', 'in', '2005', '.', '[SEP]', '[PAD]', '[PAD]', '[PAD]', '[PAD]', '[PAD]', '[PAD]', '[PAD]', '[PAD]', '[PAD]', '[PAD]', '[PAD]', '[PAD]', '[PAD]', '[PAD]', '[PAD]', '[PAD]', '[PAD]', '[PAD]', '[PAD]', '[PAD]', '[PAD]', '[PAD]', '[PAD]', '[PAD]', '[PAD]', '[PAD]', '[PAD]', '[PAD]', '[PAD]', '[PAD]', '[PAD]']\n",
      "summary:\n",
      "['[CLS]', '[unused782]', '[unused782]', '[unused782]', '[unused782]', '[unused782]', '[unused782]', '[unused782]', '[unused782]', '[unused782]', '[unused782]', '[unused782]', '[unused782]', '[unused782]', '[unused782]', '[unused782]', '[unused782]', '[unused782]', '[unused782]', '[unused782]']\n",
      "real summary:\n",
      "['[CLS]', 'consumers', 'drive', 'french', 'economy', 'france', 's', 'economic', 'growth', 'accelerated', 'in', 'the', 'last', 'three', 'months', 'of', '2004', 'driven', 'by']\n",
      "sentiment: 0\n",
      "y: 1\n",
      "\n",
      "\n",
      "[info] epoch train loss: -0.0029448284852800757\n",
      "Epoch 380\n"
     ]
    },
    {
     "data": {
      "application/vnd.jupyter.widget-view+json": {
       "model_id": "ac84e5ad40734528a62d89dbedc22a07",
       "version_major": 2,
       "version_minor": 0
      },
      "text/plain": [
       "HBox(children=(IntProgress(value=0, max=140), HTML(value='')))"
      ]
     },
     "metadata": {},
     "output_type": "display_data"
    },
    {
     "name": "stdout",
     "output_type": "stream",
     "text": [
      "\n",
      "[info] epoch train loss: -0.00295662973762124\n",
      "Epoch 381\n"
     ]
    },
    {
     "data": {
      "application/vnd.jupyter.widget-view+json": {
       "model_id": "09ab41109f014db8957566422afcb987",
       "version_major": 2,
       "version_minor": 0
      },
      "text/plain": [
       "HBox(children=(IntProgress(value=0, max=140), HTML(value='')))"
      ]
     },
     "metadata": {},
     "output_type": "display_data"
    },
    {
     "name": "stdout",
     "output_type": "stream",
     "text": [
      "\n",
      "[info] epoch train loss: -0.0029587032175706035\n",
      "Epoch 382\n"
     ]
    },
    {
     "data": {
      "application/vnd.jupyter.widget-view+json": {
       "model_id": "f5c70ac5efca4313a08475319ea11e5d",
       "version_major": 2,
       "version_minor": 0
      },
      "text/plain": [
       "HBox(children=(IntProgress(value=0, max=140), HTML(value='')))"
      ]
     },
     "metadata": {},
     "output_type": "display_data"
    },
    {
     "name": "stdout",
     "output_type": "stream",
     "text": [
      "\n",
      "[info] epoch train loss: -0.002970128483346863\n",
      "Epoch 383\n"
     ]
    },
    {
     "data": {
      "application/vnd.jupyter.widget-view+json": {
       "model_id": "e90f45892c9f435ca297a9ac1d689a71",
       "version_major": 2,
       "version_minor": 0
      },
      "text/plain": [
       "HBox(children=(IntProgress(value=0, max=140), HTML(value='')))"
      ]
     },
     "metadata": {},
     "output_type": "display_data"
    },
    {
     "name": "stdout",
     "output_type": "stream",
     "text": [
      "\n",
      "[info] epoch train loss: -0.0029510314511883603\n",
      "Epoch 384\n"
     ]
    },
    {
     "data": {
      "application/vnd.jupyter.widget-view+json": {
       "model_id": "8a86d787bd5049348d16bc50c0b52d4b",
       "version_major": 2,
       "version_minor": 0
      },
      "text/plain": [
       "HBox(children=(IntProgress(value=0, max=140), HTML(value='')))"
      ]
     },
     "metadata": {},
     "output_type": "display_data"
    },
    {
     "name": "stdout",
     "output_type": "stream",
     "text": [
      "\n",
      "[info] epoch train loss: -0.002955179754852517\n",
      "Epoch 385\n"
     ]
    },
    {
     "data": {
      "application/vnd.jupyter.widget-view+json": {
       "model_id": "23139c8c9b5a47aa89563ff5706338f2",
       "version_major": 2,
       "version_minor": 0
      },
      "text/plain": [
       "HBox(children=(IntProgress(value=0, max=140), HTML(value='')))"
      ]
     },
     "metadata": {},
     "output_type": "display_data"
    },
    {
     "name": "stdout",
     "output_type": "stream",
     "text": [
      "\n",
      "[info] epoch train loss: -0.0029534798450185917\n",
      "Epoch 386\n"
     ]
    },
    {
     "data": {
      "application/vnd.jupyter.widget-view+json": {
       "model_id": "5f349cc0a2e247e7bbd881e327ebd7ed",
       "version_major": 2,
       "version_minor": 0
      },
      "text/plain": [
       "HBox(children=(IntProgress(value=0, max=140), HTML(value='')))"
      ]
     },
     "metadata": {},
     "output_type": "display_data"
    },
    {
     "name": "stdout",
     "output_type": "stream",
     "text": [
      "lay egg to ./Nest ... save as ./Nest/NewbornBird\n",
      "origin:\n",
      "['[CLS]', 'johnson', 'too', 'strong', 'for', 'gb', 'runners', 'britain', 's', 'kathy', 'butler', 'and', 'hay', '##ley', 'yelling', 'were', 'no', 'match', 'for', 'ben', '##ita', 'johnson', 'in', 'the', '51st', 'cross', 'international', 'z', '##orno', '##tz', '##a', 'in', 'amore', '##bie', '##ta', 'spain', '.', 'butler', 'and', 'yelling', 'finished', 'fourth', 'and', 'fifth', 'as', 'australian', 'world', 'champion', 'johnson', 'rom', '##ped', 'to', 'a', 'five', '-', 'second', 'victory', 'in', 'the', '6', '##km', 'race', 'ahead', 'of', 'edith', 'mas', '##ai', '.', 'mas', '##ai', 's', 'fellow', 'kenyan', 'alice', 'tim', '##bil', '##il', 'finished', 'third', '.', 'johnson', 'said', ':', 'i', 'ran', 'comfortably', 'for', 'the', 'first', '3', '##km', 'and', 'then', 'i', 'tried', 'to', 'leave', 'the', 'others', 'but', 'it', 'wasn', 't', 'an', 'easy', 'task', '.', 'butler', 'clock', '##ed', 'a', 'time', 'of', '22', 'minutes', '45', 'seconds', '-', '22', '##se', '##cs', 'behind', 'the', 'winner', 'but', 'four', 'ahead', 'of', 'yelling', 'who', 'last', 'month', 'succeeded', 'paula', 'radcliffe', 'as', 'european', 'champion', '.', 'johnson', 'will', 'be', 'one', 'of', 'the', 'star', 'attractions', 'at', 'the', 'great', 'edinburgh', '##int', '##ern', '##ation', '##al', 'cross', 'country', 'on', '15', 'january', '.', '[SEP]', '[PAD]', '[PAD]', '[PAD]', '[PAD]', '[PAD]', '[PAD]', '[PAD]', '[PAD]', '[PAD]', '[PAD]', '[PAD]', '[PAD]', '[PAD]', '[PAD]', '[PAD]', '[PAD]', '[PAD]', '[PAD]', '[PAD]', '[PAD]', '[PAD]', '[PAD]', '[PAD]', '[PAD]', '[PAD]', '[PAD]', '[PAD]', '[PAD]', '[PAD]', '[PAD]', '[PAD]', '[PAD]', '[PAD]', '[PAD]', '[PAD]', '[PAD]', '[PAD]', '[PAD]', '[PAD]', '[PAD]', '[PAD]', '[PAD]', '[PAD]', '[PAD]', '[PAD]', '[PAD]', '[PAD]', '[PAD]', '[PAD]', '[PAD]', '[PAD]', '[PAD]', '[PAD]', '[PAD]', '[PAD]', '[PAD]', '[PAD]', '[PAD]', '[PAD]', '[PAD]', '[PAD]', '[PAD]', '[PAD]', '[PAD]', '[PAD]', '[PAD]', '[PAD]', '[PAD]', '[PAD]', '[PAD]', '[PAD]', '[PAD]', '[PAD]', '[PAD]', '[PAD]', '[PAD]', '[PAD]', '[PAD]', '[PAD]', '[PAD]', '[PAD]', '[PAD]', '[PAD]', '[PAD]', '[PAD]', '[PAD]', '[PAD]', '[PAD]', '[PAD]', '[PAD]', '[PAD]', '[PAD]', '[PAD]', '[PAD]', '[PAD]', '[PAD]', '[PAD]', '[PAD]', '[PAD]', '[PAD]', '[PAD]', '[PAD]', '[PAD]', '[PAD]', '[PAD]', '[PAD]', '[PAD]', '[PAD]', '[PAD]', '[PAD]', '[PAD]', '[PAD]', '[PAD]', '[PAD]', '[PAD]', '[PAD]', '[PAD]', '[PAD]', '[PAD]', '[PAD]', '[PAD]', '[PAD]', '[PAD]', '[PAD]', '[PAD]', '[PAD]', '[PAD]', '[PAD]', '[PAD]', '[PAD]', '[PAD]', '[PAD]', '[PAD]', '[PAD]', '[PAD]', '[PAD]', '[PAD]', '[PAD]', '[PAD]', '[PAD]', '[PAD]', '[PAD]', '[PAD]', '[PAD]', '[PAD]', '[PAD]', '[PAD]', '[PAD]', '[PAD]', '[PAD]', '[PAD]', '[PAD]', '[PAD]', '[PAD]', '[PAD]', '[PAD]', '[PAD]', '[PAD]', '[PAD]', '[PAD]', '[PAD]', '[PAD]', '[PAD]', '[PAD]', '[PAD]', '[PAD]', '[PAD]', '[PAD]', '[PAD]', '[PAD]', '[PAD]', '[PAD]', '[PAD]', '[PAD]', '[PAD]', '[PAD]', '[PAD]', '[PAD]', '[PAD]', '[PAD]', '[PAD]', '[PAD]', '[PAD]', '[PAD]', '[PAD]', '[PAD]', '[PAD]', '[PAD]', '[PAD]', '[PAD]', '[PAD]', '[PAD]', '[PAD]', '[PAD]', '[PAD]', '[PAD]', '[PAD]', '[PAD]', '[PAD]', '[PAD]', '[PAD]', '[PAD]', '[PAD]', '[PAD]', '[PAD]', '[PAD]', '[PAD]', '[PAD]', '[PAD]', '[PAD]', '[PAD]', '[PAD]', '[PAD]', '[PAD]', '[PAD]', '[PAD]', '[PAD]', '[PAD]', '[PAD]', '[PAD]', '[PAD]', '[PAD]', '[PAD]', '[PAD]', '[PAD]', '[PAD]', '[PAD]', '[PAD]', '[PAD]', '[PAD]', '[PAD]', '[PAD]', '[PAD]', '[PAD]', '[PAD]', '[PAD]', '[PAD]', '[PAD]']\n",
      "summary:\n",
      "['[CLS]', '[unused782]', '[unused782]', '[unused782]', '[unused782]', '[unused782]', '[unused782]', '[unused782]', '[unused782]', '[unused782]', '[unused782]', '[unused782]', '[unused782]', '[unused782]', '[unused782]', '[unused782]', '[unused782]', '[unused782]', '[unused782]', '[unused782]']\n",
      "real summary:\n",
      "['[CLS]', 'johnson', 'too', 'strong', 'for', 'gb', 'runners', 'britain', 's', 'kathy', 'butler', 'and', 'hay', '##ley', 'yelling', 'were', 'no', 'match', 'for']\n",
      "sentiment: 0\n",
      "y: 2\n",
      "\n",
      "\n",
      "[info] epoch train loss: -0.0029464715744584933\n",
      "Epoch 387\n"
     ]
    },
    {
     "data": {
      "application/vnd.jupyter.widget-view+json": {
       "model_id": "fa8bc39f10c745b2aa136f60e91c5dce",
       "version_major": 2,
       "version_minor": 0
      },
      "text/plain": [
       "HBox(children=(IntProgress(value=0, max=140), HTML(value='')))"
      ]
     },
     "metadata": {},
     "output_type": "display_data"
    },
    {
     "name": "stdout",
     "output_type": "stream",
     "text": [
      "\n",
      "[info] epoch train loss: -0.0029657675953265947\n",
      "Epoch 388\n"
     ]
    },
    {
     "data": {
      "application/vnd.jupyter.widget-view+json": {
       "model_id": "555f0aa8dc1c4d7cbff1c964060423ba",
       "version_major": 2,
       "version_minor": 0
      },
      "text/plain": [
       "HBox(children=(IntProgress(value=0, max=140), HTML(value='')))"
      ]
     },
     "metadata": {},
     "output_type": "display_data"
    },
    {
     "name": "stdout",
     "output_type": "stream",
     "text": [
      "\n",
      "[info] epoch train loss: -0.002953761580075869\n",
      "Epoch 389\n"
     ]
    },
    {
     "data": {
      "application/vnd.jupyter.widget-view+json": {
       "model_id": "d24053d11fb449e0a1756d7b96c3ac6a",
       "version_major": 2,
       "version_minor": 0
      },
      "text/plain": [
       "HBox(children=(IntProgress(value=0, max=140), HTML(value='')))"
      ]
     },
     "metadata": {},
     "output_type": "display_data"
    },
    {
     "name": "stdout",
     "output_type": "stream",
     "text": [
      "\n",
      "[info] epoch train loss: -0.0029507617867368806\n",
      "Epoch 390\n"
     ]
    },
    {
     "data": {
      "application/vnd.jupyter.widget-view+json": {
       "model_id": "e4c40015a3614730a96a10e11b768906",
       "version_major": 2,
       "version_minor": 0
      },
      "text/plain": [
       "HBox(children=(IntProgress(value=0, max=140), HTML(value='')))"
      ]
     },
     "metadata": {},
     "output_type": "display_data"
    },
    {
     "name": "stdout",
     "output_type": "stream",
     "text": [
      "\n",
      "[info] epoch train loss: -0.002954594313840581\n",
      "Epoch 391\n"
     ]
    },
    {
     "data": {
      "application/vnd.jupyter.widget-view+json": {
       "model_id": "c0dca649190041fb93b6ef039e1196d3",
       "version_major": 2,
       "version_minor": 0
      },
      "text/plain": [
       "HBox(children=(IntProgress(value=0, max=140), HTML(value='')))"
      ]
     },
     "metadata": {},
     "output_type": "display_data"
    },
    {
     "name": "stdout",
     "output_type": "stream",
     "text": [
      "\n",
      "[info] epoch train loss: -0.002962295890860592\n",
      "Epoch 392\n"
     ]
    },
    {
     "data": {
      "application/vnd.jupyter.widget-view+json": {
       "model_id": "9703aed9151d4280b8181255dd3f0fa8",
       "version_major": 2,
       "version_minor": 0
      },
      "text/plain": [
       "HBox(children=(IntProgress(value=0, max=140), HTML(value='')))"
      ]
     },
     "metadata": {},
     "output_type": "display_data"
    },
    {
     "name": "stdout",
     "output_type": "stream",
     "text": [
      "\n",
      "[info] epoch train loss: -0.002956280867510941\n",
      "Epoch 393\n"
     ]
    },
    {
     "data": {
      "application/vnd.jupyter.widget-view+json": {
       "model_id": "703f720f066945ab8e1343a9ca9ddb71",
       "version_major": 2,
       "version_minor": 0
      },
      "text/plain": [
       "HBox(children=(IntProgress(value=0, max=140), HTML(value='')))"
      ]
     },
     "metadata": {},
     "output_type": "display_data"
    },
    {
     "name": "stdout",
     "output_type": "stream",
     "text": [
      "lay egg to ./Nest ... save as ./Nest/NewbornBird\n",
      "origin:\n",
      "['[CLS]', 'fox', 'attacks', 'blair', 's', 'tory', 'lies', 'tony', 'blair', 'lied', 'when', 'he', 'took', 'the', 'uk', 'to', 'war', 'so', 'has', 'no', 'qu', '##al', '##ms', 'about', 'lying', 'in', 'the', 'election', 'campaign', 'say', 'the', 'tori', '##es', '.', 'tory', 'co', '-', 'chairman', 'liam', 'fox', 'was', 'speaking', 'after', 'mr', 'blair', 'told', 'labour', 'members', 'the', 'tori', '##es', 'offered', 'a', 'hard', 'right', 'agenda', '.', 'dr', 'fox', 'told', 'bbc', 'radio', ':', 'if', 'you', 'are', 'willing', 'to', 'lie', 'about', 'the', 'reasons', 'for', 'going', 'to', 'war', 'i', 'guess', 'you', 'are', 'going', 'to', 'lie', 'about', 'anything', 'at', 'all', '.', 'he', 'would', 'not', 'discuss', 'reports', 'the', 'party', 'rep', '##aid', '£5', '##00', '000', 'to', 'lord', 'ash', '##croft', 'after', 'he', 'predicted', 'an', 'election', 'defeat', '.', 'the', 'prime', 'minister', 'rat', '##chet', '##ed', 'up', 'labour', 's', 'pre', '-', 'election', 'campaigning', 'at', 'the', 'weekend', 'with', 'a', 'helicopter', 'tour', 'of', 'the', 'country', 'and', 'his', 'speech', 'at', 'the', 'party', 's', 'spring', 'conference', '.', 'he', 'insisted', 'he', 'did', 'not', 'know', 'the', 'poll', 'date', 'but', 'it', 'is', 'widely', 'expected', 'to', 'be', '5', 'may', '.', 'in', 'what', 'was', 'seen', 'as', 'a', 'highly', 'personal', 'speech', 'in', 'gates', '##head', 'on', 'sunday', 'mr', 'blair', 'said', ':', 'i', 'have', 'the', 'same', 'passion', 'and', 'hunger', 'as', 'when', 'i', 'first', 'walked', 'through', 'the', 'door', 'of', '10', 'downing', 'street', '.', 'he', 'described', 'his', 'relationship', 'with', 'the', 'public', 'as', 'starting', 'eu', '##ph', '##oric', 'then', 'struggling', 'to', 'live', 'up', 'to', 'the', 'expectations', 'and', 'reaching', 'the', 'point', 'of', 'raised', 'voices', 'and', 'throwing', 'cr', '##ock', '##ery', '.', 'he', 'warned', 'his', 'supporters', 'against', 'com', '##pl', '##ace', '##ncy', 'saying', ':', 'it', 's', 'a', 'fight', 'for', 'the', 'future', 'of', 'our', 'country', 'it', 's', 'a', 'fight', 'that', 'for', 'britain', 'and', 'the', 'people', 'of', 'britain', 'we', 'have', 'to', 'win', '.', 'mr', 'blair', 'said', 'that', 'whether', 'the', 'public', 'chose', 'michael', 'howard', 'or', 'mr', 'kennedy', 'it', 'would', 'result', 'in', 'a', 'tory', 'government', 'not', 'a', 'labour', 'government', 'and', 'a', 'country', 'that', 'goes', 'back', 'and', 'does', 'not', 'move', 'forward', '.', 'dr', 'fox', 'accused', 'mr', 'blair', 'and', 'other', 'cabinet', 'ministers', 'of', 'telling', 'lies', 'about', 'their', 'opponents', 'policies', 'and', 'then', 'attacking', 'the', 'lies', '.', 'what', 'we', 'learned', 'at', 'the', 'weekend', 'is', 'what', 'labour', 'tactics', 'are', 'going', 'to', 'be', 'and', 'it', 's', 'going', 'to', 'be', 'fear', 'and', 'sm', '##ear', 'he', 'told', 'bbc', 'news', '.', 'the', 'tory', 'co', '-', 'chairman', 'attacked', 'labour', 's', 'six', 'new', 'pledge', '##s', 'as', 'va', '##cu', '##ous', 'and', 'said', 'mr', 'blair', 'was', 'very', 'worried', 'voters', 'would', 'take', 'revenge', 'for', 'his', 'failure', 'to', 'deliver', '.', 'dr', 'fox', 'refused', 'to', 'discuss', 'weekend', 'newspaper', 'reports']\n",
      "summary:\n",
      "['[CLS]', '[unused782]', '[unused782]', '[unused782]', '[unused782]', '[unused782]', '[unused782]', '[unused782]', '[unused782]', '[unused782]', '[unused782]', '[unused782]', '[unused782]', '[unused782]', '[unused782]', '[unused782]', '[unused782]', '[unused782]', '[unused782]', '[unused782]']\n",
      "real summary:\n",
      "['[CLS]', 'fox', 'attacks', 'blair', 's', 'tory', 'lies', 'tony', 'blair', 'lied', 'when', 'he', 'took', 'the', 'uk', 'to', 'war', 'so', 'has']\n",
      "sentiment: 0\n",
      "y: 4\n",
      "\n",
      "\n",
      "[info] epoch train loss: -0.002954515329370874\n",
      "Epoch 394\n"
     ]
    },
    {
     "data": {
      "application/vnd.jupyter.widget-view+json": {
       "model_id": "41da7fdfbc0e45f4a17bde595e0d62c0",
       "version_major": 2,
       "version_minor": 0
      },
      "text/plain": [
       "HBox(children=(IntProgress(value=0, max=140), HTML(value='')))"
      ]
     },
     "metadata": {},
     "output_type": "display_data"
    },
    {
     "name": "stdout",
     "output_type": "stream",
     "text": [
      "\n",
      "[info] epoch train loss: -0.0029588841103499624\n",
      "Epoch 395\n"
     ]
    },
    {
     "data": {
      "application/vnd.jupyter.widget-view+json": {
       "model_id": "901abbf4eae94dd38c33b7e96ee42507",
       "version_major": 2,
       "version_minor": 0
      },
      "text/plain": [
       "HBox(children=(IntProgress(value=0, max=140), HTML(value='')))"
      ]
     },
     "metadata": {},
     "output_type": "display_data"
    },
    {
     "name": "stdout",
     "output_type": "stream",
     "text": [
      "\n",
      "[info] epoch train loss: -0.00295220682019135\n",
      "Epoch 396\n"
     ]
    },
    {
     "data": {
      "application/vnd.jupyter.widget-view+json": {
       "model_id": "be75936140ee4767bd0801a55c8b7f6f",
       "version_major": 2,
       "version_minor": 0
      },
      "text/plain": [
       "HBox(children=(IntProgress(value=0, max=140), HTML(value='')))"
      ]
     },
     "metadata": {},
     "output_type": "display_data"
    },
    {
     "name": "stdout",
     "output_type": "stream",
     "text": [
      "\n",
      "[info] epoch train loss: -0.002948450876075575\n",
      "Epoch 397\n"
     ]
    },
    {
     "data": {
      "application/vnd.jupyter.widget-view+json": {
       "model_id": "ba3ee95b43004923b6634b399303f2a2",
       "version_major": 2,
       "version_minor": 0
      },
      "text/plain": [
       "HBox(children=(IntProgress(value=0, max=140), HTML(value='')))"
      ]
     },
     "metadata": {},
     "output_type": "display_data"
    },
    {
     "name": "stdout",
     "output_type": "stream",
     "text": [
      "\n",
      "[info] epoch train loss: -0.00295117987058932\n",
      "Epoch 398\n"
     ]
    },
    {
     "data": {
      "application/vnd.jupyter.widget-view+json": {
       "model_id": "30a2a7dfd40d4b46b3a86374cbdc9868",
       "version_major": 2,
       "version_minor": 0
      },
      "text/plain": [
       "HBox(children=(IntProgress(value=0, max=140), HTML(value='')))"
      ]
     },
     "metadata": {},
     "output_type": "display_data"
    },
    {
     "name": "stdout",
     "output_type": "stream",
     "text": [
      "\n",
      "[info] epoch train loss: -0.0029580748176418377\n",
      "Epoch 399\n"
     ]
    },
    {
     "data": {
      "application/vnd.jupyter.widget-view+json": {
       "model_id": "da2bdb50460a498fb0fef6e1185acbef",
       "version_major": 2,
       "version_minor": 0
      },
      "text/plain": [
       "HBox(children=(IntProgress(value=0, max=140), HTML(value='')))"
      ]
     },
     "metadata": {},
     "output_type": "display_data"
    },
    {
     "name": "stdout",
     "output_type": "stream",
     "text": [
      "\n",
      "[info] epoch train loss: -0.002946400752365922\n",
      "Epoch 400\n"
     ]
    },
    {
     "data": {
      "application/vnd.jupyter.widget-view+json": {
       "model_id": "e0e726d4f56a4f7a998e78eb66516ec2",
       "version_major": 2,
       "version_minor": 0
      },
      "text/plain": [
       "HBox(children=(IntProgress(value=0, max=140), HTML(value='')))"
      ]
     },
     "metadata": {},
     "output_type": "display_data"
    },
    {
     "name": "stdout",
     "output_type": "stream",
     "text": [
      "lay egg to ./Nest ... save as ./Nest/NewbornBird\n",
      "origin:\n",
      "['[CLS]', 'parma', '##lat', 'to', 'return', 'to', 'stock', '##market', 'parma', '##lat', 'the', 'italian', 'dairy', 'company', 'which', 'went', 'bust', 'after', 'an', 'accounting', 'scandal', 'hopes', 'to', 'be', 'back', 'on', 'the', 'italian', 'stock', 'exchange', 'in', 'july', '.', 'the', 'firm', 'gained', 'protection', 'from', 'creditors', 'in', '2003', 'after', 'revealing', 'debts', 'of', '14', '##bn', 'euros', '(', '$', '18', '.', '34', '##bn', ';', '£', '##9', '.', '6', '##bn', ')', '.', 'this', 'was', 'eight', 'times', 'higher', 'than', 'it', 'had', 'previously', 'stated', '.', 'in', 'a', 'statement', 'issued', 'on', 'wednesday', 'night', 'parma', '##lat', 'fin', '##an', '##zia', '##ria', 'detailed', 'administrators', 'latest', 'plans', 'for', 're', '-', 'listing', 'the', 'shares', 'of', 'the', 'group', '.', 'as', 'part', 'of', 'the', 're', '-', 'listing', 'on', 'the', 'italian', 'stock', 'exchange', 'creditors', 'debts', 'are', 'expected', 'to', 'be', 'converted', 'into', 'shares', 'through', 'two', 'new', 'share', 'issues', 'amount', '##ing', 'to', 'more', 'than', '2', '##bn', 'euros', '.', 'the', 'company', 's', 'creditors', 'will', 'be', 'asked', 'to', 'vote', 'on', 'the', 'plan', 'later', 'this', 'year', '.', 'the', 'plan', 'is', 'likely', 'to', 'give', 'creditors', 'of', 'parma', '##lat', 'fin', '##an', '##zia', '##ria', 'shares', 'worth', 'about', '5', '.', '7', '%', 'of', 'the', 'debts', 'they', 'are', 'owed', '.', 'this', 'is', 'lower', 'than', 'the', '11', '.', '3', '%', 'creditors', 'previously', 'hoped', 'to', 'receive', '.', 'creditors', 'of', 'parma', '##lat', 'the', 'main', 'operating', 'company', 'are', 'likely', 'to', 'see', 'the', 'percentage', 'of', 'debt', 'they', 'receive', 'fall', 'from', '7', '.', '3', '%', 'to', '6', '.', '9', '%', '.', 'several', 'former', 'top', 'parma', '##lat', 'executives', 'are', 'under', 'investigation', 'for', 'the', 'fraud', 'scandal', '.', 'law', '##makers', 'said', 'on', 'wednesday', 'night', 'enrico', 'bond', '##i', 'the', 'turn', '##around', 'specialist', 'appointed', 'by', 'the', 'italian', 'government', 'as', 'parma', '##lat', 's', 'chief', 'executive', 'spoke', 'positively', 'about', 'the', 'company', 'during', 'a', 'closed', '-', 'door', 'hearing', 'of', 'the', 'chamber', 'of', 'deputies', 'industry', 'commission', '.', 'bond', '##i', 'supplied', 'us', 'with', 'elements', 'of', 'positive', 'results', 'on', 'the', 'industrial', 'positions', 'and', 'on', 'the', 'history', 'of', 'debt', 'which', 'will', 'find', 'a', 'point', 'of', 'solution', 'through', 'the', 'parma', '##lat', 'group', 's', 'quota', '##tion', 'on', 'the', 'market', 'in', 'july', 'italian', 'news', 'agency', 'ap', '##com', 'quoted', 'several', 'law', '##makers', 'as', 'saying', 'in', 'a', 'statement', '.', '[SEP]', '[PAD]', '[PAD]', '[PAD]', '[PAD]', '[PAD]', '[PAD]', '[PAD]', '[PAD]', '[PAD]', '[PAD]', '[PAD]', '[PAD]', '[PAD]', '[PAD]', '[PAD]', '[PAD]', '[PAD]', '[PAD]', '[PAD]', '[PAD]', '[PAD]', '[PAD]', '[PAD]', '[PAD]', '[PAD]', '[PAD]', '[PAD]', '[PAD]', '[PAD]', '[PAD]', '[PAD]', '[PAD]', '[PAD]', '[PAD]', '[PAD]', '[PAD]', '[PAD]', '[PAD]', '[PAD]', '[PAD]', '[PAD]', '[PAD]', '[PAD]', '[PAD]', '[PAD]', '[PAD]', '[PAD]', '[PAD]', '[PAD]', '[PAD]', '[PAD]', '[PAD]', '[PAD]', '[PAD]', '[PAD]', '[PAD]', '[PAD]', '[PAD]', '[PAD]', '[PAD]', '[PAD]', '[PAD]', '[PAD]', '[PAD]']\n",
      "summary:\n",
      "['[CLS]', '[unused782]', '[unused782]', '[unused782]', '[unused782]', '[unused782]', '[unused782]', '[unused782]', '[unused782]', '[unused782]', '[unused782]', '[unused782]', '[unused782]', '[unused782]', '[unused782]', '[unused782]', '[unused782]', '[unused782]', '[unused782]', '[unused782]']\n",
      "real summary:\n",
      "['[CLS]', 'parma', '##lat', 'to', 'return', 'to', 'stock', '##market', 'parma', '##lat', 'the', 'italian', 'dairy', 'company', 'which', 'went', 'bust', 'after', 'an']\n",
      "sentiment: 0\n",
      "y: 1\n",
      "\n",
      "\n",
      "[info] epoch train loss: -0.0029546920278724948\n",
      "Epoch 401\n"
     ]
    },
    {
     "data": {
      "application/vnd.jupyter.widget-view+json": {
       "model_id": "97f93c93fb474dacbb226a49ab7386e5",
       "version_major": 2,
       "version_minor": 0
      },
      "text/plain": [
       "HBox(children=(IntProgress(value=0, max=140), HTML(value='')))"
      ]
     },
     "metadata": {},
     "output_type": "display_data"
    },
    {
     "name": "stdout",
     "output_type": "stream",
     "text": [
      "\n",
      "[info] epoch train loss: -0.0029611785499063055\n",
      "Epoch 402\n"
     ]
    },
    {
     "data": {
      "application/vnd.jupyter.widget-view+json": {
       "model_id": "8ec11997368d4d5da3b9527d8d3320fd",
       "version_major": 2,
       "version_minor": 0
      },
      "text/plain": [
       "HBox(children=(IntProgress(value=0, max=140), HTML(value='')))"
      ]
     },
     "metadata": {},
     "output_type": "display_data"
    },
    {
     "name": "stdout",
     "output_type": "stream",
     "text": [
      "\n",
      "[info] epoch train loss: -0.002956407913214727\n",
      "Epoch 403\n"
     ]
    },
    {
     "data": {
      "application/vnd.jupyter.widget-view+json": {
       "model_id": "95b459933e8641648c6eddb8070e1bfb",
       "version_major": 2,
       "version_minor": 0
      },
      "text/plain": [
       "HBox(children=(IntProgress(value=0, max=140), HTML(value='')))"
      ]
     },
     "metadata": {},
     "output_type": "display_data"
    },
    {
     "name": "stdout",
     "output_type": "stream",
     "text": [
      "\n",
      "[info] epoch train loss: -0.0029446517551800105\n",
      "Epoch 404\n"
     ]
    },
    {
     "data": {
      "application/vnd.jupyter.widget-view+json": {
       "model_id": "7872ff146b494869a58a9e4308d83baa",
       "version_major": 2,
       "version_minor": 0
      },
      "text/plain": [
       "HBox(children=(IntProgress(value=0, max=140), HTML(value='')))"
      ]
     },
     "metadata": {},
     "output_type": "display_data"
    },
    {
     "name": "stdout",
     "output_type": "stream",
     "text": [
      "\n",
      "[info] epoch train loss: -0.002956662237452942\n",
      "Epoch 405\n"
     ]
    },
    {
     "data": {
      "application/vnd.jupyter.widget-view+json": {
       "model_id": "8e3a4e70179041c68d0fbcb51b827764",
       "version_major": 2,
       "version_minor": 0
      },
      "text/plain": [
       "HBox(children=(IntProgress(value=0, max=140), HTML(value='')))"
      ]
     },
     "metadata": {},
     "output_type": "display_data"
    }
   ],
   "source": [
    "start = 1 if continue_from == None else (int(continue_from.split(\"Model\")[-1])+1)\n",
    "history = []\n",
    "for epoch in range(start, num_epochs+1):\n",
    "    print(\"Epoch\", epoch)\n",
    "    \n",
    "    # training\n",
    "    stats = Stats()\n",
    "    model.train()\n",
    "    trange = tqdm(enumerate(data_gen_train()), total=total_train)\n",
    "    for i, batch in trange:\n",
    "        loss, score  = model.run_iter(batch.src, batch.src_mask, SUMM_MAX, batch.trg, batch.label, D_iters=1)\n",
    "        trange.set_postfix(\n",
    "            **{'RL_sample_loss': '{:.3f}'.format(loss[0])},\n",
    "            **{'RL_argmax_loss': '{:.3f}'.format(loss[1])},\n",
    "            **{'G_loss': '{:.3f}'.format(loss[2])},\n",
    "            **{'D_loss': '{:.3f}'.format(loss[3])},\n",
    "            **{'real_score': '{:.3f}'.format(score[0])},\n",
    "            **{'fake_score': '{:.3f}'.format(score[1])},\n",
    "            **{'sample_acc': '{:.3f}'.format(score[2])},\n",
    "            **{'argmax_acc': '{:.3f}'.format(score[3])}\n",
    "        )\n",
    "        stats.update(sum(loss), 1, log=0)\n",
    "        \n",
    "    t_h = stats.history\n",
    "    history.append(t_h)\n",
    "    \n",
    "    print(\"[info] epoch train loss:\", np.mean(t_h))\n",
    "    \n",
    "#     try:\n",
    "#         torch.save({'model':model.state_dict(), 'training_history':t_h, 'validation_loss':np.mean(v_h)}, \n",
    "#                    \"trained/Model\"+str(epoch))\n",
    "#     except:\n",
    "#         continue"
   ]
  }
 ],
 "metadata": {
  "kernelspec": {
   "display_name": "Python 3",
   "language": "python",
   "name": "python3"
  },
  "language_info": {
   "codemirror_mode": {
    "name": "ipython",
    "version": 3
   },
   "file_extension": ".py",
   "mimetype": "text/x-python",
   "name": "python",
   "nbconvert_exporter": "python",
   "pygments_lexer": "ipython3",
   "version": "3.7.2"
  }
 },
 "nbformat": 4,
 "nbformat_minor": 2
}
