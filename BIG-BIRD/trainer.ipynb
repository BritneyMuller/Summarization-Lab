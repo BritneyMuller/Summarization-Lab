{
 "cells": [
  {
   "cell_type": "code",
   "execution_count": 1,
   "metadata": {},
   "outputs": [],
   "source": [
    "from transformer_nb2 import *\n",
    "from dataset import make_data_generator\n",
    "import json\n",
    "from tqdm import tqdm_notebook as tqdm\n",
    "#from torchsummary import summary"
   ]
  },
  {
   "cell_type": "code",
   "execution_count": 2,
   "metadata": {},
   "outputs": [],
   "source": [
    "folder = 'data/BBC/'\n",
    "data_name = folder+'data.json'\n",
    "# validation_name = folder+'valid_seq.json'\n",
    "# testdata_name = folder+'testdata_seq.json'\n",
    "vocab_name = folder+'vocab.json'"
   ]
  },
  {
   "cell_type": "code",
   "execution_count": 3,
   "metadata": {},
   "outputs": [],
   "source": [
    "num_epochs = 500\n",
    "save_rate = 1 #how many epochs per modelsave\n",
    "#continue_from = \"trained/Model1\" # if none, put None\n",
    "continue_from = None\n",
    "epsilon = 1e-8\n",
    "validation_size = 10000\n",
    "device = torch.device('cuda')\n",
    "!mkdir -p trained"
   ]
  },
  {
   "cell_type": "code",
   "execution_count": 4,
   "metadata": {},
   "outputs": [],
   "source": [
    "vocab = json.load(open(vocab_name, 'r'))\n",
    "VOC_SIZE = len(vocab)\n",
    "INPUT_MAX = 400\n",
    "SUMM_MAX = 20\n",
    "UNK = \"[UNK]\"\n",
    "BOS = \"[CLS]\"\n",
    "EOS = \"[SEP]\"\n",
    "PAD = \"[PAD]\""
   ]
  },
  {
   "cell_type": "code",
   "execution_count": 5,
   "metadata": {},
   "outputs": [
    {
     "name": "stdout",
     "output_type": "stream",
     "text": [
      "loading json\n",
      "load json done.\n"
     ]
    },
    {
     "data": {
      "application/vnd.jupyter.widget-view+json": {
       "model_id": "bde00df7c2884b0b9a3718bed0c13f10",
       "version_major": 2,
       "version_minor": 0
      },
      "text/plain": [
       "HBox(children=(IntProgress(value=0, max=2225), HTML(value='')))"
      ]
     },
     "metadata": {},
     "output_type": "display_data"
    },
    {
     "name": "stdout",
     "output_type": "stream",
     "text": [
      "\n"
     ]
    }
   ],
   "source": [
    "batch_size = 16\n",
    "\n",
    "training_set, training_generator = make_data_generator(\\\n",
    "data_name, INPUT_MAX, SUMM_MAX, vocab[PAD], batch_size, cutoff=None, shuffle=True, num_workers=4)\n",
    "\n",
    "# validation_set, validation_generator = make_data_generator(\\\n",
    "# validation_name, INPUT_MAX, OUTPUT_MAX, vocab[PAD], batch_size, cutoff=validation_size, shuffle=False, num_workers=4)\n",
    "\n",
    "def data_gen_train():\n",
    "    for src, label, tgt in training_generator:\n",
    "        src = src.to(device)\n",
    "        label = (label).long().to(device)\n",
    "        tgt = tgt.to(device)\n",
    "        b = Batch(src, tgt, vocab[PAD])\n",
    "        b.label = label\n",
    "        yield b"
   ]
  },
  {
   "cell_type": "code",
   "execution_count": 6,
   "metadata": {},
   "outputs": [],
   "source": [
    "import math\n",
    "total_train = int(math.ceil(training_set.size / batch_size))\n",
    "# total_valid = int(math.ceil(validation_set.size / batch_size))\n",
    "# print(total_train, total_valid)"
   ]
  },
  {
   "cell_type": "code",
   "execution_count": 7,
   "metadata": {},
   "outputs": [],
   "source": [
    "def make_translator(src_vocab, tgt_vocab, N=6, \n",
    "               d_model=512, d_ff=2048, h=8, dropout=0.1, emb_share=False):\n",
    "    \"Helper: Construct a model from hyperparameters.\"\n",
    "    c = copy.deepcopy\n",
    "    attn = MultiHeadedAttention(h, d_model)\n",
    "    ff = PositionwiseFeedForward(d_model, d_ff, dropout)\n",
    "    position = PositionalEncoding(d_model, dropout)\n",
    "    \n",
    "    src_emb = nn.Sequential(Embeddings(d_model, src_vocab), c(position))\n",
    "    tgt_emb = src_emb if emb_share else nn.Sequential(Embeddings(d_model, tgt_vocab), c(position))\n",
    "    \n",
    "    model = Translator(\n",
    "        Encoder(EncoderLayer(d_model, c(attn), c(ff), dropout), N),\n",
    "        Decoder(DecoderLayer(d_model, c(attn), c(attn), \n",
    "                             c(ff), dropout), N),\n",
    "        src_emb,\n",
    "        tgt_emb,\n",
    "        Generator(d_model, tgt_vocab))\n",
    "    \n",
    "    return model"
   ]
  },
  {
   "cell_type": "code",
   "execution_count": 8,
   "metadata": {},
   "outputs": [],
   "source": [
    "def make_classifier(src_vocab, N=6, \n",
    "               d_model=512, d_ff=2048, h=8, dropout=0.1):\n",
    "    \"Helper: Construct a model from hyperparameters.\"\n",
    "    c = copy.deepcopy\n",
    "    attn = MultiHeadedAttention(h, d_model)\n",
    "    ff = PositionwiseFeedForward(d_model, d_ff, dropout)\n",
    "    position = PositionalEncoding(d_model, dropout)\n",
    "    \n",
    "    bert = BERT(\n",
    "        Encoder(EncoderLayer(d_model, c(attn), c(ff), dropout), N),\n",
    "        nn.Sequential(Embeddings(d_model, src_vocab), c(position)),\n",
    "        vocab[PAD]\n",
    "    )\n",
    "    \n",
    "    model = Classifier(\n",
    "        bert\n",
    "        # criterion = CE\n",
    "    )\n",
    "\n",
    "    return model"
   ]
  },
  {
   "cell_type": "code",
   "execution_count": 9,
   "metadata": {},
   "outputs": [],
   "source": [
    "def make_discriminator(src_vocab, N=6, \n",
    "               d_model=512, d_ff=2048, h=8, dropout=0.1):\n",
    "    \"Helper: Construct a model from hyperparameters.\"\n",
    "    c = copy.deepcopy\n",
    "    attn = MultiHeadedAttention(h, d_model)\n",
    "    ff = PositionwiseFeedForward(d_model, d_ff, dropout)\n",
    "    position = PositionalEncoding(d_model, dropout)\n",
    "    \n",
    "    bert = BERT(\n",
    "        Encoder(EncoderLayer(d_model, c(attn), c(ff), dropout), N),\n",
    "        nn.Sequential(Embeddings(d_model, src_vocab), c(position)),\n",
    "        vocab[PAD]\n",
    "    )\n",
    "    \n",
    "    model = Discriminator(\n",
    "        bert\n",
    "    )\n",
    "    \n",
    "    return model"
   ]
  },
  {
   "cell_type": "code",
   "execution_count": 10,
   "metadata": {},
   "outputs": [],
   "source": [
    "def init_param(model):\n",
    "    for p in model.parameters():\n",
    "        if p.dim() > 1:\n",
    "            nn.init.xavier_uniform_(p)\n",
    "\n",
    "def make_big_bird(vocab, N=6, \n",
    "               d_model=512, d_ff=2048, h=8, dropout=0.1, emb_share=False, bert_share=False):\n",
    "    \"Helper: Construct a model from hyperparameters.\"\n",
    "    \n",
    "    vocab_sz = len(vocab)\n",
    "    \n",
    "    c = copy.deepcopy\n",
    "    attn = MultiHeadedAttention(h, d_model)\n",
    "    ff = PositionwiseFeedForward(d_model, d_ff, dropout)\n",
    "    position = PositionalEncoding(d_model, dropout)\n",
    "    \n",
    "    src_emb = nn.Sequential(Embeddings(d_model, vocab_sz), c(position))\n",
    "    if emb_share:        \n",
    "        tgt_emb = src_emb\n",
    "        bert_class_emb = src_emb\n",
    "        bert_discr_emb = src_emb\n",
    "    else:\n",
    "        tgt_emb = nn.Sequential(Embeddings(d_model, vocab_sz), c(position))\n",
    "        bert_class_emb = nn.Sequential(Embeddings(d_model, vocab_sz), c(position))\n",
    "        bert_discr_emb = nn.Sequential(Embeddings(d_model, vocab_sz), c(position))\n",
    "    \n",
    "    \n",
    "#     bert_class = BERT(\n",
    "#         Encoder(EncoderLayer(d_model, c(attn), c(ff), dropout), N),\n",
    "#         bert_class_emb,\n",
    "#         vocab[PAD]\n",
    "#     )\n",
    "    \n",
    "#     if bert_share:\n",
    "#         bert_discr = bert_class\n",
    "#     else:\n",
    "#         bert_discr = BERT(\n",
    "#             Encoder(EncoderLayer(d_model, c(attn), c(ff), dropout), N),\n",
    "#             bert_discr_emb,\n",
    "#             vocab[PAD]\n",
    "#         )\n",
    "        \n",
    "    bert_class = LSTMEncoder(\n",
    "        vocab_sz, \n",
    "        d_model,\n",
    "        vocab[PAD]\n",
    "    )\n",
    "    \n",
    "    if bert_share:\n",
    "        bert_discr = bert_class\n",
    "    else:\n",
    "        bert_discr = LSTMEncoder(\n",
    "            vocab_sz, \n",
    "            d_model,\n",
    "            vocab[PAD]\n",
    "        )\n",
    "    \n",
    "    translator = Translator(\n",
    "        Encoder(EncoderLayer(d_model, c(attn), c(ff), dropout), N),\n",
    "        Decoder(DecoderLayer(d_model, c(attn), c(attn), \n",
    "                             c(ff), dropout), N),\n",
    "        src_emb,\n",
    "        tgt_emb,\n",
    "        Generator(d_model, vocab_sz))\n",
    "    \n",
    "    classifier = Classifier(\n",
    "        bert_class\n",
    "        # criterion = BCE\n",
    "    )\n",
    "        \n",
    "    discriminator = Discriminator(\n",
    "        bert_discr\n",
    "    )\n",
    "        \n",
    "    # This was important from their code. \n",
    "    # Initialize parameters with Glorot / fan_avg.\n",
    "    for m in [translator, classifier, discriminator]:\n",
    "        init_param(m)\n",
    "            \n",
    "    # creation of big bird\n",
    "    model = BigBird(\n",
    "        translator, discriminator, classifier, \n",
    "        vocab, gamma=0.99, clip_value=0.1, #for WGAN, if WGAN-GP is used this is useless \n",
    "        lr_G = 0.,\n",
    "        lr_D = 0.,\n",
    "        lr_C = 1e-4,\n",
    "        LAMBDA = 10, # Gradient penalty lambda hyperparameter\n",
    "        RL_scale = 1000,\n",
    "        device = device\n",
    "    )\n",
    "\n",
    "    return model\n"
   ]
  },
  {
   "cell_type": "code",
   "execution_count": 11,
   "metadata": {},
   "outputs": [],
   "source": [
    "model = make_big_bird(vocab, N=4, d_model=256, d_ff=512, h=8, dropout=0.1, emb_share=True, bert_share=True)\n",
    "#model.load(\"Nest/NewbornBird\")"
   ]
  },
  {
   "cell_type": "code",
   "execution_count": 12,
   "metadata": {},
   "outputs": [],
   "source": [
    "vocab_inv = {a:b for b, a in vocab.items()}\n",
    "def convert_ids_to_tokens(ids):\n",
    "    return [vocab_inv[i] for i in ids]"
   ]
  },
  {
   "cell_type": "code",
   "execution_count": 13,
   "metadata": {
    "scrolled": false
   },
   "outputs": [
    {
     "name": "stdout",
     "output_type": "stream",
     "text": [
      "Epoch 1\n"
     ]
    },
    {
     "data": {
      "application/vnd.jupyter.widget-view+json": {
       "model_id": "d64c75bc181b4362b3be68d4e9005c16",
       "version_major": 2,
       "version_minor": 0
      },
      "text/plain": [
       "HBox(children=(IntProgress(value=0, max=140), HTML(value='')))"
      ]
     },
     "metadata": {},
     "output_type": "display_data"
    },
    {
     "name": "stdout",
     "output_type": "stream",
     "text": [
      "\n",
      "[info] epoch train loss: 0.8801418054915432\n",
      "Epoch 2\n"
     ]
    },
    {
     "data": {
      "application/vnd.jupyter.widget-view+json": {
       "model_id": "9523eb1cc9734233ba0d2416433b040b",
       "version_major": 2,
       "version_minor": 0
      },
      "text/plain": [
       "HBox(children=(IntProgress(value=0, max=140), HTML(value='')))"
      ]
     },
     "metadata": {},
     "output_type": "display_data"
    },
    {
     "name": "stdout",
     "output_type": "stream",
     "text": [
      "\n",
      "[info] epoch train loss: 0.6338001209444233\n",
      "Epoch 3\n"
     ]
    },
    {
     "data": {
      "application/vnd.jupyter.widget-view+json": {
       "model_id": "87f29907326d4e8d88580b72a570d785",
       "version_major": 2,
       "version_minor": 0
      },
      "text/plain": [
       "HBox(children=(IntProgress(value=0, max=140), HTML(value='')))"
      ]
     },
     "metadata": {},
     "output_type": "display_data"
    },
    {
     "name": "stdout",
     "output_type": "stream",
     "text": [
      "\n",
      "[info] epoch train loss: 0.6432896434129881\n",
      "Epoch 4\n"
     ]
    },
    {
     "data": {
      "application/vnd.jupyter.widget-view+json": {
       "model_id": "b7c904be728a4bc7ac985a996294d89e",
       "version_major": 2,
       "version_minor": 0
      },
      "text/plain": [
       "HBox(children=(IntProgress(value=0, max=140), HTML(value='')))"
      ]
     },
     "metadata": {},
     "output_type": "display_data"
    },
    {
     "name": "stdout",
     "output_type": "stream",
     "text": [
      "\n",
      "[info] epoch train loss: 1.0768946492703566\n",
      "Epoch 5\n"
     ]
    },
    {
     "data": {
      "application/vnd.jupyter.widget-view+json": {
       "model_id": "083373ee00984d1a8777751d287c0570",
       "version_major": 2,
       "version_minor": 0
      },
      "text/plain": [
       "HBox(children=(IntProgress(value=0, max=140), HTML(value='')))"
      ]
     },
     "metadata": {},
     "output_type": "display_data"
    },
    {
     "name": "stdout",
     "output_type": "stream",
     "text": [
      "\n",
      "[info] epoch train loss: 0.6956088619306684\n",
      "Epoch 6\n"
     ]
    },
    {
     "data": {
      "application/vnd.jupyter.widget-view+json": {
       "model_id": "8826bb589d274b4fad7c691e787499c9",
       "version_major": 2,
       "version_minor": 0
      },
      "text/plain": [
       "HBox(children=(IntProgress(value=0, max=140), HTML(value='')))"
      ]
     },
     "metadata": {},
     "output_type": "display_data"
    },
    {
     "name": "stdout",
     "output_type": "stream",
     "text": [
      "\n",
      "[info] epoch train loss: 0.768599315612976\n",
      "Epoch 7\n"
     ]
    },
    {
     "data": {
      "application/vnd.jupyter.widget-view+json": {
       "model_id": "03436e817b2d4b2faecfaf4d33f058d3",
       "version_major": 2,
       "version_minor": 0
      },
      "text/plain": [
       "HBox(children=(IntProgress(value=0, max=140), HTML(value='')))"
      ]
     },
     "metadata": {},
     "output_type": "display_data"
    },
    {
     "name": "stdout",
     "output_type": "stream",
     "text": [
      "\n",
      "[info] epoch train loss: 0.551974475597048\n",
      "Epoch 8\n"
     ]
    },
    {
     "data": {
      "application/vnd.jupyter.widget-view+json": {
       "model_id": "8fd3ffe0400444449792d60661ba2d18",
       "version_major": 2,
       "version_minor": 0
      },
      "text/plain": [
       "HBox(children=(IntProgress(value=0, max=140), HTML(value='')))"
      ]
     },
     "metadata": {},
     "output_type": "display_data"
    },
    {
     "name": "stdout",
     "output_type": "stream",
     "text": [
      "lay egg to ./Nest ... save as ./Nest/NewbornBird\n",
      "origin:\n",
      "['[CLS]', 'could', 'yu', '##kos', 'be', 'a', 'blessing', 'in', 'disguise', 'other', 'things', 'being', 'equal', 'the', 'notion', 'of', 'entrepreneurs', 'lang', '##uis', '##hing', 'in', 'jail', 'while', 'their', 'companies', 'are', 'sold', 'off', 'for', 'a', 'song', 'ought', 'to', 'be', 'bad', 'for', 'business', '.', 'but', 'in', 'the', 'looking', '-', 'glass', 'world', 'of', 'modern', 'russia', 'the', 'opposite', 'might', 'just', 'be', 'true', 'a', 'new', 'report', '*', 'has', 'argued', '.', 'the', 'study', 'from', 'the', 'centre', 'for', 'economic', 'policy', 'research', 'does', 'not', 'praise', 'the', 'rough', 'handling', 'of', 'oil', 'company', 'yu', '##kos', '.', 'but', 'it', 'argues', 'that', 'more', 'rigorous', 'tax', 'policing', 'has', 'benefited', 'all', 'russian', 'firms', 'even', 'targets', 'of', 'the', 'tax', 'police', '.', 'an', 'increase', 'in', 'tax', 'enforcement', 'can', 'increase', 'the', 'amount', '[', 'of', 'divide', '##nds', 'and', 'other', 'income', ']', 'outside', 'shareholders', 'will', 'receive', 'even', 'accounting', 'for', 'increased', 'levels', 'of', 'taxation', 'the', 'authors', 'say', '.', 'the', 'paper', 's', 'reasoning', 'is', 'complex', 'and', 'is', 'based', 'on', 'a', 'sophisticated', 'model', 'of', 'the', 'relationship', 'between', 'tax', 'regimes', 'and', 'corporate', 'governance', '-', 'in', 'particular', 'the', 'prop', '##ens', '##ity', 'of', 'management', 'to', 'steal', 'from', 'the', 'company', '.', 'the', 'calculations', 'demonstrated', 'what', 'many', 'russian', 'analysts', 'already', 'knew', ':', 'that', 'increasing', 'the', 'tax', 'rate', 'increases', 'the', 'amount', 'that', 'managers', 'steal', 'since', 'und', '##ec', '##lar', '##ed', 'income', 'becomes', 'relatively', 'more', 'valuable', '.', 'in', 'the', 'west', 'meanwhile', 'higher', 'tax', 'rates', 'translate', 'far', 'more', 'smoothly', 'into', 'higher', 'government', 'revenues', '.', 'on', 'the', 'other', 'hand', 'increasing', 'the', 'rig', '##our', 'with', 'which', 'taxes', 'are', 'collected', 'encourages', 'companies', 'to', 'become', 'more', 'transparent', 'forcing', 'them', 'to', 'be', 'able', 'to', 'demonstrate', 'their', 'financial', 'position', 'far', 'more', 'accurately', '.', 'the', 'net', 'result', 'the', 'authors', 'say', 'is', 'that', 'the', 'extra', 'amount', 'companies', 'pay', 'in', 'tax', 'is', 'more', 'than', 'compensated', 'for', 'by', 'greater', 'efficiency', 'and', 'financial', 'sound', '##ness', '.', 'after', 'vladimir', 'putin', 'became', 'president', 'in', '2000', 'he', 'did', 'not', 'raise', 'taxes', 'but', 'put', 'a', 'lot', 'of', 'effort', '-', 'too', 'much', 'critics', 'argue', '-', 'into', 'enforcement', '.', 'since', 'then', 'the', 'russian', 'stock', 'market', 'has', 'more', 'than', 'tre', '##bled', 'in', 'value', 'a', 'rise', 'the', 'authors', 'attribute', 'at', 'least', 'in', 'part', 'to', 'the', 'newly', 'tough', 'approach', '.', 'the', 'report', 'highlights', 'the', 'case', 'of', 'si', '##bn', '##eft', 'a', 'russian', 'oil', 'company', 'that', 'came', 'close', 'to', 'merging', 'with', 'yu', '##kos', 'last', 'year', '.', 'after', 'mr', 'putin', 'came', 'to', 'power', 'the', 'company', 's', 'overall', 'effective', 'tax', 'rate', 'rose', 'from', '2', '.', '6', '%', 'to', '10', '.', '4', '%', 'and', 'si', '##bn', '##eft', 'was', 'the', 'target', 'of', 'a', 'series', 'of', 'aggressive', 'raids', 'by', 'fiscal', 'police', '.']\n",
      "summary:\n",
      "['[CLS]', '##kers', '##kers', '##kers', '##kers', '##kers', '##kers', '##kers', '##kers', '##kers', '##kers', '##kers', '##kers', '##kers', '##kers', '##kers', '##kers', '##kers', '##kers', '##kers']\n",
      "real summary:\n",
      "['[CLS]', 'could', 'yu', '##kos', 'be', 'a', 'blessing', 'in', 'disguise', 'other', 'things', 'being', 'equal', 'the', 'notion', 'of', 'entrepreneurs', 'lang', '##uis']\n",
      "sentiment: 0\n",
      "y: 1\n",
      "\n",
      "\n",
      "[info] epoch train loss: 0.5891696833057463\n",
      "Epoch 9\n"
     ]
    },
    {
     "data": {
      "application/vnd.jupyter.widget-view+json": {
       "model_id": "481cf2ba004a496dac98e26e06ac8353",
       "version_major": 2,
       "version_minor": 0
      },
      "text/plain": [
       "HBox(children=(IntProgress(value=0, max=140), HTML(value='')))"
      ]
     },
     "metadata": {},
     "output_type": "display_data"
    },
    {
     "name": "stdout",
     "output_type": "stream",
     "text": [
      "\n",
      "[info] epoch train loss: 0.4635459717512796\n",
      "Epoch 10\n"
     ]
    },
    {
     "data": {
      "application/vnd.jupyter.widget-view+json": {
       "model_id": "60a4d435426f4c3ebd4b7e6f327ba4ff",
       "version_major": 2,
       "version_minor": 0
      },
      "text/plain": [
       "HBox(children=(IntProgress(value=0, max=140), HTML(value='')))"
      ]
     },
     "metadata": {},
     "output_type": "display_data"
    },
    {
     "name": "stdout",
     "output_type": "stream",
     "text": [
      "\n",
      "[info] epoch train loss: 0.4268523891215279\n",
      "Epoch 11\n"
     ]
    },
    {
     "data": {
      "application/vnd.jupyter.widget-view+json": {
       "model_id": "1ded70f9966741a4bfff429d1445dc05",
       "version_major": 2,
       "version_minor": 0
      },
      "text/plain": [
       "HBox(children=(IntProgress(value=0, max=140), HTML(value='')))"
      ]
     },
     "metadata": {},
     "output_type": "display_data"
    },
    {
     "name": "stdout",
     "output_type": "stream",
     "text": [
      "\n",
      "[info] epoch train loss: 0.3562913704434842\n",
      "Epoch 12\n"
     ]
    },
    {
     "data": {
      "application/vnd.jupyter.widget-view+json": {
       "model_id": "df2b299759ff49b6b7e471fac8268bad",
       "version_major": 2,
       "version_minor": 0
      },
      "text/plain": [
       "HBox(children=(IntProgress(value=0, max=140), HTML(value='')))"
      ]
     },
     "metadata": {},
     "output_type": "display_data"
    },
    {
     "name": "stdout",
     "output_type": "stream",
     "text": [
      "\n",
      "[info] epoch train loss: 0.25390403578931\n",
      "Epoch 13\n"
     ]
    },
    {
     "data": {
      "application/vnd.jupyter.widget-view+json": {
       "model_id": "cea3323fcbff4628b851addc1c814521",
       "version_major": 2,
       "version_minor": 0
      },
      "text/plain": [
       "HBox(children=(IntProgress(value=0, max=140), HTML(value='')))"
      ]
     },
     "metadata": {},
     "output_type": "display_data"
    },
    {
     "name": "stdout",
     "output_type": "stream",
     "text": [
      "\n",
      "[info] epoch train loss: 0.15519579635209604\n",
      "Epoch 14\n"
     ]
    },
    {
     "data": {
      "application/vnd.jupyter.widget-view+json": {
       "model_id": "ce3fcf27d7b7456e830fe62a2e528401",
       "version_major": 2,
       "version_minor": 0
      },
      "text/plain": [
       "HBox(children=(IntProgress(value=0, max=140), HTML(value='')))"
      ]
     },
     "metadata": {},
     "output_type": "display_data"
    },
    {
     "name": "stdout",
     "output_type": "stream",
     "text": [
      "\n",
      "[info] epoch train loss: 0.1669113004879494\n",
      "Epoch 15\n"
     ]
    },
    {
     "data": {
      "application/vnd.jupyter.widget-view+json": {
       "model_id": "158db38a92b549eaa70aa5dbeed32eb0",
       "version_major": 2,
       "version_minor": 0
      },
      "text/plain": [
       "HBox(children=(IntProgress(value=0, max=140), HTML(value='')))"
      ]
     },
     "metadata": {},
     "output_type": "display_data"
    },
    {
     "name": "stdout",
     "output_type": "stream",
     "text": [
      "lay egg to ./Nest ... save as ./Nest/NewbornBird\n",
      "origin:\n",
      "['[CLS]', 'malik', 'rejects', 'all', '-', 'black', 'mp', 'lists', 'a', 'call', 'for', 'ethnic', 'minority', 'short', '##lists', 'to', 'boost', 'the', 'number', 'of', 'black', 'and', 'asian', 'mps', 'has', 'been', 'rejected', 'by', 'one', 'of', 'labour', 's', 'most', 'senior', 'asian', '##s', '.', 'shah', '##id', 'malik', 'who', 'is', 'on', 'labour', 's', 'ruling', 'nec', 'accepted', 'people', 's', 'frustration', 'but', 'said', 'there', 'should', 'be', 'targets', 'not', 'lists', 'to', 'boost', 'representation', 'of', 'minorities', '.', 'just', '13', 'of', 'britain', 's', '65', '##9', 'mps', 'are', 'from', 'ethnic', 'minority', 'groups', 'he', 'added', '.', 'commission', 'for', 'racial', 'equality', 'chief', 'trevor', 'phillips', 'argued', 'on', 'sunday', 'the', 'time', 'had', 'come', 'for', 'such', 'short', '##lists', '.', 'that', 'came', 'after', 'it', 'emerged', 'that', 'one', 'of', 'britain', 's', 'most', 'ethnic', '##ally', 'diverse', 'constituency', 'west', 'ham', 'was', 'to', 'get', 'a', 'women', '-', 'only', 'short', '##list', 'for', 'the', 'next', 'election', 'following', 'an', 'nec', 'ruling', '.', 'mr', 'phillips', 'said', 'changes', 'to', 'the', 'race', 'relations', 'legislation', 'might', 'allow', 'political', 'parties', 'to', 'reserve', 'seats', 'for', 'under', '-', 'represented', 'groups', '.', 'for', 'example', 'in', 'west', 'ham', 'this', 'might', 'allow', 'only', 'women', 'and', 'minorities', 'to', 'seek', 'to', 'be', 'candidates', '.', 'if', 'we', 'get', 'to', 'the', 'other', 'side', 'of', 'the', 'general', 'election', 'and', 'find', 'that', 'minorities', 'are', 'not', 'represented', 'we', 'have', 'to', 'say', 'that', 'after', '20', 'or', '30', 'years', 'of', 'talking', 'about', 'this', 'we', 'cannot', 'go', 'on', 'the', 'same', 'way', 'he', 'said', '.', 'he', 'added', ':', 'it', 'would', 'be', 'terribly', 'disappointing', 'if', 'in', 'the', 'least', 'white', 'constituency', '[', 'west', 'ham', ']', 'in', 'the', 'whole', 'of', 'europe', 'we', 'didn', 't', 'have', 'a', 'minority', 'candidate', '.', 'appearing', 'on', 'bbc', 'radio', '4', 's', 'today', 'programme', 'mr', 'malik', 'who', 'is', 'himself', 'running', 'for', 'the', 'seat', 'of', 'dew', '##sbury', 'acknowledged', 'that', 'so', 'far', 'women', '-', 'only', 'short', '##lists', 'had', 'failed', 'to', 'deliver', 'a', 'boost', 'in', 'the', 'number', 'of', 'ethnic', 'minority', 'candidates', '.', 'but', 'he', 'argued', ':', 'i', 'do', 'think', 'that', 'there', 'currently', 'things', 'that', 'parties', 'can', 'do', 'and', 'which', 'they', 'aren', 't', 'doing', '.', '.', '.', 'for', 'example', 'setting', 'targets', 'to', 'ensure', 'that', 'existing', 'democratic', 'structures', 'are', 'more', 'reflective', '.', 'labour', 'mp', 'diane', 'abbot', 'who', 'backs', 'mr', 'phillips', 'proposal', 'of', 'short', '##lists', 'said', 'she', 'had', 'been', 'elected', 'along', 'with', 'three', 'other', 'ethnic', 'minority', 'mps', '-', 'keith', 'va', '##z', 'paul', 'boat', '##eng', 'and', 'bernie', 'grant', '-', 'in', '1987', 'but', 'it', 'took', 'another', '10', 'years', 'before', 'another', 'black', 'woman', 'was', 'able', 'to', 'win', 'a', 'seat', '.', 'that', 'was', 'a', 'rate', 'of', 'progress', 'ms', 'abbott', 'described', 'as', 'painful', '.', 'i', 'am', 'a', 'little', 'older']\n",
      "summary:\n",
      "['[CLS]', '##kers', '##kers', '##kers', '##kers', '##kers', '##kers', '##kers', '##kers', '##kers', '##kers', '##kers', '##kers', '##kers', '##kers', '##kers', '##kers', '##kers', '##kers', '##kers']\n",
      "real summary:\n",
      "['[CLS]', 'malik', 'rejects', 'all', '-', 'black', 'mp', 'lists', 'a', 'call', 'for', 'ethnic', 'minority', 'short', '##lists', 'to', 'boost', 'the', 'number']\n",
      "sentiment: 4\n",
      "y: 4\n",
      "\n",
      "\n",
      "[info] epoch train loss: 0.15777843868501285\n",
      "Epoch 16\n"
     ]
    },
    {
     "data": {
      "application/vnd.jupyter.widget-view+json": {
       "model_id": "cad6769372db4d549c52ea3113c1e515",
       "version_major": 2,
       "version_minor": 0
      },
      "text/plain": [
       "HBox(children=(IntProgress(value=0, max=140), HTML(value='')))"
      ]
     },
     "metadata": {},
     "output_type": "display_data"
    },
    {
     "name": "stdout",
     "output_type": "stream",
     "text": [
      "\n",
      "[info] epoch train loss: 0.12804181906997525\n",
      "Epoch 17\n"
     ]
    },
    {
     "data": {
      "application/vnd.jupyter.widget-view+json": {
       "model_id": "ae4dca7dd3fb4b8b8ae844a139c1a036",
       "version_major": 2,
       "version_minor": 0
      },
      "text/plain": [
       "HBox(children=(IntProgress(value=0, max=140), HTML(value='')))"
      ]
     },
     "metadata": {},
     "output_type": "display_data"
    },
    {
     "name": "stdout",
     "output_type": "stream",
     "text": [
      "\n",
      "[info] epoch train loss: 0.19528220870374102\n",
      "Epoch 18\n"
     ]
    },
    {
     "data": {
      "application/vnd.jupyter.widget-view+json": {
       "model_id": "a151cfd8c3074a7a9f91797c0d54c32e",
       "version_major": 2,
       "version_minor": 0
      },
      "text/plain": [
       "HBox(children=(IntProgress(value=0, max=140), HTML(value='')))"
      ]
     },
     "metadata": {},
     "output_type": "display_data"
    },
    {
     "name": "stdout",
     "output_type": "stream",
     "text": [
      "\n",
      "[info] epoch train loss: 0.13884937763546726\n",
      "Epoch 19\n"
     ]
    },
    {
     "data": {
      "application/vnd.jupyter.widget-view+json": {
       "model_id": "a05c4b0c651943e4bf0d076c36209f7d",
       "version_major": 2,
       "version_minor": 0
      },
      "text/plain": [
       "HBox(children=(IntProgress(value=0, max=140), HTML(value='')))"
      ]
     },
     "metadata": {},
     "output_type": "display_data"
    },
    {
     "name": "stdout",
     "output_type": "stream",
     "text": [
      "\n",
      "[info] epoch train loss: 0.20192862339400952\n",
      "Epoch 20\n"
     ]
    },
    {
     "data": {
      "application/vnd.jupyter.widget-view+json": {
       "model_id": "b033190af7a749c39c1de5b1d95ac8d3",
       "version_major": 2,
       "version_minor": 0
      },
      "text/plain": [
       "HBox(children=(IntProgress(value=0, max=140), HTML(value='')))"
      ]
     },
     "metadata": {},
     "output_type": "display_data"
    },
    {
     "name": "stdout",
     "output_type": "stream",
     "text": [
      "\n",
      "[info] epoch train loss: 0.17147502690485064\n",
      "Epoch 21\n"
     ]
    },
    {
     "data": {
      "application/vnd.jupyter.widget-view+json": {
       "model_id": "7176af3dff314a9fafecb2b6d31b84e8",
       "version_major": 2,
       "version_minor": 0
      },
      "text/plain": [
       "HBox(children=(IntProgress(value=0, max=140), HTML(value='')))"
      ]
     },
     "metadata": {},
     "output_type": "display_data"
    },
    {
     "name": "stdout",
     "output_type": "stream",
     "text": [
      "\n",
      "[info] epoch train loss: 0.13786804842987163\n",
      "Epoch 22\n"
     ]
    },
    {
     "data": {
      "application/vnd.jupyter.widget-view+json": {
       "model_id": "01808cbf5a854978bc40c2d5b2a902a1",
       "version_major": 2,
       "version_minor": 0
      },
      "text/plain": [
       "HBox(children=(IntProgress(value=0, max=140), HTML(value='')))"
      ]
     },
     "metadata": {},
     "output_type": "display_data"
    },
    {
     "name": "stdout",
     "output_type": "stream",
     "text": [
      "lay egg to ./Nest ... save as ./Nest/NewbornBird\n",
      "origin:\n",
      "['[CLS]', 'ga', '##dgets', 'gal', '##ore', 'on', 'show', 'at', 'fair', 'the', '2005', 'consumer', 'electronics', 'show', 'in', 'las', 'vegas', 'is', 'a', 'geek', 's', 'paradise', 'with', 'more', 'than', '50', '000', 'new', 'ga', '##dgets', 'and', 'technologies', 'launched', 'during', 'the', 'four', '-', 'day', 'event', '.', 'top', 'ga', '##dgets', 'at', 'the', 'show', 'are', 'highlighted', 'in', 'the', 'innovations', 'showcase', 'which', 'recognise', '##s', 'some', 'of', 'the', 'hottest', 'developments', 'in', 'consumer', 'electronics', '.', 'the', 'bbc', 'news', 'website', 'took', 'an', 'early', 'pre', '-', 'show', 'look', 'at', 'some', 'of', 'those', 'technologies', 'that', 'will', 'be', 'making', 'their', 'debut', 'in', '2005', '.', 'one', 'of', 'the', 'key', 'issues', 'for', 'keen', 'ga', '##dget', 'users', 'is', 'how', 'to', 'store', 'all', 'their', 'digital', 'images', 'audio', 'and', 'video', 'files', '.', 'the', '2', '.', '5', '##gb', 'and', '5', '##gb', 'circular', 'pocket', 'hard', 'drive', 'from', 'sea', '##gate', 'might', 'help', '.', 'the', 'external', 'usb', 'drive', 'won', 'a', 'ce', '##s', 'best', 'innovations', 'design', 'and', 'engineering', 'award', 'and', 'is', 'small', 'enough', 'to', 'slip', 'into', 'a', 'pocket', '.', 'it', 'is', 'the', 'kind', 'of', 'storage', 'that', 'appeals', 'to', 'people', 'who', 'want', 'their', 'pcs', 'to', 'look', 'cool', 'said', 'sea', '##gate', '.', 'it', 'is', 'all', 'about', 'style', 'but', 'it', 'also', 'has', 'lots', 'of', 'functionality', '.', 'it', 'is', 'the', 'first', 'time', 'you', 'can', 'say', 'a', 'hard', 'drive', 'is', 'sexy', 'it', 'said', '.', 'in', 'the', 'centre', 'of', 'the', 'device', 'is', 'a', 'blue', 'light', 'that', 'flashes', 'while', 'data', 'is', 'being', 'written', 'to', 'ensure', 'users', 'do', 'not', 'un', '##pl', '##ug', 'it', 'when', 'it', 'is', 'busy', 'saving', 'those', 'precious', 'pictures', '.', 'universal', 'electronics', 'ne', '##vos', '##l', 'is', 'a', 'universal', 'controller', 'that', 'lets', 'people', 'use', 'one', 'device', 'to', 'get', 'at', 'their', 'multimedia', 'content', 'such', 'as', 'photos', 'no', 'matter', 'where', 'it', 'is', 'in', 'their', 'house', '.', 'it', 'can', 'also', 'act', 'as', 'a', 'remote', 'for', 'home', 'theatre', 'and', 'stereo', 'systems', '.', 'working', 'with', 'home', 'broadband', 'networks', 'and', 'pcs', 'the', 'ga', '##dget', 'has', 'built', '-', 'in', 'wireless', 'and', 'a', 'colourful', 'simple', 'interface', '.', 'paul', 'ar', '##ling', 'u', '##ei', 'chief', 'said', 'consumers', 'face', 'real', 'problems', 'when', 'trying', 'to', 'get', 'at', 'all', 'the', 'files', 'they', 'own', 'that', 'are', 'typically', 'spread', 'across', 'several', 'different', 'devices', '.', 'he', 'said', 'the', 'ne', '##vo', 'gave', 'people', 'a', 'simple', 'single', 'way', 'to', 'regain', 'some', 'control', 'over', 'digital', 'media', 'in', 'the', 'home', '.', 'the', 'ne', '##vo', 'won', 'two', 'awards', 'at', 'ce', '##s', 'one', 'as', 'a', 'girl', 's', 'best', 'friend', 'award', 'and', 'another', 'for', 'innovation', 'design', 'and', 'engineering', '.', 'the', 'ga', '##dget', 'is', 'expected', 'to', 'go', 'on', 'sale', 'before', 'the', 'summer', 'and', 'will', 'cost', 'about']\n",
      "summary:\n",
      "['[CLS]', '##kers', '##kers', '##kers', '##kers', '##kers', '##kers', '##kers', '##kers', '##kers', '##kers', '##kers', '##kers', '##kers', '##kers', '##kers', '##kers', '##kers', '##kers', '##kers']\n",
      "real summary:\n",
      "['[CLS]', 'ga', '##dgets', 'gal', '##ore', 'on', 'show', 'at', 'fair', 'the', '2005', 'consumer', 'electronics', 'show', 'in', 'las', 'vegas', 'is', 'a']\n",
      "sentiment: 4\n",
      "y: 0\n",
      "\n",
      "\n",
      "[info] epoch train loss: 0.13901020885594853\n",
      "Epoch 23\n"
     ]
    },
    {
     "data": {
      "application/vnd.jupyter.widget-view+json": {
       "model_id": "91c2781a2f644645b4f6232c89f931ae",
       "version_major": 2,
       "version_minor": 0
      },
      "text/plain": [
       "HBox(children=(IntProgress(value=0, max=140), HTML(value='')))"
      ]
     },
     "metadata": {},
     "output_type": "display_data"
    },
    {
     "name": "stdout",
     "output_type": "stream",
     "text": [
      "\n",
      "[info] epoch train loss: 0.1765695043024607\n",
      "Epoch 24\n"
     ]
    },
    {
     "data": {
      "application/vnd.jupyter.widget-view+json": {
       "model_id": "bb1ce47f94434a099aaac29c60fb3741",
       "version_major": 2,
       "version_minor": 0
      },
      "text/plain": [
       "HBox(children=(IntProgress(value=0, max=140), HTML(value='')))"
      ]
     },
     "metadata": {},
     "output_type": "display_data"
    },
    {
     "name": "stdout",
     "output_type": "stream",
     "text": [
      "\n",
      "[info] epoch train loss: 0.11799510126703742\n",
      "Epoch 25\n"
     ]
    },
    {
     "data": {
      "application/vnd.jupyter.widget-view+json": {
       "model_id": "48e2446284b94988b8f2bc70dfad25ef",
       "version_major": 2,
       "version_minor": 0
      },
      "text/plain": [
       "HBox(children=(IntProgress(value=0, max=140), HTML(value='')))"
      ]
     },
     "metadata": {},
     "output_type": "display_data"
    },
    {
     "name": "stdout",
     "output_type": "stream",
     "text": [
      "\n",
      "[info] epoch train loss: 0.16345142064882176\n",
      "Epoch 26\n"
     ]
    },
    {
     "data": {
      "application/vnd.jupyter.widget-view+json": {
       "model_id": "59f3ea51eae2441596a21766e15a862c",
       "version_major": 2,
       "version_minor": 0
      },
      "text/plain": [
       "HBox(children=(IntProgress(value=0, max=140), HTML(value='')))"
      ]
     },
     "metadata": {},
     "output_type": "display_data"
    },
    {
     "name": "stdout",
     "output_type": "stream",
     "text": [
      "\n",
      "[info] epoch train loss: 0.11090809642129378\n",
      "Epoch 27\n"
     ]
    },
    {
     "data": {
      "application/vnd.jupyter.widget-view+json": {
       "model_id": "aa1565dc519841e98876704357dd9810",
       "version_major": 2,
       "version_minor": 0
      },
      "text/plain": [
       "HBox(children=(IntProgress(value=0, max=140), HTML(value='')))"
      ]
     },
     "metadata": {},
     "output_type": "display_data"
    },
    {
     "name": "stdout",
     "output_type": "stream",
     "text": [
      "\n",
      "[info] epoch train loss: 0.1062163833316715\n",
      "Epoch 28\n"
     ]
    },
    {
     "data": {
      "application/vnd.jupyter.widget-view+json": {
       "model_id": "004f4caabae349b6affcfc8048ee48f5",
       "version_major": 2,
       "version_minor": 0
      },
      "text/plain": [
       "HBox(children=(IntProgress(value=0, max=140), HTML(value='')))"
      ]
     },
     "metadata": {},
     "output_type": "display_data"
    },
    {
     "name": "stdout",
     "output_type": "stream",
     "text": [
      "\n",
      "[info] epoch train loss: 0.08133231502807965\n",
      "Epoch 29\n"
     ]
    },
    {
     "data": {
      "application/vnd.jupyter.widget-view+json": {
       "model_id": "2638bebfdd394097b102e65202d3be4c",
       "version_major": 2,
       "version_minor": 0
      },
      "text/plain": [
       "HBox(children=(IntProgress(value=0, max=140), HTML(value='')))"
      ]
     },
     "metadata": {},
     "output_type": "display_data"
    },
    {
     "name": "stdout",
     "output_type": "stream",
     "text": [
      "lay egg to ./Nest ... save as ./Nest/NewbornBird\n",
      "origin:\n",
      "['[CLS]', 'high', 'fuel', 'costs', 'hit', 'us', 'airlines', 'two', 'of', 'the', 'largest', 'airlines', 'in', 'the', 'us', '-', 'american', 'and', 'southwest', '-', 'have', 'blamed', 'record', 'fuel', 'prices', 'for', 'their', 'disappointing', 'quarterly', 'results', '.', 'american', 'airlines', 'parent', 'am', '##r', 'reported', 'a', 'loss', 'of', '$', '38', '##7', '##m', '(', '£2', '##0', '##6', '##m', ')', 'for', 'the', 'fourth', 'quarter', 'of', '2004', 'against', 'a', '$', '111', '##m', 'loss', 'for', 'the', 'same', 'period', 'a', 'year', 'earlier', '.', 'meanwhile', 'southwest', 'airlines', 'saw', 'its', 'fourth', '-', 'quarter', '2004', 'profits', 'fall', '15', '%', 'to', '$', '56', '##m', 'against', '$', '66', '##m', 'a', 'year', 'earlier', '.', 'both', 'said', 'high', 'fuel', 'bills', 'would', 'continue', 'to', 'pressure', 'revenues', 'in', '2005', '.', 'american', 'the', 'world', 's', 'biggest', 'airline', 'by', 'some', 'measures', 'said', 'it', 'expected', 'to', 'report', 'a', 'loss', 'for', 'the', 'first', 'quarter', 'of', '2005', '.', 'southwest', 'which', 'has', 'the', 'highest', 'market', 'value', 'of', 'any', 'us', 'carrier', 'said', 'it', 'would', 'remain', 'profitable', 'despite', 'high', 'fuel', 'prices', '.', 'am', '##r', 's', 'shares', 'were', 'flat', 'in', 'wednesday', 'morning', 'trading', 'on', 'the', 'new', 'york', 'stock', 'exchange', 'as', 'the', 'results', 'were', 'slightly', 'better', 'than', 'analysts', 'had', 'anticipated', '.', 'am', '##r', 's', 'chief', 'executive', 'gerard', 'ar', '##pe', '##y', 'said', 'the', 'airline', 's', 'difficulties', 'reflected', 'the', 'situation', 'within', 'the', 'industry', '.', 'am', '##r', 's', 'results', 'for', 'the', 'fourth', 'quarter', 'of', '2004', 'reflect', 'the', 'economic', 'wo', '##es', 'that', 'plagued', 'the', 'airline', 'industry', 'throughout', '2004', '-', 'in', 'particular', 'high', 'fuel', 'prices', 'and', 'a', 'tough', 'revenue', 'environment', 'he', 'said', '.', 'for', 'the', 'full', 'year', 'am', '##r', 'posted', 'a', 'loss', 'of', '$', '76', '##1', '##m', 'lower', 'than', '2003', 's', '$', '1', '.', '2', '##bn', 'loss', 'and', 'an', 'indication', 'that', 'the', 'airline', 'has', 'successfully', 'cut', 'costs', '.', 'am', '##r', 'added', 'that', 'as', 'part', 'of', 'its', 'cost', 'cutting', 'measures', 'it', 'is', 'post', '##pon', '##ing', 'the', 'delivery', 'of', '54', 'boeing', 'jets', '.', 'shares', 'in', 'southwest', 'fell', '65', 'cents', 'to', '$', '14', '.', '35', 'as', 'analysts', 'voiced', 'their', 'disappointment', '.', 'the', 'results', 'came', 'in', 'below', 'our', 'already', 'conservative', 'estimate', 'for', 'the', 'quarter', 'said', 'ray', 'ne', '##id', '##l', 'an', 'analyst', 'at', 'cal', '##yon', 'securities', '.', 'both', 'american', 'and', 'southwest', 'have', 'been', 'squeezed', 'by', 'cut', '-', 'throat', 'competition', 'in', 'the', 'us', 'airline', 'industry', 'as', 'a', 'g', '##lu', '##t', 'of', 'available', 'seats', 'has', 'led', 'to', 'fierce', 'price', 'reductions', '.', '[SEP]', '[PAD]', '[PAD]', '[PAD]', '[PAD]', '[PAD]', '[PAD]', '[PAD]', '[PAD]', '[PAD]', '[PAD]', '[PAD]', '[PAD]', '[PAD]', '[PAD]', '[PAD]', '[PAD]', '[PAD]', '[PAD]', '[PAD]', '[PAD]', '[PAD]', '[PAD]', '[PAD]', '[PAD]', '[PAD]', '[PAD]', '[PAD]', '[PAD]', '[PAD]', '[PAD]', '[PAD]', '[PAD]']\n",
      "summary:\n",
      "['[CLS]', '##kers', '##kers', '##kers', '##kers', '##kers', '##kers', '##kers', '##kers', '##kers', '##kers', '##kers', '##kers', '##kers', '##kers', '##kers', '##kers', '##kers', '##kers', '##kers']\n",
      "real summary:\n",
      "['[CLS]', 'high', 'fuel', 'costs', 'hit', 'us', 'airlines', 'two', 'of', 'the', 'largest', 'airlines', 'in', 'the', 'us', '-', 'american', 'and', 'southwest']\n",
      "sentiment: 0\n",
      "y: 1\n",
      "\n",
      "\n",
      "[info] epoch train loss: 0.07135095546130157\n",
      "Epoch 30\n"
     ]
    },
    {
     "data": {
      "application/vnd.jupyter.widget-view+json": {
       "model_id": "29ee310c18b348f3b9d64f2389ae5293",
       "version_major": 2,
       "version_minor": 0
      },
      "text/plain": [
       "HBox(children=(IntProgress(value=0, max=140), HTML(value='')))"
      ]
     },
     "metadata": {},
     "output_type": "display_data"
    },
    {
     "name": "stdout",
     "output_type": "stream",
     "text": [
      "\n",
      "[info] epoch train loss: 0.0732027433642153\n",
      "Epoch 31\n"
     ]
    },
    {
     "data": {
      "application/vnd.jupyter.widget-view+json": {
       "model_id": "af5685983f774005851be63badacb1c0",
       "version_major": 2,
       "version_minor": 0
      },
      "text/plain": [
       "HBox(children=(IntProgress(value=0, max=140), HTML(value='')))"
      ]
     },
     "metadata": {},
     "output_type": "display_data"
    },
    {
     "name": "stdout",
     "output_type": "stream",
     "text": [
      "\n",
      "[info] epoch train loss: 0.06687436067560547\n",
      "Epoch 32\n"
     ]
    },
    {
     "data": {
      "application/vnd.jupyter.widget-view+json": {
       "model_id": "fe0a83dc10e84aba86ccbe72e2ef3b0a",
       "version_major": 2,
       "version_minor": 0
      },
      "text/plain": [
       "HBox(children=(IntProgress(value=0, max=140), HTML(value='')))"
      ]
     },
     "metadata": {},
     "output_type": "display_data"
    },
    {
     "name": "stdout",
     "output_type": "stream",
     "text": [
      "\n",
      "[info] epoch train loss: 0.08103541095208909\n",
      "Epoch 33\n"
     ]
    },
    {
     "data": {
      "application/vnd.jupyter.widget-view+json": {
       "model_id": "e6109816d79a44cead5ddc311542781b",
       "version_major": 2,
       "version_minor": 0
      },
      "text/plain": [
       "HBox(children=(IntProgress(value=0, max=140), HTML(value='')))"
      ]
     },
     "metadata": {},
     "output_type": "display_data"
    },
    {
     "name": "stdout",
     "output_type": "stream",
     "text": [
      "\n",
      "[info] epoch train loss: 0.12337130655650981\n",
      "Epoch 34\n"
     ]
    },
    {
     "data": {
      "application/vnd.jupyter.widget-view+json": {
       "model_id": "44b96ae91ba94e2c9941bdb8a8c32020",
       "version_major": 2,
       "version_minor": 0
      },
      "text/plain": [
       "HBox(children=(IntProgress(value=0, max=140), HTML(value='')))"
      ]
     },
     "metadata": {},
     "output_type": "display_data"
    },
    {
     "name": "stdout",
     "output_type": "stream",
     "text": [
      "\n",
      "[info] epoch train loss: 0.08897927337633778\n",
      "Epoch 35\n"
     ]
    },
    {
     "data": {
      "application/vnd.jupyter.widget-view+json": {
       "model_id": "f8775e6d06604423a0dbc701865e1d1c",
       "version_major": 2,
       "version_minor": 0
      },
      "text/plain": [
       "HBox(children=(IntProgress(value=0, max=140), HTML(value='')))"
      ]
     },
     "metadata": {},
     "output_type": "display_data"
    },
    {
     "name": "stdout",
     "output_type": "stream",
     "text": [
      "\n",
      "[info] epoch train loss: 0.07300698332151764\n",
      "Epoch 36\n"
     ]
    },
    {
     "data": {
      "application/vnd.jupyter.widget-view+json": {
       "model_id": "7800170f5f7f473689c9a5853f6d4f21",
       "version_major": 2,
       "version_minor": 0
      },
      "text/plain": [
       "HBox(children=(IntProgress(value=0, max=140), HTML(value='')))"
      ]
     },
     "metadata": {},
     "output_type": "display_data"
    },
    {
     "name": "stdout",
     "output_type": "stream",
     "text": [
      "lay egg to ./Nest ... save as ./Nest/NewbornBird\n",
      "origin:\n",
      "['[CLS]', 'jones', 'doping', 'probe', 'begins', 'an', 'investigation', 'into', 'doping', 'claims', 'against', 'marion', 'jones', 'has', 'been', 'opened', 'by', 'the', 'international', 'olympic', 'committee', '.', 'ioc', 'president', 'jacques', 'ro', '##gg', '##e', 'has', 'set', 'up', 'a', 'disciplinary', 'body', 'to', 'look', 'into', 'claims', 'by', 'victor', 'con', '##te', 'of', 'bal', '##co', 'laboratories', '.', 'jones', 'who', 'says', 'she', 'is', 'innocent', 'could', 'lose', 'all', 'her', 'olympic', 'medals', 'after', 'con', '##te', 'said', 'he', 'gave', 'her', 'performance', '-', 'enhancing', 'drugs', 'before', 'the', 'sydney', 'olympics', '.', 'but', 'ro', '##gg', '##e', 'said', 'it', 'was', 'too', 'early', 'to', 'spec', '##ulate', 'about', 'that', 'hoping', 'only', 'that', 'the', 'truth', 'will', 'emerge', '.', 'any', 'decision', 'on', 'the', 'medals', 'would', 'be', 'taken', 'by', 'the', 'ioc', 's', 'executive', 'board', 'and', 'could', 'hi', '##nge', 'on', 'interpretation', 'of', 'a', 'rule', 'stating', 'that', 'olympic', 'decisions', 'can', 'only', 'be', 'challenged', 'within', 'three', 'years', 'of', 'the', 'games', 'closing', '.', 'the', 'sydney', 'olympics', 'ended', 'more', 'than', 'four', 'years', 'ago', 'but', 'world', 'anti', '-', 'doping', 'agency', 'chief', 'dick', 'pound', 'said', 'the', 'rule', 'may', 'not', 'apply', 'because', 'the', 'allegations', 'are', 'only', 'coming', 'out', 'now', '.', 'we', 'will', 'find', 'a', 'way', 'to', 'deal', 'with', 'that', 'pound', 'said', '.', 'in', 'a', 'statement', 'released', 'through', 'her', 'attorney', 'rich', 'nichols', 'jones', 'repeated', 'her', 'innocence', 'and', 'vowed', 'she', 'would', 'be', 'cleared', '.', 'victor', 'con', '##te', 's', 'allegations', 'are', 'not', 'true', 'and', 'the', 'truth', 'will', 'be', 'revealed', 'for', 'the', 'world', 'to', 'see', 'as', 'the', 'legal', 'process', 'moves', 'forward', 'she', 'said', '.', 'con', '##te', 'is', 'someone', 'who', 'is', 'under', 'federal', 'indictment', 'and', 'has', 'a', 'record', 'of', 'issuing', 'contradictory', 'inconsistent', 'statements', '.', '[SEP]', '[PAD]', '[PAD]', '[PAD]', '[PAD]', '[PAD]', '[PAD]', '[PAD]', '[PAD]', '[PAD]', '[PAD]', '[PAD]', '[PAD]', '[PAD]', '[PAD]', '[PAD]', '[PAD]', '[PAD]', '[PAD]', '[PAD]', '[PAD]', '[PAD]', '[PAD]', '[PAD]', '[PAD]', '[PAD]', '[PAD]', '[PAD]', '[PAD]', '[PAD]', '[PAD]', '[PAD]', '[PAD]', '[PAD]', '[PAD]', '[PAD]', '[PAD]', '[PAD]', '[PAD]', '[PAD]', '[PAD]', '[PAD]', '[PAD]', '[PAD]', '[PAD]', '[PAD]', '[PAD]', '[PAD]', '[PAD]', '[PAD]', '[PAD]', '[PAD]', '[PAD]', '[PAD]', '[PAD]', '[PAD]', '[PAD]', '[PAD]', '[PAD]', '[PAD]', '[PAD]', '[PAD]', '[PAD]', '[PAD]', '[PAD]', '[PAD]', '[PAD]', '[PAD]', '[PAD]', '[PAD]', '[PAD]', '[PAD]', '[PAD]', '[PAD]', '[PAD]', '[PAD]', '[PAD]', '[PAD]', '[PAD]', '[PAD]', '[PAD]', '[PAD]', '[PAD]', '[PAD]', '[PAD]', '[PAD]', '[PAD]', '[PAD]', '[PAD]', '[PAD]', '[PAD]', '[PAD]', '[PAD]', '[PAD]', '[PAD]', '[PAD]', '[PAD]', '[PAD]', '[PAD]', '[PAD]', '[PAD]', '[PAD]', '[PAD]', '[PAD]', '[PAD]', '[PAD]', '[PAD]', '[PAD]', '[PAD]', '[PAD]', '[PAD]', '[PAD]', '[PAD]', '[PAD]', '[PAD]', '[PAD]', '[PAD]', '[PAD]', '[PAD]', '[PAD]', '[PAD]', '[PAD]', '[PAD]', '[PAD]', '[PAD]', '[PAD]', '[PAD]', '[PAD]', '[PAD]', '[PAD]', '[PAD]', '[PAD]', '[PAD]', '[PAD]', '[PAD]', '[PAD]', '[PAD]', '[PAD]', '[PAD]', '[PAD]', '[PAD]', '[PAD]', '[PAD]', '[PAD]', '[PAD]', '[PAD]', '[PAD]', '[PAD]', '[PAD]', '[PAD]', '[PAD]', '[PAD]']\n",
      "summary:\n",
      "['[CLS]', '##kers', '##kers', '##kers', '##kers', '##kers', '##kers', '##kers', '##kers', '##kers', '##kers', '##kers', '##kers', '##kers', '##kers', '##kers', '##kers', '##kers', '##kers', '##kers']\n",
      "real summary:\n",
      "['[CLS]', 'jones', 'doping', 'probe', 'begins', 'an', 'investigation', 'into', 'doping', 'claims', 'against', 'marion', 'jones', 'has', 'been', 'opened', 'by', 'the', 'international']\n",
      "sentiment: 0\n",
      "y: 2\n",
      "\n",
      "\n",
      "[info] epoch train loss: 0.06975832300293924\n",
      "Epoch 37\n"
     ]
    },
    {
     "data": {
      "application/vnd.jupyter.widget-view+json": {
       "model_id": "5d43831a00d946f4b64aa54719b82082",
       "version_major": 2,
       "version_minor": 0
      },
      "text/plain": [
       "HBox(children=(IntProgress(value=0, max=140), HTML(value='')))"
      ]
     },
     "metadata": {},
     "output_type": "display_data"
    },
    {
     "name": "stdout",
     "output_type": "stream",
     "text": [
      "\n",
      "[info] epoch train loss: 0.0636463529521799\n",
      "Epoch 38\n"
     ]
    },
    {
     "data": {
      "application/vnd.jupyter.widget-view+json": {
       "model_id": "285122dc2ffc4f46bf10d2124fa922ba",
       "version_major": 2,
       "version_minor": 0
      },
      "text/plain": [
       "HBox(children=(IntProgress(value=0, max=140), HTML(value='')))"
      ]
     },
     "metadata": {},
     "output_type": "display_data"
    },
    {
     "name": "stdout",
     "output_type": "stream",
     "text": [
      "\n",
      "[info] epoch train loss: 0.07334169793762807\n",
      "Epoch 39\n"
     ]
    },
    {
     "data": {
      "application/vnd.jupyter.widget-view+json": {
       "model_id": "95b67c34d2e24c779bc959623b022672",
       "version_major": 2,
       "version_minor": 0
      },
      "text/plain": [
       "HBox(children=(IntProgress(value=0, max=140), HTML(value='')))"
      ]
     },
     "metadata": {},
     "output_type": "display_data"
    },
    {
     "name": "stdout",
     "output_type": "stream",
     "text": [
      "\n",
      "[info] epoch train loss: 0.0814587853381194\n",
      "Epoch 40\n"
     ]
    },
    {
     "data": {
      "application/vnd.jupyter.widget-view+json": {
       "model_id": "d6b2358981a844e395c02f296aac76ab",
       "version_major": 2,
       "version_minor": 0
      },
      "text/plain": [
       "HBox(children=(IntProgress(value=0, max=140), HTML(value='')))"
      ]
     },
     "metadata": {},
     "output_type": "display_data"
    },
    {
     "name": "stdout",
     "output_type": "stream",
     "text": [
      "\n",
      "[info] epoch train loss: 0.08257046936550978\n",
      "Epoch 41\n"
     ]
    },
    {
     "data": {
      "application/vnd.jupyter.widget-view+json": {
       "model_id": "55ad7e86ce984bd88dd7074bffc720ab",
       "version_major": 2,
       "version_minor": 0
      },
      "text/plain": [
       "HBox(children=(IntProgress(value=0, max=140), HTML(value='')))"
      ]
     },
     "metadata": {},
     "output_type": "display_data"
    },
    {
     "name": "stdout",
     "output_type": "stream",
     "text": [
      "\n",
      "[info] epoch train loss: 0.0800479205249368\n",
      "Epoch 42\n"
     ]
    },
    {
     "data": {
      "application/vnd.jupyter.widget-view+json": {
       "model_id": "59f30f2aed4d46b79540cf8a16cf23d9",
       "version_major": 2,
       "version_minor": 0
      },
      "text/plain": [
       "HBox(children=(IntProgress(value=0, max=140), HTML(value='')))"
      ]
     },
     "metadata": {},
     "output_type": "display_data"
    },
    {
     "name": "stdout",
     "output_type": "stream",
     "text": [
      "\n",
      "[info] epoch train loss: 0.07039985857263673\n",
      "Epoch 43\n"
     ]
    },
    {
     "data": {
      "application/vnd.jupyter.widget-view+json": {
       "model_id": "024c91763c40420baea75d748357a695",
       "version_major": 2,
       "version_minor": 0
      },
      "text/plain": [
       "HBox(children=(IntProgress(value=0, max=140), HTML(value='')))"
      ]
     },
     "metadata": {},
     "output_type": "display_data"
    },
    {
     "name": "stdout",
     "output_type": "stream",
     "text": [
      "lay egg to ./Nest ... save as ./Nest/NewbornBird\n",
      "origin:\n",
      "['[CLS]', 'brazil', 'buy', 'boost', '##s', 'belgium', 's', 'in', '##be', '##v', 'belgian', 'brewing', 'giant', 'in', '##be', '##v', 'has', 'seen', 'its', 'profits', 'so', '##ar', 'thanks', 'to', 'its', 'acquisition', 'of', 'brazil', 's', 'biggest', 'beer', 'firm', 'am', '##be', '##v', 'last', 'year', '.', 'in', '##be', '##v', 'which', 'makes', 'stella', 'art', '##ois', 'said', 'pre', '-', 'tax', 'profits', 'for', '2004', 'rose', '56', '%', 'to', '1', '.', '16', '##bn', 'euros', '(', '$', '1', '.', '5', '##bn', ';', '£', '##80', '##0', '##m', ')', 'and', 'said', 'it', 'expected', 'solid', 'growth', 'in', '2005', '.', 'the', 'performance', 'comes', 'on', 'sales', 'up', '21', '%', 'at', '8', '.', '6', '##bn', 'euros', '.', 'the', 'firm', 'formerly', 'inter', '##bre', '##w', 'became', 'the', 'world', 's', 'biggest', 'brewer', 'by', 'volume', 'when', 'it', 'bought', 'am', '##be', '##v', 'in', 'august', '2004', '.', 'the', 'acquisition', 'meant', 'its', 'sales', 'by', 'volume', 'grew', '57', '%', 'in', '2004', 'with', 'four', 'months', 'of', 'am', '##be', '##v', 'sales', 'accounting', 'for', 'almost', 'all', 'of', 'the', 'increase', '.', 'us', 'beer', '##maker', 'an', '##he', '##user', '-', 'busch', 'sells', 'less', 'beer', 'by', 'volume', 'than', 'in', '##be', '##v', 'but', 'is', 'bigger', 'in', 'terms', 'of', 'the', 'value', 'of', 'its', 'sales', '.', 'continuing', 'demand', 'for', 'in', '##be', '##v', 's', 'products', 'in', 'the', 'south', 'american', 'markets', 'where', 'its', 'brazilian', 'arm', 'is', 'most', 'popular', 'means', 'it', 'expects', 'to', 'keep', 'boost', '##ing', 'its', 'turnover', '.', 'it', 's', 'the', 'brazil', 'business', 'that', 's', 'doing', 'it', 'said', 'ing', 'analyst', 'gerard', 'ri', '##jk', 'of', 'in', '##be', '##v', 's', 'strong', 'performance', '.', 'am', '##be', '##v', 'boosted', 'its', 'share', 'of', 'brazil', 's', 'beer', 'market', 'from', '62', '%', 'at', 'the', 'end', 'of', '2003', 'to', 'more', 'than', '68', '%', 'by', 'december', '2004', 'in', '##be', '##v', 'reported', '.', 'in', 'contrast', 'in', '##be', '##v', 's', 'european', 'business', 'saw', 'volume', 'sales', 'fall', '2', '.', '5', '%', 'although', 'central', 'and', 'eastern', 'european', 'sales', 'rose', '12', '%', '.', 'overall', 'net', 'profits', 'were', 'up', '42', '%', 'to', '71', '##9', '##m', 'euros', '.', '[SEP]', '[PAD]', '[PAD]', '[PAD]', '[PAD]', '[PAD]', '[PAD]', '[PAD]', '[PAD]', '[PAD]', '[PAD]', '[PAD]', '[PAD]', '[PAD]', '[PAD]', '[PAD]', '[PAD]', '[PAD]', '[PAD]', '[PAD]', '[PAD]', '[PAD]', '[PAD]', '[PAD]', '[PAD]', '[PAD]', '[PAD]', '[PAD]', '[PAD]', '[PAD]', '[PAD]', '[PAD]', '[PAD]', '[PAD]', '[PAD]', '[PAD]', '[PAD]', '[PAD]', '[PAD]', '[PAD]', '[PAD]', '[PAD]', '[PAD]', '[PAD]', '[PAD]', '[PAD]', '[PAD]', '[PAD]', '[PAD]', '[PAD]', '[PAD]', '[PAD]', '[PAD]', '[PAD]', '[PAD]', '[PAD]', '[PAD]', '[PAD]', '[PAD]', '[PAD]', '[PAD]', '[PAD]', '[PAD]', '[PAD]', '[PAD]', '[PAD]', '[PAD]', '[PAD]', '[PAD]', '[PAD]', '[PAD]', '[PAD]', '[PAD]', '[PAD]', '[PAD]', '[PAD]', '[PAD]', '[PAD]', '[PAD]', '[PAD]', '[PAD]', '[PAD]', '[PAD]', '[PAD]', '[PAD]', '[PAD]', '[PAD]', '[PAD]', '[PAD]', '[PAD]', '[PAD]', '[PAD]', '[PAD]', '[PAD]', '[PAD]', '[PAD]', '[PAD]']\n",
      "summary:\n",
      "['[CLS]', '##kers', '##kers', '##kers', '##kers', '##kers', '##kers', '##kers', '##kers', '##kers', '##kers', '##kers', '##kers', '##kers', '##kers', '##kers', '##kers', '##kers', '##kers', '##kers']\n",
      "real summary:\n",
      "['[CLS]', 'brazil', 'buy', 'boost', '##s', 'belgium', 's', 'in', '##be', '##v', 'belgian', 'brewing', 'giant', 'in', '##be', '##v', 'has', 'seen', 'its']\n",
      "sentiment: 4\n",
      "y: 1\n",
      "\n",
      "\n",
      "[info] epoch train loss: 0.057669016853885424\n",
      "Epoch 44\n"
     ]
    },
    {
     "data": {
      "application/vnd.jupyter.widget-view+json": {
       "model_id": "4d25a0a2ef97453880e661214e242352",
       "version_major": 2,
       "version_minor": 0
      },
      "text/plain": [
       "HBox(children=(IntProgress(value=0, max=140), HTML(value='')))"
      ]
     },
     "metadata": {},
     "output_type": "display_data"
    },
    {
     "name": "stdout",
     "output_type": "stream",
     "text": [
      "\n",
      "[info] epoch train loss: 0.05447880651928634\n",
      "Epoch 45\n"
     ]
    },
    {
     "data": {
      "application/vnd.jupyter.widget-view+json": {
       "model_id": "63be109c744441eaa6a3aa550aa007d2",
       "version_major": 2,
       "version_minor": 0
      },
      "text/plain": [
       "HBox(children=(IntProgress(value=0, max=140), HTML(value='')))"
      ]
     },
     "metadata": {},
     "output_type": "display_data"
    },
    {
     "name": "stdout",
     "output_type": "stream",
     "text": [
      "\n",
      "[info] epoch train loss: 0.05678897211801086\n",
      "Epoch 46\n"
     ]
    },
    {
     "data": {
      "application/vnd.jupyter.widget-view+json": {
       "model_id": "d8c12f3e0f7542e99540315510125c9d",
       "version_major": 2,
       "version_minor": 0
      },
      "text/plain": [
       "HBox(children=(IntProgress(value=0, max=140), HTML(value='')))"
      ]
     },
     "metadata": {},
     "output_type": "display_data"
    },
    {
     "name": "stdout",
     "output_type": "stream",
     "text": [
      "\n",
      "[info] epoch train loss: 0.05793642256307326\n",
      "Epoch 47\n"
     ]
    },
    {
     "data": {
      "application/vnd.jupyter.widget-view+json": {
       "model_id": "c968abb3c3e2431da58ba9e25428e9c9",
       "version_major": 2,
       "version_minor": 0
      },
      "text/plain": [
       "HBox(children=(IntProgress(value=0, max=140), HTML(value='')))"
      ]
     },
     "metadata": {},
     "output_type": "display_data"
    },
    {
     "name": "stdout",
     "output_type": "stream",
     "text": [
      "\n",
      "[info] epoch train loss: 0.05318656561731976\n",
      "Epoch 48\n"
     ]
    },
    {
     "data": {
      "application/vnd.jupyter.widget-view+json": {
       "model_id": "5927a7ea4979473a82fed824ffc7a8e8",
       "version_major": 2,
       "version_minor": 0
      },
      "text/plain": [
       "HBox(children=(IntProgress(value=0, max=140), HTML(value='')))"
      ]
     },
     "metadata": {},
     "output_type": "display_data"
    },
    {
     "name": "stdout",
     "output_type": "stream",
     "text": [
      "\n",
      "[info] epoch train loss: 0.04906503268051503\n",
      "Epoch 49\n"
     ]
    },
    {
     "data": {
      "application/vnd.jupyter.widget-view+json": {
       "model_id": "4468116b7d424461b5995879b9a6b1b2",
       "version_major": 2,
       "version_minor": 0
      },
      "text/plain": [
       "HBox(children=(IntProgress(value=0, max=140), HTML(value='')))"
      ]
     },
     "metadata": {},
     "output_type": "display_data"
    },
    {
     "name": "stdout",
     "output_type": "stream",
     "text": [
      "\n",
      "[info] epoch train loss: 0.04688939589595975\n",
      "Epoch 50\n"
     ]
    },
    {
     "data": {
      "application/vnd.jupyter.widget-view+json": {
       "model_id": "ec6e49363606425594478f4504cb0d23",
       "version_major": 2,
       "version_minor": 0
      },
      "text/plain": [
       "HBox(children=(IntProgress(value=0, max=140), HTML(value='')))"
      ]
     },
     "metadata": {},
     "output_type": "display_data"
    },
    {
     "name": "stdout",
     "output_type": "stream",
     "text": [
      "lay egg to ./Nest ... save as ./Nest/NewbornBird\n",
      "origin:\n",
      "['[CLS]', 'ga', '##dget', 'growth', 'fuels', 'eco', 'concerns', 'technology', 'firms', 'and', 'ga', '##dget', 'lovers', 'are', 'being', 'urged', 'to', 'think', 'more', 'about', 'the', 'environment', 'when', 'buying', 'and', 'di', '##sp', '##osing', 'of', 'the', 'latest', 'hi', '-', 'tech', 'products', '.', 'at', 'the', 'consumer', 'electronics', 'show', 'in', 'las', 'vegas', 'earlier', 'this', 'month', 'several', 'hi', '-', 'tech', 'firms', 'were', 'recognised', 'for', 'their', 'strategies', 'to', 'help', 'the', 'environment', '.', 'e', '##bay', 'also', 'announced', 'the', 're', '##thi', '##nk', 'project', 'bringing', 'together', 'intel', 'apple', 'and', 'ibm', 'among', 'others', 'to', 'promote', 'recycling', '.', 'the', 'us', 'consumer', 'electronics', 'market', 'is', 'set', 'to', 'grow', 'by', 'over', '11', '%', 'in', '2005', '.', 'but', 'more', 'awareness', 'is', 'needed', 'about', 'how', 'and', 'where', 'old', 'ga', '##dgets', 'can', 'be', 'recycled', 'as', 'well', 'as', 'how', 'to', 'be', 'more', 'energy', 'efficient', 'said', 'the', 'us', 'environmental', 'protection', 'agency', '(', 'epa', ')', '.', 'of', 'particular', 'growing', 'concern', 'is', 'how', 'much', 'energy', 'it', 'takes', 'to', 'rec', '##har', '##ge', 'portable', 'devices', 'one', 'of', 'the', 'fastest', 'growing', 'markets', 'in', 'technology', '.', 'the', 'consumer', 'electronics', 'association', '(', 'ce', '##a', ')', 'has', 'predicted', 'that', 'shipments', 'of', 'consumer', 'technologies', 'in', '2005', 'will', 'reach', 'more', 'than', '$', '125', '.', '73', 'billion', '(', 'nearly', '£', '##6', '##8', 'billion', ')', '.', 'e', '##bay', 's', 'initiative', 'pulls', 'together', 'major', 'technology', 'firms', 'environment', 'groups', 'government', 'agencies', 'and', 'e', '##bay', 'users', 'to', 'give', 'information', 'about', 'what', 'to', 'do', 'with', 'old', 'computers', 'and', 'where', 'to', 'send', 'them', '.', 'the', 'online', 'auction', 'house', 'thinks', 'that', 'its', 'already', '-', 'established', 'community', 'of', 'loyal', 'users', 'could', 'be', 'influential', '.', 'we', 'really', 'became', 'aware', 'of', 'the', 'e', '-', 'waste', 'issue', 'and', 'we', 'saw', 'that', 'our', '125', 'million', 'users', 'can', 'be', 'a', 'powerful', 'force', 'for', 'good', 'e', '##bay', 's', 'david', 'stern', 'told', 'the', 'bbc', 'news', 'website', '.', 'we', 'saw', 'the', 'opportunity', 'to', 'meet', 'the', 'additional', 'demand', 'we', 'have', 'on', 'the', 'site', 'for', 'used', 'computers', 'and', 'saw', 'the', 'opportunity', 'too', 'to', 'good', 'some', 'good', 'for', 'the', 'environment', '.', 'but', 'it', 'is', 'not', 'just', 'computers', 'that', 'cause', 'a', 'problem', 'for', 'the', 'environment', '.', 'teenagers', 'get', 'a', 'new', 'mobile', 'every', '11', 'months', 'adults', 'every', '18', 'months', 'and', 'a', '15', 'million', 'hands', '##ets', 'are', 'replaced', 'in', 'total', 'each', 'year', '.', 'yet', 'only', '15', '%', 'are', 'actually', 'recycled', '.', 'this', 'year', 'a', 'predicted', 'two', 'billion', 'people', 'worldwide', 'will', 'own', 'a', 'mobile', 'according', 'to', 'a', 'del', '##oit', '##te', 'report', '.', 'schemes', 'in', 'the', 'us', 'like', 'rip', '##mobile', 'could', 'help', 'in', 'targeting', 'younger', 'generations', 'with', 'recycling', 'messages', '.', 'the', 'initiative', 'which', 'was', 'also', 'launched', 'at']\n",
      "summary:\n",
      "['[CLS]', '##kers', '##kers', '##kers', '##kers', '##kers', '##kers', '##kers', '##kers', '##kers', '##kers', '##kers', '##kers', '##kers', '##kers', '##kers', '##kers', '##kers', '##kers', '##kers']\n",
      "real summary:\n",
      "['[CLS]', 'ga', '##dget', 'growth', 'fuels', 'eco', 'concerns', 'technology', 'firms', 'and', 'ga', '##dget', 'lovers', 'are', 'being', 'urged', 'to', 'think', 'more']\n",
      "sentiment: 4\n",
      "y: 0\n",
      "\n",
      "\n",
      "[info] epoch train loss: 0.04682668806739717\n",
      "Epoch 51\n"
     ]
    },
    {
     "data": {
      "application/vnd.jupyter.widget-view+json": {
       "model_id": "4f50b055d0494fed9f51f61839535a95",
       "version_major": 2,
       "version_minor": 0
      },
      "text/plain": [
       "HBox(children=(IntProgress(value=0, max=140), HTML(value='')))"
      ]
     },
     "metadata": {},
     "output_type": "display_data"
    },
    {
     "name": "stdout",
     "output_type": "stream",
     "text": [
      "\n",
      "[info] epoch train loss: 0.04536523435318876\n",
      "Epoch 52\n"
     ]
    },
    {
     "data": {
      "application/vnd.jupyter.widget-view+json": {
       "model_id": "54e930b357934a2eb0aa8968902cd649",
       "version_major": 2,
       "version_minor": 0
      },
      "text/plain": [
       "HBox(children=(IntProgress(value=0, max=140), HTML(value='')))"
      ]
     },
     "metadata": {},
     "output_type": "display_data"
    },
    {
     "name": "stdout",
     "output_type": "stream",
     "text": [
      "\n",
      "[info] epoch train loss: 0.04572461506702114\n",
      "Epoch 53\n"
     ]
    },
    {
     "data": {
      "application/vnd.jupyter.widget-view+json": {
       "model_id": "1a861baf0a1a47ac8eb110fdf53c8729",
       "version_major": 2,
       "version_minor": 0
      },
      "text/plain": [
       "HBox(children=(IntProgress(value=0, max=140), HTML(value='')))"
      ]
     },
     "metadata": {},
     "output_type": "display_data"
    },
    {
     "name": "stdout",
     "output_type": "stream",
     "text": [
      "\n",
      "[info] epoch train loss: 0.04412889737094312\n",
      "Epoch 54\n"
     ]
    },
    {
     "data": {
      "application/vnd.jupyter.widget-view+json": {
       "model_id": "d2bc1cfb3f524102a0475c22a98a8208",
       "version_major": 2,
       "version_minor": 0
      },
      "text/plain": [
       "HBox(children=(IntProgress(value=0, max=140), HTML(value='')))"
      ]
     },
     "metadata": {},
     "output_type": "display_data"
    },
    {
     "name": "stdout",
     "output_type": "stream",
     "text": [
      "\n",
      "[info] epoch train loss: 0.040778637238976706\n",
      "Epoch 55\n"
     ]
    },
    {
     "data": {
      "application/vnd.jupyter.widget-view+json": {
       "model_id": "7f13477e48964f72b58cd08ee86143cf",
       "version_major": 2,
       "version_minor": 0
      },
      "text/plain": [
       "HBox(children=(IntProgress(value=0, max=140), HTML(value='')))"
      ]
     },
     "metadata": {},
     "output_type": "display_data"
    },
    {
     "name": "stdout",
     "output_type": "stream",
     "text": [
      "\n",
      "[info] epoch train loss: 0.03947908082201528\n",
      "Epoch 56\n"
     ]
    },
    {
     "data": {
      "application/vnd.jupyter.widget-view+json": {
       "model_id": "26320dbbe29a4486a0aeb01e979cfee4",
       "version_major": 2,
       "version_minor": 0
      },
      "text/plain": [
       "HBox(children=(IntProgress(value=0, max=140), HTML(value='')))"
      ]
     },
     "metadata": {},
     "output_type": "display_data"
    },
    {
     "name": "stdout",
     "output_type": "stream",
     "text": [
      "\n",
      "[info] epoch train loss: 0.03915436836424046\n",
      "Epoch 57\n"
     ]
    },
    {
     "data": {
      "application/vnd.jupyter.widget-view+json": {
       "model_id": "49150d4fe77048ab9c8bfb2ad9badef6",
       "version_major": 2,
       "version_minor": 0
      },
      "text/plain": [
       "HBox(children=(IntProgress(value=0, max=140), HTML(value='')))"
      ]
     },
     "metadata": {},
     "output_type": "display_data"
    },
    {
     "name": "stdout",
     "output_type": "stream",
     "text": [
      "\n",
      "[info] epoch train loss: 0.03784616186255464\n",
      "Epoch 58\n"
     ]
    },
    {
     "data": {
      "application/vnd.jupyter.widget-view+json": {
       "model_id": "359bd3cf606b4db7b1fd8b6f42cfebf5",
       "version_major": 2,
       "version_minor": 0
      },
      "text/plain": [
       "HBox(children=(IntProgress(value=0, max=140), HTML(value='')))"
      ]
     },
     "metadata": {},
     "output_type": "display_data"
    },
    {
     "name": "stdout",
     "output_type": "stream",
     "text": [
      "lay egg to ./Nest ... save as ./Nest/NewbornBird\n",
      "origin:\n",
      "['[CLS]', 'watch', '##dog', 'probe', '##s', 'vi', '##ven', '##di', 'bond', 'sale', 'french', 'stock', 'market', 'regulator', 'am', '##f', 'has', 'filed', 'complaints', 'against', 'media', 'giant', 'vi', '##ven', '##di', 'universal', 'its', 'boss', 'and', 'another', 'top', 'executive', '.', 'it', 'believes', 'the', 'prospect', '##us', 'for', 'a', 'bond', 'issue', 'was', 'unclear', 'and', 'that', 'executives', 'may', 'have', 'had', 'privileged', 'information', '.', 'am', '##f', 'has', 'begun', 'proceedings', 'against', 'vi', '##ven', '##di', 'its', 'chief', 'executive', 'jean', '-', 'rene', 'four', '##tou', 'and', 'chief', 'operating', 'officer', 'jean', '-', 'bernard', 'levy', '.', 'vi', '##ven', '##di', 'advisor', 'deutsche', 'bank', 'was', 'also', 'the', 'subject', 'of', 'a', 'complaint', 'filing', '.', 'deutsche', 'bank', 'which', 'was', 'responsible', 'for', 'selling', 'the', 'convertible', 'bonds', 'to', 'investors', 'could', 'face', 'penalties', 'if', 'the', 'complaint', 'is', 'upheld', '.', 'vi', '##ven', '##di', 'has', 'said', 'it', 'believes', 'there', 'is', 'no', 'legal', 'basis', 'for', 'the', 'complaints', '.', 'the', 'watch', '##dog', 'is', 'said', 'to', 'believe', 'the', 'executive', 'pair', 'were', 'party', 'to', 'privileged', 'information', 'surrounding', 'the', 'issue', 'of', 'the', 'bonds', '.', 'both', 'men', 'bought', 'some', 'of', 'the', 'bonds', 'the', 'associated', 'press', 'news', 'agency', 'reported', '.', 'am', '##f', 'is', 'investigating', 'claims', 'that', 'the', 'duo', 'were', 'aware', 'of', 'an', 'interest', 'in', 'vi', '##ven', '##di', 's', 'us', 'assets', 'from', 'investor', 'marvin', 'davis', 'at', 'the', 'time', 'of', 'the', 'bond', 'sale', '.', 'vi', '##ven', '##di', 'however', 'has', 'said', 'that', 'the', 'information', 'was', 'public', 'knowledge', 'as', 'mr', 'davis', 'offer', 'for', 'the', 'us', 'assets', 'had', 'already', 'been', 'rejected', 'by', 'vi', '##ven', '##di', 's', 'board', '.', 'am', '##f', 'is', 'also', 'looking', 'into', 'whether', 'the', 'executives', 'knew', 'that', 'vi', '##ven', '##di', 'was', 'considering', 'exercising', 'its', 'right', 'to', 'buy', 'british', 'telecom', 's', 'shares', 'in', 'ce', '##get', '##el', '.', 'vi', '##ven', '##di', 'has', 'rejected', 'the', 'charge', 'saying', 'the', 'decision', 'to', 'buy', 'the', 'ce', '##get', '##el', 'shares', 'was', 'no', 'more', 'than', 'a', 'possibility', 'of', 'which', 'the', 'public', 'was', 'perfectly', 'aware', 'at', 'the', 'time', 'of', 'the', 'bond', 'issue', '.', 'back', 'in', 'december', 'vi', '##ven', '##di', 'and', 'its', 'former', 'chief', 'executive', 'jean', '-', 'marie', 'mess', '##ier', 'were', 'each', 'fined', '1', '##m', 'euros', '(', '$', '1', '.', '3', '##m', ';', '£', '##6', '##90', '000', ')', 'by', 'am', '##f', '.', 'the', 'fines', 'came', 'after', 'a', '15', '-', 'month', 'probe', 'into', 'allegations', 'that', 'the', 'media', 'giant', 'mis', '##led', 'investors', 'after', 'a', 'costly', 'acquisition', 'programme', 'went', 'wrong', '.', '[SEP]', '[PAD]', '[PAD]', '[PAD]', '[PAD]', '[PAD]', '[PAD]', '[PAD]', '[PAD]', '[PAD]', '[PAD]', '[PAD]', '[PAD]', '[PAD]', '[PAD]', '[PAD]', '[PAD]', '[PAD]', '[PAD]', '[PAD]', '[PAD]', '[PAD]', '[PAD]', '[PAD]', '[PAD]', '[PAD]', '[PAD]', '[PAD]', '[PAD]', '[PAD]', '[PAD]', '[PAD]', '[PAD]', '[PAD]', '[PAD]', '[PAD]', '[PAD]', '[PAD]']\n",
      "summary:\n",
      "['[CLS]', '##kers', '##kers', '##kers', '##kers', '##kers', '##kers', '##kers', '##kers', '##kers', '##kers', '##kers', '##kers', '##kers', '##kers', '##kers', '##kers', '##kers', '##kers', '##kers']\n",
      "real summary:\n",
      "['[CLS]', 'watch', '##dog', 'probe', '##s', 'vi', '##ven', '##di', 'bond', 'sale', 'french', 'stock', 'market', 'regulator', 'am', '##f', 'has', 'filed', 'complaints']\n",
      "sentiment: 4\n",
      "y: 1\n",
      "\n",
      "\n",
      "[info] epoch train loss: 0.040134464111854735\n",
      "Epoch 59\n"
     ]
    },
    {
     "data": {
      "application/vnd.jupyter.widget-view+json": {
       "model_id": "5f8b9f2a8c9348debe5c60d3ac8977ca",
       "version_major": 2,
       "version_minor": 0
      },
      "text/plain": [
       "HBox(children=(IntProgress(value=0, max=140), HTML(value='')))"
      ]
     },
     "metadata": {},
     "output_type": "display_data"
    },
    {
     "name": "stdout",
     "output_type": "stream",
     "text": [
      "\n",
      "[info] epoch train loss: 0.04039281289982942\n",
      "Epoch 60\n"
     ]
    },
    {
     "data": {
      "application/vnd.jupyter.widget-view+json": {
       "model_id": "53195758510a463db33eff23c0cf4d24",
       "version_major": 2,
       "version_minor": 0
      },
      "text/plain": [
       "HBox(children=(IntProgress(value=0, max=140), HTML(value='')))"
      ]
     },
     "metadata": {},
     "output_type": "display_data"
    },
    {
     "name": "stdout",
     "output_type": "stream",
     "text": [
      "\n",
      "[info] epoch train loss: 0.03929740355402568\n",
      "Epoch 61\n"
     ]
    },
    {
     "data": {
      "application/vnd.jupyter.widget-view+json": {
       "model_id": "7c3434e796f449d4b3c167d8b51e2c04",
       "version_major": 2,
       "version_minor": 0
      },
      "text/plain": [
       "HBox(children=(IntProgress(value=0, max=140), HTML(value='')))"
      ]
     },
     "metadata": {},
     "output_type": "display_data"
    },
    {
     "name": "stdout",
     "output_type": "stream",
     "text": [
      "\n",
      "[info] epoch train loss: 0.03967247642719615\n",
      "Epoch 62\n"
     ]
    },
    {
     "data": {
      "application/vnd.jupyter.widget-view+json": {
       "model_id": "92204134545d458c8d94a61601809216",
       "version_major": 2,
       "version_minor": 0
      },
      "text/plain": [
       "HBox(children=(IntProgress(value=0, max=140), HTML(value='')))"
      ]
     },
     "metadata": {},
     "output_type": "display_data"
    },
    {
     "name": "stdout",
     "output_type": "stream",
     "text": [
      "\n",
      "[info] epoch train loss: 0.038705097115286795\n",
      "Epoch 63\n"
     ]
    },
    {
     "data": {
      "application/vnd.jupyter.widget-view+json": {
       "model_id": "de17ea4450ac482d930f40f485f3caf1",
       "version_major": 2,
       "version_minor": 0
      },
      "text/plain": [
       "HBox(children=(IntProgress(value=0, max=140), HTML(value='')))"
      ]
     },
     "metadata": {},
     "output_type": "display_data"
    },
    {
     "name": "stdout",
     "output_type": "stream",
     "text": [
      "\n",
      "[info] epoch train loss: 0.039379601310689134\n",
      "Epoch 64\n"
     ]
    },
    {
     "data": {
      "application/vnd.jupyter.widget-view+json": {
       "model_id": "b41ad97ce0974c2380eb6e2d36223c58",
       "version_major": 2,
       "version_minor": 0
      },
      "text/plain": [
       "HBox(children=(IntProgress(value=0, max=140), HTML(value='')))"
      ]
     },
     "metadata": {},
     "output_type": "display_data"
    },
    {
     "name": "stdout",
     "output_type": "stream",
     "text": [
      "\n",
      "[info] epoch train loss: 0.041561482133004445\n",
      "Epoch 65\n"
     ]
    },
    {
     "data": {
      "application/vnd.jupyter.widget-view+json": {
       "model_id": "b3b0bfe6f4884cc58746061e5fcaa4fb",
       "version_major": 2,
       "version_minor": 0
      },
      "text/plain": [
       "HBox(children=(IntProgress(value=0, max=140), HTML(value='')))"
      ]
     },
     "metadata": {},
     "output_type": "display_data"
    },
    {
     "name": "stdout",
     "output_type": "stream",
     "text": [
      "lay egg to ./Nest ... save as ./Nest/NewbornBird\n",
      "origin:\n",
      "['[CLS]', 'greek', 'pair', 'attend', 'drugs', 'hearing', 'greek', 'sprinter', '##s', 'ko', '##sta', '##s', 'kent', '##eri', '##s', 'and', 'kate', '##rina', 'than', '##ou', 'have', 'appeared', 'before', 'an', 'independent', 'tribunal', 'which', 'will', 'decide', 'if', 'their', 'ban', '##s', 'should', 'stand', '.', 'they', 'were', 'given', 'provisional', 'suspension', '##s', 'by', 'athletics', 'ruling', 'body', 'the', 'iaaf', 'in', 'december', 'for', 'failing', 'to', 'take', 'drugs', 'tests', 'before', 'the', 'athens', 'olympics', '.', 'the', 'pair', 'arrived', 'with', 'former', 'coach', 'christ', '##os', 't', '##zek', '##os', 'to', 'give', 'evidence', 'at', 'the', 'hellenic', 'olympic', 'committee', 's', 'offices', '.', 'a', 'decision', 'is', 'expected', 'to', 'be', 'announced', 'before', 'the', 'end', 'of', 'february', '.', 'whatever', 'the', 'ruling', 'all', 'parties', 'will', 'have', 'the', 'right', 'to', 'appeal', 'to', 'the', 'court', 'of', 'arbitration', 'for', 'sport', '.', 'yi', '##ann', '##is', 'papa', '##do', '##yi', '##anna', '##kis', 'who', 'was', 'head', 'of', 'the', 'greek', 'olympic', 'team', 'at', 'the', 'athens', 'games', 'last', 'year', 'also', 'testified', 'at', 'the', 'tribunal', 'along', 'with', 'other', 'greek', 'sports', 'officials', 'and', 'athletes', '.', 'i', 'believe', 'the', 'tribunal', 'will', 'reach', 'a', 'decision', 'that', 'will', 'uphold', 'the', 'standing', 'of', 'the', 'institution', 'said', 'papa', '##do', '##yi', '##anna', '##kis', '.', 'whatever', 'the', 'athletes', 'have', 'done', 'we', 'must', 'not', 'forget', 'that', 'they', 'have', 'offered', 'us', 'great', 'moments', '.', 'kent', '##eri', '##s', 'won', '200', '##m', 'gold', 'at', 'the', '2000', 'sydney', 'olympics', 'while', 'than', '##ou', 'won', 'silver', 'in', 'the', '100', '##m', '.', 'they', 'withdrew', 'from', 'the', 'athens', 'games', 'last', 'august', 'after', 'missing', 'drugs', 'tests', 'on', 'the', 'eve', 'of', 'the', 'opening', 'ceremony', '.', 'the', 'pair', 'spent', 'four', 'days', 'in', 'a', 'hospital', 'claiming', 'they', 'had', 'been', 'injured', 'in', 'a', 'motorcycle', 'crash', '.', 'the', 'five', '-', 'member', 'tribunal', 'assembled', 'by', 'the', 'hellenic', 'association', 'of', 'amateur', 'athletics', 'is', 'also', 'examining', 'allegations', 'that', 'kent', '##eri', '##s', 'and', 'than', '##ou', 'avoided', 'tests', 'in', 'tel', 'aviv', 'and', 'chicago', 'before', 'the', 'games', '.', 't', '##zek', '##os', 'was', 'also', 'banned', 'for', 'two', 'years', 'by', 'the', 'iaaf', '.', 'he', 'faces', 'charges', 'of', 'assisting', 'in', 'the', 'use', 'of', 'prohibited', 'substances', 'and', 'tam', '##per', '##ing', 'with', 'the', 'doping', 'inspection', 'process', '.', 'all', 'three', 'who', 'have', 'repeatedly', 'denied', 'the', 'allegations', 'have', 'also', 'been', 'charged', 'by', 'a', 'greek', 'prosecutor', 'and', 'face', 'trial', 'for', 'doping', '-', 'related', 'charges', '.', 'a', 'trial', 'date', 'has', 'not', 'been', 'set', '.', 'in', 'imposing', 'two', '-', 'year', 'suspension', '##s', 'on', 'the', 'duo', 'on', '22', 'december', 'the', 'iaaf', 'described', 'their', 'explanations', 'for', 'missing', 'the', 'tests', 'as', 'unacceptable', '.', 'but', 'kent', '##eri', '##s', 'lawyer', 'gregory', 'io', '##ann', '##idi', '##s', 'told', 'bbc', 'sport', 'earlier', 'this', 'week', 'he', 'was', 'confident', 'the', 'sprinter', '##s']\n",
      "summary:\n",
      "['[CLS]', '##kers', '##kers', '##kers', '##kers', '##kers', '##kers', '##kers', '##kers', '##kers', '##kers', '##kers', '##kers', '##kers', '##kers', '##kers', '##kers', '##kers', '##kers', '##kers']\n",
      "real summary:\n",
      "['[CLS]', 'greek', 'pair', 'attend', 'drugs', 'hearing', 'greek', 'sprinter', '##s', 'ko', '##sta', '##s', 'kent', '##eri', '##s', 'and', 'kate', '##rina', 'than']\n",
      "sentiment: 4\n",
      "y: 2\n",
      "\n",
      "\n",
      "[info] epoch train loss: 0.03954515152675283\n",
      "Epoch 66\n"
     ]
    },
    {
     "data": {
      "application/vnd.jupyter.widget-view+json": {
       "model_id": "713d2100710b4d7d8561c51a9ef0e360",
       "version_major": 2,
       "version_minor": 0
      },
      "text/plain": [
       "HBox(children=(IntProgress(value=0, max=140), HTML(value='')))"
      ]
     },
     "metadata": {},
     "output_type": "display_data"
    },
    {
     "name": "stdout",
     "output_type": "stream",
     "text": [
      "\n",
      "[info] epoch train loss: 0.03715515733950139\n",
      "Epoch 67\n"
     ]
    },
    {
     "data": {
      "application/vnd.jupyter.widget-view+json": {
       "model_id": "5e5c8015c9c542e9b44ac4211ed43662",
       "version_major": 2,
       "version_minor": 0
      },
      "text/plain": [
       "HBox(children=(IntProgress(value=0, max=140), HTML(value='')))"
      ]
     },
     "metadata": {},
     "output_type": "display_data"
    },
    {
     "name": "stdout",
     "output_type": "stream",
     "text": [
      "\n",
      "[info] epoch train loss: 0.03461838579805772\n",
      "Epoch 68\n"
     ]
    },
    {
     "data": {
      "application/vnd.jupyter.widget-view+json": {
       "model_id": "7f4779b70f3c466c8448181af044d540",
       "version_major": 2,
       "version_minor": 0
      },
      "text/plain": [
       "HBox(children=(IntProgress(value=0, max=140), HTML(value='')))"
      ]
     },
     "metadata": {},
     "output_type": "display_data"
    },
    {
     "name": "stdout",
     "output_type": "stream",
     "text": [
      "\n",
      "[info] epoch train loss: 0.03336681777140516\n",
      "Epoch 69\n"
     ]
    },
    {
     "data": {
      "application/vnd.jupyter.widget-view+json": {
       "model_id": "e1608935e6e7426e8269e19706777c85",
       "version_major": 2,
       "version_minor": 0
      },
      "text/plain": [
       "HBox(children=(IntProgress(value=0, max=140), HTML(value='')))"
      ]
     },
     "metadata": {},
     "output_type": "display_data"
    },
    {
     "name": "stdout",
     "output_type": "stream",
     "text": [
      "\n",
      "[info] epoch train loss: 0.03357742576800677\n",
      "Epoch 70\n"
     ]
    },
    {
     "data": {
      "application/vnd.jupyter.widget-view+json": {
       "model_id": "40155ff3c6f14ad8945d275d667dd869",
       "version_major": 2,
       "version_minor": 0
      },
      "text/plain": [
       "HBox(children=(IntProgress(value=0, max=140), HTML(value='')))"
      ]
     },
     "metadata": {},
     "output_type": "display_data"
    },
    {
     "name": "stdout",
     "output_type": "stream",
     "text": [
      "\n",
      "[info] epoch train loss: 0.033452163667714425\n",
      "Epoch 71\n"
     ]
    },
    {
     "data": {
      "application/vnd.jupyter.widget-view+json": {
       "model_id": "50ecdc2a3c3b40b8bec4de215ef29468",
       "version_major": 2,
       "version_minor": 0
      },
      "text/plain": [
       "HBox(children=(IntProgress(value=0, max=140), HTML(value='')))"
      ]
     },
     "metadata": {},
     "output_type": "display_data"
    },
    {
     "name": "stdout",
     "output_type": "stream",
     "text": [
      "\n",
      "[info] epoch train loss: 0.0337048199718408\n",
      "Epoch 72\n"
     ]
    },
    {
     "data": {
      "application/vnd.jupyter.widget-view+json": {
       "model_id": "d8258eec33114a7f8da821418e5366e3",
       "version_major": 2,
       "version_minor": 0
      },
      "text/plain": [
       "HBox(children=(IntProgress(value=0, max=140), HTML(value='')))"
      ]
     },
     "metadata": {},
     "output_type": "display_data"
    },
    {
     "name": "stdout",
     "output_type": "stream",
     "text": [
      "lay egg to ./Nest ... save as ./Nest/NewbornBird\n",
      "origin:\n",
      "['[CLS]', 'ab', '##ba', 'reunite', 'for', 'musical', 'premiere', 'the', 'original', 'stars', 'of', 'swedish', 'pop', 'quartet', 'ab', '##ba', 'have', 'reunited', 'for', 'the', 'home', 'premiere', 'of', 'hit', 'musical', 'ma', '##mma', 'mia', '!', 'which', 'is', 'based', 'on', 'the', 'band', 's', 'songs', '.', 'it', 'is', 'the', 'first', 'time', 'in', 'almost', '20', 'years', 'that', 'the', 'four', 'bjorn', 'ul', '##va', '##eus', 'benny', 'andersson', 'ag', '##net', '##ha', 'fa', '##lts', '##ko', '##g', 'and', 'ann', '##i', '-', 'fr', '##id', 'l', '##yn', '##gs', '##tad', 'have', 'met', 'publicly', '.', 'fa', '##lts', '##ko', '##g', 'has', 'been', 'a', 'virtual', 'rec', '##lus', '##e', 'since', 'the', 'band', 'split', 'up', 'in', '1982', '.', 'the', 'musical', 'which', 'has', 'become', 'a', 'global', 'phenomenon', 'will', 'be', 'performed', 'in', 'swedish', 'for', 'the', 'first', 'time', '.', 'fans', 'camped', 'outside', 'stockholm', 's', 'ci', '##rk', '##us', 'theatre', 'in', 'the', 'snow', 'for', 'a', 'glimpse', 'of', 'the', 'stars', '.', 'the', 'premiere', 'marks', 'ab', '##ba', 's', 'first', 'public', 'reunion', 'since', 'the', 'legendary', 'band', 's', 'ac', '##rim', '##oni', '##ous', 'break', '-', 'up', 'in', 'the', 'early', '1980s', '.', 'it', 'was', 'thought', 'that', 'fa', '##lts', '##ko', '##g', 'would', 'appear', 'in', 'london', 'for', 'the', 'musical', 's', 'fifth', 'anniversary', 'celebrations', 'in', 'april', '2004', 'but', 'she', 'stayed', 'away', 'due', 'to', 'her', 'fear', 'of', 'flying', '.', 'original', 'ab', '##ba', 'member', 'bjorn', 'ul', '##va', '##eus', 'set', 'about', 'translating', 'the', 'musical', 'into', 'the', 'band', 's', 'mother', 'tongue', 'for', 'the', 'celebrated', 'homecoming', 'alongside', 'swedish', 'artist', 'nik', '##las', 'st', '##rom', '##sted', '##t', '.', 'almost', 'all', 'of', 'ab', '##ba', 's', 'original', 'songs', 'which', 'have', 'sold', 'more', 'than', '350', 'million', 'records', 'worldwide', 'were', 'written', 'and', 'recorded', 'in', 'english', '.', 'the', 'musical', 'set', 'on', 'a', 'small', 'greek', 'island', 'tells', 'of', 'the', 'story', 'of', 'a', 'young', 'woman', 'and', 'her', 'fiercely', 'independent', 'single', 'mother', '.', 'the', 'show', 'will', 'include', 'such', 'classics', 'as', 'super', 'troupe', '##r', 'so', '##s', 'and', 'dancing', 'queen', '.', 'there', 'are', 'currently', '14', 'productions', 'being', 'staged', 'worldwide', 'including', 'new', 'york', 'and', 'london', 'with', 'road', 'shows', 'in', 'toronto', 'south', 'korea', 'and', 'madrid', '.', 'more', 'than', '20', 'million', 'people', 'around', 'the', 'world', 'have', 'seen', 'the', 'show', '.', '[SEP]', '[PAD]', '[PAD]', '[PAD]', '[PAD]', '[PAD]', '[PAD]', '[PAD]', '[PAD]', '[PAD]', '[PAD]', '[PAD]', '[PAD]', '[PAD]', '[PAD]', '[PAD]', '[PAD]', '[PAD]', '[PAD]', '[PAD]', '[PAD]', '[PAD]', '[PAD]', '[PAD]', '[PAD]', '[PAD]', '[PAD]', '[PAD]', '[PAD]', '[PAD]', '[PAD]', '[PAD]', '[PAD]', '[PAD]', '[PAD]', '[PAD]', '[PAD]', '[PAD]', '[PAD]', '[PAD]', '[PAD]', '[PAD]', '[PAD]', '[PAD]', '[PAD]', '[PAD]', '[PAD]', '[PAD]', '[PAD]', '[PAD]', '[PAD]', '[PAD]', '[PAD]', '[PAD]', '[PAD]', '[PAD]', '[PAD]', '[PAD]', '[PAD]', '[PAD]', '[PAD]', '[PAD]', '[PAD]', '[PAD]', '[PAD]', '[PAD]', '[PAD]', '[PAD]', '[PAD]', '[PAD]', '[PAD]', '[PAD]', '[PAD]', '[PAD]', '[PAD]', '[PAD]']\n",
      "summary:\n",
      "['[CLS]', '##kers', '##kers', '##kers', '##kers', '##kers', '##kers', '##kers', '##kers', '##kers', '##kers', '##kers', '##kers', '##kers', '##kers', '##kers', '##kers', '##kers', '##kers', '##kers']\n",
      "real summary:\n",
      "['[CLS]', 'ab', '##ba', 'reunite', 'for', 'musical', 'premiere', 'the', 'original', 'stars', 'of', 'swedish', 'pop', 'quartet', 'ab', '##ba', 'have', 'reunited', 'for']\n",
      "sentiment: 4\n",
      "y: 3\n",
      "\n",
      "\n",
      "[info] epoch train loss: 0.03314935372459981\n",
      "Epoch 73\n"
     ]
    },
    {
     "data": {
      "application/vnd.jupyter.widget-view+json": {
       "model_id": "cc7d56edf6134461900ff24af6e2e775",
       "version_major": 2,
       "version_minor": 0
      },
      "text/plain": [
       "HBox(children=(IntProgress(value=0, max=140), HTML(value='')))"
      ]
     },
     "metadata": {},
     "output_type": "display_data"
    },
    {
     "name": "stdout",
     "output_type": "stream",
     "text": [
      "\n",
      "[info] epoch train loss: 0.03466045610612777\n",
      "Epoch 74\n"
     ]
    },
    {
     "data": {
      "application/vnd.jupyter.widget-view+json": {
       "model_id": "470fca4f45d84912ab3595ec12d6b2b2",
       "version_major": 2,
       "version_minor": 0
      },
      "text/plain": [
       "HBox(children=(IntProgress(value=0, max=140), HTML(value='')))"
      ]
     },
     "metadata": {},
     "output_type": "display_data"
    },
    {
     "name": "stdout",
     "output_type": "stream",
     "text": [
      "\n",
      "[info] epoch train loss: 0.035526729008103886\n",
      "Epoch 75\n"
     ]
    },
    {
     "data": {
      "application/vnd.jupyter.widget-view+json": {
       "model_id": "4fb9acc739b544279cf13e2005f82225",
       "version_major": 2,
       "version_minor": 0
      },
      "text/plain": [
       "HBox(children=(IntProgress(value=0, max=140), HTML(value='')))"
      ]
     },
     "metadata": {},
     "output_type": "display_data"
    },
    {
     "name": "stdout",
     "output_type": "stream",
     "text": [
      "\n",
      "[info] epoch train loss: 0.03510979720465782\n",
      "Epoch 76\n"
     ]
    },
    {
     "data": {
      "application/vnd.jupyter.widget-view+json": {
       "model_id": "988c1e5fb67640aea5787d0d2c58de18",
       "version_major": 2,
       "version_minor": 0
      },
      "text/plain": [
       "HBox(children=(IntProgress(value=0, max=140), HTML(value='')))"
      ]
     },
     "metadata": {},
     "output_type": "display_data"
    },
    {
     "name": "stdout",
     "output_type": "stream",
     "text": [
      "\n",
      "[info] epoch train loss: 0.03398558125657425\n",
      "Epoch 77\n"
     ]
    },
    {
     "data": {
      "application/vnd.jupyter.widget-view+json": {
       "model_id": "640f213938614db6ada129457644988f",
       "version_major": 2,
       "version_minor": 0
      },
      "text/plain": [
       "HBox(children=(IntProgress(value=0, max=140), HTML(value='')))"
      ]
     },
     "metadata": {},
     "output_type": "display_data"
    },
    {
     "name": "stdout",
     "output_type": "stream",
     "text": [
      "\n",
      "[info] epoch train loss: 0.033535651723494604\n",
      "Epoch 78\n"
     ]
    },
    {
     "data": {
      "application/vnd.jupyter.widget-view+json": {
       "model_id": "14596b98c9a14dd8a3215c5670bd6de5",
       "version_major": 2,
       "version_minor": 0
      },
      "text/plain": [
       "HBox(children=(IntProgress(value=0, max=140), HTML(value='')))"
      ]
     },
     "metadata": {},
     "output_type": "display_data"
    },
    {
     "name": "stdout",
     "output_type": "stream",
     "text": [
      "\n",
      "[info] epoch train loss: 0.0332721552690805\n",
      "Epoch 79\n"
     ]
    },
    {
     "data": {
      "application/vnd.jupyter.widget-view+json": {
       "model_id": "af9ed200ed1a4b6388babee5a7c7c1a4",
       "version_major": 2,
       "version_minor": 0
      },
      "text/plain": [
       "HBox(children=(IntProgress(value=0, max=140), HTML(value='')))"
      ]
     },
     "metadata": {},
     "output_type": "display_data"
    },
    {
     "name": "stdout",
     "output_type": "stream",
     "text": [
      "lay egg to ./Nest ... save as ./Nest/NewbornBird\n",
      "origin:\n",
      "['[CLS]', 'wales', 'silent', 'on', 'grand', 'slam', 'talk', 'rhys', 'williams', 'says', 'wales', 'are', 'still', 'not', 'thinking', 'of', 'winning', 'the', 'grand', 'slam', 'despite', 'a', 'third', 'six', 'nations', 'win', '.', 'that', 's', 'the', 'last', 'thing', 'on', 'our', 'minds', 'at', 'the', 'moment', 'said', 'williams', 'a', 'second', '-', 'half', 'replacement', 'in', 'saturday', 's', '24', '-', '18', 'win', 'over', 'france', 'in', 'paris', '.', 'we', 'all', 'realise', 'how', 'difficult', 'a', 'task', 'it', 'is', 'to', 'go', 'up', 'to', 'scotland', 'and', 'beat', 'them', '.', 'we', 've', 'come', 'un', '##st', '##uck', 'there', 'a', 'couple', 'of', 'times', 'recently', 'so', 'our', 'focus', 'is', 'on', 'that', 'game', 'and', 'we', 'll', 'worry', 'about', 'ireland', 'hopefully', 'after', 'we', 've', 'beaten', 'scotland', '.', 'with', 'captain', 'gareth', 'thomas', 'ruled', 'out', 'of', 'the', 'rest', 'of', 'the', 'campaign', 'with', 'a', 'broken', 'thumb', 'williams', 'is', 'v', '##ying', 'for', 'his', 'first', 'start', 'in', 'the', 'championship', 'so', 'far', '.', 'kevin', 'morgan', 'is', 'probably', 'favourite', 'to', 'replace', 'thomas', 'at', 'full', '-', 'back', 'leaving', 'williams', 'and', 'hal', 'lu', '##sco', '##mbe', 'to', 'battle', 'for', 'the', 'right', 'wing', 'berth', '.', 'a', 'ham', '##st', '##ring', 'injury', 'denied', 'lu', '##sco', '##mbe', 'the', 'opportunity', 'to', 'make', 'a', 'third', 'successive', 'start', 'but', 'the', 'dragons', 'winger', 'is', 'expected', 'to', 'be', 'fit', 'for', 'the', 'trip', 'to', 'murray', '##field', 'on', '13', 'march', '.', 'hooker', 'robin', 'mc', '##bry', '##de', 'is', 'doubtful', 'after', 'picking', 'up', 'a', 'knee', 'injury', 'in', 'paris', 'but', 'centre', 'sonny', 'parker', 'and', 'flank', '##er', 'colin', 'char', '##vis', 'are', 'set', 'to', 'recover', 'from', 'injury', 'to', 'be', 'in', 'contention', 'for', 'selection', '.', 'said', 'wales', 'assistant', 'coach', 'scott', 'johnson', ':', 'they', 've', 'worked', 'through', 'the', 'weekend', 'and', 'the', 'reports', 'are', 'a', 'bit', 'more', 'positive', '.', 'so', 'we', 're', 'getting', 'a', 'couple', 'back', 'and', 'that', 'adds', 'to', 'the', 'depth', 'of', 'the', 'squad', '.', 'scotland', 'secured', 'their', 'first', 'win', 'of', 'the', 'campaign', 'on', 'saturday', 'by', 'grinding', 'out', 'an', '18', '-', '10', 'win', 'over', 'italy', '.', 'matt', 'williams', 'side', 'has', 'shown', 'little', 'in', 'attack', 'but', 'johnson', 'insisted', 'the', 'scots', 'will', 'be', 'difficult', 'opposition', 'to', 'break', 'down', '.', 'italy', 'are', 'really', 'brave', 'opposition', 'and', 'sometimes', 'it', 's', 'very', 'hard', 'to', 'win', 'he', 'said', '.', 'so', 'an', 'ugly', 'win', 'can', 'be', 'just', 'as', 'effective', 'as', 'a', '30', 'or', '40', 'point', 'victory', '.', 'scotland', 'are', 'a', 'hard', 'side', 'and', 'very', 'under', '##rated', 'so', 'we', 're', 'not', 'taking', 'anything', 'for', 'granted', '.', 'we', 're', 'not', 'bas', '##king', 'in', 'the', 'glory', 'of', 'winning', 'our', 'first', 'three', 'games', '.', 'we', 've', 'got', 'to', 'be', 'dil', '##igen', '##t', 'in', 'our', 'preparation', '.', 'that', 's', 'my']\n",
      "summary:\n",
      "['[CLS]', '##kers', '##kers', '##kers', '##kers', '##kers', '##kers', '##kers', '##kers', '##kers', '##kers', '##kers', '##kers', '##kers', '##kers', '##kers', '##kers', '##kers', '##kers', '##kers']\n",
      "real summary:\n",
      "['[CLS]', 'wales', 'silent', 'on', 'grand', 'slam', 'talk', 'rhys', 'williams', 'says', 'wales', 'are', 'still', 'not', 'thinking', 'of', 'winning', 'the', 'grand']\n",
      "sentiment: 4\n",
      "y: 2\n",
      "\n",
      "\n",
      "[info] epoch train loss: 0.032288448877404466\n",
      "Epoch 80\n"
     ]
    },
    {
     "data": {
      "application/vnd.jupyter.widget-view+json": {
       "model_id": "e8884798e1f245cf81211ab7a1b362e1",
       "version_major": 2,
       "version_minor": 0
      },
      "text/plain": [
       "HBox(children=(IntProgress(value=0, max=140), HTML(value='')))"
      ]
     },
     "metadata": {},
     "output_type": "display_data"
    },
    {
     "name": "stdout",
     "output_type": "stream",
     "text": [
      "\n",
      "[info] epoch train loss: 0.033866156594480605\n",
      "Epoch 81\n"
     ]
    },
    {
     "data": {
      "application/vnd.jupyter.widget-view+json": {
       "model_id": "d381386777844ecc9896481fcbeb6dd9",
       "version_major": 2,
       "version_minor": 0
      },
      "text/plain": [
       "HBox(children=(IntProgress(value=0, max=140), HTML(value='')))"
      ]
     },
     "metadata": {},
     "output_type": "display_data"
    },
    {
     "name": "stdout",
     "output_type": "stream",
     "text": [
      "\n",
      "[info] epoch train loss: 0.033699829879788014\n",
      "Epoch 82\n"
     ]
    },
    {
     "data": {
      "application/vnd.jupyter.widget-view+json": {
       "model_id": "6f43431afa244729a333923c43764e69",
       "version_major": 2,
       "version_minor": 0
      },
      "text/plain": [
       "HBox(children=(IntProgress(value=0, max=140), HTML(value='')))"
      ]
     },
     "metadata": {},
     "output_type": "display_data"
    },
    {
     "name": "stdout",
     "output_type": "stream",
     "text": [
      "\n",
      "[info] epoch train loss: 0.033120347423909735\n",
      "Epoch 83\n"
     ]
    },
    {
     "data": {
      "application/vnd.jupyter.widget-view+json": {
       "model_id": "25479f30da944d8bb8c582882f118224",
       "version_major": 2,
       "version_minor": 0
      },
      "text/plain": [
       "HBox(children=(IntProgress(value=0, max=140), HTML(value='')))"
      ]
     },
     "metadata": {},
     "output_type": "display_data"
    },
    {
     "name": "stdout",
     "output_type": "stream",
     "text": [
      "\n",
      "[info] epoch train loss: 0.03318500327480771\n",
      "Epoch 84\n"
     ]
    },
    {
     "data": {
      "application/vnd.jupyter.widget-view+json": {
       "model_id": "cdb928b0c00c49ba882dde79100c094d",
       "version_major": 2,
       "version_minor": 0
      },
      "text/plain": [
       "HBox(children=(IntProgress(value=0, max=140), HTML(value='')))"
      ]
     },
     "metadata": {},
     "output_type": "display_data"
    },
    {
     "name": "stdout",
     "output_type": "stream",
     "text": [
      "\n",
      "[info] epoch train loss: 0.033679078833589365\n",
      "Epoch 85\n"
     ]
    },
    {
     "data": {
      "application/vnd.jupyter.widget-view+json": {
       "model_id": "e9d5ff886a054587acc7267c4ae69b00",
       "version_major": 2,
       "version_minor": 0
      },
      "text/plain": [
       "HBox(children=(IntProgress(value=0, max=140), HTML(value='')))"
      ]
     },
     "metadata": {},
     "output_type": "display_data"
    },
    {
     "name": "stdout",
     "output_type": "stream",
     "text": [
      "\n",
      "[info] epoch train loss: 0.0334813274664644\n",
      "Epoch 86\n"
     ]
    },
    {
     "data": {
      "application/vnd.jupyter.widget-view+json": {
       "model_id": "ecd0c077ad9a4119840011c741ded6c0",
       "version_major": 2,
       "version_minor": 0
      },
      "text/plain": [
       "HBox(children=(IntProgress(value=0, max=140), HTML(value='')))"
      ]
     },
     "metadata": {},
     "output_type": "display_data"
    },
    {
     "name": "stdout",
     "output_type": "stream",
     "text": [
      "lay egg to ./Nest ... save as ./Nest/NewbornBird\n",
      "origin:\n",
      "['[CLS]', 'ab', '##ba', 'reunite', 'for', 'musical', 'premiere', 'the', 'original', 'stars', 'of', 'swedish', 'pop', 'quartet', 'ab', '##ba', 'have', 'reunited', 'for', 'the', 'home', 'premiere', 'of', 'hit', 'musical', 'ma', '##mma', 'mia', '!', 'which', 'is', 'based', 'on', 'the', 'band', 's', 'songs', '.', 'it', 'is', 'the', 'first', 'time', 'in', 'almost', '20', 'years', 'that', 'the', 'four', 'bjorn', 'ul', '##va', '##eus', 'benny', 'andersson', 'ag', '##net', '##ha', 'fa', '##lts', '##ko', '##g', 'and', 'ann', '##i', '-', 'fr', '##id', 'l', '##yn', '##gs', '##tad', 'have', 'met', 'publicly', '.', 'fa', '##lts', '##ko', '##g', 'has', 'been', 'a', 'virtual', 'rec', '##lus', '##e', 'since', 'the', 'band', 'split', 'up', 'in', '1982', '.', 'the', 'musical', 'which', 'has', 'become', 'a', 'global', 'phenomenon', 'will', 'be', 'performed', 'in', 'swedish', 'for', 'the', 'first', 'time', '.', 'fans', 'camped', 'outside', 'stockholm', 's', 'ci', '##rk', '##us', 'theatre', 'in', 'the', 'snow', 'for', 'a', 'glimpse', 'of', 'the', 'stars', '.', 'the', 'premiere', 'marks', 'ab', '##ba', 's', 'first', 'public', 'reunion', 'since', 'the', 'legendary', 'band', 's', 'ac', '##rim', '##oni', '##ous', 'break', '-', 'up', 'in', 'the', 'early', '1980s', '.', 'it', 'was', 'thought', 'that', 'fa', '##lts', '##ko', '##g', 'would', 'appear', 'in', 'london', 'for', 'the', 'musical', 's', 'fifth', 'anniversary', 'celebrations', 'in', 'april', '2004', 'but', 'she', 'stayed', 'away', 'due', 'to', 'her', 'fear', 'of', 'flying', '.', 'original', 'ab', '##ba', 'member', 'bjorn', 'ul', '##va', '##eus', 'set', 'about', 'translating', 'the', 'musical', 'into', 'the', 'band', 's', 'mother', 'tongue', 'for', 'the', 'celebrated', 'homecoming', 'alongside', 'swedish', 'artist', 'nik', '##las', 'st', '##rom', '##sted', '##t', '.', 'almost', 'all', 'of', 'ab', '##ba', 's', 'original', 'songs', 'which', 'have', 'sold', 'more', 'than', '350', 'million', 'records', 'worldwide', 'were', 'written', 'and', 'recorded', 'in', 'english', '.', 'the', 'musical', 'set', 'on', 'a', 'small', 'greek', 'island', 'tells', 'of', 'the', 'story', 'of', 'a', 'young', 'woman', 'and', 'her', 'fiercely', 'independent', 'single', 'mother', '.', 'the', 'show', 'will', 'include', 'such', 'classics', 'as', 'super', 'troupe', '##r', 'so', '##s', 'and', 'dancing', 'queen', '.', 'there', 'are', 'currently', '14', 'productions', 'being', 'staged', 'worldwide', 'including', 'new', 'york', 'and', 'london', 'with', 'road', 'shows', 'in', 'toronto', 'south', 'korea', 'and', 'madrid', '.', 'more', 'than', '20', 'million', 'people', 'around', 'the', 'world', 'have', 'seen', 'the', 'show', '.', '[SEP]', '[PAD]', '[PAD]', '[PAD]', '[PAD]', '[PAD]', '[PAD]', '[PAD]', '[PAD]', '[PAD]', '[PAD]', '[PAD]', '[PAD]', '[PAD]', '[PAD]', '[PAD]', '[PAD]', '[PAD]', '[PAD]', '[PAD]', '[PAD]', '[PAD]', '[PAD]', '[PAD]', '[PAD]', '[PAD]', '[PAD]', '[PAD]', '[PAD]', '[PAD]', '[PAD]', '[PAD]', '[PAD]', '[PAD]', '[PAD]', '[PAD]', '[PAD]', '[PAD]', '[PAD]', '[PAD]', '[PAD]', '[PAD]', '[PAD]', '[PAD]', '[PAD]', '[PAD]', '[PAD]', '[PAD]', '[PAD]', '[PAD]', '[PAD]', '[PAD]', '[PAD]', '[PAD]', '[PAD]', '[PAD]', '[PAD]', '[PAD]', '[PAD]', '[PAD]', '[PAD]', '[PAD]', '[PAD]', '[PAD]', '[PAD]', '[PAD]', '[PAD]', '[PAD]', '[PAD]', '[PAD]', '[PAD]', '[PAD]', '[PAD]', '[PAD]', '[PAD]', '[PAD]']\n",
      "summary:\n",
      "['[CLS]', '##kers', '##kers', '##kers', '##kers', '##kers', '##kers', '##kers', '##kers', '##kers', '##kers', '##kers', '##kers', '##kers', '##kers', '##kers', '##kers', '##kers', '##kers', '##kers']\n",
      "real summary:\n",
      "['[CLS]', 'ab', '##ba', 'reunite', 'for', 'musical', 'premiere', 'the', 'original', 'stars', 'of', 'swedish', 'pop', 'quartet', 'ab', '##ba', 'have', 'reunited', 'for']\n",
      "sentiment: 4\n",
      "y: 3\n",
      "\n",
      "\n",
      "[info] epoch train loss: 0.03496193164096277\n",
      "Epoch 87\n"
     ]
    },
    {
     "data": {
      "application/vnd.jupyter.widget-view+json": {
       "model_id": "b0b7a5c02c394612a02e6b6a4b792900",
       "version_major": 2,
       "version_minor": 0
      },
      "text/plain": [
       "HBox(children=(IntProgress(value=0, max=140), HTML(value='')))"
      ]
     },
     "metadata": {},
     "output_type": "display_data"
    },
    {
     "name": "stdout",
     "output_type": "stream",
     "text": [
      "\n",
      "[info] epoch train loss: 0.03600306829094474\n",
      "Epoch 88\n"
     ]
    },
    {
     "data": {
      "application/vnd.jupyter.widget-view+json": {
       "model_id": "0aacfcfb941646a9bfb6b5291397016b",
       "version_major": 2,
       "version_minor": 0
      },
      "text/plain": [
       "HBox(children=(IntProgress(value=0, max=140), HTML(value='')))"
      ]
     },
     "metadata": {},
     "output_type": "display_data"
    },
    {
     "name": "stdout",
     "output_type": "stream",
     "text": [
      "\n",
      "[info] epoch train loss: 0.03536942023027742\n",
      "Epoch 89\n"
     ]
    },
    {
     "data": {
      "application/vnd.jupyter.widget-view+json": {
       "model_id": "c4d3b93da00d4039b6a751581b594ac6",
       "version_major": 2,
       "version_minor": 0
      },
      "text/plain": [
       "HBox(children=(IntProgress(value=0, max=140), HTML(value='')))"
      ]
     },
     "metadata": {},
     "output_type": "display_data"
    },
    {
     "name": "stdout",
     "output_type": "stream",
     "text": [
      "\n",
      "[info] epoch train loss: 0.035888583642115786\n",
      "Epoch 90\n"
     ]
    },
    {
     "data": {
      "application/vnd.jupyter.widget-view+json": {
       "model_id": "7fa5f64345144e84a942eceffc8e2b08",
       "version_major": 2,
       "version_minor": 0
      },
      "text/plain": [
       "HBox(children=(IntProgress(value=0, max=140), HTML(value='')))"
      ]
     },
     "metadata": {},
     "output_type": "display_data"
    },
    {
     "name": "stdout",
     "output_type": "stream",
     "text": [
      "\n",
      "[info] epoch train loss: 0.036205368764381414\n",
      "Epoch 91\n"
     ]
    },
    {
     "data": {
      "application/vnd.jupyter.widget-view+json": {
       "model_id": "0544f25955554232a4ba617b1a64ce03",
       "version_major": 2,
       "version_minor": 0
      },
      "text/plain": [
       "HBox(children=(IntProgress(value=0, max=140), HTML(value='')))"
      ]
     },
     "metadata": {},
     "output_type": "display_data"
    },
    {
     "name": "stdout",
     "output_type": "stream",
     "text": [
      "\n",
      "[info] epoch train loss: 0.0375475458589595\n",
      "Epoch 92\n"
     ]
    },
    {
     "data": {
      "application/vnd.jupyter.widget-view+json": {
       "model_id": "260655f9c50a4cae89772452c451d777",
       "version_major": 2,
       "version_minor": 0
      },
      "text/plain": [
       "HBox(children=(IntProgress(value=0, max=140), HTML(value='')))"
      ]
     },
     "metadata": {},
     "output_type": "display_data"
    },
    {
     "name": "stdout",
     "output_type": "stream",
     "text": [
      "\n",
      "[info] epoch train loss: 0.03738700797241888\n",
      "Epoch 93\n"
     ]
    },
    {
     "data": {
      "application/vnd.jupyter.widget-view+json": {
       "model_id": "e95edd90e25348a3b22e63753772a37a",
       "version_major": 2,
       "version_minor": 0
      },
      "text/plain": [
       "HBox(children=(IntProgress(value=0, max=140), HTML(value='')))"
      ]
     },
     "metadata": {},
     "output_type": "display_data"
    },
    {
     "name": "stdout",
     "output_type": "stream",
     "text": [
      "lay egg to ./Nest ... save as ./Nest/NewbornBird\n",
      "origin:\n",
      "['[CLS]', 'dance', 'music', 'not', 'dead', 'says', 'fat', '##boy', 'dj', 'norman', 'cook', '-', 'aka', 'fat', '##boy', 'slim', '-', 'has', 'said', 'that', 'dance', 'music', 'is', 'not', 'dead', 'but', 'has', 'admitted', 'it', 'is', 'currently', 'going', 'through', 'a', 'fall', '##ow', 'patch', '.', 'the', 'commercial', 'failure', 'of', 'the', 'latest', 'albums', 'by', 'britain', 's', 'two', 'biggest', 'dance', 'acts', '-', 'fat', '##boy', 'slim', 's', 'palo', '##oka', '##ville', 'and', 'the', 'prodigy', 's', 'always', 'outnumbered', 'never', 'out', '##gun', '##ned', '-', 'has', 'been', 'coupled', 'with', 'the', 'closure', 'of', 'many', 'super', '##cl', '##ub', '##s', 'and', 'the', 'folding', 'of', 'three', 'dance', 'music', 'magazines', '.', 'last', 'month', 'the', 'brit', 'awards', 'announced', 'they', 'would', 'no', 'longer', 'be', 'awarding', 'a', 'best', 'dance', 'act', 'prize', 'with', 'the', 'brit', '##s', 'committee', 'announcing', 'that', 'dance', 'music', 'is', 'no', 'longer', 'where', 'it', 's', 'happening', 'in', 'music', '.', 'these', 'developments', 'lead', 'some', 'to', 'suggest', 'that', 'dance', 'was', 'finished', 'as', 'a', 'popular', 'music', 'genre', '.', 'cook', 'acknowledged', 'that', 'much', 'change', 'in', 'the', 'dance', 'world', 'in', 'the', 'four', 'years', 'since', 'his', 'last', 'album', 'halfway', 'between', 'the', 'gut', '##ter', 'and', 'the', 'stars', 'but', 'he', 'stressed', 'this', 'did', 'not', 'mean', 'the', 'dance', 'scene', 'was', 'permanently', 'over', '.', 'every', 'week', 'when', 'i', 'was', 'making', 'the', 'album', 'i', 'was', 'reading', 'articles', 'about', 'the', 'demise', 'of', 'dance', 'music', '-', 'and', 'obviously', 'that', 'affects', 'you', 'somewhat', 'he', 'told', 'bbc', 'world', 'service', 's', 'the', 'ticket', 'programme', '.', 'i', 'personally', 'don', 't', 'believe', 'it', 's', 'either', 'dead', 'or', 'going', 'to', 'die', 'but', 'it', 's', 'going', 'through', 'a', 'bit', 'of', 'a', 'fall', '##ow', 'patch', '.', 'so', 'i', 'think', 'consciously', 'or', 'subconscious', '##ly', 'reading', 'every', 'week', 'that', 'dance', 'music', 'was', 'dead', 'i', 'would', 'think', 'right', 'scrub', 'that', 'track', 'then', '.', 'although', 'his', 'album', 'sales', 'in', 'the', 'uk', 'are', 'down', '-', 'palo', '##oka', '##ville', 'stayed', 'in', 'the', 'uk', 'top', '75', 'for', 'just', 'three', 'weeks', '-', 'cook', 'has', 'achieved', 'recent', 'global', 'success', 'with', 'his', 'beach', 'parties', '.', 'and', 'event', 'on', 'brighton', 'sea', 'front', 'in', '2002', 'attracted', '250', '000', 'people', 'while', 'a', 'later', 'one', 'in', 'rio', 'achieved', 'a', 'crowd', 'of', '360', '000', '.', 'the', 'dvd', 'of', 'the', 'rio', 'set', 'was', 'the', 'biggest', 'seller', 'of', 'that', 'year', '.', 'with', 'a', 'crowd', 'that', 'big', 'if', 'the', 'weather', 's', 'nice', 'the', 'atmosphere', 'before', 'i', 'even', 'go', 'is', 'so', 'good', 'that', 'about', 'halfway', 'through', 'the', 'first', 'record', 'i', 'think', 'i', 've', 'got', 'them', 'cook', 'said', '.', 'i', 'm', 'always', 'really', 'really', 'nervous', 'before', 'the', 'big', 'ones', '-', 'they', 'had', 'to', 'give', 'me', 'val', '##ium', 'before', 'rio', 'because', 'two', 'hours']\n",
      "summary:\n",
      "['[CLS]', '##kers', '##kers', '##kers', '##kers', '##kers', '##kers', '##kers', '##kers', '##kers', '##kers', '##kers', '##kers', '##kers', '##kers', '##kers', '##kers', '##kers', '##kers', '##kers']\n",
      "real summary:\n",
      "['[CLS]', 'dance', 'music', 'not', 'dead', 'says', 'fat', '##boy', 'dj', 'norman', 'cook', '-', 'aka', 'fat', '##boy', 'slim', '-', 'has', 'said']\n",
      "sentiment: 4\n",
      "y: 3\n",
      "\n",
      "\n",
      "[info] epoch train loss: 0.037724435825943405\n",
      "Epoch 94\n"
     ]
    },
    {
     "data": {
      "application/vnd.jupyter.widget-view+json": {
       "model_id": "3f217ef81a1343978bb1593148d6786f",
       "version_major": 2,
       "version_minor": 0
      },
      "text/plain": [
       "HBox(children=(IntProgress(value=0, max=140), HTML(value='')))"
      ]
     },
     "metadata": {},
     "output_type": "display_data"
    },
    {
     "name": "stdout",
     "output_type": "stream",
     "text": [
      "\n",
      "[info] epoch train loss: 0.03522462455932133\n",
      "Epoch 95\n"
     ]
    },
    {
     "data": {
      "application/vnd.jupyter.widget-view+json": {
       "model_id": "65ee3d6ca0c347e296b7edfc0b7c3f0b",
       "version_major": 2,
       "version_minor": 0
      },
      "text/plain": [
       "HBox(children=(IntProgress(value=0, max=140), HTML(value='')))"
      ]
     },
     "metadata": {},
     "output_type": "display_data"
    },
    {
     "name": "stdout",
     "output_type": "stream",
     "text": [
      "\n",
      "[info] epoch train loss: 0.03433249343979696\n",
      "Epoch 96\n"
     ]
    },
    {
     "data": {
      "application/vnd.jupyter.widget-view+json": {
       "model_id": "1e122b648ab44645b07ec5a3be5da9d7",
       "version_major": 2,
       "version_minor": 0
      },
      "text/plain": [
       "HBox(children=(IntProgress(value=0, max=140), HTML(value='')))"
      ]
     },
     "metadata": {},
     "output_type": "display_data"
    },
    {
     "name": "stdout",
     "output_type": "stream",
     "text": [
      "\n",
      "[info] epoch train loss: 0.033961521064098374\n",
      "Epoch 97\n"
     ]
    },
    {
     "data": {
      "application/vnd.jupyter.widget-view+json": {
       "model_id": "35fd622d91a346f5a4e8414e7690a6c3",
       "version_major": 2,
       "version_minor": 0
      },
      "text/plain": [
       "HBox(children=(IntProgress(value=0, max=140), HTML(value='')))"
      ]
     },
     "metadata": {},
     "output_type": "display_data"
    },
    {
     "name": "stdout",
     "output_type": "stream",
     "text": [
      "\n",
      "[info] epoch train loss: 0.03413615387605335\n",
      "Epoch 98\n"
     ]
    },
    {
     "data": {
      "application/vnd.jupyter.widget-view+json": {
       "model_id": "385b70aaa3004d63b6716837245f7439",
       "version_major": 2,
       "version_minor": 0
      },
      "text/plain": [
       "HBox(children=(IntProgress(value=0, max=140), HTML(value='')))"
      ]
     },
     "metadata": {},
     "output_type": "display_data"
    },
    {
     "name": "stdout",
     "output_type": "stream",
     "text": [
      "\n",
      "[info] epoch train loss: 0.03441982933293762\n",
      "Epoch 99\n"
     ]
    },
    {
     "data": {
      "application/vnd.jupyter.widget-view+json": {
       "model_id": "34a626b988774fb0bda05e0302ec5ffc",
       "version_major": 2,
       "version_minor": 0
      },
      "text/plain": [
       "HBox(children=(IntProgress(value=0, max=140), HTML(value='')))"
      ]
     },
     "metadata": {},
     "output_type": "display_data"
    },
    {
     "name": "stdout",
     "output_type": "stream",
     "text": [
      "\n",
      "[info] epoch train loss: 0.0347572040840983\n",
      "Epoch 100\n"
     ]
    },
    {
     "data": {
      "application/vnd.jupyter.widget-view+json": {
       "model_id": "4e86f8ce7bd44c45856a6fa39601b915",
       "version_major": 2,
       "version_minor": 0
      },
      "text/plain": [
       "HBox(children=(IntProgress(value=0, max=140), HTML(value='')))"
      ]
     },
     "metadata": {},
     "output_type": "display_data"
    },
    {
     "name": "stdout",
     "output_type": "stream",
     "text": [
      "lay egg to ./Nest ... save as ./Nest/NewbornBird\n",
      "origin:\n",
      "['[CLS]', 'cyber', 'criminals', 'step', 'up', 'the', 'pace', 'so', '-', 'called', 'phi', '##shing', 'attacks', 'that', 'try', 'to', 'trick', 'people', 'into', 'handing', 'over', 'confidential', 'details', 'have', 'boomed', 'in', '2004', 'say', 'security', 'experts', '.', 'the', 'number', 'of', 'phi', '##shing', 'e', '-', 'mail', 'messages', 'stopped', 'by', 'security', 'firm', 'message', '##lab', '##s', 'has', 'risen', 'more', 'than', 'ten', '##fold', 'in', 'less', 'than', '12', 'months', '.', 'in', '2004', 'it', 'detected', 'more', 'than', '18', 'million', 'phi', '##shing', 'e', '-', 'mail', 'messages', '.', 'other', 'statistics', 'show', 'that', 'in', '2004', '73', '%', 'of', 'all', 'e', '-', 'mail', 'was', 'spa', '##m', 'and', 'one', 'in', '16', 'messages', 'were', 'infected', 'with', 'a', 'virus', '.', 'in', 'its', 'end', '-', 'of', '-', 'year', 'report', 'message', '##lab', '##s', 'said', 'that', 'phi', '##shing', 'had', 'become', 'the', 'top', 'security', 'threat', 'and', 'most', 'popular', 'form', 'of', 'attack', 'among', 'cyber', 'criminals', '.', 'in', 'september', '2003', 'message', '##lab', '##s', 'caught', 'only', '273', 'phi', '##shing', 'e', '-', 'mail', '##s', 'that', 'tried', 'to', 'make', 'people', 'visit', 'fake', 'versions', 'of', 'the', 'websites', 'run', 'by', 'real', 'banks', 'and', 'financial', 'organisations', '.', 'but', 'by', 'september', '2004', 'it', 'was', 'stopping', 'more', 'than', 'two', 'million', 'phi', '##shing', 'related', 'e', '-', 'mail', 'messages', 'per', 'month', '.', 'worrying', '##ly', 'said', 'the', 'firm', 'phi', '##shing', 'gangs', 'were', 'using', 'increasingly', 'sophisticated', 'techniques', 'to', 'harvest', 'useful', 'information', 'such', 'as', 'log', '##in', 'details', 'or', 'personal', 'data', '.', 'older', 'attacks', 'relied', 'on', 'users', 'not', 'spotting', 'the', 'fact', 'that', 'the', 'site', 'they', 'were', 'visiting', 'was', 'fake', 'but', 'more', 'recent', 'phi', '##shing', 'e', '-', 'mail', '##s', 'simply', 'try', 'to', 'steal', 'details', 'as', 'soon', 'as', 'a', 'message', 'is', 'opened', '.', 'other', 'phi', '##shing', 'sc', '##ams', 'try', 'to', 'recruit', 'innocent', 'people', 'into', 'acting', 'as', 'middle', '##men', 'for', 'laundering', 'money', 'or', 'goods', 'bought', 'with', 'stolen', 'credit', 'cards', '.', 'e', '-', 'mail', 'security', 'attacks', 'remain', 'una', '##bate', '##d', 'in', 'their', 'persistence', 'and', 'fe', '##rocity', 'said', 'mark', 'sun', '##ner', 'chief', 'technology', 'officer', 'at', 'message', '##lab', '##s', '.', 'in', 'just', '12', 'months', 'phi', '##shing', 'has', 'firmly', 'established', 'itself', 'as', 'a', 'threat', 'to', 'any', 'organisation', 'or', 'individual', 'conducting', 'business', 'online', 'he', 'said', '.', 'mr', 'sun', '##ner', 'said', 'message', '##lab', '##s', 'was', 'starting', 'to', 'see', 'some', 'phi', '##shing', 'attacks', 'become', 'very', 'focused', 'on', 'one', 'company', 'or', 'organisation', '.', 'already', 'particular', 'businesses', 'are', 'threatened', 'and', 'blackmail', '##ed', 'indicating', 'a', 'shift', 'from', 'the', 'random', 'sc', '##atter', '##gun', 'approach', 'to', 'custom', '##ised', 'attacks', 'designed', 'to', 'take', 'advantage', 'of', 'the', 'perceived', 'weaknesses', 'of', 'some', 'businesses', 'he', 'said', '.', 'although', 'phi', '##shing', 'attacks', 'grew', 'substantially', 'throughout', '2004', 'viruses', 'and', 'spa']\n",
      "summary:\n",
      "['[CLS]', '##kers', '##kers', '##kers', '##kers', '##kers', '##kers', '##kers', '##kers', '##kers', '##kers', '##kers', '##kers', '##kers', '##kers', '##kers', '##kers', '##kers', '##kers', '##kers']\n",
      "real summary:\n",
      "['[CLS]', 'cyber', 'criminals', 'step', 'up', 'the', 'pace', 'so', '-', 'called', 'phi', '##shing', 'attacks', 'that', 'try', 'to', 'trick', 'people', 'into']\n",
      "sentiment: 4\n",
      "y: 0\n",
      "\n",
      "\n",
      "[info] epoch train loss: 0.035485278041265444\n",
      "Epoch 101\n"
     ]
    },
    {
     "data": {
      "application/vnd.jupyter.widget-view+json": {
       "model_id": "60f919ac686e42159299b9319833e725",
       "version_major": 2,
       "version_minor": 0
      },
      "text/plain": [
       "HBox(children=(IntProgress(value=0, max=140), HTML(value='')))"
      ]
     },
     "metadata": {},
     "output_type": "display_data"
    },
    {
     "name": "stdout",
     "output_type": "stream",
     "text": [
      "\n",
      "[info] epoch train loss: 0.03459581854122332\n",
      "Epoch 102\n"
     ]
    },
    {
     "data": {
      "application/vnd.jupyter.widget-view+json": {
       "model_id": "5f315d140deb421ea0fa5eb94b3f94e4",
       "version_major": 2,
       "version_minor": 0
      },
      "text/plain": [
       "HBox(children=(IntProgress(value=0, max=140), HTML(value='')))"
      ]
     },
     "metadata": {},
     "output_type": "display_data"
    },
    {
     "name": "stdout",
     "output_type": "stream",
     "text": [
      "\n",
      "[info] epoch train loss: 0.03375171302235986\n",
      "Epoch 103\n"
     ]
    },
    {
     "data": {
      "application/vnd.jupyter.widget-view+json": {
       "model_id": "477b484c18914495aeb7f4c70e2e2635",
       "version_major": 2,
       "version_minor": 0
      },
      "text/plain": [
       "HBox(children=(IntProgress(value=0, max=140), HTML(value='')))"
      ]
     },
     "metadata": {},
     "output_type": "display_data"
    },
    {
     "name": "stdout",
     "output_type": "stream",
     "text": [
      "\n",
      "[info] epoch train loss: 0.03337004927645596\n",
      "Epoch 104\n"
     ]
    },
    {
     "data": {
      "application/vnd.jupyter.widget-view+json": {
       "model_id": "ecd18114b6304feaacec63257dd03ae4",
       "version_major": 2,
       "version_minor": 0
      },
      "text/plain": [
       "HBox(children=(IntProgress(value=0, max=140), HTML(value='')))"
      ]
     },
     "metadata": {},
     "output_type": "display_data"
    },
    {
     "name": "stdout",
     "output_type": "stream",
     "text": [
      "\n",
      "[info] epoch train loss: 0.033588940334852525\n",
      "Epoch 105\n"
     ]
    },
    {
     "data": {
      "application/vnd.jupyter.widget-view+json": {
       "model_id": "9810331bc3ef48f4bc3130d5592bd53d",
       "version_major": 2,
       "version_minor": 0
      },
      "text/plain": [
       "HBox(children=(IntProgress(value=0, max=140), HTML(value='')))"
      ]
     },
     "metadata": {},
     "output_type": "display_data"
    },
    {
     "name": "stdout",
     "output_type": "stream",
     "text": [
      "\n",
      "[info] epoch train loss: 0.03442260856311086\n",
      "Epoch 106\n"
     ]
    },
    {
     "data": {
      "application/vnd.jupyter.widget-view+json": {
       "model_id": "2a86a437138f4e178f45a4fbc295ce9b",
       "version_major": 2,
       "version_minor": 0
      },
      "text/plain": [
       "HBox(children=(IntProgress(value=0, max=140), HTML(value='')))"
      ]
     },
     "metadata": {},
     "output_type": "display_data"
    },
    {
     "name": "stdout",
     "output_type": "stream",
     "text": [
      "\n",
      "[info] epoch train loss: 0.0341626698228278\n",
      "Epoch 107\n"
     ]
    },
    {
     "data": {
      "application/vnd.jupyter.widget-view+json": {
       "model_id": "daceee0c6412441494612e793d78bc1d",
       "version_major": 2,
       "version_minor": 0
      },
      "text/plain": [
       "HBox(children=(IntProgress(value=0, max=140), HTML(value='')))"
      ]
     },
     "metadata": {},
     "output_type": "display_data"
    },
    {
     "name": "stdout",
     "output_type": "stream",
     "text": [
      "\n",
      "[info] epoch train loss: 0.033568255533582815\n",
      "Epoch 108\n"
     ]
    },
    {
     "data": {
      "application/vnd.jupyter.widget-view+json": {
       "model_id": "187d95e664764931bd33f974572ba970",
       "version_major": 2,
       "version_minor": 0
      },
      "text/plain": [
       "HBox(children=(IntProgress(value=0, max=140), HTML(value='')))"
      ]
     },
     "metadata": {},
     "output_type": "display_data"
    },
    {
     "name": "stdout",
     "output_type": "stream",
     "text": [
      "lay egg to ./Nest ... save as ./Nest/NewbornBird\n",
      "origin:\n",
      "['[CLS]', 'zambia', 'confident', 'and', 'cautious', 'zambia', 's', 'technical', 'director', 'ka', '##lus', '##ha', 'b', '##wal', '##ya', 'is', 'confident', 'and', 'cautious', 'ahead', 'of', 'the', 'co', '##sa', '##fa', 'cup', 'final', 'against', 'angola', 'on', 'saturday', 'in', 'lu', '##saka', '.', 'b', '##wal', '##ya', 'said', ':', 'nothing', 'short', 'of', 'victory', 'will', 'do', '.', 'however', 'b', '##wal', '##ya', 'warned', 'his', 'side', 'not', 'to', 'be', 'too', 'com', '##pl', '##ace', '##nt', '.', 'i', 'don', 't', 'want', 'my', 'team', 'to', 'be', 'too', 'comfortable', 'or', 'too', 'sure', 'of', 'victory', 'as', 'it', 'is', 'going', 'to', 'be', 'a', 'difficult', 'game', '.', 'for', 'me', 'the', 'main', 'aim', 'of', 'the', 'game', 'is', 'to', 'enjoy', 'and', 'to', 'win', '.', 'zambia', 'have', 'shown', 'their', 'determination', 'to', 'win', 'this', 'final', 'by', 'recalling', 'nine', 'of', 'their', 'foreign', '-', 'based', 'players', '.', 'however', 'the', '41', 'year', '-', 'old', 'b', '##wal', '##ya', 'who', 'became', 'the', 'oldest', 'player', 'to', 'appear', 'in', 'the', 'competition', 'when', 'he', 'played', 'and', 'scored', 'against', 'mauritius', 'is', 'uncertain', 'whether', 'he', 'will', 'take', 'to', 'the', 'field', 'or', 'not', '.', 'the', 'chip', '##olo', '##pol', '##o', 'fans', 'however', 'are', 'not', 'being', 'so', 'cautious', 'with', 'a', 'victory', 'concert', 'already', 'scheduled', 'for', 'after', 'the', 'match', 'featuring', 'some', 'of', 'the', 'country', 's', 'top', 'musicians', '.', 'both', 'sides', 'are', 'hoping', 'to', 'win', 'the', 'competition', 'for', 'a', 'record', 'third', 'time', 'and', 'so', 'keep', 'the', 'trophy', 'for', 'good', '.', 'the', 'chip', '##olo', '##pol', '##o', 'won', 'the', 'first', 'two', 'editions', 'of', 'the', 'regional', 'tournament', 'for', 'southern', 'african', 'nations', 'in', '1997', 'and', '1998', '.', 'they', 'were', 'prevented', 'from', 'a', 'third', 'straight', 'win', 'by', 'angola', 'who', 'knocked', 'out', 'the', 'zambia', '##ns', 'at', 'the', 'semi', '-', 'final', 'stage', 'in', '1999', '.', 'that', 'victory', 'for', 'angola', 'also', 'marked', 'a', 'first', 'defeat', 'in', '14', 'years', 'for', 'zambia', 'at', 'lu', '##saka', 's', 'independence', 'stadium', 'where', 'saturday', 's', 'game', 'is', 'being', 'played', '.', 'angola', 'named', 'just', 'four', 'overseas', '-', 'based', 'players', 'in', 'their', 'preliminary', 'squad', '.', 'the', 'pal', '##an', '##cas', 'ne', '##gra', '##s', 'have', 'been', 'unable', 'to', 'secure', 'the', 'release', 'of', 'many', 'of', 'their', 'portugal', '-', 'based', 'players', '.', '[SEP]', '[PAD]', '[PAD]', '[PAD]', '[PAD]', '[PAD]', '[PAD]', '[PAD]', '[PAD]', '[PAD]', '[PAD]', '[PAD]', '[PAD]', '[PAD]', '[PAD]', '[PAD]', '[PAD]', '[PAD]', '[PAD]', '[PAD]', '[PAD]', '[PAD]', '[PAD]', '[PAD]', '[PAD]', '[PAD]', '[PAD]', '[PAD]', '[PAD]', '[PAD]', '[PAD]', '[PAD]', '[PAD]', '[PAD]', '[PAD]', '[PAD]', '[PAD]', '[PAD]', '[PAD]', '[PAD]', '[PAD]', '[PAD]', '[PAD]', '[PAD]', '[PAD]', '[PAD]', '[PAD]', '[PAD]', '[PAD]', '[PAD]', '[PAD]', '[PAD]', '[PAD]', '[PAD]', '[PAD]', '[PAD]', '[PAD]', '[PAD]', '[PAD]', '[PAD]', '[PAD]', '[PAD]', '[PAD]', '[PAD]', '[PAD]', '[PAD]', '[PAD]', '[PAD]', '[PAD]', '[PAD]', '[PAD]', '[PAD]', '[PAD]', '[PAD]', '[PAD]', '[PAD]']\n",
      "summary:\n",
      "['[CLS]', '##kers', '##kers', '##kers', '##kers', '##kers', '##kers', '##kers', '##kers', '##kers', '##kers', '##kers', '##kers', '##kers', '##kers', '##kers', '##kers', '##kers', '##kers', '##kers']\n",
      "real summary:\n",
      "['[CLS]', 'zambia', 'confident', 'and', 'cautious', 'zambia', 's', 'technical', 'director', 'ka', '##lus', '##ha', 'b', '##wal', '##ya', 'is', 'confident', 'and', 'cautious']\n",
      "sentiment: 4\n",
      "y: 2\n",
      "\n",
      "\n",
      "[info] epoch train loss: 0.03194253091197814\n",
      "Epoch 109\n"
     ]
    },
    {
     "data": {
      "application/vnd.jupyter.widget-view+json": {
       "model_id": "38e1837353744147b501697a67a1681c",
       "version_major": 2,
       "version_minor": 0
      },
      "text/plain": [
       "HBox(children=(IntProgress(value=0, max=140), HTML(value='')))"
      ]
     },
     "metadata": {},
     "output_type": "display_data"
    },
    {
     "name": "stdout",
     "output_type": "stream",
     "text": [
      "\n",
      "[info] epoch train loss: 0.03083086523212647\n",
      "Epoch 110\n"
     ]
    },
    {
     "data": {
      "application/vnd.jupyter.widget-view+json": {
       "model_id": "3070ee5339574b27928543ee00750b6c",
       "version_major": 2,
       "version_minor": 0
      },
      "text/plain": [
       "HBox(children=(IntProgress(value=0, max=140), HTML(value='')))"
      ]
     },
     "metadata": {},
     "output_type": "display_data"
    },
    {
     "name": "stdout",
     "output_type": "stream",
     "text": [
      "\n",
      "[info] epoch train loss: 0.030706036961769965\n",
      "Epoch 111\n"
     ]
    },
    {
     "data": {
      "application/vnd.jupyter.widget-view+json": {
       "model_id": "55ab9a10f9904198963c4050ce083d55",
       "version_major": 2,
       "version_minor": 0
      },
      "text/plain": [
       "HBox(children=(IntProgress(value=0, max=140), HTML(value='')))"
      ]
     },
     "metadata": {},
     "output_type": "display_data"
    },
    {
     "name": "stdout",
     "output_type": "stream",
     "text": [
      "\n",
      "[info] epoch train loss: 0.03150064148398997\n",
      "Epoch 112\n"
     ]
    },
    {
     "data": {
      "application/vnd.jupyter.widget-view+json": {
       "model_id": "0631b876e4b140a1af2d2272455694b4",
       "version_major": 2,
       "version_minor": 0
      },
      "text/plain": [
       "HBox(children=(IntProgress(value=0, max=140), HTML(value='')))"
      ]
     },
     "metadata": {},
     "output_type": "display_data"
    },
    {
     "name": "stdout",
     "output_type": "stream",
     "text": [
      "\n",
      "[info] epoch train loss: 0.030478174857619576\n",
      "Epoch 113\n"
     ]
    },
    {
     "data": {
      "application/vnd.jupyter.widget-view+json": {
       "model_id": "6f1c6415dd164b73b9cff5ba615566dd",
       "version_major": 2,
       "version_minor": 0
      },
      "text/plain": [
       "HBox(children=(IntProgress(value=0, max=140), HTML(value='')))"
      ]
     },
     "metadata": {},
     "output_type": "display_data"
    },
    {
     "name": "stdout",
     "output_type": "stream",
     "text": [
      "\n",
      "[info] epoch train loss: 0.029350509780510948\n",
      "Epoch 114\n"
     ]
    },
    {
     "data": {
      "application/vnd.jupyter.widget-view+json": {
       "model_id": "d1c527ed94c74cdc98e50998bf68287c",
       "version_major": 2,
       "version_minor": 0
      },
      "text/plain": [
       "HBox(children=(IntProgress(value=0, max=140), HTML(value='')))"
      ]
     },
     "metadata": {},
     "output_type": "display_data"
    },
    {
     "name": "stdout",
     "output_type": "stream",
     "text": [
      "\n",
      "[info] epoch train loss: 0.02911994186946296\n",
      "Epoch 115\n"
     ]
    },
    {
     "data": {
      "application/vnd.jupyter.widget-view+json": {
       "model_id": "652542e096964071962a48bf938eb58f",
       "version_major": 2,
       "version_minor": 0
      },
      "text/plain": [
       "HBox(children=(IntProgress(value=0, max=140), HTML(value='')))"
      ]
     },
     "metadata": {},
     "output_type": "display_data"
    },
    {
     "name": "stdout",
     "output_type": "stream",
     "text": [
      "lay egg to ./Nest ... save as ./Nest/NewbornBird\n",
      "origin:\n",
      "['[CLS]', 'fry', 'set', 'for', 'role', 'in', 'hitch', '##hi', '##ker', 's', 'actor', 'stephen', 'fry', 'is', 'joining', 'the', 'cast', 'of', 'the', 'forthcoming', 'film', 'adaptation', 'of', 'the', 'hitch', '##hi', '##ker', 's', 'guide', 'to', 'the', 'galaxy', '.', 'fry', 'will', 'provide', 'the', 'voice', 'of', 'the', 'guide', 'an', 'electronic', 'book', 'which', 'acc', '##omp', '##anies', 'the', 'story', 's', 'hero', 'arthur', 'dent', 'on', 'his', 'travels', 'around', 'the', 'galaxy', '.', 'martin', 'freeman', 'john', 'mal', '##kovich', 'bill', 'ni', '##gh', '##y', 'and', 'alan', 'rick', '##man', 'are', 'co', '-', 'starring', 'in', 'the', 'film', 'due', 'for', 'release', 'in', 'may', '.', 'the', 'late', 'douglas', 'adams', 'original', '1977', 'scripts', 'have', 'also', 'been', 'turned', 'into', 'a', 'series', 'of', 'successful', 'books', '.', 'being', 'asked', 'to', 'do', 'the', 'voice', 'of', 'the', 'guide', 'is', 'like', 'having', 'your', 'birthday', 'on', 'christmas', 'day', 'discovering', 'a', 'winning', 'lottery', 'ticket', 'in', 'your', 'stock', '##ing', 'and', 'having', 'chocolate', 'poured', 'all', 'over', 'you', 'said', 'fry', 'a', 'self', '-', 'confessed', 'fan', 'of', 'the', 'book', '.', 'the', 'film', 's', 'executive', 'producer', 'robbie', 'stamp', 'said', 'that', 'adams', 'who', 'died', 'in', '2001', 'would', 'have', 'been', 'delighted', 'with', 'the', 'choice', 'of', 'fry', 'for', 'the', 'role', '.', 'his', 'humour', 'and', 'intelligence', 'are', 'perfect', 'for', 'the', 'voice', 'of', 'the', 'guide', 'added', 'mr', 'stamp', '.', 'adams', 'wrote', 'the', 'screenplay', 'based', 'on', 'his', 'book', 'before', 'his', 'premature', 'death', 'while', 'a', 'new', 'radio', 'series', 'was', 'aired', '26', 'years', 'after', 'the', 'first', 'broadcast', 'and', 'included', 'many', 'of', 'the', 'original', 'cast', 'members', '.', 'hollywood', 'star', 'mal', '##kovich', 'will', 'play', 'religious', 'cult', 'leader', 'hum', '##ma', 'ka', '##vu', '##la', 'which', 'was', 'especially', 'created', 'by', 'adams', 'for', 'the', 'new', 'film', '.', 'freeman', 'who', 'starred', 'in', 'hit', 'bbc', 'comedy', 'the', 'office', 'will', 'play', 'the', 'role', 'of', 'arthur', 'dent', 'who', 'begins', 'his', 'inter', '##gal', '##actic', 'voyage', 'following', 'the', 'destruction', 'of', 'the', 'earth', '.', '[SEP]', '[PAD]', '[PAD]', '[PAD]', '[PAD]', '[PAD]', '[PAD]', '[PAD]', '[PAD]', '[PAD]', '[PAD]', '[PAD]', '[PAD]', '[PAD]', '[PAD]', '[PAD]', '[PAD]', '[PAD]', '[PAD]', '[PAD]', '[PAD]', '[PAD]', '[PAD]', '[PAD]', '[PAD]', '[PAD]', '[PAD]', '[PAD]', '[PAD]', '[PAD]', '[PAD]', '[PAD]', '[PAD]', '[PAD]', '[PAD]', '[PAD]', '[PAD]', '[PAD]', '[PAD]', '[PAD]', '[PAD]', '[PAD]', '[PAD]', '[PAD]', '[PAD]', '[PAD]', '[PAD]', '[PAD]', '[PAD]', '[PAD]', '[PAD]', '[PAD]', '[PAD]', '[PAD]', '[PAD]', '[PAD]', '[PAD]', '[PAD]', '[PAD]', '[PAD]', '[PAD]', '[PAD]', '[PAD]', '[PAD]', '[PAD]', '[PAD]', '[PAD]', '[PAD]', '[PAD]', '[PAD]', '[PAD]', '[PAD]', '[PAD]', '[PAD]', '[PAD]', '[PAD]', '[PAD]', '[PAD]', '[PAD]', '[PAD]', '[PAD]', '[PAD]', '[PAD]', '[PAD]', '[PAD]', '[PAD]', '[PAD]', '[PAD]', '[PAD]', '[PAD]', '[PAD]', '[PAD]', '[PAD]', '[PAD]', '[PAD]', '[PAD]', '[PAD]', '[PAD]', '[PAD]', '[PAD]', '[PAD]', '[PAD]', '[PAD]', '[PAD]', '[PAD]', '[PAD]', '[PAD]', '[PAD]', '[PAD]', '[PAD]', '[PAD]', '[PAD]', '[PAD]', '[PAD]', '[PAD]', '[PAD]', '[PAD]', '[PAD]', '[PAD]']\n",
      "summary:\n",
      "['[CLS]', '##kers', '##kers', '##kers', '##kers', '##kers', '##kers', '##kers', '##kers', '##kers', '##kers', '##kers', '##kers', '##kers', '##kers', '##kers', '##kers', '##kers', '##kers', '##kers']\n",
      "real summary:\n",
      "['[CLS]', 'fry', 'set', 'for', 'role', 'in', 'hitch', '##hi', '##ker', 's', 'actor', 'stephen', 'fry', 'is', 'joining', 'the', 'cast', 'of', 'the']\n",
      "sentiment: 4\n",
      "y: 3\n",
      "\n",
      "\n",
      "[info] epoch train loss: 0.02920880943497082\n",
      "Epoch 116\n"
     ]
    },
    {
     "data": {
      "application/vnd.jupyter.widget-view+json": {
       "model_id": "83930781feb4453aba1c9e85aec22716",
       "version_major": 2,
       "version_minor": 0
      },
      "text/plain": [
       "HBox(children=(IntProgress(value=0, max=140), HTML(value='')))"
      ]
     },
     "metadata": {},
     "output_type": "display_data"
    },
    {
     "name": "stdout",
     "output_type": "stream",
     "text": [
      "\n",
      "[info] epoch train loss: 0.029930018202809196\n",
      "Epoch 117\n"
     ]
    },
    {
     "data": {
      "application/vnd.jupyter.widget-view+json": {
       "model_id": "bb60962e32fe41c08ef07d648765d06d",
       "version_major": 2,
       "version_minor": 0
      },
      "text/plain": [
       "HBox(children=(IntProgress(value=0, max=140), HTML(value='')))"
      ]
     },
     "metadata": {},
     "output_type": "display_data"
    },
    {
     "name": "stdout",
     "output_type": "stream",
     "text": [
      "\n",
      "[info] epoch train loss: 0.03005618260789171\n",
      "Epoch 118\n"
     ]
    },
    {
     "data": {
      "application/vnd.jupyter.widget-view+json": {
       "model_id": "e1987cfe4ab84cbb83dfdb76c1aea601",
       "version_major": 2,
       "version_minor": 0
      },
      "text/plain": [
       "HBox(children=(IntProgress(value=0, max=140), HTML(value='')))"
      ]
     },
     "metadata": {},
     "output_type": "display_data"
    },
    {
     "name": "stdout",
     "output_type": "stream",
     "text": [
      "\n",
      "[info] epoch train loss: 0.030949044795660744\n",
      "Epoch 119\n"
     ]
    },
    {
     "data": {
      "application/vnd.jupyter.widget-view+json": {
       "model_id": "3cd021279cb24146b2239ab7134f6929",
       "version_major": 2,
       "version_minor": 0
      },
      "text/plain": [
       "HBox(children=(IntProgress(value=0, max=140), HTML(value='')))"
      ]
     },
     "metadata": {},
     "output_type": "display_data"
    },
    {
     "name": "stdout",
     "output_type": "stream",
     "text": [
      "\n",
      "[info] epoch train loss: 0.03155950991875979\n",
      "Epoch 120\n"
     ]
    },
    {
     "data": {
      "application/vnd.jupyter.widget-view+json": {
       "model_id": "df1f98997f5b482181d0e1a196aee08e",
       "version_major": 2,
       "version_minor": 0
      },
      "text/plain": [
       "HBox(children=(IntProgress(value=0, max=140), HTML(value='')))"
      ]
     },
     "metadata": {},
     "output_type": "display_data"
    },
    {
     "name": "stdout",
     "output_type": "stream",
     "text": [
      "\n",
      "[info] epoch train loss: 0.032780215023350524\n",
      "Epoch 121\n"
     ]
    },
    {
     "data": {
      "application/vnd.jupyter.widget-view+json": {
       "model_id": "db1697925e6e4dfc9308d44859159f68",
       "version_major": 2,
       "version_minor": 0
      },
      "text/plain": [
       "HBox(children=(IntProgress(value=0, max=140), HTML(value='')))"
      ]
     },
     "metadata": {},
     "output_type": "display_data"
    },
    {
     "name": "stdout",
     "output_type": "stream",
     "text": [
      "\n",
      "[info] epoch train loss: 0.03373978635570763\n",
      "Epoch 122\n"
     ]
    },
    {
     "data": {
      "application/vnd.jupyter.widget-view+json": {
       "model_id": "9b57824ec9dc4cd3a7b89d638b6c2b51",
       "version_major": 2,
       "version_minor": 0
      },
      "text/plain": [
       "HBox(children=(IntProgress(value=0, max=140), HTML(value='')))"
      ]
     },
     "metadata": {},
     "output_type": "display_data"
    },
    {
     "name": "stdout",
     "output_type": "stream",
     "text": [
      "lay egg to ./Nest ... save as ./Nest/NewbornBird\n",
      "origin:\n",
      "['[CLS]', 'ireland', '19', '-', '13', 'england', 'ireland', 'con', '##si', '##gned', 'england', 'to', 'their', 'third', 'straight', 'six', 'nations', 'defeat', 'with', 'a', 'stirring', 'victory', 'at', 'lan', '##sd', '##own', '##e', 'road', '.', 'a', 'second', '-', 'half', 'try', 'from', 'captain', 'brian', 'o', 'dr', '##is', '##coll', 'and', '14', 'points', 'from', 'ronan', 'o', 'ga', '##ra', 'kept', 'ireland', 'on', 'track', 'for', 'their', 'first', 'grand', 'slam', 'since', '1948', '.', 'england', 'scored', 'first', 'through', 'martin', 'co', '##rry', 'but', 'had', 'tries', 'from', 'mark', 'cue', '##to', 'and', 'josh', 'lew', '##sey', 'di', '##sal', '##lowe', '##d', '.', 'andy', 'robinson', 's', 'men', 'have', 'now', 'lost', 'nine', 'of', 'their', 'last', '14', 'matches', 'since', 'the', '2003', 'world', 'cup', 'final', '.', 'the', 'defeat', 'also', 'herald', '##ed', 'england', 's', 'worst', 'run', 'in', 'the', 'championship', 'since', '1987', '.', 'ireland', 'last', 'won', 'the', 'title', 'then', 'the', 'five', 'nations', 'in', '1985', 'but', '20', 'years', 'on', 'they', 'share', 'top', 'spot', 'in', 'the', 'table', 'on', 'maximum', 'points', 'with', 'wales', '.', 'and', 'eddie', 'o', 'sullivan', 's', 'side', 'banished', 'the', 'ghosts', 'of', '2003', 'when', 'england', 'were', 'rampant', '42', '-', '6', 'victor', '##s', 'in', 'claiming', 'the', 'grand', 'slam', 'at', 'lan', '##sd', '##own', '##e', 'road', '.', 'in', 'front', 'of', 'a', 'super', '##charged', 'home', 'crowd', 'on', 'a', 'dry', 'but', 'blu', '##ster', '##y', 'day', 'in', 'dublin', 'ireland', 'tore', 'into', 'the', 'white', '-', 'shirt', '##ed', 'visitors', 'from', 'the', 'kick', '-', 'off', 'and', 'made', 'their', 'intentions', 'clear', 'when', 'o', 'ga', '##ra', 'landed', 'a', 'fourth', '-', 'minute', 'drop', '-', 'goal', '.', 'england', 'took', 'their', 'time', 'to', 'settle', 'but', 'their', 'first', 'real', 'venture', 'into', 'ireland', 's', 'half', 'produced', 'a', 'simple', 'score', 'for', 'co', '##rry', '.', 'the', 'number', 'eight', 'picked', 'up', 'the', 'ball', 'from', 'the', 'back', 'of', 'a', 'ru', '##ck', 'and', 'found', 'an', 'absence', 'of', 'green', 'jerseys', 'between', 'himself', 'and', 'the', 'irish', 'line', 'racing', '25', 'yards', 'to', 'touch', 'down', '.', 'england', 'fly', '-', 'half', 'charlie', 'hodgson', 'nailed', 'the', 'conversion', 'from', 'out', 'on', 'the', 'left', 'but', 'almost', 'immediately', 'o', 'ga', '##ra', 'winning', 'his', '50th', 'cap', 'answered', 'with', 'two', 'penalties', 'in', 'quick', 'succession', '.', 'england', 'were', 'awarded', 'a', 'penalty', 'of', 'their', 'own', 'on', 'the', 'halfway', 'line', 'after', '20', 'minutes', 'and', 'hodgson', 'the', 'villain', 'at', 't', '##wick', '##enham', 'cool', '##ly', 'bis', '##ect', '##ed', 'the', 'posts', '.', 'the', 'first', 'quarter', 'was', 'marked', 'by', 'periods', 'of', 'tactical', 'kicking', 'but', 'it', 'was', 'ireland', 'who', 'were', 'showing', 'more', 'willingness', 'to', 'spread', 'the', 'ball', 'wide', 'to', 'their', 'eager', 'and', 'in', '##vent', '##ive', 'backs', '.', 'a', 'series', 'of', 'probe', '##s', 'led', 'by', 'the', 'tal', '##isman', '##ic', 'o', 'dr', '##is', '##coll', 'back', 'from', 'ham']\n",
      "summary:\n",
      "['[CLS]', '##kers', '##kers', '##kers', '##kers', '##kers', '##kers', '##kers', '##kers', '##kers', '##kers', '##kers', '##kers', '##kers', '##kers', '##kers', '##kers', '##kers', '##kers', '##kers']\n",
      "real summary:\n",
      "['[CLS]', 'ireland', '19', '-', '13', 'england', 'ireland', 'con', '##si', '##gned', 'england', 'to', 'their', 'third', 'straight', 'six', 'nations', 'defeat', 'with']\n",
      "sentiment: 4\n",
      "y: 2\n",
      "\n",
      "\n",
      "[info] epoch train loss: 0.03359541145947398\n",
      "Epoch 123\n"
     ]
    },
    {
     "data": {
      "application/vnd.jupyter.widget-view+json": {
       "model_id": "62276d79b3c24fc196a6695359dc8653",
       "version_major": 2,
       "version_minor": 0
      },
      "text/plain": [
       "HBox(children=(IntProgress(value=0, max=140), HTML(value='')))"
      ]
     },
     "metadata": {},
     "output_type": "display_data"
    },
    {
     "name": "stdout",
     "output_type": "stream",
     "text": [
      "\n",
      "[info] epoch train loss: 0.03319028931899461\n",
      "Epoch 124\n"
     ]
    },
    {
     "data": {
      "application/vnd.jupyter.widget-view+json": {
       "model_id": "45b9f06d460c46bc96acb86177c2d091",
       "version_major": 2,
       "version_minor": 0
      },
      "text/plain": [
       "HBox(children=(IntProgress(value=0, max=140), HTML(value='')))"
      ]
     },
     "metadata": {},
     "output_type": "display_data"
    },
    {
     "name": "stdout",
     "output_type": "stream",
     "text": [
      "\n",
      "[info] epoch train loss: 0.03208861424781162\n",
      "Epoch 125\n"
     ]
    },
    {
     "data": {
      "application/vnd.jupyter.widget-view+json": {
       "model_id": "0137332da2554244b80fa8cb2f995147",
       "version_major": 2,
       "version_minor": 0
      },
      "text/plain": [
       "HBox(children=(IntProgress(value=0, max=140), HTML(value='')))"
      ]
     },
     "metadata": {},
     "output_type": "display_data"
    },
    {
     "name": "stdout",
     "output_type": "stream",
     "text": [
      "\n",
      "[info] epoch train loss: 0.03185051719115108\n",
      "Epoch 126\n"
     ]
    },
    {
     "data": {
      "application/vnd.jupyter.widget-view+json": {
       "model_id": "23d074d578674eeab7b1d106f8b8d4fd",
       "version_major": 2,
       "version_minor": 0
      },
      "text/plain": [
       "HBox(children=(IntProgress(value=0, max=140), HTML(value='')))"
      ]
     },
     "metadata": {},
     "output_type": "display_data"
    },
    {
     "name": "stdout",
     "output_type": "stream",
     "text": [
      "\n",
      "[info] epoch train loss: 0.031920700449053846\n",
      "Epoch 127\n"
     ]
    },
    {
     "data": {
      "application/vnd.jupyter.widget-view+json": {
       "model_id": "6c7fa9739d1b4f93b086e9b968067b54",
       "version_major": 2,
       "version_minor": 0
      },
      "text/plain": [
       "HBox(children=(IntProgress(value=0, max=140), HTML(value='')))"
      ]
     },
     "metadata": {},
     "output_type": "display_data"
    },
    {
     "name": "stdout",
     "output_type": "stream",
     "text": [
      "\n",
      "[info] epoch train loss: 0.031698394881431315\n",
      "Epoch 128\n"
     ]
    },
    {
     "data": {
      "application/vnd.jupyter.widget-view+json": {
       "model_id": "c36a9d3d3383443588cc7df3b97a1caf",
       "version_major": 2,
       "version_minor": 0
      },
      "text/plain": [
       "HBox(children=(IntProgress(value=0, max=140), HTML(value='')))"
      ]
     },
     "metadata": {},
     "output_type": "display_data"
    },
    {
     "name": "stdout",
     "output_type": "stream",
     "text": [
      "\n",
      "[info] epoch train loss: 0.031671577898743766\n",
      "Epoch 129\n"
     ]
    },
    {
     "data": {
      "application/vnd.jupyter.widget-view+json": {
       "model_id": "5830c1d27fde411a9e4243396b61f45c",
       "version_major": 2,
       "version_minor": 0
      },
      "text/plain": [
       "HBox(children=(IntProgress(value=0, max=140), HTML(value='')))"
      ]
     },
     "metadata": {},
     "output_type": "display_data"
    },
    {
     "name": "stdout",
     "output_type": "stream",
     "text": [
      "lay egg to ./Nest ... save as ./Nest/NewbornBird\n",
      "origin:\n",
      "['[CLS]', 'wales', 'hail', '##s', 'new', 'superstar', 'one', 'game', 'into', 'his', 'six', 'nations', 'career', 'and', 'gavin', 'henson', 'is', 'already', 'a', 'welsh', 'legend', '.', 'a', 'me', '##sm', '##eric', 'display', 'against', 'england', 'topped', 'off', 'by', 'his', 'how', '##itzer', 'of', 'a', 'match', '-', 'winning', 'penalty', 'has', 'secured', 'life', 'membership', 'of', 'that', 'particular', 'club', '.', 'at', '23', 'henson', 'has', 'the', 'rugby', 'world', 'at', 'his', 'silver', '-', 'boot', '##ed', 'feet', '.', 'and', 'if', 'his', 'natural', 'self', '-', 'assurance', 'and', 'sw', '##agger', 'is', 'shared', 'by', 'his', 'wales', 'team', '-', 'mates', 'then', 'a', 'full', '-', 'blown', 'revival', 'could', 'be', 'more', 'than', 'just', 'a', 'lot', 'of', 'hot', 'air', 'drifting', 'up', 'from', 'the', 'valleys', '.', 'the', 'red', 'dragon', '##hood', 'subdued', 'the', 'red', 'rose', 'army', 'in', 'most', 'areas', 'of', 'the', 'field', 'but', 'henson', 's', 'stellar', 'performance', 'ensured', 'their', 'efforts', 'yielded', 'the', 'win', 'they', 'craved', 'above', 'all', 'others', '.', 'he', 'announced', 'himself', 'in', 'the', 'game', 's', 'opening', 'sal', '##vo', 'with', 'a', 'welcome', 'to', 'cardiff', 'greeting', 'for', 'mark', 'cue', '##to', 'on', 'the', 'gain', 'line', '.', 'and', 'his', 'defence', 'was', 'a', 'major', 'feature', 'of', 'the', 'match', 'his', 'principal', 'victim', 'poor', 'old', 'or', 'rather', 'young', 'mathew', 'tai', '##t', '.', 'the', 'england', 'centre', 'will', 'have', 'spent', 'his', '19th', 'birthday', 'on', 'sunday', 'shuddering', 'at', 'the', 'memory', 'of', 'how', 'he', 'was', 'up', '-', 'ended', 'not', 'just', 'once', 'but', 'twice', 'by', 'henson', 's', 'all', '-', 'en', '##vel', '##oping', 'tackles', '.', 'the', 'second', 'time', 'after', 'the', 'interval', 'single', '-', 'handed', '##ly', 'lifted', 'the', 'record', 'millennium', 'stadium', 'crowd', 'at', 'a', 'time', 'when', 'england', 'were', 'starting', 'to', 'show', 'menace', '.', 'showing', 'awesome', 'strength', 'henson', 'non', '##chan', '##tly', 'held', 'the', 'bewildered', 'debut', '##ant', 'in', 'mid', '-', 'air', 'a', 'master', 'predator', 'toy', '##ing', 'with', 'his', 'helpless', 'prey', 'sa', '##vo', '##uring', 'the', 'kill', '.', 'his', 'kicking', 'game', 'also', 'pro', '##sper', '##ed', 'particularly', 'when', 'he', 'moved', 'to', 'full', '-', 'back', 'for', '10', 'minutes', 'either', 'side', 'of', 'half', '-', 'time', 'when', 'his', 'captain', 'gareth', 'thomas', 'was', 'in', 'the', 'sin', '-', 'bin', '.', 'one', 'huge', 'clearance', 'from', 'tai', '##t', 's', 'kick', 'sent', 'england', 'retreating', 'rapidly', 'while', 'another', 'booming', 'punt', 'to', 'the', 'right', 'corner', 'kept', 'the', 'visitors', 'pinned', 'in', 'their', 'own', 'half', '.', 'henson', 'was', 'also', 'creativity', 'person', '##ified', ':', 'one', 'little', 'chip', 'ahead', 'for', 'shane', 'williams', 'narrowly', 'missed', 'its', 'target', ';', 'a', 'precise', 'cross', '-', 'kick', 'forcing', 'jamie', 'noon', 'to', 'fumble', 'the', 'ball', 'into', 'touch', '.', 'he', 'also', 'had', 'a', 'hand', 'in', 'the', 'game', 's', 'only', 'try', 'finished', 'superb', '##ly', 'by', 'williams', 'and', 'might', 'have', 'scored', 'himself', 'on']\n",
      "summary:\n",
      "['[CLS]', '##kers', '##kers', '##kers', '##kers', '##kers', '##kers', '##kers', '##kers', '##kers', '##kers', '##kers', '##kers', '##kers', '##kers', '##kers', '##kers', '##kers', '##kers', '##kers']\n",
      "real summary:\n",
      "['[CLS]', 'wales', 'hail', '##s', 'new', 'superstar', 'one', 'game', 'into', 'his', 'six', 'nations', 'career', 'and', 'gavin', 'henson', 'is', 'already', 'a']\n",
      "sentiment: 4\n",
      "y: 2\n",
      "\n",
      "\n",
      "[info] epoch train loss: 0.03226042386411052\n",
      "Epoch 130\n"
     ]
    },
    {
     "data": {
      "application/vnd.jupyter.widget-view+json": {
       "model_id": "55faa0510d474676ae67f3d7659ed7b6",
       "version_major": 2,
       "version_minor": 0
      },
      "text/plain": [
       "HBox(children=(IntProgress(value=0, max=140), HTML(value='')))"
      ]
     },
     "metadata": {},
     "output_type": "display_data"
    },
    {
     "name": "stdout",
     "output_type": "stream",
     "text": [
      "\n",
      "[info] epoch train loss: 0.03315615936007573\n",
      "Epoch 131\n"
     ]
    },
    {
     "data": {
      "application/vnd.jupyter.widget-view+json": {
       "model_id": "4efb3ad94c224fd3ad2b62653172f47e",
       "version_major": 2,
       "version_minor": 0
      },
      "text/plain": [
       "HBox(children=(IntProgress(value=0, max=140), HTML(value='')))"
      ]
     },
     "metadata": {},
     "output_type": "display_data"
    },
    {
     "name": "stdout",
     "output_type": "stream",
     "text": [
      "\n",
      "[info] epoch train loss: 0.032556642533092726\n",
      "Epoch 132\n"
     ]
    },
    {
     "data": {
      "application/vnd.jupyter.widget-view+json": {
       "model_id": "54c3f671cbe14a20916cbc131e60800a",
       "version_major": 2,
       "version_minor": 0
      },
      "text/plain": [
       "HBox(children=(IntProgress(value=0, max=140), HTML(value='')))"
      ]
     },
     "metadata": {},
     "output_type": "display_data"
    },
    {
     "name": "stdout",
     "output_type": "stream",
     "text": [
      "\n",
      "[info] epoch train loss: 0.03202802379240422\n",
      "Epoch 133\n"
     ]
    },
    {
     "data": {
      "application/vnd.jupyter.widget-view+json": {
       "model_id": "159b2eb7607e4787824d66a228a9b5ea",
       "version_major": 2,
       "version_minor": 0
      },
      "text/plain": [
       "HBox(children=(IntProgress(value=0, max=140), HTML(value='')))"
      ]
     },
     "metadata": {},
     "output_type": "display_data"
    },
    {
     "name": "stdout",
     "output_type": "stream",
     "text": [
      "\n",
      "[info] epoch train loss: 0.03107831551779847\n",
      "Epoch 134\n"
     ]
    },
    {
     "data": {
      "application/vnd.jupyter.widget-view+json": {
       "model_id": "9d67a616ce9345209564aba4cb68a18e",
       "version_major": 2,
       "version_minor": 0
      },
      "text/plain": [
       "HBox(children=(IntProgress(value=0, max=140), HTML(value='')))"
      ]
     },
     "metadata": {},
     "output_type": "display_data"
    },
    {
     "name": "stdout",
     "output_type": "stream",
     "text": [
      "\n",
      "[info] epoch train loss: 0.030642304831910598\n",
      "Epoch 135\n"
     ]
    },
    {
     "data": {
      "application/vnd.jupyter.widget-view+json": {
       "model_id": "08237255bb844c379d5957a6b450dc56",
       "version_major": 2,
       "version_minor": 0
      },
      "text/plain": [
       "HBox(children=(IntProgress(value=0, max=140), HTML(value='')))"
      ]
     },
     "metadata": {},
     "output_type": "display_data"
    },
    {
     "name": "stdout",
     "output_type": "stream",
     "text": [
      "\n",
      "[info] epoch train loss: 0.030371465591646742\n",
      "Epoch 136\n"
     ]
    },
    {
     "data": {
      "application/vnd.jupyter.widget-view+json": {
       "model_id": "359d5527e9324513b4b42ab2fc387f65",
       "version_major": 2,
       "version_minor": 0
      },
      "text/plain": [
       "HBox(children=(IntProgress(value=0, max=140), HTML(value='')))"
      ]
     },
     "metadata": {},
     "output_type": "display_data"
    },
    {
     "name": "stdout",
     "output_type": "stream",
     "text": [
      "lay egg to ./Nest ... save as ./Nest/NewbornBird\n",
      "origin:\n",
      "['[CLS]', '2d', 'metal', 'slug', 'offers', 'retro', 'fun', 'like', 'some', 'drill', 'sergeant', 'from', 'the', 'past', 'metal', 'slug', '3', 'is', 'a', 'wake', '-', 'up', 'call', 'to', 'today', 's', 'gamer', '##s', 'molly', '-', 'cod', '##dled', 'with', 'slick', 'visuals', 'and', 'fancy', 'trim', '##ming', '##s', '.', 'with', 'its', 'hand', '-', 'animated', 'sp', '##rites', 'and', '2d', 'side', '-', 'scrolling', 'this', 'was', 'even', 'considered', 'retro', 'when', 'released', 'in', 'arcade', '##s', 'four', 'years', 'ago', '.', 'but', 'a', 'more', 'frantic', 'shooter', 'you', 'will', 'not', 'find', 'at', 'the', 'end', 'of', 'your', 'joy', '##pad', 'this', 'year', '.', 'and', 'yes', 'that', 'includes', 'halo', '2', '.', 'simply', 'choose', 'your', 'grunt', 'and', 'wade', 'through', 'five', '2d', 'side', '-', 'scrolling', 'levels', 'of', 'the', 'most', 'he', '##ctic', 'video', 'game', 'blasting', 'you', 'will', 'ever', 'encounter', '.', 'it', 'is', 'also', 'the', 'tough', '##est', 'game', 'you', 'are', 'likely', 'to', 'play', 'as', 'horde', '##s', 'of', 'enemies', 'and', 'few', 'lives', 'pile', 'the', 'pressure', 'on', '.', 'players', 'must', 'battle', 'soldiers', 'snow', '##men', 'zombies', 'giant', 'crabs', 'and', 'aliens', 'not', 'to', 'mention', 'the', 'huge', 'screen', '-', 'filling', 'bosses', 'that', 'guard', 'each', 'of', 'the', 'five', 'levels', '.', 'the', 'shoot', '-', 'anything', '-', 'that', '-', 'moves', 'gameplay', 'is', 'pepper', '##ed', 'with', 'moments', 'of', 'old', '-', 'school', 'genius', '.', 'fans', 'of', 'robotic', 'gastropod', '##s', 'should', 'note', 'the', 'title', 'refers', 'instead', 'to', 'the', 'vast', 'array', 'of', 'vehicles', 'on', 'offer', 'in', 'a', 'game', 'stuffed', 'with', 'bizarre', 'hardware', '.', 'tanks', 'jets', 'and', 'submarines', 'can', 'be', 'command', '##eer', '##ed', 'as', 'well', 'as', 'cannon', '-', 'to', '##ting', 'camel', '##s', 'elephants', 'and', 'os', '##tric', '##hes', '-', 'more', 'weaponry', 'on', 'offer', 'than', 'in', 'an', 'acre', 'of', 'iraq', '.', 'do', '##ling', 'out', 'justice', 'is', 'a', 'joy', 'thanks', 'to', 'ultra', 'responsive', 'controls', 'and', 'while', 'this', 'is', 'a', 'tough', 'nut', 'to', 'crack', 'it', 'is', 'addict', '##ive', 'enough', 'to', 'have', 'you', 'gag', '##ging', 'for', 'that', 'one', 'last', 'go', '.', 'and', 'at', 'a', 'mere', '£2', '##0', 'metal', 'slug', '3', 'is', 'as', 'cheap', 'as', 'sliced', 'fried', 'sp', '##ud', '##s', 'as', 'the', 'man', 'says', '.', 'of', 'course', 'most', 'of', 'you', 'will', 'ignore', 'this', 'lacking', 'as', 'it', 'does', 'the', 'visual', 'fireworks', 'of', 'modern', 'blast', '##ers', '.', 'but', 'at', 'a', 'time', 'when', 'blockbuster', 'titles', 'offer', 'only', 'a', 'fresh', 'lick', 'of', 'paint', 'in', 'favour', 'of', 'real', 'innovation', 'metal', 'slug', '3', 'is', 'a', 'fresh', 'gasp', 'of', 'air', 'from', 'an', 'era', 'when', 'the', 'xbox', 'was', 'not', 'even', 'a', 'twinkle', 'in', 'bill', 'gates', 'eye', '.', '[SEP]', '[PAD]', '[PAD]', '[PAD]', '[PAD]', '[PAD]', '[PAD]', '[PAD]', '[PAD]', '[PAD]', '[PAD]', '[PAD]', '[PAD]', '[PAD]', '[PAD]', '[PAD]', '[PAD]', '[PAD]', '[PAD]', '[PAD]', '[PAD]', '[PAD]']\n",
      "summary:\n",
      "['[CLS]', '##kers', '##kers', '##kers', '##kers', '##kers', '##kers', '##kers', '##kers', '##kers', '##kers', '##kers', '##kers', '##kers', '##kers', '##kers', '##kers', '##kers', '##kers', '##kers']\n",
      "real summary:\n",
      "['[CLS]', '2d', 'metal', 'slug', 'offers', 'retro', 'fun', 'like', 'some', 'drill', 'sergeant', 'from', 'the', 'past', 'metal', 'slug', '3', 'is', 'a']\n",
      "sentiment: 4\n",
      "y: 0\n",
      "\n",
      "\n",
      "[info] epoch train loss: 0.03021164251101709\n",
      "Epoch 137\n"
     ]
    },
    {
     "data": {
      "application/vnd.jupyter.widget-view+json": {
       "model_id": "774540ed871c4d37b766220b60ecdcda",
       "version_major": 2,
       "version_minor": 0
      },
      "text/plain": [
       "HBox(children=(IntProgress(value=0, max=140), HTML(value='')))"
      ]
     },
     "metadata": {},
     "output_type": "display_data"
    },
    {
     "name": "stdout",
     "output_type": "stream",
     "text": [
      "\n",
      "[info] epoch train loss: 0.02986922469264966\n",
      "Epoch 138\n"
     ]
    },
    {
     "data": {
      "application/vnd.jupyter.widget-view+json": {
       "model_id": "9960e8995ecc4282b60867e7c9f93304",
       "version_major": 2,
       "version_minor": 0
      },
      "text/plain": [
       "HBox(children=(IntProgress(value=0, max=140), HTML(value='')))"
      ]
     },
     "metadata": {},
     "output_type": "display_data"
    },
    {
     "name": "stdout",
     "output_type": "stream",
     "text": [
      "\n",
      "[info] epoch train loss: 0.02974274885361459\n",
      "Epoch 139\n"
     ]
    },
    {
     "data": {
      "application/vnd.jupyter.widget-view+json": {
       "model_id": "830ecc792bcc4374bec0bf09d5ee8405",
       "version_major": 2,
       "version_minor": 0
      },
      "text/plain": [
       "HBox(children=(IntProgress(value=0, max=140), HTML(value='')))"
      ]
     },
     "metadata": {},
     "output_type": "display_data"
    },
    {
     "name": "stdout",
     "output_type": "stream",
     "text": [
      "\n",
      "[info] epoch train loss: 0.030186744222149287\n",
      "Epoch 140\n"
     ]
    },
    {
     "data": {
      "application/vnd.jupyter.widget-view+json": {
       "model_id": "4c807a6069994783925c14841cc94fa4",
       "version_major": 2,
       "version_minor": 0
      },
      "text/plain": [
       "HBox(children=(IntProgress(value=0, max=140), HTML(value='')))"
      ]
     },
     "metadata": {},
     "output_type": "display_data"
    },
    {
     "name": "stdout",
     "output_type": "stream",
     "text": [
      "\n",
      "[info] epoch train loss: 0.030747548563579943\n",
      "Epoch 141\n"
     ]
    },
    {
     "data": {
      "application/vnd.jupyter.widget-view+json": {
       "model_id": "3804b9e312de447db724026c4b5dd731",
       "version_major": 2,
       "version_minor": 0
      },
      "text/plain": [
       "HBox(children=(IntProgress(value=0, max=140), HTML(value='')))"
      ]
     },
     "metadata": {},
     "output_type": "display_data"
    },
    {
     "name": "stdout",
     "output_type": "stream",
     "text": [
      "\n",
      "[info] epoch train loss: 0.029767901492358004\n",
      "Epoch 142\n"
     ]
    },
    {
     "data": {
      "application/vnd.jupyter.widget-view+json": {
       "model_id": "65b5d0e4c11e41b39aedc7bff617e424",
       "version_major": 2,
       "version_minor": 0
      },
      "text/plain": [
       "HBox(children=(IntProgress(value=0, max=140), HTML(value='')))"
      ]
     },
     "metadata": {},
     "output_type": "display_data"
    },
    {
     "name": "stdout",
     "output_type": "stream",
     "text": [
      "\n",
      "[info] epoch train loss: 0.02929986843164808\n",
      "Epoch 143\n"
     ]
    },
    {
     "data": {
      "application/vnd.jupyter.widget-view+json": {
       "model_id": "787fbad76f3a4b39a09ed7d2449a8709",
       "version_major": 2,
       "version_minor": 0
      },
      "text/plain": [
       "HBox(children=(IntProgress(value=0, max=140), HTML(value='')))"
      ]
     },
     "metadata": {},
     "output_type": "display_data"
    },
    {
     "name": "stdout",
     "output_type": "stream",
     "text": [
      "lay egg to ./Nest ... save as ./Nest/NewbornBird\n",
      "origin:\n",
      "['[CLS]', 'egypt', 'and', 'israel', 'seal', 'trade', 'deal', 'in', 'a', 'sign', 'of', 'a', 'tha', '##w', 'in', 'relations', 'between', 'egypt', 'and', 'israel', 'the', 'two', 'countries', 'have', 'signed', 'a', 'trade', 'protocol', 'with', 'the', 'us', 'allowing', 'egyptian', 'goods', 'made', 'in', 'partnership', 'with', 'israeli', 'firms', 'free', 'access', 'to', 'american', 'markets', '.', 'the', 'protocol', 'signed', 'in', 'cairo', 'will', 'establish', 'what', 'are', 'called', 'qualified', 'industrial', 'zones', 'in', 'egypt', '.', 'products', 'from', 'these', 'zones', 'will', 'enjoy', 'duty', 'free', 'access', 'to', 'the', 'us', 'provided', 'that', '35', '%', 'of', 'their', 'components', 'are', 'the', 'product', 'of', 'israeli', '-', 'egyptian', 'cooperation', '.', 'the', 'us', 'describes', 'this', 'as', 'the', 'most', 'important', 'economic', 'agreement', 'between', 'egypt', 'and', 'israel', 'in', 'two', 'decades', '.', 'the', 'protocol', 'establishing', 'the', 'zones', 'has', 'been', 'stalled', 'for', 'years', '.', 'there', 'has', 'been', 'deep', 'sensitivity', 'in', 'egypt', 'about', 'any', 'form', 'of', 'co', '-', 'operation', 'with', 'israel', 'as', 'long', 'as', 'its', 'peace', 'process', 'with', 'the', 'palestinians', 'remains', 'blocked', '.', 'but', 'in', 'recent', 'weeks', 'an', 'unusual', 'warmth', 'has', 'crept', 'into', 'relations', 'between', 'the', 'two', 'countries', '.', 'both', 'exchanged', 'prisoners', 'earlier', 'this', 'month', 'with', 'egypt', 'handing', 'back', 'an', 'israeli', 'who', 'has', 'served', 'eight', 'years', 'in', 'prison', 'after', 'being', 'convicted', 'for', 'spying', '.', 'egyptian', 'president', 'ho', '##s', '##ni', 'mu', '##bara', '##k', 'has', 'described', 'israeli', 'prime', 'minister', 'ariel', 'sharon', 'as', 'the', 'best', 'chance', 'for', 'the', 'palestinians', 'to', 'achieve', 'peace', '.', 'the', 'government', 'in', 'cairo', 'now', 'believes', 'mr', 'sharon', 'is', 'moving', 'towards', 'the', 'centre', 'and', 'away', 'from', 'the', 'positions', 'of', 'right', 'wing', 'groups', '.', 'it', 'also', 'believes', 'the', 'us', 'pressed', 'by', 'europe', 'is', 'now', 'more', 'willing', 'to', 'engage', 'seriously', 'in', 'the', 'search', 'for', 'a', 'settlement', '.', 'but', 'there', 'are', 'also', 'pressing', 'economic', 'reasons', 'for', 'egypt', 's', 'decision', 'to', 'enter', 'into', 'the', 'trade', 'agreement', '.', 'it', 'will', 'give', 'a', 'huge', 'boost', 'to', 'egyptian', 'textile', 'exports', 'which', 'are', 'about', 'to', 'suffer', 'a', 'drop', 'after', 'new', 'regulations', 'come', 'into', 'force', 'in', 'the', 'us', 'at', 'the', 'beginning', 'of', 'the', 'year', '.', '[SEP]', '[PAD]', '[PAD]', '[PAD]', '[PAD]', '[PAD]', '[PAD]', '[PAD]', '[PAD]', '[PAD]', '[PAD]', '[PAD]', '[PAD]', '[PAD]', '[PAD]', '[PAD]', '[PAD]', '[PAD]', '[PAD]', '[PAD]', '[PAD]', '[PAD]', '[PAD]', '[PAD]', '[PAD]', '[PAD]', '[PAD]', '[PAD]', '[PAD]', '[PAD]', '[PAD]', '[PAD]', '[PAD]', '[PAD]', '[PAD]', '[PAD]', '[PAD]', '[PAD]', '[PAD]', '[PAD]', '[PAD]', '[PAD]', '[PAD]', '[PAD]', '[PAD]', '[PAD]', '[PAD]', '[PAD]', '[PAD]', '[PAD]', '[PAD]', '[PAD]', '[PAD]', '[PAD]', '[PAD]', '[PAD]', '[PAD]', '[PAD]', '[PAD]', '[PAD]', '[PAD]', '[PAD]', '[PAD]', '[PAD]', '[PAD]', '[PAD]', '[PAD]', '[PAD]', '[PAD]', '[PAD]', '[PAD]', '[PAD]', '[PAD]', '[PAD]', '[PAD]', '[PAD]', '[PAD]', '[PAD]', '[PAD]', '[PAD]', '[PAD]', '[PAD]', '[PAD]', '[PAD]', '[PAD]', '[PAD]', '[PAD]', '[PAD]', '[PAD]', '[PAD]']\n",
      "summary:\n",
      "['[CLS]', '##kers', '##kers', '##kers', '##kers', '##kers', '##kers', '##kers', '##kers', '##kers', '##kers', '##kers', '##kers', '##kers', '##kers', '##kers', '##kers', '##kers', '##kers', '##kers']\n",
      "real summary:\n",
      "['[CLS]', 'egypt', 'and', 'israel', 'seal', 'trade', 'deal', 'in', 'a', 'sign', 'of', 'a', 'tha', '##w', 'in', 'relations', 'between', 'egypt', 'and']\n",
      "sentiment: 4\n",
      "y: 1\n",
      "\n",
      "\n",
      "[info] epoch train loss: 0.028685342705752452\n",
      "Epoch 144\n"
     ]
    },
    {
     "data": {
      "application/vnd.jupyter.widget-view+json": {
       "model_id": "c61ded6166274e92925fcc48c9c85de5",
       "version_major": 2,
       "version_minor": 0
      },
      "text/plain": [
       "HBox(children=(IntProgress(value=0, max=140), HTML(value='')))"
      ]
     },
     "metadata": {},
     "output_type": "display_data"
    },
    {
     "name": "stdout",
     "output_type": "stream",
     "text": [
      "\n",
      "[info] epoch train loss: 0.029400225345924014\n",
      "Epoch 145\n"
     ]
    },
    {
     "data": {
      "application/vnd.jupyter.widget-view+json": {
       "model_id": "296aecfc37c1485b963ba183d4ddaa02",
       "version_major": 2,
       "version_minor": 0
      },
      "text/plain": [
       "HBox(children=(IntProgress(value=0, max=140), HTML(value='')))"
      ]
     },
     "metadata": {},
     "output_type": "display_data"
    },
    {
     "name": "stdout",
     "output_type": "stream",
     "text": [
      "\n",
      "[info] epoch train loss: 0.02987697597579313\n",
      "Epoch 146\n"
     ]
    },
    {
     "data": {
      "application/vnd.jupyter.widget-view+json": {
       "model_id": "aaa4c497909b46c3ab1e042c53208d5c",
       "version_major": 2,
       "version_minor": 0
      },
      "text/plain": [
       "HBox(children=(IntProgress(value=0, max=140), HTML(value='')))"
      ]
     },
     "metadata": {},
     "output_type": "display_data"
    },
    {
     "name": "stdout",
     "output_type": "stream",
     "text": [
      "\n",
      "[info] epoch train loss: 0.030147041926712907\n",
      "Epoch 147\n"
     ]
    },
    {
     "data": {
      "application/vnd.jupyter.widget-view+json": {
       "model_id": "d99593cfd1ee47e3bdc01735a91b8a86",
       "version_major": 2,
       "version_minor": 0
      },
      "text/plain": [
       "HBox(children=(IntProgress(value=0, max=140), HTML(value='')))"
      ]
     },
     "metadata": {},
     "output_type": "display_data"
    },
    {
     "name": "stdout",
     "output_type": "stream",
     "text": [
      "\n",
      "[info] epoch train loss: 0.02936102577570198\n",
      "Epoch 148\n"
     ]
    },
    {
     "data": {
      "application/vnd.jupyter.widget-view+json": {
       "model_id": "8192b3f650bf45b9a7280f8f53e154bc",
       "version_major": 2,
       "version_minor": 0
      },
      "text/plain": [
       "HBox(children=(IntProgress(value=0, max=140), HTML(value='')))"
      ]
     },
     "metadata": {},
     "output_type": "display_data"
    },
    {
     "name": "stdout",
     "output_type": "stream",
     "text": [
      "\n",
      "[info] epoch train loss: 0.02926157246925608\n",
      "Epoch 149\n"
     ]
    },
    {
     "data": {
      "application/vnd.jupyter.widget-view+json": {
       "model_id": "b79ddf3dbd87465ea0b13981bf7a87d1",
       "version_major": 2,
       "version_minor": 0
      },
      "text/plain": [
       "HBox(children=(IntProgress(value=0, max=140), HTML(value='')))"
      ]
     },
     "metadata": {},
     "output_type": "display_data"
    },
    {
     "name": "stdout",
     "output_type": "stream",
     "text": [
      "\n",
      "[info] epoch train loss: 0.029437910374561022\n",
      "Epoch 150\n"
     ]
    },
    {
     "data": {
      "application/vnd.jupyter.widget-view+json": {
       "model_id": "30c39cb5e6e3431a9c8c470489c3ee3e",
       "version_major": 2,
       "version_minor": 0
      },
      "text/plain": [
       "HBox(children=(IntProgress(value=0, max=140), HTML(value='')))"
      ]
     },
     "metadata": {},
     "output_type": "display_data"
    },
    {
     "name": "stdout",
     "output_type": "stream",
     "text": [
      "lay egg to ./Nest ... save as ./Nest/NewbornBird\n",
      "origin:\n",
      "['[CLS]', 'us', 'airways', 'staff', 'agree', 'to', 'pay', 'cut', 'a', 'union', 'representing', '5', '200', 'flight', 'attendants', 'at', 'bankrupt', 'us', 'airways', 'have', 'agreed', 'to', 'a', 'new', 'contract', 'that', 'cuts', 'pay', 'by', 'nearly', '10', '%', '.', 'the', 'deal', 'will', 'help', 'the', 'carrier', 'trying', 'to', 'survive', 'by', 'cutting', 'costs', 'by', 'nearly', '$', '1b', '##n', '(', '£5', '##30', '##m', ')', 'a', 'year', 'save', 'about', '$', '94', '##m', '.', 'more', 'than', 'two', 'thirds', 'of', 'its', '28', '000', 'staff', 'have', 'now', 'accepted', 'wage', 'cuts', '.', 'but', 'talks', 'are', 'still', 'continuing', 'with', 'a', 'union', 'representing', 'mechanics', 'baggage', 'handler', '##s', 'and', 'cleaner', '##s', 'which', 'has', 'so', 'far', 'failed', 'to', 'negotiate', 'a', 'new', 'contract', '.', 'the', 'seventh', 'largest', 'carrier', 'in', 'the', 'us', 'sought', 'bankruptcy', 'protection', 'for', 'a', 'second', 'time', 'in', 'two', 'years', 'last', 'september', '.', 'it', 'had', 'been', 'one', 'of', 'the', 'quick', '##est', 'to', 'deal', 'with', 'difficulties', 'faced', 'by', 'the', 'aviation', 'industry', 'after', 'the', '9', '/', '11', 'attacks', 'in', '2001', '.', 'but', 'it', 'emerged', 'from', 'chapter', '11', 'bankruptcy', 'in', 'march', '2003', 'to', 'face', 'competition', 'from', 'low', '-', 'cost', 'carriers', 'and', 'higher', 'fuel', 'costs', '.', 'us', 'airways', 'management', 'has', 'said', 'it', 'may', 'need', 'to', 'start', 'liquid', '##ating', 'assets', 'if', 'it', 'does', 'not', 'receive', 'concessions', 'from', 'all', 'staff', 'by', 'the', 'middle', 'of', 'this', 'month', '.', '[SEP]', '[PAD]', '[PAD]', '[PAD]', '[PAD]', '[PAD]', '[PAD]', '[PAD]', '[PAD]', '[PAD]', '[PAD]', '[PAD]', '[PAD]', '[PAD]', '[PAD]', '[PAD]', '[PAD]', '[PAD]', '[PAD]', '[PAD]', '[PAD]', '[PAD]', '[PAD]', '[PAD]', '[PAD]', '[PAD]', '[PAD]', '[PAD]', '[PAD]', '[PAD]', '[PAD]', '[PAD]', '[PAD]', '[PAD]', '[PAD]', '[PAD]', '[PAD]', '[PAD]', '[PAD]', '[PAD]', '[PAD]', '[PAD]', '[PAD]', '[PAD]', '[PAD]', '[PAD]', '[PAD]', '[PAD]', '[PAD]', '[PAD]', '[PAD]', '[PAD]', '[PAD]', '[PAD]', '[PAD]', '[PAD]', '[PAD]', '[PAD]', '[PAD]', '[PAD]', '[PAD]', '[PAD]', '[PAD]', '[PAD]', '[PAD]', '[PAD]', '[PAD]', '[PAD]', '[PAD]', '[PAD]', '[PAD]', '[PAD]', '[PAD]', '[PAD]', '[PAD]', '[PAD]', '[PAD]', '[PAD]', '[PAD]', '[PAD]', '[PAD]', '[PAD]', '[PAD]', '[PAD]', '[PAD]', '[PAD]', '[PAD]', '[PAD]', '[PAD]', '[PAD]', '[PAD]', '[PAD]', '[PAD]', '[PAD]', '[PAD]', '[PAD]', '[PAD]', '[PAD]', '[PAD]', '[PAD]', '[PAD]', '[PAD]', '[PAD]', '[PAD]', '[PAD]', '[PAD]', '[PAD]', '[PAD]', '[PAD]', '[PAD]', '[PAD]', '[PAD]', '[PAD]', '[PAD]', '[PAD]', '[PAD]', '[PAD]', '[PAD]', '[PAD]', '[PAD]', '[PAD]', '[PAD]', '[PAD]', '[PAD]', '[PAD]', '[PAD]', '[PAD]', '[PAD]', '[PAD]', '[PAD]', '[PAD]', '[PAD]', '[PAD]', '[PAD]', '[PAD]', '[PAD]', '[PAD]', '[PAD]', '[PAD]', '[PAD]', '[PAD]', '[PAD]', '[PAD]', '[PAD]', '[PAD]', '[PAD]', '[PAD]', '[PAD]', '[PAD]', '[PAD]', '[PAD]', '[PAD]', '[PAD]', '[PAD]', '[PAD]', '[PAD]', '[PAD]', '[PAD]', '[PAD]', '[PAD]', '[PAD]', '[PAD]', '[PAD]', '[PAD]', '[PAD]', '[PAD]', '[PAD]', '[PAD]', '[PAD]', '[PAD]', '[PAD]', '[PAD]', '[PAD]', '[PAD]', '[PAD]', '[PAD]', '[PAD]', '[PAD]', '[PAD]', '[PAD]', '[PAD]', '[PAD]', '[PAD]', '[PAD]', '[PAD]', '[PAD]', '[PAD]', '[PAD]', '[PAD]', '[PAD]', '[PAD]', '[PAD]', '[PAD]', '[PAD]', '[PAD]', '[PAD]', '[PAD]']\n",
      "summary:\n",
      "['[CLS]', '##kers', '##kers', '##kers', '##kers', '##kers', '##kers', '##kers', '##kers', '##kers', '##kers', '##kers', '##kers', '##kers', '##kers', '##kers', '##kers', '##kers', '##kers', '##kers']\n",
      "real summary:\n",
      "['[CLS]', 'us', 'airways', 'staff', 'agree', 'to', 'pay', 'cut', 'a', 'union', 'representing', '5', '200', 'flight', 'attendants', 'at', 'bankrupt', 'us', 'airways']\n",
      "sentiment: 4\n",
      "y: 1\n",
      "\n",
      "\n",
      "[info] epoch train loss: 0.02910893494549244\n",
      "Epoch 151\n"
     ]
    },
    {
     "data": {
      "application/vnd.jupyter.widget-view+json": {
       "model_id": "287cd57d0d9243bbb28f75624802d669",
       "version_major": 2,
       "version_minor": 0
      },
      "text/plain": [
       "HBox(children=(IntProgress(value=0, max=140), HTML(value='')))"
      ]
     },
     "metadata": {},
     "output_type": "display_data"
    },
    {
     "name": "stdout",
     "output_type": "stream",
     "text": [
      "\n",
      "[info] epoch train loss: 0.03028964276236244\n",
      "Epoch 152\n"
     ]
    },
    {
     "data": {
      "application/vnd.jupyter.widget-view+json": {
       "model_id": "08d2193978ff496cbb850ecec6db4a01",
       "version_major": 2,
       "version_minor": 0
      },
      "text/plain": [
       "HBox(children=(IntProgress(value=0, max=140), HTML(value='')))"
      ]
     },
     "metadata": {},
     "output_type": "display_data"
    },
    {
     "name": "stdout",
     "output_type": "stream",
     "text": [
      "\n",
      "[info] epoch train loss: 0.030540124172037914\n",
      "Epoch 153\n"
     ]
    },
    {
     "data": {
      "application/vnd.jupyter.widget-view+json": {
       "model_id": "82e12d40fd1949e09da069e1da784eed",
       "version_major": 2,
       "version_minor": 0
      },
      "text/plain": [
       "HBox(children=(IntProgress(value=0, max=140), HTML(value='')))"
      ]
     },
     "metadata": {},
     "output_type": "display_data"
    },
    {
     "name": "stdout",
     "output_type": "stream",
     "text": [
      "\n",
      "[info] epoch train loss: 0.0283471910190672\n",
      "Epoch 154\n"
     ]
    },
    {
     "data": {
      "application/vnd.jupyter.widget-view+json": {
       "model_id": "f2bc005a5bdb4b5e9808cd9ee6f48a2d",
       "version_major": 2,
       "version_minor": 0
      },
      "text/plain": [
       "HBox(children=(IntProgress(value=0, max=140), HTML(value='')))"
      ]
     },
     "metadata": {},
     "output_type": "display_data"
    },
    {
     "name": "stdout",
     "output_type": "stream",
     "text": [
      "\n",
      "[info] epoch train loss: 0.030454983392707746\n",
      "Epoch 155\n"
     ]
    },
    {
     "data": {
      "application/vnd.jupyter.widget-view+json": {
       "model_id": "8efab029579d4747b5864b95a8ea6f4d",
       "version_major": 2,
       "version_minor": 0
      },
      "text/plain": [
       "HBox(children=(IntProgress(value=0, max=140), HTML(value='')))"
      ]
     },
     "metadata": {},
     "output_type": "display_data"
    },
    {
     "name": "stdout",
     "output_type": "stream",
     "text": [
      "\n",
      "[info] epoch train loss: 0.029343302924142126\n",
      "Epoch 156\n"
     ]
    },
    {
     "data": {
      "application/vnd.jupyter.widget-view+json": {
       "model_id": "c6554c5fe1f74dfca85febe22145dd42",
       "version_major": 2,
       "version_minor": 0
      },
      "text/plain": [
       "HBox(children=(IntProgress(value=0, max=140), HTML(value='')))"
      ]
     },
     "metadata": {},
     "output_type": "display_data"
    },
    {
     "name": "stdout",
     "output_type": "stream",
     "text": [
      "\n",
      "[info] epoch train loss: 0.030819467973611025\n",
      "Epoch 157\n"
     ]
    },
    {
     "data": {
      "application/vnd.jupyter.widget-view+json": {
       "model_id": "90d15a592e1e49db8efc6b79af0555e6",
       "version_major": 2,
       "version_minor": 0
      },
      "text/plain": [
       "HBox(children=(IntProgress(value=0, max=140), HTML(value='')))"
      ]
     },
     "metadata": {},
     "output_type": "display_data"
    },
    {
     "name": "stdout",
     "output_type": "stream",
     "text": [
      "\n",
      "[info] epoch train loss: 0.03147617518359921\n",
      "Epoch 158\n"
     ]
    },
    {
     "data": {
      "application/vnd.jupyter.widget-view+json": {
       "model_id": "fdcbe11a21244c6e928dc78a22ce41d3",
       "version_major": 2,
       "version_minor": 0
      },
      "text/plain": [
       "HBox(children=(IntProgress(value=0, max=140), HTML(value='')))"
      ]
     },
     "metadata": {},
     "output_type": "display_data"
    },
    {
     "name": "stdout",
     "output_type": "stream",
     "text": [
      "lay egg to ./Nest ... save as ./Nest/NewbornBird\n",
      "origin:\n",
      "['[CLS]', 'uefa', 'approve', '##s', 'fake', 'grass', 'uefa', 'says', 'it', 'will', 'allow', 'european', 'matches', 'to', 'be', 'played', 'on', 'artificial', 'pitches', 'from', 'the', 'start', 'of', 'next', 'season', '.', 'european', 'football', 's', 'governing', 'body', 'made', 'the', 'decision', 'at', 'a', 'meeting', 'of', 'its', 'executive', 'committee', 'on', 'wednesday', '.', 'uefa', 'explained', 'that', 'the', 'move', 'follows', 'comprehensive', 'studies', 'into', 'the', 'sporting', 'and', 'medical', 'aspects', 'of', 'using', 'artificial', 'playing', 'surfaces', '.', 'they', 'can', 'be', 'used', 'subject', 'to', 'comply', '##ing', 'with', 'uefa', 'quality', 'criteria', 'but', 'there', 'use', 'will', 'not', 'be', 'made', 'obligatory', '.', 'luton', 'preston', 'queens', 'park', 'rangers', 'and', 'other', 'clubs', 'used', 'to', 'have', 'plastic', 'pitches', 'during', 'the', 'the', '1980s', 'but', 'after', 'a', 'two', '-', 'year', 'study', 'uefa', 'insists', 'the', 'surfaces', 'have', 'moved', 'on', '.', 'international', 'matches', 'can', 'also', 'be', 'played', 'on', 'such', 'pitches', 'although', 'games', 'at', 'major', 'tournaments', 'have', 'to', 'be', 'contested', 'on', 'grass', '.', 'uefa', 'spokesman', 'rob', 'faulkner', 'said', ':', 'people', 'in', 'england', 'have', 'bad', 'memories', 'of', 'the', 'artificial', 'pitches', 'of', 'luton', 'and', 'q', '##pr', 'in', 'the', '1980s', 'but', 'the', 'latest', 'generation', 'are', 'completely', 'different', 'and', 'are', 'much', 'more', 'like', 'grass', '.', 'we', 'have', 'sanctioned', 'its', 'use', 'from', 'the', 'start', 'of', 'next', 'season', 'but', 'only', 'as', 'long', 'as', 'it', 'is', 'the', 'latest', 'generation', 'of', 'artificial', 'turf', 'and', 'meets', 'a', 'whole', 'series', 'of', 'standards', '.', 'several', 'leading', 'clubs', 'from', 'scandinavia', 'russia', 'and', 'eastern', 'europe', '-', 'especially', 'those', 'who', 'only', 'play', 'champions', 'league', 'or', 'uefa', 'cup', 'matches', 'in', 'winter', '-', 'are', 'now', 'expected', 'to', 'ins', '##tal', 'artificial', 'pitches', '.', '[SEP]', '[PAD]', '[PAD]', '[PAD]', '[PAD]', '[PAD]', '[PAD]', '[PAD]', '[PAD]', '[PAD]', '[PAD]', '[PAD]', '[PAD]', '[PAD]', '[PAD]', '[PAD]', '[PAD]', '[PAD]', '[PAD]', '[PAD]', '[PAD]', '[PAD]', '[PAD]', '[PAD]', '[PAD]', '[PAD]', '[PAD]', '[PAD]', '[PAD]', '[PAD]', '[PAD]', '[PAD]', '[PAD]', '[PAD]', '[PAD]', '[PAD]', '[PAD]', '[PAD]', '[PAD]', '[PAD]', '[PAD]', '[PAD]', '[PAD]', '[PAD]', '[PAD]', '[PAD]', '[PAD]', '[PAD]', '[PAD]', '[PAD]', '[PAD]', '[PAD]', '[PAD]', '[PAD]', '[PAD]', '[PAD]', '[PAD]', '[PAD]', '[PAD]', '[PAD]', '[PAD]', '[PAD]', '[PAD]', '[PAD]', '[PAD]', '[PAD]', '[PAD]', '[PAD]', '[PAD]', '[PAD]', '[PAD]', '[PAD]', '[PAD]', '[PAD]', '[PAD]', '[PAD]', '[PAD]', '[PAD]', '[PAD]', '[PAD]', '[PAD]', '[PAD]', '[PAD]', '[PAD]', '[PAD]', '[PAD]', '[PAD]', '[PAD]', '[PAD]', '[PAD]', '[PAD]', '[PAD]', '[PAD]', '[PAD]', '[PAD]', '[PAD]', '[PAD]', '[PAD]', '[PAD]', '[PAD]', '[PAD]', '[PAD]', '[PAD]', '[PAD]', '[PAD]', '[PAD]', '[PAD]', '[PAD]', '[PAD]', '[PAD]', '[PAD]', '[PAD]', '[PAD]', '[PAD]', '[PAD]', '[PAD]', '[PAD]', '[PAD]', '[PAD]', '[PAD]', '[PAD]', '[PAD]', '[PAD]', '[PAD]', '[PAD]', '[PAD]', '[PAD]', '[PAD]', '[PAD]', '[PAD]', '[PAD]', '[PAD]', '[PAD]', '[PAD]', '[PAD]', '[PAD]', '[PAD]', '[PAD]', '[PAD]', '[PAD]', '[PAD]', '[PAD]', '[PAD]', '[PAD]', '[PAD]', '[PAD]', '[PAD]', '[PAD]', '[PAD]', '[PAD]', '[PAD]', '[PAD]', '[PAD]', '[PAD]', '[PAD]', '[PAD]', '[PAD]', '[PAD]', '[PAD]']\n",
      "summary:\n",
      "['[CLS]', '##kers', '##kers', '##kers', '##kers', '##kers', '##kers', '##kers', '##kers', '##kers', '##kers', '##kers', '##kers', '##kers', '##kers', '##kers', '##kers', '##kers', '##kers', '##kers']\n",
      "real summary:\n",
      "['[CLS]', 'uefa', 'approve', '##s', 'fake', 'grass', 'uefa', 'says', 'it', 'will', 'allow', 'european', 'matches', 'to', 'be', 'played', 'on', 'artificial', 'pitches']\n",
      "sentiment: 4\n",
      "y: 2\n",
      "\n",
      "\n",
      "[info] epoch train loss: 0.03312423429850355\n",
      "Epoch 159\n"
     ]
    },
    {
     "data": {
      "application/vnd.jupyter.widget-view+json": {
       "model_id": "d8ce63cf852f474aa01a368f403d6222",
       "version_major": 2,
       "version_minor": 0
      },
      "text/plain": [
       "HBox(children=(IntProgress(value=0, max=140), HTML(value='')))"
      ]
     },
     "metadata": {},
     "output_type": "display_data"
    },
    {
     "name": "stdout",
     "output_type": "stream",
     "text": [
      "\n",
      "[info] epoch train loss: 0.03334785974170436\n",
      "Epoch 160\n"
     ]
    },
    {
     "data": {
      "application/vnd.jupyter.widget-view+json": {
       "model_id": "244f22976a4e4cc8926c71784c35e563",
       "version_major": 2,
       "version_minor": 0
      },
      "text/plain": [
       "HBox(children=(IntProgress(value=0, max=140), HTML(value='')))"
      ]
     },
     "metadata": {},
     "output_type": "display_data"
    },
    {
     "name": "stdout",
     "output_type": "stream",
     "text": [
      "\n",
      "[info] epoch train loss: 0.03351680785493057\n",
      "Epoch 161\n"
     ]
    },
    {
     "data": {
      "application/vnd.jupyter.widget-view+json": {
       "model_id": "210f762228a24d329e17cf63c25a4963",
       "version_major": 2,
       "version_minor": 0
      },
      "text/plain": [
       "HBox(children=(IntProgress(value=0, max=140), HTML(value='')))"
      ]
     },
     "metadata": {},
     "output_type": "display_data"
    },
    {
     "name": "stdout",
     "output_type": "stream",
     "text": [
      "\n",
      "[info] epoch train loss: 0.03415480426129441\n",
      "Epoch 162\n"
     ]
    },
    {
     "data": {
      "application/vnd.jupyter.widget-view+json": {
       "model_id": "b11ca99db1d24e428784a54f7a39d29e",
       "version_major": 2,
       "version_minor": 0
      },
      "text/plain": [
       "HBox(children=(IntProgress(value=0, max=140), HTML(value='')))"
      ]
     },
     "metadata": {},
     "output_type": "display_data"
    },
    {
     "name": "stdout",
     "output_type": "stream",
     "text": [
      "\n",
      "[info] epoch train loss: 0.034509729765657735\n",
      "Epoch 163\n"
     ]
    },
    {
     "data": {
      "application/vnd.jupyter.widget-view+json": {
       "model_id": "136307b3047b41a38fe4cafd0541912e",
       "version_major": 2,
       "version_minor": 0
      },
      "text/plain": [
       "HBox(children=(IntProgress(value=0, max=140), HTML(value='')))"
      ]
     },
     "metadata": {},
     "output_type": "display_data"
    },
    {
     "name": "stdout",
     "output_type": "stream",
     "text": [
      "\n",
      "[info] epoch train loss: 0.03385567961590417\n",
      "Epoch 164\n"
     ]
    },
    {
     "data": {
      "application/vnd.jupyter.widget-view+json": {
       "model_id": "fec96bcd631f494ca992381dc346ee11",
       "version_major": 2,
       "version_minor": 0
      },
      "text/plain": [
       "HBox(children=(IntProgress(value=0, max=140), HTML(value='')))"
      ]
     },
     "metadata": {},
     "output_type": "display_data"
    },
    {
     "name": "stdout",
     "output_type": "stream",
     "text": [
      "\n",
      "[info] epoch train loss: 0.03343073186520249\n",
      "Epoch 165\n"
     ]
    },
    {
     "data": {
      "application/vnd.jupyter.widget-view+json": {
       "model_id": "47943e9071924b7aaa5b153cb5638814",
       "version_major": 2,
       "version_minor": 0
      },
      "text/plain": [
       "HBox(children=(IntProgress(value=0, max=140), HTML(value='')))"
      ]
     },
     "metadata": {},
     "output_type": "display_data"
    },
    {
     "name": "stdout",
     "output_type": "stream",
     "text": [
      "lay egg to ./Nest ... save as ./Nest/NewbornBird\n",
      "origin:\n",
      "['[CLS]', 'hitch', 'holds', 'on', 'to', 'us', 'box', 'office', 'will', 'smith', 's', 'first', 'romantic', 'comedy', 'hitch', 'has', 'topped', 'the', 'north', 'american', 'box', 'office', 'for', 'a', 'second', 'weekend', '.', 'smith', 'plays', 'a', 'new', 'york', 'date', 'doctor', 'with', 'love', 'worries', 'of', 'his', 'own', 'in', 'the', 'movie', 'which', 'took', '$', '31', '.', '8', '##m', '(', '£1', '##6', '.', '8', '##m', ')', '.', 'it', 'held', 'off', 'a', 'strong', 'challenge', 'from', 'the', 'new', 'ke', '##anu', 'reeves', 'sci', '-', 'fi', 'thriller', 'constantine', 'which', 'opened', 'at', 'number', 'two', 'with', '$', '30', '.', '5', '##m', '(', '£1', '##6', '.', '1', '##m', ')', 'constantine', 'based', 'on', 'the', 'hell', '##bla', '##zer', 'comics', 'stars', 'reeves', 'as', 'an', 'ex', '##or', '##cis', '##t', 'who', 'must', 'send', 'satan', 's', 'minions', 'back', 'to', 'hell', '.', 'two', 'family', 'films', 'came', 'next', 'in', 'the', 'chart', 'with', 'wayne', 'wang', 's', 'comedy', 'because', 'of', 'win', '##n', '-', 'dixie', 'about', 'a', 'young', 'girl', 'and', 'an', 'abandoned', 'dog', 'in', 'third', 'position', 'with', '$', '10', '.', '85', '##m', '(', '£5', '.', '73', '##m', ')', '.', 'comedy', 'adventure', 'son', 'of', 'the', 'mask', 'came', 'in', 'at', 'number', 'four', 'with', '$', '7', '.', '7', '##m', '(', '£', '##4', '.', '1', '##m', ')', 'just', 'ahead', 'of', 'oscar', 'favourite', 'million', 'dollar', 'baby', 'at', 'five', '.', 'smith', 's', 'comedy', 'will', 'be', 'the', 'first', 'us', 'movie', 'released', 'this', 'year', 'to', 'top', 'the', '$', '100', '##m', '(', '£5', '##2', '.', '7', '##m', ')', 'mark', '.', 'it', 's', 'success', 'continues', 'a', 'strong', 'trend', 'of', 'ho', '##ll', '##wood', 'movie', '-', 'going', 'this', 'year', 'with', 'figures', 'for', 'the', 'popular', 'president', 's', 'day', 'weekend', '13', '%', 'greater', 'than', 'last', 'year', '.', 'oscar', 'contenders', 'the', 'aviator', 'starring', 'leonardo', 'di', '##cap', '##rio', 'as', 'howard', 'hughes', 'and', 'wine', '-', 'tasting', 'comedy', 'sideways', 'both', 'held', 'onto', 'positions', 'in', 'the', 'top', '10', '.', '[SEP]', '[PAD]', '[PAD]', '[PAD]', '[PAD]', '[PAD]', '[PAD]', '[PAD]', '[PAD]', '[PAD]', '[PAD]', '[PAD]', '[PAD]', '[PAD]', '[PAD]', '[PAD]', '[PAD]', '[PAD]', '[PAD]', '[PAD]', '[PAD]', '[PAD]', '[PAD]', '[PAD]', '[PAD]', '[PAD]', '[PAD]', '[PAD]', '[PAD]', '[PAD]', '[PAD]', '[PAD]', '[PAD]', '[PAD]', '[PAD]', '[PAD]', '[PAD]', '[PAD]', '[PAD]', '[PAD]', '[PAD]', '[PAD]', '[PAD]', '[PAD]', '[PAD]', '[PAD]', '[PAD]', '[PAD]', '[PAD]', '[PAD]', '[PAD]', '[PAD]', '[PAD]', '[PAD]', '[PAD]', '[PAD]', '[PAD]', '[PAD]', '[PAD]', '[PAD]', '[PAD]', '[PAD]', '[PAD]', '[PAD]', '[PAD]', '[PAD]', '[PAD]', '[PAD]', '[PAD]', '[PAD]', '[PAD]', '[PAD]', '[PAD]', '[PAD]', '[PAD]', '[PAD]', '[PAD]', '[PAD]', '[PAD]', '[PAD]', '[PAD]', '[PAD]', '[PAD]', '[PAD]', '[PAD]', '[PAD]', '[PAD]', '[PAD]', '[PAD]', '[PAD]', '[PAD]', '[PAD]', '[PAD]', '[PAD]', '[PAD]', '[PAD]', '[PAD]', '[PAD]', '[PAD]', '[PAD]', '[PAD]', '[PAD]', '[PAD]', '[PAD]', '[PAD]', '[PAD]', '[PAD]', '[PAD]', '[PAD]', '[PAD]', '[PAD]', '[PAD]', '[PAD]', '[PAD]', '[PAD]', '[PAD]', '[PAD]']\n",
      "summary:\n",
      "['[CLS]', '##kers', '##kers', '##kers', '##kers', '##kers', '##kers', '##kers', '##kers', '##kers', '##kers', '##kers', '##kers', '##kers', '##kers', '##kers', '##kers', '##kers', '##kers', '##kers']\n",
      "real summary:\n",
      "['[CLS]', 'hitch', 'holds', 'on', 'to', 'us', 'box', 'office', 'will', 'smith', 's', 'first', 'romantic', 'comedy', 'hitch', 'has', 'topped', 'the', 'north']\n",
      "sentiment: 4\n",
      "y: 3\n",
      "\n",
      "\n",
      "[info] epoch train loss: 0.03359394244849686\n",
      "Epoch 166\n"
     ]
    },
    {
     "data": {
      "application/vnd.jupyter.widget-view+json": {
       "model_id": "eaa6f206cd1e4aaf962d090b0a619595",
       "version_major": 2,
       "version_minor": 0
      },
      "text/plain": [
       "HBox(children=(IntProgress(value=0, max=140), HTML(value='')))"
      ]
     },
     "metadata": {},
     "output_type": "display_data"
    },
    {
     "name": "stdout",
     "output_type": "stream",
     "text": [
      "\n",
      "[info] epoch train loss: 0.03572869148050789\n",
      "Epoch 167\n"
     ]
    },
    {
     "data": {
      "application/vnd.jupyter.widget-view+json": {
       "model_id": "96074e74d4944110a6cbc85262e144dc",
       "version_major": 2,
       "version_minor": 0
      },
      "text/plain": [
       "HBox(children=(IntProgress(value=0, max=140), HTML(value='')))"
      ]
     },
     "metadata": {},
     "output_type": "display_data"
    },
    {
     "name": "stdout",
     "output_type": "stream",
     "text": [
      "\n",
      "[info] epoch train loss: 0.036244221114330955\n",
      "Epoch 168\n"
     ]
    },
    {
     "data": {
      "application/vnd.jupyter.widget-view+json": {
       "model_id": "b2cbd214706d4120a316131c46731295",
       "version_major": 2,
       "version_minor": 0
      },
      "text/plain": [
       "HBox(children=(IntProgress(value=0, max=140), HTML(value='')))"
      ]
     },
     "metadata": {},
     "output_type": "display_data"
    },
    {
     "name": "stdout",
     "output_type": "stream",
     "text": [
      "\n",
      "[info] epoch train loss: 0.035626580133566677\n",
      "Epoch 169\n"
     ]
    },
    {
     "data": {
      "application/vnd.jupyter.widget-view+json": {
       "model_id": "ceb76a6fd49b40ffb62d61faec5ca883",
       "version_major": 2,
       "version_minor": 0
      },
      "text/plain": [
       "HBox(children=(IntProgress(value=0, max=140), HTML(value='')))"
      ]
     },
     "metadata": {},
     "output_type": "display_data"
    },
    {
     "name": "stdout",
     "output_type": "stream",
     "text": [
      "\n",
      "[info] epoch train loss: 0.034733414191465174\n",
      "Epoch 170\n"
     ]
    },
    {
     "data": {
      "application/vnd.jupyter.widget-view+json": {
       "model_id": "6cee6843d6784b20bbecafa44c77243a",
       "version_major": 2,
       "version_minor": 0
      },
      "text/plain": [
       "HBox(children=(IntProgress(value=0, max=140), HTML(value='')))"
      ]
     },
     "metadata": {},
     "output_type": "display_data"
    },
    {
     "name": "stdout",
     "output_type": "stream",
     "text": [
      "\n",
      "[info] epoch train loss: 0.03425899343776726\n",
      "Epoch 171\n"
     ]
    },
    {
     "data": {
      "application/vnd.jupyter.widget-view+json": {
       "model_id": "b23ec85d2e144b9ea74058cab8a74d42",
       "version_major": 2,
       "version_minor": 0
      },
      "text/plain": [
       "HBox(children=(IntProgress(value=0, max=140), HTML(value='')))"
      ]
     },
     "metadata": {},
     "output_type": "display_data"
    },
    {
     "name": "stdout",
     "output_type": "stream",
     "text": [
      "\n",
      "[info] epoch train loss: 0.032876739499491645\n",
      "Epoch 172\n"
     ]
    },
    {
     "data": {
      "application/vnd.jupyter.widget-view+json": {
       "model_id": "97b9191a6d574bb386f4860650e662f8",
       "version_major": 2,
       "version_minor": 0
      },
      "text/plain": [
       "HBox(children=(IntProgress(value=0, max=140), HTML(value='')))"
      ]
     },
     "metadata": {},
     "output_type": "display_data"
    },
    {
     "name": "stdout",
     "output_type": "stream",
     "text": [
      "lay egg to ./Nest ... save as ./Nest/NewbornBird\n",
      "origin:\n",
      "['[CLS]', 'soul', 'sensation', 'ready', 'for', 'awards', 'south', 'west', 'teenage', 'singing', 'sensation', 'jo', '##ss', 'stone', 'has', 'been', 'nominated', 'in', 'three', 'categories', 'in', 'wednesday', 's', 'brit', 'awards', '.', 'the', '17', '-', 'year', '-', 'old', 'from', 'a', 'small', 'east', 'devon', 'village', 'near', 'cu', '##llum', '##pton', 'received', 'nominations', 'for', 'best', 'solo', 'female', 'best', 'urban', 'act', 'and', 'best', 'breakthrough', 'artist', '.', 'her', 'second', 'album', 'mind', 'body', '&', 'soul', 'reached', 'number', 'one', 'in', 'the', 'uk', 'charts', 'last', 'october', 'and', 'went', 'straight', 'into', 'the', 'us', 'charts', 'at', 'number', '11', '.', 'ms', 'stone', 'is', 'due', 'to', 'perform', 'at', 'the', '25th', 'award', 'ceremony', 'at', 'london', 's', 'earls', 'court', '.', 'the', 'teenager', 'also', 'has', 'grammy', 'nominations', 'in', 'the', 'us', 'normally', 'dominated', 'by', 'home', '-', 'grown', 'acts', '.', 'born', 'jocelyn', 'stoke', '##r', 'the', 'devon', 'diva', 'started', 'her', 'career', 'in', 'a', 'bbc', 'talent', 'programme', 'and', 'was', 'then', 'discovered', 'at', 'a', 'new', 'york', 'audition', 'by', 'a', 'us', 'record', 'executive', 'steve', 'greenberg', '.', 'the', '17', '-', 'year', '-', 'old', 'singer', 'is', 'hoping', 'to', 'tour', 'in', 'japan', 'australia', 'and', 'the', 'us', 'in', '2005', '.', '[SEP]', '[PAD]', '[PAD]', '[PAD]', '[PAD]', '[PAD]', '[PAD]', '[PAD]', '[PAD]', '[PAD]', '[PAD]', '[PAD]', '[PAD]', '[PAD]', '[PAD]', '[PAD]', '[PAD]', '[PAD]', '[PAD]', '[PAD]', '[PAD]', '[PAD]', '[PAD]', '[PAD]', '[PAD]', '[PAD]', '[PAD]', '[PAD]', '[PAD]', '[PAD]', '[PAD]', '[PAD]', '[PAD]', '[PAD]', '[PAD]', '[PAD]', '[PAD]', '[PAD]', '[PAD]', '[PAD]', '[PAD]', '[PAD]', '[PAD]', '[PAD]', '[PAD]', '[PAD]', '[PAD]', '[PAD]', '[PAD]', '[PAD]', '[PAD]', '[PAD]', '[PAD]', '[PAD]', '[PAD]', '[PAD]', '[PAD]', '[PAD]', '[PAD]', '[PAD]', '[PAD]', '[PAD]', '[PAD]', '[PAD]', '[PAD]', '[PAD]', '[PAD]', '[PAD]', '[PAD]', '[PAD]', '[PAD]', '[PAD]', '[PAD]', '[PAD]', '[PAD]', '[PAD]', '[PAD]', '[PAD]', '[PAD]', '[PAD]', '[PAD]', '[PAD]', '[PAD]', '[PAD]', '[PAD]', '[PAD]', '[PAD]', '[PAD]', '[PAD]', '[PAD]', '[PAD]', '[PAD]', '[PAD]', '[PAD]', '[PAD]', '[PAD]', '[PAD]', '[PAD]', '[PAD]', '[PAD]', '[PAD]', '[PAD]', '[PAD]', '[PAD]', '[PAD]', '[PAD]', '[PAD]', '[PAD]', '[PAD]', '[PAD]', '[PAD]', '[PAD]', '[PAD]', '[PAD]', '[PAD]', '[PAD]', '[PAD]', '[PAD]', '[PAD]', '[PAD]', '[PAD]', '[PAD]', '[PAD]', '[PAD]', '[PAD]', '[PAD]', '[PAD]', '[PAD]', '[PAD]', '[PAD]', '[PAD]', '[PAD]', '[PAD]', '[PAD]', '[PAD]', '[PAD]', '[PAD]', '[PAD]', '[PAD]', '[PAD]', '[PAD]', '[PAD]', '[PAD]', '[PAD]', '[PAD]', '[PAD]', '[PAD]', '[PAD]', '[PAD]', '[PAD]', '[PAD]', '[PAD]', '[PAD]', '[PAD]', '[PAD]', '[PAD]', '[PAD]', '[PAD]', '[PAD]', '[PAD]', '[PAD]', '[PAD]', '[PAD]', '[PAD]', '[PAD]', '[PAD]', '[PAD]', '[PAD]', '[PAD]', '[PAD]', '[PAD]', '[PAD]', '[PAD]', '[PAD]', '[PAD]', '[PAD]', '[PAD]', '[PAD]', '[PAD]', '[PAD]', '[PAD]', '[PAD]', '[PAD]', '[PAD]', '[PAD]', '[PAD]', '[PAD]', '[PAD]', '[PAD]', '[PAD]', '[PAD]', '[PAD]', '[PAD]', '[PAD]', '[PAD]', '[PAD]', '[PAD]', '[PAD]', '[PAD]', '[PAD]', '[PAD]', '[PAD]', '[PAD]', '[PAD]', '[PAD]', '[PAD]', '[PAD]', '[PAD]', '[PAD]', '[PAD]', '[PAD]', '[PAD]', '[PAD]', '[PAD]', '[PAD]', '[PAD]', '[PAD]', '[PAD]', '[PAD]', '[PAD]', '[PAD]', '[PAD]', '[PAD]', '[PAD]', '[PAD]', '[PAD]', '[PAD]', '[PAD]', '[PAD]', '[PAD]', '[PAD]']\n",
      "summary:\n",
      "['[CLS]', '##kers', '##kers', '##kers', '##kers', '##kers', '##kers', '##kers', '##kers', '##kers', '##kers', '##kers', '##kers', '##kers', '##kers', '##kers', '##kers', '##kers', '##kers', '##kers']\n",
      "real summary:\n",
      "['[CLS]', 'soul', 'sensation', 'ready', 'for', 'awards', 'south', 'west', 'teenage', 'singing', 'sensation', 'jo', '##ss', 'stone', 'has', 'been', 'nominated', 'in', 'three']\n",
      "sentiment: 4\n",
      "y: 3\n",
      "\n",
      "\n",
      "[info] epoch train loss: 0.032215393455792475\n",
      "Epoch 173\n"
     ]
    },
    {
     "data": {
      "application/vnd.jupyter.widget-view+json": {
       "model_id": "d71c10c915154cbbac0e544de2ad6a4f",
       "version_major": 2,
       "version_minor": 0
      },
      "text/plain": [
       "HBox(children=(IntProgress(value=0, max=140), HTML(value='')))"
      ]
     },
     "metadata": {},
     "output_type": "display_data"
    },
    {
     "name": "stdout",
     "output_type": "stream",
     "text": [
      "\n",
      "[info] epoch train loss: 0.03219003087352478\n",
      "Epoch 174\n"
     ]
    },
    {
     "data": {
      "application/vnd.jupyter.widget-view+json": {
       "model_id": "f421058668f645b4a162be59b30b9910",
       "version_major": 2,
       "version_minor": 0
      },
      "text/plain": [
       "HBox(children=(IntProgress(value=0, max=140), HTML(value='')))"
      ]
     },
     "metadata": {},
     "output_type": "display_data"
    },
    {
     "name": "stdout",
     "output_type": "stream",
     "text": [
      "\n",
      "[info] epoch train loss: 0.033239256100201384\n",
      "Epoch 175\n"
     ]
    },
    {
     "data": {
      "application/vnd.jupyter.widget-view+json": {
       "model_id": "44b0766cbde4449e998cf8467db2767a",
       "version_major": 2,
       "version_minor": 0
      },
      "text/plain": [
       "HBox(children=(IntProgress(value=0, max=140), HTML(value='')))"
      ]
     },
     "metadata": {},
     "output_type": "display_data"
    },
    {
     "name": "stdout",
     "output_type": "stream",
     "text": [
      "\n",
      "[info] epoch train loss: 0.03267061494723131\n",
      "Epoch 176\n"
     ]
    },
    {
     "data": {
      "application/vnd.jupyter.widget-view+json": {
       "model_id": "188577499c3d4b91ba6d54049c04479a",
       "version_major": 2,
       "version_minor": 0
      },
      "text/plain": [
       "HBox(children=(IntProgress(value=0, max=140), HTML(value='')))"
      ]
     },
     "metadata": {},
     "output_type": "display_data"
    },
    {
     "name": "stdout",
     "output_type": "stream",
     "text": [
      "\n",
      "[info] epoch train loss: 0.031168691190014742\n",
      "Epoch 177\n"
     ]
    },
    {
     "data": {
      "application/vnd.jupyter.widget-view+json": {
       "model_id": "7fe3c60ef65943ecbf3055cabc6af4b2",
       "version_major": 2,
       "version_minor": 0
      },
      "text/plain": [
       "HBox(children=(IntProgress(value=0, max=140), HTML(value='')))"
      ]
     },
     "metadata": {},
     "output_type": "display_data"
    },
    {
     "name": "stdout",
     "output_type": "stream",
     "text": [
      "\n",
      "[info] epoch train loss: 0.02981439533695485\n",
      "Epoch 178\n"
     ]
    },
    {
     "data": {
      "application/vnd.jupyter.widget-view+json": {
       "model_id": "ff4bcbf8cb1440cf979dcda465e7b7e6",
       "version_major": 2,
       "version_minor": 0
      },
      "text/plain": [
       "HBox(children=(IntProgress(value=0, max=140), HTML(value='')))"
      ]
     },
     "metadata": {},
     "output_type": "display_data"
    },
    {
     "name": "stdout",
     "output_type": "stream",
     "text": [
      "\n",
      "[info] epoch train loss: 0.02963635051179949\n",
      "Epoch 179\n"
     ]
    },
    {
     "data": {
      "application/vnd.jupyter.widget-view+json": {
       "model_id": "adea6df30036442d94f8ca6c103e7260",
       "version_major": 2,
       "version_minor": 0
      },
      "text/plain": [
       "HBox(children=(IntProgress(value=0, max=140), HTML(value='')))"
      ]
     },
     "metadata": {},
     "output_type": "display_data"
    },
    {
     "name": "stdout",
     "output_type": "stream",
     "text": [
      "lay egg to ./Nest ... save as ./Nest/NewbornBird\n",
      "origin:\n",
      "['[CLS]', 'labour', 'targets', 'hardcore', 'tr', '##uan', '##ts', 'a', 'fresh', 'crack', '##down', 'on', 'persistent', 'tr', '##uan', '##ts', 'in', 'england', 'has', 'been', 'launched', 'by', 'education', 'secretary', 'ruth', 'kelly', '.', 'serial', 'tr', '##uan', '##ts', 'make', 'up', 'one', 'in', '13', 'pupils', '.', 'previous', 'initiatives', 'brought', '40', '000', 'pupils', 'back', 'to', 'school', 'since', '1997', 'according', 'to', 'official', 'statistics', '.', 'parenting', 'contracts', 'penalty', 'notices', 'and', 'fast', 'track', 'prosecution', 'systems', 'have', 'been', 'used', 'to', 'tackle', 'what', 'has', 'been', 'a', 'stubborn', 'problem', '.', 'it', 'is', 'thought', 'that', 'nearly', 'half', 'a', 'million', 'children', 'skip', 'school', 'each', 'day', '.', 'tori', '##es', 'say', 'labour', 's', 'previous', 'success', 'regarding', 'the', 'issue', 'came', 'because', 'it', 'tackled', 'the', 'easy', 'part', 'of', 'the', 'problem', 'by', 'reducing', 'authorised', 'absence', 'where', 'parents', 'are', 'permitted', 'to', 'take', 'children', 'out', 'of', 'school', '.', 'such', 'absence', '##s', 'are', 'often', 'due', 'to', 'family', 'holidays', '.', 'however', 'serial', 'tr', '##uan', '##ts', 'avoid', 'the', 'classroom', 'despite', 'government', 'schemes', 'costing', '£', '##8', '##85', '##m', '.', 'those', 'missing', 'classes', 'are', 'more', 'likely', 'to', 'become', 'involved', 'in', 'crime', 'as', 'well', 'as', 'failing', 'academic', '##ally', '.', 'measures', 'such', 'as', 'parenting', 'contracts', 'and', 'penalty', 'notices', 'were', 'adopted', 'by', 'most', 'local', 'education', 'authorities', 'last', 'term', 'and', 'come', 'into', 'force', 'in', 'the', 'remainder', 'this', 'term', '.', 'in', 'one', 'local', 'education', 'authority', 'alone', '800', 'parents', 'were', 'warned', 'they', 'would', 'receive', 'a', 'penalty', 'notice', 'unless', 'their', 'child', 's', 'attendance', 'improved', '.', 'the', 'tough', 'stance', 'paid', 'off', 'with', 'just', '24', 'issued', 'while', 'attendance', 'improved', 'in', '77', '##6', 'cases', '.', 'tr', '##uan', '##cy', 'has', 'been', 'reduced', 'by', '5', '%', 'at', 'the', '128', 'worst', 'hit', 'schools', 'through', 'the', 'government', 's', 'behaviour', 'improvement', 'programme', '.', 'this', 'is', 'the', 'equivalent', 'of', '200', 'pupils', 'back', 'in', 'classes', 'since', 'september', '.', 'the', 'new', 'measures', 'come', 'on', 'top', 'of', 'national', 'tr', '##uan', '##cy', 'sweeps', '-', 'the', 'sixth', 'of', 'which', 'will', 'take', 'place', 'on', 'monday', '.', 'police', 'and', 'education', 'welfare', 'officers', 'patrol', 'problem', 'hot', '##sp', '##ots', 'picking', 'up', 'tr', '##uan', '##ts', 'and', 'returning', 'them', 'to', 'school', '.', 'held', 'twice', 'each', 'year', 'in', 'addition', 'to', 'routine', 'local', 'patrols', 'previous', 'country', '-', 'wide', 'sweeps', 'have', 'app', '##re', '##hend', '##ed', '31', '000', 'pupils', 'dod', '##ging', 'school', '.', 'in', 'almost', '14', '000', 'of', 'those', 'cases', 'the', 'young', '##sters', 'were', 'accompanied', 'by', 'their', 'parents', '.', 'a', 'department', 'for', 'education', 'and', 'skills', 'source', 'said', ':', 'every', 'day', 'in', 'school', 'counts', '.', 'it', 'is', 'clear', 'form', 'these', 'figures', 'that', 'schools', 'and', 'local', 'education', 'authorities', 'are', 'now', 'seizing', 'the', 'tools', 'we', 'have', 'given', 'them', 'to', 'improve', 'school', 'attendance', 'and']\n",
      "summary:\n",
      "['[CLS]', '##kers', '##kers', '##kers', '##kers', '##kers', '##kers', '##kers', '##kers', '##kers', '##kers', '##kers', '##kers', '##kers', '##kers', '##kers', '##kers', '##kers', '##kers', '##kers']\n",
      "real summary:\n",
      "['[CLS]', 'labour', 'targets', 'hardcore', 'tr', '##uan', '##ts', 'a', 'fresh', 'crack', '##down', 'on', 'persistent', 'tr', '##uan', '##ts', 'in', 'england', 'has']\n",
      "sentiment: 4\n",
      "y: 4\n",
      "\n",
      "\n",
      "[info] epoch train loss: 0.02940028412936897\n",
      "Epoch 180\n"
     ]
    },
    {
     "data": {
      "application/vnd.jupyter.widget-view+json": {
       "model_id": "adf0786eae35442092ec9d59691dd24c",
       "version_major": 2,
       "version_minor": 0
      },
      "text/plain": [
       "HBox(children=(IntProgress(value=0, max=140), HTML(value='')))"
      ]
     },
     "metadata": {},
     "output_type": "display_data"
    },
    {
     "name": "stdout",
     "output_type": "stream",
     "text": [
      "\n",
      "[info] epoch train loss: 0.027352293727477876\n",
      "Epoch 181\n"
     ]
    },
    {
     "data": {
      "application/vnd.jupyter.widget-view+json": {
       "model_id": "816303e48bd1425cb647ec0870ed61ff",
       "version_major": 2,
       "version_minor": 0
      },
      "text/plain": [
       "HBox(children=(IntProgress(value=0, max=140), HTML(value='')))"
      ]
     },
     "metadata": {},
     "output_type": "display_data"
    },
    {
     "name": "stdout",
     "output_type": "stream",
     "text": [
      "\n",
      "[info] epoch train loss: 0.026234406944139924\n",
      "Epoch 182\n"
     ]
    },
    {
     "data": {
      "application/vnd.jupyter.widget-view+json": {
       "model_id": "d2fe403523c1434c90e6da070ab6aa0e",
       "version_major": 2,
       "version_minor": 0
      },
      "text/plain": [
       "HBox(children=(IntProgress(value=0, max=140), HTML(value='')))"
      ]
     },
     "metadata": {},
     "output_type": "display_data"
    },
    {
     "name": "stdout",
     "output_type": "stream",
     "text": [
      "\n",
      "[info] epoch train loss: 0.026648211373793425\n",
      "Epoch 183\n"
     ]
    },
    {
     "data": {
      "application/vnd.jupyter.widget-view+json": {
       "model_id": "2d9754ecc8c348c397900fdf11690512",
       "version_major": 2,
       "version_minor": 0
      },
      "text/plain": [
       "HBox(children=(IntProgress(value=0, max=140), HTML(value='')))"
      ]
     },
     "metadata": {},
     "output_type": "display_data"
    },
    {
     "name": "stdout",
     "output_type": "stream",
     "text": [
      "\n",
      "[info] epoch train loss: 0.02696391995612544\n",
      "Epoch 184\n"
     ]
    },
    {
     "data": {
      "application/vnd.jupyter.widget-view+json": {
       "model_id": "333c6fb15d864bb7ba4063754f1e6504",
       "version_major": 2,
       "version_minor": 0
      },
      "text/plain": [
       "HBox(children=(IntProgress(value=0, max=140), HTML(value='')))"
      ]
     },
     "metadata": {},
     "output_type": "display_data"
    },
    {
     "name": "stdout",
     "output_type": "stream",
     "text": [
      "\n",
      "[info] epoch train loss: 0.024695895593079546\n",
      "Epoch 185\n"
     ]
    },
    {
     "data": {
      "application/vnd.jupyter.widget-view+json": {
       "model_id": "4434f46edcf44b689a94c978888dc432",
       "version_major": 2,
       "version_minor": 0
      },
      "text/plain": [
       "HBox(children=(IntProgress(value=0, max=140), HTML(value='')))"
      ]
     },
     "metadata": {},
     "output_type": "display_data"
    },
    {
     "name": "stdout",
     "output_type": "stream",
     "text": [
      "\n",
      "[info] epoch train loss: 0.023123923233196463\n",
      "Epoch 186\n"
     ]
    },
    {
     "data": {
      "application/vnd.jupyter.widget-view+json": {
       "model_id": "b62a821c28ca4aa6aa0b5c5057a3eaa2",
       "version_major": 2,
       "version_minor": 0
      },
      "text/plain": [
       "HBox(children=(IntProgress(value=0, max=140), HTML(value='')))"
      ]
     },
     "metadata": {},
     "output_type": "display_data"
    },
    {
     "name": "stdout",
     "output_type": "stream",
     "text": [
      "lay egg to ./Nest ... save as ./Nest/NewbornBird\n",
      "origin:\n",
      "['[CLS]', 'drink', 'remark', 'acts', 'as', 'diversion', 'the', 'first', 'minister', 's', 'statement', 'that', 'it', 'was', 'okay', 'to', 'get', 'drunk', 'once', 'in', 'a', 'while', 'has', 'diverted', 'attention', 'from', 'the', 'real', 'issues', 'it', 'has', 'been', 'claimed', '.', 'jack', 'law', 'chief', 'executive', 'of', 'alcohol', 'focus', 'scotland', 'said', 'jack', 'mcconnell', 's', 'comment', 'was', 'ill', '-', 'advised', '.', 'the', 'media', 'attention', 'had', 'helped', 'to', 'move', 'the', 'focus', 'from', 'scotland', 's', 'bing', '##e', 'drinking', 'problems', 'mr', 'law', 'said', '.', 'scots', '##man', 'journalist', 'hamish', 'mac', '##don', '##ell', 'said', 'he', 'believed', 'the', 'bigger', 'picture', 'had', 'been', 'obscured', 'by', 'the', 'remark', '.', 'mr', 'mcconnell', 'was', 'speaking', 'on', 'monday', 'to', 'more', 'than', '100', 'secondary', 'pupils', 'from', 'schools', 'in', 'the', 'highlands', 'about', 'the', 'problems', 'of', 'bing', '##e', 'drinking', 'and', 'drink', 'promotions', '.', 'the', 'one', '-', 'sentence', 'comment', 'was', 'immediately', 'criticised', 'by', 'the', 'scottish', 'national', 'party', 'which', 'accused', 'him', 'of', 'encouraging', 'young', 'people', 'to', 'get', 'drunk', '.', 'but', 'the', 'scottish', 'executive', 'has', 'insisted', 'mr', 'mcconnell', 'was', 'speaking', 'about', 'adults', 'and', 'his', 'comments', 'were', 'a', 'recognition', 'that', 'people', 'will', 'get', 'drunk', '.', 'mr', 'mac', '##don', '##ell', 'political', 'editor', 'of', 'the', 'scots', '##man', 'said', ':', 'i', 'think', 'we', 'have', 'to', 'say', 'right', 'at', 'the', 'outset', 'that', 'this', 'was', 'a', 'very', 'stupid', 'and', 'ill', '-', 'advised', 'remark', 'by', 'the', 'first', 'minister', '.', 'if', 'you', 'come', 'out', 'with', 'something', 'like', 'this', 'saying', 'that', 'by', 'all', 'means', 'get', 'drunk', 'then', 'you', 'will', 'be', 'pill', '##ori', '##ed', 'for', 'it', '.', 'however', 'he', 'added', 'that', 'perhaps', 'mr', 'mcconnell', 'could', 'feel', 'right', '##ly', 'ag', '##gr', '##ie', '##ved', 'about', 'the', 'coverage', '.', 'mr', 'mac', '##don', '##ell', 'said', ':', 'i', 'think', 'the', 'problem', 'here', 'is', 'that', 'he', 'did', 'say', 'a', 'lot', 'more', 'things', 'about', 'bing', '##e', 'drinking', 'and', 'under', 'age', 'drinking', '.', 'but', 'that', 'whole', 'side', 'of', 'things', 'has', 'been', 'lost', 'in', 'the', 'fur', '##ore', 'over', 'one', 'sentence', '.', 'i', 'understand', 'why', 'but', 'i', 'think', 'there', 'is', 'a', 'much', 'bigger', 'message', 'here', 'that', 'has', 'been', 'obscured', '.', 'mr', 'law', 'from', 'voluntary', 'body', 'alcohol', 'focus', 'scotland', 'believed', 'damage', 'had', 'been', 'done', 'to', 'scotland', 's', 'fight', 'against', 'bing', '##e', 'drinking', '.', 'he', 'said', 'he', 'accepted', 'that', 'young', 'people', 'drank', 'and', 'they', 'did', 'have', 'problems', 'with', 'drink', '.', 'mr', 'law', 'added', ':', 'i', 'think', 'the', 'remark', 'was', 'ill', '-', 'advised', '-', 'but', 'these', 'remarks', 'are', 'blown', 'out', 'of', 'all', 'proportion', 'and', 'they', 'so', 'easily', 'mis', '##re', '##pres', '##ent', 'what', 'we', 'are', 'trying', 'to', 'do', 'in', 'scotland', '.', 'we', 'don', 't', 'want', 'to', 'preach', 'to', 'young', 'people']\n",
      "summary:\n",
      "['[CLS]', '##kers', '##kers', '##kers', '##kers', '##kers', '##kers', '##kers', '##kers', '##kers', '##kers', '##kers', '##kers', '##kers', '##kers', '##kers', '##kers', '##kers', '##kers', '##kers']\n",
      "real summary:\n",
      "['[CLS]', 'drink', 'remark', 'acts', 'as', 'diversion', 'the', 'first', 'minister', 's', 'statement', 'that', 'it', 'was', 'okay', 'to', 'get', 'drunk', 'once']\n",
      "sentiment: 4\n",
      "y: 4\n",
      "\n",
      "\n",
      "[info] epoch train loss: 0.022741826004893335\n",
      "Epoch 187\n"
     ]
    },
    {
     "data": {
      "application/vnd.jupyter.widget-view+json": {
       "model_id": "170b0a035e61417f8a8bd366e27ace09",
       "version_major": 2,
       "version_minor": 0
      },
      "text/plain": [
       "HBox(children=(IntProgress(value=0, max=140), HTML(value='')))"
      ]
     },
     "metadata": {},
     "output_type": "display_data"
    },
    {
     "name": "stdout",
     "output_type": "stream",
     "text": [
      "\n",
      "[info] epoch train loss: 0.025495936761986977\n",
      "Epoch 188\n"
     ]
    },
    {
     "data": {
      "application/vnd.jupyter.widget-view+json": {
       "model_id": "45362c7a9023479e9588847796ea68ed",
       "version_major": 2,
       "version_minor": 0
      },
      "text/plain": [
       "HBox(children=(IntProgress(value=0, max=140), HTML(value='')))"
      ]
     },
     "metadata": {},
     "output_type": "display_data"
    },
    {
     "name": "stdout",
     "output_type": "stream",
     "text": [
      "\n",
      "[info] epoch train loss: 0.024946614044731773\n",
      "Epoch 189\n"
     ]
    },
    {
     "data": {
      "application/vnd.jupyter.widget-view+json": {
       "model_id": "26eb74e507324976afe5c85604ed253e",
       "version_major": 2,
       "version_minor": 0
      },
      "text/plain": [
       "HBox(children=(IntProgress(value=0, max=140), HTML(value='')))"
      ]
     },
     "metadata": {},
     "output_type": "display_data"
    },
    {
     "name": "stdout",
     "output_type": "stream",
     "text": [
      "\n",
      "[info] epoch train loss: 0.025335870031975308\n",
      "Epoch 190\n"
     ]
    },
    {
     "data": {
      "application/vnd.jupyter.widget-view+json": {
       "model_id": "7fa9ba791d704bc094a92cdefcc827ba",
       "version_major": 2,
       "version_minor": 0
      },
      "text/plain": [
       "HBox(children=(IntProgress(value=0, max=140), HTML(value='')))"
      ]
     },
     "metadata": {},
     "output_type": "display_data"
    },
    {
     "name": "stdout",
     "output_type": "stream",
     "text": [
      "\n",
      "[info] epoch train loss: 0.025931367815080972\n",
      "Epoch 191\n"
     ]
    },
    {
     "data": {
      "application/vnd.jupyter.widget-view+json": {
       "model_id": "c4d433230810466e8686384693758455",
       "version_major": 2,
       "version_minor": 0
      },
      "text/plain": [
       "HBox(children=(IntProgress(value=0, max=140), HTML(value='')))"
      ]
     },
     "metadata": {},
     "output_type": "display_data"
    },
    {
     "name": "stdout",
     "output_type": "stream",
     "text": [
      "\n",
      "[info] epoch train loss: 0.0255428954489316\n",
      "Epoch 192\n"
     ]
    },
    {
     "data": {
      "application/vnd.jupyter.widget-view+json": {
       "model_id": "5055af29f83d4b0994fc7cd1c482c258",
       "version_major": 2,
       "version_minor": 0
      },
      "text/plain": [
       "HBox(children=(IntProgress(value=0, max=140), HTML(value='')))"
      ]
     },
     "metadata": {},
     "output_type": "display_data"
    },
    {
     "name": "stdout",
     "output_type": "stream",
     "text": [
      "\n",
      "[info] epoch train loss: 0.024808891284191097\n",
      "Epoch 193\n"
     ]
    },
    {
     "data": {
      "application/vnd.jupyter.widget-view+json": {
       "model_id": "67074a89f8a84ffa9ed3ed07f64e52ad",
       "version_major": 2,
       "version_minor": 0
      },
      "text/plain": [
       "HBox(children=(IntProgress(value=0, max=140), HTML(value='')))"
      ]
     },
     "metadata": {},
     "output_type": "display_data"
    },
    {
     "name": "stdout",
     "output_type": "stream",
     "text": [
      "lay egg to ./Nest ... save as ./Nest/NewbornBird\n",
      "origin:\n",
      "['[CLS]', 'nissan', 'names', 'successor', 'to', 'g', '##hos', '##n', 'nissan', 'has', 'named', 'a', 'lifetime', 'employee', 'to', 'run', 'its', 'operations', 'after', 'carlos', 'g', '##hos', '##n', 'its', 'highly', 'successful', 'boss', 'takes', 'charge', 'at', 'renault', '.', 'as', 'chief', 'operating', 'officer', 'to', '##shi', '##yuki', 'shi', '##ga', 'will', 'run', 'nissan', 'on', 'a', 'daily', 'basis', 'although', 'mr', 'g', '##hos', '##n', 'who', 'master', '##mind', '##ed', 'its', 'recovery', 'will', 'remain', 'chief', 'executive', '.', 'mr', 'g', '##hos', '##n', 'is', 'to', 'become', 'chairman', 'and', 'chief', 'executive', 'of', 'renault', 'which', 'owns', '44', '%', 'of', 'the', 'japanese', 'car', '##maker', 'in', 'april', '.', 'mr', 'g', '##hos', '##n', 'transformed', 'nissan', 'into', 'a', 'fast', '-', 'growing', 'and', 'profitable', 'business', '.', 'mr', 'shi', '##ga', 'will', 'nominally', 'serve', 'as', 'mr', 'g', '##hos', '##n', 's', 'deputy', '.', 'however', 'he', 'will', 'be', 'nissan', 's', 'most', 'senior', 'japan', '-', 'based', 'executive', 'and', 'will', 'be', 'in', 'charge', 'of', 'the', 'firm', 's', 'global', 'sales', 'and', 'marketing', '.', 'he', 'is', 'currently', 'in', 'charge', 'of', 'nissan', 's', 'operations', 'across', 'asia', 'and', 'aus', '##tral', '##asia', 'and', 'is', 'credited', 'with', 'significantly', 'improving', 'its', 'sales', 'in', 'china', '.', 'he', 'will', 'inherit', 'a', 'strong', 'legacy', 'from', 'mr', 'g', '##hos', '##n', 'who', 'has', 'overseen', 'a', 'dramatic', 'turn', '##around', 'in', 'nissan', 's', 'fortunes', 'in', 'the', 'past', 'five', 'years', '.', 'dubbed', 'le', 'cost', 'killer', 'for', 'pushing', 'through', 'huge', 'cost', 'cuts', 'in', 'previous', 'jobs', 'mr', 'g', '##hos', '##n', 'reduced', 'nissan', 's', 'overhead', '##s', 'by', '20', '%', 'and', 'trimmed', 'its', 'workforce', 'by', 'about', '200', '000', 'after', 'taking', 'charge', 'in', '1999', '.', 'these', 'actions', 'helped', 'nissan', 'turn', 'a', '68', '##4', '##bn', 'yen', '(', '$', '6', '.', '4', '##bn', ')', 'loss', 'in', '2000', 'into', 'a', '331', '##bn', 'yen', '(', '$', '2', '.', '7', '##bn', ')', 'profit', 'the', 'following', 'year', '.', 'during', 'his', 'tenure', 'nissan', 'has', 'increased', 'its', 'market', 'share', 'and', 'made', 'significant', 'strides', 'in', 'key', 'export', 'markets', '.', 'nissan', 'aims', 'to', 'increase', 'vehicle', 'sales', 'to', 'more', 'than', 'four', 'million', 'by', '2008', 'launching', '28', 'new', 'models', 'in', 'the', 'process', '.', 'in', 'his', 'new', 'job', 'as', 'renault', 'chief', 'executive', 'mr', 'g', '##hos', '##n', 'will', 'devote', '40', '%', 'of', 'his', 'time', 'to', 'renault', '40', '%', 'to', 'nissan', 'and', 'the', 'rest', 'to', 'the', 'group', 's', 'activities', 'in', 'north', 'america', 'and', 'other', 'key', 'markets', '.', 'mr', 'g', '##hos', '##n', 'said', 'mr', 'shi', '##ga', 's', 'appointment', 'would', 'ensure', 'a', 'seam', '##less', 'transition', 'in', 'management', '.', 'i', 'need', 'a', 'leadership', 'team', 'capable', 'of', 'accelerating', 'the', 'performance', 'and', 'delivery', 'of', 'results', 'that', 'has', 'characterized', 'nissan', 'over', 'the', 'past', 'six', 'years', 'mr', 'g', '##hos', '##n']\n",
      "summary:\n",
      "['[CLS]', '##kers', '##kers', '##kers', '##kers', '##kers', '##kers', '##kers', '##kers', '##kers', '##kers', '##kers', '##kers', '##kers', '##kers', '##kers', '##kers', '##kers', '##kers', '##kers']\n",
      "real summary:\n",
      "['[CLS]', 'nissan', 'names', 'successor', 'to', 'g', '##hos', '##n', 'nissan', 'has', 'named', 'a', 'lifetime', 'employee', 'to', 'run', 'its', 'operations', 'after']\n",
      "sentiment: 4\n",
      "y: 1\n",
      "\n",
      "\n",
      "[info] epoch train loss: 0.023922523754583022\n",
      "Epoch 194\n"
     ]
    },
    {
     "data": {
      "application/vnd.jupyter.widget-view+json": {
       "model_id": "880dd816bb2442d6972bfba307e83fcb",
       "version_major": 2,
       "version_minor": 0
      },
      "text/plain": [
       "HBox(children=(IntProgress(value=0, max=140), HTML(value='')))"
      ]
     },
     "metadata": {},
     "output_type": "display_data"
    },
    {
     "name": "stdout",
     "output_type": "stream",
     "text": [
      "\n",
      "[info] epoch train loss: 0.02330028472034412\n",
      "Epoch 195\n"
     ]
    },
    {
     "data": {
      "application/vnd.jupyter.widget-view+json": {
       "model_id": "184833a1936a452ba712739ec861f7f1",
       "version_major": 2,
       "version_minor": 0
      },
      "text/plain": [
       "HBox(children=(IntProgress(value=0, max=140), HTML(value='')))"
      ]
     },
     "metadata": {},
     "output_type": "display_data"
    },
    {
     "name": "stdout",
     "output_type": "stream",
     "text": [
      "\n",
      "[info] epoch train loss: 0.02271621213003629\n",
      "Epoch 196\n"
     ]
    },
    {
     "data": {
      "application/vnd.jupyter.widget-view+json": {
       "model_id": "5f251210f7c24ca5931a79f6dcb676ff",
       "version_major": 2,
       "version_minor": 0
      },
      "text/plain": [
       "HBox(children=(IntProgress(value=0, max=140), HTML(value='')))"
      ]
     },
     "metadata": {},
     "output_type": "display_data"
    },
    {
     "name": "stdout",
     "output_type": "stream",
     "text": [
      "\n",
      "[info] epoch train loss: 0.023143788976582463\n",
      "Epoch 197\n"
     ]
    },
    {
     "data": {
      "application/vnd.jupyter.widget-view+json": {
       "model_id": "8b03a4de3d5d4a889995b6f1810d1d1c",
       "version_major": 2,
       "version_minor": 0
      },
      "text/plain": [
       "HBox(children=(IntProgress(value=0, max=140), HTML(value='')))"
      ]
     },
     "metadata": {},
     "output_type": "display_data"
    },
    {
     "name": "stdout",
     "output_type": "stream",
     "text": [
      "\n",
      "[info] epoch train loss: 0.022954128578543426\n",
      "Epoch 198\n"
     ]
    },
    {
     "data": {
      "application/vnd.jupyter.widget-view+json": {
       "model_id": "db5aecd20a854e44b1ebe8f2d4c76998",
       "version_major": 2,
       "version_minor": 0
      },
      "text/plain": [
       "HBox(children=(IntProgress(value=0, max=140), HTML(value='')))"
      ]
     },
     "metadata": {},
     "output_type": "display_data"
    },
    {
     "name": "stdout",
     "output_type": "stream",
     "text": [
      "\n",
      "[info] epoch train loss: 0.023166248780660023\n",
      "Epoch 199\n"
     ]
    },
    {
     "data": {
      "application/vnd.jupyter.widget-view+json": {
       "model_id": "acf0da06be034a58823add1ae8229673",
       "version_major": 2,
       "version_minor": 0
      },
      "text/plain": [
       "HBox(children=(IntProgress(value=0, max=140), HTML(value='')))"
      ]
     },
     "metadata": {},
     "output_type": "display_data"
    },
    {
     "name": "stdout",
     "output_type": "stream",
     "text": [
      "\n",
      "[info] epoch train loss: 0.021749152125664396\n",
      "Epoch 200\n"
     ]
    },
    {
     "data": {
      "application/vnd.jupyter.widget-view+json": {
       "model_id": "868894ad311c4e70a268401e7fc0c9a6",
       "version_major": 2,
       "version_minor": 0
      },
      "text/plain": [
       "HBox(children=(IntProgress(value=0, max=140), HTML(value='')))"
      ]
     },
     "metadata": {},
     "output_type": "display_data"
    },
    {
     "name": "stdout",
     "output_type": "stream",
     "text": [
      "lay egg to ./Nest ... save as ./Nest/NewbornBird\n",
      "origin:\n",
      "['[CLS]', 'dawson', 'wins', 'england', 'squad', 'recall', 'wasps', 'sc', '##rum', '-', 'half', 'matt', 'dawson', 'has', 'been', 'recalled', 'to', 'england', 's', 'training', 'squad', 'ahead', 'of', 'the', 'rb', '##s', 'six', 'nations', 'and', 'been', 'reinstated', 'in', 'the', 'elite', 'player', 'squad', '.', 'coach', 'andy', 'robinson', 'dropped', 'dawson', 'for', 'the', 'autumn', 'tests', 'after', 'he', 'missed', 'training', 'to', 'film', 'a', 'question', 'of', 'sport', '.', 'i', 'always', 'said', 'i', 'would', 'consider', 'bringing', 'matt', 'back', 'if', 'i', 'felt', 'he', 'was', 'playing', 'well', 'robinson', 'said', '.', 'he', 'merits', 'his', 'return', 'on', 'current', 'form', '.', 'newcastle', 's', '18', '-', 'year', '-', 'old', 'centre', 'mathew', 'tai', '##t', 'is', 'also', 'in', 'the', 'training', 'squad', '.', 'it', 's', 'obviously', 'an', 'honour', 'to', 'be', 'asked', 'to', 'train', 'with', 'england', 'said', 'tai', '##t', 'who', 'has', 'burst', 'into', 'contention', 'recently', '.', 'i', 'look', 'forward', 'to', 'going', 'down', 'and', 'doing', 'the', 'sessions', 'but', 'the', 'most', 'important', 'thing', 'at', 'the', 'moment', 'is', 'sunday', 's', 'game', 'against', 'newport', 'so', 'i', 'm', 'not', 'looking', 'any', 'further', 'than', 'that', '.', 'robinson', 'has', 'invited', '42', 'players', 'to', 'attend', 'a', 'three', '-', 'day', 'session', 'in', 'leeds', 'next', 'week', 'in', 'which', 'his', 'squad', 'will', 'train', 'in', 'part', 'with', 'the', 'leeds', 'rhino', '##s', 'rugby', 'league', 'squad', '.', 'with', 'mike', 'tin', '##dal', '##l', 'ruled', 'out', 'of', 'the', 'opening', 'two', 'matches', 'and', 'will', 'greenwood', 'side', '##lined', 'for', 'the', 'entire', 'six', 'nations', 'tai', '##t', 'is', 'one', 'of', 'six', 'or', 'seven', 'contenders', 'for', 'the', 'two', 'centre', 'berth', '##s', '.', 'stuart', 'abbott', 'jamie', 'noon', 'ollie', 'smith', 'ol', '##ly', 'bark', '##ley', 'and', 'henry', 'paul', '-', 'who', 'retains', 'his', 'place', 'despite', 'his', 'early', 'substitution', 'against', 'australia', '-', 'are', 'also', 'in', 'the', 'mix', '.', 'ben', 'cohen', 'could', 'also', 'be', 'considered', 'after', 'switching', 'from', 'the', 'wing', 'for', 'his', 'club', 'northampton', 'recently', '.', 'prop', 'phil', 'vic', '##ker', '##y', 'and', 'lock', 'simon', 'shaw', 'both', 'return', 'to', 'the', 'squad', 'after', 'missing', 'the', 'autumn', 'tests', 'through', 'injury', 'while', 'wasps', 'wing', 'tom', 'vo', '##yce', 'is', 'recalled', '.', 'the', 'group', 'also', 'includes', 'bath', 'flank', '##er', 'andy', 'beat', '##tie', 'and', 'leicester', 'hooker', 'george', 'chu', '##ter', '.', 'beat', '##tie', 'has', 'mature', '##d', 'greatly', 'as', 'a', 'player', 'these', 'past', 'two', 'seasons', 'robinson', 'said', '.', 'jonny', 'wilkinson', 'tin', '##dal', '##l', 'and', 'martin', 'co', '##rry', 'have', 'all', 'been', 'included', 'despite', 'their', 'una', '##va', '##ila', '##bility', 'for', 'the', 'opening', 'two', 'matches', 'against', 'wales', 'and', 'france', '.', 'the', 'revised', '56', '-', 'man', 'elite', 'squad', 'includes', 'wasps', 'hooker', 'phil', 'green', '##ing', 'who', 'replaces', 'the', 'retired', 'mark', 'regan', 'and', 'sale', 'wing', 'mark', 'cue', '##to', '.', 'cue', '##to', 'was', 'selected', 'for']\n",
      "summary:\n",
      "['[CLS]', '##kers', '##kers', '##kers', '##kers', '##kers', '##kers', '##kers', '##kers', '##kers', '##kers', '##kers', '##kers', '##kers', '##kers', '##kers', '##kers', '##kers', '##kers', '##kers']\n",
      "real summary:\n",
      "['[CLS]', 'dawson', 'wins', 'england', 'squad', 'recall', 'wasps', 'sc', '##rum', '-', 'half', 'matt', 'dawson', 'has', 'been', 'recalled', 'to', 'england', 's']\n",
      "sentiment: 4\n",
      "y: 2\n",
      "\n",
      "\n",
      "[info] epoch train loss: 0.02112318551857198\n",
      "Epoch 201\n"
     ]
    },
    {
     "data": {
      "application/vnd.jupyter.widget-view+json": {
       "model_id": "79c36a86e1ba4a33942440738ec6e7e4",
       "version_major": 2,
       "version_minor": 0
      },
      "text/plain": [
       "HBox(children=(IntProgress(value=0, max=140), HTML(value='')))"
      ]
     },
     "metadata": {},
     "output_type": "display_data"
    },
    {
     "name": "stdout",
     "output_type": "stream",
     "text": [
      "\n",
      "[info] epoch train loss: 0.021015633067113168\n",
      "Epoch 202\n"
     ]
    },
    {
     "data": {
      "application/vnd.jupyter.widget-view+json": {
       "model_id": "d4db9198298a4f70b4697831fefda634",
       "version_major": 2,
       "version_minor": 0
      },
      "text/plain": [
       "HBox(children=(IntProgress(value=0, max=140), HTML(value='')))"
      ]
     },
     "metadata": {},
     "output_type": "display_data"
    },
    {
     "name": "stdout",
     "output_type": "stream",
     "text": [
      "\n",
      "[info] epoch train loss: 0.022605727930866442\n",
      "Epoch 203\n"
     ]
    },
    {
     "data": {
      "application/vnd.jupyter.widget-view+json": {
       "model_id": "1b872000f9c349508f66f657dc938035",
       "version_major": 2,
       "version_minor": 0
      },
      "text/plain": [
       "HBox(children=(IntProgress(value=0, max=140), HTML(value='')))"
      ]
     },
     "metadata": {},
     "output_type": "display_data"
    },
    {
     "name": "stdout",
     "output_type": "stream",
     "text": [
      "\n",
      "[info] epoch train loss: 0.022451496206474734\n",
      "Epoch 204\n"
     ]
    },
    {
     "data": {
      "application/vnd.jupyter.widget-view+json": {
       "model_id": "b28bc4ea675245348199d9d02afb96c9",
       "version_major": 2,
       "version_minor": 0
      },
      "text/plain": [
       "HBox(children=(IntProgress(value=0, max=140), HTML(value='')))"
      ]
     },
     "metadata": {},
     "output_type": "display_data"
    },
    {
     "name": "stdout",
     "output_type": "stream",
     "text": [
      "\n",
      "[info] epoch train loss: 0.02267803956704678\n",
      "Epoch 205\n"
     ]
    },
    {
     "data": {
      "application/vnd.jupyter.widget-view+json": {
       "model_id": "948db21f5b6649beafebe28d5478d7d6",
       "version_major": 2,
       "version_minor": 0
      },
      "text/plain": [
       "HBox(children=(IntProgress(value=0, max=140), HTML(value='')))"
      ]
     },
     "metadata": {},
     "output_type": "display_data"
    },
    {
     "name": "stdout",
     "output_type": "stream",
     "text": [
      "\n",
      "[info] epoch train loss: 0.023196948238470277\n",
      "Epoch 206\n"
     ]
    },
    {
     "data": {
      "application/vnd.jupyter.widget-view+json": {
       "model_id": "9c2c6d79ecd44290bff62f2bd2d349a9",
       "version_major": 2,
       "version_minor": 0
      },
      "text/plain": [
       "HBox(children=(IntProgress(value=0, max=140), HTML(value='')))"
      ]
     },
     "metadata": {},
     "output_type": "display_data"
    },
    {
     "name": "stdout",
     "output_type": "stream",
     "text": [
      "\n",
      "[info] epoch train loss: 0.023724752039107143\n",
      "Epoch 207\n"
     ]
    },
    {
     "data": {
      "application/vnd.jupyter.widget-view+json": {
       "model_id": "24638f3a9de64bcc9434da6d68599eb0",
       "version_major": 2,
       "version_minor": 0
      },
      "text/plain": [
       "HBox(children=(IntProgress(value=0, max=140), HTML(value='')))"
      ]
     },
     "metadata": {},
     "output_type": "display_data"
    },
    {
     "name": "stdout",
     "output_type": "stream",
     "text": [
      "\n",
      "[info] epoch train loss: 0.023204872146495095\n",
      "Epoch 208\n"
     ]
    },
    {
     "data": {
      "application/vnd.jupyter.widget-view+json": {
       "model_id": "23ce156b6902416a8ac55c15b038772d",
       "version_major": 2,
       "version_minor": 0
      },
      "text/plain": [
       "HBox(children=(IntProgress(value=0, max=140), HTML(value='')))"
      ]
     },
     "metadata": {},
     "output_type": "display_data"
    },
    {
     "name": "stdout",
     "output_type": "stream",
     "text": [
      "lay egg to ./Nest ... save as ./Nest/NewbornBird\n",
      "origin:\n",
      "['[CLS]', 'download', 'chart', 'debut', 'is', 'delayed', 'the', 'inclusion', 'of', 'downloaded', 'music', 'in', 'the', 'official', 'singles', 'chart', 'has', 'been', 'delayed', 'for', 'a', 'month', '.', 'the', 'british', 'ph', '##ono', '##graphic', 'industry', '(', 'bp', '##i', ')', 'had', 'planned', 'to', 'include', 'download', 'formats', 'in', 'the', 'chart', 'from', '20', 'march', '.', 'but', 'the', 'date', 'has', 'been', 'put', 'back', 'to', '17', 'april', 'to', 'create', 'a', 'level', 'playing', 'field', 'for', 'independent', 'labels', '.', 'the', 'bp', '##i', 'is', 'concerned', 'that', 'independent', 'repertoire', 'is', 'not', 'adequately', 'represented', 'online', 'and', 'said', 'they', 'were', 'looking', 'at', 'ways', 'of', 'rec', '##tify', '##ing', 'it', '.', 'bp', '##i', 'chairman', 'peter', 'jamie', '##son', 'said', ':', 'the', 'inclusion', 'of', 'download', 'formats', 'in', 'the', 'official', 'uk', 'singles', 'chart', 'is', 'the', 'most', 'significant', 'development', 'in', 'the', 'charts', 'for', '20', 'years', '.', 'but', 'for', 'a', 'multitude', 'of', 'reasons', 'the', 'current', 'chart', 'representation', 'of', 'independent', 'repertoire', 'at', 'the', 'major', 'download', 'outlets', 'is', 'poor', '.', 'i', 'am', 'very', 'pleased', 'we', 'have', 'secured', 'this', 'delay', 'on', 'behalf', 'of', 'independents', '.', 'we', 'have', 'to', 'try', 'and', 'establish', 'a', 'realistic', 'level', 'playing', 'field', 'of', 'opportunity', '.', 'the', 'official', 'uk', 'charts', 'are', 'run', 'by', 'the', 'official', 'uk', 'charts', 'company', '(', 'o', '##cc', ')', '-', 'a', 'joint', 'venture', 'between', 'the', 'bp', '##i', 'and', 'the', 'british', 'association', 'of', 'record', 'dealers', '(', 'bard', ')', '.', 'at', 'an', 'o', '##cc', 'board', 'meeting', 'on', 'wednesday', 'the', 'o', '##cc', 'board', 'agreed', 'with', 'bp', '##i', 'members', 'that', 'the', '20', 'march', 'start', 'date', 'be', 'postponed', '.', 'download', 'formats', 'will', 'now', 'be', 'included', 'in', 'the', 'official', 'uk', 'singles', 'chart', 'for', 'the', 'first', 'time', 'in', 'the', 'chart', 'published', 'on', '17', 'april', '-', 'the', 'sales', 'week', 'beginning', '10', 'april', '.', 'the', 'us', 'has', 'already', 'merged', 'downloaded', 'singles', 'into', 'its', 'billboard', 'hot', '100', 'chart', '.', '[SEP]', '[PAD]', '[PAD]', '[PAD]', '[PAD]', '[PAD]', '[PAD]', '[PAD]', '[PAD]', '[PAD]', '[PAD]', '[PAD]', '[PAD]', '[PAD]', '[PAD]', '[PAD]', '[PAD]', '[PAD]', '[PAD]', '[PAD]', '[PAD]', '[PAD]', '[PAD]', '[PAD]', '[PAD]', '[PAD]', '[PAD]', '[PAD]', '[PAD]', '[PAD]', '[PAD]', '[PAD]', '[PAD]', '[PAD]', '[PAD]', '[PAD]', '[PAD]', '[PAD]', '[PAD]', '[PAD]', '[PAD]', '[PAD]', '[PAD]', '[PAD]', '[PAD]', '[PAD]', '[PAD]', '[PAD]', '[PAD]', '[PAD]', '[PAD]', '[PAD]', '[PAD]', '[PAD]', '[PAD]', '[PAD]', '[PAD]', '[PAD]', '[PAD]', '[PAD]', '[PAD]', '[PAD]', '[PAD]', '[PAD]', '[PAD]', '[PAD]', '[PAD]', '[PAD]', '[PAD]', '[PAD]', '[PAD]', '[PAD]', '[PAD]', '[PAD]', '[PAD]', '[PAD]', '[PAD]', '[PAD]', '[PAD]', '[PAD]', '[PAD]', '[PAD]', '[PAD]', '[PAD]', '[PAD]', '[PAD]', '[PAD]', '[PAD]', '[PAD]', '[PAD]', '[PAD]', '[PAD]', '[PAD]', '[PAD]', '[PAD]', '[PAD]', '[PAD]', '[PAD]', '[PAD]', '[PAD]', '[PAD]', '[PAD]', '[PAD]', '[PAD]', '[PAD]', '[PAD]', '[PAD]', '[PAD]', '[PAD]', '[PAD]', '[PAD]', '[PAD]', '[PAD]', '[PAD]', '[PAD]', '[PAD]', '[PAD]', '[PAD]', '[PAD]', '[PAD]', '[PAD]', '[PAD]']\n",
      "summary:\n",
      "['[CLS]', '##kers', '##kers', '##kers', '##kers', '##kers', '##kers', '##kers', '##kers', '##kers', '##kers', '##kers', '##kers', '##kers', '##kers', '##kers', '##kers', '##kers', '##kers', '##kers']\n",
      "real summary:\n",
      "['[CLS]', 'download', 'chart', 'debut', 'is', 'delayed', 'the', 'inclusion', 'of', 'downloaded', 'music', 'in', 'the', 'official', 'singles', 'chart', 'has', 'been', 'delayed']\n",
      "sentiment: 4\n",
      "y: 3\n",
      "\n",
      "\n",
      "[info] epoch train loss: 0.022503110379708348\n",
      "Epoch 209\n"
     ]
    },
    {
     "data": {
      "application/vnd.jupyter.widget-view+json": {
       "model_id": "c6d5104c5c864e97a6fe4d9c2d4351be",
       "version_major": 2,
       "version_minor": 0
      },
      "text/plain": [
       "HBox(children=(IntProgress(value=0, max=140), HTML(value='')))"
      ]
     },
     "metadata": {},
     "output_type": "display_data"
    },
    {
     "name": "stdout",
     "output_type": "stream",
     "text": [
      "\n",
      "[info] epoch train loss: 0.02178979387911397\n",
      "Epoch 210\n"
     ]
    },
    {
     "data": {
      "application/vnd.jupyter.widget-view+json": {
       "model_id": "dd7cf387416d45559dfe309e2c26e744",
       "version_major": 2,
       "version_minor": 0
      },
      "text/plain": [
       "HBox(children=(IntProgress(value=0, max=140), HTML(value='')))"
      ]
     },
     "metadata": {},
     "output_type": "display_data"
    },
    {
     "name": "stdout",
     "output_type": "stream",
     "text": [
      "\n",
      "[info] epoch train loss: 0.022751680254689332\n",
      "Epoch 211\n"
     ]
    },
    {
     "data": {
      "application/vnd.jupyter.widget-view+json": {
       "model_id": "316fc1e284044555b64560f2d27c2371",
       "version_major": 2,
       "version_minor": 0
      },
      "text/plain": [
       "HBox(children=(IntProgress(value=0, max=140), HTML(value='')))"
      ]
     },
     "metadata": {},
     "output_type": "display_data"
    },
    {
     "name": "stdout",
     "output_type": "stream",
     "text": [
      "\n",
      "[info] epoch train loss: 0.023540934955496237\n",
      "Epoch 212\n"
     ]
    },
    {
     "data": {
      "application/vnd.jupyter.widget-view+json": {
       "model_id": "b4463ae99b9244c8bda8112a36c6ee57",
       "version_major": 2,
       "version_minor": 0
      },
      "text/plain": [
       "HBox(children=(IntProgress(value=0, max=140), HTML(value='')))"
      ]
     },
     "metadata": {},
     "output_type": "display_data"
    },
    {
     "name": "stdout",
     "output_type": "stream",
     "text": [
      "\n",
      "[info] epoch train loss: 0.023601408974414134\n",
      "Epoch 213\n"
     ]
    },
    {
     "data": {
      "application/vnd.jupyter.widget-view+json": {
       "model_id": "6284bfb472224100b893b861b8dfd3c1",
       "version_major": 2,
       "version_minor": 0
      },
      "text/plain": [
       "HBox(children=(IntProgress(value=0, max=140), HTML(value='')))"
      ]
     },
     "metadata": {},
     "output_type": "display_data"
    },
    {
     "name": "stdout",
     "output_type": "stream",
     "text": [
      "\n",
      "[info] epoch train loss: 0.02326824952044047\n",
      "Epoch 214\n"
     ]
    },
    {
     "data": {
      "application/vnd.jupyter.widget-view+json": {
       "model_id": "4232672d98e146fb900c0cdcfe560590",
       "version_major": 2,
       "version_minor": 0
      },
      "text/plain": [
       "HBox(children=(IntProgress(value=0, max=140), HTML(value='')))"
      ]
     },
     "metadata": {},
     "output_type": "display_data"
    },
    {
     "name": "stdout",
     "output_type": "stream",
     "text": [
      "\n",
      "[info] epoch train loss: 0.022056262203266945\n",
      "Epoch 215\n"
     ]
    },
    {
     "data": {
      "application/vnd.jupyter.widget-view+json": {
       "model_id": "8c3d4a4b25e543b9ba5fc3e0dff871e8",
       "version_major": 2,
       "version_minor": 0
      },
      "text/plain": [
       "HBox(children=(IntProgress(value=0, max=140), HTML(value='')))"
      ]
     },
     "metadata": {},
     "output_type": "display_data"
    },
    {
     "name": "stdout",
     "output_type": "stream",
     "text": [
      "lay egg to ./Nest ... save as ./Nest/NewbornBird\n",
      "origin:\n",
      "['[CLS]', 'uk', 'debut', 'for', 'kevin', 'space', '##y', 'movie', 'hollywood', 'stars', 'kevin', 'space', '##y', 'and', 'kate', 'bo', '##sworth', 'attended', 'the', 'british', 'premiere', 'of', 'new', 'film', 'beyond', 'the', 'sea', 'in', 'london', 's', 'leicester', 'square', 'on', 'thursday', '.', 'space', '##y', '45', 'wrote', 'directed', 'and', 'starred', 'in', 'the', 'film', 'inspired', 'by', 'the', 'life', 'of', '1950s', 'cr', '##oo', '##one', '##r', 'bobby', 'dar', '##in', '.', 'this', 'is', 'my', 'tribute', 'to', 'someone', 'i', 'think', 'was', 'a', 'remarkable', 'talent', 'said', 'space', '##y', 'who', 'as', 'dar', '##in', 'sings', 'all', '18', 'songs', 'on', 'the', 'film', 'soundtrack', '.', 'bo', '##sworth', '21', 'plays', 'dar', '##in', 's', 'wife', '-', 'real', 'life', 'hollywood', 'actress', 'sandra', 'dee', '.', 'i', 'knew', 'absolutely', 'nothing', 'about', 'bobby', 'dar', '##in', 'before', 'this', 'film', 'but', 'now', 'i', 'm', 'a', 'huge', 'fan', 'said', 'bo', '##sworth', 'who', 'attended', 'the', 'premiere', 'with', 'british', 'boyfriend', 'orlando', 'bloom', '.', 'there', 'is', 'darkness', 'and', 'tragedy', 'in', 'the', 'story', 'and', 'it', 'was', 'a', 'dream', 'for', 'me', 'to', 'land', 'this', 'part', '.', 'actress', 'sandra', 'dee', 'continues', 'to', 'live', 'in', 'los', 'angeles', 'as', 'a', 'virtual', 'rec', '##lus', '##e', 'but', 'has', 'given', 'her', 'approval', 'to', 'the', 'bio', '##pic', '.', 'she', 'called', 'me', 'last', 'week', 'and', 'said', 'she', 'loved', 'it', 'said', 'space', '##y', 'who', 'was', 'joined', 'at', 'the', 'premiere', 'by', 'members', 'of', 'the', 'boy', 'band', 'west', '##life', '.', 'space', '##y', 'a', 'double', 'oscar', '-', 'winner', 'has', 'long', 'been', 'fascinated', 'by', 'the', 'story', 'of', 'singer', 'bobby', 'dar', '##in', '.', 'the', 'voice', 'behind', 'mack', 'the', 'knife', 'dream', 'lover', 'and', 'beyond', 'the', 'sea', 'fought', 'childhood', 'illness', 'to', 'become', 'one', 'the', 'biggest', 'stars', 'of', 'the', '1950s', 'but', 'died', 'aged', '37', 'from', 'the', 'heart', 'condition', 'that', 'had', 'troubled', 'him', 'all', 'his', 'life', '.', 'bobby', 'dar', '##in', 'was', 'one', 'of', 'the', 'greatest', 'entertainer', '##s', 'the', 'world', 'has', 'ever', 'known', 'and', 'yet', 'because', 'he', 'died', 'young', 'he', 's', 'been', 'kind', 'of', 'forgotten', 'said', 'space', '##y', 'at', 'the', 'premiere', '.', 'making', 'this', 'film', 'was', 'the', 'most', 'fun', 'i', 've', 'ever', 'had', 'in', 'my', 'entire', 'life', '.', 'the', 'movie', 'also', 'stars', 'british', 'actors', 'bob', 'ho', '##skin', '##s', 'and', 'brenda', 'b', '##let', '##hy', '##n', 'as', 'dar', '##in', 's', 'mother', '.', '[SEP]', '[PAD]', '[PAD]', '[PAD]', '[PAD]', '[PAD]', '[PAD]', '[PAD]', '[PAD]', '[PAD]', '[PAD]', '[PAD]', '[PAD]', '[PAD]', '[PAD]', '[PAD]', '[PAD]', '[PAD]', '[PAD]', '[PAD]', '[PAD]', '[PAD]', '[PAD]', '[PAD]', '[PAD]', '[PAD]', '[PAD]', '[PAD]', '[PAD]', '[PAD]', '[PAD]', '[PAD]', '[PAD]', '[PAD]', '[PAD]', '[PAD]', '[PAD]', '[PAD]', '[PAD]', '[PAD]', '[PAD]', '[PAD]', '[PAD]', '[PAD]', '[PAD]', '[PAD]', '[PAD]', '[PAD]', '[PAD]', '[PAD]', '[PAD]', '[PAD]', '[PAD]', '[PAD]', '[PAD]', '[PAD]', '[PAD]', '[PAD]', '[PAD]', '[PAD]', '[PAD]']\n",
      "summary:\n",
      "['[CLS]', '##kers', '##kers', '##kers', '##kers', '##kers', '##kers', '##kers', '##kers', '##kers', '##kers', '##kers', '##kers', '##kers', '##kers', '##kers', '##kers', '##kers', '##kers', '##kers']\n",
      "real summary:\n",
      "['[CLS]', 'uk', 'debut', 'for', 'kevin', 'space', '##y', 'movie', 'hollywood', 'stars', 'kevin', 'space', '##y', 'and', 'kate', 'bo', '##sworth', 'attended', 'the']\n",
      "sentiment: 4\n",
      "y: 3\n",
      "\n",
      "\n",
      "[info] epoch train loss: 0.020695995664141265\n",
      "Epoch 216\n"
     ]
    },
    {
     "data": {
      "application/vnd.jupyter.widget-view+json": {
       "model_id": "0847525c13e542bfb63c0df10a88c725",
       "version_major": 2,
       "version_minor": 0
      },
      "text/plain": [
       "HBox(children=(IntProgress(value=0, max=140), HTML(value='')))"
      ]
     },
     "metadata": {},
     "output_type": "display_data"
    },
    {
     "name": "stdout",
     "output_type": "stream",
     "text": [
      "\n",
      "[info] epoch train loss: 0.01964091512571713\n",
      "Epoch 217\n"
     ]
    },
    {
     "data": {
      "application/vnd.jupyter.widget-view+json": {
       "model_id": "84c458a5fd374e31ae7fb1c7ed4351d9",
       "version_major": 2,
       "version_minor": 0
      },
      "text/plain": [
       "HBox(children=(IntProgress(value=0, max=140), HTML(value='')))"
      ]
     },
     "metadata": {},
     "output_type": "display_data"
    },
    {
     "name": "stdout",
     "output_type": "stream",
     "text": [
      "\n",
      "[info] epoch train loss: 0.017785084104415663\n",
      "Epoch 218\n"
     ]
    },
    {
     "data": {
      "application/vnd.jupyter.widget-view+json": {
       "model_id": "99ff0b296716474a858084d7bb290991",
       "version_major": 2,
       "version_minor": 0
      },
      "text/plain": [
       "HBox(children=(IntProgress(value=0, max=140), HTML(value='')))"
      ]
     },
     "metadata": {},
     "output_type": "display_data"
    },
    {
     "name": "stdout",
     "output_type": "stream",
     "text": [
      "\n",
      "[info] epoch train loss: 0.015638505300021928\n",
      "Epoch 219\n"
     ]
    },
    {
     "data": {
      "application/vnd.jupyter.widget-view+json": {
       "model_id": "70902d72131c47308a5feafa06f8f5e2",
       "version_major": 2,
       "version_minor": 0
      },
      "text/plain": [
       "HBox(children=(IntProgress(value=0, max=140), HTML(value='')))"
      ]
     },
     "metadata": {},
     "output_type": "display_data"
    },
    {
     "name": "stdout",
     "output_type": "stream",
     "text": [
      "\n",
      "[info] epoch train loss: 0.015791066171671864\n",
      "Epoch 220\n"
     ]
    },
    {
     "data": {
      "application/vnd.jupyter.widget-view+json": {
       "model_id": "eb45ad917c7b4403abbc2136d2031273",
       "version_major": 2,
       "version_minor": 0
      },
      "text/plain": [
       "HBox(children=(IntProgress(value=0, max=140), HTML(value='')))"
      ]
     },
     "metadata": {},
     "output_type": "display_data"
    },
    {
     "name": "stdout",
     "output_type": "stream",
     "text": [
      "\n",
      "[info] epoch train loss: 0.015306386187166612\n",
      "Epoch 221\n"
     ]
    },
    {
     "data": {
      "application/vnd.jupyter.widget-view+json": {
       "model_id": "bfcb6618499f4605b423807e1de6cfba",
       "version_major": 2,
       "version_minor": 0
      },
      "text/plain": [
       "HBox(children=(IntProgress(value=0, max=140), HTML(value='')))"
      ]
     },
     "metadata": {},
     "output_type": "display_data"
    },
    {
     "name": "stdout",
     "output_type": "stream",
     "text": [
      "\n",
      "[info] epoch train loss: 0.013523477128726265\n",
      "Epoch 222\n"
     ]
    },
    {
     "data": {
      "application/vnd.jupyter.widget-view+json": {
       "model_id": "f0a441cda4884115a6f0a4ebab989f34",
       "version_major": 2,
       "version_minor": 0
      },
      "text/plain": [
       "HBox(children=(IntProgress(value=0, max=140), HTML(value='')))"
      ]
     },
     "metadata": {},
     "output_type": "display_data"
    },
    {
     "name": "stdout",
     "output_type": "stream",
     "text": [
      "lay egg to ./Nest ... save as ./Nest/NewbornBird\n",
      "origin:\n",
      "['[CLS]', 'china', 'suspend', '##s', '26', 'power', 'projects', 'china', 'has', 'ordered', 'a', 'halt', 'to', 'construction', 'work', 'on', '26', 'big', 'power', 'stations', 'including', 'two', 'at', 'the', 'three', 'gorge', '##s', 'dam', 'on', 'environmental', 'grounds', '.', 'the', 'move', 'is', 'a', 'surprising', 'one', 'because', 'china', 'is', 'struggling', 'to', 'increase', 'energy', 'supplies', 'for', 'its', 'booming', 'economy', '.', 'last', 'year', '24', 'provinces', 'suffered', 'black', 'outs', '.', 'the', 'state', 'environmental', 'protection', 'agency', 'said', 'the', '26', 'projects', 'had', 'failed', 'to', 'do', 'proper', 'environmental', 'assessments', '.', 'topping', 'the', 'list', 'was', 'a', 'controversial', 'dam', 'on', 'the', 'scenic', 'upper', 'yang', '##tze', 'river', '.', 'construction', 'of', 'these', 'projects', 'has', 'started', 'without', 'approval', 'of', 'the', 'assessment', 'of', 'their', 'environmental', 'impact', '.', '.', '.', 'they', 'are', 'typical', 'illegal', 'projects', 'of', 'construction', 'first', 'approval', 'next', 'said', 'sep', '##a', 'vice', '-', 'director', 'pan', 'yue', 'in', 'a', 'statement', 'on', 'the', 'agency', 's', 'website', '.', 'some', 'of', 'the', 'projects', 'may', 'be', 'allowed', 'to', 'start', 'work', 'again', 'with', 'the', 'proper', 'permits', 'but', 'others', 'would', 'be', 'cancelled', 'he', 'said', '.', 'altogether', 'the', 'agency', 'ordered', '30', 'projects', 'halted', '.', 'other', 'projects', 'included', 'a', 'pet', '##ro', '##chemical', '##s', 'plant', 'and', 'a', 'port', 'in', 'fujian', '.', 'the', 'bulk', 'of', 'the', 'list', 'was', 'made', 'up', 'of', 'new', 'power', 'plants', 'with', 'some', 'extensions', 'to', 'existing', 'ones', '.', 'the', 'stop', '##page', '##s', 'would', 'appear', 'to', 'be', 'another', 'step', 'in', 'the', 'central', 'government', 's', 'battle', 'to', 'control', 'projects', 'licensed', 'by', 'local', 'officials', '.', 'however', 'previous', 'crack', '##down', '##s', 'have', 'tended', 'to', 'focus', 'on', 'projects', 'for', 'which', 'the', 'government', 'argued', 'there', 'was', 'over', '##cap', '##ac', '##ity', 'such', 'as', 'steel', 'and', 'cement', '.', 'the', 'government', 'has', 'encouraged', 'construction', 'of', 'new', 'electricity', 'generating', 'capacity', 'to', 'solve', 'chronic', 'energy', 'shortages', 'which', 'forced', 'many', 'factories', 'onto', 'part', '-', 'time', 'working', 'last', 'year', '.', 'in', '2004', 'china', 'increased', 'its', 'generating', 'capacity', 'by', '12', '.', '6', '%', 'or', '440', '700', 'mega', '##wat', '##ts', '(', 'mw', ')', '.', 'the', 'biggest', 'single', 'project', 'to', 'be', 'halted', 'was', 'the', 'xi', '##lu', '##od', '##i', 'dam', 'project', 'designed', 'to', 'produce', '12', '600', 'mw', 'of', 'electricity', '.', 'it', 'is', 'being', 'built', 'on', 'the', 'jin', '##sha', '##jiang', '-', 'or', 'river', 'of', 'golden', 'sand', 'as', 'the', 'upper', 'reaches', 'of', 'the', 'yang', '##tze', 'are', 'known', '.', 'second', 'and', 'third', 'on', 'the', 'agency', 's', 'list', 'were', 'two', 'power', 'stations', 'being', 'built', 'at', 'the', '$', '22', '##bn', 'three', 'gorge', '##s', 'dam', 'project', 'on', 'the', 'central', 'yang', '##tze', '-', 'an', 'underground', '4', '200', 'mw', 'power', 'plant', 'and', 'a', '100', 'mw', 'plant', '.', 'the', 'three', 'gorge', '##s', 'dam']\n",
      "summary:\n",
      "['[CLS]', '##kers', '##kers', '##kers', '##kers', '##kers', '##kers', '##kers', '##kers', '##kers', '##kers', '##kers', '##kers', '##kers', '##kers', '##kers', '##kers', '##kers', '##kers', '##kers']\n",
      "real summary:\n",
      "['[CLS]', 'china', 'suspend', '##s', '26', 'power', 'projects', 'china', 'has', 'ordered', 'a', 'halt', 'to', 'construction', 'work', 'on', '26', 'big', 'power']\n",
      "sentiment: 4\n",
      "y: 1\n",
      "\n",
      "\n",
      "[info] epoch train loss: 0.017686259367923642\n",
      "Epoch 223\n"
     ]
    },
    {
     "data": {
      "application/vnd.jupyter.widget-view+json": {
       "model_id": "7bc2ab1bd5f84190a63e840ba04db0f8",
       "version_major": 2,
       "version_minor": 0
      },
      "text/plain": [
       "HBox(children=(IntProgress(value=0, max=140), HTML(value='')))"
      ]
     },
     "metadata": {},
     "output_type": "display_data"
    },
    {
     "name": "stdout",
     "output_type": "stream",
     "text": [
      "\n",
      "[info] epoch train loss: 0.01630503167680177\n",
      "Epoch 224\n"
     ]
    },
    {
     "data": {
      "application/vnd.jupyter.widget-view+json": {
       "model_id": "4c6539f5318842d9a898fc42bebb5424",
       "version_major": 2,
       "version_minor": 0
      },
      "text/plain": [
       "HBox(children=(IntProgress(value=0, max=140), HTML(value='')))"
      ]
     },
     "metadata": {},
     "output_type": "display_data"
    },
    {
     "name": "stdout",
     "output_type": "stream",
     "text": [
      "\n",
      "[info] epoch train loss: 0.01964381030152741\n",
      "Epoch 225\n"
     ]
    },
    {
     "data": {
      "application/vnd.jupyter.widget-view+json": {
       "model_id": "249c137ab9954ea8a07024fd29602236",
       "version_major": 2,
       "version_minor": 0
      },
      "text/plain": [
       "HBox(children=(IntProgress(value=0, max=140), HTML(value='')))"
      ]
     },
     "metadata": {},
     "output_type": "display_data"
    },
    {
     "name": "stdout",
     "output_type": "stream",
     "text": [
      "\n",
      "[info] epoch train loss: 0.0271082725025581\n",
      "Epoch 226\n"
     ]
    },
    {
     "data": {
      "application/vnd.jupyter.widget-view+json": {
       "model_id": "b9bb81bfb1064f47b82add2d7da52fe8",
       "version_major": 2,
       "version_minor": 0
      },
      "text/plain": [
       "HBox(children=(IntProgress(value=0, max=140), HTML(value='')))"
      ]
     },
     "metadata": {},
     "output_type": "display_data"
    },
    {
     "name": "stdout",
     "output_type": "stream",
     "text": [
      "\n",
      "[info] epoch train loss: 0.03052519602061271\n",
      "Epoch 227\n"
     ]
    },
    {
     "data": {
      "application/vnd.jupyter.widget-view+json": {
       "model_id": "6202ef98645c4fe18c55cd08b75f3944",
       "version_major": 2,
       "version_minor": 0
      },
      "text/plain": [
       "HBox(children=(IntProgress(value=0, max=140), HTML(value='')))"
      ]
     },
     "metadata": {},
     "output_type": "display_data"
    },
    {
     "name": "stdout",
     "output_type": "stream",
     "text": [
      "\n",
      "[info] epoch train loss: 0.02955743055921971\n",
      "Epoch 228\n"
     ]
    },
    {
     "data": {
      "application/vnd.jupyter.widget-view+json": {
       "model_id": "7cda4f50dccb4427ae999b74a04d7948",
       "version_major": 2,
       "version_minor": 0
      },
      "text/plain": [
       "HBox(children=(IntProgress(value=0, max=140), HTML(value='')))"
      ]
     },
     "metadata": {},
     "output_type": "display_data"
    },
    {
     "name": "stdout",
     "output_type": "stream",
     "text": [
      "\n",
      "[info] epoch train loss: 0.027643227452032956\n",
      "Epoch 229\n"
     ]
    },
    {
     "data": {
      "application/vnd.jupyter.widget-view+json": {
       "model_id": "23c820f4be754a41acb837acd4bf589f",
       "version_major": 2,
       "version_minor": 0
      },
      "text/plain": [
       "HBox(children=(IntProgress(value=0, max=140), HTML(value='')))"
      ]
     },
     "metadata": {},
     "output_type": "display_data"
    },
    {
     "name": "stdout",
     "output_type": "stream",
     "text": [
      "lay egg to ./Nest ... save as ./Nest/NewbornBird\n",
      "origin:\n",
      "['[CLS]', 'new', 'year', 's', 'text', '##ing', 'breaks', 'record', 'a', 'mobile', 'phone', 'was', 'as', 'essential', 'to', 'the', 'recent', 'new', 'year', 's', 'festivities', 'as', 'a', 'party', 'mood', 'and', 'au', '##ld', 'lang', 'syn', '##e', 'if', 'the', 'number', 'of', 'text', 'messages', 'sent', 'is', 'anything', 'to', 'go', 'by', '.', 'between', 'midnight', 'on', '31', 'december', 'and', 'midnight', 'on', '1', 'january', '133', '##m', 'text', 'messages', 'were', 'sent', 'in', 'the', 'uk', '.', 'it', 'is', 'the', 'highest', 'ever', 'daily', 'total', 'recorded', 'by', 'the', 'mobile', 'data', 'association', '(', 'md', '##a', ')', '.', 'it', 'represents', 'an', 'increase', 'of', '20', '%', 'on', 'last', 'year', 's', 'figures', '.', 'wishing', 'a', 'happy', 'new', 'year', 'to', 'friends', 'and', 'family', 'via', 'text', 'message', 'has', 'become', 'a', 'staple', 'ingredient', 'of', 'the', 'year', 's', 'largest', 'party', '.', 'while', 'text', '##ing', 'has', 'not', 'quite', 'over', '##taken', 'the', 'old', '-', 'fashioned', 'phone', 'call', 'it', 'is', 'heading', 'that', 'way', 'said', 'mike', 'short', 'chairman', 'of', 'the', 'md', '##a', '.', 'in', 'the', 'case', 'of', 'a', 'new', 'years', 'eve', 'party', 'text', '##ing', 'is', 'useful', 'if', 'you', 'are', 'unable', 'to', 'speak', 'or', 'hear', 'because', 'of', 'a', 'noisy', 'background', 'he', 'said', '.', 'there', 'were', 'also', 'lots', 'of', 'messages', 'sent', 'internationally', 'where', 'different', 'time', 'zones', 'made', 'traditional', 'calls', 'un', '##fe', '##asi', '##ble', 'he', 'said', '.', 'the', 'british', 'love', 'affair', 'with', 'text', '##ing', 'shows', 'no', 'signs', 'of', 'aba', '##ting', 'and', 'the', 'annual', 'total', 'for', '2004', 'is', 'set', 'to', 'exceed', '25', '##bn', 'according', 'to', 'md', '##a', '.', 'the', 'md', '##a', 'predict', '##s', 'that', '2005', 'could', 'see', 'more', 'than', '30', '##bn', 'text', 'messages', 'sent', 'in', 'the', 'uk', '.', 'we', 'thought', 'text', '##ing', 'might', 'slow', 'down', 'as', 'mm', '##s', 'took', 'off', 'but', 'we', 'have', 'seen', 'no', 'sign', 'of', 'that', 'said', 'mr', 'short', '.', 'more', 'and', 'more', 'firms', 'are', 'seeing', 'the', 'value', 'in', 'mobile', 'marketing', '.', 'restaurants', 'are', 'using', 'text', 'messages', 'to', 'tell', 'customers', 'about', 'special', 'offers', 'and', 'promotions', '.', 'anyone', 'in', 'need', 'of', 'a', 'bit', 'of', 'january', 'cheer', 'now', 'the', 'party', 'season', 'is', 'over', 'can', 'use', 'a', 'service', 'set', 'up', 'by', 'jong', '##le', '##urs', 'comedy', 'club', 'which', 'will', 'text', 'them', 'a', 'joke', 'a', 'day', '.', 'for', 'those', 'still', 'wanting', 'to', 'drink', 'and', 'be', 'merry', 'as', 'the', 'long', 'days', 'of', 'winter', 'draw', 'in', 'the', 'good', 'pub', 'guide', 'offers', 'a', 'service', 'giving', 'the', 'location', 'and', 'address', 'of', 'their', 'nearest', 'recommended', 'pub', '.', 'users', 'need', 'to', 'text', 'the', 'word', 'good', '##pu', '##b', 'to', '85', '##13', '##0', '.', 'if', 'they', 'want', 'to', 'turn', 'the', 'evening', 'into', 'a', 'pub', 'crawl', 'they', 'simply', 'text', 'the', 'word', 'next']\n",
      "summary:\n",
      "['[CLS]', '##kers', '##kers', '##kers', '##kers', '##kers', '##kers', '##kers', '##kers', '##kers', '##kers', '##kers', '##kers', '##kers', '##kers', '##kers', '##kers', '##kers', '##kers', '##kers']\n",
      "real summary:\n",
      "['[CLS]', 'new', 'year', 's', 'text', '##ing', 'breaks', 'record', 'a', 'mobile', 'phone', 'was', 'as', 'essential', 'to', 'the', 'recent', 'new', 'year']\n",
      "sentiment: 4\n",
      "y: 0\n",
      "\n",
      "\n",
      "[info] epoch train loss: 0.027561468421045884\n",
      "Epoch 230\n"
     ]
    },
    {
     "data": {
      "application/vnd.jupyter.widget-view+json": {
       "model_id": "257292bc550f4f969b57f5935322837b",
       "version_major": 2,
       "version_minor": 0
      },
      "text/plain": [
       "HBox(children=(IntProgress(value=0, max=140), HTML(value='')))"
      ]
     },
     "metadata": {},
     "output_type": "display_data"
    },
    {
     "name": "stdout",
     "output_type": "stream",
     "text": [
      "\n",
      "[info] epoch train loss: 0.024028513182900366\n",
      "Epoch 231\n"
     ]
    },
    {
     "data": {
      "application/vnd.jupyter.widget-view+json": {
       "model_id": "8752e85eeb6447f6b2f53762a17aabc0",
       "version_major": 2,
       "version_minor": 0
      },
      "text/plain": [
       "HBox(children=(IntProgress(value=0, max=140), HTML(value='')))"
      ]
     },
     "metadata": {},
     "output_type": "display_data"
    },
    {
     "name": "stdout",
     "output_type": "stream",
     "text": [
      "\n",
      "[info] epoch train loss: 0.02489141608119943\n",
      "Epoch 232\n"
     ]
    },
    {
     "data": {
      "application/vnd.jupyter.widget-view+json": {
       "model_id": "68a4fac3e98e42c3832d6ca0a2df8af9",
       "version_major": 2,
       "version_minor": 0
      },
      "text/plain": [
       "HBox(children=(IntProgress(value=0, max=140), HTML(value='')))"
      ]
     },
     "metadata": {},
     "output_type": "display_data"
    },
    {
     "name": "stdout",
     "output_type": "stream",
     "text": [
      "\n",
      "[info] epoch train loss: 0.024161467443619244\n",
      "Epoch 233\n"
     ]
    },
    {
     "data": {
      "application/vnd.jupyter.widget-view+json": {
       "model_id": "c3c7b05b3b8a45219ad5822591c38600",
       "version_major": 2,
       "version_minor": 0
      },
      "text/plain": [
       "HBox(children=(IntProgress(value=0, max=140), HTML(value='')))"
      ]
     },
     "metadata": {},
     "output_type": "display_data"
    },
    {
     "name": "stdout",
     "output_type": "stream",
     "text": [
      "\n",
      "[info] epoch train loss: 0.024436786216470604\n",
      "Epoch 234\n"
     ]
    },
    {
     "data": {
      "application/vnd.jupyter.widget-view+json": {
       "model_id": "6ea2c7bdb0694e79898590d79ee7d34e",
       "version_major": 2,
       "version_minor": 0
      },
      "text/plain": [
       "HBox(children=(IntProgress(value=0, max=140), HTML(value='')))"
      ]
     },
     "metadata": {},
     "output_type": "display_data"
    },
    {
     "name": "stdout",
     "output_type": "stream",
     "text": [
      "\n",
      "[info] epoch train loss: 0.02419898289614894\n",
      "Epoch 235\n"
     ]
    },
    {
     "data": {
      "application/vnd.jupyter.widget-view+json": {
       "model_id": "2ee2ce98b6fa4305aa1ce4b8d909f09a",
       "version_major": 2,
       "version_minor": 0
      },
      "text/plain": [
       "HBox(children=(IntProgress(value=0, max=140), HTML(value='')))"
      ]
     },
     "metadata": {},
     "output_type": "display_data"
    },
    {
     "name": "stdout",
     "output_type": "stream",
     "text": [
      "\n",
      "[info] epoch train loss: 0.02452010807329787\n",
      "Epoch 236\n"
     ]
    },
    {
     "data": {
      "application/vnd.jupyter.widget-view+json": {
       "model_id": "7763df4273f64c85bc361ce8922fcd74",
       "version_major": 2,
       "version_minor": 0
      },
      "text/plain": [
       "HBox(children=(IntProgress(value=0, max=140), HTML(value='')))"
      ]
     },
     "metadata": {},
     "output_type": "display_data"
    },
    {
     "name": "stdout",
     "output_type": "stream",
     "text": [
      "lay egg to ./Nest ... save as ./Nest/NewbornBird\n",
      "origin:\n",
      "['[CLS]', 'games', 'help', 'you', 'learn', 'and', 'play', 'god', 'games', 'in', 'which', 'players', 'must', 'control', 'virtual', 'people', 'and', 'societies', 'could', 'be', 'educational', 'says', 'research', '.', 'a', 'us', 'researcher', 'has', 'suggested', 'that', 'games', 'such', 'as', 'the', 'sims', 'could', 'be', 'a', 'good', 'way', 'to', 'teach', 'languages', '.', 'ravi', 'pu', '##rus', '##hot', '##ma', 'believes', 'that', 'the', 'world', 'of', 'the', 'sims', 'can', 'do', 'a', 'better', 'job', 'of', 'teaching', 'vocabulary', 'and', 'grammar', 'than', 'traditional', 'methods', '.', 'the', 'inherent', 'fun', 'of', 'game', 'playing', 'could', 'help', 'to', 'make', 'learning', 'languages', 'much', 'less', 'of', 'a', 'cho', '##re', 'said', 'mr', 'pu', '##rus', '##hot', '##ma', '.', 'there', 'must', 'be', 'few', 'parents', 'or', 'teachers', 'that', 'do', 'not', 'worry', 'that', 'the', 'lure', 'of', 'a', 'video', 'game', 'on', 'a', 'computer', 'or', 'console', 'is', 'hard', 'to', 'resist', 'by', 'children', 'that', 'really', 'should', 'be', 'doing', 'their', 'homework', '.', 'but', 'instead', 'of', 'fearing', 'computer', 'games', 'ravi', 'pu', '##rus', '##hot', '##ma', 'believes', 'that', 'educational', '##ists', 'particularly', 'language', 'teachers', 'should', 'embrace', 'games', '.', 'one', 'goal', 'would', 'be', 'to', 'break', 'what', 'i', 'believe', 'to', 'be', 'the', 'false', 'assumption', 'that', 'learning', 'and', 'play', 'are', 'inherently', 'opposition', '##al', 'he', 'said', '.', 'he', 'believes', 'that', 'the', 'phenomena', '##l', 'ability', 'of', 'games', 'such', 'as', 'the', 'sims', 'and', 'others', 'to', 'capture', 'the', 'interest', 'of', 'adolescent', 'audiences', 'is', 'ripe', 'for', 'exploitation', '.', 'the', 'hard', 'part', 'of', 'learning', 'any', 'language', 'said', 'mr', 'pu', '##rus', '##hot', '##ma', 'were', 'the', 'basic', 'parts', 'of', 'learning', 'what', 'different', 'words', 'refer', 'to', 'and', 'how', 'they', 'are', 'used', 'to', 'build', 'up', 'sentences', '.', 'boring', 'lessons', 'drumming', 'vocabulary', 'into', 'pupils', 'couch', '##ed', 'in', 'terms', 'they', 'do', 'not', 'understand', 'has', 'made', 'many', 'languages', 'far', 'harder', 'to', 'learn', 'than', 'they', 'should', 'be', '.', 'the', 'way', 'we', 'often', 'teach', 'foreign', 'languages', 'right', 'now', 'is', 'somewhat', 'akin', 'to', 'learning', 'to', 'ride', 'a', 'bike', 'by', 'formally', 'studying', 'gravity', 'he', 'said', '.', 'by', 'contrast', 'said', 'mr', 'pu', '##rus', '##hot', '##ma', 'learning', 'via', 'something', 'like', 'the', 'sims', 'may', 'mean', 'students', 'do', 'not', 'feel', 'like', 'they', 'are', 'studying', 'at', 'all', '.', 'this', 'was', 'because', 'the', 'sims', 'does', 'not', 'rely', 'solely', 'on', 'words', 'to', 'get', 'information', 'across', 'to', 'players', '.', 'instead', 'the', 'actions', 'of', 'its', 'computer', 'controlled', 'people', 'and', 'how', 'they', 'interact', 'with', 'their', 'world', 'often', 'makes', 'clear', 'what', 'is', 'going', 'on', '.', 'the', 'incident', '##al', 'information', 'about', 'what', 'a', 'sim', 'was', 'doing', 'could', 'reinforce', 'what', 'a', 'player', 'or', 'student', 'was', 'supposed', 'to', 'be', 'learning', 'said', 'mr', 'pu', '##rus', '##hot', '##ma', '.', 'by', 'contrast', 'many', 'language', 'lessons', 'try', 'to', 'imp', '##art', 'information', 'about']\n",
      "summary:\n",
      "['[CLS]', '##kers', '##kers', '##kers', '##kers', '##kers', '##kers', '##kers', '##kers', '##kers', '##kers', '##kers', '##kers', '##kers', '##kers', '##kers', '##kers', '##kers', '##kers', '##kers']\n",
      "real summary:\n",
      "['[CLS]', 'games', 'help', 'you', 'learn', 'and', 'play', 'god', 'games', 'in', 'which', 'players', 'must', 'control', 'virtual', 'people', 'and', 'societies', 'could']\n",
      "sentiment: 4\n",
      "y: 0\n",
      "\n",
      "\n",
      "[info] epoch train loss: 0.02555875405590525\n",
      "Epoch 237\n"
     ]
    },
    {
     "data": {
      "application/vnd.jupyter.widget-view+json": {
       "model_id": "5803195d112845e19024e32f3224c2c6",
       "version_major": 2,
       "version_minor": 0
      },
      "text/plain": [
       "HBox(children=(IntProgress(value=0, max=140), HTML(value='')))"
      ]
     },
     "metadata": {},
     "output_type": "display_data"
    },
    {
     "name": "stdout",
     "output_type": "stream",
     "text": [
      "\n",
      "[info] epoch train loss: 0.026506765721960132\n",
      "Epoch 238\n"
     ]
    },
    {
     "data": {
      "application/vnd.jupyter.widget-view+json": {
       "model_id": "c7537d8250ee49029ba9f9f9a4b10a88",
       "version_major": 2,
       "version_minor": 0
      },
      "text/plain": [
       "HBox(children=(IntProgress(value=0, max=140), HTML(value='')))"
      ]
     },
     "metadata": {},
     "output_type": "display_data"
    },
    {
     "name": "stdout",
     "output_type": "stream",
     "text": [
      "\n",
      "[info] epoch train loss: 0.02583213864813518\n",
      "Epoch 239\n"
     ]
    },
    {
     "data": {
      "application/vnd.jupyter.widget-view+json": {
       "model_id": "eed109f08f1746d7a2e6b29058f4a79f",
       "version_major": 2,
       "version_minor": 0
      },
      "text/plain": [
       "HBox(children=(IntProgress(value=0, max=140), HTML(value='')))"
      ]
     },
     "metadata": {},
     "output_type": "display_data"
    },
    {
     "name": "stdout",
     "output_type": "stream",
     "text": [
      "\n",
      "[info] epoch train loss: 0.024694526771345895\n",
      "Epoch 240\n"
     ]
    },
    {
     "data": {
      "application/vnd.jupyter.widget-view+json": {
       "model_id": "9cfbb38e6fd6430a849ced6ad0d83723",
       "version_major": 2,
       "version_minor": 0
      },
      "text/plain": [
       "HBox(children=(IntProgress(value=0, max=140), HTML(value='')))"
      ]
     },
     "metadata": {},
     "output_type": "display_data"
    },
    {
     "name": "stdout",
     "output_type": "stream",
     "text": [
      "\n",
      "[info] epoch train loss: 0.025413112744414944\n",
      "Epoch 241\n"
     ]
    },
    {
     "data": {
      "application/vnd.jupyter.widget-view+json": {
       "model_id": "2cd84f3cb2604dc48e94f086668c9319",
       "version_major": 2,
       "version_minor": 0
      },
      "text/plain": [
       "HBox(children=(IntProgress(value=0, max=140), HTML(value='')))"
      ]
     },
     "metadata": {},
     "output_type": "display_data"
    },
    {
     "name": "stdout",
     "output_type": "stream",
     "text": [
      "\n",
      "[info] epoch train loss: 0.025461113520669543\n",
      "Epoch 242\n"
     ]
    },
    {
     "data": {
      "application/vnd.jupyter.widget-view+json": {
       "model_id": "bc3ad96832364342b52fdf3bcf386ead",
       "version_major": 2,
       "version_minor": 0
      },
      "text/plain": [
       "HBox(children=(IntProgress(value=0, max=140), HTML(value='')))"
      ]
     },
     "metadata": {},
     "output_type": "display_data"
    },
    {
     "name": "stdout",
     "output_type": "stream",
     "text": [
      "\n",
      "[info] epoch train loss: 0.02341775812441418\n",
      "Epoch 243\n"
     ]
    },
    {
     "data": {
      "application/vnd.jupyter.widget-view+json": {
       "model_id": "38e4e7a508a6482bb82a802b1ead1e80",
       "version_major": 2,
       "version_minor": 0
      },
      "text/plain": [
       "HBox(children=(IntProgress(value=0, max=140), HTML(value='')))"
      ]
     },
     "metadata": {},
     "output_type": "display_data"
    },
    {
     "name": "stdout",
     "output_type": "stream",
     "text": [
      "lay egg to ./Nest ... save as ./Nest/NewbornBird\n",
      "origin:\n",
      "['[CLS]', 'blu', '##nk', '##ett', 'sorry', 'over', 'murder', 'plan', 'david', 'blu', '##nk', '##ett', 'has', 'ap', '##olo', '##gis', '##ed', 'to', 'mps', 'after', 'the', 'home', 'office', 'announced', 'prematurely', 'via', 'press', 'release', 'a', 'review', 'of', 'murder', 'laws', '.', 'the', 'home', 'secretary', 'confirmed', 'the', 'review', 'was', 'to', 'get', 'under', 'way', 'in', 'the', 'wake', 'of', 'a', 'law', 'commission', 'report', 'which', 'branded', 'the', 'current', 'murder', 'law', 'as', 'a', 'mess', '.', 'he', 'said', 'the', 'review', 'would', 'look', 'at', 'partial', 'defences', 'to', 'murder', 'including', 'pro', '##vocation', 'and', 'at', 'mandatory', 'sentences', '.', 'the', 'home', 'office', 'has', 'already', 'said', 'the', 'review', 'will', 'begin', 'next', 'year', '.', 'on', 'wednesday', 'a', 'home', 'office', 'spoke', '##sw', '##oman', 'said', 'the', 'terms', 'of', 'reference', 'for', 'the', 'review', 'had', 'not', 'been', 'established', 'but', 'it', 'was', 'likely', 'to', 'include', 'only', 'england', 'and', 'wales', '.', 'news', 'of', 'the', 'review', 'was', 'released', 'because', 'it', 'was', 'thought', 'mr', 'blu', '##nk', '##ett', 'would', 'make', 'the', 'official', 'announcement', 'in', 'a', 'commons', 'debate', 'on', 'wednesday', '.', 'but', 'the', 'announcement', 'never', 'came', 'with', 'the', 'home', 'secretary', 'saying', 'the', 'debate', 'had', 'never', 'reached', 'that', 'stage', '.', 'amid', 'opposition', 'anger', 'mr', 'blu', '##nk', '##ett', 'had', 'to', 'answer', 'an', 'emergency', 'question', 'in', 'parliament', 'on', 'thursday', '.', 'he', 'said', 'he', 'had', 'taken', 'steps', 'to', 'ensure', 'the', 'incident', 'was', 'not', 'repeated', '.', 'shadow', 'home', 'secretary', 'david', 'davis', 'welcomed', 'his', 'gr', '##acious', 'apology', 'and', 'the', 'review', 'itself', '.', 'but', 'he', 'argued', 'the', 'minister', 'should', 'have', 'volunteered', 'a', 'formal', 'statement', 'instead', 'of', 'having', 'to', 'be', 'dragged', 'to', 'face', 'mps', '.', 'in', 'its', 'report', 'the', 'law', 'commission', 'said', 'it', 'had', 'found', 'wide', 'support', 'among', 'criminal', 'justice', 'professionals', 'for', 'an', 'end', 'to', 'the', 'mandatory', 'life', 'sentence', 'for', 'murder', '.', 'the', 'panel', 'suggested', 'different', 'kinds', 'of', 'murders', 'could', 'be', 'graded', 'to', 'recognise', 'the', 'seriousness', 'of', 'the', 'offence', '.', 'but', 'the', 'home', 'office', 'said', 'mandatory', 'life', 'sentences', 'would', 'not', 'be', 'abolished', 'and', 'argued', 'courts', 'already', 'had', 'flexibility', '.', 'the', 'commission', 'an', 'independent', 'body', 'including', 'two', 'judges', 'a', 'senior', 'barrister', 'and', 'sentencing', 'experts', 'had', 'been', 'asked', 'to', 'consider', 'reforms', 'to', 'the', 'defence', 'of', 'pro', '##vocation', 'in', 'murder', 'cases', '.', 'but', 'it', 'said', 'its', 'proposals', 'were', 'unlikely', 'to', 'work', 'without', 'a', 'far', 'wider', 'review', 'of', 'the', 'law', '.', 'results', 'of', 'a', 'consultation', 'exercise', 'showed', '64', 'respondents', 'out', 'of', '146', '-', 'among', 'them', '21', 'judges', '-', 'believed', 'a', 'mandatory', 'life', 'sentence', 'for', 'every', 'murder', 'was', 'ind', '##efe', '##ns', '##ible', 'and', 'should', 'cease', '.', 'a', 'key', 'question', 'was', 'whether', 'one', 'category', 'should', 'continue', 'to', 'cover', 'all', 'types', 'of', 'murder', 'from']\n",
      "summary:\n",
      "['[CLS]', '##kers', '##kers', '##kers', '##kers', '##kers', '##kers', '##kers', '##kers', '##kers', '##kers', '##kers', '##kers', '##kers', '##kers', '##kers', '##kers', '##kers', '##kers', '##kers']\n",
      "real summary:\n",
      "['[CLS]', 'blu', '##nk', '##ett', 'sorry', 'over', 'murder', 'plan', 'david', 'blu', '##nk', '##ett', 'has', 'ap', '##olo', '##gis', '##ed', 'to', 'mps']\n",
      "sentiment: 4\n",
      "y: 4\n",
      "\n",
      "\n",
      "[info] epoch train loss: 0.02330286749653356\n",
      "Epoch 244\n"
     ]
    },
    {
     "data": {
      "application/vnd.jupyter.widget-view+json": {
       "model_id": "0e36edc959574b6c8ef42b51207abda3",
       "version_major": 2,
       "version_minor": 0
      },
      "text/plain": [
       "HBox(children=(IntProgress(value=0, max=140), HTML(value='')))"
      ]
     },
     "metadata": {},
     "output_type": "display_data"
    },
    {
     "name": "stdout",
     "output_type": "stream",
     "text": [
      "\n",
      "[info] epoch train loss: 0.025608861768223523\n",
      "Epoch 245\n"
     ]
    },
    {
     "data": {
      "application/vnd.jupyter.widget-view+json": {
       "model_id": "406764ec5f3b40a9acc840bb6dc6d772",
       "version_major": 2,
       "version_minor": 0
      },
      "text/plain": [
       "HBox(children=(IntProgress(value=0, max=140), HTML(value='')))"
      ]
     },
     "metadata": {},
     "output_type": "display_data"
    },
    {
     "name": "stdout",
     "output_type": "stream",
     "text": [
      "\n",
      "[info] epoch train loss: 0.025782263126818146\n",
      "Epoch 246\n"
     ]
    },
    {
     "data": {
      "application/vnd.jupyter.widget-view+json": {
       "model_id": "d9560690d2fb46c6b493b47a551b346d",
       "version_major": 2,
       "version_minor": 0
      },
      "text/plain": [
       "HBox(children=(IntProgress(value=0, max=140), HTML(value='')))"
      ]
     },
     "metadata": {},
     "output_type": "display_data"
    },
    {
     "name": "stdout",
     "output_type": "stream",
     "text": [
      "\n",
      "[info] epoch train loss: 0.02653697699037301\n",
      "Epoch 247\n"
     ]
    },
    {
     "data": {
      "application/vnd.jupyter.widget-view+json": {
       "model_id": "262890385dbb43b198b625f41476f521",
       "version_major": 2,
       "version_minor": 0
      },
      "text/plain": [
       "HBox(children=(IntProgress(value=0, max=140), HTML(value='')))"
      ]
     },
     "metadata": {},
     "output_type": "display_data"
    },
    {
     "name": "stdout",
     "output_type": "stream",
     "text": [
      "\n",
      "[info] epoch train loss: 0.026909135284937744\n",
      "Epoch 248\n"
     ]
    },
    {
     "data": {
      "application/vnd.jupyter.widget-view+json": {
       "model_id": "35aad4b571a645f2873d447421b93996",
       "version_major": 2,
       "version_minor": 0
      },
      "text/plain": [
       "HBox(children=(IntProgress(value=0, max=140), HTML(value='')))"
      ]
     },
     "metadata": {},
     "output_type": "display_data"
    },
    {
     "name": "stdout",
     "output_type": "stream",
     "text": [
      "\n",
      "[info] epoch train loss: 0.026416576674585357\n",
      "Epoch 249\n"
     ]
    },
    {
     "data": {
      "application/vnd.jupyter.widget-view+json": {
       "model_id": "1eaeb11d472d4e61922d9480e1dd925d",
       "version_major": 2,
       "version_minor": 0
      },
      "text/plain": [
       "HBox(children=(IntProgress(value=0, max=140), HTML(value='')))"
      ]
     },
     "metadata": {},
     "output_type": "display_data"
    },
    {
     "name": "stdout",
     "output_type": "stream",
     "text": [
      "\n",
      "[info] epoch train loss: 0.024757125109333724\n",
      "Epoch 250\n"
     ]
    },
    {
     "data": {
      "application/vnd.jupyter.widget-view+json": {
       "model_id": "dac59fa024f8484babdbc9f5647f3572",
       "version_major": 2,
       "version_minor": 0
      },
      "text/plain": [
       "HBox(children=(IntProgress(value=0, max=140), HTML(value='')))"
      ]
     },
     "metadata": {},
     "output_type": "display_data"
    },
    {
     "name": "stdout",
     "output_type": "stream",
     "text": [
      "lay egg to ./Nest ... save as ./Nest/NewbornBird\n",
      "origin:\n",
      "['[CLS]', 'an', '##el', '##ka', 'eyes', 'man', 'city', 'departure', 'striker', 'nicolas', 'an', '##el', '##ka', 'reportedly', 'wants', 'to', 'leave', 'manchester', 'city', 'in', 'search', 'of', 'champions', 'league', 'football', '.', 'an', '##el', '##ka', '25', 'is', 'in', 'talks', 'over', 'a', 'contract', 'extension', 'beyond', '2007', 'with', 'city', 'but', 'is', 'believed', 'to', 'fear', 'his', 'career', 'will', 'go', 'stale', 'if', 'he', 'stays', 'at', 'the', 'club', '.', 'the', 'news', 'of', 'the', 'world', 'reports', 'that', 'an', '##el', '##ka', 'told', 'a', 'french', 'magazine', ':', 'i', 'either', 'decide', 'to', 'win', 'titles', 'or', 'to', 'have', 'an', 'easy', 'life', '.', 'i', 'think', 'i', 'will', 'always', 'choose', 'football', 'if', 'a', 'great', 'club', 'makes', 'me', 'an', 'offer', '.', 'he', 'added', ':', 'to', 'win', 'titles', 'you', 'need', 'players', 'who', 'have', 'the', 'capability', 'of', 'doing', 'so', '.', 'if', 'we', 'st', '##ag', '##nate', 'between', 'eighth', 'and', '15th', 'place', 'it', 's', 'impossible', 'to', 'progress', '.', 'if', 'i', 'am', 'going', 'to', 'score', 'goals', 'and', 'not', 'win', 'there', 'is', 'a', 'risk', 'it', 'is', 'going', 'to', 'create', 'a', 'feeling', 'of', 'being', 'fed', 'up', '.', 'an', '##el', '##ka', 'has', 'earned', 'a', 'reputation', 'for', 'being', 'a', 'difficult', 'character', 'to', 'handle', 'after', 'spells', 'at', 'arsenal', 'real', 'madrid', 'and', 'paris', 'st', 'germain', 'and', 'he', 'feels', 'that', 'is', 'now', 'coming', 'back', 'to', 'haunt', 'him', '.', 'i', 'am', 'in', 'talks', 'to', 'sign', 'an', 'extension', 'to', 'my', 'contract', 'he', 'said', '.', 'i', 'am', 'well', 'here', 'but', 'the', 'sporting', 'aspect', 'also', 'comes', 'into', 'account', '.', 'playing', 'for', 'eighth', 'place', 'is', 'good', 'but', 'i', 'miss', 'the', 'champions', 'league', '.', 'i', 'won', 'it', 'with', 'real', 'madrid', 'in', '2000', 'and', 'i', 'need', 'to', 'be', 'playing', 'in', 'it', '-', 'and', 'i', 'should', 'be', 'playing', 'in', 'it', '.', 'i', 'm', 'not', 'in', 'it', 'because', 'of', 'things', 'that', 'have', 'happened', 'in', 'the', 'past', 'and', 'had', 'nothing', 'to', 'do', 'with', 'football', '.', 'but', 'i', 'don', 't', 'blame', 'anyone', '.', 'it', 's', 'a', 'bit', 'my', 'fault', '.', '[SEP]', '[PAD]', '[PAD]', '[PAD]', '[PAD]', '[PAD]', '[PAD]', '[PAD]', '[PAD]', '[PAD]', '[PAD]', '[PAD]', '[PAD]', '[PAD]', '[PAD]', '[PAD]', '[PAD]', '[PAD]', '[PAD]', '[PAD]', '[PAD]', '[PAD]', '[PAD]', '[PAD]', '[PAD]', '[PAD]', '[PAD]', '[PAD]', '[PAD]', '[PAD]', '[PAD]', '[PAD]', '[PAD]', '[PAD]', '[PAD]', '[PAD]', '[PAD]', '[PAD]', '[PAD]', '[PAD]', '[PAD]', '[PAD]', '[PAD]', '[PAD]', '[PAD]', '[PAD]', '[PAD]', '[PAD]', '[PAD]', '[PAD]', '[PAD]', '[PAD]', '[PAD]', '[PAD]', '[PAD]', '[PAD]', '[PAD]', '[PAD]', '[PAD]', '[PAD]', '[PAD]', '[PAD]', '[PAD]', '[PAD]', '[PAD]', '[PAD]', '[PAD]', '[PAD]', '[PAD]', '[PAD]', '[PAD]', '[PAD]', '[PAD]', '[PAD]', '[PAD]', '[PAD]', '[PAD]', '[PAD]', '[PAD]', '[PAD]', '[PAD]', '[PAD]', '[PAD]', '[PAD]', '[PAD]', '[PAD]', '[PAD]', '[PAD]', '[PAD]', '[PAD]', '[PAD]', '[PAD]', '[PAD]', '[PAD]', '[PAD]', '[PAD]', '[PAD]', '[PAD]', '[PAD]', '[PAD]', '[PAD]', '[PAD]']\n",
      "summary:\n",
      "['[CLS]', '##kers', '##kers', '##kers', '##kers', '##kers', '##kers', '##kers', '##kers', '##kers', '##kers', '##kers', '##kers', '##kers', '##kers', '##kers', '##kers', '##kers', '##kers', '##kers']\n",
      "real summary:\n",
      "['[CLS]', 'an', '##el', '##ka', 'eyes', 'man', 'city', 'departure', 'striker', 'nicolas', 'an', '##el', '##ka', 'reportedly', 'wants', 'to', 'leave', 'manchester', 'city']\n",
      "sentiment: 4\n",
      "y: 2\n",
      "\n",
      "\n",
      "[info] epoch train loss: 0.025220837415175522\n",
      "Epoch 251\n"
     ]
    },
    {
     "data": {
      "application/vnd.jupyter.widget-view+json": {
       "model_id": "36d5a7c2d41845298a3e7b7a1e68fd03",
       "version_major": 2,
       "version_minor": 0
      },
      "text/plain": [
       "HBox(children=(IntProgress(value=0, max=140), HTML(value='')))"
      ]
     },
     "metadata": {},
     "output_type": "display_data"
    },
    {
     "name": "stdout",
     "output_type": "stream",
     "text": [
      "\n",
      "[info] epoch train loss: 0.02543541172789625\n",
      "Epoch 252\n"
     ]
    },
    {
     "data": {
      "application/vnd.jupyter.widget-view+json": {
       "model_id": "5d771e0b81904734905efdb926c24a89",
       "version_major": 2,
       "version_minor": 0
      },
      "text/plain": [
       "HBox(children=(IntProgress(value=0, max=140), HTML(value='')))"
      ]
     },
     "metadata": {},
     "output_type": "display_data"
    },
    {
     "name": "stdout",
     "output_type": "stream",
     "text": [
      "\n",
      "[info] epoch train loss: 0.02500963725347776\n",
      "Epoch 253\n"
     ]
    },
    {
     "data": {
      "application/vnd.jupyter.widget-view+json": {
       "model_id": "5b754aff700f473ab8517c8df0377620",
       "version_major": 2,
       "version_minor": 0
      },
      "text/plain": [
       "HBox(children=(IntProgress(value=0, max=140), HTML(value='')))"
      ]
     },
     "metadata": {},
     "output_type": "display_data"
    },
    {
     "name": "stdout",
     "output_type": "stream",
     "text": [
      "\n",
      "[info] epoch train loss: 0.025542669402719195\n",
      "Epoch 254\n"
     ]
    },
    {
     "data": {
      "application/vnd.jupyter.widget-view+json": {
       "model_id": "0a982a2a290b408292617e28080321e4",
       "version_major": 2,
       "version_minor": 0
      },
      "text/plain": [
       "HBox(children=(IntProgress(value=0, max=140), HTML(value='')))"
      ]
     },
     "metadata": {},
     "output_type": "display_data"
    },
    {
     "name": "stdout",
     "output_type": "stream",
     "text": [
      "\n",
      "[info] epoch train loss: 0.025367388183755883\n",
      "Epoch 255\n"
     ]
    },
    {
     "data": {
      "application/vnd.jupyter.widget-view+json": {
       "model_id": "4b343209425547a4b7790e89abe73c6f",
       "version_major": 2,
       "version_minor": 0
      },
      "text/plain": [
       "HBox(children=(IntProgress(value=0, max=140), HTML(value='')))"
      ]
     },
     "metadata": {},
     "output_type": "display_data"
    },
    {
     "name": "stdout",
     "output_type": "stream",
     "text": [
      "\n",
      "[info] epoch train loss: 0.025056708691286036\n",
      "Epoch 256\n"
     ]
    },
    {
     "data": {
      "application/vnd.jupyter.widget-view+json": {
       "model_id": "9ad5053dcf0f4c8084de439ed83ac85a",
       "version_major": 2,
       "version_minor": 0
      },
      "text/plain": [
       "HBox(children=(IntProgress(value=0, max=140), HTML(value='')))"
      ]
     },
     "metadata": {},
     "output_type": "display_data"
    },
    {
     "name": "stdout",
     "output_type": "stream",
     "text": [
      "\n",
      "[info] epoch train loss: 0.024487182952274977\n",
      "Epoch 257\n"
     ]
    },
    {
     "data": {
      "application/vnd.jupyter.widget-view+json": {
       "model_id": "6d68b7952a384554a4353bee685b78b2",
       "version_major": 2,
       "version_minor": 0
      },
      "text/plain": [
       "HBox(children=(IntProgress(value=0, max=140), HTML(value='')))"
      ]
     },
     "metadata": {},
     "output_type": "display_data"
    },
    {
     "name": "stdout",
     "output_type": "stream",
     "text": [
      "\n",
      "[info] epoch train loss: 0.02407558689967979\n",
      "Epoch 258\n"
     ]
    },
    {
     "data": {
      "application/vnd.jupyter.widget-view+json": {
       "model_id": "81260c440d3f47f6935edbca0ebf203f",
       "version_major": 2,
       "version_minor": 0
      },
      "text/plain": [
       "HBox(children=(IntProgress(value=0, max=140), HTML(value='')))"
      ]
     },
     "metadata": {},
     "output_type": "display_data"
    },
    {
     "name": "stdout",
     "output_type": "stream",
     "text": [
      "lay egg to ./Nest ... save as ./Nest/NewbornBird\n",
      "origin:\n",
      "['[CLS]', 'india', 'calls', 'for', 'fair', 'trade', 'rules', 'india', 'which', 'attends', 'the', 'g', '##7', 'meeting', 'of', 'seven', 'leading', 'industrial', '##ised', 'nations', 'on', 'friday', 'is', 'unlikely', 'to', 'be', 'cow', '##ed', 'by', 'its', 'newcomer', 'status', '.', 'in', 'london', 'on', 'thursday', 'ahead', 'of', 'the', 'meeting', 'india', 's', 'finance', 'minister', 'lashed', 'out', 'at', 'the', 'restrictive', 'trade', 'policies', 'of', 'the', 'g', '##7', 'nations', '.', 'he', 'objected', 'to', 'subsidies', 'on', 'agriculture', 'that', 'make', 'it', 'hard', 'for', 'developing', 'nations', 'like', 'india', 'to', 'compete', '.', 'he', 'also', 'called', 'for', 'reform', 'of', 'the', 'united', 'nations', 'the', 'world', 'bank', 'and', 'the', 'im', '##f', '.', 'pal', '##ania', '##ppa', '##n', 'chi', '##dam', '##bara', '##m', 'india', 's', 'finance', 'minister', 'argued', 'that', 'these', 'organisations', 'need', 'to', 'take', 'into', 'account', 'the', 'changing', 'world', 'order', 'given', 'india', 'and', 'china', 's', 'integration', 'into', 'the', 'global', 'economy', '.', 'he', 'said', 'the', 'issue', 'is', 'not', 'global', '##isation', 'but', 'the', 'terms', 'of', 'engagement', 'in', 'global', '##isation', '.', 'mr', 'chi', '##dam', '##bara', '##m', 'is', 'attending', 'the', 'g', '##7', 'meeting', 'as', 'part', 'of', 'the', 'g', '##20', 'group', 'of', 'nations', 'which', 'account', 'for', 'two', 'thirds', 'of', 'the', 'world', 's', 'population', '.', 'at', 'a', 'conference', 'on', 'developing', 'enterprise', 'hosted', 'by', 'uk', 'finance', 'minister', 'gordon', 'brown', 'on', 'friday', 'he', 'said', 'that', 'he', 'was', 'in', 'favour', 'of', 'floating', 'exchange', 'rates', 'because', 'they', 'help', 'countries', 'cope', 'with', 'economic', 'shocks', '.', 'a', 'flexible', 'exchange', 'rate', 'is', 'one', 'more', 'channel', 'for', 'absorbing', 'both', 'positive', 'and', 'negative', 'shocks', 'he', 'told', 'the', 'conference', '.', 'india', 'along', 'with', 'china', 'brazil', 'south', 'africa', 'and', 'russia', 'has', 'been', 'invited', 'to', 'take', 'part', 'in', 'the', 'g', '##7', 'meeting', 'taking', 'place', 'in', 'london', 'on', 'friday', 'and', 'saturday', '.', 'china', 'is', 'expected', 'to', 'face', 'renewed', 'pressure', 'to', 'abandon', 'its', 'fixed', 'exchange', 'rate', 'which', 'g', '##7', 'nations', 'in', 'particular', 'the', 'us', 'have', 'blamed', 'for', 'a', 'surge', 'in', 'cheap', 'chinese', 'exports', '.', 'some', 'countries', 'have', 'tried', 'to', 'use', 'fixed', 'exchange', 'rates', '.', 'i', 'do', 'not', 'wish', 'to', 'make', 'any', 'judgement', '##s', 'mr', 'chi', '##dam', '##bara', '##m', 'said', '.', 'separately', 'the', 'im', '##f', 'warned', 'on', 'thursday', 'that', 'india', 's', 'budget', 'deficit', 'was', 'too', 'large', 'and', 'would', 'ham', '##per', 'the', 'country', 's', 'economic', 'growth', 'which', 'it', 'forecast', 'to', 'be', 'around', '6', '.', '5', '%', 'in', 'the', 'year', 'to', 'march', '2005', '.', 'in', 'the', 'year', 'to', 'march', '2004', 'the', 'indian', 'economy', 'grew', 'by', '8', '.', '5', '%', '.', '[SEP]', '[PAD]', '[PAD]', '[PAD]', '[PAD]', '[PAD]', '[PAD]', '[PAD]', '[PAD]', '[PAD]', '[PAD]', '[PAD]', '[PAD]', '[PAD]', '[PAD]', '[PAD]', '[PAD]', '[PAD]', '[PAD]', '[PAD]', '[PAD]', '[PAD]', '[PAD]', '[PAD]', '[PAD]']\n",
      "summary:\n",
      "['[CLS]', '##kers', '##kers', '##kers', '##kers', '##kers', '##kers', '##kers', '##kers', '##kers', '##kers', '##kers', '##kers', '##kers', '##kers', '##kers', '##kers', '##kers', '##kers', '##kers']\n",
      "real summary:\n",
      "['[CLS]', 'india', 'calls', 'for', 'fair', 'trade', 'rules', 'india', 'which', 'attends', 'the', 'g', '##7', 'meeting', 'of', 'seven', 'leading', 'industrial', '##ised']\n",
      "sentiment: 4\n",
      "y: 1\n",
      "\n",
      "\n",
      "[info] epoch train loss: 0.02453585028351678\n",
      "Epoch 259\n"
     ]
    },
    {
     "data": {
      "application/vnd.jupyter.widget-view+json": {
       "model_id": "9fbcdcc7ee754d1fbab3a4fd86e6b52c",
       "version_major": 2,
       "version_minor": 0
      },
      "text/plain": [
       "HBox(children=(IntProgress(value=0, max=140), HTML(value='')))"
      ]
     },
     "metadata": {},
     "output_type": "display_data"
    },
    {
     "name": "stdout",
     "output_type": "stream",
     "text": [
      "\n",
      "[info] epoch train loss: 0.024996792735369207\n",
      "Epoch 260\n"
     ]
    },
    {
     "data": {
      "application/vnd.jupyter.widget-view+json": {
       "model_id": "3823801d94f14144a4f4017fc5583e6f",
       "version_major": 2,
       "version_minor": 0
      },
      "text/plain": [
       "HBox(children=(IntProgress(value=0, max=140), HTML(value='')))"
      ]
     },
     "metadata": {},
     "output_type": "display_data"
    },
    {
     "name": "stdout",
     "output_type": "stream",
     "text": [
      "\n",
      "[info] epoch train loss: 0.02443222016432952\n",
      "Epoch 261\n"
     ]
    },
    {
     "data": {
      "application/vnd.jupyter.widget-view+json": {
       "model_id": "30a48231512843e1b652dce5bb30013a",
       "version_major": 2,
       "version_minor": 0
      },
      "text/plain": [
       "HBox(children=(IntProgress(value=0, max=140), HTML(value='')))"
      ]
     },
     "metadata": {},
     "output_type": "display_data"
    },
    {
     "name": "stdout",
     "output_type": "stream",
     "text": [
      "\n",
      "[info] epoch train loss: 0.02328538304333989\n",
      "Epoch 262\n"
     ]
    },
    {
     "data": {
      "application/vnd.jupyter.widget-view+json": {
       "model_id": "44728e71547c44cdb89703d1ed6c0a31",
       "version_major": 2,
       "version_minor": 0
      },
      "text/plain": [
       "HBox(children=(IntProgress(value=0, max=140), HTML(value='')))"
      ]
     },
     "metadata": {},
     "output_type": "display_data"
    },
    {
     "name": "stdout",
     "output_type": "stream",
     "text": [
      "\n",
      "[info] epoch train loss: 0.022525557091967536\n",
      "Epoch 263\n"
     ]
    },
    {
     "data": {
      "application/vnd.jupyter.widget-view+json": {
       "model_id": "1ec2931df8bf4de2a51151d4ca2556d9",
       "version_major": 2,
       "version_minor": 0
      },
      "text/plain": [
       "HBox(children=(IntProgress(value=0, max=140), HTML(value='')))"
      ]
     },
     "metadata": {},
     "output_type": "display_data"
    },
    {
     "name": "stdout",
     "output_type": "stream",
     "text": [
      "\n",
      "[info] epoch train loss: 0.022959965668798786\n",
      "Epoch 264\n"
     ]
    },
    {
     "data": {
      "application/vnd.jupyter.widget-view+json": {
       "model_id": "fad81c4519be464e8c59841833b46c80",
       "version_major": 2,
       "version_minor": 0
      },
      "text/plain": [
       "HBox(children=(IntProgress(value=0, max=140), HTML(value='')))"
      ]
     },
     "metadata": {},
     "output_type": "display_data"
    },
    {
     "name": "stdout",
     "output_type": "stream",
     "text": [
      "\n",
      "[info] epoch train loss: 0.023440077188175427\n",
      "Epoch 265\n"
     ]
    },
    {
     "data": {
      "application/vnd.jupyter.widget-view+json": {
       "model_id": "6705aa02cb66468a993de37c3df8bde5",
       "version_major": 2,
       "version_minor": 0
      },
      "text/plain": [
       "HBox(children=(IntProgress(value=0, max=140), HTML(value='')))"
      ]
     },
     "metadata": {},
     "output_type": "display_data"
    },
    {
     "name": "stdout",
     "output_type": "stream",
     "text": [
      "lay egg to ./Nest ... save as ./Nest/NewbornBird\n",
      "origin:\n",
      "['[CLS]', 'media', 'ga', '##dgets', 'get', 'moving', 'pocket', '-', 'sized', 'devices', 'that', 'let', 'people', 'carry', 'around', 'video', 'and', 'images', 'are', 'set', 'to', 'have', 'a', 'big', 'year', 'in', '2005', 'according', 'to', 'industry', 'experts', '.', 'last', 'year', 'saw', 'the', 'emergence', 'of', 'portable', 'media', 'players', 'such', 'as', 'the', 'windows', '-', 'based', 'creative', 'zen', 'portable', 'media', 'player', 'the', 'samsung', 'yep', '##p', 'the', 'ir', '##iver', 'pm', '##c', '-', '100', 'and', 'the', 'arch', '##os', 'av', '##400', 'series', 'among', 'others', '.', 'but', 'this', 'year', 'they', 'are', 'set', 'to', 'get', 'smarter', 'and', 'more', 'connected', 'to', 'allow', 'people', 'to', 'find', 'more', 'video', 'to', 'watch', 'on', 'them', '.', 'arch', '##os', 'launched', 'its', 'latest', 'range', 'of', 'its', 'linux', '-', 'based', 'portable', 'media', 'devices', 'at', 'the', 'consumer', 'electronics', 'show', 'in', 'las', 'vegas', 'on', 'friday', '.', 'dubbed', 'the', 'pocket', 'media', 'assistant', 'pm', '##a', '##43', '##0', 'it', 'crucial', '##ly', 'has', 'wi', '-', 'fi', 'capability', 'built', '-', 'in', 'for', 'the', 'first', 'time', '.', 'consumers', 'are', 'showing', 'a', 'great', 'thirst', 'for', 'devices', 'that', 'store', 'all', 'their', 'media', 'in', 'one', 'place', 'for', 'anywhere', 'access', 'said', 'henri', 'cr', '##oh', '##as', 'chief', 'of', 'arch', '##os', '.', 'and', 'now', 'those', 'consumers', 'can', 'stay', 'connected', 'and', 'productive', 'at', 'the', 'same', 'time', '.', 'arch', '##os', 'said', 'the', 'focus', 'for', 'the', 'device', 'is', 'to', 'be', 'the', 'second', 'ga', '##dget', 'in', 'people', 's', 'pockets', 'after', 'the', 'mobile', '.', 'unlike', 'windows', '-', 'based', 'players', 'the', 'arch', '##os', 'av', '##400', 'series', 'devices', 'have', 'always', 'been', 'able', 'to', 'record', 'from', 'any', 'video', 'source', 'such', 'as', 'tv', '##s', 'as', 'well', 'as', 'playback', '.', 'the', 'content', 'put', 'onto', 'the', 'devices', 'is', 'copy', 'protected', 'so', 'cannot', 'then', 'be', 'swapped', 'to', 'another', 'device', '.', 'recording', 'is', 'perhaps', 'a', 'crucial', 'functionality', 'for', 'those', 'who', 'have', 'not', 'seen', 'the', 'point', 'of', 'portable', 'video', 'if', 'there', 'is', 'not', 'a', 'lot', 'of', 'video', 'to', 'watch', 'on', 'it', '.', 'and', 'wi', '-', 'fi', 'connectivity', 'opens', 'up', 'the', 'possibility', 'of', 'content', 'delivery', 'via', 'a', 'high', '-', 'speed', 'wireless', 'link', '.', 'arch', '##os', 'also', 'announced', 'that', 'it', 'would', 'open', 'up', 'the', 'software', 'development', 'kit', 'to', 'linux', 'developers', 'so', 'that', 'more', 'applications', 'could', 'be', 'created', 'for', 'the', 'device', '.', 'microsoft', 'also', 'made', 'some', 'announcements', 'in', 'the', 'portable', 'media', 'arena', 'at', 'ce', '##s', 'primarily', 'for', 'us', 'consumers', 'though', '.', 'it', 'has', 'agreed', 'a', 'content', 'deal', 'with', 'personal', 'video', 'recorder', 'company', 'ti', '##vo', 'which', 'bill', 'gates', 'also', 'showcased', 'in', 'his', 'keynote', 'speech', 'at', 'ce', '##s', '.', 'the', 'ti', '##vo', 'to', 'go', 'service', 'means', 'that', 'us', 'consumers', 'will', 'be', 'able', 'to', 'take', 'any']\n",
      "summary:\n",
      "['[CLS]', '##kers', '##kers', '##kers', '##kers', '##kers', '##kers', '##kers', '##kers', '##kers', '##kers', '##kers', '##kers', '##kers', '##kers', '##kers', '##kers', '##kers', '##kers', '##kers']\n",
      "real summary:\n",
      "['[CLS]', 'media', 'ga', '##dgets', 'get', 'moving', 'pocket', '-', 'sized', 'devices', 'that', 'let', 'people', 'carry', 'around', 'video', 'and', 'images', 'are']\n",
      "sentiment: 4\n",
      "y: 0\n",
      "\n",
      "\n",
      "[info] epoch train loss: 0.024245203573288368\n",
      "Epoch 266\n"
     ]
    },
    {
     "data": {
      "application/vnd.jupyter.widget-view+json": {
       "model_id": "a20cc621f08145bba47878ad2745f5c5",
       "version_major": 2,
       "version_minor": 0
      },
      "text/plain": [
       "HBox(children=(IntProgress(value=0, max=140), HTML(value='')))"
      ]
     },
     "metadata": {},
     "output_type": "display_data"
    },
    {
     "name": "stdout",
     "output_type": "stream",
     "text": [
      "\n",
      "[info] epoch train loss: 0.023820177989552504\n",
      "Epoch 267\n"
     ]
    },
    {
     "data": {
      "application/vnd.jupyter.widget-view+json": {
       "model_id": "e086f545468a4d8b8412aae8d4e28e2b",
       "version_major": 2,
       "version_minor": 0
      },
      "text/plain": [
       "HBox(children=(IntProgress(value=0, max=140), HTML(value='')))"
      ]
     },
     "metadata": {},
     "output_type": "display_data"
    },
    {
     "name": "stdout",
     "output_type": "stream",
     "text": [
      "\n",
      "[info] epoch train loss: 0.021380607487415965\n",
      "Epoch 268\n"
     ]
    },
    {
     "data": {
      "application/vnd.jupyter.widget-view+json": {
       "model_id": "8c3b556c3904454287ccb9892cb7cf2b",
       "version_major": 2,
       "version_minor": 0
      },
      "text/plain": [
       "HBox(children=(IntProgress(value=0, max=140), HTML(value='')))"
      ]
     },
     "metadata": {},
     "output_type": "display_data"
    },
    {
     "name": "stdout",
     "output_type": "stream",
     "text": [
      "\n",
      "[info] epoch train loss: 0.019867541762711077\n",
      "Epoch 269\n"
     ]
    },
    {
     "data": {
      "application/vnd.jupyter.widget-view+json": {
       "model_id": "ef09b851bdaf4496935430a2ecdb0d1d",
       "version_major": 2,
       "version_minor": 0
      },
      "text/plain": [
       "HBox(children=(IntProgress(value=0, max=140), HTML(value='')))"
      ]
     },
     "metadata": {},
     "output_type": "display_data"
    },
    {
     "name": "stdout",
     "output_type": "stream",
     "text": [
      "\n",
      "[info] epoch train loss: 0.02106554143854683\n",
      "Epoch 270\n"
     ]
    },
    {
     "data": {
      "application/vnd.jupyter.widget-view+json": {
       "model_id": "b619c6a631084578923c598bbd8b63e6",
       "version_major": 2,
       "version_minor": 0
      },
      "text/plain": [
       "HBox(children=(IntProgress(value=0, max=140), HTML(value='')))"
      ]
     },
     "metadata": {},
     "output_type": "display_data"
    },
    {
     "name": "stdout",
     "output_type": "stream",
     "text": [
      "\n",
      "[info] epoch train loss: 0.02091790005700115\n",
      "Epoch 271\n"
     ]
    },
    {
     "data": {
      "application/vnd.jupyter.widget-view+json": {
       "model_id": "8a4058e7f6544bd5a9f2cbac97abf2b5",
       "version_major": 2,
       "version_minor": 0
      },
      "text/plain": [
       "HBox(children=(IntProgress(value=0, max=140), HTML(value='')))"
      ]
     },
     "metadata": {},
     "output_type": "display_data"
    },
    {
     "name": "stdout",
     "output_type": "stream",
     "text": [
      "\n",
      "[info] epoch train loss: 0.020912032846190698\n",
      "Epoch 272\n"
     ]
    },
    {
     "data": {
      "application/vnd.jupyter.widget-view+json": {
       "model_id": "e2eb6500c8c64c4eb8dc8cd07b5f37fb",
       "version_major": 2,
       "version_minor": 0
      },
      "text/plain": [
       "HBox(children=(IntProgress(value=0, max=140), HTML(value='')))"
      ]
     },
     "metadata": {},
     "output_type": "display_data"
    },
    {
     "name": "stdout",
     "output_type": "stream",
     "text": [
      "lay egg to ./Nest ... save as ./Nest/NewbornBird\n",
      "origin:\n",
      "['[CLS]', 'soaring', 'oil', 'hits', 'world', 'economy', 'the', 'soaring', 'cost', 'of', 'oil', 'has', 'hit', 'global', 'economic', 'growth', 'although', 'world', 's', 'major', 'economies', 'should', 'weather', 'the', 'storm', 'of', 'price', 'rises', 'according', 'to', 'the', 'o', '##ec', '##d', '.', 'in', 'its', 'latest', 'bi', '-', 'annual', 'report', 'the', 'o', '##ec', '##d', 'cut', 'its', 'growth', 'predictions', 'for', 'the', 'world', 's', 'main', 'industrial', '##ised', 'regions', '.', 'us', 'growth', 'would', 'reach', '4', '.', '4', '%', 'in', '2004', 'but', 'fall', 'to', '3', '.', '3', '%', 'next', 'year', 'from', 'a', 'previous', 'estimate', 'of', '3', '.', '7', '%', 'the', 'o', '##ec', '##d', 'said', '.', 'however', 'the', 'paris', '-', 'based', 'economics', 'think', 'tank', 'said', 'it', 'believed', 'the', 'global', 'economy', 'could', 'still', 'regain', 'momentum', '.', 'forecast', '##s', 'for', 'japanese', 'growth', 'were', 'also', 'scaled', 'back', 'to', '4', '.', '0', '%', 'from', '4', '.', '4', '%', 'this', 'year', 'and', '2', '.', '1', '%', 'from', '2', '.', '8', '%', 'in', '2005', '.', 'but', 'the', 'outlook', 'was', 'worst', 'for', 'the', '12', '-', 'member', 'euro', '##zone', 'bloc', 'with', 'already', 'slug', '##gis', '##h', 'growth', 'forecast', '##s', 'slipping', 'to', '1', '.', '8', '%', 'from', '2', '.', '0', '%', 'this', 'year', 'and', '1', '.', '9', '%', 'from', '2', '.', '4', '%', 'in', '2005', 'the', 'o', '##ec', '##d', 'said', '.', 'overall', 'the', 'report', 'forecast', 'total', 'growth', 'of', '3', '.', '6', '%', 'in', '2004', 'for', 'the', '30', 'member', 'countries', 'of', 'the', 'o', '##ec', '##d', 'slipping', 'to', '2', '.', '9', '%', 'next', 'year', 'before', 'recovering', 'to', '3', '.', '1', '%', 'in', '2006', '.', 'there', 'are', 'nonetheless', 'good', 'reasons', 'to', 'believe', 'that', 'despite', 'recent', 'oil', 'price', 'turbulence', 'the', 'world', 'economy', 'will', 'regain', 'momentum', 'in', 'a', 'not', '-', 'too', '-', 'distant', 'future', 'said', 'jean', '-', 'philippe', 'cot', '##is', 'the', 'o', '##ec', '##d', 's', 'chief', 'economist', '.', 'the', 'price', 'of', 'crude', 'is', 'about', '50', '%', 'higher', 'than', 'it', 'was', 'at', 'the', 'start', 'of', '2004', 'but', 'down', 'on', 'the', 'record', 'high', 'of', '$', '55', '.', '67', 'set', 'in', 'late', 'october', '.', 'a', 'dip', 'in', 'oil', 'prices', 'and', 'improving', 'jobs', 'prospects', 'would', 'improve', 'consumer', 'confidence', 'and', 'spending', 'the', 'o', '##ec', '##d', 'said', '.', 'the', 'oil', 'shock', 'is', 'not', 'enormous', 'by', 'historical', 'standards', '-', 'we', 'have', 'seen', 'worse', 'in', 'the', 'seventies', '.', 'if', 'the', 'oil', 'price', 'does', 'not', 'rise', 'any', 'further', 'then', 'we', 'think', 'the', 'shock', 'can', 'be', 'absorbed', 'within', 'the', 'next', 'few', 'quarters', 'vincent', 'ko', '##en', 'a', 'senior', 'economist', 'with', 'the', 'o', '##ec', '##d', 'told', 'the', 'bbc', 's', 'world', 'business', 'report', '.', 'the', 'recovery', 'that', 'was', 'underway', 'and', 'has']\n",
      "summary:\n",
      "['[CLS]', '##kers', '##kers', '##kers', '##kers', '##kers', '##kers', '##kers', '##kers', '##kers', '##kers', '##kers', '##kers', '##kers', '##kers', '##kers', '##kers', '##kers', '##kers', '##kers']\n",
      "real summary:\n",
      "['[CLS]', 'soaring', 'oil', 'hits', 'world', 'economy', 'the', 'soaring', 'cost', 'of', 'oil', 'has', 'hit', 'global', 'economic', 'growth', 'although', 'world', 's']\n",
      "sentiment: 4\n",
      "y: 1\n",
      "\n",
      "\n",
      "[info] epoch train loss: 0.02085758584931219\n",
      "Epoch 273\n"
     ]
    },
    {
     "data": {
      "application/vnd.jupyter.widget-view+json": {
       "model_id": "536b3a7346154c46a4fc084413261267",
       "version_major": 2,
       "version_minor": 0
      },
      "text/plain": [
       "HBox(children=(IntProgress(value=0, max=140), HTML(value='')))"
      ]
     },
     "metadata": {},
     "output_type": "display_data"
    },
    {
     "name": "stdout",
     "output_type": "stream",
     "text": [
      "\n",
      "[info] epoch train loss: 0.020896167522402694\n",
      "Epoch 274\n"
     ]
    },
    {
     "data": {
      "application/vnd.jupyter.widget-view+json": {
       "model_id": "75431bb7103849c28827b5c5e4febad9",
       "version_major": 2,
       "version_minor": 0
      },
      "text/plain": [
       "HBox(children=(IntProgress(value=0, max=140), HTML(value='')))"
      ]
     },
     "metadata": {},
     "output_type": "display_data"
    },
    {
     "name": "stdout",
     "output_type": "stream",
     "text": [
      "\n",
      "[info] epoch train loss: 0.020828455622213277\n",
      "Epoch 275\n"
     ]
    },
    {
     "data": {
      "application/vnd.jupyter.widget-view+json": {
       "model_id": "8bfa6a836c0f41ee86ec832bd6767f5b",
       "version_major": 2,
       "version_minor": 0
      },
      "text/plain": [
       "HBox(children=(IntProgress(value=0, max=140), HTML(value='')))"
      ]
     },
     "metadata": {},
     "output_type": "display_data"
    },
    {
     "name": "stdout",
     "output_type": "stream",
     "text": [
      "\n",
      "[info] epoch train loss: 0.02098615320570961\n",
      "Epoch 276\n"
     ]
    },
    {
     "data": {
      "application/vnd.jupyter.widget-view+json": {
       "model_id": "124363b654f241a99a16f7f0d2b71a25",
       "version_major": 2,
       "version_minor": 0
      },
      "text/plain": [
       "HBox(children=(IntProgress(value=0, max=140), HTML(value='')))"
      ]
     },
     "metadata": {},
     "output_type": "display_data"
    },
    {
     "name": "stdout",
     "output_type": "stream",
     "text": [
      "\n",
      "[info] epoch train loss: 0.02129768686428619\n",
      "Epoch 277\n"
     ]
    },
    {
     "data": {
      "application/vnd.jupyter.widget-view+json": {
       "model_id": "9831878d095f4ccd8ecf40a492302f39",
       "version_major": 2,
       "version_minor": 0
      },
      "text/plain": [
       "HBox(children=(IntProgress(value=0, max=140), HTML(value='')))"
      ]
     },
     "metadata": {},
     "output_type": "display_data"
    },
    {
     "name": "stdout",
     "output_type": "stream",
     "text": [
      "\n",
      "[info] epoch train loss: 0.022249769295368083\n",
      "Epoch 278\n"
     ]
    },
    {
     "data": {
      "application/vnd.jupyter.widget-view+json": {
       "model_id": "b6a647479f074900b996e62e554417e1",
       "version_major": 2,
       "version_minor": 0
      },
      "text/plain": [
       "HBox(children=(IntProgress(value=0, max=140), HTML(value='')))"
      ]
     },
     "metadata": {},
     "output_type": "display_data"
    },
    {
     "name": "stdout",
     "output_type": "stream",
     "text": [
      "\n",
      "[info] epoch train loss: 0.02241781704737019\n",
      "Epoch 279\n"
     ]
    },
    {
     "data": {
      "application/vnd.jupyter.widget-view+json": {
       "model_id": "b4236439ddf1489186739d4a16413909",
       "version_major": 2,
       "version_minor": 0
      },
      "text/plain": [
       "HBox(children=(IntProgress(value=0, max=140), HTML(value='')))"
      ]
     },
     "metadata": {},
     "output_type": "display_data"
    },
    {
     "name": "stdout",
     "output_type": "stream",
     "text": [
      "lay egg to ./Nest ... save as ./Nest/NewbornBird\n",
      "origin:\n",
      "['[CLS]', 'dollar', 'drops', 'on', 'reserves', 'concerns', 'the', 'us', 'dollar', 'has', 'dropped', 'against', 'major', 'cu', '##rre', '##ncies', 'on', 'concerns', 'that', 'central', 'banks', 'may', 'cut', 'the', 'amount', 'of', 'dollars', 'they', 'hold', 'in', 'their', 'foreign', 'reserves', '.', 'comments', 'by', 'south', 'korea', 's', 'central', 'bank', 'at', 'the', 'end', 'of', 'last', 'week', 'have', 'sparked', 'the', 'recent', 'round', 'of', 'dollar', 'declines', '.', 'south', 'korea', 'which', 'has', 'about', '$', '200', '##bn', 'in', 'foreign', 'reserves', 'said', 'it', 'plans', 'instead', 'to', 'boost', 'holdings', 'of', 'cu', '##rre', '##ncies', 'such', 'as', 'the', 'australian', 'and', 'canadian', 'dollar', '.', 'analysts', 'reckon', 'that', 'other', 'nations', 'may', 'follow', 'suit', 'and', 'now', 'ditch', 'the', 'dollar', '.', 'at', '1300', 'gm', '##t', 'the', 'euro', 'was', 'up', '0', '.', '9', '%', 'on', 'the', 'day', 'at', '1', '.', '318', '##7', 'euros', 'per', 'us', 'dollar', '.', 'the', 'british', 'pound', 'had', 'added', '0', '.', '5', '%', 'to', 'break', 'through', 'the', '$', '1', '.', '90', 'level', 'while', 'the', 'dollar', 'had', 'fallen', 'by', '1', '.', '3', '%', 'against', 'the', 'japanese', 'yen', 'to', 'trade', 'at', '104', '.', '16', 'yen', '.', 'at', 'the', 'start', 'of', 'the', 'year', 'the', 'us', 'currency', 'which', 'had', 'lost', '7', '%', 'against', 'the', 'euro', 'in', 'the', 'final', 'three', 'months', 'of', '2004', 'and', 'had', 'fallen', 'to', 'record', 'low', '##s', 'staged', 'something', 'of', 'a', 'recovery', '.', 'analysts', 'however', 'pointed', 'to', 'the', 'dollar', 's', 'inability', 'recently', 'to', 'extend', 'that', 'rally', 'despite', 'positive', 'economic', 'and', 'corporate', 'data', 'and', 'highlighted', 'the', 'fact', 'that', 'many', 'of', 'the', 'us', 's', 'economic', 'problems', 'had', 'not', 'disappeared', '.', 'the', 'focus', 'once', 'again', 'has', 'been', 'on', 'the', 'country', 's', 'massive', 'trade', 'and', 'budget', 'deficit', '##s', 'with', 'predictions', 'of', 'more', 'dollar', 'weakness', 'to', 'come', '.', 'the', 'comments', 'from', 'korea', 'came', 'at', 'a', 'time', 'when', 'sentiment', 'towards', 'the', 'dollar', 'was', 'already', 'soft', '##ening', 'said', 'ian', 'gunner', 'a', 'trader', 'at', 'mellon', 'financial', '.', 'on', 'tuesday', 'traders', 'in', 'asia', 'said', 'that', 'both', 'south', 'korea', 'and', 'taiwan', 'had', 'withdrawn', 'their', 'bids', 'to', 'buy', 'dollars', 'at', 'the', 'start', 'of', 'the', 'session', '.', 'mans', '##oor', 'mo', '##hi', '-', 'ud', '##din', 'chief', 'currency', 'st', '##rate', '##gist', 'at', 'u', '##bs', 'said', 'that', 'there', 'was', 'a', 'sentiment', 'in', 'the', 'market', 'that', 'central', 'banks', 'from', 'asia', 'and', 'the', 'middle', 'east', 'are', 'buying', 'euros', '.', 'a', 'report', 'last', 'month', 'already', 'showed', 'that', 'the', 'dollar', 'was', 'losing', 'its', 'all', '##ure', 'as', 'a', 'currency', 'that', 'offered', 'rock', '-', 'steady', 'returns', 'and', 'stability', '.', 'compiled', 'by', 'central', 'banking', 'publications', 'and', 'sponsored', 'by', 'the', 'uk', 's', 'royal', 'bank', 'of', 'scotland', 'the', 'survey', 'found', '39', 'nations', 'out', 'of', '65']\n",
      "summary:\n",
      "['[CLS]', '##kers', '##kers', '##kers', '##kers', '##kers', '##kers', '##kers', '##kers', '##kers', '##kers', '##kers', '##kers', '##kers', '##kers', '##kers', '##kers', '##kers', '##kers', '##kers']\n",
      "real summary:\n",
      "['[CLS]', 'dollar', 'drops', 'on', 'reserves', 'concerns', 'the', 'us', 'dollar', 'has', 'dropped', 'against', 'major', 'cu', '##rre', '##ncies', 'on', 'concerns', 'that']\n",
      "sentiment: 4\n",
      "y: 1\n",
      "\n",
      "\n",
      "[info] epoch train loss: 0.021751644247448965\n",
      "Epoch 280\n"
     ]
    },
    {
     "data": {
      "application/vnd.jupyter.widget-view+json": {
       "model_id": "ecce9398d2704182aa12dbfe70987246",
       "version_major": 2,
       "version_minor": 0
      },
      "text/plain": [
       "HBox(children=(IntProgress(value=0, max=140), HTML(value='')))"
      ]
     },
     "metadata": {},
     "output_type": "display_data"
    },
    {
     "name": "stdout",
     "output_type": "stream",
     "text": [
      "\n",
      "[info] epoch train loss: 0.021585755516480707\n",
      "Epoch 281\n"
     ]
    },
    {
     "data": {
      "application/vnd.jupyter.widget-view+json": {
       "model_id": "d6dcec5b0706430aaddba6e58b7a8b00",
       "version_major": 2,
       "version_minor": 0
      },
      "text/plain": [
       "HBox(children=(IntProgress(value=0, max=140), HTML(value='')))"
      ]
     },
     "metadata": {},
     "output_type": "display_data"
    },
    {
     "name": "stdout",
     "output_type": "stream",
     "text": [
      "\n",
      "[info] epoch train loss: 0.021212020283030597\n",
      "Epoch 282\n"
     ]
    },
    {
     "data": {
      "application/vnd.jupyter.widget-view+json": {
       "model_id": "06b8de83e7354bd987f487e08bab3db1",
       "version_major": 2,
       "version_minor": 0
      },
      "text/plain": [
       "HBox(children=(IntProgress(value=0, max=140), HTML(value='')))"
      ]
     },
     "metadata": {},
     "output_type": "display_data"
    },
    {
     "name": "stdout",
     "output_type": "stream",
     "text": [
      "\n",
      "[info] epoch train loss: 0.021276596066260416\n",
      "Epoch 283\n"
     ]
    },
    {
     "data": {
      "application/vnd.jupyter.widget-view+json": {
       "model_id": "23c16f90423544e2bc5f41780a8c7c04",
       "version_major": 2,
       "version_minor": 0
      },
      "text/plain": [
       "HBox(children=(IntProgress(value=0, max=140), HTML(value='')))"
      ]
     },
     "metadata": {},
     "output_type": "display_data"
    },
    {
     "name": "stdout",
     "output_type": "stream",
     "text": [
      "\n",
      "[info] epoch train loss: 0.019495125873073758\n",
      "Epoch 284\n"
     ]
    },
    {
     "data": {
      "application/vnd.jupyter.widget-view+json": {
       "model_id": "13073736a9a94cbc9e7fdfb357a17f3a",
       "version_major": 2,
       "version_minor": 0
      },
      "text/plain": [
       "HBox(children=(IntProgress(value=0, max=140), HTML(value='')))"
      ]
     },
     "metadata": {},
     "output_type": "display_data"
    },
    {
     "name": "stdout",
     "output_type": "stream",
     "text": [
      "\n",
      "[info] epoch train loss: 0.019457352814154102\n",
      "Epoch 285\n"
     ]
    },
    {
     "data": {
      "application/vnd.jupyter.widget-view+json": {
       "model_id": "342cf29aad094b5c9e40088af7d7d057",
       "version_major": 2,
       "version_minor": 0
      },
      "text/plain": [
       "HBox(children=(IntProgress(value=0, max=140), HTML(value='')))"
      ]
     },
     "metadata": {},
     "output_type": "display_data"
    },
    {
     "name": "stdout",
     "output_type": "stream",
     "text": [
      "\n",
      "[info] epoch train loss: 0.01980724283609224\n",
      "Epoch 286\n"
     ]
    },
    {
     "data": {
      "application/vnd.jupyter.widget-view+json": {
       "model_id": "25fb753d63f84e3d84813cf709995bc6",
       "version_major": 2,
       "version_minor": 0
      },
      "text/plain": [
       "HBox(children=(IntProgress(value=0, max=140), HTML(value='')))"
      ]
     },
     "metadata": {},
     "output_type": "display_data"
    },
    {
     "name": "stdout",
     "output_type": "stream",
     "text": [
      "lay egg to ./Nest ... save as ./Nest/NewbornBird\n",
      "origin:\n",
      "['[CLS]', 'mystery', 'surrounds', 'new', 'yu', '##kos', 'owner', 'the', 'fate', 'of', 'russia', 's', 'yu', '##gan', '##sk', '##ne', '##ft', '##ega', '##s', '-', 'the', 'oil', 'firm', 'sold', 'to', 'a', 'little', '-', 'known', 'buyer', 'on', 'sunday', '-', 'is', 'the', 'subject', 'of', 'frantic', 'speculation', 'in', 'moscow', '.', 'bai', '##kal', 'finance', 'group', 'emerged', 'as', 'the', 'auction', 'winner', 'agreeing', 'to', 'pay', '260', '.', '75', '##bn', 'ro', '##ub', '##les', '(', '£', '##4', '.', '8', '##bn', ';', '$', '9', '.', '4', '##bn', ')', '.', 'russia', 's', 'newspapers', 'claimed', 'that', 'bai', '##kal', 'was', 'a', 'front', 'for', 'gas', 'monopoly', 'ga', '##z', '##pro', '##m', 'which', 'had', 'been', 'expected', 'to', 'win', '.', 'the', 'sale', 'has', 'destroyed', 'yu', '##kos', 'once', 'the', 'owner', 'of', 'yu', '##gan', '##sk', '##ne', '##ft', '##ega', '##s', 'said', 'founder', 'mikhail', 'k', '##ho', '##dor', '##kovsky', '.', 'yu', '##gan', '##sk', '##ne', '##ft', '##ega', '##s', 'has', 'been', 'sold', 'in', 'the', 'best', 'traditions', 'of', 'the', '90s', '.', 'the', 'authorities', 'have', 'made', 'themselves', 'a', 'wonderful', 'christmas', 'present', '-', 'russia', 's', 'most', 'efficient', 'oil', 'company', 'has', 'been', 'destroyed', 'the', 'inter', '##fa', '##x', 'news', 'agency', 'quoted', 'mr', 'k', '##ho', '##dor', '##kovsky', 'as', 'saying', 'via', 'his', 'lawyers', '.', 'ga', '##z', '##pro', '##m', 'had', 'been', 'expected', 'to', 'win', 'the', 'auction', 'but', 'is', 'thought', 'to', 'have', 'failed', 'to', 'get', 'finance', 'for', 'the', 'deal', 'after', 'a', 'us', 'court', 'injunction', 'barred', 'it', 'from', 'taking', 'part', '.', 'last', 'week', 'yu', '##kos', 'filed', 'for', 'chapter', '11', 'bankruptcy', 'protection', 'in', 'the', 'us', 'in', 'a', 'last', '-', 'ditch', 'attempt', 'to', 'hang', 'on', 'to', 'yu', '##gan', '##sk', '##ne', '##ft', '##ega', '##s', 'which', 'accounts', 'for', '60', '%', 'of', 'its', 'output', '.', 'a', 'us', 'judge', 'banned', 'ga', '##z', '##pro', '##m', 'from', 'taking', 'part', 'in', 'the', 'auction', 'and', 'barred', 'international', 'banks', 'from', 'providing', 'the', 'firm', 'with', 'cash', '.', 'they', 'screwed', 'up', 'the', 'financing', 'said', 'ronald', 'smith', 'an', 'analyst', 'at', 'renaissance', 'capital', 'in', 'moscow', '.', 'and', 'ga', '##z', '##pro', '##m', 'doesn', 't', 'have', 'this', 'sort', 'of', 'money', 'lying', 'around', '.', 'ga', '##z', '##pro', '##m', 'has', 'denied', 'that', 'it', 'is', 'behind', 'the', 'purchase', '.', 'it', 'is', 'a', 'front', 'for', 'somebody', 'but', 'not', 'necessarily', 'for', 'ga', '##z', '##pro', '##m', 'said', 'oleg', 'maxim', '##ov', 'an', 'analyst', 'at', 'tr', '##oi', '##ka', 'dial', '##og', 'in', 'moscow', '.', 'we', 'don', 't', 'know', 'if', 'this', 'company', 'is', 'linked', '100', '%', 'to', 'ga', '##z', '##pro', '##m', '.', 'we', 'tried', 'to', 'find', 'it', 'but', 'we', 'couldn', 't', 'and', 'as', 'far', 'as', 'i', 'know', 'the', 'papers', 'had', 'the', 'same', 'result', '.', 'the', 'sale', 'has', 'however', 'bought', 'time', 'for', 'ga', '##z', '##pro', '##m']\n",
      "summary:\n",
      "['[CLS]', '##kers', '##kers', '##kers', '##kers', '##kers', '##kers', '##kers', '##kers', '##kers', '##kers', '##kers', '##kers', '##kers', '##kers', '##kers', '##kers', '##kers', '##kers', '##kers']\n",
      "real summary:\n",
      "['[CLS]', 'mystery', 'surrounds', 'new', 'yu', '##kos', 'owner', 'the', 'fate', 'of', 'russia', 's', 'yu', '##gan', '##sk', '##ne', '##ft', '##ega', '##s']\n",
      "sentiment: 4\n",
      "y: 1\n",
      "\n",
      "\n",
      "[info] epoch train loss: 0.020308225765628\n",
      "Epoch 287\n"
     ]
    },
    {
     "data": {
      "application/vnd.jupyter.widget-view+json": {
       "model_id": "9dc5236af40249ae9f87aefcfbb80c03",
       "version_major": 2,
       "version_minor": 0
      },
      "text/plain": [
       "HBox(children=(IntProgress(value=0, max=140), HTML(value='')))"
      ]
     },
     "metadata": {},
     "output_type": "display_data"
    },
    {
     "name": "stdout",
     "output_type": "stream",
     "text": [
      "\n",
      "[info] epoch train loss: 0.01975869925719615\n",
      "Epoch 288\n"
     ]
    },
    {
     "data": {
      "application/vnd.jupyter.widget-view+json": {
       "model_id": "023557a9253b4bd19692cc62baacc4cf",
       "version_major": 2,
       "version_minor": 0
      },
      "text/plain": [
       "HBox(children=(IntProgress(value=0, max=140), HTML(value='')))"
      ]
     },
     "metadata": {},
     "output_type": "display_data"
    },
    {
     "name": "stdout",
     "output_type": "stream",
     "text": [
      "\n",
      "[info] epoch train loss: 0.019288580096679605\n",
      "Epoch 289\n"
     ]
    },
    {
     "data": {
      "application/vnd.jupyter.widget-view+json": {
       "model_id": "51e008c4b74a40f18b84b0896021f00c",
       "version_major": 2,
       "version_minor": 0
      },
      "text/plain": [
       "HBox(children=(IntProgress(value=0, max=140), HTML(value='')))"
      ]
     },
     "metadata": {},
     "output_type": "display_data"
    },
    {
     "name": "stdout",
     "output_type": "stream",
     "text": [
      "\n",
      "[info] epoch train loss: 0.018985367041268932\n",
      "Epoch 290\n"
     ]
    },
    {
     "data": {
      "application/vnd.jupyter.widget-view+json": {
       "model_id": "01475ac565454a5faca56ef134787316",
       "version_major": 2,
       "version_minor": 0
      },
      "text/plain": [
       "HBox(children=(IntProgress(value=0, max=140), HTML(value='')))"
      ]
     },
     "metadata": {},
     "output_type": "display_data"
    },
    {
     "name": "stdout",
     "output_type": "stream",
     "text": [
      "\n",
      "[info] epoch train loss: 0.019019598572673754\n",
      "Epoch 291\n"
     ]
    },
    {
     "data": {
      "application/vnd.jupyter.widget-view+json": {
       "model_id": "89c6443159464e699eac0ee36413bf55",
       "version_major": 2,
       "version_minor": 0
      },
      "text/plain": [
       "HBox(children=(IntProgress(value=0, max=140), HTML(value='')))"
      ]
     },
     "metadata": {},
     "output_type": "display_data"
    },
    {
     "name": "stdout",
     "output_type": "stream",
     "text": [
      "\n",
      "[info] epoch train loss: 0.019023941401923546\n",
      "Epoch 292\n"
     ]
    },
    {
     "data": {
      "application/vnd.jupyter.widget-view+json": {
       "model_id": "f43fdf9d950c4a95bd313209a3b58701",
       "version_major": 2,
       "version_minor": 0
      },
      "text/plain": [
       "HBox(children=(IntProgress(value=0, max=140), HTML(value='')))"
      ]
     },
     "metadata": {},
     "output_type": "display_data"
    },
    {
     "name": "stdout",
     "output_type": "stream",
     "text": [
      "\n",
      "[info] epoch train loss: 0.018921480491416835\n",
      "Epoch 293\n"
     ]
    },
    {
     "data": {
      "application/vnd.jupyter.widget-view+json": {
       "model_id": "d59ae5818bf24d52980c28b449eacfd8",
       "version_major": 2,
       "version_minor": 0
      },
      "text/plain": [
       "HBox(children=(IntProgress(value=0, max=140), HTML(value='')))"
      ]
     },
     "metadata": {},
     "output_type": "display_data"
    },
    {
     "name": "stdout",
     "output_type": "stream",
     "text": [
      "lay egg to ./Nest ... save as ./Nest/NewbornBird\n",
      "origin:\n",
      "['[CLS]', 'february', 'poll', 'claim', 'speculation', 'reports', 'that', 'tony', 'blair', 'is', 'planning', 'a', 'snap', 'general', 'election', 'for', 'february', '2005', 'have', 'been', 'described', 'as', 'idle', 'speculation', 'by', 'downing', 'street', '.', 'a', 'spokesman', 'said', 'he', 'had', 'no', 'idea', 'where', 'the', 'reports', 'in', 'the', 'sunday', 'times', 'and', 'sunday', 'telegraph', 'had', 'come', 'from', '.', 'the', 'papers', 'suggest', 'ministers', 'believe', 'the', 'government', 'could', 'benefit', 'from', 'a', 'baghdad', 'bounce', 'following', 'successful', 'iraq', 'elections', 'in', 'january', '.', 'a', 'british', 'general', 'election', 'was', 'last', 'held', 'in', 'february', 'in', '1974', '.', 'in', 'that', 'election', 'edward', 'heath', 'lost', 'and', 'failed', 'to', 'build', 'a', 'coalition', 'with', 'the', 'liberals', '.', 'harold', 'wilson', 'took', 'over', 'and', 'increased', 'his', 'majority', 'later', 'in', 'the', 'year', 'in', 'a', 'second', 'election', 'the', 'latest', 'speculation', 'suggests', 'the', 'prime', 'minister', 'favour', '##s', 'a', 'february', 'poll', 'in', 'order', 'to', 'exploit', 'his', 'current', 'opinion', 'poll', 'lead', 'over', 'conservative', 'leader', 'michael', 'howard', '.', 'but', 'that', 'strategy', 'could', 'prompt', 'criticism', 'he', 'was', 'seeking', 'to', 'cut', 'and', 'run', 'after', 'less', 'then', 'four', 'years', 'of', 'a', 'parliamentary', 'term', '.', 'the', 'papers', 'report', 'that', 'alan', 'mil', '##burn', 'labour', 's', 'head', 'of', 'elections', 'strategy', 'has', 'played', 'a', 'key', 'role', 'in', 'the', 'plan', 'for', 'a', 'february', 'election', 'which', 'would', 'include', 'a', 'new', 'year', 'advertising', 'blitz', '.', 'new', 'labour', 's', 'campaign', 'both', 'newspapers', 'said', 'would', 'be', 'centred', 'around', 'the', 'slogan', 'britain', 'is', 'working', '.', 'a', 'labour', 'party', 'spokesman', 'said', 'the', 'election', 'date', 'was', 'ultimately', 'a', 'matter', 'for', 'mr', 'blair', 'but', 'he', 'was', 'unaware', 'of', 'anything', 'to', 'suggest', 'it', 'would', 'be', 'in', 'february', '.', 'most', 'commentators', 'have', 'been', 'expecting', 'an', 'election', 'on', '5', 'may', '.', 'the', 'last', 'election', 'was', 'in', 'june', '2001', '.', '[SEP]', '[PAD]', '[PAD]', '[PAD]', '[PAD]', '[PAD]', '[PAD]', '[PAD]', '[PAD]', '[PAD]', '[PAD]', '[PAD]', '[PAD]', '[PAD]', '[PAD]', '[PAD]', '[PAD]', '[PAD]', '[PAD]', '[PAD]', '[PAD]', '[PAD]', '[PAD]', '[PAD]', '[PAD]', '[PAD]', '[PAD]', '[PAD]', '[PAD]', '[PAD]', '[PAD]', '[PAD]', '[PAD]', '[PAD]', '[PAD]', '[PAD]', '[PAD]', '[PAD]', '[PAD]', '[PAD]', '[PAD]', '[PAD]', '[PAD]', '[PAD]', '[PAD]', '[PAD]', '[PAD]', '[PAD]', '[PAD]', '[PAD]', '[PAD]', '[PAD]', '[PAD]', '[PAD]', '[PAD]', '[PAD]', '[PAD]', '[PAD]', '[PAD]', '[PAD]', '[PAD]', '[PAD]', '[PAD]', '[PAD]', '[PAD]', '[PAD]', '[PAD]', '[PAD]', '[PAD]', '[PAD]', '[PAD]', '[PAD]', '[PAD]', '[PAD]', '[PAD]', '[PAD]', '[PAD]', '[PAD]', '[PAD]', '[PAD]', '[PAD]', '[PAD]', '[PAD]', '[PAD]', '[PAD]', '[PAD]', '[PAD]', '[PAD]', '[PAD]', '[PAD]', '[PAD]', '[PAD]', '[PAD]', '[PAD]', '[PAD]', '[PAD]', '[PAD]', '[PAD]', '[PAD]', '[PAD]', '[PAD]', '[PAD]', '[PAD]', '[PAD]', '[PAD]', '[PAD]', '[PAD]', '[PAD]', '[PAD]', '[PAD]', '[PAD]', '[PAD]', '[PAD]', '[PAD]', '[PAD]', '[PAD]', '[PAD]', '[PAD]', '[PAD]', '[PAD]', '[PAD]', '[PAD]', '[PAD]', '[PAD]', '[PAD]', '[PAD]', '[PAD]', '[PAD]', '[PAD]', '[PAD]', '[PAD]', '[PAD]', '[PAD]', '[PAD]', '[PAD]', '[PAD]', '[PAD]', '[PAD]']\n",
      "summary:\n",
      "['[CLS]', '##kers', '##kers', '##kers', '##kers', '##kers', '##kers', '##kers', '##kers', '##kers', '##kers', '##kers', '##kers', '##kers', '##kers', '##kers', '##kers', '##kers', '##kers', '##kers']\n",
      "real summary:\n",
      "['[CLS]', 'february', 'poll', 'claim', 'speculation', 'reports', 'that', 'tony', 'blair', 'is', 'planning', 'a', 'snap', 'general', 'election', 'for', 'february', '2005', 'have']\n",
      "sentiment: 4\n",
      "y: 4\n",
      "\n",
      "\n",
      "[info] epoch train loss: 0.018611325060743613\n",
      "Epoch 294\n"
     ]
    },
    {
     "data": {
      "application/vnd.jupyter.widget-view+json": {
       "model_id": "b3767567cbdf461fb9e451578b241d29",
       "version_major": 2,
       "version_minor": 0
      },
      "text/plain": [
       "HBox(children=(IntProgress(value=0, max=140), HTML(value='')))"
      ]
     },
     "metadata": {},
     "output_type": "display_data"
    },
    {
     "name": "stdout",
     "output_type": "stream",
     "text": [
      "\n",
      "[info] epoch train loss: 0.018481952687747574\n",
      "Epoch 295\n"
     ]
    },
    {
     "data": {
      "application/vnd.jupyter.widget-view+json": {
       "model_id": "a0b8e9bb50054ac28980b3a80eeda893",
       "version_major": 2,
       "version_minor": 0
      },
      "text/plain": [
       "HBox(children=(IntProgress(value=0, max=140), HTML(value='')))"
      ]
     },
     "metadata": {},
     "output_type": "display_data"
    },
    {
     "name": "stdout",
     "output_type": "stream",
     "text": [
      "\n",
      "[info] epoch train loss: 0.018124847205199655\n",
      "Epoch 296\n"
     ]
    },
    {
     "data": {
      "application/vnd.jupyter.widget-view+json": {
       "model_id": "577e6ea44904417aa2d1e2a487e80dd6",
       "version_major": 2,
       "version_minor": 0
      },
      "text/plain": [
       "HBox(children=(IntProgress(value=0, max=140), HTML(value='')))"
      ]
     },
     "metadata": {},
     "output_type": "display_data"
    },
    {
     "name": "stdout",
     "output_type": "stream",
     "text": [
      "\n",
      "[info] epoch train loss: 0.01764550640954852\n",
      "Epoch 297\n"
     ]
    },
    {
     "data": {
      "application/vnd.jupyter.widget-view+json": {
       "model_id": "49130e148bcf4506abfd7c105cf51e30",
       "version_major": 2,
       "version_minor": 0
      },
      "text/plain": [
       "HBox(children=(IntProgress(value=0, max=140), HTML(value='')))"
      ]
     },
     "metadata": {},
     "output_type": "display_data"
    },
    {
     "name": "stdout",
     "output_type": "stream",
     "text": [
      "\n",
      "[info] epoch train loss: 0.018731322432661797\n",
      "Epoch 298\n"
     ]
    },
    {
     "data": {
      "application/vnd.jupyter.widget-view+json": {
       "model_id": "e251b89676ab4d06a8f311f342df837a",
       "version_major": 2,
       "version_minor": 0
      },
      "text/plain": [
       "HBox(children=(IntProgress(value=0, max=140), HTML(value='')))"
      ]
     },
     "metadata": {},
     "output_type": "display_data"
    },
    {
     "name": "stdout",
     "output_type": "stream",
     "text": [
      "\n",
      "[info] epoch train loss: 0.02007498105030509\n",
      "Epoch 299\n"
     ]
    },
    {
     "data": {
      "application/vnd.jupyter.widget-view+json": {
       "model_id": "9dd0c32560ba418c9b292caf601e163a",
       "version_major": 2,
       "version_minor": 0
      },
      "text/plain": [
       "HBox(children=(IntProgress(value=0, max=140), HTML(value='')))"
      ]
     },
     "metadata": {},
     "output_type": "display_data"
    },
    {
     "name": "stdout",
     "output_type": "stream",
     "text": [
      "\n",
      "[info] epoch train loss: 0.0012683856104266462\n",
      "Epoch 300\n"
     ]
    },
    {
     "data": {
      "application/vnd.jupyter.widget-view+json": {
       "model_id": "865687f1e747440ba710e5add2d6afa4",
       "version_major": 2,
       "version_minor": 0
      },
      "text/plain": [
       "HBox(children=(IntProgress(value=0, max=140), HTML(value='')))"
      ]
     },
     "metadata": {},
     "output_type": "display_data"
    },
    {
     "name": "stdout",
     "output_type": "stream",
     "text": [
      "lay egg to ./Nest ... save as ./Nest/NewbornBird\n",
      "origin:\n",
      "['[CLS]', 'willis', 'sue', '##s', 'over', 'movie', 'injury', 'actor', 'bruce', 'willis', 'is', 'sui', '##ng', 'revolution', 'studios', 'over', 'an', 'injury', 'he', 'said', 'he', 'suffered', 'while', 'making', 'tears', 'of', 'the', 'sun', '.', 'willis', 'is', 'seeking', 'medical', 'expenses', 'after', 'he', 'said', 'he', 'was', 'hit', 'in', 'the', 'head', 'by', 'a', 'fire', '##work', 'during', 'the', 'filming', 'of', 'the', '2002', 'movie', 'produced', 'by', 'the', 'firm', '.', 'the', 'lawsuit', 'said', 'the', 'star', 'has', 'endured', 'mental', 'and', 'physical', 'injuries', 'as', 'a', 'result', 'of', 'the', 'alleged', 'incident', '.', 'we', 'are', 'not', 'able', 'to', 'comment', 'on', 'pending', 'litigation', 'revolution', 'studios', 'spokesman', 'sean', 'du', '##das', 'said', '.', 'in', 'tears', 'of', 'the', 'sun', 'willis', 'plays', 'a', 'us', 'military', 'commander', 'who', 'di', '##so', '##bey', '##s', 'orders', 'to', 'try', 'and', 'help', 'save', 'a', 'doctor', 'and', 'patients', 'trapped', 'in', 'the', 'nigerian', 'jungle', '.', 'directed', 'by', 'antoine', 'fu', '##qua', 'the', 'film', 'was', 'poorly', 'received', 'by', 'critics', 'and', 'did', 'not', 'perform', 'strongly', 'at', 'the', 'box', 'office', '.', 'according', 'to', 'the', 'lawsuit', 'the', 'injury', 'was', 'suffered', 'during', 'the', 'firing', 'of', 'explosions', 'as', 'part', 'of', 'a', 'special', 'effect', '.', 'the', 'explosions', 'known', 'as', 'sq', '##ui', '##bs', 'were', 'intended', 'to', 'simulate', 'the', 'appearance', 'of', 'bullets', 'striking', 'the', 'ground', '.', 'the', 'lawsuit', 'said', 'willis', 'has', 'endured', 'extreme', 'mental', 'physical', 'and', 'emotional', 'pain', 'and', 'suffering', '.', 'there', 'were', 'no', 'specific', 'details', 'on', 'the', 'injuries', '.', 'while', 'willis', 'does', 'not', 'seek', 'specific', 'monetary', 'damages', 'the', 'lawsuit', 'noted', 'that', 'the', 'star', 'was', 'required', 'to', 'and', 'did', 'employ', 'physicians', 'and', 'other', 'medical', 'personnel', '.', 'it', 'stated', 'he', 'will', 'inc', '##ur', 'additional', 'future', 'medical', 'expenses', '.', 'the', 'lawsuit', 'said', 'revolution', 'studios', 'and', 'special', 'effects', 'foreman', 'joe', 'pan', '##cake', 'had', 'a', 'duty', 'to', 'willis', 'to', 'ensure', 'that', 'the', 'sq', '##ui', '##bs', 'were', 'inspected', 'set', 'up', 'placed', 'and', 'detonated', 'in', 'a', 'safe', 'manner', 'and', 'to', 'employ', 'technicians', 'who', 'were', 'trained', 'and', 'competent', 'in', 'their', 'use', '.', '[SEP]', '[PAD]', '[PAD]', '[PAD]', '[PAD]', '[PAD]', '[PAD]', '[PAD]', '[PAD]', '[PAD]', '[PAD]', '[PAD]', '[PAD]', '[PAD]', '[PAD]', '[PAD]', '[PAD]', '[PAD]', '[PAD]', '[PAD]', '[PAD]', '[PAD]', '[PAD]', '[PAD]', '[PAD]', '[PAD]', '[PAD]', '[PAD]', '[PAD]', '[PAD]', '[PAD]', '[PAD]', '[PAD]', '[PAD]', '[PAD]', '[PAD]', '[PAD]', '[PAD]', '[PAD]', '[PAD]', '[PAD]', '[PAD]', '[PAD]', '[PAD]', '[PAD]', '[PAD]', '[PAD]', '[PAD]', '[PAD]', '[PAD]', '[PAD]', '[PAD]', '[PAD]', '[PAD]', '[PAD]', '[PAD]', '[PAD]', '[PAD]', '[PAD]', '[PAD]', '[PAD]', '[PAD]', '[PAD]', '[PAD]', '[PAD]', '[PAD]', '[PAD]', '[PAD]', '[PAD]', '[PAD]', '[PAD]', '[PAD]', '[PAD]', '[PAD]', '[PAD]', '[PAD]', '[PAD]', '[PAD]', '[PAD]', '[PAD]', '[PAD]', '[PAD]', '[PAD]', '[PAD]', '[PAD]', '[PAD]', '[PAD]', '[PAD]', '[PAD]', '[PAD]', '[PAD]', '[PAD]', '[PAD]', '[PAD]', '[PAD]', '[PAD]', '[PAD]', '[PAD]', '[PAD]', '[PAD]', '[PAD]', '[PAD]', '[PAD]']\n",
      "summary:\n",
      "['[CLS]', '##kers', '##kers', '##kers', '##kers', '##kers', '##kers', '##kers', '##kers', '##kers', '##kers', '##kers', '##kers', '##kers', '##kers', '##kers', '##kers', '##kers', '##kers', '##kers']\n",
      "real summary:\n",
      "['[CLS]', 'willis', 'sue', '##s', 'over', 'movie', 'injury', 'actor', 'bruce', 'willis', 'is', 'sui', '##ng', 'revolution', 'studios', 'over', 'an', 'injury', 'he']\n",
      "sentiment: 4\n",
      "y: 3\n",
      "\n",
      "\n",
      "[info] epoch train loss: -0.0187125524658163\n",
      "Epoch 301\n"
     ]
    },
    {
     "data": {
      "application/vnd.jupyter.widget-view+json": {
       "model_id": "725c836b01a742d88412d553e75ec543",
       "version_major": 2,
       "version_minor": 0
      },
      "text/plain": [
       "HBox(children=(IntProgress(value=0, max=140), HTML(value='')))"
      ]
     },
     "metadata": {},
     "output_type": "display_data"
    },
    {
     "name": "stdout",
     "output_type": "stream",
     "text": [
      "\n",
      "[info] epoch train loss: -0.06299309606913539\n",
      "Epoch 302\n"
     ]
    },
    {
     "data": {
      "application/vnd.jupyter.widget-view+json": {
       "model_id": "d2e3b8ea560f4c9ebbc2271c153738c4",
       "version_major": 2,
       "version_minor": 0
      },
      "text/plain": [
       "HBox(children=(IntProgress(value=0, max=140), HTML(value='')))"
      ]
     },
     "metadata": {},
     "output_type": "display_data"
    },
    {
     "name": "stdout",
     "output_type": "stream",
     "text": [
      "\n",
      "[info] epoch train loss: -0.11361686186277963\n",
      "Epoch 303\n"
     ]
    },
    {
     "data": {
      "application/vnd.jupyter.widget-view+json": {
       "model_id": "fd3136e57f544d8588ac710d9b3f2a13",
       "version_major": 2,
       "version_minor": 0
      },
      "text/plain": [
       "HBox(children=(IntProgress(value=0, max=140), HTML(value='')))"
      ]
     },
     "metadata": {},
     "output_type": "display_data"
    },
    {
     "name": "stdout",
     "output_type": "stream",
     "text": [
      "\n",
      "[info] epoch train loss: -0.15373731903026464\n",
      "Epoch 304\n"
     ]
    },
    {
     "data": {
      "application/vnd.jupyter.widget-view+json": {
       "model_id": "9801665e5b364bc2a7dc96d7c0c1a9f3",
       "version_major": 2,
       "version_minor": 0
      },
      "text/plain": [
       "HBox(children=(IntProgress(value=0, max=140), HTML(value='')))"
      ]
     },
     "metadata": {},
     "output_type": "display_data"
    },
    {
     "name": "stdout",
     "output_type": "stream",
     "text": [
      "\n",
      "[info] epoch train loss: -0.15170774652472463\n",
      "Epoch 305\n"
     ]
    },
    {
     "data": {
      "application/vnd.jupyter.widget-view+json": {
       "model_id": "dfa8b1c0f4cd4f1c988e43b87848522d",
       "version_major": 2,
       "version_minor": 0
      },
      "text/plain": [
       "HBox(children=(IntProgress(value=0, max=140), HTML(value='')))"
      ]
     },
     "metadata": {},
     "output_type": "display_data"
    },
    {
     "name": "stdout",
     "output_type": "stream",
     "text": [
      "\n",
      "[info] epoch train loss: -0.1538699013965288\n",
      "Epoch 306\n"
     ]
    },
    {
     "data": {
      "application/vnd.jupyter.widget-view+json": {
       "model_id": "f1d1553518324f539a9494585df4bd61",
       "version_major": 2,
       "version_minor": 0
      },
      "text/plain": [
       "HBox(children=(IntProgress(value=0, max=140), HTML(value='')))"
      ]
     },
     "metadata": {},
     "output_type": "display_data"
    },
    {
     "name": "stdout",
     "output_type": "stream",
     "text": [
      "\n",
      "[info] epoch train loss: -0.15250181823742964\n",
      "Epoch 307\n"
     ]
    },
    {
     "data": {
      "application/vnd.jupyter.widget-view+json": {
       "model_id": "fbc5eba3accc44868864439fe78c83f9",
       "version_major": 2,
       "version_minor": 0
      },
      "text/plain": [
       "HBox(children=(IntProgress(value=0, max=140), HTML(value='')))"
      ]
     },
     "metadata": {},
     "output_type": "display_data"
    },
    {
     "name": "stdout",
     "output_type": "stream",
     "text": [
      "\n",
      "[info] epoch train loss: -0.15408688373669557\n",
      "Epoch 308\n"
     ]
    },
    {
     "data": {
      "application/vnd.jupyter.widget-view+json": {
       "model_id": "27bbd21e51ab4228bd183781cc8c263f",
       "version_major": 2,
       "version_minor": 0
      },
      "text/plain": [
       "HBox(children=(IntProgress(value=0, max=140), HTML(value='')))"
      ]
     },
     "metadata": {},
     "output_type": "display_data"
    },
    {
     "name": "stdout",
     "output_type": "stream",
     "text": [
      "lay egg to ./Nest ... save as ./Nest/NewbornBird\n",
      "origin:\n",
      "['[CLS]', 'brooks', '##ide', 'creator', 's', 'channel', '4', 'bid', 'the', 'creator', 'of', 'defunct', 'tv', 'soap', 'brooks', '##ide', 'has', 'written', 'to', 'the', 'culture', 'minister', 'to', 'offer', 'to', 'buy', 'channel', '4', '.', 'phil', 'red', '##mond', 'now', 'chairman', 'of', 'mer', '##sey', 'tv', 'told', 'tessa', 'jo', '##well', 'he', 'would', 'run', 'it', 'with', 'its', 'current', 're', '##mit', 'intact', 'for', 'the', 'next', '10', 'years', '.', 'but', 'media', 'watch', '##dog', 'of', '##com', 'has', 'said', 'the', 'the', 'commercially', 'funded', 'public', 'service', 'broadcaster', 'will', 'not', 'be', 'pri', '##vati', '##sed', '.', 'a', 'spokesman', 'for', 'the', 'department', 'for', 'culture', 'media', 'and', 'sport', 'said', 'there', 'were', 'no', 'plans', 'to', 'sell', 'the', 'channel', '.', 'he', 'added', 'that', 'primary', 'legislation', 'would', 'be', 'required', 'for', 'the', 'station', 'to', 'be', 'sold', 'off', 'which', 'the', 'government', 'was', 'not', 'intending', 'to', 'introduce', '.', 'brooks', '##ide', 'was', 'axe', '##d', 'in', '2003', 'after', 'its', 'ratings', 'slumped', 'from', 'a', 'peak', 'of', 'seven', 'million', 'to', 'just', '1', '.', '5', 'million', '.', 'red', '##mond', 'also', 'brought', 'teen', 'soap', 'holly', '##oa', '##ks', 'to', 'channel', '4', 'and', 'created', 'grange', 'hill', 'the', 'school', '-', 'based', 'drama', 'serial', 'which', 'was', 'first', 'broadcast', 'on', 'bbc', 'one', 'in', '1978', '.', 'he', 'was', 'awarded', 'the', 'cbe', 'for', 'services', 'to', 'drama', 'earlier', 'this', 'year', '.', '[SEP]', '[PAD]', '[PAD]', '[PAD]', '[PAD]', '[PAD]', '[PAD]', '[PAD]', '[PAD]', '[PAD]', '[PAD]', '[PAD]', '[PAD]', '[PAD]', '[PAD]', '[PAD]', '[PAD]', '[PAD]', '[PAD]', '[PAD]', '[PAD]', '[PAD]', '[PAD]', '[PAD]', '[PAD]', '[PAD]', '[PAD]', '[PAD]', '[PAD]', '[PAD]', '[PAD]', '[PAD]', '[PAD]', '[PAD]', '[PAD]', '[PAD]', '[PAD]', '[PAD]', '[PAD]', '[PAD]', '[PAD]', '[PAD]', '[PAD]', '[PAD]', '[PAD]', '[PAD]', '[PAD]', '[PAD]', '[PAD]', '[PAD]', '[PAD]', '[PAD]', '[PAD]', '[PAD]', '[PAD]', '[PAD]', '[PAD]', '[PAD]', '[PAD]', '[PAD]', '[PAD]', '[PAD]', '[PAD]', '[PAD]', '[PAD]', '[PAD]', '[PAD]', '[PAD]', '[PAD]', '[PAD]', '[PAD]', '[PAD]', '[PAD]', '[PAD]', '[PAD]', '[PAD]', '[PAD]', '[PAD]', '[PAD]', '[PAD]', '[PAD]', '[PAD]', '[PAD]', '[PAD]', '[PAD]', '[PAD]', '[PAD]', '[PAD]', '[PAD]', '[PAD]', '[PAD]', '[PAD]', '[PAD]', '[PAD]', '[PAD]', '[PAD]', '[PAD]', '[PAD]', '[PAD]', '[PAD]', '[PAD]', '[PAD]', '[PAD]', '[PAD]', '[PAD]', '[PAD]', '[PAD]', '[PAD]', '[PAD]', '[PAD]', '[PAD]', '[PAD]', '[PAD]', '[PAD]', '[PAD]', '[PAD]', '[PAD]', '[PAD]', '[PAD]', '[PAD]', '[PAD]', '[PAD]', '[PAD]', '[PAD]', '[PAD]', '[PAD]', '[PAD]', '[PAD]', '[PAD]', '[PAD]', '[PAD]', '[PAD]', '[PAD]', '[PAD]', '[PAD]', '[PAD]', '[PAD]', '[PAD]', '[PAD]', '[PAD]', '[PAD]', '[PAD]', '[PAD]', '[PAD]', '[PAD]', '[PAD]', '[PAD]', '[PAD]', '[PAD]', '[PAD]', '[PAD]', '[PAD]', '[PAD]', '[PAD]', '[PAD]', '[PAD]', '[PAD]', '[PAD]', '[PAD]', '[PAD]', '[PAD]', '[PAD]', '[PAD]', '[PAD]', '[PAD]', '[PAD]', '[PAD]', '[PAD]', '[PAD]', '[PAD]', '[PAD]', '[PAD]', '[PAD]', '[PAD]', '[PAD]', '[PAD]', '[PAD]', '[PAD]', '[PAD]', '[PAD]', '[PAD]', '[PAD]', '[PAD]', '[PAD]', '[PAD]', '[PAD]', '[PAD]', '[PAD]', '[PAD]', '[PAD]', '[PAD]', '[PAD]', '[PAD]', '[PAD]', '[PAD]', '[PAD]', '[PAD]', '[PAD]', '[PAD]', '[PAD]', '[PAD]', '[PAD]', '[PAD]', '[PAD]', '[PAD]', '[PAD]', '[PAD]']\n",
      "summary:\n",
      "['[CLS]', '##kers', '##kers', '##kers', '##kers', '##kers', '##kers', '##kers', '##kers', '##kers', '##kers', '##kers', '##kers', '##kers', '##kers', '##kers', '##kers', '##kers', '##kers', '##kers']\n",
      "real summary:\n",
      "['[CLS]', 'brooks', '##ide', 'creator', 's', 'channel', '4', 'bid', 'the', 'creator', 'of', 'defunct', 'tv', 'soap', 'brooks', '##ide', 'has', 'written', 'to']\n",
      "sentiment: 4\n",
      "y: 3\n",
      "\n",
      "\n",
      "[info] epoch train loss: -0.1483997927970222\n",
      "Epoch 309\n"
     ]
    },
    {
     "data": {
      "application/vnd.jupyter.widget-view+json": {
       "model_id": "cb349b90180b4dc3a4fa07d9ab9a6605",
       "version_major": 2,
       "version_minor": 0
      },
      "text/plain": [
       "HBox(children=(IntProgress(value=0, max=140), HTML(value='')))"
      ]
     },
     "metadata": {},
     "output_type": "display_data"
    },
    {
     "name": "stdout",
     "output_type": "stream",
     "text": [
      "\n",
      "[info] epoch train loss: -0.13985600497089762\n",
      "Epoch 310\n"
     ]
    },
    {
     "data": {
      "application/vnd.jupyter.widget-view+json": {
       "model_id": "2ecd1af94f304f809e1acfb774c85915",
       "version_major": 2,
       "version_minor": 0
      },
      "text/plain": [
       "HBox(children=(IntProgress(value=0, max=140), HTML(value='')))"
      ]
     },
     "metadata": {},
     "output_type": "display_data"
    },
    {
     "name": "stdout",
     "output_type": "stream",
     "text": [
      "\n",
      "[info] epoch train loss: -0.12187367027579513\n",
      "Epoch 311\n"
     ]
    },
    {
     "data": {
      "application/vnd.jupyter.widget-view+json": {
       "model_id": "9dff209fed16422bb53b6b280e74b276",
       "version_major": 2,
       "version_minor": 0
      },
      "text/plain": [
       "HBox(children=(IntProgress(value=0, max=140), HTML(value='')))"
      ]
     },
     "metadata": {},
     "output_type": "display_data"
    },
    {
     "name": "stdout",
     "output_type": "stream",
     "text": [
      "\n",
      "[info] epoch train loss: -0.11445242630427077\n",
      "Epoch 312\n"
     ]
    },
    {
     "data": {
      "application/vnd.jupyter.widget-view+json": {
       "model_id": "bcc80216a5184fb586407cec7facb3d5",
       "version_major": 2,
       "version_minor": 0
      },
      "text/plain": [
       "HBox(children=(IntProgress(value=0, max=140), HTML(value='')))"
      ]
     },
     "metadata": {},
     "output_type": "display_data"
    },
    {
     "name": "stdout",
     "output_type": "stream",
     "text": [
      "\n",
      "[info] epoch train loss: -0.11084152080853918\n",
      "Epoch 313\n"
     ]
    },
    {
     "data": {
      "application/vnd.jupyter.widget-view+json": {
       "model_id": "dad7f17eb0e04c40baa0ded4aaa67f1c",
       "version_major": 2,
       "version_minor": 0
      },
      "text/plain": [
       "HBox(children=(IntProgress(value=0, max=140), HTML(value='')))"
      ]
     },
     "metadata": {},
     "output_type": "display_data"
    },
    {
     "name": "stdout",
     "output_type": "stream",
     "text": [
      "\n",
      "[info] epoch train loss: -0.1017587646236052\n",
      "Epoch 314\n"
     ]
    },
    {
     "data": {
      "application/vnd.jupyter.widget-view+json": {
       "model_id": "98ec6d5f2567444cbbb2889f4b4a2fec",
       "version_major": 2,
       "version_minor": 0
      },
      "text/plain": [
       "HBox(children=(IntProgress(value=0, max=140), HTML(value='')))"
      ]
     },
     "metadata": {},
     "output_type": "display_data"
    },
    {
     "name": "stdout",
     "output_type": "stream",
     "text": [
      "\n",
      "[info] epoch train loss: -0.10323278820416948\n",
      "Epoch 315\n"
     ]
    },
    {
     "data": {
      "application/vnd.jupyter.widget-view+json": {
       "model_id": "188991dd31aa4bf495f06eaed45955af",
       "version_major": 2,
       "version_minor": 0
      },
      "text/plain": [
       "HBox(children=(IntProgress(value=0, max=140), HTML(value='')))"
      ]
     },
     "metadata": {},
     "output_type": "display_data"
    },
    {
     "name": "stdout",
     "output_type": "stream",
     "text": [
      "lay egg to ./Nest ... save as ./Nest/NewbornBird\n",
      "origin:\n",
      "['[CLS]', 'more', 'power', 'to', 'the', 'people', 'says', 'hp', 'the', 'digital', 'revolution', 'is', 'focused', 'on', 'letting', 'people', 'tell', 'and', 'share', 'their', 'own', 'stories', 'according', 'to', 'carly', 'fi', '##orin', '##a', 'chief', 'of', 'technology', 'giant', 'he', '##wl', '##ett', 'packard', '.', 'the', 'job', 'of', 'firms', 'such', 'as', 'hp', 'now', 'she', 'said', 'in', 'a', 'speech', 'at', 'the', 'consumer', 'electronics', 'show', '(', 'ce', '##s', ')', 'was', 'to', 'ensure', 'digital', 'and', 'physical', 'worlds', 'fully', 'converge', '##d', '.', 'she', 'said', 'the', 'goal', 'for', '2005', 'was', 'to', 'make', 'people', 'the', 'centre', 'of', 'technology', '.', 'ce', '##s', 'showcases', '50', '000', 'new', 'ga', '##dgets', 'that', 'will', 'be', 'hitting', 'the', 'shelves', 'in', '2005', '.', 'the', 'tech', '-', 'fest', 'the', 'largest', 'of', 'its', 'kind', 'in', 'the', 'world', 'runs', 'from', '6', 'to', '9', 'january', '.', 'the', 'digital', 'revolution', 'is', 'about', 'the', 'democrat', '##isation', 'of', 'technology', 'and', 'the', 'experiences', 'it', 'makes', 'possible', 'she', 'told', 'delegates', '.', 'revolution', 'has', 'always', 'been', 'about', 'giving', 'power', 'to', 'the', 'people', '.', 'she', 'added', ':', 'the', 'real', 'story', 'of', 'the', 'digital', 'revolution', 'is', 'not', 'just', 'new', 'products', 'but', 'the', 'millions', 'of', 'experiences', 'made', 'possible', 'and', 'stories', 'that', 'millions', 'can', 'tell', '.', 'part', 'of', 'giving', 'people', 'more', 'control', 'has', 'been', 'about', 'the', 'freeing', 'up', 'of', 'content', 'such', 'as', 'images', 'video', 'and', 'music', '.', 'crucial', 'to', 'this', 'has', 'been', 'the', 'effort', 'to', 'make', 'devices', 'that', 'speak', 'to', 'each', 'other', 'better', 'so', 'that', 'content', 'can', 'be', 'more', 'easily', 'transferred', 'from', 'one', 'device', 'such', 'as', 'a', 'digital', 'camera', 'to', 'others', 'such', 'as', 'portable', 'media', 'players', '.', 'a', 'lot', 'of', 'work', 'still', 'needs', 'to', 'be', 'done', 'however', 'to', 'sort', 'out', 'compatibility', 'issues', 'and', 'standards', 'within', 'the', 'technology', 'industry', 'so', 'that', 'ga', '##dgets', 'just', 'work', 'seam', '##lessly', 'she', 'said', '.', 'ms', 'fi', '##orin', '##a', 's', 'talk', 'also', 'to', '##uted', 'the', 'way', 'technology', 'is', 'being', 'designed', 'to', 'focus', 'on', 'lifestyle', 'fashion', 'and', 'personal', '##isation', 'something', 'she', 'sees', 'as', 'key', 'to', 'what', 'people', 'want', '.', 'special', 'guest', 'singer', 'gwen', 'stefan', '##i', 'joined', 'her', 'on', '-', 'stage', 'to', 'promote', 'her', 'own', 'range', 'of', 'hp', 'digital', 'cameras', 'which', 'ms', 'stefan', '##i', 'has', 'helped', 'design', 'and', 'which', 'are', 'heavily', 'influenced', 'by', 'japanese', 'youth', 'culture', '.', 'the', 'digital', 'cameras', 'which', 'are', 'due', 'to', 'go', 'on', 'sale', 'in', 'the', 'us', 'by', 'the', 'summer', 'are', 'based', 'on', 'the', 'hp', '60', '##7', 'model', '.', 'the', 'emphasis', 'on', 'personal', '##isation', 'and', 'lifestyle', 'is', 'a', 'big', 'theme', 'at', 'this', 'year', 's', 'ce', '##s', 'with', 'tiny', 'wear', '##able', 'mp3', 'players', 'at', 'every', 'turn', 'and', 'rainbow', 'hue', '##s', 'giving']\n",
      "summary:\n",
      "['[CLS]', '##kers', '##kers', '##kers', '##kers', '##kers', '##kers', '##kers', '##kers', '##kers', '##kers', '##kers', '##kers', '##kers', '##kers', '##kers', '##kers', '##kers', '##kers', '##kers']\n",
      "real summary:\n",
      "['[CLS]', 'more', 'power', 'to', 'the', 'people', 'says', 'hp', 'the', 'digital', 'revolution', 'is', 'focused', 'on', 'letting', 'people', 'tell', 'and', 'share']\n",
      "sentiment: 4\n",
      "y: 0\n",
      "\n",
      "\n",
      "[info] epoch train loss: -0.10206357260305887\n",
      "Epoch 316\n"
     ]
    },
    {
     "data": {
      "application/vnd.jupyter.widget-view+json": {
       "model_id": "4051f5168557437a939aa39c04e20f2a",
       "version_major": 2,
       "version_minor": 0
      },
      "text/plain": [
       "HBox(children=(IntProgress(value=0, max=140), HTML(value='')))"
      ]
     },
     "metadata": {},
     "output_type": "display_data"
    },
    {
     "name": "stdout",
     "output_type": "stream",
     "text": [
      "\n",
      "[info] epoch train loss: -0.1050964334658017\n",
      "Epoch 317\n"
     ]
    },
    {
     "data": {
      "application/vnd.jupyter.widget-view+json": {
       "model_id": "ed6e9326e134468ca3576b2a96ce2e7c",
       "version_major": 2,
       "version_minor": 0
      },
      "text/plain": [
       "HBox(children=(IntProgress(value=0, max=140), HTML(value='')))"
      ]
     },
     "metadata": {},
     "output_type": "display_data"
    },
    {
     "name": "stdout",
     "output_type": "stream",
     "text": [
      "\n",
      "[info] epoch train loss: -0.09511103662282169\n",
      "Epoch 318\n"
     ]
    },
    {
     "data": {
      "application/vnd.jupyter.widget-view+json": {
       "model_id": "9685086a2e8f4fb9a28125498b30b6f3",
       "version_major": 2,
       "version_minor": 0
      },
      "text/plain": [
       "HBox(children=(IntProgress(value=0, max=140), HTML(value='')))"
      ]
     },
     "metadata": {},
     "output_type": "display_data"
    },
    {
     "name": "stdout",
     "output_type": "stream",
     "text": [
      "\n",
      "[info] epoch train loss: -0.09397052056746784\n",
      "Epoch 319\n"
     ]
    },
    {
     "data": {
      "application/vnd.jupyter.widget-view+json": {
       "model_id": "1d62a41f5adf4a1ba93a2e9da514ba76",
       "version_major": 2,
       "version_minor": 0
      },
      "text/plain": [
       "HBox(children=(IntProgress(value=0, max=140), HTML(value='')))"
      ]
     },
     "metadata": {},
     "output_type": "display_data"
    },
    {
     "name": "stdout",
     "output_type": "stream",
     "text": [
      "\n",
      "[info] epoch train loss: -0.09112417559922506\n",
      "Epoch 320\n"
     ]
    },
    {
     "data": {
      "application/vnd.jupyter.widget-view+json": {
       "model_id": "6af8f4b414884a13bb9b366692314e43",
       "version_major": 2,
       "version_minor": 0
      },
      "text/plain": [
       "HBox(children=(IntProgress(value=0, max=140), HTML(value='')))"
      ]
     },
     "metadata": {},
     "output_type": "display_data"
    },
    {
     "name": "stdout",
     "output_type": "stream",
     "text": [
      "\n",
      "[info] epoch train loss: -0.09696667423280181\n",
      "Epoch 321\n"
     ]
    },
    {
     "data": {
      "application/vnd.jupyter.widget-view+json": {
       "model_id": "559aed0b8a284e9384cef4d8714d325b",
       "version_major": 2,
       "version_minor": 0
      },
      "text/plain": [
       "HBox(children=(IntProgress(value=0, max=140), HTML(value='')))"
      ]
     },
     "metadata": {},
     "output_type": "display_data"
    },
    {
     "name": "stdout",
     "output_type": "stream",
     "text": [
      "\n",
      "[info] epoch train loss: -0.11374265317420265\n",
      "Epoch 322\n"
     ]
    },
    {
     "data": {
      "application/vnd.jupyter.widget-view+json": {
       "model_id": "d76050e19f6a41b5b3d88ccc61f61d87",
       "version_major": 2,
       "version_minor": 0
      },
      "text/plain": [
       "HBox(children=(IntProgress(value=0, max=140), HTML(value='')))"
      ]
     },
     "metadata": {},
     "output_type": "display_data"
    },
    {
     "name": "stdout",
     "output_type": "stream",
     "text": [
      "lay egg to ./Nest ... save as ./Nest/NewbornBird\n",
      "origin:\n",
      "['[CLS]', 'media', 'ga', '##dgets', 'get', 'moving', 'pocket', '-', 'sized', 'devices', 'that', 'let', 'people', 'carry', 'around', 'video', 'and', 'images', 'are', 'set', 'to', 'have', 'a', 'big', 'year', 'in', '2005', 'according', 'to', 'industry', 'experts', '.', 'last', 'year', 'saw', 'the', 'emergence', 'of', 'portable', 'media', 'players', 'such', 'as', 'the', 'windows', '-', 'based', 'creative', 'zen', 'portable', 'media', 'player', 'the', 'samsung', 'yep', '##p', 'the', 'ir', '##iver', 'pm', '##c', '-', '100', 'and', 'the', 'arch', '##os', 'av', '##400', 'series', 'among', 'others', '.', 'but', 'this', 'year', 'they', 'are', 'set', 'to', 'get', 'smarter', 'and', 'more', 'connected', 'to', 'allow', 'people', 'to', 'find', 'more', 'video', 'to', 'watch', 'on', 'them', '.', 'arch', '##os', 'launched', 'its', 'latest', 'range', 'of', 'its', 'linux', '-', 'based', 'portable', 'media', 'devices', 'at', 'the', 'consumer', 'electronics', 'show', 'in', 'las', 'vegas', 'on', 'friday', '.', 'dubbed', 'the', 'pocket', 'media', 'assistant', 'pm', '##a', '##43', '##0', 'it', 'crucial', '##ly', 'has', 'wi', '-', 'fi', 'capability', 'built', '-', 'in', 'for', 'the', 'first', 'time', '.', 'consumers', 'are', 'showing', 'a', 'great', 'thirst', 'for', 'devices', 'that', 'store', 'all', 'their', 'media', 'in', 'one', 'place', 'for', 'anywhere', 'access', 'said', 'henri', 'cr', '##oh', '##as', 'chief', 'of', 'arch', '##os', '.', 'and', 'now', 'those', 'consumers', 'can', 'stay', 'connected', 'and', 'productive', 'at', 'the', 'same', 'time', '.', 'arch', '##os', 'said', 'the', 'focus', 'for', 'the', 'device', 'is', 'to', 'be', 'the', 'second', 'ga', '##dget', 'in', 'people', 's', 'pockets', 'after', 'the', 'mobile', '.', 'unlike', 'windows', '-', 'based', 'players', 'the', 'arch', '##os', 'av', '##400', 'series', 'devices', 'have', 'always', 'been', 'able', 'to', 'record', 'from', 'any', 'video', 'source', 'such', 'as', 'tv', '##s', 'as', 'well', 'as', 'playback', '.', 'the', 'content', 'put', 'onto', 'the', 'devices', 'is', 'copy', 'protected', 'so', 'cannot', 'then', 'be', 'swapped', 'to', 'another', 'device', '.', 'recording', 'is', 'perhaps', 'a', 'crucial', 'functionality', 'for', 'those', 'who', 'have', 'not', 'seen', 'the', 'point', 'of', 'portable', 'video', 'if', 'there', 'is', 'not', 'a', 'lot', 'of', 'video', 'to', 'watch', 'on', 'it', '.', 'and', 'wi', '-', 'fi', 'connectivity', 'opens', 'up', 'the', 'possibility', 'of', 'content', 'delivery', 'via', 'a', 'high', '-', 'speed', 'wireless', 'link', '.', 'arch', '##os', 'also', 'announced', 'that', 'it', 'would', 'open', 'up', 'the', 'software', 'development', 'kit', 'to', 'linux', 'developers', 'so', 'that', 'more', 'applications', 'could', 'be', 'created', 'for', 'the', 'device', '.', 'microsoft', 'also', 'made', 'some', 'announcements', 'in', 'the', 'portable', 'media', 'arena', 'at', 'ce', '##s', 'primarily', 'for', 'us', 'consumers', 'though', '.', 'it', 'has', 'agreed', 'a', 'content', 'deal', 'with', 'personal', 'video', 'recorder', 'company', 'ti', '##vo', 'which', 'bill', 'gates', 'also', 'showcased', 'in', 'his', 'keynote', 'speech', 'at', 'ce', '##s', '.', 'the', 'ti', '##vo', 'to', 'go', 'service', 'means', 'that', 'us', 'consumers', 'will', 'be', 'able', 'to', 'take', 'any']\n",
      "summary:\n",
      "['[CLS]', '##kers', '##kers', '##kers', '##kers', '##kers', '##kers', '##kers', '##kers', '##kers', '##kers', '##kers', '##kers', '##kers', '##kers', '##kers', '##kers', '##kers', '##kers', '##kers']\n",
      "real summary:\n",
      "['[CLS]', 'media', 'ga', '##dgets', 'get', 'moving', 'pocket', '-', 'sized', 'devices', 'that', 'let', 'people', 'carry', 'around', 'video', 'and', 'images', 'are']\n",
      "sentiment: 4\n",
      "y: 0\n",
      "\n",
      "\n",
      "[info] epoch train loss: -0.11614405697458535\n",
      "Epoch 323\n"
     ]
    },
    {
     "data": {
      "application/vnd.jupyter.widget-view+json": {
       "model_id": "bb5748e62b2f4921bc8b4a9cc44f3510",
       "version_major": 2,
       "version_minor": 0
      },
      "text/plain": [
       "HBox(children=(IntProgress(value=0, max=140), HTML(value='')))"
      ]
     },
     "metadata": {},
     "output_type": "display_data"
    },
    {
     "name": "stdout",
     "output_type": "stream",
     "text": [
      "\n",
      "[info] epoch train loss: -0.11561315479200078\n",
      "Epoch 324\n"
     ]
    },
    {
     "data": {
      "application/vnd.jupyter.widget-view+json": {
       "model_id": "6682b16661f44b40b2c48ea02875f032",
       "version_major": 2,
       "version_minor": 0
      },
      "text/plain": [
       "HBox(children=(IntProgress(value=0, max=140), HTML(value='')))"
      ]
     },
     "metadata": {},
     "output_type": "display_data"
    },
    {
     "name": "stdout",
     "output_type": "stream",
     "text": [
      "\n",
      "[info] epoch train loss: -0.11008106736040385\n",
      "Epoch 325\n"
     ]
    },
    {
     "data": {
      "application/vnd.jupyter.widget-view+json": {
       "model_id": "042d29ae446843e297680b8e4091b23e",
       "version_major": 2,
       "version_minor": 0
      },
      "text/plain": [
       "HBox(children=(IntProgress(value=0, max=140), HTML(value='')))"
      ]
     },
     "metadata": {},
     "output_type": "display_data"
    },
    {
     "name": "stdout",
     "output_type": "stream",
     "text": [
      "\n",
      "[info] epoch train loss: -0.12072935319589695\n",
      "Epoch 326\n"
     ]
    },
    {
     "data": {
      "application/vnd.jupyter.widget-view+json": {
       "model_id": "fccc9d6074204bb6a3ddadd55e259039",
       "version_major": 2,
       "version_minor": 0
      },
      "text/plain": [
       "HBox(children=(IntProgress(value=0, max=140), HTML(value='')))"
      ]
     },
     "metadata": {},
     "output_type": "display_data"
    },
    {
     "name": "stdout",
     "output_type": "stream",
     "text": [
      "\n",
      "[info] epoch train loss: -0.12417704890130088\n",
      "Epoch 327\n"
     ]
    },
    {
     "data": {
      "application/vnd.jupyter.widget-view+json": {
       "model_id": "7ccccdf6209a4596ac810ae21b010b60",
       "version_major": 2,
       "version_minor": 0
      },
      "text/plain": [
       "HBox(children=(IntProgress(value=0, max=140), HTML(value='')))"
      ]
     },
     "metadata": {},
     "output_type": "display_data"
    },
    {
     "name": "stdout",
     "output_type": "stream",
     "text": [
      "\n",
      "[info] epoch train loss: -0.12441646058422944\n",
      "Epoch 328\n"
     ]
    },
    {
     "data": {
      "application/vnd.jupyter.widget-view+json": {
       "model_id": "6df4f34f437142369db72b71187838bc",
       "version_major": 2,
       "version_minor": 0
      },
      "text/plain": [
       "HBox(children=(IntProgress(value=0, max=140), HTML(value='')))"
      ]
     },
     "metadata": {},
     "output_type": "display_data"
    },
    {
     "name": "stdout",
     "output_type": "stream",
     "text": [
      "\n",
      "[info] epoch train loss: -0.12687127006985535\n",
      "Epoch 329\n"
     ]
    },
    {
     "data": {
      "application/vnd.jupyter.widget-view+json": {
       "model_id": "040eb53c36b24edb93f0717386138cd5",
       "version_major": 2,
       "version_minor": 0
      },
      "text/plain": [
       "HBox(children=(IntProgress(value=0, max=140), HTML(value='')))"
      ]
     },
     "metadata": {},
     "output_type": "display_data"
    },
    {
     "name": "stdout",
     "output_type": "stream",
     "text": [
      "lay egg to ./Nest ... save as ./Nest/NewbornBird\n",
      "origin:\n",
      "['[CLS]', 'millions', 'go', 'missing', 'at', 'china', 'bank', 'two', 'senior', 'officials', 'at', 'one', 'of', 'china', 's', 'top', 'commercial', 'banks', 'have', 'reportedly', 'disappeared', 'after', 'funds', 'worth', 'up', 'to', '$', '120', '##m', '(', '£', '##64', '##m', ')', 'went', 'missing', '.', 'the', 'pair', 'both', 'worked', 'at', 'bank', 'of', 'china', 'in', 'the', 'northern', 'city', 'of', 'ha', '##rbin', 'the', 'south', 'china', 'morning', 'post', 'reported', '.', 'the', 'latest', 'scandal', 'at', 'bank', 'of', 'china', 'will', 'do', 'nothing', 'to', 'reassure', 'foreign', 'investors', 'that', 'china', 's', 'big', 'four', 'banks', 'are', 'ready', 'for', 'international', 'listings', '.', 'government', 'policy', 'sees', 'the', 'bank', 'listings', 'as', 'vital', 'economic', 'reforms', '.', 'bank', 'of', 'china', 'is', 'one', 'of', 'two', 'front', '##runner', '##s', 'in', 'the', 'race', 'to', 'list', 'overseas', '.', 'the', 'other', 'is', 'china', 'construction', 'bank', '.', 'both', 'are', 'expected', 'to', 'list', 'abroad', 'during', '2005', '.', 'they', 'shared', 'a', '$', '45', '##bn', 'state', 'bail', '##out', 'in', '2003', 'to', 'help', 'clean', 'up', 'their', 'balance', 'sheets', 'in', 'preparation', 'for', 'a', 'foreign', 'stock', 'market', 'debut', '.', 'however', 'a', 'report', 'in', 'the', 'china', '-', 'published', 'economic', 'observer', 'said', 'on', 'monday', 'that', 'the', 'two', 'banks', 'may', 'have', 'scrapped', 'plans', 'to', 'list', 'in', 'new', 'york', 'because', 'of', 'the', 'cost', 'of', 'meeting', 'regulatory', 'requirements', 'imposed', 'since', 'the', 'en', '##ron', 'scandal', '.', 'bank', 'of', 'china', 'is', 'the', 'country', 's', 'biggest', 'foreign', 'exchange', 'dealer', 'while', 'china', 'construction', 'bank', 'is', 'the', 'largest', 'deposit', 'holder', '.', 'china', 's', 'banking', 'sector', 'is', 'burden', '##ed', 'with', 'at', 'least', '$', '190', '##bn', 'of', 'bad', 'debt', 'according', 'to', 'official', 'data', 'though', 'most', 'observers', 'believe', 'the', 'true', 'figure', 'is', 'far', 'higher', '.', 'officially', 'one', 'in', 'five', 'loans', 'is', 'not', 'being', 'rep', '##aid', '.', 'attempts', 'to', 'strengthen', 'internal', 'controls', 'and', 'tighten', 'lending', 'policies', 'have', 'uncovered', 'a', 'succession', 'of', 'scandals', 'involving', 'em', '##be', '##zzle', '##ment', 'by', 'bank', 'officials', 'and', 'loans', '-', 'for', '-', 'favour', '##s', '.', 'the', 'most', 'high', '-', 'profile', 'case', 'involved', 'the', 'ex', '-', 'president', 'of', 'bank', 'of', 'china', 'wang', 'xu', '##eb', '##ing', 'jailed', 'for', '12', 'years', 'in', '2003', '.', 'although', 'he', 'committed', 'the', 'offences', 'whilst', 'running', 'bank', 'of', 'china', 'in', 'new', 'york', 'mr', 'wang', 'was', 'head', 'of', 'china', 'construction', 'bank', 'when', 'the', 'scandal', 'broke', '.', 'earlier', 'this', 'month', 'a', 'china', 'construction', 'bank', 'branch', 'manager', 'was', 'jailed', 'for', 'life', 'in', 'a', 'separate', 'case', '.', 'china', 's', 'banks', 'used', 'to', 'act', 'as', 'cash', 'offices', 'for', 'state', 'enterprises', 'and', 'did', 'not', 'require', 'checks', 'on', 'credit', 'worth', '##iness', '.', 'the', 'introduction', 'of', 'market', 'reforms', 'has', 'been', 'accompanied', 'by', 'attempts', 'to', 'modern', '##ise', 'the', 'banking', 'sector', 'but']\n",
      "summary:\n",
      "['[CLS]', '##kers', '##kers', '##kers', '##kers', '##kers', '##kers', '##kers', '##kers', '##kers', '##kers', '##kers', '##kers', '##kers', '##kers', '##kers', '##kers', '##kers', '##kers', '##kers']\n",
      "real summary:\n",
      "['[CLS]', 'millions', 'go', 'missing', 'at', 'china', 'bank', 'two', 'senior', 'officials', 'at', 'one', 'of', 'china', 's', 'top', 'commercial', 'banks', 'have']\n",
      "sentiment: 4\n",
      "y: 1\n",
      "\n",
      "\n",
      "[info] epoch train loss: -0.13424895770837922\n",
      "Epoch 330\n"
     ]
    },
    {
     "data": {
      "application/vnd.jupyter.widget-view+json": {
       "model_id": "105fce506a4341a28128d6fe09d56f9a",
       "version_major": 2,
       "version_minor": 0
      },
      "text/plain": [
       "HBox(children=(IntProgress(value=0, max=140), HTML(value='')))"
      ]
     },
     "metadata": {},
     "output_type": "display_data"
    },
    {
     "name": "stdout",
     "output_type": "stream",
     "text": [
      "\n",
      "[info] epoch train loss: -0.13747551368778943\n",
      "Epoch 331\n"
     ]
    },
    {
     "data": {
      "application/vnd.jupyter.widget-view+json": {
       "model_id": "185faa552d194fd28d8ed93ed8088b01",
       "version_major": 2,
       "version_minor": 0
      },
      "text/plain": [
       "HBox(children=(IntProgress(value=0, max=140), HTML(value='')))"
      ]
     },
     "metadata": {},
     "output_type": "display_data"
    },
    {
     "name": "stdout",
     "output_type": "stream",
     "text": [
      "\n",
      "[info] epoch train loss: -0.1388176031934433\n",
      "Epoch 332\n"
     ]
    },
    {
     "data": {
      "application/vnd.jupyter.widget-view+json": {
       "model_id": "7788bfa962a84f38a0619a764d183802",
       "version_major": 2,
       "version_minor": 0
      },
      "text/plain": [
       "HBox(children=(IntProgress(value=0, max=140), HTML(value='')))"
      ]
     },
     "metadata": {},
     "output_type": "display_data"
    },
    {
     "name": "stdout",
     "output_type": "stream",
     "text": [
      "\n",
      "[info] epoch train loss: -0.1398832331992342\n",
      "Epoch 333\n"
     ]
    },
    {
     "data": {
      "application/vnd.jupyter.widget-view+json": {
       "model_id": "d20794bb0d19461a8b676940eedf1073",
       "version_major": 2,
       "version_minor": 0
      },
      "text/plain": [
       "HBox(children=(IntProgress(value=0, max=140), HTML(value='')))"
      ]
     },
     "metadata": {},
     "output_type": "display_data"
    },
    {
     "name": "stdout",
     "output_type": "stream",
     "text": [
      "\n",
      "[info] epoch train loss: -0.13950236139364572\n",
      "Epoch 334\n"
     ]
    },
    {
     "data": {
      "application/vnd.jupyter.widget-view+json": {
       "model_id": "feabd37bda2c416a9678a5e7a319ea95",
       "version_major": 2,
       "version_minor": 0
      },
      "text/plain": [
       "HBox(children=(IntProgress(value=0, max=140), HTML(value='')))"
      ]
     },
     "metadata": {},
     "output_type": "display_data"
    },
    {
     "name": "stdout",
     "output_type": "stream",
     "text": [
      "\n",
      "[info] epoch train loss: -0.14007865092777366\n",
      "Epoch 335\n"
     ]
    },
    {
     "data": {
      "application/vnd.jupyter.widget-view+json": {
       "model_id": "fca33320fa5c49bc97975ce6b6829e49",
       "version_major": 2,
       "version_minor": 0
      },
      "text/plain": [
       "HBox(children=(IntProgress(value=0, max=140), HTML(value='')))"
      ]
     },
     "metadata": {},
     "output_type": "display_data"
    },
    {
     "name": "stdout",
     "output_type": "stream",
     "text": [
      "\n",
      "[info] epoch train loss: -0.13894485551430924\n",
      "Epoch 336\n"
     ]
    },
    {
     "data": {
      "application/vnd.jupyter.widget-view+json": {
       "model_id": "3cff6d2856694eb8b32e97abbc6bf436",
       "version_major": 2,
       "version_minor": 0
      },
      "text/plain": [
       "HBox(children=(IntProgress(value=0, max=140), HTML(value='')))"
      ]
     },
     "metadata": {},
     "output_type": "display_data"
    },
    {
     "name": "stdout",
     "output_type": "stream",
     "text": [
      "lay egg to ./Nest ... save as ./Nest/NewbornBird\n",
      "origin:\n",
      "['[CLS]', 'top', 'of', 'the', 'pops', 'leaves', 'bbc', 'one', 'the', 'bbc', 's', 'flagship', 'pop', 'music', 'programme', 'top', 'of', 'the', 'pops', 'is', 'to', 'move', 'from', 'bbc', 'one', 'on', 'fridays', 'to', 'sundays', 'on', 'bbc', 'two', '.', 'the', 'new', 'programme', 'will', 'combine', 'with', 'archive', 'show', 'to', '##tp', '##2', 'mixing', 'new', 'music', 'with', 'footage', 'of', 'classic', 'bands', '.', 'the', 'corporation', 'said', 'the', 'new', 'show', 'aims', 'to', 'appeal', 'to', 'a', 'diverse', 'audience', 'of', 'music', 'lovers', '.', 'the', 'move', 'is', 'the', 'biggest', 'shake', '-', 'up', 'in', 'the', 'history', 'of', 'the', 'show', 'which', 'was', 'first', 'broadcast', 'in', '1964', 'and', 'has', 'always', 'been', 'on', 'bbc', 'one', '.', 'top', 'of', 'the', 'pops', 'was', 'relaunched', 'in', 'a', 'blaze', 'of', 'publicity', 'in', 'december', 'last', 'year', 'in', 'an', 'attempt', 'to', 'reverse', 'a', 'long', '-', 'term', 'decline', 'in', 'audience', 'figures', '.', 'the', 'all', 'new', 'top', 'of', 'the', 'pops', 'was', 'fronted', 'by', 'newcomer', 'tim', 'ka', '##sh', 'and', 'was', 'put', 'together', 'by', 'producer', 'and', '##i', 'peters', 'who', 'was', 'brought', 'back', 'to', 'the', 'bbc', 'from', 'channel', '4', 'to', 'rev', '##ital', '##ise', 'the', 'series', '.', 'about', 'three', 'million', 'people', 'a', 'week', 'were', 'watching', 'the', 'show', 'on', 'fridays', '-', 'less', 'than', 'half', 'the', 'total', 'it', 'was', 'attracting', 'in', 'the', 'mid', '-', '1990s', '-', 'as', 'the', 'programme', 'went', 'up', 'against', 'popular', 'itv', 'soap', 'coronation', 'street', '.', 'but', 'despite', 'the', 're', '##lau', '##nch', 'audience', 'figures', 'failed', 'to', 'rise', 'and', 'still', 'remain', 'around', 'the', 'three', 'million', 'mark', '.', 'tim', 'ka', '##sh', 'has', 'since', 'been', 'replaced', 'as', 'host', 'by', 'fear', '##ne', 'cotton', '.', 'the', 'new', 'show', 'will', 'launch', 'in', 'spring', 'next', 'year', 'in', 'an', 'extended', 'format', '.', 'bbc', 'two', 'controller', 'ro', '##ly', 'keating', ':', 'it', 's', 'an', 'exciting', 'new', 'era', 'for', 'top', 'of', 'the', 'pops', '.', 'we', 'want', 'to', 'make', 'it', 'bigger', 'and', 'better', 'so', 'that', 'it', 'becomes', 'the', 'ultimate', 'pop', 'music', 'show', 'for', 'music', 'lovers', 'of', 'every', 'generation', '.', 'mr', 'keating', 'described', 'bbc', 'two', 'as', 'the', 'natural', 'home', 'of', 'top', 'of', 'the', 'pops', '.', 'he', 'added', ':', 'the', 'addition', 'of', 'top', 'of', 'the', 'pops', 'will', 'also', 'extend', 'bbc', 'two', 's', 'offering', 'to', 'younger', 'audiences', '.', 'a', 'bbc', 'spoke', '##sw', '##oman', 'said', 'and', '##i', 'peters', 'would', 'continue', 'as', 'executive', 'producer', 'on', 'the', 'show', '.', 'she', 'said', 'that', 'issues', 'over', 'the', 'exact', 'format', 'of', 'the', 'programme', 'and', 'a', 'time', 'slot', 'were', 'still', 'to', 'be', 'decided', '.', 'the', 'programme', 'will', 'have', 'a', 'close', 'relationship', 'with', 'the', 'bbc', 'radio', '1', 'chart', 'show', 'which', 'suggests', 'the', 'relaunched', 'show', 'may', 'be', 'transmitted', 'at', 'about', '1900', 'on', 'sundays', '.']\n",
      "summary:\n",
      "['[CLS]', '##kers', '##kers', '##kers', '##kers', '##kers', '##kers', '##kers', '##kers', '##kers', '##kers', '##kers', '##kers', '##kers', '##kers', '##kers', '##kers', '##kers', '##kers', '##kers']\n",
      "real summary:\n",
      "['[CLS]', 'top', 'of', 'the', 'pops', 'leaves', 'bbc', 'one', 'the', 'bbc', 's', 'flagship', 'pop', 'music', 'programme', 'top', 'of', 'the', 'pops']\n",
      "sentiment: 4\n",
      "y: 3\n",
      "\n",
      "\n",
      "[info] epoch train loss: -0.13960405695739836\n",
      "Epoch 337\n"
     ]
    },
    {
     "data": {
      "application/vnd.jupyter.widget-view+json": {
       "model_id": "32b98384534748e3bc4ec1fce71ff5cb",
       "version_major": 2,
       "version_minor": 0
      },
      "text/plain": [
       "HBox(children=(IntProgress(value=0, max=140), HTML(value='')))"
      ]
     },
     "metadata": {},
     "output_type": "display_data"
    },
    {
     "name": "stdout",
     "output_type": "stream",
     "text": [
      "\n",
      "[info] epoch train loss: -0.14036941462858316\n",
      "Epoch 338\n"
     ]
    },
    {
     "data": {
      "application/vnd.jupyter.widget-view+json": {
       "model_id": "1c0592cb62dc4bc89eaea01d5ce15948",
       "version_major": 2,
       "version_minor": 0
      },
      "text/plain": [
       "HBox(children=(IntProgress(value=0, max=140), HTML(value='')))"
      ]
     },
     "metadata": {},
     "output_type": "display_data"
    },
    {
     "name": "stdout",
     "output_type": "stream",
     "text": [
      "\n",
      "[info] epoch train loss: -0.141625442392562\n",
      "Epoch 339\n"
     ]
    },
    {
     "data": {
      "application/vnd.jupyter.widget-view+json": {
       "model_id": "fe5bc98e9581483c97a3742e7486c3b2",
       "version_major": 2,
       "version_minor": 0
      },
      "text/plain": [
       "HBox(children=(IntProgress(value=0, max=140), HTML(value='')))"
      ]
     },
     "metadata": {},
     "output_type": "display_data"
    },
    {
     "name": "stdout",
     "output_type": "stream",
     "text": [
      "\n",
      "[info] epoch train loss: -0.14303703522729652\n",
      "Epoch 340\n"
     ]
    },
    {
     "data": {
      "application/vnd.jupyter.widget-view+json": {
       "model_id": "011fbff88b094b6a87c8f52234ea1dc5",
       "version_major": 2,
       "version_minor": 0
      },
      "text/plain": [
       "HBox(children=(IntProgress(value=0, max=140), HTML(value='')))"
      ]
     },
     "metadata": {},
     "output_type": "display_data"
    },
    {
     "name": "stdout",
     "output_type": "stream",
     "text": [
      "\n",
      "[info] epoch train loss: -0.14358367166483635\n",
      "Epoch 341\n"
     ]
    },
    {
     "data": {
      "application/vnd.jupyter.widget-view+json": {
       "model_id": "e2d794d419ba4a68a50d59e41596893f",
       "version_major": 2,
       "version_minor": 0
      },
      "text/plain": [
       "HBox(children=(IntProgress(value=0, max=140), HTML(value='')))"
      ]
     },
     "metadata": {},
     "output_type": "display_data"
    },
    {
     "name": "stdout",
     "output_type": "stream",
     "text": [
      "\n",
      "[info] epoch train loss: -0.14404137144595747\n",
      "Epoch 342\n"
     ]
    },
    {
     "data": {
      "application/vnd.jupyter.widget-view+json": {
       "model_id": "17e01dab87fd4e9699f70b0b3f6e9164",
       "version_major": 2,
       "version_minor": 0
      },
      "text/plain": [
       "HBox(children=(IntProgress(value=0, max=140), HTML(value='')))"
      ]
     },
     "metadata": {},
     "output_type": "display_data"
    },
    {
     "name": "stdout",
     "output_type": "stream",
     "text": [
      "\n",
      "[info] epoch train loss: -0.14467886884693337\n",
      "Epoch 343\n"
     ]
    },
    {
     "data": {
      "application/vnd.jupyter.widget-view+json": {
       "model_id": "5de967633a60470184952288afca6f45",
       "version_major": 2,
       "version_minor": 0
      },
      "text/plain": [
       "HBox(children=(IntProgress(value=0, max=140), HTML(value='')))"
      ]
     },
     "metadata": {},
     "output_type": "display_data"
    },
    {
     "name": "stdout",
     "output_type": "stream",
     "text": [
      "lay egg to ./Nest ... save as ./Nest/NewbornBird\n",
      "origin:\n",
      "['[CLS]', 'hollywood', 'hunts', 'hits', 'at', 'sundance', 'the', 'sundance', 'film', 'festival', 'the', 'movie', 'industry', 's', 'top', 'destination', 'for', 'uncover', '##ing', 'the', 'next', 'independent', 'hits', 'and', 'new', 'talent', 'opens', 'on', 'thursday', '.', 'the', 'event', 'will', 'see', 'screen', 'executives', 'dec', '##amp', 'from', 'hollywood', 'to', 'park', 'city', 'utah', 'for', '11', 'days', 'to', 'search', 'for', 'low', '-', 'key', 'movies', 'that', 'could', 'make', 'it', 'big', 'in', '2005', '.', 'open', 'water', 'napoleon', 'dynamite', 'garden', 'state', 'and', 'super', '-', 'size', 'me', 'were', 'all', 'snapped', 'up', 'at', 'last', 'year', 's', 'festival', '.', 'but', 'stars', 'like', 'ke', '##anu', 'reeves', 'and', 'pierce', 'bros', '##nan', 'also', 'have', 'films', 'showing', 'there', '.', 'the', 'festival', 'is', 'being', 'opened', 'by', 'a', 'screening', 'of', 'qui', '##rky', 'comedy', 'happy', 'endings', 'starring', 'former', 'friends', 'actress', 'lisa', 'ku', '##dro', '##w', 'and', 'maggie', 'g', '##yl', '##len', '##ha', '##al', 'on', 'thursday', '.', 'ku', '##dro', '##w', 's', 'friends', 'co', '-', 'star', 'david', 'sc', '##h', '##wi', '##mmer', 'plays', 'a', 'divorced', 'drunk', '##ard', 'in', 'duane', 'hop', '##wood', 'while', 'bros', '##nan', 'stars', 'as', 'a', 'hit', 'man', 'in', 'comedy', 'the', 'mata', '##dor', '.', 'ke', '##anu', 'reeves', 'appears', 'in', 'coming', '-', 'of', '-', 'age', 'tale', 'thumbs', '##uck', '##er', 'while', 'kevin', 'cost', '##ner', 'and', 'michael', 'ke', '##aton', 'are', 'among', 'the', 'other', 'big', 'names', 'whose', 'films', 'are', 'involved', '.', 'robert', 'red', '##ford', 'founded', 'sundance', 'in', '1981', 'and', 'it', 'has', 'gone', 'on', 'to', 'showcase', 'future', 'successes', 'such', 'as', 'reservoir', 'dogs', 'the', 'blair', 'witch', 'project', 'and', 'the', 'full', 'monty', '.', 'but', 'it', 'has', 'received', 'criticism', 'that', 'it', 'has', 'become', 'more', 'commercial', 'and', 'mainstream', 'over', 'the', 'years', '.', 'as', 'much', 'as', 'the', 'press', 'argues', 'that', 'sundance', 'has', 'completely', 'changed', 'it', 'hasn', 't', 'changed', 'that', 'much', 'festival', 'director', 'geoffrey', 'gilmore', 'said', '.', 'it', 's', 'still', 'a', 'place', 'for', 'discovery', '.', 'it', 's', 'a', 'place', 'for', 'common', 'ground', 'among', 'film', '-', 'makers', 'and', 'audiences', 'more', 'than', 'it', 'is', 'the', 'celebrity', 'stuff', '.', 'other', 'films', 'generating', 'interest', 'before', 'this', 'year', 's', 'festival', 'include', 'hu', '##stle', '&', 'flow', 'about', 'an', 'aspiring', 'rapper', 'the', 'squid', 'and', 'the', 'whale', 'an', 'autobiographical', 'film', 'by', 'writer', '-', 'director', 'noah', 'ba', '##umb', '##ach', 'and', 'comedy', '/', 'drama', 'pretty', 'persuasion', '.', 'it', 'also', 'has', 'two', 'new', 'international', 'cinema', 'competitions', '.', '[SEP]', '[PAD]', '[PAD]', '[PAD]', '[PAD]', '[PAD]', '[PAD]', '[PAD]', '[PAD]', '[PAD]', '[PAD]', '[PAD]', '[PAD]', '[PAD]', '[PAD]', '[PAD]', '[PAD]', '[PAD]', '[PAD]', '[PAD]', '[PAD]', '[PAD]', '[PAD]', '[PAD]', '[PAD]', '[PAD]', '[PAD]', '[PAD]', '[PAD]', '[PAD]', '[PAD]', '[PAD]', '[PAD]', '[PAD]', '[PAD]', '[PAD]', '[PAD]', '[PAD]', '[PAD]', '[PAD]', '[PAD]', '[PAD]', '[PAD]', '[PAD]', '[PAD]', '[PAD]', '[PAD]', '[PAD]', '[PAD]', '[PAD]', '[PAD]', '[PAD]']\n",
      "summary:\n",
      "['[CLS]', '##kers', '##kers', '##kers', '##kers', '##kers', '##kers', '##kers', '##kers', '##kers', '##kers', '##kers', '##kers', '##kers', '##kers', '##kers', '##kers', '##kers', '##kers', '##kers']\n",
      "real summary:\n",
      "['[CLS]', 'hollywood', 'hunts', 'hits', 'at', 'sundance', 'the', 'sundance', 'film', 'festival', 'the', 'movie', 'industry', 's', 'top', 'destination', 'for', 'uncover', '##ing']\n",
      "sentiment: 4\n",
      "y: 3\n",
      "\n",
      "\n",
      "[info] epoch train loss: -0.14555264167167933\n",
      "Epoch 344\n"
     ]
    },
    {
     "data": {
      "application/vnd.jupyter.widget-view+json": {
       "model_id": "769a40e1c25245afbd609123cbd0387f",
       "version_major": 2,
       "version_minor": 0
      },
      "text/plain": [
       "HBox(children=(IntProgress(value=0, max=140), HTML(value='')))"
      ]
     },
     "metadata": {},
     "output_type": "display_data"
    },
    {
     "name": "stdout",
     "output_type": "stream",
     "text": [
      "\n",
      "[info] epoch train loss: -0.14472304187562648\n",
      "Epoch 345\n"
     ]
    },
    {
     "data": {
      "application/vnd.jupyter.widget-view+json": {
       "model_id": "bf4e52e197104ae4a7e6ea135597860a",
       "version_major": 2,
       "version_minor": 0
      },
      "text/plain": [
       "HBox(children=(IntProgress(value=0, max=140), HTML(value='')))"
      ]
     },
     "metadata": {},
     "output_type": "display_data"
    },
    {
     "name": "stdout",
     "output_type": "stream",
     "text": [
      "\n",
      "[info] epoch train loss: -0.1472386630834673\n",
      "Epoch 346\n"
     ]
    },
    {
     "data": {
      "application/vnd.jupyter.widget-view+json": {
       "model_id": "caed32f886a54f66b9815a9aa4150fc6",
       "version_major": 2,
       "version_minor": 0
      },
      "text/plain": [
       "HBox(children=(IntProgress(value=0, max=140), HTML(value='')))"
      ]
     },
     "metadata": {},
     "output_type": "display_data"
    },
    {
     "name": "stdout",
     "output_type": "stream",
     "text": [
      "\n",
      "[info] epoch train loss: -0.1499770137590482\n",
      "Epoch 347\n"
     ]
    },
    {
     "data": {
      "application/vnd.jupyter.widget-view+json": {
       "model_id": "20de0723989c4065b34348cfc8fd5319",
       "version_major": 2,
       "version_minor": 0
      },
      "text/plain": [
       "HBox(children=(IntProgress(value=0, max=140), HTML(value='')))"
      ]
     },
     "metadata": {},
     "output_type": "display_data"
    },
    {
     "name": "stdout",
     "output_type": "stream",
     "text": [
      "\n",
      "[info] epoch train loss: -0.14825310091524183\n",
      "Epoch 348\n"
     ]
    },
    {
     "data": {
      "application/vnd.jupyter.widget-view+json": {
       "model_id": "68c9b7720d364c5f950b658a6c0fca39",
       "version_major": 2,
       "version_minor": 0
      },
      "text/plain": [
       "HBox(children=(IntProgress(value=0, max=140), HTML(value='')))"
      ]
     },
     "metadata": {},
     "output_type": "display_data"
    },
    {
     "name": "stdout",
     "output_type": "stream",
     "text": [
      "\n",
      "[info] epoch train loss: -0.14859056643898774\n",
      "Epoch 349\n"
     ]
    },
    {
     "data": {
      "application/vnd.jupyter.widget-view+json": {
       "model_id": "de1d47991d8b4f0593a07569d4a78067",
       "version_major": 2,
       "version_minor": 0
      },
      "text/plain": [
       "HBox(children=(IntProgress(value=0, max=140), HTML(value='')))"
      ]
     },
     "metadata": {},
     "output_type": "display_data"
    },
    {
     "name": "stdout",
     "output_type": "stream",
     "text": [
      "\n",
      "[info] epoch train loss: -0.1486103648019748\n",
      "Epoch 350\n"
     ]
    },
    {
     "data": {
      "application/vnd.jupyter.widget-view+json": {
       "model_id": "add4567a3383452fb8eba6120eb1c5e2",
       "version_major": 2,
       "version_minor": 0
      },
      "text/plain": [
       "HBox(children=(IntProgress(value=0, max=140), HTML(value='')))"
      ]
     },
     "metadata": {},
     "output_type": "display_data"
    },
    {
     "name": "stdout",
     "output_type": "stream",
     "text": [
      "lay egg to ./Nest ... save as ./Nest/NewbornBird\n",
      "origin:\n",
      "['[CLS]', 'high', 'fuel', 'prices', 'hit', 'ba', 's', 'profits', 'british', 'airways', 'has', 'blamed', 'high', 'fuel', 'prices', 'for', 'a', '40', '%', 'drop', 'in', 'profits', '.', 'reporting', 'its', 'results', 'for', 'the', 'three', 'months', 'to', '31', 'december', '2004', 'the', 'airline', 'made', 'a', 'pre', '-', 'tax', 'profit', 'of', '£', '##75', '##m', '(', '$', '141', '##m', ')', 'compared', 'with', '£1', '##25', '##m', 'a', 'year', 'earlier', '.', 'rod', 'ed', '##dington', 'ba', 's', 'chief', 'executive', 'said', 'the', 'results', 'were', 'respectable', 'in', 'a', 'third', 'quarter', 'when', 'fuel', 'costs', 'rose', 'by', '£10', '##6', '##m', 'or', '47', '.', '3', '%', '.', 'ba', 's', 'profits', 'were', 'still', 'better', 'than', 'market', 'expectation', 'of', '£5', '##9', '##m', 'and', 'it', 'expects', 'a', 'rise', 'in', 'full', '-', 'year', 'revenues', '.', 'to', 'help', 'offset', 'the', 'increased', 'price', 'of', 'aviation', 'fuel', 'ba', 'last', 'year', 'introduced', 'a', 'fuel', 'sur', '##cha', '##rge', 'for', 'passengers', '.', 'in', 'october', 'it', 'increased', 'this', 'from', '£', '##6', 'to', '£10', 'one', '-', 'way', 'for', 'all', 'long', '-', 'haul', 'flights', 'while', 'the', 'short', '-', 'haul', 'sur', '##cha', '##rge', 'was', 'raised', 'from', '£2', '.', '50', 'to', '£', '##4', 'a', 'leg', '.', 'yet', 'aviation', 'analyst', 'mike', 'powell', 'of', 'dr', '##es', '##dner', 'klein', '##wo', '##rt', 'was', '##ser', '##stein', 'says', 'ba', 's', 'estimated', 'annual', 'sur', '##cha', '##rge', 'revenues', '-', '£1', '##60', '##m', '-', 'will', 'still', 'be', 'way', 'short', 'of', 'its', 'additional', 'fuel', 'costs', '-', 'a', 'predicted', 'extra', '£2', '##50', '##m', '.', 'turnover', 'for', 'the', 'quarter', 'was', 'up', '4', '.', '3', '%', 'to', '£1', '.', '97', '##bn', 'further', 'benefit', '##ing', 'from', 'a', 'rise', 'in', 'cargo', 'revenue', '.', 'looking', 'ahead', 'to', 'its', 'full', 'year', 'results', 'to', 'march', '2005', 'ba', 'warned', 'that', 'yields', '-', 'average', 'revenues', 'per', 'passenger', '-', 'were', 'expected', 'to', 'decline', 'as', 'it', 'continues', 'to', 'lower', 'prices', 'in', 'the', 'face', 'of', 'competition', 'from', 'low', '-', 'cost', 'carriers', '.', 'however', 'it', 'said', 'sales', 'would', 'be', 'better', 'than', 'previously', 'forecast', '.', 'for', 'the', 'year', 'to', 'march', '2005', 'the', 'total', 'revenue', 'outlook', 'is', 'slightly', 'better', 'than', 'previous', 'guidance', 'with', 'a', '3', '%', 'to', '3', '.', '5', '%', 'improvement', 'anticipated', 'ba', 'chairman', 'martin', 'broughton', 'said', '.', 'ba', 'had', 'previously', 'forecast', 'a', '2', '%', 'to', '3', '%', 'rise', 'in', 'full', '-', 'year', 'revenue', '.', 'it', 'also', 'reported', 'on', 'friday', 'that', 'passenger', 'numbers', 'rose', '8', '.', '1', '%', 'in', 'january', '.', 'aviation', 'analyst', 'nick', 'van', 'den', 'br', '##ul', 'of', 'bn', '##p', 'par', '##iba', '##s', 'described', 'ba', 's', 'latest', 'quarterly', 'results', 'as', 'pretty', 'modest', '.', 'it', 'is', 'quite', 'good', 'on', 'the', 'revenue', 'side', 'and', 'it', 'shows', 'the', 'impact']\n",
      "summary:\n",
      "['[CLS]', '##kers', '##kers', '##kers', '##kers', '##kers', '##kers', '##kers', '##kers', '##kers', '##kers', '##kers', '##kers', '##kers', '##kers', '##kers', '##kers', '##kers', '##kers', '##kers']\n",
      "real summary:\n",
      "['[CLS]', 'high', 'fuel', 'prices', 'hit', 'ba', 's', 'profits', 'british', 'airways', 'has', 'blamed', 'high', 'fuel', 'prices', 'for', 'a', '40', '%']\n",
      "sentiment: 4\n",
      "y: 1\n",
      "\n",
      "\n",
      "[info] epoch train loss: -0.1470119460696517\n",
      "Epoch 351\n"
     ]
    },
    {
     "data": {
      "application/vnd.jupyter.widget-view+json": {
       "model_id": "48f8f66469e74fd981a24a793a681300",
       "version_major": 2,
       "version_minor": 0
      },
      "text/plain": [
       "HBox(children=(IntProgress(value=0, max=140), HTML(value='')))"
      ]
     },
     "metadata": {},
     "output_type": "display_data"
    },
    {
     "name": "stdout",
     "output_type": "stream",
     "text": [
      "\n",
      "[info] epoch train loss: -0.14516917456828896\n",
      "Epoch 352\n"
     ]
    },
    {
     "data": {
      "application/vnd.jupyter.widget-view+json": {
       "model_id": "29c57a2b14ec42f582975aed57cf0173",
       "version_major": 2,
       "version_minor": 0
      },
      "text/plain": [
       "HBox(children=(IntProgress(value=0, max=140), HTML(value='')))"
      ]
     },
     "metadata": {},
     "output_type": "display_data"
    },
    {
     "name": "stdout",
     "output_type": "stream",
     "text": [
      "\n",
      "[info] epoch train loss: -0.1467854853180987\n",
      "Epoch 353\n"
     ]
    },
    {
     "data": {
      "application/vnd.jupyter.widget-view+json": {
       "model_id": "13e1ca4cefe9457fb69653baa62d554c",
       "version_major": 2,
       "version_minor": 0
      },
      "text/plain": [
       "HBox(children=(IntProgress(value=0, max=140), HTML(value='')))"
      ]
     },
     "metadata": {},
     "output_type": "display_data"
    },
    {
     "name": "stdout",
     "output_type": "stream",
     "text": [
      "\n",
      "[info] epoch train loss: -0.1455544729225027\n",
      "Epoch 354\n"
     ]
    },
    {
     "data": {
      "application/vnd.jupyter.widget-view+json": {
       "model_id": "6e3ee34530974cab9e86771c18ac7953",
       "version_major": 2,
       "version_minor": 0
      },
      "text/plain": [
       "HBox(children=(IntProgress(value=0, max=140), HTML(value='')))"
      ]
     },
     "metadata": {},
     "output_type": "display_data"
    },
    {
     "name": "stdout",
     "output_type": "stream",
     "text": [
      "\n",
      "[info] epoch train loss: -0.14959256018969913\n",
      "Epoch 355\n"
     ]
    },
    {
     "data": {
      "application/vnd.jupyter.widget-view+json": {
       "model_id": "cecb979a30b24aff9298488cc8154080",
       "version_major": 2,
       "version_minor": 0
      },
      "text/plain": [
       "HBox(children=(IntProgress(value=0, max=140), HTML(value='')))"
      ]
     },
     "metadata": {},
     "output_type": "display_data"
    },
    {
     "name": "stdout",
     "output_type": "stream",
     "text": [
      "\n",
      "[info] epoch train loss: -0.1490632623068994\n",
      "Epoch 356\n"
     ]
    },
    {
     "data": {
      "application/vnd.jupyter.widget-view+json": {
       "model_id": "a7adf64e2f1a4043b18f30ab789ed44e",
       "version_major": 2,
       "version_minor": 0
      },
      "text/plain": [
       "HBox(children=(IntProgress(value=0, max=140), HTML(value='')))"
      ]
     },
     "metadata": {},
     "output_type": "display_data"
    },
    {
     "name": "stdout",
     "output_type": "stream",
     "text": [
      "\n",
      "[info] epoch train loss: -0.15176803120235313\n",
      "Epoch 357\n"
     ]
    },
    {
     "data": {
      "application/vnd.jupyter.widget-view+json": {
       "model_id": "d8326e79773c4b3da57fe20a767a0dca",
       "version_major": 2,
       "version_minor": 0
      },
      "text/plain": [
       "HBox(children=(IntProgress(value=0, max=140), HTML(value='')))"
      ]
     },
     "metadata": {},
     "output_type": "display_data"
    },
    {
     "name": "stdout",
     "output_type": "stream",
     "text": [
      "\n",
      "[info] epoch train loss: -0.15052132747837926\n",
      "Epoch 358\n"
     ]
    },
    {
     "data": {
      "application/vnd.jupyter.widget-view+json": {
       "model_id": "9245f97ba2fa40af889a793e8d485660",
       "version_major": 2,
       "version_minor": 0
      },
      "text/plain": [
       "HBox(children=(IntProgress(value=0, max=140), HTML(value='')))"
      ]
     },
     "metadata": {},
     "output_type": "display_data"
    },
    {
     "name": "stdout",
     "output_type": "stream",
     "text": [
      "lay egg to ./Nest ... save as ./Nest/NewbornBird\n",
      "origin:\n",
      "['[CLS]', 'iraqi', 'voters', 'turn', 'to', 'economic', 'issues', 'beyond', 'the', 'desperate', 'security', 'situation', 'in', 'iraq', 'lies', 'an', 'economy', 'in', 'ta', '##tters', '.', 'a', 'vicious', 'cycle', 'of', 'unemployment', 'poor', 'social', 'services', 'and', 'poverty', 'has', 'been', 'made', 'worse', 'by', 'a', 'lack', 'of', 'investment', '.', 'so', 'there', 'is', 'much', 'hope', 'that', 'an', 'elected', 'government', 'will', 'break', 'the', 'dead', '##lock', '.', 'first', 'rule', 'of', 'law', 'then', 'the', 'economy', 'says', 'ra', '##d', '##wan', 'had', '##i', 'deputy', 'managing', 'director', 'of', 'aberdeen', '-', 'based', 'oil', 'and', 'gas', 'consultancy', 'black', '##watch', 'petroleum', 'services', 'which', 'entered', 'iraq', 'in', '2003', '.', 'mr', 'had', '##i', 's', 'view', 'about', 'what', 'the', 'new', 'government', 's', 'priorities', 'should', 'be', 'is', 'shared', 'by', 'many', 'iraqi', '##s', '.', 'the', 'economy', 'has', 'become', 'the', 'second', '-', 'most', 'dominant', 'issue', 'for', 'many', 'political', 'parties', 'ahead', 'of', 'sunday', 's', 'election', 'according', 'to', 'bristol', 'university', 'political', 'scientist', 'anne', 'alexander', 'who', 'is', 'working', 'on', 'a', 'project', 'that', 'looks', 'at', 'governance', 'and', 'security', 'in', 'post', '-', 'war', 'iraq', '.', 'job', 'creation', 'ranks', 'high', 'both', 'on', 'election', 'manifesto', '##s', 'and', 'on', 'the', 'iraqi', 'people', 's', 'wish', 'list', '.', 'nobody', 'knows', 'exactly', 'how', 'many', 'iraqi', '##s', 'are', 'out', 'of', 'work', 'but', 'it', 'is', 'clear', 'that', 'the', 'situation', 'is', 'dire', '.', 'estimates', 'of', 'iraq', 's', 'unemployment', 'rate', 'vary', 'but', 'we', 'estimate', 'it', 'to', 'be', 'between', '30', '-', '40', '%', 'the', 'washington', '-', 'based', 'independent', 'think', '-', 'tank', 'the', 'brook', '##ings', 'institution', 'says', 'in', 'its', 'iraq', 'index', '.', 'but', 'some', 'progress', 'has', 'been', 'made', 'largely', 'thanks', 'to', 'the', 'country', 's', 'oil', 'revenues', 'which', 'have', 'exceeded', '$', '22', '##bn', 'since', 'june', '2003', '.', 'iraq', 's', 'infrastructure', 'is', 'on', 'the', 'men', '##d', 'with', 'notable', 'improvements', 'having', 'been', 'made', 'in', 'areas', 'such', 'as', 'electricity', 'supply', 'irrigation', 'telephone', 'networks', 'and', 'the', 're', '-', 'opening', 'of', 'hospitals', '.', 'but', 'serious', 'problems', 'remain', 'and', 'the', 'growing', 'divide', 'between', 'have', '##s', 'and', 'have', '-', 'not', '##s', 'is', 'anger', '##ing', 'voters', '.', 'one', 'iraqi', 'woman', 'told', 'ms', 'alexander', 'about', 'her', 'frustration', 'as', 'she', 'watched', 'tv', 'ad', '##vert', '##s', 'for', 'private', 'hospitals', 'soon', 'after', 'having', 'failed', 'to', 'track', 'down', 'basic', 'medicines', 'from', 'baghdad', 's', 'ph', '##arm', '##acies', '.', 'observes', 'mr', 'had', '##i', ':', 'the', 'economy', 'at', 'present', 'marks', 'a', 'big', 'divide', ';', 'the', 'rich', 'get', 'richer', 'the', 'poor', 'get', 'poorer', '.', 'an', 'indication', 'of', 'this', 'can', 'be', 'seen', 'in', 'the', 'world', 'of', 'finance', 'where', 'in', 'contrast', 'with', 'the', 'daily', 'plight', 'of', 'ordinary', 'people', '19', 'private', 'banks', 'operate', 'only', 'one', 'of', 'which', 'is', 'run', 'in', 'accordance', 'with']\n",
      "summary:\n",
      "['[CLS]', '##kers', '##kers', '##kers', '##kers', '##kers', '##kers', '##kers', '##kers', '##kers', '##kers', '##kers', '##kers', '##kers', '##kers', '##kers', '##kers', '##kers', '##kers', '##kers']\n",
      "real summary:\n",
      "['[CLS]', 'iraqi', 'voters', 'turn', 'to', 'economic', 'issues', 'beyond', 'the', 'desperate', 'security', 'situation', 'in', 'iraq', 'lies', 'an', 'economy', 'in', 'ta']\n",
      "sentiment: 4\n",
      "y: 1\n",
      "\n",
      "\n",
      "[info] epoch train loss: -0.14848545379166872\n",
      "Epoch 359\n"
     ]
    },
    {
     "data": {
      "application/vnd.jupyter.widget-view+json": {
       "model_id": "edc3c14d597841eabdc4795765141e49",
       "version_major": 2,
       "version_minor": 0
      },
      "text/plain": [
       "HBox(children=(IntProgress(value=0, max=140), HTML(value='')))"
      ]
     },
     "metadata": {},
     "output_type": "display_data"
    },
    {
     "name": "stdout",
     "output_type": "stream",
     "text": [
      "\n",
      "[info] epoch train loss: -0.1466814358788762\n",
      "Epoch 360\n"
     ]
    },
    {
     "data": {
      "application/vnd.jupyter.widget-view+json": {
       "model_id": "a2d94a85b03c49f6ba43e7c36fe23b2f",
       "version_major": 2,
       "version_minor": 0
      },
      "text/plain": [
       "HBox(children=(IntProgress(value=0, max=140), HTML(value='')))"
      ]
     },
     "metadata": {},
     "output_type": "display_data"
    },
    {
     "name": "stdout",
     "output_type": "stream",
     "text": [
      "\n",
      "[info] epoch train loss: -0.14816882552389643\n",
      "Epoch 361\n"
     ]
    },
    {
     "data": {
      "application/vnd.jupyter.widget-view+json": {
       "model_id": "caa1901076dd4fe599a3e52985d22f94",
       "version_major": 2,
       "version_minor": 0
      },
      "text/plain": [
       "HBox(children=(IntProgress(value=0, max=140), HTML(value='')))"
      ]
     },
     "metadata": {},
     "output_type": "display_data"
    },
    {
     "name": "stdout",
     "output_type": "stream",
     "text": [
      "\n",
      "[info] epoch train loss: -0.14880725922666127\n",
      "Epoch 362\n"
     ]
    },
    {
     "data": {
      "application/vnd.jupyter.widget-view+json": {
       "model_id": "0d672cafdf0d4708ae0bf5bdb23da2e4",
       "version_major": 2,
       "version_minor": 0
      },
      "text/plain": [
       "HBox(children=(IntProgress(value=0, max=140), HTML(value='')))"
      ]
     },
     "metadata": {},
     "output_type": "display_data"
    },
    {
     "name": "stdout",
     "output_type": "stream",
     "text": [
      "\n",
      "[info] epoch train loss: -0.15750534173457545\n",
      "Epoch 363\n"
     ]
    },
    {
     "data": {
      "application/vnd.jupyter.widget-view+json": {
       "model_id": "3ed39e4b46dc41f298c083b4c1650625",
       "version_major": 2,
       "version_minor": 0
      },
      "text/plain": [
       "HBox(children=(IntProgress(value=0, max=140), HTML(value='')))"
      ]
     },
     "metadata": {},
     "output_type": "display_data"
    },
    {
     "name": "stdout",
     "output_type": "stream",
     "text": [
      "\n",
      "[info] epoch train loss: -0.15864803097237662\n",
      "Epoch 364\n"
     ]
    },
    {
     "data": {
      "application/vnd.jupyter.widget-view+json": {
       "model_id": "05cb0548634a4e8b88e461496fa64d08",
       "version_major": 2,
       "version_minor": 0
      },
      "text/plain": [
       "HBox(children=(IntProgress(value=0, max=140), HTML(value='')))"
      ]
     },
     "metadata": {},
     "output_type": "display_data"
    },
    {
     "name": "stdout",
     "output_type": "stream",
     "text": [
      "\n",
      "[info] epoch train loss: -0.1592161345151378\n",
      "Epoch 365\n"
     ]
    },
    {
     "data": {
      "application/vnd.jupyter.widget-view+json": {
       "model_id": "9f8cdbc261da4cbfa75a9ec202108d86",
       "version_major": 2,
       "version_minor": 0
      },
      "text/plain": [
       "HBox(children=(IntProgress(value=0, max=140), HTML(value='')))"
      ]
     },
     "metadata": {},
     "output_type": "display_data"
    },
    {
     "name": "stdout",
     "output_type": "stream",
     "text": [
      "lay egg to ./Nest ... save as ./Nest/NewbornBird\n",
      "origin:\n",
      "['[CLS]', 'eu', 'aiming', 'to', 'fuel', 'development', 'aid', 'european', 'union', 'finance', 'ministers', 'meet', 'on', 'thursday', 'to', 'discuss', 'proposals', 'including', 'a', 'tax', 'on', 'jet', 'fuel', 'to', 'boost', 'development', 'aid', 'for', 'poorer', 'nations', '.', 'the', 'policy', 'makers', 'are', 'to', 'ask', 'for', 'a', 'report', 'into', 'how', 'more', 'development', 'money', 'can', 'be', 'raised', 'the', 'eu', 'said', '.', 'the', 'world', 's', 'richest', 'countries', 'have', 'said', 'they', 'want', 'to', 'increase', 'the', 'amount', 'of', 'aid', 'they', 'give', 'to', '0', '.', '7', '%', 'of', 'their', 'annual', 'gross', 'national', 'income', 'by', '2015', '.', 'airlines', 'have', 'reacted', 'strongly', 'against', 'the', 'proposed', 'fuel', 'levy', '.', 'profits', 'have', 'been', 'under', 'pressure', 'in', 'the', 'airline', 'industry', 'with', 'low', '-', 'cost', 'firms', 'driving', 'down', 'prices', 'and', 'demand', 'dipping', 'after', 'the', '11', 'september', 'terrorist', 'attacks', 'and', 'the', 'outbreak', 'of', 'the', 'killer', 'sar', '##s', 'virus', '.', 'things', 'have', 'picked', 'up', 'but', 'some', 'european', 'and', 'us', 'companies', 'are', 'tee', '##tering', 'on', 'the', 'brink', 'of', 'bankruptcy', '.', 'at', 'present', 'the', 'fuel', 'used', 'by', 'airlines', 'enjoys', 'either', 'a', 'very', 'low', 'tax', 'rate', 'or', 'is', 'un', '##ta', '##xed', 'in', 'eu', 'member', 'states', '.', 'of', 'course', 'we', 'app', '##lau', '##d', 'humanitarian', 'initiatives', 'but', 'why', 'target', 'the', 'airlines', 'said', 'ulrich', 'sc', '##hul', '##te', '-', 'st', '##rath', '##aus', 'secretary', 'general', 'of', 'the', 'association', 'of', 'european', 'airlines', '.', 'our', 'industry', 'is', 'in', 'the', 'midst', 'of', 'a', 'fundamental', 'crisis', '.', '.', '.', 'only', 'to', 'be', 'once', 'again', 'confronted', 'with', 'a', 'measure', 'designed', 'to', 'increase', 'our', 'costs', 'he', 'continued', '.', 'the', 'eu', 'sought', 'to', 'alla', '##y', 'the', 'airlines', 'fears', 'stress', '##ing', 'that', 'thursday', 's', 'meeting', 'was', 'only', 'a', 'first', 'step', 'and', 'that', 'other', 'proposals', 'were', 'also', 'under', 'consideration', '.', 'it', 'added', 'that', 'any', 'plan', 'to', 'levy', 'taxes', 'on', 'jet', 'fuel', 'should', 'not', 'hind', '##er', 'the', 'competitive', '##ness', 'of', 'the', 'airlines', 'and', 'that', 'they', 'themselves', 'will', 'not', 'be', 'solely', 'funding', 'development', '.', 'any', 'tax', 'would', 'only', 'be', 'implemented', 'after', 'full', 'consultation', 'with', 'the', 'airlines', 'the', 'eu', 'said', '.', 'there', 'is', 'thought', 'to', 'be', 'widespread', 'support', 'for', 'the', 'plan', '-', 'table', '##d', 'by', 'france', 'and', 'germany', 'following', 'the', 'recent', 'g', '##7', 'meeting', 'of', 'the', 'world', 's', 'richest', 'nations', '-', 'from', 'eu', 'ministers', '.', 'the', 'issue', 'of', 'poverty', 'in', 'africa', 'and', 'south', 'asia', 'has', 'forced', 'itself', 'to', 'the', 'top', 'of', 'the', 'pol', '##itic', '##ial', 'agenda', 'with', 'politicians', 'and', 'campaign', '##ers', 'calling', 'for', 'more', 'to', 'be', 'done', '.', 'at', 'their', 'meeting', 'in', 'london', 'g', '##7', 'finance', 'ministers', 'backed', 'plans', 'to', 'write', 'off', 'up', 'to', '100', '%', 'of', 'the', 'debts', 'of', 'some']\n",
      "summary:\n",
      "['[CLS]', '##kers', '##kers', '##kers', '##kers', '##kers', '##kers', '##kers', '##kers', '##kers', '##kers', '##kers', '##kers', '##kers', '##kers', '##kers', '##kers', '##kers', '##kers', '##kers']\n",
      "real summary:\n",
      "['[CLS]', 'eu', 'aiming', 'to', 'fuel', 'development', 'aid', 'european', 'union', 'finance', 'ministers', 'meet', 'on', 'thursday', 'to', 'discuss', 'proposals', 'including', 'a']\n",
      "sentiment: 4\n",
      "y: 1\n",
      "\n",
      "\n",
      "[info] epoch train loss: -0.1629238630712168\n",
      "Epoch 366\n"
     ]
    },
    {
     "data": {
      "application/vnd.jupyter.widget-view+json": {
       "model_id": "a733d06820084a10b578887918b90d68",
       "version_major": 2,
       "version_minor": 0
      },
      "text/plain": [
       "HBox(children=(IntProgress(value=0, max=140), HTML(value='')))"
      ]
     },
     "metadata": {},
     "output_type": "display_data"
    },
    {
     "name": "stdout",
     "output_type": "stream",
     "text": [
      "\n",
      "[info] epoch train loss: -0.16791507469500858\n",
      "Epoch 367\n"
     ]
    },
    {
     "data": {
      "application/vnd.jupyter.widget-view+json": {
       "model_id": "e1ab3773a4e34879adb68cd89538e03d",
       "version_major": 2,
       "version_minor": 0
      },
      "text/plain": [
       "HBox(children=(IntProgress(value=0, max=140), HTML(value='')))"
      ]
     },
     "metadata": {},
     "output_type": "display_data"
    },
    {
     "name": "stdout",
     "output_type": "stream",
     "text": [
      "\n",
      "[info] epoch train loss: -0.16875572317917187\n",
      "Epoch 368\n"
     ]
    },
    {
     "data": {
      "application/vnd.jupyter.widget-view+json": {
       "model_id": "1c0afa8cf9a541fd8d2e1fc739c9c866",
       "version_major": 2,
       "version_minor": 0
      },
      "text/plain": [
       "HBox(children=(IntProgress(value=0, max=140), HTML(value='')))"
      ]
     },
     "metadata": {},
     "output_type": "display_data"
    },
    {
     "name": "stdout",
     "output_type": "stream",
     "text": [
      "\n",
      "[info] epoch train loss: -0.16989903638282158\n",
      "Epoch 369\n"
     ]
    },
    {
     "data": {
      "application/vnd.jupyter.widget-view+json": {
       "model_id": "18581186d0904b3cb0c0ea1f879d3984",
       "version_major": 2,
       "version_minor": 0
      },
      "text/plain": [
       "HBox(children=(IntProgress(value=0, max=140), HTML(value='')))"
      ]
     },
     "metadata": {},
     "output_type": "display_data"
    },
    {
     "name": "stdout",
     "output_type": "stream",
     "text": [
      "\n",
      "[info] epoch train loss: -0.1689870827471566\n",
      "Epoch 370\n"
     ]
    },
    {
     "data": {
      "application/vnd.jupyter.widget-view+json": {
       "model_id": "e7644f5821c04fd0b24ffef0a097f724",
       "version_major": 2,
       "version_minor": 0
      },
      "text/plain": [
       "HBox(children=(IntProgress(value=0, max=140), HTML(value='')))"
      ]
     },
     "metadata": {},
     "output_type": "display_data"
    },
    {
     "name": "stdout",
     "output_type": "stream",
     "text": [
      "\n",
      "[info] epoch train loss: -0.17215531569261527\n",
      "Epoch 371\n"
     ]
    },
    {
     "data": {
      "application/vnd.jupyter.widget-view+json": {
       "model_id": "8fb59e9991104de9b9a0f1a26b4516fa",
       "version_major": 2,
       "version_minor": 0
      },
      "text/plain": [
       "HBox(children=(IntProgress(value=0, max=140), HTML(value='')))"
      ]
     },
     "metadata": {},
     "output_type": "display_data"
    },
    {
     "name": "stdout",
     "output_type": "stream",
     "text": [
      "\n",
      "[info] epoch train loss: -0.1733833851695136\n",
      "Epoch 372\n"
     ]
    },
    {
     "data": {
      "application/vnd.jupyter.widget-view+json": {
       "model_id": "c1c800b7e95c4fcdbb20b1ad3222565d",
       "version_major": 2,
       "version_minor": 0
      },
      "text/plain": [
       "HBox(children=(IntProgress(value=0, max=140), HTML(value='')))"
      ]
     },
     "metadata": {},
     "output_type": "display_data"
    },
    {
     "name": "stdout",
     "output_type": "stream",
     "text": [
      "lay egg to ./Nest ... save as ./Nest/NewbornBird\n",
      "origin:\n",
      "['[CLS]', 'house', 'prices', 'suffer', 'fest', '##ive', 'fall', 'uk', 'house', 'prices', 'fell', '0', '.', '7', '%', 'in', 'december', 'according', 'to', 'figures', 'from', 'the', 'office', 'of', 'the', 'deputy', 'prime', 'minister', '.', 'nationally', 'house', 'prices', 'rose', 'at', 'an', 'annual', 'rate', 'of', '10', '.', '7', '%', 'in', 'december', 'less', 'than', 'the', '13', '.', '7', '%', 'rise', 'the', 'previous', 'month', '.', 'the', 'average', 'uk', 'house', 'price', 'fell', 'from', '£1', '##80', '126', 'in', 'november', 'to', '£1', '##7', '##8', '90', '##6', 'reflecting', 'recent', 'land', 'registry', 'figures', 'confirming', 'a', 'slow', '##down', 'in', 'late', '2004', '.', 'all', 'major', 'uk', 'regions', 'apart', 'from', 'northern', 'ireland', 'experienced', 'a', 'fall', 'in', 'annual', 'growth', 'during', 'december', '.', 'december', 'is', 'traditionally', 'a', 'quiet', 'month', 'for', 'the', 'housing', 'market', 'because', 'of', 'christmas', 'celebrations', '.', 'however', 'recent', 'figures', 'from', 'the', 'land', 'registry', '-', 'showing', 'a', 'big', 'drop', 'in', 'sales', 'between', 'the', 'last', 'quarter', 'of', '2004', 'and', 'the', 'previous', 'year', '-', 'suggested', 'the', 'slow', '##down', 'could', 'be', 'more', 'than', 'a', 'seasonal', 'b', '##lip', '.', 'the', 'volume', 'of', 'sales', 'between', 'october', 'and', 'december', 'dropped', 'by', 'nearly', 'a', 'quarter', 'from', 'the', 'same', 'period', 'in', '2003', 'the', 'land', 'registry', 'said', '.', 'although', 'both', 'the', 'office', 'of', 'the', 'deputy', 'prime', 'minister', '(', 'o', '##dp', '##m', ')', 'and', 'the', 'land', 'registry', 'figures', 'point', 'to', 'a', 'slow', '##down', 'in', 'the', 'market', 'the', 'most', 'recent', 'surveys', 'from', 'nationwide', 'and', 'halifax', 'have', 'indicated', 'the', 'market', 'may', 'be', 'undergoing', 'a', 'revival', '.', 'after', 'registering', 'falls', 'at', 'the', 'back', '-', 'end', 'of', '2004', 'halifax', 'said', 'house', 'prices', 'rose', 'by', '0', '.', '8', '%', 'in', 'january', 'and', 'nationwide', 'reported', 'a', 'rise', 'of', '0', '.', '4', '%', 'in', 'the', 'first', 'month', 'of', 'the', 'year', '.', '[SEP]', '[PAD]', '[PAD]', '[PAD]', '[PAD]', '[PAD]', '[PAD]', '[PAD]', '[PAD]', '[PAD]', '[PAD]', '[PAD]', '[PAD]', '[PAD]', '[PAD]', '[PAD]', '[PAD]', '[PAD]', '[PAD]', '[PAD]', '[PAD]', '[PAD]', '[PAD]', '[PAD]', '[PAD]', '[PAD]', '[PAD]', '[PAD]', '[PAD]', '[PAD]', '[PAD]', '[PAD]', '[PAD]', '[PAD]', '[PAD]', '[PAD]', '[PAD]', '[PAD]', '[PAD]', '[PAD]', '[PAD]', '[PAD]', '[PAD]', '[PAD]', '[PAD]', '[PAD]', '[PAD]', '[PAD]', '[PAD]', '[PAD]', '[PAD]', '[PAD]', '[PAD]', '[PAD]', '[PAD]', '[PAD]', '[PAD]', '[PAD]', '[PAD]', '[PAD]', '[PAD]', '[PAD]', '[PAD]', '[PAD]', '[PAD]', '[PAD]', '[PAD]', '[PAD]', '[PAD]', '[PAD]', '[PAD]', '[PAD]', '[PAD]', '[PAD]', '[PAD]', '[PAD]', '[PAD]', '[PAD]', '[PAD]', '[PAD]', '[PAD]', '[PAD]', '[PAD]', '[PAD]', '[PAD]', '[PAD]', '[PAD]', '[PAD]', '[PAD]', '[PAD]', '[PAD]', '[PAD]', '[PAD]', '[PAD]', '[PAD]', '[PAD]', '[PAD]', '[PAD]', '[PAD]', '[PAD]', '[PAD]', '[PAD]', '[PAD]', '[PAD]', '[PAD]', '[PAD]', '[PAD]', '[PAD]', '[PAD]', '[PAD]', '[PAD]', '[PAD]', '[PAD]', '[PAD]', '[PAD]', '[PAD]', '[PAD]', '[PAD]', '[PAD]', '[PAD]', '[PAD]', '[PAD]', '[PAD]', '[PAD]', '[PAD]', '[PAD]', '[PAD]', '[PAD]', '[PAD]', '[PAD]', '[PAD]', '[PAD]', '[PAD]', '[PAD]']\n",
      "summary:\n",
      "['[CLS]', '##kers', '##kers', '##kers', '##kers', '##kers', '##kers', '##kers', '##kers', '##kers', '##kers', '##kers', '##kers', '##kers', '##kers', '##kers', '##kers', '##kers', '##kers', '##kers']\n",
      "real summary:\n",
      "['[CLS]', 'house', 'prices', 'suffer', 'fest', '##ive', 'fall', 'uk', 'house', 'prices', 'fell', '0', '.', '7', '%', 'in', 'december', 'according', 'to']\n",
      "sentiment: 4\n",
      "y: 1\n",
      "\n",
      "\n",
      "[info] epoch train loss: -0.17471336863302522\n",
      "Epoch 373\n"
     ]
    },
    {
     "data": {
      "application/vnd.jupyter.widget-view+json": {
       "model_id": "2fdecf38182b43ada77a439aaecbf3aa",
       "version_major": 2,
       "version_minor": 0
      },
      "text/plain": [
       "HBox(children=(IntProgress(value=0, max=140), HTML(value='')))"
      ]
     },
     "metadata": {},
     "output_type": "display_data"
    },
    {
     "name": "stdout",
     "output_type": "stream",
     "text": [
      "\n",
      "[info] epoch train loss: -0.17354826696445766\n",
      "Epoch 374\n"
     ]
    },
    {
     "data": {
      "application/vnd.jupyter.widget-view+json": {
       "model_id": "021df832be8e4480af4be5798cdf9edb",
       "version_major": 2,
       "version_minor": 0
      },
      "text/plain": [
       "HBox(children=(IntProgress(value=0, max=140), HTML(value='')))"
      ]
     },
     "metadata": {},
     "output_type": "display_data"
    },
    {
     "name": "stdout",
     "output_type": "stream",
     "text": [
      "\n",
      "[info] epoch train loss: -0.17270922433144448\n",
      "Epoch 375\n"
     ]
    },
    {
     "data": {
      "application/vnd.jupyter.widget-view+json": {
       "model_id": "2f6b4aa0bffc43aa8a5f12fdc1b5d996",
       "version_major": 2,
       "version_minor": 0
      },
      "text/plain": [
       "HBox(children=(IntProgress(value=0, max=140), HTML(value='')))"
      ]
     },
     "metadata": {},
     "output_type": "display_data"
    },
    {
     "name": "stdout",
     "output_type": "stream",
     "text": [
      "\n",
      "[info] epoch train loss: -0.17059564162931865\n",
      "Epoch 376\n"
     ]
    },
    {
     "data": {
      "application/vnd.jupyter.widget-view+json": {
       "model_id": "f8da72c61cad409a9ce9fd0e99f27089",
       "version_major": 2,
       "version_minor": 0
      },
      "text/plain": [
       "HBox(children=(IntProgress(value=0, max=140), HTML(value='')))"
      ]
     },
     "metadata": {},
     "output_type": "display_data"
    },
    {
     "name": "stdout",
     "output_type": "stream",
     "text": [
      "\n",
      "[info] epoch train loss: -0.16986164997125977\n",
      "Epoch 377\n"
     ]
    },
    {
     "data": {
      "application/vnd.jupyter.widget-view+json": {
       "model_id": "7edc825ea2e64f1d84ed3ad811398152",
       "version_major": 2,
       "version_minor": 0
      },
      "text/plain": [
       "HBox(children=(IntProgress(value=0, max=140), HTML(value='')))"
      ]
     },
     "metadata": {},
     "output_type": "display_data"
    },
    {
     "name": "stdout",
     "output_type": "stream",
     "text": [
      "\n",
      "[info] epoch train loss: -0.16945805979972753\n",
      "Epoch 378\n"
     ]
    },
    {
     "data": {
      "application/vnd.jupyter.widget-view+json": {
       "model_id": "36e1e967e81641cc9030779114d2617e",
       "version_major": 2,
       "version_minor": 0
      },
      "text/plain": [
       "HBox(children=(IntProgress(value=0, max=140), HTML(value='')))"
      ]
     },
     "metadata": {},
     "output_type": "display_data"
    },
    {
     "name": "stdout",
     "output_type": "stream",
     "text": [
      "\n",
      "[info] epoch train loss: -0.17155598074888587\n",
      "Epoch 379\n"
     ]
    },
    {
     "data": {
      "application/vnd.jupyter.widget-view+json": {
       "model_id": "55501b70ed2645e4bc4bd3ccdc786e54",
       "version_major": 2,
       "version_minor": 0
      },
      "text/plain": [
       "HBox(children=(IntProgress(value=0, max=140), HTML(value='')))"
      ]
     },
     "metadata": {},
     "output_type": "display_data"
    },
    {
     "name": "stdout",
     "output_type": "stream",
     "text": [
      "lay egg to ./Nest ... save as ./Nest/NewbornBird\n",
      "origin:\n",
      "['[CLS]', 'arsenal', 'through', 'on', 'penalties', 'arsenal', 'win', '4', '-', '2', 'on', 'penalties', 'the', 'spanish', 'goalkeeper', 'saved', 'from', 'alan', 'quinn', 'and', 'jon', 'harley', 'as', 'arsenal', 'sealed', 'a', 'quarter', '-', 'final', 'trip', 'to', 'bolton', 'with', 'a', '4', '-', '2', 'victory', 'on', 'penalties', '.', 'lauren', 'patrick', 'vie', '##ira', 'freddie', 'l', '##jun', '##gb', '##er', '##g', 'and', 'ashley', 'cole', 'scored', 'for', 'arsenal', 'while', 'andy', 'gray', 'and', 'phil', 'ja', '##gie', '##lka', 'were', 'on', 'target', 'for', 'the', 'blades', '.', 'michael', 'tong', '##e', 'and', 'harley', 'wasted', 'chances', 'for', 'the', 'under', '##dog', '##s', 'but', 'paddy', 'kenny', 'was', 'inspired', 'to', 'keep', 'arsenal', 'at', 'bay', '.', 'arsenal', 'stripped', 'of', 'attacking', 'talent', 'such', 'as', 'thierry', 'henry', 'and', 'dennis', 'berg', '##kam', '##p', 'partnered', '17', '-', 'year', '-', 'old', 'italian', 'striker', 'arturo', 'lu', '##pol', '##i', 'with', 'l', '##jun', '##gb', '##er', '##g', 'up', 'front', '.', 'it', 'was', 'a', 'rev', '##amp', '##ed', 'arsenal', 'line', '-', 'up', 'and', 'they', 'were', 'almost', 'a', 'goal', 'behind', 'within', 'seconds', 'as', 'tong', '##e', 'wasted', 'a', 'glorious', 'chance', '.', 'gray', 'ran', 'free', 'down', 'the', 'right', 'flank', 'and', 'his', 'cross', 'left', 'tong', '##e', 'with', 'the', 'simplest', 'of', 'chances', 'but', 'he', 'blazed', 'over', 'the', 'top', 'from', 'six', 'yards', '.', 'arsenal', 'were', 'barely', 'seen', 'as', 'an', 'attacking', 'force', 'in', 'the', 'opening', '45', 'minutes', 'although', 'l', '##jun', '##gb', '##er', '##g', 'turned', 'a', 'half', '-', 'chance', 'wide', 'after', 'good', 'work', 'by', 'ce', '##sc', 'fa', '##bre', '##gas', '.', 'ars', '##ene', 'wen', '##ger', 'introduced', 'quincy', 'ow', '##us', '##u', '-', 'abe', '##yi', '##e', 'for', 'the', 'ineffective', 'lu', '##pol', '##i', 'at', 'half', '-', 'time', 'and', 'the', 'pac', '##y', 'dutch', 'young', '##ster', 'had', 'an', 'immediate', 'impact', '.', 'he', 'ran', 'clear', 'after', 'good', 'work', 'by', 'math', '##ieu', 'fl', '##ami', '##ni', 'but', 'his', 'finish', 'was', 'tame', 'and', 'kenny', 'saved', 'easily', '.', 'ow', '##us', '##u', '-', 'abe', '##yi', '##e', 'then', 'fired', 'in', 'a', 'testing', 'cross', 'which', 'was', 'met', 'by', 'fa', '##bre', '##gas', 'and', 'it', 'needed', 'a', 'desperate', 'clearance', 'by', 'kenny', 's', 'legs', 'to', 'save', 'the', 'blades', '.', 'arsenal', 'were', 'now', 'totally', 'dominant', 'and', 'were', 'desperately', 'un', '##lu', '##cky', 'not', 'to', 'take', 'the', 'lead', 'after', '62', 'minutes', 'when', 'fa', '##bre', '##gas', 'crashed', 'a', 'rising', 'drive', 'against', 'the', 'bar', 'from', '20', 'yards', '.', 'it', 'then', 'took', 'a', 'brilliant', 'tackle', 'by', 'ja', '##gie', '##lka', 'to', 'deny', 'l', '##jun', '##gb', '##er', '##g', 'as', 'he', 'was', 'poised', 'to', 'strike', '.', 'arsenal', 'continued', 'to', 'press', 'and', 'once', 'again', 'kenny', 'was', 'called', 'into', 'action', 'with', 'eight', 'minutes', 'left', 'diving', 'low', 'to', 'clutch', 'another', 'close', '-', 'range', 'effort', 'from', 'fa', '##bre', '##gas', '.']\n",
      "summary:\n",
      "['[CLS]', '##kers', '##kers', '##kers', '##kers', '##kers', '##kers', '##kers', '##kers', '##kers', '##kers', '##kers', '##kers', '##kers', '##kers', '##kers', '##kers', '##kers', '##kers', '##kers']\n",
      "real summary:\n",
      "['[CLS]', 'arsenal', 'through', 'on', 'penalties', 'arsenal', 'win', '4', '-', '2', 'on', 'penalties', 'the', 'spanish', 'goalkeeper', 'saved', 'from', 'alan', 'quinn']\n",
      "sentiment: 4\n",
      "y: 2\n",
      "\n",
      "\n",
      "[info] epoch train loss: -0.16835055269403937\n",
      "Epoch 380\n"
     ]
    },
    {
     "data": {
      "application/vnd.jupyter.widget-view+json": {
       "model_id": "140fd591c8924d8e962195a4612ee305",
       "version_major": 2,
       "version_minor": 0
      },
      "text/plain": [
       "HBox(children=(IntProgress(value=0, max=140), HTML(value='')))"
      ]
     },
     "metadata": {},
     "output_type": "display_data"
    },
    {
     "name": "stdout",
     "output_type": "stream",
     "text": [
      "\n",
      "[info] epoch train loss: -0.16901373831097674\n",
      "Epoch 381\n"
     ]
    },
    {
     "data": {
      "application/vnd.jupyter.widget-view+json": {
       "model_id": "2d3e45963590472aaa9eb33ec3368433",
       "version_major": 2,
       "version_minor": 0
      },
      "text/plain": [
       "HBox(children=(IntProgress(value=0, max=140), HTML(value='')))"
      ]
     },
     "metadata": {},
     "output_type": "display_data"
    },
    {
     "name": "stdout",
     "output_type": "stream",
     "text": [
      "\n",
      "[info] epoch train loss: -0.17273575871952615\n",
      "Epoch 382\n"
     ]
    },
    {
     "data": {
      "application/vnd.jupyter.widget-view+json": {
       "model_id": "d9313e990d914d81a6b15106517e69d2",
       "version_major": 2,
       "version_minor": 0
      },
      "text/plain": [
       "HBox(children=(IntProgress(value=0, max=140), HTML(value='')))"
      ]
     },
     "metadata": {},
     "output_type": "display_data"
    },
    {
     "name": "stdout",
     "output_type": "stream",
     "text": [
      "\n",
      "[info] epoch train loss: -0.17336554627186485\n",
      "Epoch 383\n"
     ]
    },
    {
     "data": {
      "application/vnd.jupyter.widget-view+json": {
       "model_id": "9f5283e90ad247748bd59fd3539bceb5",
       "version_major": 2,
       "version_minor": 0
      },
      "text/plain": [
       "HBox(children=(IntProgress(value=0, max=140), HTML(value='')))"
      ]
     },
     "metadata": {},
     "output_type": "display_data"
    },
    {
     "name": "stdout",
     "output_type": "stream",
     "text": [
      "\n",
      "[info] epoch train loss: -0.17675078135275238\n",
      "Epoch 384\n"
     ]
    },
    {
     "data": {
      "application/vnd.jupyter.widget-view+json": {
       "model_id": "b58df06b0af54b4582860bca98dde955",
       "version_major": 2,
       "version_minor": 0
      },
      "text/plain": [
       "HBox(children=(IntProgress(value=0, max=140), HTML(value='')))"
      ]
     },
     "metadata": {},
     "output_type": "display_data"
    },
    {
     "name": "stdout",
     "output_type": "stream",
     "text": [
      "\n",
      "[info] epoch train loss: -0.1752620381059127\n",
      "Epoch 385\n"
     ]
    },
    {
     "data": {
      "application/vnd.jupyter.widget-view+json": {
       "model_id": "45ac0631378d43ef89115f68fdf9d32d",
       "version_major": 2,
       "version_minor": 0
      },
      "text/plain": [
       "HBox(children=(IntProgress(value=0, max=140), HTML(value='')))"
      ]
     },
     "metadata": {},
     "output_type": "display_data"
    },
    {
     "name": "stdout",
     "output_type": "stream",
     "text": [
      "\n",
      "[info] epoch train loss: -0.1779474688336133\n",
      "Epoch 386\n"
     ]
    },
    {
     "data": {
      "application/vnd.jupyter.widget-view+json": {
       "model_id": "4be797ec4a2b4e8894e569aef70df401",
       "version_major": 2,
       "version_minor": 0
      },
      "text/plain": [
       "HBox(children=(IntProgress(value=0, max=140), HTML(value='')))"
      ]
     },
     "metadata": {},
     "output_type": "display_data"
    },
    {
     "name": "stdout",
     "output_type": "stream",
     "text": [
      "lay egg to ./Nest ... save as ./Nest/NewbornBird\n",
      "origin:\n",
      "['[CLS]', 'last', 'star', 'wars', 'not', 'for', 'children', 'the', 'sixth', 'and', 'final', 'star', 'wars', 'movie', 'may', 'not', 'be', 'suitable', 'for', 'young', 'children', 'film', '-', 'maker', 'george', 'lucas', 'has', 'said', '.', 'he', 'told', 'us', 'tv', 'show', '60', 'minutes', 'that', 'revenge', 'of', 'the', 'sit', '##h', 'would', 'be', 'the', 'darkest', 'and', 'most', 'violent', 'of', 'the', 'series', '.', 'i', 'don', 't', 'think', 'i', 'would', 'take', 'a', 'five', 'or', 'six', '-', 'year', '-', 'old', 'to', 'this', 'he', 'told', 'the', 'cbs', 'programme', 'to', 'be', 'aired', 'on', 'sunday', '.', 'lucas', 'predicted', 'the', 'film', 'would', 'get', 'a', 'us', 'rating', 'advising', 'parents', 'some', 'scenes', 'may', 'be', 'unsuitable', 'for', 'under', '-', '13', '##s', '.', 'it', 'opens', 'in', 'the', 'uk', 'and', 'us', 'on', '19', 'may', '.', 'he', 'said', 'he', 'expected', 'the', 'film', 'would', 'be', 'classified', 'pg', '-', '13', '-', 'roughly', 'equivalent', 'to', 'a', 'british', '12', '##a', 'rating', '.', 'the', 'five', 'previous', 'star', 'wars', 'films', 'have', 'all', 'carried', 'less', 'restrictive', 'pg', '-', 'parental', 'guidance', '-', 'ratings', 'in', 'the', 'us', '.', 'in', 'the', 'uk', 'they', 'have', 'all', 'been', 'passed', 'u', '-', 'suitable', 'for', 'all', '-', 'with', 'the', 'exception', 'of', 'attack', 'of', 'the', 'clones', 'which', 'got', 'a', 'pg', 'rating', 'in', '2002', '.', 'revenge', 'of', 'the', 'sit', '##h', '-', 'the', 'third', 'prequel', 'to', 'the', 'original', '1977', 'star', 'wars', 'film', '-', 'chronicles', 'the', 'transformation', 'of', 'the', 'heroic', 'ana', '##kin', 'sky', '##walker', 'into', 'the', 'evil', 'dart', '##h', 'va', '##der', 'as', 'he', 'travels', 'to', 'a', 'hell', '-', 'like', 'planet', 'composed', 'of', 'er', '##upt', '##ing', 'volcanoes', 'and', 'molten', 'lava', '.', 'we', 're', 'going', 'to', 'watch', 'him', 'make', 'a', 'pact', 'with', 'the', 'devil', 'lucas', 'said', '.', 'the', 'film', 'is', 'much', 'more', 'dark', 'more', 'emotional', '.', 'it', 's', 'much', 'more', 'of', 'a', 'tragedy', '.', '[SEP]', '[PAD]', '[PAD]', '[PAD]', '[PAD]', '[PAD]', '[PAD]', '[PAD]', '[PAD]', '[PAD]', '[PAD]', '[PAD]', '[PAD]', '[PAD]', '[PAD]', '[PAD]', '[PAD]', '[PAD]', '[PAD]', '[PAD]', '[PAD]', '[PAD]', '[PAD]', '[PAD]', '[PAD]', '[PAD]', '[PAD]', '[PAD]', '[PAD]', '[PAD]', '[PAD]', '[PAD]', '[PAD]', '[PAD]', '[PAD]', '[PAD]', '[PAD]', '[PAD]', '[PAD]', '[PAD]', '[PAD]', '[PAD]', '[PAD]', '[PAD]', '[PAD]', '[PAD]', '[PAD]', '[PAD]', '[PAD]', '[PAD]', '[PAD]', '[PAD]', '[PAD]', '[PAD]', '[PAD]', '[PAD]', '[PAD]', '[PAD]', '[PAD]', '[PAD]', '[PAD]', '[PAD]', '[PAD]', '[PAD]', '[PAD]', '[PAD]', '[PAD]', '[PAD]', '[PAD]', '[PAD]', '[PAD]', '[PAD]', '[PAD]', '[PAD]', '[PAD]', '[PAD]', '[PAD]', '[PAD]', '[PAD]', '[PAD]', '[PAD]', '[PAD]', '[PAD]', '[PAD]', '[PAD]', '[PAD]', '[PAD]', '[PAD]', '[PAD]', '[PAD]', '[PAD]', '[PAD]', '[PAD]', '[PAD]', '[PAD]', '[PAD]', '[PAD]', '[PAD]', '[PAD]', '[PAD]', '[PAD]', '[PAD]', '[PAD]', '[PAD]', '[PAD]', '[PAD]', '[PAD]', '[PAD]', '[PAD]', '[PAD]', '[PAD]', '[PAD]', '[PAD]', '[PAD]', '[PAD]', '[PAD]', '[PAD]', '[PAD]', '[PAD]', '[PAD]', '[PAD]', '[PAD]', '[PAD]', '[PAD]', '[PAD]', '[PAD]', '[PAD]', '[PAD]']\n",
      "summary:\n",
      "['[CLS]', '##kers', '##kers', '##kers', '##kers', '##kers', '##kers', '##kers', '##kers', '##kers', '##kers', '##kers', '##kers', '##kers', '##kers', '##kers', '##kers', '##kers', '##kers', '##kers']\n",
      "real summary:\n",
      "['[CLS]', 'last', 'star', 'wars', 'not', 'for', 'children', 'the', 'sixth', 'and', 'final', 'star', 'wars', 'movie', 'may', 'not', 'be', 'suitable', 'for']\n",
      "sentiment: 4\n",
      "y: 3\n",
      "\n",
      "\n",
      "[info] epoch train loss: -0.18355258698523066\n",
      "Epoch 387\n"
     ]
    },
    {
     "data": {
      "application/vnd.jupyter.widget-view+json": {
       "model_id": "c15abf7cca134e38b84733663bf3bee4",
       "version_major": 2,
       "version_minor": 0
      },
      "text/plain": [
       "HBox(children=(IntProgress(value=0, max=140), HTML(value='')))"
      ]
     },
     "metadata": {},
     "output_type": "display_data"
    },
    {
     "name": "stdout",
     "output_type": "stream",
     "text": [
      "\n",
      "[info] epoch train loss: -0.1811069945864505\n",
      "Epoch 388\n"
     ]
    },
    {
     "data": {
      "application/vnd.jupyter.widget-view+json": {
       "model_id": "ffcaccb68d6544cb941c169c5e33034e",
       "version_major": 2,
       "version_minor": 0
      },
      "text/plain": [
       "HBox(children=(IntProgress(value=0, max=140), HTML(value='')))"
      ]
     },
     "metadata": {},
     "output_type": "display_data"
    },
    {
     "name": "stdout",
     "output_type": "stream",
     "text": [
      "\n",
      "[info] epoch train loss: -0.17596546798299237\n",
      "Epoch 389\n"
     ]
    },
    {
     "data": {
      "application/vnd.jupyter.widget-view+json": {
       "model_id": "7b818ace5b8740878c1dd41c3be3bf53",
       "version_major": 2,
       "version_minor": 0
      },
      "text/plain": [
       "HBox(children=(IntProgress(value=0, max=140), HTML(value='')))"
      ]
     },
     "metadata": {},
     "output_type": "display_data"
    },
    {
     "name": "stdout",
     "output_type": "stream",
     "text": [
      "\n",
      "[info] epoch train loss: -0.16409847047648732\n",
      "Epoch 390\n"
     ]
    },
    {
     "data": {
      "application/vnd.jupyter.widget-view+json": {
       "model_id": "8ee4f15671474ef8af50e90057316069",
       "version_major": 2,
       "version_minor": 0
      },
      "text/plain": [
       "HBox(children=(IntProgress(value=0, max=140), HTML(value='')))"
      ]
     },
     "metadata": {},
     "output_type": "display_data"
    },
    {
     "name": "stdout",
     "output_type": "stream",
     "text": [
      "\n",
      "[info] epoch train loss: -0.16615254973366322\n",
      "Epoch 391\n"
     ]
    },
    {
     "data": {
      "application/vnd.jupyter.widget-view+json": {
       "model_id": "72b050e38e9848bfb8d71d06248a2cc3",
       "version_major": 2,
       "version_minor": 0
      },
      "text/plain": [
       "HBox(children=(IntProgress(value=0, max=140), HTML(value='')))"
      ]
     },
     "metadata": {},
     "output_type": "display_data"
    },
    {
     "name": "stdout",
     "output_type": "stream",
     "text": [
      "\n",
      "[info] epoch train loss: -0.17496522282466498\n",
      "Epoch 392\n"
     ]
    },
    {
     "data": {
      "application/vnd.jupyter.widget-view+json": {
       "model_id": "388bf9617f724533875db3ece59cb4ed",
       "version_major": 2,
       "version_minor": 0
      },
      "text/plain": [
       "HBox(children=(IntProgress(value=0, max=140), HTML(value='')))"
      ]
     },
     "metadata": {},
     "output_type": "display_data"
    },
    {
     "name": "stdout",
     "output_type": "stream",
     "text": [
      "\n",
      "[info] epoch train loss: -0.17628603908633358\n",
      "Epoch 393\n"
     ]
    },
    {
     "data": {
      "application/vnd.jupyter.widget-view+json": {
       "model_id": "7435b23d3b3c4a75976653bd76a0c0ba",
       "version_major": 2,
       "version_minor": 0
      },
      "text/plain": [
       "HBox(children=(IntProgress(value=0, max=140), HTML(value='')))"
      ]
     },
     "metadata": {},
     "output_type": "display_data"
    },
    {
     "name": "stdout",
     "output_type": "stream",
     "text": [
      "lay egg to ./Nest ... save as ./Nest/NewbornBird\n",
      "origin:\n",
      "['[CLS]', 'fbi', 'agent', 'col', '##lu', '##des', 'with', 'analyst', 'a', 'former', 'fbi', 'agent', 'and', 'an', 'internet', 'stock', 'pick', '##er', 'have', 'been', 'found', 'guilty', 'of', 'using', 'confidential', 'us', 'government', 'information', 'to', 'manipulate', 'stock', 'prices', '.', 'a', 'new', 'york', 'court', 'ruled', 'that', 'former', 'fbi', 'man', 'jeffrey', 'roy', '##er', '41', 'fed', 'damaging', 'information', 'to', 'anthony', 'elgin', '##dy', '36', '.', 'mr', 'elgin', '##dy', 'then', 'drove', 'share', 'prices', 'lower', 'by', 'spreading', 'negative', 'publicity', 'via', 'his', 'newsletter', '.', 'the', 'egyptian', '-', 'born', 'analyst', 'would', 'ex', '##tort', 'money', 'from', 'his', 'targets', 'in', 'return', 'for', 'stopping', 'the', 'attacks', 'prosecutors', 'said', '.', 'under', 'the', 'guise', 'of', 'protecting', 'investors', 'from', 'fraud', 'roy', '##er', 'and', 'elgin', '##dy', 'used', 'the', 'fbi', 's', 'crime', '-', 'fighting', 'tools', 'and', 'resources', 'actually', 'to', 'def', '##ra', '##ud', 'the', 'public', 'said', 'us', 'attorney', 'ro', '##sl', '##yn', '##n', 'ma', '##us', '##ko', '##pf', '.', 'mr', 'roy', '##er', 'was', 'convicted', 'of', 'rack', '##ete', '##ering', 'securities', 'fraud', 'obstruction', 'of', 'justice', 'and', 'witness', 'tam', '##per', '##ing', '.', 'mr', 'elgin', '##dy', 'was', 'convicted', 'of', 'rack', '##ete', '##ering', 'securities', 'fraud', 'and', 'ex', '##tort', '##ion', '.', 'the', 'charges', 'carry', 'sentences', 'of', 'up', 'to', '20', 'years', '.', 'when', 'the', 'guilty', 'verdict', 'was', 'announced', 'by', 'the', 'jury', 'foreman', 'mr', 'elgin', '##dy', 'dropped', 'his', 'face', 'into', 'his', 'hands', 'and', 'sobbed', 'the', 'associated', 'press', 'news', 'agency', 'reported', '.', 'he', 'was', 'led', 'weeping', 'from', 'the', 'court', 'room', 'by', 'us', 'marshal', '##s', 'ap', 'said', '.', 'defense', 'lawyers', 'contend', '##ed', 'that', 'mr', 'roy', '##er', 'had', 'been', 'feeding', 'information', 'to', 'mr', 'elgin', '##dy', 'and', 'another', 'trader', 'in', 'an', 'attempt', 'to', 'expose', 'corporate', 'fraud', '.', 'mr', 'elgin', '##dy', 's', 'team', 'claimed', 'that', 'he', 'also', 'was', 'fighting', 'against', 'corporate', 'wrong', '##do', '##ing', '.', 'elgin', '##dy', 's', 'conviction', 'marks', 'the', 'end', 'of', 'his', 'public', 'char', '##ade', 'as', 'a', 'crusader', 'against', 'fraud', 'in', 'the', 'market', 'said', 'ms', 'ma', '##us', '##ko', '##pf', '.', 'one', 'of', 'the', 'more', 'bizarre', 'aspects', 'of', 'the', 'trial', 'focused', 'on', 'the', 'claims', 'that', 'mr', 'elgin', '##dy', 'may', 'have', 'had', 'fore', '##k', '##now', '##led', '##ge', 'of', 'the', '11', 'september', 'terrorist', 'attacks', 'in', 'new', 'york', 'and', 'washington', '.', 'mr', 'elgin', '##dy', 'had', 'been', 'trying', 'to', 'sell', 'stock', 'prior', 'to', 'the', 'attack', 'and', 'had', 'predicted', 'a', 'slump', 'in', 'the', 'market', '.', 'no', 'charges', 'were', 'brought', 'in', 'relation', 'to', 'these', 'allegations', '.', '[SEP]', '[PAD]', '[PAD]', '[PAD]', '[PAD]', '[PAD]', '[PAD]', '[PAD]', '[PAD]', '[PAD]', '[PAD]', '[PAD]', '[PAD]', '[PAD]', '[PAD]', '[PAD]', '[PAD]', '[PAD]', '[PAD]', '[PAD]', '[PAD]', '[PAD]', '[PAD]', '[PAD]', '[PAD]', '[PAD]', '[PAD]', '[PAD]', '[PAD]', '[PAD]', '[PAD]', '[PAD]', '[PAD]', '[PAD]', '[PAD]', '[PAD]', '[PAD]']\n",
      "summary:\n",
      "['[CLS]', '##kers', '##kers', '##kers', '##kers', '##kers', '##kers', '##kers', '##kers', '##kers', '##kers', '##kers', '##kers', '##kers', '##kers', '##kers', '##kers', '##kers', '##kers', '##kers']\n",
      "real summary:\n",
      "['[CLS]', 'fbi', 'agent', 'col', '##lu', '##des', 'with', 'analyst', 'a', 'former', 'fbi', 'agent', 'and', 'an', 'internet', 'stock', 'pick', '##er', 'have']\n",
      "sentiment: 4\n",
      "y: 1\n",
      "\n",
      "\n",
      "[info] epoch train loss: -0.17813431505773483\n",
      "Epoch 394\n"
     ]
    },
    {
     "data": {
      "application/vnd.jupyter.widget-view+json": {
       "model_id": "d12ee471511646b386388f73970768c1",
       "version_major": 2,
       "version_minor": 0
      },
      "text/plain": [
       "HBox(children=(IntProgress(value=0, max=140), HTML(value='')))"
      ]
     },
     "metadata": {},
     "output_type": "display_data"
    },
    {
     "name": "stdout",
     "output_type": "stream",
     "text": [
      "\n",
      "[info] epoch train loss: -0.17989120067236591\n",
      "Epoch 395\n"
     ]
    },
    {
     "data": {
      "application/vnd.jupyter.widget-view+json": {
       "model_id": "db67e52e9382495a81fbf67dcb066da0",
       "version_major": 2,
       "version_minor": 0
      },
      "text/plain": [
       "HBox(children=(IntProgress(value=0, max=140), HTML(value='')))"
      ]
     },
     "metadata": {},
     "output_type": "display_data"
    },
    {
     "name": "stdout",
     "output_type": "stream",
     "text": [
      "\n",
      "[info] epoch train loss: -0.17293092663361856\n",
      "Epoch 396\n"
     ]
    },
    {
     "data": {
      "application/vnd.jupyter.widget-view+json": {
       "model_id": "68a95f2f7250491f93a832372a210e2d",
       "version_major": 2,
       "version_minor": 0
      },
      "text/plain": [
       "HBox(children=(IntProgress(value=0, max=140), HTML(value='')))"
      ]
     },
     "metadata": {},
     "output_type": "display_data"
    },
    {
     "name": "stdout",
     "output_type": "stream",
     "text": [
      "\n",
      "[info] epoch train loss: -0.18450153594309293\n",
      "Epoch 397\n"
     ]
    },
    {
     "data": {
      "application/vnd.jupyter.widget-view+json": {
       "model_id": "2041407c426a473eb62f871efa9d3e25",
       "version_major": 2,
       "version_minor": 0
      },
      "text/plain": [
       "HBox(children=(IntProgress(value=0, max=140), HTML(value='')))"
      ]
     },
     "metadata": {},
     "output_type": "display_data"
    },
    {
     "name": "stdout",
     "output_type": "stream",
     "text": [
      "\n",
      "[info] epoch train loss: -0.19451233831454146\n",
      "Epoch 398\n"
     ]
    },
    {
     "data": {
      "application/vnd.jupyter.widget-view+json": {
       "model_id": "28d80932216a4e2d8f5093522b662f65",
       "version_major": 2,
       "version_minor": 0
      },
      "text/plain": [
       "HBox(children=(IntProgress(value=0, max=140), HTML(value='')))"
      ]
     },
     "metadata": {},
     "output_type": "display_data"
    },
    {
     "name": "stdout",
     "output_type": "stream",
     "text": [
      "\n",
      "[info] epoch train loss: -0.1953661095175968\n",
      "Epoch 399\n"
     ]
    },
    {
     "data": {
      "application/vnd.jupyter.widget-view+json": {
       "model_id": "bbb09ecb0df544f9a5bc8c7c91de7cc6",
       "version_major": 2,
       "version_minor": 0
      },
      "text/plain": [
       "HBox(children=(IntProgress(value=0, max=140), HTML(value='')))"
      ]
     },
     "metadata": {},
     "output_type": "display_data"
    },
    {
     "name": "stdout",
     "output_type": "stream",
     "text": [
      "\n",
      "[info] epoch train loss: -0.19787225022169658\n",
      "Epoch 400\n"
     ]
    },
    {
     "data": {
      "application/vnd.jupyter.widget-view+json": {
       "model_id": "68f95b47062a482486cd9c0440911888",
       "version_major": 2,
       "version_minor": 0
      },
      "text/plain": [
       "HBox(children=(IntProgress(value=0, max=140), HTML(value='')))"
      ]
     },
     "metadata": {},
     "output_type": "display_data"
    },
    {
     "name": "stdout",
     "output_type": "stream",
     "text": [
      "lay egg to ./Nest ... save as ./Nest/NewbornBird\n",
      "origin:\n",
      "['[CLS]', 'online', 'commons', 'to', 'spark', 'debate', 'online', 'communities', 'set', 'up', 'by', 'the', 'uk', 'government', 'could', 'encourage', 'public', 'debate', 'and', 'build', 'trust', 'says', 'the', 'institute', 'of', 'public', 'policy', 'research', '(', 'ip', '##pr', ')', '.', 'existing', 'services', 'such', 'as', 'e', '##bay', 'could', 'provide', 'a', 'good', 'blue', '##print', 'for', 'such', 'services', 'says', 'the', 'think', '-', 'tank', '.', 'although', 'the', 'net', 'is', 'becoming', 'part', 'of', 'local', 'and', 'central', 'government', 'its', 'potential', 'has', 'not', 'yet', 'been', 'fully', 'exploited', 'to', 'create', 'an', 'online', 'commons', 'for', 'public', 'debate', '.', 'in', 'its', 'report', 'is', 'online', 'community', 'a', 'policy', 'tool', 'the', 'ip', '##pr', 'also', 'asks', 'if', 'id', 'cards', 'could', 'help', 'create', 'safer', 'online', 'communities', '.', 'adopting', 'an', 'e', '##bay', '-', 'type', 'model', 'would', 'let', 'communities', 'create', 'their', 'own', 'markets', 'for', 'skills', 'and', 'services', 'and', 'help', 'foster', 'a', 'sense', 'of', 'local', 'identity', 'and', 'connection', '.', 'what', 'we', 'are', 'proposing', 'is', 'a', 'civic', 'commons', 'will', 'davies', 'senior', 'research', 'fellow', 'at', 'the', 'ip', '##pr', 'told', 'the', 'bbc', 'news', 'website', '.', 'a', 'single', 'publicly', 'funded', 'and', 'run', 'online', 'community', 'in', 'which', 'citizens', 'can', 'have', 'a', 'single', 'place', 'to', 'go', 'where', 'you', 'can', 'go', 'to', 'engage', 'in', 'diversity', 'and', 'in', 'a', 'way', 'that', 'might', 'have', 'a', 'policy', 'implication', '-', 'like', 'a', 'pre', '-', 'legislation', 'discussion', '.', 'the', 'idea', 'of', 'a', 'civic', 'commons', 'was', 'originally', 'proposed', 'by', 'stephen', 'coleman', 'professor', 'of', 'e', '-', 'democracy', 'at', 'the', 'oxford', 'internet', 'institute', '.', 'the', 'ip', '##pr', 'report', 'points', 'to', 'informal', 'small', 'scale', 'examples', 'of', 'such', 'commons', 'that', 'already', 'exist', '.', 'it', 'mentions', 'good', '-', 'practice', 'public', 'initiatives', 'like', 'the', 'bbc', 's', 'ic', '##an', 'project', 'which', 'connects', 'people', 'locally', 'and', 'nationally', 'who', 'want', 'to', 'take', 'action', 'around', 'important', 'issues', '.', 'but', 'he', 'adds', 'government', 'could', 'play', 'a', 'bigger', 'role', 'in', 'setting', 'up', 'systems', 'of', 'trust', 'for', 'online', 'communities', 'too', '.', 'proposals', 'for', 'id', 'cards', 'for', 'instance', 'could', 'also', 'be', 'widened', 'to', 'see', 'if', 'they', 'could', 'be', 'used', 'online', '.', 'they', 'could', 'provide', 'the', 'basis', 'for', 'a', 'secure', 'authentication', 'system', 'which', 'could', 'have', 'value', 'for', 'peer', '-', 'to', '-', 'peer', 'interaction', 'online', '.', 'at', 'the', 'moment', 'they', 'have', 'been', 'presented', 'as', 'a', 'way', 'for', 'government', 'to', 'keep', 'tab', '##s', 'on', 'people', 'and', 'ensuring', 'access', 'to', 'public', 'services', 'said', 'mr', 'davies', '.', 'but', 'what', 'has', 'not', 'been', 'explored', 'is', 'how', 'authentication', 'technology', 'may', 'potentially', 'play', 'a', 'role', 'in', 'decent', '##ral', '##ised', 'online', 'communities', '.', 'the', 'key', 'idea', 'to', 'take', 'from', 'systems', 'such', 'as', 'e', '##bay', 'and', 'other', 'online', 'communities', 'is', 'letting']\n",
      "summary:\n",
      "['[CLS]', '##kers', '##kers', '##kers', '##kers', '##kers', '##kers', '##kers', '##kers', '##kers', '##kers', '##kers', '##kers', '##kers', '##kers', '##kers', '##kers', '##kers', '##kers', '##kers']\n",
      "real summary:\n",
      "['[CLS]', 'online', 'commons', 'to', 'spark', 'debate', 'online', 'communities', 'set', 'up', 'by', 'the', 'uk', 'government', 'could', 'encourage', 'public', 'debate', 'and']\n",
      "sentiment: 4\n",
      "y: 0\n",
      "\n",
      "\n",
      "[info] epoch train loss: -0.19885496193841\n",
      "Epoch 401\n"
     ]
    },
    {
     "data": {
      "application/vnd.jupyter.widget-view+json": {
       "model_id": "bbd8ef8478204f8b8f468e59c75c8d4a",
       "version_major": 2,
       "version_minor": 0
      },
      "text/plain": [
       "HBox(children=(IntProgress(value=0, max=140), HTML(value='')))"
      ]
     },
     "metadata": {},
     "output_type": "display_data"
    },
    {
     "name": "stdout",
     "output_type": "stream",
     "text": [
      "\n",
      "[info] epoch train loss: -0.20003649057319056\n",
      "Epoch 402\n"
     ]
    },
    {
     "data": {
      "application/vnd.jupyter.widget-view+json": {
       "model_id": "a74888f8c4c044a4ba0cc89b2d47388f",
       "version_major": 2,
       "version_minor": 0
      },
      "text/plain": [
       "HBox(children=(IntProgress(value=0, max=140), HTML(value='')))"
      ]
     },
     "metadata": {},
     "output_type": "display_data"
    },
    {
     "name": "stdout",
     "output_type": "stream",
     "text": [
      "\n",
      "[info] epoch train loss: -0.20074756503655797\n",
      "Epoch 403\n"
     ]
    },
    {
     "data": {
      "application/vnd.jupyter.widget-view+json": {
       "model_id": "302a4634e826417f8e4ae465b5b76849",
       "version_major": 2,
       "version_minor": 0
      },
      "text/plain": [
       "HBox(children=(IntProgress(value=0, max=140), HTML(value='')))"
      ]
     },
     "metadata": {},
     "output_type": "display_data"
    },
    {
     "name": "stdout",
     "output_type": "stream",
     "text": [
      "\n",
      "[info] epoch train loss: -0.200932781550804\n",
      "Epoch 404\n"
     ]
    },
    {
     "data": {
      "application/vnd.jupyter.widget-view+json": {
       "model_id": "c15e897a27d34896bb7f68164f4b369f",
       "version_major": 2,
       "version_minor": 0
      },
      "text/plain": [
       "HBox(children=(IntProgress(value=0, max=140), HTML(value='')))"
      ]
     },
     "metadata": {},
     "output_type": "display_data"
    },
    {
     "name": "stdout",
     "output_type": "stream",
     "text": [
      "\n",
      "[info] epoch train loss: -0.20082928155225943\n",
      "Epoch 405\n"
     ]
    },
    {
     "data": {
      "application/vnd.jupyter.widget-view+json": {
       "model_id": "22740113edae4abf8354ae01091cef7a",
       "version_major": 2,
       "version_minor": 0
      },
      "text/plain": [
       "HBox(children=(IntProgress(value=0, max=140), HTML(value='')))"
      ]
     },
     "metadata": {},
     "output_type": "display_data"
    },
    {
     "name": "stdout",
     "output_type": "stream",
     "text": [
      "\n",
      "[info] epoch train loss: -0.20092709169403114\n",
      "Epoch 406\n"
     ]
    },
    {
     "data": {
      "application/vnd.jupyter.widget-view+json": {
       "model_id": "022122a5eb734339bc0ef8024f1a9157",
       "version_major": 2,
       "version_minor": 0
      },
      "text/plain": [
       "HBox(children=(IntProgress(value=0, max=140), HTML(value='')))"
      ]
     },
     "metadata": {},
     "output_type": "display_data"
    },
    {
     "name": "stdout",
     "output_type": "stream",
     "text": [
      "\n",
      "[info] epoch train loss: -0.19994344554764812\n",
      "Epoch 407\n"
     ]
    },
    {
     "data": {
      "application/vnd.jupyter.widget-view+json": {
       "model_id": "b53def80386a4120b915e1b41d85b15d",
       "version_major": 2,
       "version_minor": 0
      },
      "text/plain": [
       "HBox(children=(IntProgress(value=0, max=140), HTML(value='')))"
      ]
     },
     "metadata": {},
     "output_type": "display_data"
    },
    {
     "name": "stdout",
     "output_type": "stream",
     "text": [
      "\n",
      "[info] epoch train loss: -0.20138812031401038\n",
      "Epoch 408\n"
     ]
    },
    {
     "data": {
      "application/vnd.jupyter.widget-view+json": {
       "model_id": "7a8eb72e4f194d5da1c7e3bfd49f1f48",
       "version_major": 2,
       "version_minor": 0
      },
      "text/plain": [
       "HBox(children=(IntProgress(value=0, max=140), HTML(value='')))"
      ]
     },
     "metadata": {},
     "output_type": "display_data"
    },
    {
     "name": "stdout",
     "output_type": "stream",
     "text": [
      "lay egg to ./Nest ... save as ./Nest/NewbornBird\n",
      "origin:\n",
      "['[CLS]', 'wembley', 'firm', 'won', 't', 'make', 'a', 'profit', 'shares', 'in', 'multiple', '##x', 'group', 'which', 'is', 'building', 'the', 'new', 'wembley', 'stadium', 'fell', 'as', 'much', 'as', '19', '%', 'after', 'it', 'said', 'it', 'would', 'not', 'make', 'any', 'money', 'on', 'the', 'project', '.', 'the', 'australian', 'firm', 'said', 'it', 'would', 'only', 'break', 'even', 'on', 'the', '1', '.', '2', '##bn', 'australian', 'dollars', '(', '£', '##45', '##8', '##m', ';', '$', '87', '##4', '##m', ')', 'rebuild', 'after', 'a', 'rise', 'in', 'costs', 'on', 'the', 'work', '.', 'any', 'profits', 'would', 'depend', 'on', 'the', 'outcome', 'of', 'legal', 'cases', 'resulting', 'from', 'a', 'change', 'in', 'steel', 'contractor', 'it', 'added', '.', 'it', 'cut', 'a', '$', '68', '##m', 'from', 'profit', 'targets', 'for', 'wembley', 'and', 'another', 'uk', 'project', '.', 'investors', 'were', 'shaken', 'by', 'the', 'news', 'and', 'the', 'firm', 's', 'shares', 'fell', 'to', 'a', 'four', 'month', 'low', 'of', 'a', '$', '4', '.', '50', 'before', 'recovering', 'to', 'close', '16', '%', 'down', 'at', 'a', '$', '4', '.', '67', '.', 'the', 'decline', 'came', 'despite', 'multiple', '##x', 'reporting', 'an', '11', '%', 'rise', 'in', 'pre', '-', 'tax', 'profits', 'to', 'a', '$', '67', '.', '7', '##m', 'for', '2004', 'and', 're', '##af', '##firm', '##ing', 'its', '2005', 'profit', 'forecast', '##s', '.', 'increased', 'costs', 'at', 'wembley', 'and', 'a', 'separate', 'development', 'in', 'london', 's', 'dock', '##lands', 'saw', 'multiple', '##x', 's', 'construction', 'division', 'report', 'profits', 'of', 'a', '$', '35', '.', '1', '##m', '.', 'the', 'firm', 'said', 'the', 'result', 'was', 'below', 'expectations', 'but', 'stressed', 'that', 'the', 'majority', 'of', 'its', 'uk', 'projects', '-', 'which', 'also', 'include', 'the', 'white', 'city', 'redevelopment', 'scheme', 'in', 'west', 'london', '-', 'were', 'performing', 'strongly', '.', 'to', 'rec', '##ou', '##p', 'any', 'profit', 'from', 'wembley', 'where', 'the', 'firm', 'changed', 'its', 'steel', 'contractor', 'due', 'to', 'a', 'legal', 'dispute', 'multiple', '##x', 'will', 'have', 'to', 'win', 'legal', 'claims', 'against', 'sub', '##con', '##tra', '##ctors', '.', 'these', 'claims', 'could', 'take', 'up', 'to', 'two', 'years', 'to', 'resolve', '.', 'multiple', '##x', 'believes', 'its', 'claim', 'are', 'sound', 'and', 'ultimately', 'will', 'exceed', 'the', 'level', 'needed', 'to', 'support', 'the', 'break', 'even', 'position', 'it', 'said', '.', 'it', 'is', 'expected', 'that', 'profits', 'will', 'be', 'possible', 'in', 'future', 'periods', 'as', 'the', 'claims', 'are', 'final', '##ised', '.', 'wembley', 'stadium', 'is', 'to', 'due', 'to', 'be', 'completed', 'in', 'january', 'and', 'will', 'officially', 'open', 'for', 'the', '2006', 'fa', 'cup', 'final', '.', 'analysts', 'expressed', 'concern', 'at', 'the', 'unexpected', 'par', '##ing', 'back', 'in', 'profit', '.', 'such', 'a', 'big', 'write', '##back', 'on', 'the', 'wembley', 'project', 'in', 'such', 'a', 'short', 'period', 'has', 'impacted', 'on', 'management', 'credibility', 'simon', 'wheat', '##ley', 'from', 'goldman', 'sachs', 'told', 'reuters', '.', '[SEP]', '[PAD]', '[PAD]', '[PAD]']\n",
      "summary:\n",
      "['[CLS]', '##kers', '##kers', '##kers', '##kers', '##kers', '##kers', '##kers', '##kers', '##kers', '##kers', '##kers', '##kers', '##kers', '##kers', '##kers', '##kers', '##kers', '##kers', '##kers']\n",
      "real summary:\n",
      "['[CLS]', 'wembley', 'firm', 'won', 't', 'make', 'a', 'profit', 'shares', 'in', 'multiple', '##x', 'group', 'which', 'is', 'building', 'the', 'new', 'wembley']\n",
      "sentiment: 4\n",
      "y: 1\n",
      "\n",
      "\n",
      "[info] epoch train loss: -0.2014489952556144\n",
      "Epoch 409\n"
     ]
    },
    {
     "data": {
      "application/vnd.jupyter.widget-view+json": {
       "model_id": "f7d9c171c6494189b98aa133e48d6aaa",
       "version_major": 2,
       "version_minor": 0
      },
      "text/plain": [
       "HBox(children=(IntProgress(value=0, max=140), HTML(value='')))"
      ]
     },
     "metadata": {},
     "output_type": "display_data"
    },
    {
     "name": "stdout",
     "output_type": "stream",
     "text": [
      "\n",
      "[info] epoch train loss: -0.20332888281967434\n",
      "Epoch 410\n"
     ]
    },
    {
     "data": {
      "application/vnd.jupyter.widget-view+json": {
       "model_id": "8d55ee85397d45d1bc6223d1f84ab728",
       "version_major": 2,
       "version_minor": 0
      },
      "text/plain": [
       "HBox(children=(IntProgress(value=0, max=140), HTML(value='')))"
      ]
     },
     "metadata": {},
     "output_type": "display_data"
    },
    {
     "name": "stdout",
     "output_type": "stream",
     "text": [
      "\n",
      "[info] epoch train loss: -0.204295233423373\n",
      "Epoch 411\n"
     ]
    },
    {
     "data": {
      "application/vnd.jupyter.widget-view+json": {
       "model_id": "b2f9e3febbc3414ba53012104b7b0a3b",
       "version_major": 2,
       "version_minor": 0
      },
      "text/plain": [
       "HBox(children=(IntProgress(value=0, max=140), HTML(value='')))"
      ]
     },
     "metadata": {},
     "output_type": "display_data"
    },
    {
     "name": "stdout",
     "output_type": "stream",
     "text": [
      "\n",
      "[info] epoch train loss: -0.20471665546088097\n",
      "Epoch 412\n"
     ]
    },
    {
     "data": {
      "application/vnd.jupyter.widget-view+json": {
       "model_id": "fe9cc4e8f0dc4e04a812ad281f0efd90",
       "version_major": 2,
       "version_minor": 0
      },
      "text/plain": [
       "HBox(children=(IntProgress(value=0, max=140), HTML(value='')))"
      ]
     },
     "metadata": {},
     "output_type": "display_data"
    },
    {
     "name": "stdout",
     "output_type": "stream",
     "text": [
      "\n",
      "[info] epoch train loss: -0.20452736339306463\n",
      "Epoch 413\n"
     ]
    },
    {
     "data": {
      "application/vnd.jupyter.widget-view+json": {
       "model_id": "444bb6cc29e8433eabfe2a3aa3be5789",
       "version_major": 2,
       "version_minor": 0
      },
      "text/plain": [
       "HBox(children=(IntProgress(value=0, max=140), HTML(value='')))"
      ]
     },
     "metadata": {},
     "output_type": "display_data"
    },
    {
     "name": "stdout",
     "output_type": "stream",
     "text": [
      "\n",
      "[info] epoch train loss: -0.20540258693770913\n",
      "Epoch 414\n"
     ]
    },
    {
     "data": {
      "application/vnd.jupyter.widget-view+json": {
       "model_id": "9a1f71a835544bdeaaa0826f1ceab6d8",
       "version_major": 2,
       "version_minor": 0
      },
      "text/plain": [
       "HBox(children=(IntProgress(value=0, max=140), HTML(value='')))"
      ]
     },
     "metadata": {},
     "output_type": "display_data"
    },
    {
     "name": "stdout",
     "output_type": "stream",
     "text": [
      "\n",
      "[info] epoch train loss: -0.20494378405826086\n",
      "Epoch 415\n"
     ]
    },
    {
     "data": {
      "application/vnd.jupyter.widget-view+json": {
       "model_id": "8d7cbe130be3483e8168efb68df8f2fd",
       "version_major": 2,
       "version_minor": 0
      },
      "text/plain": [
       "HBox(children=(IntProgress(value=0, max=140), HTML(value='')))"
      ]
     },
     "metadata": {},
     "output_type": "display_data"
    },
    {
     "name": "stdout",
     "output_type": "stream",
     "text": [
      "lay egg to ./Nest ... save as ./Nest/NewbornBird\n",
      "origin:\n",
      "['[CLS]', 'wife', 'swap', 'makers', 'sue', 'us', 'copy', '##cat', 'the', 'british', 'producers', 'of', 'us', 'wife', 'swap', 'are', 'taking', 'legal', 'action', 'against', 'a', 'show', 'they', 'claim', 'is', 'a', 'b', '##lat', '##ant', 'and', 'whole', '##sca', '##le', 'copy', '##cat', 'of', 'their', 'programme', '.', 'rd', '##f', 'media', 'which', 'makes', 'the', 'show', 'for', 'us', 'network', 'abc', 'has', 'filed', 'a', 'damages', 'claim', 'for', '$', '18', 'million', '(', '£', '##9', '.', '25', 'million', ')', 'against', 'fox', 's', 'trading', 'spouse', '##s', '.', 'abc', 'bought', 'the', 'rights', 'to', 'the', 'british', 'show', 'which', 'was', 'first', 'aired', 'in', '2003', 'and', 'became', 'a', 'hit', 'on', 'channel', '4', '.', 'the', 'us', 'network', 'is', 'not', 'part', 'of', 'the', 'claim', 'but', 'has', 'supported', 'rd', '##f', 's', 'action', '.', 'we', 'respect', 'our', 'producing', 'partners', 'right', 'to', 'protect', 'their', 'intellectual', 'property', 'in', 'whatever', 'manner', 'they', 'dee', '##m', 'most', 'appropriate', 'said', 'abc', 'in', 'a', 'statement', '.', 'a', 'spokesman', 'for', 'fox', 'said', 'it', 'had', 'not', 'seen', 'the', 'details', 'of', 'the', 'legal', 'action', 'and', 'could', 'not', 'comment', '.', 'their', 'show', 'was', 'first', 'screened', 'in', 'june', 'and', 'was', 'criticised', 'in', 'the', 'press', 'for', 'its', 'similarities', 'to', 'wife', 'swap', '.', 'abc', 'originally', 'planned', 'to', 'call', 'their', 'programme', 'trading', 'mom', '##s', 'but', 'changed', 'it', 'to', 'avoid', 'confusion', 'with', 'the', 'fox', 'version', '.', 'earlier', 'this', 'year', 'the', 'nbc', 'network', 'claimed', 'that', 'fox', 's', 'boxing', 'show', 'the', 'next', 'great', 'champ', 'had', 'been', 'hurriedly', 'produced', 'to', 'ensure', 'its', 'programme', 'was', 'the', 'first', 'to', 'be', 'screened', '.', 'nbc', 'alleged', 'that', 'boxing', 'regulations', 'had', 'been', 'violated', 'but', 'failed', 'in', 'their', 'attempt', 'to', 'have', 'the', 'show', 'pulled', '.', 'the', 'fox', 'show', 'proved', 'a', 'ratings', 'flop', 'while', 'nbc', 's', 'the', 'contender', 'is', 'due', 'to', 'begin', 'in', 'february', '.', '[SEP]', '[PAD]', '[PAD]', '[PAD]', '[PAD]', '[PAD]', '[PAD]', '[PAD]', '[PAD]', '[PAD]', '[PAD]', '[PAD]', '[PAD]', '[PAD]', '[PAD]', '[PAD]', '[PAD]', '[PAD]', '[PAD]', '[PAD]', '[PAD]', '[PAD]', '[PAD]', '[PAD]', '[PAD]', '[PAD]', '[PAD]', '[PAD]', '[PAD]', '[PAD]', '[PAD]', '[PAD]', '[PAD]', '[PAD]', '[PAD]', '[PAD]', '[PAD]', '[PAD]', '[PAD]', '[PAD]', '[PAD]', '[PAD]', '[PAD]', '[PAD]', '[PAD]', '[PAD]', '[PAD]', '[PAD]', '[PAD]', '[PAD]', '[PAD]', '[PAD]', '[PAD]', '[PAD]', '[PAD]', '[PAD]', '[PAD]', '[PAD]', '[PAD]', '[PAD]', '[PAD]', '[PAD]', '[PAD]', '[PAD]', '[PAD]', '[PAD]', '[PAD]', '[PAD]', '[PAD]', '[PAD]', '[PAD]', '[PAD]', '[PAD]', '[PAD]', '[PAD]', '[PAD]', '[PAD]', '[PAD]', '[PAD]', '[PAD]', '[PAD]', '[PAD]', '[PAD]', '[PAD]', '[PAD]', '[PAD]', '[PAD]', '[PAD]', '[PAD]', '[PAD]', '[PAD]', '[PAD]', '[PAD]', '[PAD]', '[PAD]', '[PAD]', '[PAD]', '[PAD]', '[PAD]', '[PAD]', '[PAD]', '[PAD]', '[PAD]', '[PAD]', '[PAD]', '[PAD]', '[PAD]', '[PAD]', '[PAD]', '[PAD]', '[PAD]', '[PAD]', '[PAD]', '[PAD]', '[PAD]', '[PAD]', '[PAD]', '[PAD]', '[PAD]', '[PAD]', '[PAD]', '[PAD]', '[PAD]', '[PAD]', '[PAD]', '[PAD]', '[PAD]', '[PAD]', '[PAD]', '[PAD]', '[PAD]', '[PAD]', '[PAD]']\n",
      "summary:\n",
      "['[CLS]', '##kers', '##kers', '##kers', '##kers', '##kers', '##kers', '##kers', '##kers', '##kers', '##kers', '##kers', '##kers', '##kers', '##kers', '##kers', '##kers', '##kers', '##kers', '##kers']\n",
      "real summary:\n",
      "['[CLS]', 'wife', 'swap', 'makers', 'sue', 'us', 'copy', '##cat', 'the', 'british', 'producers', 'of', 'us', 'wife', 'swap', 'are', 'taking', 'legal', 'action']\n",
      "sentiment: 4\n",
      "y: 3\n",
      "\n",
      "\n",
      "[info] epoch train loss: -0.20385147378970114\n",
      "Epoch 416\n"
     ]
    },
    {
     "data": {
      "application/vnd.jupyter.widget-view+json": {
       "model_id": "b7b576b838c34d96bd800d9db2cdaac3",
       "version_major": 2,
       "version_minor": 0
      },
      "text/plain": [
       "HBox(children=(IntProgress(value=0, max=140), HTML(value='')))"
      ]
     },
     "metadata": {},
     "output_type": "display_data"
    },
    {
     "name": "stdout",
     "output_type": "stream",
     "text": [
      "\n",
      "[info] epoch train loss: -0.20250655004447293\n",
      "Epoch 417\n"
     ]
    },
    {
     "data": {
      "application/vnd.jupyter.widget-view+json": {
       "model_id": "1a14f1ad968b405a8d80a45b9ae2768e",
       "version_major": 2,
       "version_minor": 0
      },
      "text/plain": [
       "HBox(children=(IntProgress(value=0, max=140), HTML(value='')))"
      ]
     },
     "metadata": {},
     "output_type": "display_data"
    },
    {
     "name": "stdout",
     "output_type": "stream",
     "text": [
      "\n",
      "[info] epoch train loss: -0.20296608111326253\n",
      "Epoch 418\n"
     ]
    },
    {
     "data": {
      "application/vnd.jupyter.widget-view+json": {
       "model_id": "7a987e285648415899ae04aceaf7e82c",
       "version_major": 2,
       "version_minor": 0
      },
      "text/plain": [
       "HBox(children=(IntProgress(value=0, max=140), HTML(value='')))"
      ]
     },
     "metadata": {},
     "output_type": "display_data"
    },
    {
     "name": "stdout",
     "output_type": "stream",
     "text": [
      "\n",
      "[info] epoch train loss: -0.20151571317849337\n",
      "Epoch 419\n"
     ]
    },
    {
     "data": {
      "application/vnd.jupyter.widget-view+json": {
       "model_id": "01757deccad4402abd4270d5e3fed2fd",
       "version_major": 2,
       "version_minor": 0
      },
      "text/plain": [
       "HBox(children=(IntProgress(value=0, max=140), HTML(value='')))"
      ]
     },
     "metadata": {},
     "output_type": "display_data"
    },
    {
     "name": "stdout",
     "output_type": "stream",
     "text": [
      "\n",
      "[info] epoch train loss: -0.2000376363063895\n",
      "Epoch 420\n"
     ]
    },
    {
     "data": {
      "application/vnd.jupyter.widget-view+json": {
       "model_id": "7f48d92ab1fd4572aa9bd264be55ba7b",
       "version_major": 2,
       "version_minor": 0
      },
      "text/plain": [
       "HBox(children=(IntProgress(value=0, max=140), HTML(value='')))"
      ]
     },
     "metadata": {},
     "output_type": "display_data"
    },
    {
     "name": "stdout",
     "output_type": "stream",
     "text": [
      "\n",
      "[info] epoch train loss: -0.2001997698483994\n",
      "Epoch 421\n"
     ]
    },
    {
     "data": {
      "application/vnd.jupyter.widget-view+json": {
       "model_id": "bfc821ec87884e0d8a2bd9a60150a748",
       "version_major": 2,
       "version_minor": 0
      },
      "text/plain": [
       "HBox(children=(IntProgress(value=0, max=140), HTML(value='')))"
      ]
     },
     "metadata": {},
     "output_type": "display_data"
    },
    {
     "ename": "RuntimeError",
     "evalue": "CUDA error: device-side assert triggered",
     "output_type": "error",
     "traceback": [
      "\u001b[0;31m---------------------------------------------------------------------------\u001b[0m",
      "\u001b[0;31mRuntimeError\u001b[0m                              Traceback (most recent call last)",
      "\u001b[0;32m<ipython-input-13-7cfff5c8d8ff>\u001b[0m in \u001b[0;36m<module>\u001b[0;34m\u001b[0m\n\u001b[1;32m      9\u001b[0m     \u001b[0mtrange\u001b[0m \u001b[0;34m=\u001b[0m \u001b[0mtqdm\u001b[0m\u001b[0;34m(\u001b[0m\u001b[0menumerate\u001b[0m\u001b[0;34m(\u001b[0m\u001b[0mdata_gen_train\u001b[0m\u001b[0;34m(\u001b[0m\u001b[0;34m)\u001b[0m\u001b[0;34m)\u001b[0m\u001b[0;34m,\u001b[0m \u001b[0mtotal\u001b[0m\u001b[0;34m=\u001b[0m\u001b[0mtotal_train\u001b[0m\u001b[0;34m)\u001b[0m\u001b[0;34m\u001b[0m\u001b[0;34m\u001b[0m\u001b[0m\n\u001b[1;32m     10\u001b[0m     \u001b[0;32mfor\u001b[0m \u001b[0mi\u001b[0m\u001b[0;34m,\u001b[0m \u001b[0mbatch\u001b[0m \u001b[0;32min\u001b[0m \u001b[0mtrange\u001b[0m\u001b[0;34m:\u001b[0m\u001b[0;34m\u001b[0m\u001b[0;34m\u001b[0m\u001b[0m\n\u001b[0;32m---> 11\u001b[0;31m         \u001b[0mloss\u001b[0m\u001b[0;34m,\u001b[0m \u001b[0mscore\u001b[0m  \u001b[0;34m=\u001b[0m \u001b[0mmodel\u001b[0m\u001b[0;34m.\u001b[0m\u001b[0mrun_iter\u001b[0m\u001b[0;34m(\u001b[0m\u001b[0mbatch\u001b[0m\u001b[0;34m.\u001b[0m\u001b[0msrc\u001b[0m\u001b[0;34m,\u001b[0m \u001b[0mbatch\u001b[0m\u001b[0;34m.\u001b[0m\u001b[0msrc_mask\u001b[0m\u001b[0;34m,\u001b[0m \u001b[0mSUMM_MAX\u001b[0m\u001b[0;34m,\u001b[0m \u001b[0mbatch\u001b[0m\u001b[0;34m.\u001b[0m\u001b[0mtrg\u001b[0m\u001b[0;34m,\u001b[0m \u001b[0mbatch\u001b[0m\u001b[0;34m.\u001b[0m\u001b[0mlabel\u001b[0m\u001b[0;34m,\u001b[0m \u001b[0mD_iters\u001b[0m\u001b[0;34m=\u001b[0m\u001b[0;36m1\u001b[0m\u001b[0;34m)\u001b[0m\u001b[0;34m\u001b[0m\u001b[0;34m\u001b[0m\u001b[0m\n\u001b[0m\u001b[1;32m     12\u001b[0m         trange.set_postfix(\n\u001b[1;32m     13\u001b[0m             \u001b[0;34m**\u001b[0m\u001b[0;34m{\u001b[0m\u001b[0;34m'RL_sample_loss'\u001b[0m\u001b[0;34m:\u001b[0m \u001b[0;34m'{:.3f}'\u001b[0m\u001b[0;34m.\u001b[0m\u001b[0mformat\u001b[0m\u001b[0;34m(\u001b[0m\u001b[0mloss\u001b[0m\u001b[0;34m[\u001b[0m\u001b[0;36m0\u001b[0m\u001b[0;34m]\u001b[0m\u001b[0;34m)\u001b[0m\u001b[0;34m}\u001b[0m\u001b[0;34m,\u001b[0m\u001b[0;34m\u001b[0m\u001b[0;34m\u001b[0m\u001b[0m\n",
      "\u001b[0;32m~/Github/Summarization-Lab/BIG-BIRD/transformer_nb2.py\u001b[0m in \u001b[0;36mrun_iter\u001b[0;34m(self, src, src_mask, max_len, real_data, sentiment_label, D_iters, D_toggle, verbose)\u001b[0m\n\u001b[1;32m    931\u001b[0m \u001b[0;34m\u001b[0m\u001b[0m\n\u001b[1;32m    932\u001b[0m         \u001b[0msummary\u001b[0m \u001b[0;34m=\u001b[0m \u001b[0mself\u001b[0m\u001b[0;34m.\u001b[0m\u001b[0mgenerator\u001b[0m\u001b[0;34m(\u001b[0m\u001b[0msrc\u001b[0m\u001b[0;34m,\u001b[0m \u001b[0msrc_mask\u001b[0m\u001b[0;34m,\u001b[0m \u001b[0mmax_len\u001b[0m\u001b[0;34m,\u001b[0m \u001b[0mself\u001b[0m\u001b[0;34m.\u001b[0m\u001b[0mdictionary\u001b[0m\u001b[0;34m[\u001b[0m\u001b[0;34m'[CLS]'\u001b[0m\u001b[0;34m]\u001b[0m\u001b[0;34m)\u001b[0m\u001b[0;34m\u001b[0m\u001b[0;34m\u001b[0m\u001b[0m\n\u001b[0;32m--> 933\u001b[0;31m         \u001b[0msummary_sample\u001b[0m\u001b[0;34m,\u001b[0m \u001b[0msummary_log_values\u001b[0m \u001b[0;34m=\u001b[0m \u001b[0mself\u001b[0m\u001b[0;34m.\u001b[0m\u001b[0mgenerator\u001b[0m\u001b[0;34m(\u001b[0m\u001b[0msrc\u001b[0m\u001b[0;34m,\u001b[0m \u001b[0msrc_mask\u001b[0m\u001b[0;34m,\u001b[0m \u001b[0mmax_len\u001b[0m\u001b[0;34m,\u001b[0m \u001b[0mself\u001b[0m\u001b[0;34m.\u001b[0m\u001b[0mdictionary\u001b[0m\u001b[0;34m[\u001b[0m\u001b[0;34m'[CLS]'\u001b[0m\u001b[0;34m]\u001b[0m\u001b[0;34m,\u001b[0m \u001b[0mmode\u001b[0m \u001b[0;34m=\u001b[0m \u001b[0;34m'sample'\u001b[0m\u001b[0;34m)\u001b[0m\u001b[0;34m\u001b[0m\u001b[0;34m\u001b[0m\u001b[0m\n\u001b[0m\u001b[1;32m    934\u001b[0m \u001b[0;34m\u001b[0m\u001b[0m\n\u001b[1;32m    935\u001b[0m         \u001b[0mbatch_D_loss\u001b[0m \u001b[0;34m=\u001b[0m \u001b[0;36m0\u001b[0m\u001b[0;34m\u001b[0m\u001b[0;34m\u001b[0m\u001b[0m\n",
      "\u001b[0;32m~/anaconda3/envs/py37cuda10/lib/python3.7/site-packages/torch/nn/modules/module.py\u001b[0m in \u001b[0;36m__call__\u001b[0;34m(self, *input, **kwargs)\u001b[0m\n\u001b[1;32m    487\u001b[0m             \u001b[0mresult\u001b[0m \u001b[0;34m=\u001b[0m \u001b[0mself\u001b[0m\u001b[0;34m.\u001b[0m\u001b[0m_slow_forward\u001b[0m\u001b[0;34m(\u001b[0m\u001b[0;34m*\u001b[0m\u001b[0minput\u001b[0m\u001b[0;34m,\u001b[0m \u001b[0;34m**\u001b[0m\u001b[0mkwargs\u001b[0m\u001b[0;34m)\u001b[0m\u001b[0;34m\u001b[0m\u001b[0;34m\u001b[0m\u001b[0m\n\u001b[1;32m    488\u001b[0m         \u001b[0;32melse\u001b[0m\u001b[0;34m:\u001b[0m\u001b[0;34m\u001b[0m\u001b[0;34m\u001b[0m\u001b[0m\n\u001b[0;32m--> 489\u001b[0;31m             \u001b[0mresult\u001b[0m \u001b[0;34m=\u001b[0m \u001b[0mself\u001b[0m\u001b[0;34m.\u001b[0m\u001b[0mforward\u001b[0m\u001b[0;34m(\u001b[0m\u001b[0;34m*\u001b[0m\u001b[0minput\u001b[0m\u001b[0;34m,\u001b[0m \u001b[0;34m**\u001b[0m\u001b[0mkwargs\u001b[0m\u001b[0;34m)\u001b[0m\u001b[0;34m\u001b[0m\u001b[0;34m\u001b[0m\u001b[0m\n\u001b[0m\u001b[1;32m    490\u001b[0m         \u001b[0;32mfor\u001b[0m \u001b[0mhook\u001b[0m \u001b[0;32min\u001b[0m \u001b[0mself\u001b[0m\u001b[0;34m.\u001b[0m\u001b[0m_forward_hooks\u001b[0m\u001b[0;34m.\u001b[0m\u001b[0mvalues\u001b[0m\u001b[0;34m(\u001b[0m\u001b[0;34m)\u001b[0m\u001b[0;34m:\u001b[0m\u001b[0;34m\u001b[0m\u001b[0;34m\u001b[0m\u001b[0m\n\u001b[1;32m    491\u001b[0m             \u001b[0mhook_result\u001b[0m \u001b[0;34m=\u001b[0m \u001b[0mhook\u001b[0m\u001b[0;34m(\u001b[0m\u001b[0mself\u001b[0m\u001b[0;34m,\u001b[0m \u001b[0minput\u001b[0m\u001b[0;34m,\u001b[0m \u001b[0mresult\u001b[0m\u001b[0;34m)\u001b[0m\u001b[0;34m\u001b[0m\u001b[0;34m\u001b[0m\u001b[0m\n",
      "\u001b[0;32m~/Github/Summarization-Lab/BIG-BIRD/transformer_nb2.py\u001b[0m in \u001b[0;36mforward\u001b[0;34m(self, src, src_mask, max_len, start_symbol, mode)\u001b[0m\n\u001b[1;32m   1023\u001b[0m             \u001b[0;31m#mode == 'sample\u001b[0m\u001b[0;34m\u001b[0m\u001b[0;34m\u001b[0m\u001b[0;34m\u001b[0m\u001b[0m\n\u001b[1;32m   1024\u001b[0m             \u001b[0;32mfor\u001b[0m \u001b[0mi\u001b[0m \u001b[0;32min\u001b[0m \u001b[0mrange\u001b[0m\u001b[0;34m(\u001b[0m\u001b[0mmax_len\u001b[0m\u001b[0;34m-\u001b[0m\u001b[0;36m1\u001b[0m\u001b[0;34m)\u001b[0m\u001b[0;34m:\u001b[0m\u001b[0;34m\u001b[0m\u001b[0;34m\u001b[0m\u001b[0m\n\u001b[0;32m-> 1025\u001b[0;31m                 \u001b[0mout\u001b[0m \u001b[0;34m=\u001b[0m \u001b[0mself\u001b[0m\u001b[0;34m.\u001b[0m\u001b[0mdecode\u001b[0m\u001b[0;34m(\u001b[0m\u001b[0mmemory\u001b[0m\u001b[0;34m,\u001b[0m \u001b[0msrc_mask\u001b[0m\u001b[0;34m,\u001b[0m \u001b[0mys\u001b[0m\u001b[0;34m,\u001b[0m \u001b[0msubsequent_mask\u001b[0m\u001b[0;34m(\u001b[0m\u001b[0mys\u001b[0m\u001b[0;34m.\u001b[0m\u001b[0msize\u001b[0m\u001b[0;34m(\u001b[0m\u001b[0;36m1\u001b[0m\u001b[0;34m)\u001b[0m\u001b[0;34m)\u001b[0m\u001b[0;34m.\u001b[0m\u001b[0mtype_as\u001b[0m\u001b[0;34m(\u001b[0m\u001b[0msrc_mask\u001b[0m\u001b[0;34m)\u001b[0m\u001b[0;34m)\u001b[0m\u001b[0;34m\u001b[0m\u001b[0;34m\u001b[0m\u001b[0m\n\u001b[0m\u001b[1;32m   1026\u001b[0m                 \u001b[0mlog_probs\u001b[0m \u001b[0;34m=\u001b[0m \u001b[0mself\u001b[0m\u001b[0;34m.\u001b[0m\u001b[0mgenerator\u001b[0m\u001b[0;34m(\u001b[0m\u001b[0mout\u001b[0m\u001b[0;34m[\u001b[0m\u001b[0;34m:\u001b[0m\u001b[0;34m,\u001b[0m \u001b[0;34m-\u001b[0m\u001b[0;36m1\u001b[0m\u001b[0;34m,\u001b[0m \u001b[0;34m:\u001b[0m\u001b[0;34m]\u001b[0m\u001b[0;34m)\u001b[0m\u001b[0;34m\u001b[0m\u001b[0;34m\u001b[0m\u001b[0m\n\u001b[1;32m   1027\u001b[0m                 \u001b[0mvalues\u001b[0m\u001b[0;34m,\u001b[0m \u001b[0m_\u001b[0m \u001b[0;34m=\u001b[0m \u001b[0mtorch\u001b[0m\u001b[0;34m.\u001b[0m\u001b[0mmax\u001b[0m\u001b[0;34m(\u001b[0m\u001b[0mlog_probs\u001b[0m\u001b[0;34m,\u001b[0m \u001b[0mdim\u001b[0m\u001b[0;34m=\u001b[0m\u001b[0;34m-\u001b[0m\u001b[0;36m1\u001b[0m\u001b[0;34m,\u001b[0m \u001b[0mkeepdim\u001b[0m\u001b[0;34m=\u001b[0m\u001b[0;32mTrue\u001b[0m\u001b[0;34m)\u001b[0m\u001b[0;34m\u001b[0m\u001b[0;34m\u001b[0m\u001b[0m\n",
      "\u001b[0;31mRuntimeError\u001b[0m: CUDA error: device-side assert triggered"
     ]
    }
   ],
   "source": [
    "start = 1 if continue_from == None else (int(continue_from.split(\"Model\")[-1])+1)\n",
    "history = []\n",
    "for epoch in range(start, num_epochs+1):\n",
    "    print(\"Epoch\", epoch)\n",
    "    \n",
    "    # training\n",
    "    stats = Stats()\n",
    "    model.train()\n",
    "    trange = tqdm(enumerate(data_gen_train()), total=total_train)\n",
    "    for i, batch in trange:\n",
    "        loss, score  = model.run_iter(batch.src, batch.src_mask, SUMM_MAX, batch.trg, batch.label, D_iters=1)\n",
    "        trange.set_postfix(\n",
    "            **{'RL_sample_loss': '{:.3f}'.format(loss[0])},\n",
    "            **{'RL_argmax_loss': '{:.3f}'.format(loss[1])},\n",
    "            **{'G_loss': '{:.3f}'.format(loss[2])},\n",
    "            **{'D_loss': '{:.3f}'.format(loss[3])},\n",
    "            **{'real_score': '{:.3f}'.format(score[0])},\n",
    "            **{'fake_score': '{:.3f}'.format(score[1])},\n",
    "            **{'sample_acc': '{:.3f}'.format(score[2])},\n",
    "            **{'argmax_acc': '{:.3f}'.format(score[3])}\n",
    "        )\n",
    "        stats.update(sum(loss), 1, log=0)\n",
    "        \n",
    "    t_h = stats.history\n",
    "    history.append(t_h)\n",
    "    \n",
    "    print(\"[info] epoch train loss:\", np.mean(t_h))\n",
    "    \n",
    "#     try:\n",
    "#         torch.save({'model':model.state_dict(), 'training_history':t_h, 'validation_loss':np.mean(v_h)}, \n",
    "#                    \"trained/Model\"+str(epoch))\n",
    "#     except:\n",
    "#         continue"
   ]
  }
 ],
 "metadata": {
  "kernelspec": {
   "display_name": "Python 3",
   "language": "python",
   "name": "python3"
  },
  "language_info": {
   "codemirror_mode": {
    "name": "ipython",
    "version": 3
   },
   "file_extension": ".py",
   "mimetype": "text/x-python",
   "name": "python",
   "nbconvert_exporter": "python",
   "pygments_lexer": "ipython3",
   "version": "3.7.2"
  }
 },
 "nbformat": 4,
 "nbformat_minor": 2
}
