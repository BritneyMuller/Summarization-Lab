{
 "cells": [
  {
   "cell_type": "markdown",
   "metadata": {},
   "source": [
    "## Preprocessing version 3\n",
    "### Details\n",
    "this version \n",
    "- uses all data\n",
    "- has validation split\n",
    "- uses pretrained embedding"
   ]
  },
  {
   "cell_type": "code",
   "execution_count": 1,
   "metadata": {},
   "outputs": [],
   "source": [
    "doc_name = \"data/train.article.txt\"\n",
    "summ_name = \"data/train.title.txt\"\n",
    "vocab_name = \"vocab.json\"\n",
    "data_seq_name = \"train_seq.json\"\n",
    "valid_seq_name = \"valid_seq.json\"\n",
    "matrixname = \"wv_matrix\"\n",
    "min_count = 7\n",
    "num_threads = 6\n",
    "n_dim = 300\n",
    "corpus_size = 3803957\n",
    "validation_split = 0.01\n",
    "epochs = 0"
   ]
  },
  {
   "cell_type": "code",
   "execution_count": 2,
   "metadata": {},
   "outputs": [],
   "source": [
    "import os\n",
    "import csv\n",
    "import json\n",
    "import numpy as np\n",
    "from nltk import word_tokenize as tokenize\n",
    "from tqdm import tqdm_notebook as tqdm\n",
    "from multiprocessing import Pool\n",
    "from gensim.models.callbacks import CallbackAny2Vec"
   ]
  },
  {
   "cell_type": "code",
   "execution_count": null,
   "metadata": {},
   "outputs": [],
   "source": [
    "def getlines(name):\n",
    "    total = !wc -l {name}\n",
    "    return int(total[0].split()[0])"
   ]
  },
  {
   "cell_type": "code",
   "execution_count": null,
   "metadata": {},
   "outputs": [],
   "source": [
    "summaries = []\n",
    "articles = []\n",
    "\n",
    "# Reader = csv.reader(open(train_name, newline='', encoding='ISO-8859-1'), delimiter=',')\n",
    "with open(doc_name, newline='', encoding='utf-8') as f:\n",
    "    total = getlines(doc_name)\n",
    "    for i,line in tqdm(enumerate(f), total=total):\n",
    "        line = line.strip()\n",
    "        articles.append(line)\n",
    "with open(summ_name, newline='', encoding='utf-8') as f:\n",
    "    total = getlines(summ_name)\n",
    "    for i,line in tqdm(enumerate(f), total=total):\n",
    "        line = line.strip()\n",
    "        summaries.append(line)"
   ]
  },
  {
   "cell_type": "code",
   "execution_count": null,
   "metadata": {},
   "outputs": [],
   "source": [
    "summaries = summaries[:min(corpus_size, len(summaries))]\n",
    "articles = articles[:min(corpus_size, len(summaries))]"
   ]
  },
  {
   "cell_type": "code",
   "execution_count": null,
   "metadata": {},
   "outputs": [],
   "source": [
    "data = []\n",
    "if num_threads > 1:\n",
    "    def task(s):\n",
    "        words = tokenize(s)\n",
    "        return ['<bos>'] + words + ['<eos>']\n",
    "    \n",
    "    with Pool(num_threads) as p:\n",
    "        chunksize = 200\n",
    "        summaries = list(tqdm(p.imap(task, summaries, chunksize=chunksize), total=len(summaries)))\n",
    "        articles = list(tqdm(p.imap(task, articles, chunksize=chunksize), total=len(articles)))\n",
    "    data = summaries+articles\n",
    "else:\n",
    "    for i, summ in tqdm(enumerate(summaries+articles), total=len(summaries+articles)):\n",
    "        words = tokenize(summ)\n",
    "        data.append(['<bos>'] + words + ['<eos>'])"
   ]
  },
  {
   "cell_type": "code",
   "execution_count": null,
   "metadata": {},
   "outputs": [],
   "source": [
    "num_summ = len(summaries)\n",
    "index = 99999\n",
    "print(\"[summary]\", summaries[index])\n",
    "print(\"[documen]\", articles[index])"
   ]
  },
  {
   "cell_type": "code",
   "execution_count": null,
   "metadata": {},
   "outputs": [],
   "source": [
    "from gensim.models import FastText\n",
    "model = FastText(size=n_dim, window=5, min_count=1, workers=num_threads)\n",
    "model.build_vocab(data)\n",
    "# total_examples = model.corpus_count\n",
    "# print(total_examples)\n",
    "# logger = EpochLogger()\n",
    "# model.train(data, total_examples=total_examples, epochs=epochs, callbacks=[logger])"
   ]
  },
  {
   "cell_type": "code",
   "execution_count": null,
   "metadata": {},
   "outputs": [],
   "source": [
    "VOCAB_SZ = len(model.wv.vocab)\n",
    "print(VOCAB_SZ)"
   ]
  },
  {
   "cell_type": "code",
   "execution_count": null,
   "metadata": {},
   "outputs": [],
   "source": [
    "print(model.wv.vocab['isabelle'])"
   ]
  },
  {
   "cell_type": "code",
   "execution_count": null,
   "metadata": {},
   "outputs": [],
   "source": [
    "vocab = {}\n",
    "for w, voc in model.wv.vocab.items():    \n",
    "    if voc.count > min_count:\n",
    "        vocab[w] = len(vocab)\n",
    "print(len(vocab))"
   ]
  },
  {
   "cell_type": "code",
   "execution_count": null,
   "metadata": {},
   "outputs": [],
   "source": [
    "vocab['<unk>'] = len(vocab)\n",
    "vocab['<pad>'] = len(vocab)\n",
    "json.dump(vocab, open(vocab_name, \"w\"))"
   ]
  },
  {
   "cell_type": "code",
   "execution_count": null,
   "metadata": {},
   "outputs": [],
   "source": [
    "seqdata = {'summary':[], 'document':[]}\n",
    "valseqdata = {'summary':[], 'document':[]}\n",
    "# num_summ = len(data) / 2\n",
    "val_set = np.random.randint(0, num_summ, size=int(validation_split*num_summ))\n",
    "for i,words in tqdm(enumerate(summaries), total=num_summ):    \n",
    "    seq = []\n",
    "    for w in words:        \n",
    "        try:\n",
    "            wid = vocab[w]\n",
    "        except KeyError:\n",
    "            wid = vocab[\"<unk>\"]\n",
    "#             wid = OOVindex(w)\n",
    "        seq.append(wid)\n",
    "    if i in val_set:\n",
    "        valseqdata['summary'].append(seq)\n",
    "    else:\n",
    "        seqdata['summary'].append(seq)\n",
    "for i,words in tqdm(enumerate(articles), total=num_summ):\n",
    "    seq = []\n",
    "    for w in words:\n",
    "        try:\n",
    "            wid = vocab[w]\n",
    "        except KeyError:\n",
    "            wid = vocab[\"<unk>\"]\n",
    "#             wid = OOVindex(w)\n",
    "        seq.append(wid)\n",
    "    if i in val_set:\n",
    "        valseqdata['document'].append(seq)\n",
    "    else:\n",
    "        seqdata['document'].append(seq)\n",
    "print(len(seqdata['document']), len(valseqdata['document']))"
   ]
  },
  {
   "cell_type": "code",
   "execution_count": null,
   "metadata": {},
   "outputs": [],
   "source": [
    "json.dump(seqdata, open(data_seq_name, \"w\"))\n",
    "json.dump(valseqdata, open(valid_seq_name, \"w\"))"
   ]
  },
  {
   "cell_type": "code",
   "execution_count": null,
   "metadata": {},
   "outputs": [],
   "source": [
    "lengths = []\n",
    "key = 'document'\n",
    "for doc in seqdata[key]:\n",
    "    lens = len(doc)\n",
    "    lengths.append(lens)"
   ]
  },
  {
   "cell_type": "code",
   "execution_count": null,
   "metadata": {},
   "outputs": [],
   "source": [
    "import matplotlib.pyplot as plt\n",
    "plt.hist(lengths, 50)\n",
    "plt.title(key +' length')\n",
    "plt.show()"
   ]
  },
  {
   "cell_type": "code",
   "execution_count": null,
   "metadata": {},
   "outputs": [],
   "source": [
    "# take a break"
   ]
  },
  {
   "cell_type": "markdown",
   "metadata": {},
   "source": [
    "### Word Embedding"
   ]
  },
  {
   "cell_type": "code",
   "execution_count": 4,
   "metadata": {},
   "outputs": [],
   "source": [
    "import numpy as np\n",
    "import json\n",
    "from gensim.models import FastText\n",
    "pretrained = 'data/cc.en.300.bin'\n",
    "vocab_name = \"preprocessing-300d-all/vocab.json\"\n",
    "pmodel = FastText.load_fasttext_format(pretrained) \n",
    "vocab = json.load(open(vocab_name, \"r\"))"
   ]
  },
  {
   "cell_type": "code",
   "execution_count": 5,
   "metadata": {},
   "outputs": [
    {
     "data": {
      "application/vnd.jupyter.widget-view+json": {
       "model_id": "02014508d98e4d069a4e8d638aae6ee7",
       "version_major": 2,
       "version_minor": 0
      },
      "text/plain": [
       "HBox(children=(IntProgress(value=0, max=98058), HTML(value='')))"
      ]
     },
     "metadata": {},
     "output_type": "display_data"
    },
    {
     "name": "stdout",
     "output_type": "stream",
     "text": [
      "\n",
      "done.\n"
     ]
    }
   ],
   "source": [
    "def l2_normd_np(a):\n",
    "    b = np.linalg.norm(a)\n",
    "    return 0*a if b == 0 else a / b\n",
    "VOCAB_SZ = len(vocab)\n",
    "\n",
    "oovs = []\n",
    "wv_matrix = (np.random.rand(VOCAB_SZ, n_dim) - 0.5) / 5.0\n",
    "for word, wid in tqdm(vocab.items()):    \n",
    "    try:\n",
    "        vec = pmodel.wv[word]\n",
    "    except KeyError:\n",
    "        oovs.append(word)\n",
    "        vec = (np.random.rand(n_dim) - 0.5) / 5.0\n",
    "    wv_matrix[wid] = l2_normd_np(vec)\n",
    "\n",
    "print(\"done.\")\n"
   ]
  },
  {
   "cell_type": "code",
   "execution_count": 6,
   "metadata": {},
   "outputs": [
    {
     "name": "stdout",
     "output_type": "stream",
     "text": [
      "157\n",
      "['\\\\/', 'omv', 'gkn', 'wfp', 'ebrd', 'o.j', 'kfw', 'vsel', 'dpj', 'saez', 'wbf', 'ypf', '\\\\*', 'zew', 'ktg', 'ufj', 'kuok', 'paok', 'kfa', 'f\\\\/a', 'johl', 'md-', 'ctbt', 'usx', 'asml', 'rhj', 'vtb', '-bln', 'khd', 'gfk', 'g.i', 'nbg', 'kdd', 'cnh', 'txu', 'os\\\\/', 'seol', 'k+s', 'j.m', 'fivb', 'p-i', 'ifad', 'cbgb', 'ibsa', 'xwb', 'ldv', 'd.r', 'n.j', 'e.u', '_', 'k.t', 'luol', 'c.k', 'hjk', 'fasb', 'g.e', 'k.c', 'ksb', 'mihm', 'vsb', 'w.h', 'efp', 'f.w', 'vagn', 'fisu', 'j.s', 'wvt', 'mjib', 'ttwb', 'epzs', 'ofws', 'lafd', 'wnbf', 'cplp', 'jvp', 'mko', 'cpifa', 'wtca', 'hkia', 'zoc', 'csic', 'k.l', 'rvf', '``', '`', 'smmt', 'iipf', 'nzc', 'dgb', 'vonk', 'fuad', 'l.k', 'zbc', 'k.r', 'paek', 'agca', 'frmf', 'dgac', 'c.m', 'rthk', 'gatx', 'eqt', 'mv-', \"''\", 'icbl', 'm.r', 'rizk', 'csat', 'tfg', 'spdc', 'vvd', 'ldk', 'qunu', 'zccm', 'ecz', 'kc-', 'zib', 'zta', 'wpk', 'ljr', 'ibge', 'kcb', 'gtz', 'y.d', 'pvv', 'rfef', 'npf', 't.d', '__', 'r-pa', 'ep-', 'y.e', 'i.k', 'c.r', 'zec', 'f.x', 'twtc', 'h.e', 'nhrc', 'gpv', 'pg-', 'r-ky', 'e.b', 'dh-', 'zra', 'tfrc', 'nrz', 'unpf', 'snsc', 'ayc', '-mw', 'upfa', 'cpix', 'amcm', 'mprf', 'aapp', '-kw']\n"
     ]
    }
   ],
   "source": [
    "print(len(oovs))\n",
    "print(oovs)"
   ]
  },
  {
   "cell_type": "code",
   "execution_count": 7,
   "metadata": {},
   "outputs": [],
   "source": [
    "np.save(matrixname, wv_matrix)"
   ]
  },
  {
   "cell_type": "code",
   "execution_count": null,
   "metadata": {},
   "outputs": [],
   "source": []
  }
 ],
 "metadata": {
  "kernelspec": {
   "display_name": "Python 3",
   "language": "python",
   "name": "python3"
  },
  "language_info": {
   "codemirror_mode": {
    "name": "ipython",
    "version": 3
   },
   "file_extension": ".py",
   "mimetype": "text/x-python",
   "name": "python",
   "nbconvert_exporter": "python",
   "pygments_lexer": "ipython3",
   "version": "3.7.1"
  }
 },
 "nbformat": 4,
 "nbformat_minor": 2
}
