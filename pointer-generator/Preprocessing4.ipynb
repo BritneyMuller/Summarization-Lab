{
 "cells": [
  {
   "cell_type": "markdown",
   "metadata": {},
   "source": [
    "## Preprocessing version 4\n",
    "### Details\n",
    "this version \n",
    "- CNN/DM\n",
    "- uses all data\n",
    "- has validation split\n",
    "- uses pretrained embedding"
   ]
  },
  {
   "cell_type": "code",
   "execution_count": 1,
   "metadata": {},
   "outputs": [],
   "source": [
    "doc_name = \"data2/train.txt.src\"\n",
    "summ_name = \"data2/train.txt.tgt.tagged\"\n",
    "vocab_name = \"vocab.json\"\n",
    "data_seq_name = \"train_seq.json\"\n",
    "valid_seq_name = \"valid_seq.json\"\n",
    "# min_count = 7\n",
    "vocab_size = 90000\n",
    "num_threads = 4\n",
    "# n_dim = 300\n",
    "corpus_size = 287227\n",
    "validation_split = 0.01\n",
    "epochs = 0"
   ]
  },
  {
   "cell_type": "code",
   "execution_count": 2,
   "metadata": {},
   "outputs": [],
   "source": [
    "import os\n",
    "import csv\n",
    "import json\n",
    "import numpy as np\n",
    "from nltk import word_tokenize as tokenize\n",
    "from tqdm import tqdm_notebook as tqdm\n",
    "from multiprocessing import Pool\n",
    "from gensim.models.callbacks import CallbackAny2Vec"
   ]
  },
  {
   "cell_type": "code",
   "execution_count": 3,
   "metadata": {},
   "outputs": [],
   "source": [
    "def getlines(name):\n",
    "    total = !wc -l {name}\n",
    "    return int(total[0].split()[0])"
   ]
  },
  {
   "cell_type": "code",
   "execution_count": null,
   "metadata": {},
   "outputs": [
    {
     "data": {
      "application/vnd.jupyter.widget-view+json": {
       "model_id": "c839d36f19834149a549287804b2a9e4",
       "version_major": 2,
       "version_minor": 0
      },
      "text/plain": [
       "HBox(children=(IntProgress(value=0, max=287227), HTML(value='')))"
      ]
     },
     "metadata": {},
     "output_type": "display_data"
    },
    {
     "name": "stdout",
     "output_type": "stream",
     "text": [
      "\n"
     ]
    },
    {
     "data": {
      "application/vnd.jupyter.widget-view+json": {
       "model_id": "c18498ddcde140a395ef44af6b9dceb9",
       "version_major": 2,
       "version_minor": 0
      },
      "text/plain": [
       "HBox(children=(IntProgress(value=0, max=287227), HTML(value='')))"
      ]
     },
     "metadata": {},
     "output_type": "display_data"
    },
    {
     "name": "stdout",
     "output_type": "stream",
     "text": [
      "\n"
     ]
    }
   ],
   "source": [
    "summaries = []\n",
    "articles = []\n",
    "with open(doc_name, newline='', encoding='utf-8') as f:\n",
    "    total = getlines(doc_name)\n",
    "    for i,line in tqdm(enumerate(f), total=total):        \n",
    "        line = line.strip()\n",
    "        articles.append(line)        \n",
    "with open(summ_name, newline='', encoding='utf-8') as f:\n",
    "    total = getlines(summ_name)\n",
    "    for i,line in tqdm(enumerate(f), total=total):        \n",
    "        line = line.strip()\n",
    "        line = line.replace(\"<t>\", \"\").replace(\"</t>\", \"\")\n",
    "        summaries.append(line)"
   ]
  },
  {
   "cell_type": "code",
   "execution_count": null,
   "metadata": {},
   "outputs": [],
   "source": [
    "summaries = summaries[:min(corpus_size, len(summaries))]\n",
    "articles = articles[:min(corpus_size, len(summaries))]"
   ]
  },
  {
   "cell_type": "code",
   "execution_count": null,
   "metadata": {},
   "outputs": [
    {
     "data": {
      "application/vnd.jupyter.widget-view+json": {
       "model_id": "bdff2f220ed34c3b97d704a36e72dd61",
       "version_major": 2,
       "version_minor": 0
      },
      "text/plain": [
       "HBox(children=(IntProgress(value=0, max=250000), HTML(value='')))"
      ]
     },
     "metadata": {},
     "output_type": "display_data"
    },
    {
     "name": "stdout",
     "output_type": "stream",
     "text": [
      "\n"
     ]
    },
    {
     "data": {
      "application/vnd.jupyter.widget-view+json": {
       "model_id": "b0cfd0317660425e911fd5c8dbdc590c",
       "version_major": 2,
       "version_minor": 0
      },
      "text/plain": [
       "HBox(children=(IntProgress(value=0, max=250000), HTML(value='')))"
      ]
     },
     "metadata": {},
     "output_type": "display_data"
    }
   ],
   "source": [
    "def task(s):\n",
    "    words = tokenize(s)\n",
    "    return ['<bos>'] + words + ['<eos>']\n",
    "\n",
    "with Pool(num_threads) as p:\n",
    "    chunksize = 200\n",
    "    summaries = list(tqdm(p.imap(task, summaries, chunksize=chunksize), total=len(summaries)))\n",
    "    chunksize = 50\n",
    "    articles = list(tqdm(p.imap(task, articles, chunksize=chunksize), total=len(articles)))"
   ]
  },
  {
   "cell_type": "code",
   "execution_count": null,
   "metadata": {
    "scrolled": true
   },
   "outputs": [],
   "source": [
    "num_summ = len(summaries)\n",
    "index = 99999\n",
    "print(\"[summary]\", summaries[index])\n",
    "print(\"[documen]\", articles[index])"
   ]
  },
  {
   "cell_type": "code",
   "execution_count": null,
   "metadata": {},
   "outputs": [],
   "source": [
    "from gensim.models import FastText\n",
    "model = FastText(size=n_dim, window=5, min_count=1, workers=num_threads)\n",
    "model.build_vocab(summaries+articles)\n",
    "# total_examples = model.corpus_count\n",
    "# print(total_examples)\n",
    "# logger = EpochLogger()\n",
    "# model.train(data, total_examples=total_examples, epochs=epochs, callbacks=[logger])"
   ]
  },
  {
   "cell_type": "code",
   "execution_count": null,
   "metadata": {},
   "outputs": [],
   "source": [
    "VOCAB_SZ = len(model.wv.vocab)\n",
    "print(VOCAB_SZ)"
   ]
  },
  {
   "cell_type": "code",
   "execution_count": null,
   "metadata": {},
   "outputs": [],
   "source": [
    "print(model.wv.vocab['isabelle'])"
   ]
  },
  {
   "cell_type": "code",
   "execution_count": null,
   "metadata": {},
   "outputs": [],
   "source": [
    "top_vocab = sorted(model.wv.vocab.items(), key=lambda a: -a[1].count)[:(vocab_size-2)]\n",
    "vocab = {w:i for i, (w,voc) in enumerate(top_vocab)}\n",
    "vocab['<unk>'] = len(vocab)\n",
    "vocab['<pad>'] = len(vocab)\n",
    "print(len(vocab))"
   ]
  },
  {
   "cell_type": "code",
   "execution_count": null,
   "metadata": {},
   "outputs": [],
   "source": [
    "json.dump(vocab, open(vocab_name, \"w\"))"
   ]
  },
  {
   "cell_type": "code",
   "execution_count": null,
   "metadata": {},
   "outputs": [],
   "source": [
    "seqdata = {'summary':[], 'document':[]}\n",
    "valseqdata = {'summary':[], 'document':[]}\n",
    "# num_summ = len(data) / 2\n",
    "val_set = np.random.randint(0, num_summ, size=int(validation_split*num_summ))\n",
    "for i,words in tqdm(enumerate(summaries), total=num_summ):    \n",
    "    seq = []\n",
    "    for w in words:        \n",
    "        try:\n",
    "            wid = vocab[w]\n",
    "        except KeyError:\n",
    "            wid = vocab[\"<unk>\"]\n",
    "#             wid = OOVindex(w)\n",
    "        seq.append(wid)\n",
    "    if i in val_set:\n",
    "        valseqdata['summary'].append(seq)\n",
    "    else:\n",
    "        seqdata['summary'].append(seq)\n",
    "for i,words in tqdm(enumerate(articles), total=num_summ):\n",
    "    seq = []\n",
    "    for w in words:\n",
    "        try:\n",
    "            wid = vocab[w]\n",
    "        except KeyError:\n",
    "            wid = vocab[\"<unk>\"]\n",
    "#             wid = OOVindex(w)\n",
    "        seq.append(wid)\n",
    "    if i in val_set:\n",
    "        valseqdata['document'].append(seq)\n",
    "    else:\n",
    "        seqdata['document'].append(seq)\n",
    "print(len(seqdata['document']), len(valseqdata['document']))"
   ]
  },
  {
   "cell_type": "code",
   "execution_count": null,
   "metadata": {},
   "outputs": [],
   "source": [
    "json.dump(seqdata, open(data_seq_name, \"w\"))\n",
    "json.dump(valseqdata, open(valid_seq_name, \"w\"))"
   ]
  },
  {
   "cell_type": "code",
   "execution_count": null,
   "metadata": {},
   "outputs": [],
   "source": [
    "lengths = []\n",
    "key = 'summary'\n",
    "for doc in seqdata[key]:\n",
    "    lens = len(doc)\n",
    "    lengths.append(lens)"
   ]
  },
  {
   "cell_type": "code",
   "execution_count": null,
   "metadata": {},
   "outputs": [],
   "source": [
    "import matplotlib.pyplot as plt\n",
    "plt.hist(lengths, 50)\n",
    "plt.title(key +' length')\n",
    "plt.show()"
   ]
  },
  {
   "cell_type": "code",
   "execution_count": null,
   "metadata": {},
   "outputs": [],
   "source": [
    "take a break\n",
    "# 2000 -> 100"
   ]
  },
  {
   "cell_type": "markdown",
   "metadata": {},
   "source": [
    "### Word Embedding"
   ]
  },
  {
   "cell_type": "code",
   "execution_count": null,
   "metadata": {},
   "outputs": [],
   "source": [
    "import numpy as np\n",
    "import json\n",
    "from gensim.models import FastText\n",
    "from tqdm import tqdm_notebook as tqdm\n",
    "pretrained = 'data2/cc.en.300.bin'\n",
    "vocab_name = \"preprocessing-cnn/vocab.json\"\n",
    "matrixname = \"wv_matrix\"\n",
    "pmodel = FastText.load_fasttext_format(pretrained) \n",
    "vocab = json.load(open(vocab_name, \"r\"))\n",
    "n_dim = 300"
   ]
  },
  {
   "cell_type": "code",
   "execution_count": null,
   "metadata": {},
   "outputs": [],
   "source": [
    "def l2_normd_np(a):\n",
    "    b = np.linalg.norm(a)\n",
    "    return 0*a if b == 0 else a / b\n",
    "VOCAB_SZ = len(vocab)\n",
    "\n",
    "oovs = []\n",
    "wv_matrix = (np.random.rand(VOCAB_SZ, n_dim) - 0.5) / 5.0\n",
    "for word, wid in tqdm(vocab.items()):    \n",
    "    try:\n",
    "        vec = pmodel.wv[word]\n",
    "    except KeyError:\n",
    "        oovs.append(word)\n",
    "        vec = (np.random.rand(n_dim) - 0.5) / 5.0\n",
    "    wv_matrix[wid] = l2_normd_np(vec)\n",
    "\n",
    "print(len(wv_matrix))\n",
    "print(\"done.\")"
   ]
  },
  {
   "cell_type": "code",
   "execution_count": null,
   "metadata": {},
   "outputs": [],
   "source": [
    "print(len(oovs))\n",
    "print(oovs)"
   ]
  },
  {
   "cell_type": "code",
   "execution_count": null,
   "metadata": {},
   "outputs": [],
   "source": [
    "np.save(matrixname, wv_matrix)"
   ]
  },
  {
   "cell_type": "code",
   "execution_count": null,
   "metadata": {},
   "outputs": [],
   "source": []
  }
 ],
 "metadata": {
  "kernelspec": {
   "display_name": "Python 3",
   "language": "python",
   "name": "python3"
  },
  "language_info": {
   "codemirror_mode": {
    "name": "ipython",
    "version": 3
   },
   "file_extension": ".py",
   "mimetype": "text/x-python",
   "name": "python",
   "nbconvert_exporter": "python",
   "pygments_lexer": "ipython3",
   "version": "3.7.1"
  }
 },
 "nbformat": 4,
 "nbformat_minor": 2
}
