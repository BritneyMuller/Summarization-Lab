{
 "cells": [
  {
   "cell_type": "markdown",
   "metadata": {},
   "source": [
    "## Preprocessing version 5\n",
    "### Details\n",
    "this version \n",
    "- uses all data\n",
    "- has validation split\n",
    "- uses bert tokenizer\n",
    "- does not train embedding"
   ]
  },
  {
   "cell_type": "code",
   "execution_count": 1,
   "metadata": {},
   "outputs": [],
   "source": [
    "doc_name = \"../pointer-generator/data/train.article.txt\"\n",
    "summ_name = \"../pointer-generator/data/train.title.txt\"\n",
    "out_dir = \"data-giga-light/\"\n",
    "vocab_name = out_dir+\"vocab.json\"\n",
    "data_seq_name = out_dir+\"train_seq.json\"\n",
    "valid_seq_name = out_dir+\"valid_seq.json\"\n",
    "task_name = \"giga\"\n",
    "num_threads = 2\n",
    "corpus_size = 88888888\n",
    "validation_split = 0.002"
   ]
  },
  {
   "cell_type": "code",
   "execution_count": 2,
   "metadata": {},
   "outputs": [],
   "source": [
    "import os\n",
    "import csv\n",
    "import json\n",
    "import numpy as np\n",
    "from pytorch_pretrained_bert.tokenization import BertTokenizer\n",
    "from tqdm import tqdm_notebook as tqdm\n",
    "from multiprocessing import Pool"
   ]
  },
  {
   "cell_type": "code",
   "execution_count": 3,
   "metadata": {},
   "outputs": [],
   "source": [
    "# !pip install --user pytorch_pretrained_bert\n",
    "# !pip install --user gensim\n",
    "!mkdir -p {out_dir}"
   ]
  },
  {
   "cell_type": "code",
   "execution_count": 4,
   "metadata": {},
   "outputs": [],
   "source": [
    "tokenizer = BertTokenizer.from_pretrained('bert-base-uncased', do_lower_case=True)\n",
    "# \"[UNK]\", \"[SEP]\", \"[PAD]\", \"[CLS]\", \"[MASK]\"\n",
    "UNK = \"[UNK]\"\n",
    "BOS = \"[CLS]\"\n",
    "EOS = \"[SEP]\"\n",
    "PAD = \"[PAD]\""
   ]
  },
  {
   "cell_type": "code",
   "execution_count": 5,
   "metadata": {},
   "outputs": [],
   "source": [
    "json.dump(tokenizer.vocab, open(vocab_name, \"w\"))"
   ]
  },
  {
   "cell_type": "code",
   "execution_count": 6,
   "metadata": {},
   "outputs": [],
   "source": [
    "if task_name == 'giga':\n",
    "    token_mappings = {'UNK':UNK, '-lrb-':'(', '-rrb-':')'}\n",
    "else:\n",
    "    token_mappings = {'<unk>':UNK, '<t>':'', '</t>':''}"
   ]
  },
  {
   "cell_type": "code",
   "execution_count": 7,
   "metadata": {},
   "outputs": [],
   "source": [
    "def getlines(name):\n",
    "    total = !wc -l {name}\n",
    "    return int(total[0].split()[0])"
   ]
  },
  {
   "cell_type": "code",
   "execution_count": 8,
   "metadata": {},
   "outputs": [
    {
     "data": {
      "application/vnd.jupyter.widget-view+json": {
       "model_id": "f06a700e674b4620955c8d1f39a6d8d6",
       "version_major": 2,
       "version_minor": 0
      },
      "text/plain": [
       "HBox(children=(IntProgress(value=0, max=3803957), HTML(value='')))"
      ]
     },
     "metadata": {},
     "output_type": "display_data"
    },
    {
     "name": "stdout",
     "output_type": "stream",
     "text": [
      "\n"
     ]
    },
    {
     "data": {
      "application/vnd.jupyter.widget-view+json": {
       "model_id": "fe5cd48e31584d198d2a5435c5b54892",
       "version_major": 2,
       "version_minor": 0
      },
      "text/plain": [
       "HBox(children=(IntProgress(value=0, max=3803957), HTML(value='')))"
      ]
     },
     "metadata": {},
     "output_type": "display_data"
    },
    {
     "name": "stdout",
     "output_type": "stream",
     "text": [
      "\n"
     ]
    }
   ],
   "source": [
    "summaries = []\n",
    "articles = []\n",
    "\n",
    "with open(doc_name, newline='', encoding='utf-8') as f:\n",
    "    total = getlines(doc_name)\n",
    "    for i,line in tqdm(enumerate(f), total=total):\n",
    "        line = line.strip()\n",
    "        articles.append(line)\n",
    "with open(summ_name, newline='', encoding='utf-8') as f:\n",
    "    total = getlines(summ_name)\n",
    "    for i,line in tqdm(enumerate(f), total=total):\n",
    "        line = line.strip()\n",
    "        summaries.append(line)"
   ]
  },
  {
   "cell_type": "code",
   "execution_count": 9,
   "metadata": {},
   "outputs": [],
   "source": [
    "summaries = summaries[:min(corpus_size, len(summaries))]\n",
    "articles = articles[:min(corpus_size, len(summaries))]"
   ]
  },
  {
   "cell_type": "code",
   "execution_count": 10,
   "metadata": {},
   "outputs": [],
   "source": [
    "def task(s):\n",
    "    for t, t_p in token_mappings.items():\n",
    "        s = s.replace(t, t_p)\n",
    "    ts = [BOS] + tokenizer.tokenize(s) + [EOS]\n",
    "    idxs = tokenizer.convert_tokens_to_ids(ts)\n",
    "    return idxs"
   ]
  },
  {
   "cell_type": "code",
   "execution_count": 11,
   "metadata": {},
   "outputs": [
    {
     "data": {
      "application/vnd.jupyter.widget-view+json": {
       "model_id": "f48e9268499d4d6081fb37b88a7a213a",
       "version_major": 2,
       "version_minor": 0
      },
      "text/plain": [
       "HBox(children=(IntProgress(value=0, max=3803957), HTML(value='')))"
      ]
     },
     "metadata": {},
     "output_type": "display_data"
    },
    {
     "name": "stdout",
     "output_type": "stream",
     "text": [
      "\n"
     ]
    },
    {
     "data": {
      "application/vnd.jupyter.widget-view+json": {
       "model_id": "01ddb155993044148e6eadffc9decb65",
       "version_major": 2,
       "version_minor": 0
      },
      "text/plain": [
       "HBox(children=(IntProgress(value=0, max=3803957), HTML(value='')))"
      ]
     },
     "metadata": {},
     "output_type": "display_data"
    },
    {
     "name": "stdout",
     "output_type": "stream",
     "text": [
      "\n"
     ]
    }
   ],
   "source": [
    "num_summ = len(summaries)\n",
    "if num_threads == 1:\n",
    "    summ_seqs = [task(s) for s in tqdm(summaries)]\n",
    "    docu_seqs = [task(s) for s in tqdm(articles)]\n",
    "else:\n",
    "    with Pool(num_threads) as p:\n",
    "        chunksize = 200\n",
    "        summ_seqs = list(tqdm(p.imap(task, summaries, chunksize=chunksize), total=num_summ))\n",
    "        docu_seqs = list(tqdm(p.imap(task, articles, chunksize=chunksize), total=num_summ))"
   ]
  },
  {
   "cell_type": "code",
   "execution_count": 12,
   "metadata": {},
   "outputs": [],
   "source": [
    "seqdata = {'summary':[], 'document':[]}\n",
    "valseqdata = {'summary':[], 'document':[]}"
   ]
  },
  {
   "cell_type": "code",
   "execution_count": 13,
   "metadata": {},
   "outputs": [],
   "source": [
    "val_set = np.random.randint(0, num_summ, size=int(validation_split*num_summ))\n",
    "for i in range(num_summ):\n",
    "    if i in val_set:\n",
    "        valseqdata['summary'].append(summ_seqs[i])\n",
    "        valseqdata['document'].append(docu_seqs[i])\n",
    "    else:\n",
    "        seqdata['summary'].append(summ_seqs[i])\n",
    "        seqdata['document'].append(docu_seqs[i])"
   ]
  },
  {
   "cell_type": "code",
   "execution_count": 14,
   "metadata": {},
   "outputs": [],
   "source": [
    "json.dump(seqdata, open(data_seq_name, \"w\"))\n",
    "json.dump(valseqdata, open(valid_seq_name, \"w\"))"
   ]
  },
  {
   "cell_type": "code",
   "execution_count": 15,
   "metadata": {},
   "outputs": [],
   "source": [
    "lengths = []\n",
    "key = 'document'\n",
    "for doc in seqdata[key]:\n",
    "    lens = len(doc)\n",
    "    lengths.append(lens)"
   ]
  },
  {
   "cell_type": "code",
   "execution_count": 16,
   "metadata": {},
   "outputs": [
    {
     "data": {
      "text/plain": [
       "<Figure size 640x480 with 1 Axes>"
      ]
     },
     "metadata": {},
     "output_type": "display_data"
    }
   ],
   "source": [
    "import matplotlib.pyplot as plt\n",
    "plt.hist(lengths, 50)\n",
    "plt.title(key +' length')\n",
    "plt.show()"
   ]
  },
  {
   "cell_type": "code",
   "execution_count": null,
   "metadata": {},
   "outputs": [],
   "source": []
  }
 ],
 "metadata": {
  "kernelspec": {
   "display_name": "Python 3",
   "language": "python",
   "name": "python3"
  },
  "language_info": {
   "codemirror_mode": {
    "name": "ipython",
    "version": 3
   },
   "file_extension": ".py",
   "mimetype": "text/x-python",
   "name": "python",
   "nbconvert_exporter": "python",
   "pygments_lexer": "ipython3",
   "version": "3.7.1"
  }
 },
 "nbformat": 4,
 "nbformat_minor": 2
}
