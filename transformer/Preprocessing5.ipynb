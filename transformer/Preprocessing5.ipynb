{
 "cells": [
  {
   "cell_type": "markdown",
   "metadata": {},
   "source": [
    "## Preprocessing version 5\n",
    "### Details\n",
    "this version \n",
    "- uses all data\n",
    "- has validation split\n",
    "- uses bert tokenizer\n",
    "- does not train embedding"
   ]
  },
  {
   "cell_type": "code",
   "execution_count": 18,
   "metadata": {},
   "outputs": [],
   "source": [
    "doc_name = \"/tmp2/b05902064/train.article.txt\"\n",
    "summ_name = \"/tmp2/b05902064/train.title.txt\"\n",
    "out_dir = \"/tmp2/b05902064/\"\n",
    "vocab_name = out_dir+\"vocab.json\"\n",
    "data_seq_name = out_dir+\"train_seq.json\"\n",
    "valid_seq_name = out_dir+\"valid_seq.json\"\n",
    "min_count = 7\n",
    "num_threads = 8\n",
    "corpus_size = 3803957\n",
    "validation_split = 0.01"
   ]
  },
  {
   "cell_type": "code",
   "execution_count": 2,
   "metadata": {},
   "outputs": [],
   "source": [
    "import os\n",
    "import csv\n",
    "import json\n",
    "import numpy as np\n",
    "# from nltk import word_tokenize as tokenize\n",
    "from pytorch_pretrained_bert.tokenization import BertTokenizer\n",
    "from tqdm import tqdm_notebook as tqdm\n",
    "from multiprocessing import Pool\n",
    "from gensim.models.callbacks import CallbackAny2Vec"
   ]
  },
  {
   "cell_type": "code",
   "execution_count": 3,
   "metadata": {},
   "outputs": [],
   "source": [
    "# !pip install --user pytorch_pretrained_bert\n",
    "# !pip install --user gensim"
   ]
  },
  {
   "cell_type": "code",
   "execution_count": 4,
   "metadata": {},
   "outputs": [],
   "source": [
    "tokenizer = BertTokenizer.from_pretrained('bert-base-uncased', do_lower_case=True)\n",
    "# \"[UNK]\", \"[SEP]\", \"[PAD]\", \"[CLS]\", \"[MASK]\"\n",
    "UNK = \"[UNK]\"\n",
    "BOS = \"[CLS]\"\n",
    "EOS = \"[SEP]\"\n",
    "PAD = \"[PAD]\""
   ]
  },
  {
   "cell_type": "code",
   "execution_count": 5,
   "metadata": {},
   "outputs": [],
   "source": [
    "def getlines(name):\n",
    "    total = !wc -l {name}\n",
    "    return int(total[0].split()[0])"
   ]
  },
  {
   "cell_type": "code",
   "execution_count": 6,
   "metadata": {},
   "outputs": [
    {
     "data": {
      "application/vnd.jupyter.widget-view+json": {
       "model_id": "d188f4c6a2d44e4899600660237022e5",
       "version_major": 2,
       "version_minor": 0
      },
      "text/plain": [
       "HBox(children=(IntProgress(value=0, max=3803957), HTML(value='')))"
      ]
     },
     "metadata": {},
     "output_type": "display_data"
    },
    {
     "name": "stdout",
     "output_type": "stream",
     "text": [
      "\n"
     ]
    },
    {
     "data": {
      "application/vnd.jupyter.widget-view+json": {
       "model_id": "91493570024348ceb5d97b0118f5012a",
       "version_major": 2,
       "version_minor": 0
      },
      "text/plain": [
       "HBox(children=(IntProgress(value=0, max=3803957), HTML(value='')))"
      ]
     },
     "metadata": {},
     "output_type": "display_data"
    },
    {
     "name": "stdout",
     "output_type": "stream",
     "text": [
      "\n"
     ]
    }
   ],
   "source": [
    "summaries = []\n",
    "articles = []\n",
    "\n",
    "# Reader = csv.reader(open(train_name, newline='', encoding='ISO-8859-1'), delimiter=',')\n",
    "with open(doc_name, newline='', encoding='utf-8') as f:\n",
    "    total = getlines(doc_name)\n",
    "    for i,line in tqdm(enumerate(f), total=total):\n",
    "        line = line.strip()\n",
    "        line = line.replace('<unk>', UNK)\n",
    "        articles.append(line)\n",
    "with open(summ_name, newline='', encoding='utf-8') as f:\n",
    "    total = getlines(summ_name)\n",
    "    for i,line in tqdm(enumerate(f), total=total):\n",
    "        line = line.strip()\n",
    "        line = line.replace('<unk>', UNK)\n",
    "        summaries.append(line)"
   ]
  },
  {
   "cell_type": "code",
   "execution_count": 7,
   "metadata": {},
   "outputs": [],
   "source": [
    "summaries = summaries[:min(corpus_size, len(summaries))]\n",
    "articles = articles[:min(corpus_size, len(summaries))]"
   ]
  },
  {
   "cell_type": "code",
   "execution_count": 8,
   "metadata": {},
   "outputs": [
    {
     "data": {
      "application/vnd.jupyter.widget-view+json": {
       "model_id": "8627b7523667459bb3643303d99e9c0d",
       "version_major": 2,
       "version_minor": 0
      },
      "text/plain": [
       "HBox(children=(IntProgress(value=0, max=3803957), HTML(value='')))"
      ]
     },
     "metadata": {},
     "output_type": "display_data"
    },
    {
     "name": "stdout",
     "output_type": "stream",
     "text": [
      "\n"
     ]
    },
    {
     "data": {
      "application/vnd.jupyter.widget-view+json": {
       "model_id": "1f1e55c034ec48e39f5c63f11a6b541e",
       "version_major": 2,
       "version_minor": 0
      },
      "text/plain": [
       "HBox(children=(IntProgress(value=0, max=3803957), HTML(value='')))"
      ]
     },
     "metadata": {},
     "output_type": "display_data"
    },
    {
     "name": "stdout",
     "output_type": "stream",
     "text": [
      "\n"
     ]
    }
   ],
   "source": [
    "data = []\n",
    "if num_threads > 1:\n",
    "    def task(s):\n",
    "        return [BOS] + tokenizer.tokenize(s) + [EOS]\n",
    "    \n",
    "    with Pool(num_threads) as p:\n",
    "        chunksize = 200\n",
    "        summaries = list(tqdm(p.imap(task, summaries, chunksize=chunksize), total=len(summaries)))\n",
    "        articles = list(tqdm(p.imap(task, articles, chunksize=chunksize), total=len(articles)))\n",
    "    data = summaries+articles\n",
    "else:\n",
    "    for i, summ in tqdm(enumerate(summaries+articles), total=len(summaries+articles)):\n",
    "        words = tokenize(summ)\n",
    "        data.append(['<bos>'] + words + ['<eos>'])"
   ]
  },
  {
   "cell_type": "code",
   "execution_count": 9,
   "metadata": {},
   "outputs": [
    {
     "name": "stdout",
     "output_type": "stream",
     "text": [
      "[summary] ['[CLS]', 'mother', 'teresa', 'in', 'fine', '[UNK]', 'says', 'doctor', '[SEP]']\n",
      "[documen] ['[CLS]', 'mother', 'teresa', \"'\", 's', 'condition', 'had', 'greatly', 'improved', 'a', 'day', 'after', 'she', 'was', 'admitted', 'to', 'hospital', 'following', 'heart', 'failure', ',', 'a', 'doctor', 'attending', 'her', 'told', 'af', '##p', 'saturday', '.', '[SEP]']\n"
     ]
    }
   ],
   "source": [
    "num_summ = len(summaries)\n",
    "index = 99999\n",
    "print(\"[summary]\", summaries[index])\n",
    "print(\"[documen]\", articles[index])"
   ]
  },
  {
   "cell_type": "code",
   "execution_count": 13,
   "metadata": {},
   "outputs": [
    {
     "name": "stdout",
     "output_type": "stream",
     "text": [
      "30522\n",
      "<class 'collections.OrderedDict'>\n"
     ]
    }
   ],
   "source": [
    "print(len(tokenizer.vocab))\n",
    "print(type(tokenizer.vocab))"
   ]
  },
  {
   "cell_type": "code",
   "execution_count": 11,
   "metadata": {},
   "outputs": [
    {
     "name": "stdout",
     "output_type": "stream",
     "text": [
      "['[CLS]', 'i', 'thought', 'u', 'would', 'not', 'split', 'this', '.', '[SEP]']\n",
      "[101, 1045, 2245, 1057, 2052, 2025, 3975, 2023, 1012, 102]\n"
     ]
    }
   ],
   "source": [
    "# print(tokenizer.basic_tokenizer.never_split)\n",
    "tokens = tokenizer.tokenize(BOS+\" I thought U would not split this. \"+EOS)\n",
    "idx = tokenizer.convert_tokens_to_ids(tokens)\n",
    "print(tokens)\n",
    "print(idx)"
   ]
  },
  {
   "cell_type": "code",
   "execution_count": 14,
   "metadata": {},
   "outputs": [],
   "source": [
    "json.dump(tokenizer.vocab, open(vocab_name, \"w\"))"
   ]
  },
  {
   "cell_type": "code",
   "execution_count": null,
   "metadata": {},
   "outputs": [],
   "source": [
    "seqdata = {'summary':[], 'document':[]}\n",
    "valseqdata = {'summary':[], 'document':[]}\n",
    "\n",
    "with Pool(num_threads) as p:\n",
    "    chunksize = 200\n",
    "    summ_seqs = list(tqdm(p.imap(tokenizer.convert_tokens_to_ids, summaries, chunksize=chunksize), total=num_summ))\n",
    "    docu_seqs = list(tqdm(p.imap(tokenizer.convert_tokens_to_ids, articles, chunksize=chunksize), total=num_summ))\n",
    "\n",
    "for i in range(num_summ):\n",
    "    if i in val_set:\n",
    "        valseqdata['summary'].append(summ_seqs[i])\n",
    "        valseqdata['document'].append(docu_seqs[i])\n",
    "    else:\n",
    "        seqdata['summary'].append(summ_seqs[i])\n",
    "        seqdata['document'].append(docu_seqs[i])"
   ]
  },
  {
   "cell_type": "code",
   "execution_count": 15,
   "metadata": {},
   "outputs": [
    {
     "data": {
      "application/vnd.jupyter.widget-view+json": {
       "model_id": "8aefaf3d01c844fc9cad1518ea25097e",
       "version_major": 2,
       "version_minor": 0
      },
      "text/plain": [
       "HBox(children=(IntProgress(value=0, max=3803957), HTML(value='')))"
      ]
     },
     "metadata": {},
     "output_type": "display_data"
    },
    {
     "name": "stdout",
     "output_type": "stream",
     "text": [
      "\n"
     ]
    },
    {
     "data": {
      "application/vnd.jupyter.widget-view+json": {
       "model_id": "1af856e270d04562b6fe12d610356ec3",
       "version_major": 2,
       "version_minor": 0
      },
      "text/plain": [
       "HBox(children=(IntProgress(value=0, max=3803957), HTML(value='')))"
      ]
     },
     "metadata": {},
     "output_type": "display_data"
    },
    {
     "name": "stdout",
     "output_type": "stream",
     "text": [
      "\n",
      "3766122 37835\n"
     ]
    }
   ],
   "source": [
    "seqdata = {'summary':[], 'document':[]}\n",
    "valseqdata = {'summary':[], 'document':[]}\n",
    "# num_summ = len(data) / 2\n",
    "val_set = np.random.randint(0, num_summ, size=int(validation_split*num_summ))\n",
    "for i,words in tqdm(enumerate(summaries), total=num_summ):    \n",
    "    seq = tokenizer.convert_tokens_to_ids(words)\n",
    "    if i in val_set:\n",
    "        valseqdata['summary'].append(seq)\n",
    "    else:\n",
    "        seqdata['summary'].append(seq)\n",
    "for i,words in tqdm(enumerate(articles), total=num_summ):\n",
    "    seq = tokenizer.convert_tokens_to_ids(words)\n",
    "    if i in val_set:\n",
    "        valseqdata['document'].append(seq)\n",
    "    else:\n",
    "        seqdata['document'].append(seq)\n",
    "print(len(seqdata['document']), len(valseqdata['document']))"
   ]
  },
  {
   "cell_type": "code",
   "execution_count": 19,
   "metadata": {},
   "outputs": [],
   "source": [
    "json.dump(seqdata, open(data_seq_name, \"w\"))\n",
    "json.dump(valseqdata, open(valid_seq_name, \"w\"))"
   ]
  },
  {
   "cell_type": "code",
   "execution_count": 20,
   "metadata": {},
   "outputs": [],
   "source": [
    "lengths = []\n",
    "key = 'document'\n",
    "for doc in seqdata[key]:\n",
    "    lens = len(doc)\n",
    "    lengths.append(lens)"
   ]
  },
  {
   "cell_type": "code",
   "execution_count": 22,
   "metadata": {},
   "outputs": [
    {
     "data": {
      "image/png": "[encoded data removed]",
      "text/plain": [
       "<Figure size 432x288 with 1 Axes>"
      ]
     },
     "metadata": {
      "needs_background": "light"
     },
     "output_type": "display_data"
    }
   ],
   "source": [
    "import matplotlib.pyplot as plt\n",
    "plt.hist(lengths, 50)\n",
    "plt.title(key +' length')\n",
    "plt.show()"
   ]
  },
  {
   "cell_type": "code",
   "execution_count": null,
   "metadata": {},
   "outputs": [],
   "source": []
  }
 ],
 "metadata": {
  "kernelspec": {
   "display_name": "Python 3",
   "language": "python",
   "name": "python3"
  },
  "language_info": {
   "codemirror_mode": {
    "name": "ipython",
    "version": 3
   },
   "file_extension": ".py",
   "mimetype": "text/x-python",
   "name": "python",
   "nbconvert_exporter": "python",
   "pygments_lexer": "ipython3",
   "version": "3.7.1"
  }
 },
 "nbformat": 4,
 "nbformat_minor": 2
}
